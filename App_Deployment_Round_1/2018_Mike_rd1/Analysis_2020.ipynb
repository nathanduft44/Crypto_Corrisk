{
 "cells": [
  {
   "cell_type": "code",
   "execution_count": 138,
   "id": "08cd4729",
   "metadata": {},
   "outputs": [
    {
     "data": {
      "text/plain": [
       "'\\nFor now, we keep it simple. If we need to expand, we can. \\nWe are taking what we need to in order to understand how each basket of currencies \\nis correlated to the market proxy (bitcoin)\\n'"
      ]
     },
     "execution_count": 138,
     "metadata": {},
     "output_type": "execute_result"
    }
   ],
   "source": [
    "# GOAL: HAVE EACH ANALYSIS SECTION COMPUTE A STANDARD SET OF CALCULATIONS FOR RISK METRICS AND CORRELATION\n",
    "\n",
    "\"\"\"\n",
    "For now, we keep it simple. If we need to expand, we can. \n",
    "We are taking what we need to in order to understand how each basket of currencies \n",
    "is correlated to the market proxy (bitcoin)\n",
    "\"\"\""
   ]
  },
  {
   "cell_type": "code",
   "execution_count": 139,
   "id": "3b9f27ca",
   "metadata": {},
   "outputs": [],
   "source": [
    "# STEP 1: IMPORT DEPENDENCIES\n",
    "#For basic calculations:\n",
    "import pandas as pd\n",
    "import numpy as np\n",
    "import csv\n",
    "from pathlib import Path\n",
    "import hvplot.pandas\n",
    "\n",
    "#For Heatmap:\n",
    "import seaborn as sns\n",
    "%matplotlib inline"
   ]
  },
  {
   "cell_type": "code",
   "execution_count": 140,
   "id": "98d18035",
   "metadata": {},
   "outputs": [],
   "source": [
    "# STEP 2: IMPORT DATA AS DATAFRAME\n",
    "\"\"\"\n",
    "Determnine if we are reading csv data, running individual api calls, or querying an in-house database\n",
    "\"\"\"\n",
    "#reading in csv data\n",
    "df_2020 = pd.read_csv(\n",
    "   Path('./Data_Folder/2020_data.csv')\n",
    ").set_index('Month')"
   ]
  },
  {
   "cell_type": "code",
   "execution_count": 141,
   "id": "7763b3df",
   "metadata": {},
   "outputs": [
    {
     "data": {
      "text/html": [
       "<div>\n",
       "<style scoped>\n",
       "    .dataframe tbody tr th:only-of-type {\n",
       "        vertical-align: middle;\n",
       "    }\n",
       "\n",
       "    .dataframe tbody tr th {\n",
       "        vertical-align: top;\n",
       "    }\n",
       "\n",
       "    .dataframe thead th {\n",
       "        text-align: right;\n",
       "    }\n",
       "</style>\n",
       "<table border=\"1\" class=\"dataframe\">\n",
       "  <thead>\n",
       "    <tr style=\"text-align: right;\">\n",
       "      <th></th>\n",
       "      <th>price_open</th>\n",
       "      <th>price_close</th>\n",
       "      <th>volume_traded</th>\n",
       "      <th>price_open.1</th>\n",
       "      <th>price_close.1</th>\n",
       "      <th>volume_traded.1</th>\n",
       "      <th>price_open.2</th>\n",
       "      <th>price_close.2</th>\n",
       "      <th>volume_traded.2</th>\n",
       "      <th>price_open.3</th>\n",
       "      <th>...</th>\n",
       "      <th>volume_traded.9</th>\n",
       "      <th>price_open.10</th>\n",
       "      <th>price_close.10</th>\n",
       "      <th>volume_traded.10</th>\n",
       "      <th>price_open.11</th>\n",
       "      <th>price_close.11</th>\n",
       "      <th>volume_traded.11</th>\n",
       "      <th>price_open.12</th>\n",
       "      <th>price_close.12</th>\n",
       "      <th>volume_traded.12</th>\n",
       "    </tr>\n",
       "  </thead>\n",
       "  <tbody>\n",
       "    <tr>\n",
       "      <th>count</th>\n",
       "      <td>12.000000</td>\n",
       "      <td>12.000000</td>\n",
       "      <td>12.000000</td>\n",
       "      <td>12.000000</td>\n",
       "      <td>12.000000</td>\n",
       "      <td>1.200000e+01</td>\n",
       "      <td>12.000000</td>\n",
       "      <td>12.000000</td>\n",
       "      <td>1.200000e+01</td>\n",
       "      <td>12.000000</td>\n",
       "      <td>...</td>\n",
       "      <td>12.000000</td>\n",
       "      <td>12.000000</td>\n",
       "      <td>12.000000</td>\n",
       "      <td>1.200000e+01</td>\n",
       "      <td>12.000000</td>\n",
       "      <td>12.000000</td>\n",
       "      <td>1.200000e+01</td>\n",
       "      <td>12.000000</td>\n",
       "      <td>12.000000</td>\n",
       "      <td>12.000000</td>\n",
       "    </tr>\n",
       "    <tr>\n",
       "      <th>mean</th>\n",
       "      <td>10496.550000</td>\n",
       "      <td>12313.816667</td>\n",
       "      <td>212354.315342</td>\n",
       "      <td>288.835000</td>\n",
       "      <td>339.648333</td>\n",
       "      <td>2.482951e+06</td>\n",
       "      <td>54.052500</td>\n",
       "      <td>60.990833</td>\n",
       "      <td>1.269193e+06</td>\n",
       "      <td>0.083224</td>\n",
       "      <td>...</td>\n",
       "      <td>188946.455437</td>\n",
       "      <td>0.002523</td>\n",
       "      <td>0.002670</td>\n",
       "      <td>6.169100e+08</td>\n",
       "      <td>0.999925</td>\n",
       "      <td>1.000333</td>\n",
       "      <td>3.627269e+08</td>\n",
       "      <td>79.414083</td>\n",
       "      <td>84.371167</td>\n",
       "      <td>121399.537179</td>\n",
       "    </tr>\n",
       "    <tr>\n",
       "      <th>std</th>\n",
       "      <td>3532.204889</td>\n",
       "      <td>6233.944761</td>\n",
       "      <td>117168.672863</td>\n",
       "      <td>143.874316</td>\n",
       "      <td>183.920831</td>\n",
       "      <td>9.696118e+05</td>\n",
       "      <td>14.022454</td>\n",
       "      <td>24.065233</td>\n",
       "      <td>8.368984e+05</td>\n",
       "      <td>0.044750</td>\n",
       "      <td>...</td>\n",
       "      <td>150245.890548</td>\n",
       "      <td>0.000947</td>\n",
       "      <td>0.000876</td>\n",
       "      <td>3.058546e+08</td>\n",
       "      <td>0.001488</td>\n",
       "      <td>0.000929</td>\n",
       "      <td>3.664896e+08</td>\n",
       "      <td>20.320669</td>\n",
       "      <td>17.098287</td>\n",
       "      <td>70593.789777</td>\n",
       "    </tr>\n",
       "    <tr>\n",
       "      <th>min</th>\n",
       "      <td>6422.200000</td>\n",
       "      <td>6422.100000</td>\n",
       "      <td>117605.760800</td>\n",
       "      <td>128.660000</td>\n",
       "      <td>133.100000</td>\n",
       "      <td>1.371748e+06</td>\n",
       "      <td>39.170000</td>\n",
       "      <td>39.250000</td>\n",
       "      <td>4.411064e+05</td>\n",
       "      <td>0.030500</td>\n",
       "      <td>...</td>\n",
       "      <td>65244.319270</td>\n",
       "      <td>0.001240</td>\n",
       "      <td>0.001280</td>\n",
       "      <td>1.209589e+08</td>\n",
       "      <td>0.996200</td>\n",
       "      <td>0.998300</td>\n",
       "      <td>5.839821e+07</td>\n",
       "      <td>40.855000</td>\n",
       "      <td>64.946000</td>\n",
       "      <td>42567.564520</td>\n",
       "    </tr>\n",
       "    <tr>\n",
       "      <th>25%</th>\n",
       "      <td>8602.750000</td>\n",
       "      <td>9007.825000</td>\n",
       "      <td>128650.037875</td>\n",
       "      <td>199.540000</td>\n",
       "      <td>214.885000</td>\n",
       "      <td>1.755541e+06</td>\n",
       "      <td>44.487500</td>\n",
       "      <td>46.077500</td>\n",
       "      <td>8.393458e+05</td>\n",
       "      <td>0.047491</td>\n",
       "      <td>...</td>\n",
       "      <td>100757.578208</td>\n",
       "      <td>0.001990</td>\n",
       "      <td>0.002215</td>\n",
       "      <td>4.056498e+08</td>\n",
       "      <td>0.999700</td>\n",
       "      <td>0.999950</td>\n",
       "      <td>1.628720e+08</td>\n",
       "      <td>68.796750</td>\n",
       "      <td>69.954750</td>\n",
       "      <td>64155.827247</td>\n",
       "    </tr>\n",
       "    <tr>\n",
       "      <th>50%</th>\n",
       "      <td>9392.500000</td>\n",
       "      <td>10111.150000</td>\n",
       "      <td>170716.969300</td>\n",
       "      <td>228.565000</td>\n",
       "      <td>289.380000</td>\n",
       "      <td>2.476758e+06</td>\n",
       "      <td>51.070000</td>\n",
       "      <td>56.975000</td>\n",
       "      <td>9.579496e+05</td>\n",
       "      <td>0.078589</td>\n",
       "      <td>...</td>\n",
       "      <td>141421.430750</td>\n",
       "      <td>0.002430</td>\n",
       "      <td>0.002640</td>\n",
       "      <td>5.231726e+08</td>\n",
       "      <td>1.000200</td>\n",
       "      <td>1.000350</td>\n",
       "      <td>2.282132e+08</td>\n",
       "      <td>78.696500</td>\n",
       "      <td>81.723000</td>\n",
       "      <td>95042.860280</td>\n",
       "    </tr>\n",
       "    <tr>\n",
       "      <th>75%</th>\n",
       "      <td>11431.375000</td>\n",
       "      <td>12194.950000</td>\n",
       "      <td>233791.201300</td>\n",
       "      <td>366.430000</td>\n",
       "      <td>398.602500</td>\n",
       "      <td>2.673970e+06</td>\n",
       "      <td>58.957500</td>\n",
       "      <td>62.667500</td>\n",
       "      <td>1.326009e+06</td>\n",
       "      <td>0.106833</td>\n",
       "      <td>...</td>\n",
       "      <td>201867.488375</td>\n",
       "      <td>0.003063</td>\n",
       "      <td>0.003090</td>\n",
       "      <td>8.779881e+08</td>\n",
       "      <td>1.000750</td>\n",
       "      <td>1.000925</td>\n",
       "      <td>3.971002e+08</td>\n",
       "      <td>85.506250</td>\n",
       "      <td>89.586000</td>\n",
       "      <td>170255.549150</td>\n",
       "    </tr>\n",
       "    <tr>\n",
       "      <th>max</th>\n",
       "      <td>19706.500000</td>\n",
       "      <td>28959.200000</td>\n",
       "      <td>493231.233300</td>\n",
       "      <td>616.840000</td>\n",
       "      <td>737.450000</td>\n",
       "      <td>4.415679e+06</td>\n",
       "      <td>87.830000</td>\n",
       "      <td>124.550000</td>\n",
       "      <td>3.369866e+06</td>\n",
       "      <td>0.172280</td>\n",
       "      <td>...</td>\n",
       "      <td>606228.025100</td>\n",
       "      <td>0.004580</td>\n",
       "      <td>0.004580</td>\n",
       "      <td>1.128243e+09</td>\n",
       "      <td>1.001800</td>\n",
       "      <td>1.001700</td>\n",
       "      <td>1.368381e+09</td>\n",
       "      <td>115.514000</td>\n",
       "      <td>115.961000</td>\n",
       "      <td>257263.214000</td>\n",
       "    </tr>\n",
       "  </tbody>\n",
       "</table>\n",
       "<p>8 rows × 39 columns</p>\n",
       "</div>"
      ],
      "text/plain": [
       "         price_open   price_close  volume_traded  price_open.1  price_close.1  \\\n",
       "count     12.000000     12.000000      12.000000     12.000000      12.000000   \n",
       "mean   10496.550000  12313.816667  212354.315342    288.835000     339.648333   \n",
       "std     3532.204889   6233.944761  117168.672863    143.874316     183.920831   \n",
       "min     6422.200000   6422.100000  117605.760800    128.660000     133.100000   \n",
       "25%     8602.750000   9007.825000  128650.037875    199.540000     214.885000   \n",
       "50%     9392.500000  10111.150000  170716.969300    228.565000     289.380000   \n",
       "75%    11431.375000  12194.950000  233791.201300    366.430000     398.602500   \n",
       "max    19706.500000  28959.200000  493231.233300    616.840000     737.450000   \n",
       "\n",
       "       volume_traded.1  price_open.2  price_close.2  volume_traded.2  \\\n",
       "count     1.200000e+01     12.000000      12.000000     1.200000e+01   \n",
       "mean      2.482951e+06     54.052500      60.990833     1.269193e+06   \n",
       "std       9.696118e+05     14.022454      24.065233     8.368984e+05   \n",
       "min       1.371748e+06     39.170000      39.250000     4.411064e+05   \n",
       "25%       1.755541e+06     44.487500      46.077500     8.393458e+05   \n",
       "50%       2.476758e+06     51.070000      56.975000     9.579496e+05   \n",
       "75%       2.673970e+06     58.957500      62.667500     1.326009e+06   \n",
       "max       4.415679e+06     87.830000     124.550000     3.369866e+06   \n",
       "\n",
       "       price_open.3  ...  volume_traded.9  price_open.10  price_close.10  \\\n",
       "count     12.000000  ...        12.000000      12.000000       12.000000   \n",
       "mean       0.083224  ...    188946.455437       0.002523        0.002670   \n",
       "std        0.044750  ...    150245.890548       0.000947        0.000876   \n",
       "min        0.030500  ...     65244.319270       0.001240        0.001280   \n",
       "25%        0.047491  ...    100757.578208       0.001990        0.002215   \n",
       "50%        0.078589  ...    141421.430750       0.002430        0.002640   \n",
       "75%        0.106833  ...    201867.488375       0.003063        0.003090   \n",
       "max        0.172280  ...    606228.025100       0.004580        0.004580   \n",
       "\n",
       "       volume_traded.10  price_open.11  price_close.11  volume_traded.11  \\\n",
       "count      1.200000e+01      12.000000       12.000000      1.200000e+01   \n",
       "mean       6.169100e+08       0.999925        1.000333      3.627269e+08   \n",
       "std        3.058546e+08       0.001488        0.000929      3.664896e+08   \n",
       "min        1.209589e+08       0.996200        0.998300      5.839821e+07   \n",
       "25%        4.056498e+08       0.999700        0.999950      1.628720e+08   \n",
       "50%        5.231726e+08       1.000200        1.000350      2.282132e+08   \n",
       "75%        8.779881e+08       1.000750        1.000925      3.971002e+08   \n",
       "max        1.128243e+09       1.001800        1.001700      1.368381e+09   \n",
       "\n",
       "       price_open.12  price_close.12  volume_traded.12  \n",
       "count      12.000000       12.000000         12.000000  \n",
       "mean       79.414083       84.371167     121399.537179  \n",
       "std        20.320669       17.098287      70593.789777  \n",
       "min        40.855000       64.946000      42567.564520  \n",
       "25%        68.796750       69.954750      64155.827247  \n",
       "50%        78.696500       81.723000      95042.860280  \n",
       "75%        85.506250       89.586000     170255.549150  \n",
       "max       115.514000      115.961000     257263.214000  \n",
       "\n",
       "[8 rows x 39 columns]"
      ]
     },
     "execution_count": 141,
     "metadata": {},
     "output_type": "execute_result"
    }
   ],
   "source": [
    "# View the dataframe\n",
    "df_2020.describe()"
   ]
  },
  {
   "cell_type": "code",
   "execution_count": 142,
   "id": "427a619e",
   "metadata": {},
   "outputs": [
    {
     "data": {
      "text/plain": [
       "Index(['btc_start_date', 'price_open', 'price_close', 'volume_traded',\n",
       "       'eth_start_date', 'price_open.1', 'price_close.1', 'volume_traded.1',\n",
       "       'ltc_start_date', 'price_open.2', 'price_close.2', 'volume_traded.2',\n",
       "       'ada_start_date', 'price_open.3', 'price_close.3', 'volume_traded.3',\n",
       "       'doge_start_date', 'price_open.4', 'price_close.4', 'volume_traded.4',\n",
       "       'xlm_start_date', 'price_open.5', 'price_close.5', 'volume_traded.5',\n",
       "       'xrp_start_date', 'price_open.6', 'price_close.6', 'volume_traded.6',\n",
       "       'lisk_start_date', 'price_open.7', 'price_close.7', 'volume_traded.7',\n",
       "       'waves_start_date', 'price_open.8', 'price_close.8', 'volume_traded.8',\n",
       "       'zec_start_date', 'price_open.9', 'price_close.9', 'volume_traded.9',\n",
       "       'sc_start_date', 'price_open.10', 'price_close.10', 'volume_traded.10',\n",
       "       'usdt_start_date', 'price_open.11', 'price_close.11',\n",
       "       'volume_traded.11', 'dash_start_date', 'price_open.12',\n",
       "       'price_close.12', 'volume_traded.12'],\n",
       "      dtype='object')"
      ]
     },
     "execution_count": 142,
     "metadata": {},
     "output_type": "execute_result"
    }
   ],
   "source": [
    "# review column names\n",
    "df_2020.columns"
   ]
  },
  {
   "cell_type": "code",
   "execution_count": 143,
   "id": "ede826ee",
   "metadata": {},
   "outputs": [
    {
     "data": {
      "text/html": [
       "<div>\n",
       "<style scoped>\n",
       "    .dataframe tbody tr th:only-of-type {\n",
       "        vertical-align: middle;\n",
       "    }\n",
       "\n",
       "    .dataframe tbody tr th {\n",
       "        vertical-align: top;\n",
       "    }\n",
       "\n",
       "    .dataframe thead th {\n",
       "        text-align: right;\n",
       "    }\n",
       "</style>\n",
       "<table border=\"1\" class=\"dataframe\">\n",
       "  <thead>\n",
       "    <tr style=\"text-align: right;\">\n",
       "      <th></th>\n",
       "      <th>BTC_Monthly_Close</th>\n",
       "      <th>ETH_Monthly_Close</th>\n",
       "      <th>LTC_Monthly_Close</th>\n",
       "      <th>ADA_Monthly_Close</th>\n",
       "      <th>XLM_Monthly_Close</th>\n",
       "      <th>XRP_Monthly_Close</th>\n",
       "      <th>LISK_Monthly_Close</th>\n",
       "      <th>WAVES_Monthly_Close</th>\n",
       "      <th>ZEC_Monthly_Close</th>\n",
       "      <th>SC_Monthly_Close</th>\n",
       "      <th>USDT_Monthly_Close</th>\n",
       "      <th>DASH_Monthly_Close</th>\n",
       "      <th>DOGE_Monthly_Close</th>\n",
       "    </tr>\n",
       "    <tr>\n",
       "      <th>Month</th>\n",
       "      <th></th>\n",
       "      <th></th>\n",
       "      <th></th>\n",
       "      <th></th>\n",
       "      <th></th>\n",
       "      <th></th>\n",
       "      <th></th>\n",
       "      <th></th>\n",
       "      <th></th>\n",
       "      <th></th>\n",
       "      <th></th>\n",
       "      <th></th>\n",
       "      <th></th>\n",
       "    </tr>\n",
       "  </thead>\n",
       "  <tbody>\n",
       "    <tr>\n",
       "      <th>January</th>\n",
       "      <td>9339.3</td>\n",
       "      <td>179.68</td>\n",
       "      <td>67.76</td>\n",
       "      <td>0.053794</td>\n",
       "      <td>0.002364</td>\n",
       "      <td>0.060831</td>\n",
       "      <td>0.23890</td>\n",
       "      <td>1.149000</td>\n",
       "      <td>0.8841</td>\n",
       "      <td>66.20</td>\n",
       "      <td>0.00160</td>\n",
       "      <td>0.9983</td>\n",
       "      <td>115.961</td>\n",
       "    </tr>\n",
       "    <tr>\n",
       "      <th>February</th>\n",
       "      <td>8529.1</td>\n",
       "      <td>217.78</td>\n",
       "      <td>58.13</td>\n",
       "      <td>0.047284</td>\n",
       "      <td>0.002213</td>\n",
       "      <td>0.056963</td>\n",
       "      <td>0.22883</td>\n",
       "      <td>1.281456</td>\n",
       "      <td>1.1298</td>\n",
       "      <td>49.00</td>\n",
       "      <td>0.00227</td>\n",
       "      <td>1.0002</td>\n",
       "      <td>85.254</td>\n",
       "    </tr>\n",
       "    <tr>\n",
       "      <th>March</th>\n",
       "      <td>6422.1</td>\n",
       "      <td>133.10</td>\n",
       "      <td>39.25</td>\n",
       "      <td>0.030575</td>\n",
       "      <td>0.001790</td>\n",
       "      <td>0.040939</td>\n",
       "      <td>0.17374</td>\n",
       "      <td>0.977245</td>\n",
       "      <td>0.9968</td>\n",
       "      <td>30.93</td>\n",
       "      <td>0.00128</td>\n",
       "      <td>1.0017</td>\n",
       "      <td>64.946</td>\n",
       "    </tr>\n",
       "    <tr>\n",
       "      <th>April</th>\n",
       "      <td>8629.6</td>\n",
       "      <td>206.20</td>\n",
       "      <td>46.37</td>\n",
       "      <td>0.047481</td>\n",
       "      <td>0.002337</td>\n",
       "      <td>0.067277</td>\n",
       "      <td>0.21178</td>\n",
       "      <td>1.218623</td>\n",
       "      <td>1.0552</td>\n",
       "      <td>44.61</td>\n",
       "      <td>0.00205</td>\n",
       "      <td>1.0005</td>\n",
       "      <td>80.817</td>\n",
       "    </tr>\n",
       "    <tr>\n",
       "      <th>May</th>\n",
       "      <td>9447.4</td>\n",
       "      <td>231.76</td>\n",
       "      <td>45.59</td>\n",
       "      <td>0.074002</td>\n",
       "      <td>0.002538</td>\n",
       "      <td>0.070787</td>\n",
       "      <td>0.20239</td>\n",
       "      <td>1.197980</td>\n",
       "      <td>1.0908</td>\n",
       "      <td>51.77</td>\n",
       "      <td>0.00235</td>\n",
       "      <td>0.9994</td>\n",
       "      <td>76.331</td>\n",
       "    </tr>\n",
       "    <tr>\n",
       "      <th>June</th>\n",
       "      <td>9133.9</td>\n",
       "      <td>225.68</td>\n",
       "      <td>41.25</td>\n",
       "      <td>0.083837</td>\n",
       "      <td>0.002303</td>\n",
       "      <td>0.066922</td>\n",
       "      <td>0.17538</td>\n",
       "      <td>1.145737</td>\n",
       "      <td>1.1258</td>\n",
       "      <td>51.51</td>\n",
       "      <td>0.00281</td>\n",
       "      <td>0.9998</td>\n",
       "      <td>68.160</td>\n",
       "    </tr>\n",
       "    <tr>\n",
       "      <th>July</th>\n",
       "      <td>11356.2</td>\n",
       "      <td>347.00</td>\n",
       "      <td>58.29</td>\n",
       "      <td>0.140104</td>\n",
       "      <td>0.003221</td>\n",
       "      <td>0.096714</td>\n",
       "      <td>0.26013</td>\n",
       "      <td>1.280154</td>\n",
       "      <td>1.5239</td>\n",
       "      <td>74.36</td>\n",
       "      <td>0.00305</td>\n",
       "      <td>1.0015</td>\n",
       "      <td>82.629</td>\n",
       "    </tr>\n",
       "    <tr>\n",
       "      <th>August</th>\n",
       "      <td>11656.9</td>\n",
       "      <td>433.98</td>\n",
       "      <td>60.97</td>\n",
       "      <td>0.122566</td>\n",
       "      <td>0.003227</td>\n",
       "      <td>0.096914</td>\n",
       "      <td>0.28132</td>\n",
       "      <td>1.799000</td>\n",
       "      <td>3.6183</td>\n",
       "      <td>78.72</td>\n",
       "      <td>0.00458</td>\n",
       "      <td>1.0002</td>\n",
       "      <td>86.271</td>\n",
       "    </tr>\n",
       "    <tr>\n",
       "      <th>September</th>\n",
       "      <td>10774.9</td>\n",
       "      <td>359.69</td>\n",
       "      <td>46.24</td>\n",
       "      <td>0.101360</td>\n",
       "      <td>0.002628</td>\n",
       "      <td>0.074600</td>\n",
       "      <td>0.24184</td>\n",
       "      <td>1.196873</td>\n",
       "      <td>2.5682</td>\n",
       "      <td>63.94</td>\n",
       "      <td>0.00308</td>\n",
       "      <td>1.0000</td>\n",
       "      <td>69.126</td>\n",
       "    </tr>\n",
       "    <tr>\n",
       "      <th>October</th>\n",
       "      <td>13809.1</td>\n",
       "      <td>386.81</td>\n",
       "      <td>55.82</td>\n",
       "      <td>0.093183</td>\n",
       "      <td>0.002575</td>\n",
       "      <td>0.077742</td>\n",
       "      <td>0.23999</td>\n",
       "      <td>1.052737</td>\n",
       "      <td>3.2141</td>\n",
       "      <td>58.12</td>\n",
       "      <td>0.00247</td>\n",
       "      <td>1.0009</td>\n",
       "      <td>70.231</td>\n",
       "    </tr>\n",
       "    <tr>\n",
       "      <th>November</th>\n",
       "      <td>19708.1</td>\n",
       "      <td>616.65</td>\n",
       "      <td>87.67</td>\n",
       "      <td>0.172279</td>\n",
       "      <td>0.003545</td>\n",
       "      <td>0.203011</td>\n",
       "      <td>0.66415</td>\n",
       "      <td>1.328984</td>\n",
       "      <td>7.0667</td>\n",
       "      <td>78.96</td>\n",
       "      <td>0.00338</td>\n",
       "      <td>1.0005</td>\n",
       "      <td>113.197</td>\n",
       "    </tr>\n",
       "    <tr>\n",
       "      <th>December</th>\n",
       "      <td>28959.2</td>\n",
       "      <td>737.45</td>\n",
       "      <td>124.55</td>\n",
       "      <td>0.181689</td>\n",
       "      <td>0.004684</td>\n",
       "      <td>0.127627</td>\n",
       "      <td>0.21950</td>\n",
       "      <td>1.146250</td>\n",
       "      <td>6.2000</td>\n",
       "      <td>63.89</td>\n",
       "      <td>0.00312</td>\n",
       "      <td>1.0010</td>\n",
       "      <td>99.531</td>\n",
       "    </tr>\n",
       "  </tbody>\n",
       "</table>\n",
       "</div>"
      ],
      "text/plain": [
       "           BTC_Monthly_Close  ETH_Monthly_Close  LTC_Monthly_Close  \\\n",
       "Month                                                                \n",
       "January               9339.3             179.68              67.76   \n",
       "February              8529.1             217.78              58.13   \n",
       "March                 6422.1             133.10              39.25   \n",
       "April                 8629.6             206.20              46.37   \n",
       "May                   9447.4             231.76              45.59   \n",
       "June                  9133.9             225.68              41.25   \n",
       "July                 11356.2             347.00              58.29   \n",
       "August               11656.9             433.98              60.97   \n",
       "September            10774.9             359.69              46.24   \n",
       "October              13809.1             386.81              55.82   \n",
       "November             19708.1             616.65              87.67   \n",
       "December             28959.2             737.45             124.55   \n",
       "\n",
       "           ADA_Monthly_Close  XLM_Monthly_Close  XRP_Monthly_Close  \\\n",
       "Month                                                                \n",
       "January             0.053794           0.002364           0.060831   \n",
       "February            0.047284           0.002213           0.056963   \n",
       "March               0.030575           0.001790           0.040939   \n",
       "April               0.047481           0.002337           0.067277   \n",
       "May                 0.074002           0.002538           0.070787   \n",
       "June                0.083837           0.002303           0.066922   \n",
       "July                0.140104           0.003221           0.096714   \n",
       "August              0.122566           0.003227           0.096914   \n",
       "September           0.101360           0.002628           0.074600   \n",
       "October             0.093183           0.002575           0.077742   \n",
       "November            0.172279           0.003545           0.203011   \n",
       "December            0.181689           0.004684           0.127627   \n",
       "\n",
       "           LISK_Monthly_Close  WAVES_Monthly_Close  ZEC_Monthly_Close  \\\n",
       "Month                                                                   \n",
       "January               0.23890             1.149000             0.8841   \n",
       "February              0.22883             1.281456             1.1298   \n",
       "March                 0.17374             0.977245             0.9968   \n",
       "April                 0.21178             1.218623             1.0552   \n",
       "May                   0.20239             1.197980             1.0908   \n",
       "June                  0.17538             1.145737             1.1258   \n",
       "July                  0.26013             1.280154             1.5239   \n",
       "August                0.28132             1.799000             3.6183   \n",
       "September             0.24184             1.196873             2.5682   \n",
       "October               0.23999             1.052737             3.2141   \n",
       "November              0.66415             1.328984             7.0667   \n",
       "December              0.21950             1.146250             6.2000   \n",
       "\n",
       "           SC_Monthly_Close  USDT_Monthly_Close  DASH_Monthly_Close  \\\n",
       "Month                                                                 \n",
       "January               66.20             0.00160              0.9983   \n",
       "February              49.00             0.00227              1.0002   \n",
       "March                 30.93             0.00128              1.0017   \n",
       "April                 44.61             0.00205              1.0005   \n",
       "May                   51.77             0.00235              0.9994   \n",
       "June                  51.51             0.00281              0.9998   \n",
       "July                  74.36             0.00305              1.0015   \n",
       "August                78.72             0.00458              1.0002   \n",
       "September             63.94             0.00308              1.0000   \n",
       "October               58.12             0.00247              1.0009   \n",
       "November              78.96             0.00338              1.0005   \n",
       "December              63.89             0.00312              1.0010   \n",
       "\n",
       "           DOGE_Monthly_Close  \n",
       "Month                          \n",
       "January               115.961  \n",
       "February               85.254  \n",
       "March                  64.946  \n",
       "April                  80.817  \n",
       "May                    76.331  \n",
       "June                   68.160  \n",
       "July                   82.629  \n",
       "August                 86.271  \n",
       "September              69.126  \n",
       "October                70.231  \n",
       "November              113.197  \n",
       "December               99.531  "
      ]
     },
     "execution_count": 143,
     "metadata": {},
     "output_type": "execute_result"
    }
   ],
   "source": [
    "# Clean the dataframe to only include the closing price\n",
    "final_2020_df = pd.DataFrame()\n",
    "final_2020_df['BTC_Monthly_Close'] = df_2020['price_close']\n",
    "final_2020_df['ETH_Monthly_Close'] = df_2020['price_close.1']\n",
    "final_2020_df['LTC_Monthly_Close'] = df_2020['price_close.2']\n",
    "final_2020_df['ADA_Monthly_Close'] = df_2020['price_close.3']\n",
    "final_2020_df['XLM_Monthly_Close'] = df_2020['price_close.4']\n",
    "final_2020_df['XRP_Monthly_Close'] = df_2020['price_close.5']\n",
    "final_2020_df['LISK_Monthly_Close'] = df_2020['price_close.6']\n",
    "final_2020_df['WAVES_Monthly_Close'] = df_2020['price_close.7']\n",
    "final_2020_df['ZEC_Monthly_Close'] = df_2020['price_close.8']\n",
    "final_2020_df['SC_Monthly_Close'] = df_2020['price_close.9']\n",
    "final_2020_df['USDT_Monthly_Close'] = df_2020['price_close.10']\n",
    "final_2020_df['DASH_Monthly_Close'] = df_2020['price_close.11']\n",
    "final_2020_df['DOGE_Monthly_Close'] = df_2020['price_close.12']\n",
    "\n",
    "final_2020_df"
   ]
  },
  {
   "cell_type": "code",
   "execution_count": 144,
   "id": "2e0c589c",
   "metadata": {},
   "outputs": [
    {
     "data": {
      "text/plain": [
       "Month\n",
       "January      0.000000\n",
       "February    -0.086752\n",
       "March       -0.247037\n",
       "April        0.343735\n",
       "May          0.094767\n",
       "June        -0.033184\n",
       "July         0.243302\n",
       "August       0.026479\n",
       "September   -0.075663\n",
       "October      0.281599\n",
       "November     0.427182\n",
       "December     0.469406\n",
       "Name: BTC_Monthly_Close, dtype: float64"
      ]
     },
     "execution_count": 144,
     "metadata": {},
     "output_type": "execute_result"
    }
   ],
   "source": [
    "# STEP 3: CALCULATE Monthly RETURNS FOR EACH CURRENCY IN Designated Time range from  DATAFRAME, DROP NULL VALUES\n",
    "\"\"\"\n",
    "\n",
    "Will need: .pct_change().dropna(inplace = True)\n",
    "\n",
    "\"\"\"\n",
    "btc_2020_df = final_2020_df['BTC_Monthly_Close'].pct_change().fillna(0)\n",
    "btc_2020_df"
   ]
  },
  {
   "cell_type": "code",
   "execution_count": 145,
   "id": "c0a8a879",
   "metadata": {},
   "outputs": [
    {
     "data": {
      "text/plain": [
       "Month\n",
       "January      0.000000\n",
       "February     0.212044\n",
       "March       -0.388833\n",
       "April        0.549211\n",
       "May          0.123957\n",
       "June        -0.026234\n",
       "July         0.537575\n",
       "August       0.250663\n",
       "September   -0.171183\n",
       "October      0.075398\n",
       "November     0.594194\n",
       "December     0.195897\n",
       "Name: ETH_Monthly_Close, dtype: float64"
      ]
     },
     "execution_count": 145,
     "metadata": {},
     "output_type": "execute_result"
    }
   ],
   "source": [
    "eth_2020_df = final_2020_df['ETH_Monthly_Close'].pct_change().fillna(0)\n",
    "eth_2020_df"
   ]
  },
  {
   "cell_type": "code",
   "execution_count": 146,
   "id": "777598d8",
   "metadata": {},
   "outputs": [
    {
     "data": {
      "text/plain": [
       "Month\n",
       "January      0.000000\n",
       "February    -0.142119\n",
       "March       -0.324789\n",
       "April        0.181401\n",
       "May         -0.016821\n",
       "June        -0.095196\n",
       "July         0.413091\n",
       "August       0.045977\n",
       "September   -0.241594\n",
       "October      0.207180\n",
       "November     0.570584\n",
       "December     0.420668\n",
       "Name: LTC_Monthly_Close, dtype: float64"
      ]
     },
     "execution_count": 146,
     "metadata": {},
     "output_type": "execute_result"
    }
   ],
   "source": [
    "ltc_2020_df = final_2020_df['LTC_Monthly_Close'].pct_change().fillna(0)\n",
    "ltc_2020_df"
   ]
  },
  {
   "cell_type": "code",
   "execution_count": 147,
   "id": "43b742d3",
   "metadata": {},
   "outputs": [
    {
     "data": {
      "text/plain": [
       "Month\n",
       "January      0.000000\n",
       "February    -0.121017\n",
       "March       -0.353375\n",
       "April        0.552935\n",
       "May          0.558560\n",
       "June         0.132902\n",
       "July         0.671148\n",
       "August      -0.125178\n",
       "September   -0.173017\n",
       "October     -0.080673\n",
       "November     0.848824\n",
       "December     0.054621\n",
       "Name: ADA_Monthly_Close, dtype: float64"
      ]
     },
     "execution_count": 147,
     "metadata": {},
     "output_type": "execute_result"
    }
   ],
   "source": [
    "ada_2020_df = final_2020_df['ADA_Monthly_Close'].pct_change().fillna(0)\n",
    "ada_2020_df"
   ]
  },
  {
   "cell_type": "code",
   "execution_count": 148,
   "id": "3c19654b",
   "metadata": {},
   "outputs": [
    {
     "data": {
      "text/plain": [
       "Month\n",
       "January      0.000000\n",
       "February    -0.063589\n",
       "March       -0.191253\n",
       "April        0.305810\n",
       "May          0.085736\n",
       "June        -0.092560\n",
       "July         0.398845\n",
       "August       0.001676\n",
       "September   -0.185602\n",
       "October     -0.020054\n",
       "November     0.376592\n",
       "December     0.321382\n",
       "Name: XLM_Monthly_Close, dtype: float64"
      ]
     },
     "execution_count": 148,
     "metadata": {},
     "output_type": "execute_result"
    }
   ],
   "source": [
    "xlm_2020_df = final_2020_df['XLM_Monthly_Close'].pct_change().fillna(0)\n",
    "xlm_2020_df"
   ]
  },
  {
   "cell_type": "code",
   "execution_count": 149,
   "id": "feae0660",
   "metadata": {},
   "outputs": [
    {
     "data": {
      "text/plain": [
       "Month\n",
       "January      0.000000\n",
       "February    -0.063586\n",
       "March       -0.281305\n",
       "April        0.643347\n",
       "May          0.052172\n",
       "June        -0.054600\n",
       "July         0.445175\n",
       "August       0.002068\n",
       "September   -0.230245\n",
       "October      0.042118\n",
       "November     1.611343\n",
       "December    -0.371330\n",
       "Name: XRP_Monthly_Close, dtype: float64"
      ]
     },
     "execution_count": 149,
     "metadata": {},
     "output_type": "execute_result"
    }
   ],
   "source": [
    "xrp_2020_df = final_2020_df['XRP_Monthly_Close'].pct_change().fillna(0)\n",
    "xrp_2020_df"
   ]
  },
  {
   "cell_type": "code",
   "execution_count": 150,
   "id": "bae28cdf",
   "metadata": {},
   "outputs": [
    {
     "data": {
      "text/plain": [
       "Month\n",
       "January      0.000000\n",
       "February    -0.042152\n",
       "March       -0.240746\n",
       "April        0.218948\n",
       "May         -0.044338\n",
       "June        -0.133455\n",
       "July         0.483236\n",
       "August       0.081459\n",
       "September   -0.140338\n",
       "October     -0.007650\n",
       "November     1.767407\n",
       "December    -0.669502\n",
       "Name: LISK_Monthly_Close, dtype: float64"
      ]
     },
     "execution_count": 150,
     "metadata": {},
     "output_type": "execute_result"
    }
   ],
   "source": [
    "lisk_2020_df = final_2020_df['LISK_Monthly_Close'].pct_change().fillna(0)\n",
    "lisk_2020_df"
   ]
  },
  {
   "cell_type": "code",
   "execution_count": 151,
   "id": "23560b85",
   "metadata": {},
   "outputs": [
    {
     "data": {
      "text/plain": [
       "Month\n",
       "January      0.000000\n",
       "February     0.115279\n",
       "March       -0.237395\n",
       "April        0.246998\n",
       "May         -0.016940\n",
       "June        -0.043609\n",
       "July         0.117319\n",
       "August       0.405300\n",
       "September   -0.334701\n",
       "October     -0.120427\n",
       "November     0.262408\n",
       "December    -0.137499\n",
       "Name: WAVES_Monthly_Close, dtype: float64"
      ]
     },
     "execution_count": 151,
     "metadata": {},
     "output_type": "execute_result"
    }
   ],
   "source": [
    "waves_2020_df = final_2020_df['WAVES_Monthly_Close'].pct_change().fillna(0)\n",
    "waves_2020_df"
   ]
  },
  {
   "cell_type": "code",
   "execution_count": 152,
   "id": "b1c11981",
   "metadata": {},
   "outputs": [
    {
     "data": {
      "text/plain": [
       "Month\n",
       "January      0.000000\n",
       "February     0.277910\n",
       "March       -0.117720\n",
       "April        0.058587\n",
       "May          0.033738\n",
       "June         0.032087\n",
       "July         0.353615\n",
       "August       1.374368\n",
       "September   -0.290219\n",
       "October      0.251499\n",
       "November     1.198656\n",
       "December    -0.122646\n",
       "Name: ZEC_Monthly_Close, dtype: float64"
      ]
     },
     "execution_count": 152,
     "metadata": {},
     "output_type": "execute_result"
    }
   ],
   "source": [
    "zec_2020_df = final_2020_df['ZEC_Monthly_Close'].pct_change().fillna(0)\n",
    "zec_2020_df"
   ]
  },
  {
   "cell_type": "code",
   "execution_count": 153,
   "id": "3bbd3576",
   "metadata": {},
   "outputs": [
    {
     "data": {
      "text/plain": [
       "Month\n",
       "January      0.000000\n",
       "February    -0.259819\n",
       "March       -0.368776\n",
       "April        0.442289\n",
       "May          0.160502\n",
       "June        -0.005022\n",
       "July         0.443603\n",
       "August       0.058634\n",
       "September   -0.187754\n",
       "October     -0.091023\n",
       "November     0.358568\n",
       "December    -0.190856\n",
       "Name: SC_Monthly_Close, dtype: float64"
      ]
     },
     "execution_count": 153,
     "metadata": {},
     "output_type": "execute_result"
    }
   ],
   "source": [
    "sc_2020_df = final_2020_df['SC_Monthly_Close'].pct_change().fillna(0)\n",
    "sc_2020_df"
   ]
  },
  {
   "cell_type": "code",
   "execution_count": 154,
   "id": "ae4e5e7f",
   "metadata": {},
   "outputs": [
    {
     "data": {
      "text/plain": [
       "Month\n",
       "January      0.000000\n",
       "February     0.418750\n",
       "March       -0.436123\n",
       "April        0.601562\n",
       "May          0.146341\n",
       "June         0.195745\n",
       "July         0.085409\n",
       "August       0.501639\n",
       "September   -0.327511\n",
       "October     -0.198052\n",
       "November     0.368421\n",
       "December    -0.076923\n",
       "Name: USDT_Monthly_Close, dtype: float64"
      ]
     },
     "execution_count": 154,
     "metadata": {},
     "output_type": "execute_result"
    }
   ],
   "source": [
    "usdt_2020_df = final_2020_df['USDT_Monthly_Close'].pct_change().fillna(0)\n",
    "usdt_2020_df"
   ]
  },
  {
   "cell_type": "code",
   "execution_count": 155,
   "id": "858d7a00",
   "metadata": {},
   "outputs": [
    {
     "data": {
      "text/plain": [
       "Month\n",
       "January      0.000000\n",
       "February     0.001903\n",
       "March        0.001500\n",
       "April       -0.001198\n",
       "May         -0.001099\n",
       "June         0.000400\n",
       "July         0.001700\n",
       "August      -0.001298\n",
       "September   -0.000200\n",
       "October      0.000900\n",
       "November    -0.000400\n",
       "December     0.000500\n",
       "Name: DASH_Monthly_Close, dtype: float64"
      ]
     },
     "execution_count": 155,
     "metadata": {},
     "output_type": "execute_result"
    }
   ],
   "source": [
    "dash_2020_df = final_2020_df['DASH_Monthly_Close'].pct_change().fillna(0)\n",
    "dash_2020_df"
   ]
  },
  {
   "cell_type": "code",
   "execution_count": 156,
   "id": "bd1dc2d7",
   "metadata": {},
   "outputs": [
    {
     "data": {
      "text/plain": [
       "Month\n",
       "January      0.000000\n",
       "February    -0.086752\n",
       "March       -0.247037\n",
       "April        0.343735\n",
       "May          0.094767\n",
       "June        -0.033184\n",
       "July         0.243302\n",
       "August       0.026479\n",
       "September   -0.075663\n",
       "October      0.281599\n",
       "November     0.427182\n",
       "December     0.469406\n",
       "Name: BTC_Monthly_Close, dtype: float64"
      ]
     },
     "execution_count": 156,
     "metadata": {},
     "output_type": "execute_result"
    }
   ],
   "source": [
    "doge_2020_df = final_2020_df['BTC_Monthly_Close'].pct_change().fillna(0)\n",
    "doge_2020_df"
   ]
  },
  {
   "cell_type": "code",
   "execution_count": 157,
   "id": "c787561c",
   "metadata": {},
   "outputs": [
    {
     "data": {
      "text/html": [
       "<div>\n",
       "<style scoped>\n",
       "    .dataframe tbody tr th:only-of-type {\n",
       "        vertical-align: middle;\n",
       "    }\n",
       "\n",
       "    .dataframe tbody tr th {\n",
       "        vertical-align: top;\n",
       "    }\n",
       "\n",
       "    .dataframe thead th {\n",
       "        text-align: right;\n",
       "    }\n",
       "</style>\n",
       "<table border=\"1\" class=\"dataframe\">\n",
       "  <thead>\n",
       "    <tr style=\"text-align: right;\">\n",
       "      <th></th>\n",
       "      <th>BTC</th>\n",
       "      <th>ETH</th>\n",
       "      <th>LTC</th>\n",
       "      <th>ADA</th>\n",
       "      <th>DOGE</th>\n",
       "      <th>XLM</th>\n",
       "      <th>XRP</th>\n",
       "      <th>LISK</th>\n",
       "      <th>ZEC</th>\n",
       "      <th>SC</th>\n",
       "      <th>USDT</th>\n",
       "      <th>DASH</th>\n",
       "      <th>WAVES</th>\n",
       "    </tr>\n",
       "    <tr>\n",
       "      <th>Month</th>\n",
       "      <th></th>\n",
       "      <th></th>\n",
       "      <th></th>\n",
       "      <th></th>\n",
       "      <th></th>\n",
       "      <th></th>\n",
       "      <th></th>\n",
       "      <th></th>\n",
       "      <th></th>\n",
       "      <th></th>\n",
       "      <th></th>\n",
       "      <th></th>\n",
       "      <th></th>\n",
       "    </tr>\n",
       "  </thead>\n",
       "  <tbody>\n",
       "    <tr>\n",
       "      <th>January</th>\n",
       "      <td>0.000000</td>\n",
       "      <td>0.000000</td>\n",
       "      <td>0.000000</td>\n",
       "      <td>0.000000</td>\n",
       "      <td>0.000000</td>\n",
       "      <td>0.000000</td>\n",
       "      <td>0.000000</td>\n",
       "      <td>0.000000</td>\n",
       "      <td>0.000000</td>\n",
       "      <td>0.000000</td>\n",
       "      <td>0.000000</td>\n",
       "      <td>0.000000</td>\n",
       "      <td>0.000000</td>\n",
       "    </tr>\n",
       "    <tr>\n",
       "      <th>February</th>\n",
       "      <td>-0.086752</td>\n",
       "      <td>0.212044</td>\n",
       "      <td>-0.142119</td>\n",
       "      <td>-0.121017</td>\n",
       "      <td>-0.086752</td>\n",
       "      <td>-0.063589</td>\n",
       "      <td>-0.063586</td>\n",
       "      <td>-0.042152</td>\n",
       "      <td>0.277910</td>\n",
       "      <td>-0.259819</td>\n",
       "      <td>0.418750</td>\n",
       "      <td>0.001903</td>\n",
       "      <td>0.115279</td>\n",
       "    </tr>\n",
       "    <tr>\n",
       "      <th>March</th>\n",
       "      <td>-0.247037</td>\n",
       "      <td>-0.388833</td>\n",
       "      <td>-0.324789</td>\n",
       "      <td>-0.353375</td>\n",
       "      <td>-0.247037</td>\n",
       "      <td>-0.191253</td>\n",
       "      <td>-0.281305</td>\n",
       "      <td>-0.240746</td>\n",
       "      <td>-0.117720</td>\n",
       "      <td>-0.368776</td>\n",
       "      <td>-0.436123</td>\n",
       "      <td>0.001500</td>\n",
       "      <td>-0.237395</td>\n",
       "    </tr>\n",
       "    <tr>\n",
       "      <th>April</th>\n",
       "      <td>0.343735</td>\n",
       "      <td>0.549211</td>\n",
       "      <td>0.181401</td>\n",
       "      <td>0.552935</td>\n",
       "      <td>0.343735</td>\n",
       "      <td>0.305810</td>\n",
       "      <td>0.643347</td>\n",
       "      <td>0.218948</td>\n",
       "      <td>0.058587</td>\n",
       "      <td>0.442289</td>\n",
       "      <td>0.601562</td>\n",
       "      <td>-0.001198</td>\n",
       "      <td>0.246998</td>\n",
       "    </tr>\n",
       "    <tr>\n",
       "      <th>May</th>\n",
       "      <td>0.094767</td>\n",
       "      <td>0.123957</td>\n",
       "      <td>-0.016821</td>\n",
       "      <td>0.558560</td>\n",
       "      <td>0.094767</td>\n",
       "      <td>0.085736</td>\n",
       "      <td>0.052172</td>\n",
       "      <td>-0.044338</td>\n",
       "      <td>0.033738</td>\n",
       "      <td>0.160502</td>\n",
       "      <td>0.146341</td>\n",
       "      <td>-0.001099</td>\n",
       "      <td>-0.016940</td>\n",
       "    </tr>\n",
       "    <tr>\n",
       "      <th>June</th>\n",
       "      <td>-0.033184</td>\n",
       "      <td>-0.026234</td>\n",
       "      <td>-0.095196</td>\n",
       "      <td>0.132902</td>\n",
       "      <td>-0.033184</td>\n",
       "      <td>-0.092560</td>\n",
       "      <td>-0.054600</td>\n",
       "      <td>-0.133455</td>\n",
       "      <td>0.032087</td>\n",
       "      <td>-0.005022</td>\n",
       "      <td>0.195745</td>\n",
       "      <td>0.000400</td>\n",
       "      <td>-0.043609</td>\n",
       "    </tr>\n",
       "    <tr>\n",
       "      <th>July</th>\n",
       "      <td>0.243302</td>\n",
       "      <td>0.537575</td>\n",
       "      <td>0.413091</td>\n",
       "      <td>0.671148</td>\n",
       "      <td>0.243302</td>\n",
       "      <td>0.398845</td>\n",
       "      <td>0.445175</td>\n",
       "      <td>0.483236</td>\n",
       "      <td>0.353615</td>\n",
       "      <td>0.443603</td>\n",
       "      <td>0.085409</td>\n",
       "      <td>0.001700</td>\n",
       "      <td>0.117319</td>\n",
       "    </tr>\n",
       "    <tr>\n",
       "      <th>August</th>\n",
       "      <td>0.026479</td>\n",
       "      <td>0.250663</td>\n",
       "      <td>0.045977</td>\n",
       "      <td>-0.125178</td>\n",
       "      <td>0.026479</td>\n",
       "      <td>0.001676</td>\n",
       "      <td>0.002068</td>\n",
       "      <td>0.081459</td>\n",
       "      <td>1.374368</td>\n",
       "      <td>0.058634</td>\n",
       "      <td>0.501639</td>\n",
       "      <td>-0.001298</td>\n",
       "      <td>0.405300</td>\n",
       "    </tr>\n",
       "    <tr>\n",
       "      <th>September</th>\n",
       "      <td>-0.075663</td>\n",
       "      <td>-0.171183</td>\n",
       "      <td>-0.241594</td>\n",
       "      <td>-0.173017</td>\n",
       "      <td>-0.075663</td>\n",
       "      <td>-0.185602</td>\n",
       "      <td>-0.230245</td>\n",
       "      <td>-0.140338</td>\n",
       "      <td>-0.290219</td>\n",
       "      <td>-0.187754</td>\n",
       "      <td>-0.327511</td>\n",
       "      <td>-0.000200</td>\n",
       "      <td>-0.334701</td>\n",
       "    </tr>\n",
       "    <tr>\n",
       "      <th>October</th>\n",
       "      <td>0.281599</td>\n",
       "      <td>0.075398</td>\n",
       "      <td>0.207180</td>\n",
       "      <td>-0.080673</td>\n",
       "      <td>0.281599</td>\n",
       "      <td>-0.020054</td>\n",
       "      <td>0.042118</td>\n",
       "      <td>-0.007650</td>\n",
       "      <td>0.251499</td>\n",
       "      <td>-0.091023</td>\n",
       "      <td>-0.198052</td>\n",
       "      <td>0.000900</td>\n",
       "      <td>-0.120427</td>\n",
       "    </tr>\n",
       "    <tr>\n",
       "      <th>November</th>\n",
       "      <td>0.427182</td>\n",
       "      <td>0.594194</td>\n",
       "      <td>0.570584</td>\n",
       "      <td>0.848824</td>\n",
       "      <td>0.427182</td>\n",
       "      <td>0.376592</td>\n",
       "      <td>1.611343</td>\n",
       "      <td>1.767407</td>\n",
       "      <td>1.198656</td>\n",
       "      <td>0.358568</td>\n",
       "      <td>0.368421</td>\n",
       "      <td>-0.000400</td>\n",
       "      <td>0.262408</td>\n",
       "    </tr>\n",
       "    <tr>\n",
       "      <th>December</th>\n",
       "      <td>0.469406</td>\n",
       "      <td>0.195897</td>\n",
       "      <td>0.420668</td>\n",
       "      <td>0.054621</td>\n",
       "      <td>0.469406</td>\n",
       "      <td>0.321382</td>\n",
       "      <td>-0.371330</td>\n",
       "      <td>-0.669502</td>\n",
       "      <td>-0.122646</td>\n",
       "      <td>-0.190856</td>\n",
       "      <td>-0.076923</td>\n",
       "      <td>0.000500</td>\n",
       "      <td>-0.137499</td>\n",
       "    </tr>\n",
       "  </tbody>\n",
       "</table>\n",
       "</div>"
      ],
      "text/plain": [
       "                BTC       ETH       LTC       ADA      DOGE       XLM  \\\n",
       "Month                                                                   \n",
       "January    0.000000  0.000000  0.000000  0.000000  0.000000  0.000000   \n",
       "February  -0.086752  0.212044 -0.142119 -0.121017 -0.086752 -0.063589   \n",
       "March     -0.247037 -0.388833 -0.324789 -0.353375 -0.247037 -0.191253   \n",
       "April      0.343735  0.549211  0.181401  0.552935  0.343735  0.305810   \n",
       "May        0.094767  0.123957 -0.016821  0.558560  0.094767  0.085736   \n",
       "June      -0.033184 -0.026234 -0.095196  0.132902 -0.033184 -0.092560   \n",
       "July       0.243302  0.537575  0.413091  0.671148  0.243302  0.398845   \n",
       "August     0.026479  0.250663  0.045977 -0.125178  0.026479  0.001676   \n",
       "September -0.075663 -0.171183 -0.241594 -0.173017 -0.075663 -0.185602   \n",
       "October    0.281599  0.075398  0.207180 -0.080673  0.281599 -0.020054   \n",
       "November   0.427182  0.594194  0.570584  0.848824  0.427182  0.376592   \n",
       "December   0.469406  0.195897  0.420668  0.054621  0.469406  0.321382   \n",
       "\n",
       "                XRP      LISK       ZEC        SC      USDT      DASH  \\\n",
       "Month                                                                   \n",
       "January    0.000000  0.000000  0.000000  0.000000  0.000000  0.000000   \n",
       "February  -0.063586 -0.042152  0.277910 -0.259819  0.418750  0.001903   \n",
       "March     -0.281305 -0.240746 -0.117720 -0.368776 -0.436123  0.001500   \n",
       "April      0.643347  0.218948  0.058587  0.442289  0.601562 -0.001198   \n",
       "May        0.052172 -0.044338  0.033738  0.160502  0.146341 -0.001099   \n",
       "June      -0.054600 -0.133455  0.032087 -0.005022  0.195745  0.000400   \n",
       "July       0.445175  0.483236  0.353615  0.443603  0.085409  0.001700   \n",
       "August     0.002068  0.081459  1.374368  0.058634  0.501639 -0.001298   \n",
       "September -0.230245 -0.140338 -0.290219 -0.187754 -0.327511 -0.000200   \n",
       "October    0.042118 -0.007650  0.251499 -0.091023 -0.198052  0.000900   \n",
       "November   1.611343  1.767407  1.198656  0.358568  0.368421 -0.000400   \n",
       "December  -0.371330 -0.669502 -0.122646 -0.190856 -0.076923  0.000500   \n",
       "\n",
       "              WAVES  \n",
       "Month                \n",
       "January    0.000000  \n",
       "February   0.115279  \n",
       "March     -0.237395  \n",
       "April      0.246998  \n",
       "May       -0.016940  \n",
       "June      -0.043609  \n",
       "July       0.117319  \n",
       "August     0.405300  \n",
       "September -0.334701  \n",
       "October   -0.120427  \n",
       "November   0.262408  \n",
       "December  -0.137499  "
      ]
     },
     "execution_count": 157,
     "metadata": {},
     "output_type": "execute_result"
    }
   ],
   "source": [
    "# Making Monthly Returns dataframe for calcs\n",
    "monthly_2020_returns = pd.DataFrame()\n",
    "\n",
    "# calculating monthly returns on dataframe\n",
    "\n",
    "\n",
    "monthly_2020_returns['BTC'] = btc_2020_df\n",
    "monthly_2020_returns['ETH']= eth_2020_df\n",
    "monthly_2020_returns['LTC'] = ltc_2020_df\n",
    "monthly_2020_returns['ADA'] = ada_2020_df\n",
    "monthly_2020_returns['DOGE'] = doge_2020_df\n",
    "monthly_2020_returns['XLM'] = xlm_2020_df\n",
    "monthly_2020_returns['XRP'] = xrp_2020_df\n",
    "monthly_2020_returns['LISK'] = lisk_2020_df\n",
    "monthly_2020_returns['ZEC'] = zec_2020_df\n",
    "monthly_2020_returns['SC'] = sc_2020_df\n",
    "monthly_2020_returns['USDT'] = usdt_2020_df\n",
    "monthly_2020_returns['DASH'] = dash_2020_df\n",
    "monthly_2020_returns['WAVES'] = waves_2020_df\n",
    "\n",
    "monthly_2020_returns"
   ]
  },
  {
   "cell_type": "code",
   "execution_count": 158,
   "id": "28f4f447",
   "metadata": {},
   "outputs": [
    {
     "data": {
      "text/plain": [
       "0.051892143994626654"
      ]
     },
     "execution_count": 158,
     "metadata": {},
     "output_type": "execute_result"
    }
   ],
   "source": [
    "# Step 4: Calculate the variance of bitcoin, in this case being used as a proxy for the market.\n",
    "# assign to market variance value\n",
    "market_var = btc_2020_df.var()\n",
    "market_var"
   ]
  },
  {
   "cell_type": "code",
   "execution_count": 159,
   "id": "9f915f0c",
   "metadata": {},
   "outputs": [
    {
     "data": {
      "text/plain": [
       "0.051892143994626654"
      ]
     },
     "execution_count": 159,
     "metadata": {},
     "output_type": "execute_result"
    }
   ],
   "source": [
    "btc_var = btc_2020_df.var()\n",
    "btc_var"
   ]
  },
  {
   "cell_type": "code",
   "execution_count": 160,
   "id": "3226c02e",
   "metadata": {},
   "outputs": [
    {
     "data": {
      "text/plain": [
       "0.08857632050051642"
      ]
     },
     "execution_count": 160,
     "metadata": {},
     "output_type": "execute_result"
    }
   ],
   "source": [
    "eth_var = eth_2020_df.var()\n",
    "eth_var"
   ]
  },
  {
   "cell_type": "code",
   "execution_count": 161,
   "id": "321baf82",
   "metadata": {},
   "outputs": [
    {
     "data": {
      "text/plain": [
       "0.07800817653158242"
      ]
     },
     "execution_count": 161,
     "metadata": {},
     "output_type": "execute_result"
    }
   ],
   "source": [
    "ltc_var = ltc_2020_df.var()\n",
    "ltc_var"
   ]
  },
  {
   "cell_type": "code",
   "execution_count": 162,
   "id": "7de703c8",
   "metadata": {},
   "outputs": [
    {
     "data": {
      "text/plain": [
       "0.15263087345020135"
      ]
     },
     "execution_count": 162,
     "metadata": {},
     "output_type": "execute_result"
    }
   ],
   "source": [
    "ada_var = ada_2020_df.var()\n",
    "ada_var"
   ]
  },
  {
   "cell_type": "code",
   "execution_count": 163,
   "id": "39c39c82",
   "metadata": {},
   "outputs": [
    {
     "data": {
      "text/plain": [
       "0.0469032920204163"
      ]
     },
     "execution_count": 163,
     "metadata": {},
     "output_type": "execute_result"
    }
   ],
   "source": [
    "xlm_var = xlm_2020_df.var()\n",
    "xlm_var"
   ]
  },
  {
   "cell_type": "code",
   "execution_count": 164,
   "id": "e18bc78c",
   "metadata": {},
   "outputs": [
    {
     "data": {
      "text/plain": [
       "0.2928644351828504"
      ]
     },
     "execution_count": 164,
     "metadata": {},
     "output_type": "execute_result"
    }
   ],
   "source": [
    "xrp_var = xrp_2020_df.var()\n",
    "xrp_var"
   ]
  },
  {
   "cell_type": "code",
   "execution_count": 165,
   "id": "29a6d461",
   "metadata": {},
   "outputs": [
    {
     "data": {
      "text/plain": [
       "0.3476637297514744"
      ]
     },
     "execution_count": 165,
     "metadata": {},
     "output_type": "execute_result"
    }
   ],
   "source": [
    "lisk_var = lisk_2020_df.var()\n",
    "lisk_var"
   ]
  },
  {
   "cell_type": "code",
   "execution_count": 166,
   "id": "fe565693",
   "metadata": {},
   "outputs": [
    {
     "data": {
      "text/plain": [
       "0.0472430049424835"
      ]
     },
     "execution_count": 166,
     "metadata": {},
     "output_type": "execute_result"
    }
   ],
   "source": [
    "waves_var = waves_2020_df.var()\n",
    "waves_var"
   ]
  },
  {
   "cell_type": "code",
   "execution_count": 167,
   "id": "484aa70b",
   "metadata": {},
   "outputs": [
    {
     "data": {
      "text/plain": [
       "0.2667978429097526"
      ]
     },
     "execution_count": 167,
     "metadata": {},
     "output_type": "execute_result"
    }
   ],
   "source": [
    "zec_var = zec_2020_df.var()\n",
    "zec_var"
   ]
  },
  {
   "cell_type": "code",
   "execution_count": 168,
   "id": "836207de",
   "metadata": {},
   "outputs": [
    {
     "data": {
      "text/plain": [
       "0.07480381123229048"
      ]
     },
     "execution_count": 168,
     "metadata": {},
     "output_type": "execute_result"
    }
   ],
   "source": [
    "sc_var = sc_2020_df.var()\n",
    "sc_var"
   ]
  },
  {
   "cell_type": "code",
   "execution_count": 169,
   "id": "a516ac27",
   "metadata": {},
   "outputs": [
    {
     "data": {
      "text/plain": [
       "0.10889682377517974"
      ]
     },
     "execution_count": 169,
     "metadata": {},
     "output_type": "execute_result"
    }
   ],
   "source": [
    "usdt_var = usdt_2020_df.var()\n",
    "usdt_var"
   ]
  },
  {
   "cell_type": "code",
   "execution_count": 170,
   "id": "4266f0ec",
   "metadata": {},
   "outputs": [
    {
     "data": {
      "text/plain": [
       "1.263623125252005e-06"
      ]
     },
     "execution_count": 170,
     "metadata": {},
     "output_type": "execute_result"
    }
   ],
   "source": [
    "dash_var = dash_2020_df.var()\n",
    "dash_var"
   ]
  },
  {
   "cell_type": "code",
   "execution_count": 171,
   "id": "02448385",
   "metadata": {},
   "outputs": [
    {
     "data": {
      "text/plain": [
       "0.051892143994626654"
      ]
     },
     "execution_count": 171,
     "metadata": {},
     "output_type": "execute_result"
    }
   ],
   "source": [
    "doge_var = doge_2020_df.var()\n",
    "doge_var"
   ]
  },
  {
   "cell_type": "code",
   "execution_count": 172,
   "id": "89509186",
   "metadata": {},
   "outputs": [
    {
     "data": {
      "text/plain": [
       "0.05189214399462667"
      ]
     },
     "execution_count": 172,
     "metadata": {},
     "output_type": "execute_result"
    }
   ],
   "source": [
    "# STEP 5B: CALCULATE COVARIANCE OF EACH CURRENCY RELATIVE TO BITCOIN\n",
    "\"\"\"\n",
    "Use monthly returns of currency and monthly returns of bitcoin as market proxy\n",
    "\n",
    "\"\"\"\n",
    "\n",
    "mkt_2020_cov = btc_2020_df.cov(btc_2020_df)\n",
    "mkt_2020_cov"
   ]
  },
  {
   "cell_type": "code",
   "execution_count": 173,
   "id": "e84d7ade",
   "metadata": {},
   "outputs": [
    {
     "data": {
      "text/plain": [
       "0.05104671211544259"
      ]
     },
     "execution_count": 173,
     "metadata": {},
     "output_type": "execute_result"
    }
   ],
   "source": [
    "eth_2020_cov = eth_2020_df.cov(btc_2020_df)\n",
    "eth_2020_cov"
   ]
  },
  {
   "cell_type": "code",
   "execution_count": 174,
   "id": "bc8a0131",
   "metadata": {},
   "outputs": [
    {
     "data": {
      "text/plain": [
       "0.05940945534270381"
      ]
     },
     "execution_count": 174,
     "metadata": {},
     "output_type": "execute_result"
    }
   ],
   "source": [
    "ltc_2020_cov = ltc_2020_df.cov(btc_2020_df)\n",
    "ltc_2020_cov"
   ]
  },
  {
   "cell_type": "code",
   "execution_count": 175,
   "id": "085999c5",
   "metadata": {},
   "outputs": [
    {
     "data": {
      "text/plain": [
       "0.05804165228348126"
      ]
     },
     "execution_count": 175,
     "metadata": {},
     "output_type": "execute_result"
    }
   ],
   "source": [
    "ada_2020_cov = ada_2020_df.cov(btc_2020_df)\n",
    "ada_2020_cov"
   ]
  },
  {
   "cell_type": "code",
   "execution_count": 176,
   "id": "f75f863d",
   "metadata": {},
   "outputs": [
    {
     "data": {
      "text/plain": [
       "0.04305019324648309"
      ]
     },
     "execution_count": 176,
     "metadata": {},
     "output_type": "execute_result"
    }
   ],
   "source": [
    "xlm_2020_cov = xlm_2020_df.cov(btc_2020_df)\n",
    "xlm_2020_cov"
   ]
  },
  {
   "cell_type": "code",
   "execution_count": 177,
   "id": "b648b93a",
   "metadata": {},
   "outputs": [
    {
     "data": {
      "text/plain": [
       "0.06714493459874253"
      ]
     },
     "execution_count": 177,
     "metadata": {},
     "output_type": "execute_result"
    }
   ],
   "source": [
    "xrp_2020_cov = xrp_2020_df.cov(btc_2020_df)\n",
    "xrp_2020_cov"
   ]
  },
  {
   "cell_type": "code",
   "execution_count": 178,
   "id": "02dee823",
   "metadata": {},
   "outputs": [
    {
     "data": {
      "text/plain": [
       "0.05039960976430344"
      ]
     },
     "execution_count": 178,
     "metadata": {},
     "output_type": "execute_result"
    }
   ],
   "source": [
    "lisk_2020_cov = lisk_2020_df.cov(btc_2020_df)\n",
    "lisk_2020_cov"
   ]
  },
  {
   "cell_type": "code",
   "execution_count": 179,
   "id": "3ddbd91e",
   "metadata": {},
   "outputs": [
    {
     "data": {
      "text/plain": [
       "0.016430895352623855"
      ]
     },
     "execution_count": 179,
     "metadata": {},
     "output_type": "execute_result"
    }
   ],
   "source": [
    "waves_2020_cov = waves_2020_df.cov(btc_2020_df)\n",
    "waves_2020_cov"
   ]
  },
  {
   "cell_type": "code",
   "execution_count": 180,
   "id": "c5eb002f",
   "metadata": {},
   "outputs": [
    {
     "data": {
      "text/plain": [
       "0.029996832809601536"
      ]
     },
     "execution_count": 180,
     "metadata": {},
     "output_type": "execute_result"
    }
   ],
   "source": [
    "zec_2020_cov = zec_2020_df.cov(btc_2020_df)\n",
    "zec_2020_cov"
   ]
  },
  {
   "cell_type": "code",
   "execution_count": 181,
   "id": "059da1e2",
   "metadata": {},
   "outputs": [
    {
     "data": {
      "text/plain": [
       "0.03630296081183333"
      ]
     },
     "execution_count": 181,
     "metadata": {},
     "output_type": "execute_result"
    }
   ],
   "source": [
    "sc_2020_cov = sc_2020_df.cov(btc_2020_df)\n",
    "sc_2020_cov"
   ]
  },
  {
   "cell_type": "code",
   "execution_count": 182,
   "id": "0f56d0e2",
   "metadata": {},
   "outputs": [
    {
     "data": {
      "text/plain": [
       "0.023271757488815135"
      ]
     },
     "execution_count": 182,
     "metadata": {},
     "output_type": "execute_result"
    }
   ],
   "source": [
    "usdt_2020_cov = usdt_2020_df.cov(btc_2020_df)\n",
    "usdt_2020_cov"
   ]
  },
  {
   "cell_type": "code",
   "execution_count": 183,
   "id": "ddf7395a",
   "metadata": {},
   "outputs": [
    {
     "data": {
      "text/plain": [
       "-6.172116374510726e-05"
      ]
     },
     "execution_count": 183,
     "metadata": {},
     "output_type": "execute_result"
    }
   ],
   "source": [
    "dash_2020_cov = dash_2020_df.cov(btc_2020_df)\n",
    "dash_2020_cov"
   ]
  },
  {
   "cell_type": "code",
   "execution_count": 184,
   "id": "ed93c8ad",
   "metadata": {},
   "outputs": [
    {
     "data": {
      "text/plain": [
       "0.05189214399462667"
      ]
     },
     "execution_count": 184,
     "metadata": {},
     "output_type": "execute_result"
    }
   ],
   "source": [
    "doge_2020_cov = doge_2020_df.cov(btc_2020_df)\n",
    "doge_2020_cov"
   ]
  },
  {
   "cell_type": "code",
   "execution_count": 185,
   "id": "23a8d11e",
   "metadata": {},
   "outputs": [
    {
     "data": {
      "text/plain": [
       "1.0000000000000002"
      ]
     },
     "execution_count": 185,
     "metadata": {},
     "output_type": "execute_result"
    }
   ],
   "source": [
    "# STEP 6: CALCULATE BETA OF EACH CURRENCY\n",
    "\n",
    "\"\"\"\n",
    "beta = covariance of asset to market / variance of market\n",
    "\n",
    "use previous calculations for market variance and covariance of assets\n",
    "\"\"\"\n",
    "btc_beta_2020 = mkt_2020_cov / market_var\n",
    "btc_beta_2020"
   ]
  },
  {
   "cell_type": "code",
   "execution_count": 186,
   "id": "57466694",
   "metadata": {},
   "outputs": [
    {
     "data": {
      "text/plain": [
       "0.9837079023123113"
      ]
     },
     "execution_count": 186,
     "metadata": {},
     "output_type": "execute_result"
    }
   ],
   "source": [
    "eth_beta_2020 = eth_2020_cov / market_var\n",
    "eth_beta_2020"
   ]
  },
  {
   "cell_type": "code",
   "execution_count": 187,
   "id": "0b126498",
   "metadata": {},
   "outputs": [
    {
     "data": {
      "text/plain": [
       "1.1448641503202404"
      ]
     },
     "execution_count": 187,
     "metadata": {},
     "output_type": "execute_result"
    }
   ],
   "source": [
    "ltc_beta_2020 = ltc_2020_cov / market_var\n",
    "ltc_beta_2020"
   ]
  },
  {
   "cell_type": "code",
   "execution_count": 188,
   "id": "706583b8",
   "metadata": {},
   "outputs": [
    {
     "data": {
      "text/plain": [
       "1.1185055735891618"
      ]
     },
     "execution_count": 188,
     "metadata": {},
     "output_type": "execute_result"
    }
   ],
   "source": [
    "ada_beta_2020 = ada_2020_cov / market_var\n",
    "ada_beta_2020"
   ]
  },
  {
   "cell_type": "code",
   "execution_count": 189,
   "id": "3b8c8f4c",
   "metadata": {},
   "outputs": [
    {
     "data": {
      "text/plain": [
       "0.8296090685892814"
      ]
     },
     "execution_count": 189,
     "metadata": {},
     "output_type": "execute_result"
    }
   ],
   "source": [
    "xlm_beta_2020 = xlm_2020_cov / market_var\n",
    "xlm_beta_2020"
   ]
  },
  {
   "cell_type": "code",
   "execution_count": 190,
   "id": "bde3c54c",
   "metadata": {},
   "outputs": [
    {
     "data": {
      "text/plain": [
       "1.2939325576082437"
      ]
     },
     "execution_count": 190,
     "metadata": {},
     "output_type": "execute_result"
    }
   ],
   "source": [
    "xrp_beta_2020 = xrp_2020_cov / market_var\n",
    "xrp_beta_2020"
   ]
  },
  {
   "cell_type": "code",
   "execution_count": 191,
   "id": "168391ad",
   "metadata": {},
   "outputs": [
    {
     "data": {
      "text/plain": [
       "0.9712377613367109"
      ]
     },
     "execution_count": 191,
     "metadata": {},
     "output_type": "execute_result"
    }
   ],
   "source": [
    "lisk_beta_2020 = lisk_2020_cov / market_var\n",
    "lisk_beta_2020"
   ]
  },
  {
   "cell_type": "code",
   "execution_count": 192,
   "id": "0d175520",
   "metadata": {},
   "outputs": [
    {
     "data": {
      "text/plain": [
       "0.31663550756980186"
      ]
     },
     "execution_count": 192,
     "metadata": {},
     "output_type": "execute_result"
    }
   ],
   "source": [
    "waves_beta_2020 = waves_2020_cov / market_var\n",
    "waves_beta_2020"
   ]
  },
  {
   "cell_type": "code",
   "execution_count": 193,
   "id": "9bc4e2bd",
   "metadata": {},
   "outputs": [
    {
     "data": {
      "text/plain": [
       "0.5780611572477649"
      ]
     },
     "execution_count": 193,
     "metadata": {},
     "output_type": "execute_result"
    }
   ],
   "source": [
    "zec_beta_2020 = zec_2020_cov / market_var\n",
    "zec_beta_2020"
   ]
  },
  {
   "cell_type": "code",
   "execution_count": 194,
   "id": "989178b5",
   "metadata": {},
   "outputs": [
    {
     "data": {
      "text/plain": [
       "0.699584908567132"
      ]
     },
     "execution_count": 194,
     "metadata": {},
     "output_type": "execute_result"
    }
   ],
   "source": [
    "sc_beta_2020 = sc_2020_cov / market_var\n",
    "sc_beta_2020"
   ]
  },
  {
   "cell_type": "code",
   "execution_count": 195,
   "id": "0db2dcb1",
   "metadata": {},
   "outputs": [
    {
     "data": {
      "text/plain": [
       "0.4484639811996376"
      ]
     },
     "execution_count": 195,
     "metadata": {},
     "output_type": "execute_result"
    }
   ],
   "source": [
    "usdt_beta_2020 = usdt_2020_cov / market_var\n",
    "usdt_beta_2020"
   ]
  },
  {
   "cell_type": "code",
   "execution_count": 196,
   "id": "7503848f",
   "metadata": {},
   "outputs": [
    {
     "data": {
      "text/plain": [
       "-0.0011894124812321955"
      ]
     },
     "execution_count": 196,
     "metadata": {},
     "output_type": "execute_result"
    }
   ],
   "source": [
    "dash_beta_2020 = dash_2020_cov / market_var\n",
    "dash_beta_2020"
   ]
  },
  {
   "cell_type": "code",
   "execution_count": 197,
   "id": "75ae865c",
   "metadata": {},
   "outputs": [
    {
     "data": {
      "text/plain": [
       "1.0000000000000002"
      ]
     },
     "execution_count": 197,
     "metadata": {},
     "output_type": "execute_result"
    }
   ],
   "source": [
    "doge_beta_2020 = doge_2020_cov / market_var\n",
    "doge_beta_2020"
   ]
  },
  {
   "cell_type": "code",
   "execution_count": 198,
   "id": "c4be56b9",
   "metadata": {},
   "outputs": [
    {
     "data": {
      "text/plain": [
       "[1.0000000000000002,\n",
       " 0.9837079023123113,\n",
       " 1.1448641503202404,\n",
       " 1.1185055735891618,\n",
       " 1.0000000000000002,\n",
       " 0.8296090685892814,\n",
       " 1.2939325576082437,\n",
       " 0.9712377613367109,\n",
       " 0.5780611572477649,\n",
       " 0.699584908567132,\n",
       " 0.4484639811996376,\n",
       " -0.0011894124812321955,\n",
       " 0.31663550756980186]"
      ]
     },
     "execution_count": 198,
     "metadata": {},
     "output_type": "execute_result"
    }
   ],
   "source": [
    "# making list for convenience\n",
    "Beta_list = [btc_beta_2020, eth_beta_2020, ltc_beta_2020, ada_beta_2020, doge_beta_2020, xlm_beta_2020, xrp_beta_2020, lisk_beta_2020, zec_beta_2020, sc_beta_2020, usdt_beta_2020, dash_beta_2020, waves_beta_2020]\n",
    "\n",
    "Beta_list"
   ]
  },
  {
   "cell_type": "code",
   "execution_count": 199,
   "id": "5ca9d71d",
   "metadata": {},
   "outputs": [
    {
     "data": {
      "text/plain": [
       "<AxesSubplot:>"
      ]
     },
     "execution_count": 199,
     "metadata": {},
     "output_type": "execute_result"
    },
    {
     "data": {
      "image/png": "[encoded data removed]",
      "text/plain": [
       "<Figure size 432x288 with 2 Axes>"
      ]
     },
     "metadata": {
      "needs_background": "light"
     },
     "output_type": "display_data"
    }
   ],
   "source": [
    "# Display Correlation Heatmap With Seaborn\n",
    "\n",
    "\"\"\"\n",
    "NEW CELL to check monthly returns are displayed with pct_change already applied\n",
    "- Take dataframe of daily returns from step 3 (pct_change drop na already applied)\n",
    "\n",
    "NEW CELL to check correlation dataframe\n",
    "- correlation = monthly_returns_dataframe.corr()\n",
    "\n",
    "NEW CELL to display heatmap\n",
    "- sns.heatmap(correlation)\n",
    "\n",
    "\n",
    "\"\"\"\n",
    "correlation = final_2020_df.corr()\n",
    "sns.heatmap(correlation)"
   ]
  },
  {
   "cell_type": "code",
   "execution_count": 200,
   "id": "672f1c8b",
   "metadata": {},
   "outputs": [
    {
     "data": {},
     "metadata": {},
     "output_type": "display_data"
    },
    {
     "data": {
      "application/vnd.holoviews_exec.v0+json": "",
      "text/html": [
       "<div id='2613'>\n",
       "\n",
       "\n",
       "\n",
       "\n",
       "\n",
       "  <div class=\"bk-root\" id=\"14c8ec18-ffba-4f1c-af66-42d2c25b9c73\" data-root-id=\"2613\"></div>\n",
       "</div>\n",
       "<script type=\"application/javascript\">(function(root) {\n",
       "  function embed_document(root) {\n",
       "    var docs_json = {\"45782e8f-721e-485d-a8ef-063847dcd192\":{\"defs\":[{\"extends\":null,\"module\":null,\"name\":\"ReactiveHTML1\",\"overrides\":[],\"properties\":[]},{\"extends\":null,\"module\":null,\"name\":\"FlexBox1\",\"overrides\":[],\"properties\":[{\"default\":\"flex-start\",\"kind\":null,\"name\":\"align_content\"},{\"default\":\"flex-start\",\"kind\":null,\"name\":\"align_items\"},{\"default\":\"row\",\"kind\":null,\"name\":\"flex_direction\"},{\"default\":\"wrap\",\"kind\":null,\"name\":\"flex_wrap\"},{\"default\":\"flex-start\",\"kind\":null,\"name\":\"justify_content\"}]},{\"extends\":null,\"module\":null,\"name\":\"TemplateActions1\",\"overrides\":[],\"properties\":[{\"default\":0,\"kind\":null,\"name\":\"open_modal\"},{\"default\":0,\"kind\":null,\"name\":\"close_modal\"}]},{\"extends\":null,\"module\":null,\"name\":\"MaterialTemplateActions1\",\"overrides\":[],\"properties\":[{\"default\":0,\"kind\":null,\"name\":\"open_modal\"},{\"default\":0,\"kind\":null,\"name\":\"close_modal\"}]}],\"roots\":{\"references\":[{\"attributes\":{\"axis_label\":\"\",\"formatter\":{\"id\":\"2658\"},\"major_label_policy\":{\"id\":\"2659\"},\"ticker\":{\"id\":\"2628\"}},\"id\":\"2627\",\"type\":\"CategoricalAxis\"},{\"attributes\":{},\"id\":\"2637\",\"type\":\"ResetTool\"},{\"attributes\":{\"source\":{\"id\":\"2647\"}},\"id\":\"2654\",\"type\":\"CDSView\"},{\"attributes\":{\"margin\":[5,5,5,5],\"name\":\"HSpacer03697\",\"sizing_mode\":\"stretch_width\"},\"id\":\"2614\",\"type\":\"Spacer\"},{\"attributes\":{},\"id\":\"2670\",\"type\":\"NoOverlap\"},{\"attributes\":{\"fill_color\":{\"field\":\"zvalues\",\"transform\":{\"id\":\"2646\"}},\"height\":{\"value\":1},\"line_alpha\":{\"value\":0},\"line_color\":{\"value\":\"#1f77b4\"},\"width\":{\"value\":1},\"x\":{\"field\":\"columns\"},\"y\":{\"field\":\"index\"}},\"id\":\"2652\",\"type\":\"Rect\"},{\"attributes\":{},\"id\":\"2658\",\"type\":\"CategoricalTickFormatter\"},{\"attributes\":{},\"id\":\"2625\",\"type\":\"CategoricalScale\"},{\"attributes\":{\"data_source\":{\"id\":\"2647\"},\"glyph\":{\"id\":\"2650\"},\"hover_glyph\":null,\"muted_glyph\":null,\"nonselection_glyph\":{\"id\":\"2651\"},\"selection_glyph\":{\"id\":\"2652\"},\"view\":{\"id\":\"2654\"}},\"id\":\"2653\",\"type\":\"GlyphRenderer\"},{\"attributes\":{},\"id\":\"2662\",\"type\":\"AllLabels\"},{\"attributes\":{},\"id\":\"2655\",\"type\":\"BasicTicker\"},{\"attributes\":{\"bottom_units\":\"screen\",\"fill_alpha\":0.5,\"fill_color\":\"lightgrey\",\"left_units\":\"screen\",\"level\":\"overlay\",\"line_alpha\":1.0,\"line_color\":\"black\",\"line_dash\":[4,4],\"line_width\":2,\"right_units\":\"screen\",\"syncable\":false,\"top_units\":\"screen\"},\"id\":\"2638\",\"type\":\"BoxAnnotation\"},{\"attributes\":{\"data\":{\"columns\":[\"BTC_Monthly_Close\",\"BTC_Monthly_Close\",\"BTC_Monthly_Close\",\"BTC_Monthly_Close\",\"BTC_Monthly_Close\",\"BTC_Monthly_Close\",\"BTC_Monthly_Close\",\"BTC_Monthly_Close\",\"BTC_Monthly_Close\",\"BTC_Monthly_Close\",\"BTC_Monthly_Close\",\"BTC_Monthly_Close\",\"BTC_Monthly_Close\",\"ETH_Monthly_Close\",\"ETH_Monthly_Close\",\"ETH_Monthly_Close\",\"ETH_Monthly_Close\",\"ETH_Monthly_Close\",\"ETH_Monthly_Close\",\"ETH_Monthly_Close\",\"ETH_Monthly_Close\",\"ETH_Monthly_Close\",\"ETH_Monthly_Close\",\"ETH_Monthly_Close\",\"ETH_Monthly_Close\",\"ETH_Monthly_Close\",\"LTC_Monthly_Close\",\"LTC_Monthly_Close\",\"LTC_Monthly_Close\",\"LTC_Monthly_Close\",\"LTC_Monthly_Close\",\"LTC_Monthly_Close\",\"LTC_Monthly_Close\",\"LTC_Monthly_Close\",\"LTC_Monthly_Close\",\"LTC_Monthly_Close\",\"LTC_Monthly_Close\",\"LTC_Monthly_Close\",\"LTC_Monthly_Close\",\"ADA_Monthly_Close\",\"ADA_Monthly_Close\",\"ADA_Monthly_Close\",\"ADA_Monthly_Close\",\"ADA_Monthly_Close\",\"ADA_Monthly_Close\",\"ADA_Monthly_Close\",\"ADA_Monthly_Close\",\"ADA_Monthly_Close\",\"ADA_Monthly_Close\",\"ADA_Monthly_Close\",\"ADA_Monthly_Close\",\"ADA_Monthly_Close\",\"XLM_Monthly_Close\",\"XLM_Monthly_Close\",\"XLM_Monthly_Close\",\"XLM_Monthly_Close\",\"XLM_Monthly_Close\",\"XLM_Monthly_Close\",\"XLM_Monthly_Close\",\"XLM_Monthly_Close\",\"XLM_Monthly_Close\",\"XLM_Monthly_Close\",\"XLM_Monthly_Close\",\"XLM_Monthly_Close\",\"XLM_Monthly_Close\",\"XRP_Monthly_Close\",\"XRP_Monthly_Close\",\"XRP_Monthly_Close\",\"XRP_Monthly_Close\",\"XRP_Monthly_Close\",\"XRP_Monthly_Close\",\"XRP_Monthly_Close\",\"XRP_Monthly_Close\",\"XRP_Monthly_Close\",\"XRP_Monthly_Close\",\"XRP_Monthly_Close\",\"XRP_Monthly_Close\",\"XRP_Monthly_Close\",\"LISK_Monthly_Close\",\"LISK_Monthly_Close\",\"LISK_Monthly_Close\",\"LISK_Monthly_Close\",\"LISK_Monthly_Close\",\"LISK_Monthly_Close\",\"LISK_Monthly_Close\",\"LISK_Monthly_Close\",\"LISK_Monthly_Close\",\"LISK_Monthly_Close\",\"LISK_Monthly_Close\",\"LISK_Monthly_Close\",\"LISK_Monthly_Close\",\"WAVES_Monthly_Close\",\"WAVES_Monthly_Close\",\"WAVES_Monthly_Close\",\"WAVES_Monthly_Close\",\"WAVES_Monthly_Close\",\"WAVES_Monthly_Close\",\"WAVES_Monthly_Close\",\"WAVES_Monthly_Close\",\"WAVES_Monthly_Close\",\"WAVES_Monthly_Close\",\"WAVES_Monthly_Close\",\"WAVES_Monthly_Close\",\"WAVES_Monthly_Close\",\"ZEC_Monthly_Close\",\"ZEC_Monthly_Close\",\"ZEC_Monthly_Close\",\"ZEC_Monthly_Close\",\"ZEC_Monthly_Close\",\"ZEC_Monthly_Close\",\"ZEC_Monthly_Close\",\"ZEC_Monthly_Close\",\"ZEC_Monthly_Close\",\"ZEC_Monthly_Close\",\"ZEC_Monthly_Close\",\"ZEC_Monthly_Close\",\"ZEC_Monthly_Close\",\"SC_Monthly_Close\",\"SC_Monthly_Close\",\"SC_Monthly_Close\",\"SC_Monthly_Close\",\"SC_Monthly_Close\",\"SC_Monthly_Close\",\"SC_Monthly_Close\",\"SC_Monthly_Close\",\"SC_Monthly_Close\",\"SC_Monthly_Close\",\"SC_Monthly_Close\",\"SC_Monthly_Close\",\"SC_Monthly_Close\",\"USDT_Monthly_Close\",\"USDT_Monthly_Close\",\"USDT_Monthly_Close\",\"USDT_Monthly_Close\",\"USDT_Monthly_Close\",\"USDT_Monthly_Close\",\"USDT_Monthly_Close\",\"USDT_Monthly_Close\",\"USDT_Monthly_Close\",\"USDT_Monthly_Close\",\"USDT_Monthly_Close\",\"USDT_Monthly_Close\",\"USDT_Monthly_Close\",\"DASH_Monthly_Close\",\"DASH_Monthly_Close\",\"DASH_Monthly_Close\",\"DASH_Monthly_Close\",\"DASH_Monthly_Close\",\"DASH_Monthly_Close\",\"DASH_Monthly_Close\",\"DASH_Monthly_Close\",\"DASH_Monthly_Close\",\"DASH_Monthly_Close\",\"DASH_Monthly_Close\",\"DASH_Monthly_Close\",\"DASH_Monthly_Close\",\"DOGE_Monthly_Close\",\"DOGE_Monthly_Close\",\"DOGE_Monthly_Close\",\"DOGE_Monthly_Close\",\"DOGE_Monthly_Close\",\"DOGE_Monthly_Close\",\"DOGE_Monthly_Close\",\"DOGE_Monthly_Close\",\"DOGE_Monthly_Close\",\"DOGE_Monthly_Close\",\"DOGE_Monthly_Close\",\"DOGE_Monthly_Close\",\"DOGE_Monthly_Close\"],\"index\":[\"BTC_Monthly_Close\",\"ETH_Monthly_Close\",\"LTC_Monthly_Close\",\"ADA_Monthly_Close\",\"XLM_Monthly_Close\",\"XRP_Monthly_Close\",\"LISK_Monthly_Close\",\"WAVES_Monthly_Close\",\"ZEC_Monthly_Close\",\"SC_Monthly_Close\",\"USDT_Monthly_Close\",\"DASH_Monthly_Close\",\"DOGE_Monthly_Close\",\"BTC_Monthly_Close\",\"ETH_Monthly_Close\",\"LTC_Monthly_Close\",\"ADA_Monthly_Close\",\"XLM_Monthly_Close\",\"XRP_Monthly_Close\",\"LISK_Monthly_Close\",\"WAVES_Monthly_Close\",\"ZEC_Monthly_Close\",\"SC_Monthly_Close\",\"USDT_Monthly_Close\",\"DASH_Monthly_Close\",\"DOGE_Monthly_Close\",\"BTC_Monthly_Close\",\"ETH_Monthly_Close\",\"LTC_Monthly_Close\",\"ADA_Monthly_Close\",\"XLM_Monthly_Close\",\"XRP_Monthly_Close\",\"LISK_Monthly_Close\",\"WAVES_Monthly_Close\",\"ZEC_Monthly_Close\",\"SC_Monthly_Close\",\"USDT_Monthly_Close\",\"DASH_Monthly_Close\",\"DOGE_Monthly_Close\",\"BTC_Monthly_Close\",\"ETH_Monthly_Close\",\"LTC_Monthly_Close\",\"ADA_Monthly_Close\",\"XLM_Monthly_Close\",\"XRP_Monthly_Close\",\"LISK_Monthly_Close\",\"WAVES_Monthly_Close\",\"ZEC_Monthly_Close\",\"SC_Monthly_Close\",\"USDT_Monthly_Close\",\"DASH_Monthly_Close\",\"DOGE_Monthly_Close\",\"BTC_Monthly_Close\",\"ETH_Monthly_Close\",\"LTC_Monthly_Close\",\"ADA_Monthly_Close\",\"XLM_Monthly_Close\",\"XRP_Monthly_Close\",\"LISK_Monthly_Close\",\"WAVES_Monthly_Close\",\"ZEC_Monthly_Close\",\"SC_Monthly_Close\",\"USDT_Monthly_Close\",\"DASH_Monthly_Close\",\"DOGE_Monthly_Close\",\"BTC_Monthly_Close\",\"ETH_Monthly_Close\",\"LTC_Monthly_Close\",\"ADA_Monthly_Close\",\"XLM_Monthly_Close\",\"XRP_Monthly_Close\",\"LISK_Monthly_Close\",\"WAVES_Monthly_Close\",\"ZEC_Monthly_Close\",\"SC_Monthly_Close\",\"USDT_Monthly_Close\",\"DASH_Monthly_Close\",\"DOGE_Monthly_Close\",\"BTC_Monthly_Close\",\"ETH_Monthly_Close\",\"LTC_Monthly_Close\",\"ADA_Monthly_Close\",\"XLM_Monthly_Close\",\"XRP_Monthly_Close\",\"LISK_Monthly_Close\",\"WAVES_Monthly_Close\",\"ZEC_Monthly_Close\",\"SC_Monthly_Close\",\"USDT_Monthly_Close\",\"DASH_Monthly_Close\",\"DOGE_Monthly_Close\",\"BTC_Monthly_Close\",\"ETH_Monthly_Close\",\"LTC_Monthly_Close\",\"ADA_Monthly_Close\",\"XLM_Monthly_Close\",\"XRP_Monthly_Close\",\"LISK_Monthly_Close\",\"WAVES_Monthly_Close\",\"ZEC_Monthly_Close\",\"SC_Monthly_Close\",\"USDT_Monthly_Close\",\"DASH_Monthly_Close\",\"DOGE_Monthly_Close\",\"BTC_Monthly_Close\",\"ETH_Monthly_Close\",\"LTC_Monthly_Close\",\"ADA_Monthly_Close\",\"XLM_Monthly_Close\",\"XRP_Monthly_Close\",\"LISK_Monthly_Close\",\"WAVES_Monthly_Close\",\"ZEC_Monthly_Close\",\"SC_Monthly_Close\",\"USDT_Monthly_Close\",\"DASH_Monthly_Close\",\"DOGE_Monthly_Close\",\"BTC_Monthly_Close\",\"ETH_Monthly_Close\",\"LTC_Monthly_Close\",\"ADA_Monthly_Close\",\"XLM_Monthly_Close\",\"XRP_Monthly_Close\",\"LISK_Monthly_Close\",\"WAVES_Monthly_Close\",\"ZEC_Monthly_Close\",\"SC_Monthly_Close\",\"USDT_Monthly_Close\",\"DASH_Monthly_Close\",\"DOGE_Monthly_Close\",\"BTC_Monthly_Close\",\"ETH_Monthly_Close\",\"LTC_Monthly_Close\",\"ADA_Monthly_Close\",\"XLM_Monthly_Close\",\"XRP_Monthly_Close\",\"LISK_Monthly_Close\",\"WAVES_Monthly_Close\",\"ZEC_Monthly_Close\",\"SC_Monthly_Close\",\"USDT_Monthly_Close\",\"DASH_Monthly_Close\",\"DOGE_Monthly_Close\",\"BTC_Monthly_Close\",\"ETH_Monthly_Close\",\"LTC_Monthly_Close\",\"ADA_Monthly_Close\",\"XLM_Monthly_Close\",\"XRP_Monthly_Close\",\"LISK_Monthly_Close\",\"WAVES_Monthly_Close\",\"ZEC_Monthly_Close\",\"SC_Monthly_Close\",\"USDT_Monthly_Close\",\"DASH_Monthly_Close\",\"DOGE_Monthly_Close\",\"BTC_Monthly_Close\",\"ETH_Monthly_Close\",\"LTC_Monthly_Close\",\"ADA_Monthly_Close\",\"XLM_Monthly_Close\",\"XRP_Monthly_Close\",\"LISK_Monthly_Close\",\"WAVES_Monthly_Close\",\"ZEC_Monthly_Close\",\"SC_Monthly_Close\",\"USDT_Monthly_Close\",\"DASH_Monthly_Close\",\"DOGE_Monthly_Close\"],\"value\":[\"1\",\"0.94812\",\"0.9407\",\"0.84766\",\"0.9323\",\"0.73636\",\"0.40168\",\"0.045718\",\"0.88345\",\"0.4731\",\"0.42982\",\"0.23426\",\"0.48875\",\"0.94812\",\"1\",\"0.85714\",\"0.93774\",\"0.94363\",\"0.83581\",\"0.54409\",\"0.27305\",\"0.95275\",\"0.64321\",\"0.65741\",\"0.2799\",\"0.44085\",\"0.9407\",\"0.85714\",\"1\",\"0.74822\",\"0.893\",\"0.67935\",\"0.39502\",\"0.10561\",\"0.79865\",\"0.49105\",\"0.33107\",\"0.10181\",\"0.69919\",\"0.84766\",\"0.93774\",\"0.74822\",\"1\",\"0.92965\",\"0.85508\",\"0.56712\",\"0.33826\",\"0.85824\",\"0.77109\",\"0.73741\",\"0.26779\",\"0.41334\",\"0.9323\",\"0.94363\",\"0.893\",\"0.92965\",\"1\",\"0.748\",\"0.39073\",\"0.31126\",\"0.82564\",\"0.65825\",\"0.63247\",\"0.22235\",\"0.50035\",\"0.73636\",\"0.83581\",\"0.67935\",\"0.85508\",\"0.748\",\"1\",\"0.88932\",\"0.32098\",\"0.89963\",\"0.69312\",\"0.57624\",\"0.16437\",\"0.60013\",\"0.40168\",\"0.54409\",\"0.39502\",\"0.56712\",\"0.39073\",\"0.88932\",\"1\",\"0.31096\",\"0.71073\",\"0.5999\",\"0.3949\",\"0.03927\",\"0.59507\",\"0.045718\",\"0.27305\",\"0.10561\",\"0.33826\",\"0.31126\",\"0.32098\",\"0.31096\",\"1\",\"0.25489\",\"0.63088\",\"0.8057\",\"-0.12524\",\"0.25172\",\"0.88345\",\"0.95275\",\"0.79865\",\"0.85824\",\"0.82564\",\"0.89963\",\"0.71073\",\"0.25489\",\"1\",\"0.59079\",\"0.58787\",\"0.25463\",\"0.48928\",\"0.4731\",\"0.64321\",\"0.49105\",\"0.77109\",\"0.65825\",\"0.69312\",\"0.5999\",\"0.63088\",\"0.59079\",\"1\",\"0.76727\",\"-0.15882\",\"0.58204\",\"0.42982\",\"0.65741\",\"0.33107\",\"0.73741\",\"0.63247\",\"0.57624\",\"0.3949\",\"0.8057\",\"0.58787\",\"0.76727\",\"1\",\"0.090131\",\"0.13458\",\"0.23426\",\"0.2799\",\"0.10181\",\"0.26779\",\"0.22235\",\"0.16437\",\"0.03927\",\"-0.12524\",\"0.25463\",\"-0.15882\",\"0.090131\",\"1\",\"-0.37584\",\"0.48875\",\"0.44085\",\"0.69919\",\"0.41334\",\"0.50035\",\"0.60013\",\"0.59507\",\"0.25172\",\"0.48928\",\"0.58204\",\"0.13458\",\"-0.37584\",\"1\"],\"zvalues\":{\"__ndarray__\":\"AAAAAAAA8D9FQT1iAFfuP2DvqRs5Gu4/ogjM8gUg6z+ffLSdbdXtP79+1rs6kOc/xYtG5Qy12T86ZlJPaGinP4kQNfEuRew/SLLkXEZH3j/OGA8RPYLbP5ghQo4s/M0/QaObjL9H3z9FQT1iAFfuPwAAAAAAAPA/YIz2WbFt6z/q2uM97gHuP4fPN9ItMu4/x+fkCf6+6j/YMVhsN2nhP4zIw3q0edE/zwGFA+587j+O6I7cMpXkP1Ak/dGBCeU/IrIPOOvp0T8hsB3m6zbcP2DvqRs5Gu4/YIz2WbFt6z8AAAAAAADwP6F8euJq8ec/H7su1nuT7D9nbO2pPb3lP0WRRhsMSNk/cHlem3gJuz9qua5Ek47pP5OxefJmbd8/vM4kQyww1T8G8xFBSBC6P6FY+xDKX+Y/ogjM8gUg6z/q2uM97gHuP6F8euJq8ec/AAAAAAAA8D/dWtdksL/tP0hbjqvQXOs/JBp3CNQl4j+dP1MtCabVP5WKQk64dus/OYLIL7ys6D8a18ZC55jnP/A+Egd1I9E/7kWaRC502j+ffLSdbdXtP4fPN9ItMu4/H7su1nuT7D/dWtdksL/tPwAAAAAAAPA/at5mg5jv5z90TTfnsQHZP1t29auf69M/ZhLiD65r6j+yLdtLWhDlP0NW8BAtPeQ/ENB8odx1zD81OzX+2wLgP79+1rs6kOc/x+fkCf6+6j9nbO2pPb3lP0hbjqvQXOs/at5mg5jv5z8AAAAAAADwP1QfQsFFdew/lDIW3+qK1D8BQzUnw8nsPyZkLkADLuY/5cvD8I5w4j942dQI7QnFP/IWeplLNOM/xYtG5Qy12T/YMVhsN2nhP0WRRhsMSNk/JBp3CNQl4j90TTfnsQHZP1QfQsFFdew/AAAAAAAA8D+hDXtu1ebTP5CzKmNFvuY/PtOi9Fwy4z/Kg6uwCEbZPzkj9cAtG6Q/7Fb8gtoK4z86ZlJPaGinP4zIw3q0edE/cHlem3gJuz+dP1MtCabVP1t29auf69M/lDIW3+qK1D+hDXtu1ebTPwAAAAAAAPA/w+EOcS5Q0D8JDvxBLzDkP++yOfRAyOk/8HISEvcHwL+B8rRZIBzQP4kQNfEuRew/zwGFA+587j9qua5Ek47pP5WKQk64dus/ZhLiD65r6j8BQzUnw8nsP5CzKmNFvuY/w+EOcS5Q0D8AAAAAAADwP8cjbR635+I/jF+2QdTP4j/OxBMH60vQP3V1Y1lSUN8/SLLkXEZH3j+O6I7cMpXkP5OxefJmbd8/OYLIL7ys6D+yLdtLWhDlPyZkLkADLuY/PtOi9Fwy4z8JDvxBLzDkP8cjbR635+I/AAAAAAAA8D+hGajafY3oP/n+xk4lVMS/KW70qQig4j/OGA8RPYLbP1Ak/dGBCeU/vM4kQyww1T8a18ZC55jnP0NW8BAtPeQ/5cvD8I5w4j/Kg6uwCEbZP++yOfRAyOk/jF+2QdTP4j+hGajafY3oPwAAAAAAAPA/GkTr6M4Stz8eTPfn+znBP5ghQo4s/M0/IrIPOOvp0T8G8xFBSBC6P/A+Egd1I9E/ENB8odx1zD942dQI7QnFPzkj9cAtG6Q/8HISEvcHwL/OxBMH60vQP/n+xk4lVMS/GkTr6M4Stz8AAAAAAADwPxbuDz3KDdi/QaObjL9H3z8hsB3m6zbcP6FY+xDKX+Y/7kWaRC502j81OzX+2wLgP/IWeplLNOM/7Fb8gtoK4z+B8rRZIBzQP3V1Y1lSUN8/KW70qQig4j8eTPfn+znBPxbuDz3KDdi/AAAAAAAA8D8=\",\"dtype\":\"float64\",\"order\":\"little\",\"shape\":[169]}},\"selected\":{\"id\":\"2648\"},\"selection_policy\":{\"id\":\"2672\"}},\"id\":\"2647\",\"type\":\"ColumnDataSource\"},{\"attributes\":{},\"id\":\"2623\",\"type\":\"CategoricalScale\"},{\"attributes\":{},\"id\":\"2628\",\"type\":\"CategoricalTicker\"},{\"attributes\":{},\"id\":\"2659\",\"type\":\"AllLabels\"},{\"attributes\":{\"text_color\":\"black\",\"text_font_size\":\"12pt\"},\"id\":\"2619\",\"type\":\"Title\"},{\"attributes\":{\"axis\":{\"id\":\"2627\"},\"grid_line_color\":null,\"ticker\":null},\"id\":\"2629\",\"type\":\"Grid\"},{\"attributes\":{},\"id\":\"2631\",\"type\":\"CategoricalTicker\"},{\"attributes\":{\"axis_label\":\"\",\"formatter\":{\"id\":\"2661\"},\"major_label_policy\":{\"id\":\"2662\"},\"ticker\":{\"id\":\"2631\"}},\"id\":\"2630\",\"type\":\"CategoricalAxis\"},{\"attributes\":{\"callback\":null,\"renderers\":[{\"id\":\"2653\"}],\"tags\":[\"hv_created\"],\"tooltips\":[[\"columns\",\"@{columns}\"],[\"index\",\"@{index}\"],[\"value\",\"@{value}\"]]},\"id\":\"2617\",\"type\":\"HoverTool\"},{\"attributes\":{},\"id\":\"2661\",\"type\":\"CategoricalTickFormatter\"},{\"attributes\":{\"children\":[{\"id\":\"2614\"},{\"id\":\"2618\"},{\"id\":\"2685\"}],\"margin\":[0,0,0,0],\"name\":\"Row03693\",\"tags\":[\"embedded\"]},\"id\":\"2613\",\"type\":\"Row\"},{\"attributes\":{\"high\":1.0,\"low\":-0.37584167445285865,\"nan_color\":\"white\",\"palette\":[\"#b3fef5\",\"#b0fef5\",\"#adfdf5\",\"#a9fcf5\",\"#a6fbf6\",\"#a3faf6\",\"#a0faf6\",\"#9df9f6\",\"#9af8f6\",\"#97f7f6\",\"#93f7f6\",\"#90f6f6\",\"#8df5f6\",\"#8af4f7\",\"#87f3f7\",\"#83f2f7\",\"#80f2f7\",\"#7df1f7\",\"#79f0f7\",\"#76eff7\",\"#73eef7\",\"#6fedf8\",\"#6cecf8\",\"#68ecf8\",\"#65ebf8\",\"#61eaf8\",\"#5ee9f8\",\"#5ae8f8\",\"#57e7f8\",\"#53e6f8\",\"#50e5f9\",\"#4ce4f9\",\"#49e3f9\",\"#45e2f9\",\"#42e1f9\",\"#3ee0f9\",\"#3bdff9\",\"#38def9\",\"#35ddf9\",\"#32dcf9\",\"#30dbfa\",\"#2ed9fa\",\"#2dd8fa\",\"#2cd7fa\",\"#2bd6fa\",\"#2bd5fa\",\"#2ad3fa\",\"#2ad2fa\",\"#29d1fa\",\"#29d0fb\",\"#29cffb\",\"#28cdfb\",\"#28ccfb\",\"#28cbfb\",\"#28cafb\",\"#28c8fb\",\"#28c7fb\",\"#29c6fb\",\"#29c5fb\",\"#29c4fb\",\"#29c2fb\",\"#2ac1fb\",\"#2ac0fb\",\"#2bbffb\",\"#2bbdfc\",\"#2cbcfc\",\"#2dbbfc\",\"#2db9fc\",\"#2eb8fc\",\"#2fb7fc\",\"#2fb6fc\",\"#30b4fc\",\"#31b3fc\",\"#32b2fc\",\"#32b0fc\",\"#33affc\",\"#33aefc\",\"#34adfc\",\"#34abfc\",\"#34aafc\",\"#35a9fc\",\"#35a8fc\",\"#35a6fc\",\"#35a5fc\",\"#35a4fc\",\"#35a3fc\",\"#35a1fc\",\"#35a0fc\",\"#359ffc\",\"#359dfc\",\"#359cfc\",\"#359bfc\",\"#349afd\",\"#3498fd\",\"#3497fd\",\"#3396fd\",\"#3395fd\",\"#3293fd\",\"#3292fd\",\"#3191fd\",\"#3090fd\",\"#308ffd\",\"#2f8dfd\",\"#2f8cfd\",\"#2e8bfd\",\"#2e8afd\",\"#2d88fd\",\"#2d87fd\",\"#2c86fd\",\"#2c84fd\",\"#2c83fd\",\"#2c82fd\",\"#2b81fd\",\"#2b7ffd\",\"#2b7efd\",\"#2b7dfd\",\"#2b7bfd\",\"#2b7afd\",\"#2b79fd\",\"#2b77fd\",\"#2b76fd\",\"#2b75fd\",\"#2b73fd\",\"#2c72fd\",\"#2c71fd\",\"#2c6ffd\",\"#2c6efd\",\"#2d6cfd\",\"#2d6bfd\",\"#2d6afc\",\"#2e68fc\",\"#2e67fc\",\"#2e65fc\",\"#2e64fc\",\"#2f62fc\",\"#2f61fc\",\"#2f5ffc\",\"#2f5efc\",\"#2f5dfc\",\"#2f5bfc\",\"#2f5afc\",\"#2f58fb\",\"#2f57fb\",\"#2f55fb\",\"#2f53fb\",\"#2f52fb\",\"#2f50fb\",\"#2f4ffb\",\"#2f4dfb\",\"#2e4cfb\",\"#2e4afb\",\"#2e48fb\",\"#2e47fa\",\"#2d45fa\",\"#2d43fa\",\"#2d42fa\",\"#2d40fa\",\"#2c3efa\",\"#2c3dfa\",\"#2b3bf9\",\"#2b39f9\",\"#2a37f9\",\"#2a36f8\",\"#2934f8\",\"#2832f7\",\"#2831f7\",\"#272ff6\",\"#262ef5\",\"#252cf5\",\"#252af4\",\"#2429f3\",\"#2327f2\",\"#2226f1\",\"#2124f0\",\"#2023ef\",\"#1f22ee\",\"#1e20ed\",\"#1d1feb\",\"#1c1eea\",\"#1b1ce9\",\"#1a1be7\",\"#181ae6\",\"#1719e5\",\"#1618e3\",\"#1417e1\",\"#1316e0\",\"#1215de\",\"#1014dc\",\"#0f13db\",\"#0e12d9\",\"#0d11d7\",\"#0c10d5\",\"#0b0fd3\",\"#0a0ed1\",\"#090dd0\",\"#080dce\",\"#080ccc\",\"#070bca\",\"#070ac8\",\"#0709c6\",\"#0708c4\",\"#0707c2\",\"#0707bf\",\"#0806bd\",\"#0806bb\",\"#0905b9\",\"#0904b7\",\"#0a04b5\",\"#0a04b2\",\"#0b03b0\",\"#0c03ae\",\"#0d02ab\",\"#0e02a9\",\"#0e02a7\",\"#0f02a4\",\"#0f01a2\",\"#1001a0\",\"#10019d\",\"#10019b\",\"#100199\",\"#100197\",\"#100194\",\"#0f0192\",\"#0f0190\",\"#0f018e\",\"#0e018b\",\"#0e0189\",\"#0d0187\",\"#0d0185\",\"#0c0183\",\"#0b0181\",\"#0b017e\",\"#0a017c\",\"#09017a\",\"#090178\",\"#080276\",\"#070274\",\"#060272\",\"#060270\",\"#05026e\",\"#04026c\",\"#030269\",\"#030267\",\"#020265\",\"#010263\",\"#010261\",\"#00025f\",\"#00025d\",\"#00025b\",\"#000259\",\"#000257\",\"#000255\",\"#000154\",\"#000152\",\"#000150\",\"#00004e\"]},\"id\":\"2646\",\"type\":\"LinearColorMapper\"},{\"attributes\":{\"axis\":{\"id\":\"2630\"},\"dimension\":1,\"grid_line_color\":null,\"ticker\":null},\"id\":\"2632\",\"type\":\"Grid\"},{\"attributes\":{\"active_multi\":null,\"tools\":[{\"id\":\"2617\"},{\"id\":\"2633\"},{\"id\":\"2634\"},{\"id\":\"2635\"},{\"id\":\"2636\"},{\"id\":\"2637\"}]},\"id\":\"2639\",\"type\":\"Toolbar\"},{\"attributes\":{\"factors\":[\"BTC_Monthly_Close\",\"ETH_Monthly_Close\",\"LTC_Monthly_Close\",\"ADA_Monthly_Close\",\"XLM_Monthly_Close\",\"XRP_Monthly_Close\",\"LISK_Monthly_Close\",\"WAVES_Monthly_Close\",\"ZEC_Monthly_Close\",\"SC_Monthly_Close\",\"USDT_Monthly_Close\",\"DASH_Monthly_Close\",\"DOGE_Monthly_Close\"],\"tags\":[[[\"index\",\"index\",null]]]},\"id\":\"2616\",\"type\":\"FactorRange\"},{\"attributes\":{\"factors\":[\"BTC_Monthly_Close\",\"ETH_Monthly_Close\",\"LTC_Monthly_Close\",\"ADA_Monthly_Close\",\"XLM_Monthly_Close\",\"XRP_Monthly_Close\",\"LISK_Monthly_Close\",\"WAVES_Monthly_Close\",\"ZEC_Monthly_Close\",\"SC_Monthly_Close\",\"USDT_Monthly_Close\",\"DASH_Monthly_Close\",\"DOGE_Monthly_Close\"],\"tags\":[[[\"columns\",\"columns\",null]]]},\"id\":\"2615\",\"type\":\"FactorRange\"},{\"attributes\":{},\"id\":\"2633\",\"type\":\"SaveTool\"},{\"attributes\":{\"fill_alpha\":{\"value\":0.1},\"fill_color\":{\"field\":\"zvalues\",\"transform\":{\"id\":\"2646\"}},\"height\":{\"value\":1},\"line_alpha\":{\"value\":0},\"line_color\":{\"value\":\"#1f77b4\"},\"width\":{\"value\":1},\"x\":{\"field\":\"columns\"},\"y\":{\"field\":\"index\"}},\"id\":\"2651\",\"type\":\"Rect\"},{\"attributes\":{\"margin\":[5,5,5,5],\"name\":\"HSpacer03698\",\"sizing_mode\":\"stretch_width\"},\"id\":\"2685\",\"type\":\"Spacer\"},{\"attributes\":{},\"id\":\"2634\",\"type\":\"PanTool\"},{\"attributes\":{},\"id\":\"2672\",\"type\":\"UnionRenderers\"},{\"attributes\":{},\"id\":\"2635\",\"type\":\"WheelZoomTool\"},{\"attributes\":{\"below\":[{\"id\":\"2627\"}],\"center\":[{\"id\":\"2629\"},{\"id\":\"2632\"}],\"height\":300,\"left\":[{\"id\":\"2630\"}],\"margin\":[5,5,5,5],\"min_border_bottom\":10,\"min_border_left\":10,\"min_border_right\":10,\"min_border_top\":10,\"renderers\":[{\"id\":\"2653\"}],\"right\":[{\"id\":\"2656\"}],\"sizing_mode\":\"fixed\",\"title\":{\"id\":\"2619\"},\"toolbar\":{\"id\":\"2639\"},\"width\":700,\"x_range\":{\"id\":\"2615\"},\"x_scale\":{\"id\":\"2623\"},\"y_range\":{\"id\":\"2616\"},\"y_scale\":{\"id\":\"2625\"}},\"id\":\"2618\",\"subtype\":\"Figure\",\"type\":\"Plot\"},{\"attributes\":{\"overlay\":{\"id\":\"2638\"}},\"id\":\"2636\",\"type\":\"BoxZoomTool\"},{\"attributes\":{\"fill_color\":{\"field\":\"zvalues\",\"transform\":{\"id\":\"2646\"}},\"height\":{\"value\":1},\"line_alpha\":{\"value\":0},\"line_color\":{\"value\":\"#1f77b4\"},\"width\":{\"value\":1},\"x\":{\"field\":\"columns\"},\"y\":{\"field\":\"index\"}},\"id\":\"2650\",\"type\":\"Rect\"},{\"attributes\":{\"bar_line_color\":\"black\",\"color_mapper\":{\"id\":\"2646\"},\"label_standoff\":8,\"location\":[0,0],\"major_label_policy\":{\"id\":\"2670\"},\"major_tick_line_color\":\"black\",\"ticker\":{\"id\":\"2655\"}},\"id\":\"2656\",\"type\":\"ColorBar\"},{\"attributes\":{},\"id\":\"2648\",\"type\":\"Selection\"}],\"root_ids\":[\"2613\"]},\"title\":\"Bokeh Application\",\"version\":\"2.3.2\"}};\n",
       "    var render_items = [{\"docid\":\"45782e8f-721e-485d-a8ef-063847dcd192\",\"root_ids\":[\"2613\"],\"roots\":{\"2613\":\"14c8ec18-ffba-4f1c-af66-42d2c25b9c73\"}}];\n",
       "    root.Bokeh.embed.embed_items_notebook(docs_json, render_items);\n",
       "  }\n",
       "  if (root.Bokeh !== undefined && root.Bokeh.Panel !== undefined) {\n",
       "    embed_document(root);\n",
       "  } else {\n",
       "    var attempts = 0;\n",
       "    var timer = setInterval(function(root) {\n",
       "      if (root.Bokeh !== undefined && root.Bokeh.Panel !== undefined) {\n",
       "        clearInterval(timer);\n",
       "        embed_document(root);\n",
       "      } else if (document.readyState == \"complete\") {\n",
       "        attempts++;\n",
       "        if (attempts > 200) {\n",
       "          clearInterval(timer);\n",
       "          console.log(\"Bokeh: ERROR: Unable to run BokehJS code because BokehJS library is missing\");\n",
       "        }\n",
       "      }\n",
       "    }, 25, root)\n",
       "  }\n",
       "})(window);</script>"
      ],
      "text/plain": [
       ":HeatMap   [columns,index]   (value)"
      ]
     },
     "execution_count": 200,
     "metadata": {
      "application/vnd.holoviews_exec.v0+json": {
       "id": "2613"
      }
     },
     "output_type": "execute_result"
    }
   ],
   "source": [
    "# a better heatmap function\n",
    "correlation_2020 = correlation.hvplot.heatmap()\n",
    "correlation_2020"
   ]
  },
  {
   "cell_type": "code",
   "execution_count": 201,
   "id": "7817870d",
   "metadata": {},
   "outputs": [],
   "source": [
    "# saving plot - located in hvplot_frontend\n",
    "# hvplot.save(correlation_2020, 'correlation_2020.html')"
   ]
  },
  {
   "cell_type": "code",
   "execution_count": 202,
   "id": "c464d3c7",
   "metadata": {},
   "outputs": [
    {
     "data": {},
     "metadata": {},
     "output_type": "display_data"
    },
    {
     "data": {
      "application/vnd.holoviews_exec.v0+json": "",
      "text/html": [
       "<div id='2742'>\n",
       "\n",
       "\n",
       "\n",
       "\n",
       "\n",
       "  <div class=\"bk-root\" id=\"42ec51a0-549c-40b7-a95f-648536985f8b\" data-root-id=\"2742\"></div>\n",
       "</div>\n",
       "<script type=\"application/javascript\">(function(root) {\n",
       "  function embed_document(root) {\n",
       "    var docs_json = {\"f300388d-26a8-4c08-81ec-7170a2b63e6d\":{\"defs\":[{\"extends\":null,\"module\":null,\"name\":\"ReactiveHTML1\",\"overrides\":[],\"properties\":[]},{\"extends\":null,\"module\":null,\"name\":\"FlexBox1\",\"overrides\":[],\"properties\":[{\"default\":\"flex-start\",\"kind\":null,\"name\":\"align_content\"},{\"default\":\"flex-start\",\"kind\":null,\"name\":\"align_items\"},{\"default\":\"row\",\"kind\":null,\"name\":\"flex_direction\"},{\"default\":\"wrap\",\"kind\":null,\"name\":\"flex_wrap\"},{\"default\":\"flex-start\",\"kind\":null,\"name\":\"justify_content\"}]},{\"extends\":null,\"module\":null,\"name\":\"TemplateActions1\",\"overrides\":[],\"properties\":[{\"default\":0,\"kind\":null,\"name\":\"open_modal\"},{\"default\":0,\"kind\":null,\"name\":\"close_modal\"}]},{\"extends\":null,\"module\":null,\"name\":\"MaterialTemplateActions1\",\"overrides\":[],\"properties\":[{\"default\":0,\"kind\":null,\"name\":\"open_modal\"},{\"default\":0,\"kind\":null,\"name\":\"close_modal\"}]}],\"roots\":{\"references\":[{\"attributes\":{\"line_alpha\":{\"value\":1.0},\"line_cap\":{\"value\":\"butt\"},\"line_color\":{\"value\":\"black\"},\"line_dash\":{\"value\":[]},\"line_dash_offset\":{\"value\":0},\"line_join\":{\"value\":\"bevel\"},\"line_width\":{\"value\":1},\"x0\":{\"field\":\"x0\"},\"x1\":{\"field\":\"x1\"},\"y0\":{\"field\":\"y0\"},\"y1\":{\"field\":\"y1\"}},\"id\":\"2794\",\"type\":\"Segment\"},{\"attributes\":{\"x0\":{\"field\":\"x0\"},\"x1\":{\"field\":\"x1\"},\"y0\":{\"field\":\"y0\"},\"y1\":{\"field\":\"y1\"}},\"id\":\"2790\",\"type\":\"Segment\"},{\"attributes\":{},\"id\":\"2830\",\"type\":\"Selection\"},{\"attributes\":{\"end\":2.0110979099649238,\"reset_end\":2.0110979099649238,\"reset_start\":-0.913193306126519,\"start\":-0.913193306126519,\"tags\":[[[\"value\",\"value\",null]]]},\"id\":\"2745\",\"type\":\"Range1d\"},{\"attributes\":{\"bottom\":{\"field\":\"bottom\"},\"fill_alpha\":{\"value\":0.1},\"fill_color\":{\"value\":\"cyan\"},\"line_alpha\":{\"value\":0.1},\"top\":{\"field\":\"top\"},\"width\":{\"value\":0.7},\"x\":{\"field\":\"index\"}},\"id\":\"2812\",\"type\":\"VBar\"},{\"attributes\":{\"source\":{\"id\":\"2788\"}},\"id\":\"2793\",\"type\":\"CDSView\"},{\"attributes\":{},\"id\":\"2871\",\"type\":\"UnionRenderers\"},{\"attributes\":{},\"id\":\"2825\",\"type\":\"UnionRenderers\"},{\"attributes\":{\"data\":{\"x0\":[[\"BTC\",-0.2],[\"ETH\",-0.2],[\"LTC\",-0.2],[\"ADA\",-0.2],[\"DOGE\",-0.2],[\"XLM\",-0.2],[\"XRP\",-0.2],[\"LISK\",-0.2],[\"ZEC\",-0.2],[\"SC\",-0.2],[\"USDT\",-0.2],[\"DASH\",-0.2],[\"WAVES\",-0.2]],\"x1\":[[\"BTC\",0.2],[\"ETH\",0.2],[\"LTC\",0.2],[\"ADA\",0.2],[\"DOGE\",0.2],[\"XLM\",0.2],[\"XRP\",0.2],[\"LISK\",0.2],[\"ZEC\",0.2],[\"SC\",0.2],[\"USDT\",0.2],[\"DASH\",0.2],[\"WAVES\",0.2]],\"y0\":[0.469405980282219,0.5941935317080738,0.5705840200644929,0.8488243563740165,0.469405980282219,0.39884493464761817,0.4451749798272615,0.48323640095791975,0.3536152069639369,0.4436031838477965,0.6015625,0.001903235500350542,0.40529967488286567],\"y1\":[0.469405980282219,0.5941935317080738,0.5705840200644929,0.8488243563740165,0.469405980282219,0.39884493464761817,0.4451749798272615,0.48323640095791975,0.3536152069639369,0.4436031838477965,0.6015625,0.001903235500350542,0.40529967488286567]},\"selected\":{\"id\":\"2832\"},\"selection_policy\":{\"id\":\"2831\"}},\"id\":\"2802\",\"type\":\"ColumnDataSource\"},{\"attributes\":{},\"id\":\"2831\",\"type\":\"UnionRenderers\"},{\"attributes\":{\"data_source\":{\"id\":\"2788\"},\"glyph\":{\"id\":\"2790\"},\"hover_glyph\":null,\"muted_glyph\":null,\"nonselection_glyph\":{\"id\":\"2791\"},\"selection_glyph\":{\"id\":\"2794\"},\"view\":{\"id\":\"2793\"}},\"id\":\"2792\",\"type\":\"GlyphRenderer\"},{\"attributes\":{},\"id\":\"2818\",\"type\":\"CategoricalTickFormatter\"},{\"attributes\":{\"factors\":[\"BTC\",\"ETH\",\"LTC\",\"ADA\",\"DOGE\",\"XLM\",\"XRP\",\"LISK\",\"ZEC\",\"SC\",\"USDT\",\"DASH\",\"WAVES\"],\"tags\":[[[\"Variable\",\"Variable\",null]]]},\"id\":\"2744\",\"type\":\"FactorRange\"},{\"attributes\":{\"x0\":{\"field\":\"x0\"},\"x1\":{\"field\":\"x1\"},\"y0\":{\"field\":\"y0\"},\"y1\":{\"field\":\"y1\"}},\"id\":\"2804\",\"type\":\"Segment\"},{\"attributes\":{\"source\":{\"id\":\"2838\"}},\"id\":\"2843\",\"type\":\"CDSView\"},{\"attributes\":{\"bottom_units\":\"screen\",\"fill_alpha\":0.5,\"fill_color\":\"lightgrey\",\"left_units\":\"screen\",\"level\":\"overlay\",\"line_alpha\":1.0,\"line_color\":\"black\",\"line_dash\":[4,4],\"line_width\":2,\"right_units\":\"screen\",\"syncable\":false,\"top_units\":\"screen\"},\"id\":\"2767\",\"type\":\"BoxAnnotation\"},{\"attributes\":{},\"id\":\"2753\",\"type\":\"LinearScale\"},{\"attributes\":{},\"id\":\"2832\",\"type\":\"Selection\"},{\"attributes\":{\"data_source\":{\"id\":\"2781\"},\"glyph\":{\"id\":\"2783\"},\"hover_glyph\":null,\"muted_glyph\":null,\"nonselection_glyph\":{\"id\":\"2784\"},\"selection_glyph\":{\"id\":\"2787\"},\"view\":{\"id\":\"2786\"}},\"id\":\"2785\",\"type\":\"GlyphRenderer\"},{\"attributes\":{\"data\":{\"bottom\":{\"__ndarray__\":\"4BsdlvYJrz904FUMf3jEP8CkeIFMipc/gIiLpT73mz/gGx2W9gmvPwAE7Hredks/AKL+xs/wUD/w8z1vi3+Zv2BfyCafoqc/ACk1NSySZL/otDPpAaq9PwBwU1TqOio/YH39Ep5Ygb8=\",\"dtype\":\"float64\",\"order\":\"little\",\"shape\":[13]},\"index\":[\"BTC\",\"ETH\",\"LTC\",\"ADA\",\"DOGE\",\"XLM\",\"XRP\",\"LISK\",\"ZEC\",\"SC\",\"USDT\",\"DASH\",\"WAVES\"],\"top\":{\"__ndarray__\":\"lB8uGG5tpr9gZw5NGN16v5J/WyuSX7u/drv5YCk/v7+UHy4Ybm2mv/LF1yMPIrK/fKqPIrjxur8QQ5iMck3Bv7ASMwnlIp6/sqbLwLwhyL/an7diznG7vwAivaoI1EK/um//4QTsv78=\",\"dtype\":\"float64\",\"order\":\"little\",\"shape\":[13]}},\"selected\":{\"id\":\"2872\"},\"selection_policy\":{\"id\":\"2871\"}},\"id\":\"2838\",\"type\":\"ColumnDataSource\"},{\"attributes\":{\"source\":{\"id\":\"2781\"}},\"id\":\"2786\",\"type\":\"CDSView\"},{\"attributes\":{\"margin\":[5,5,5,5],\"name\":\"HSpacer03880\",\"sizing_mode\":\"stretch_width\"},\"id\":\"2743\",\"type\":\"Spacer\"},{\"attributes\":{\"below\":[{\"id\":\"2755\"}],\"center\":[{\"id\":\"2757\"},{\"id\":\"2761\"},{\"id\":\"2835\"}],\"height\":300,\"left\":[{\"id\":\"2758\"}],\"margin\":[5,5,5,5],\"min_border_bottom\":10,\"min_border_left\":10,\"min_border_right\":10,\"min_border_top\":10,\"renderers\":[{\"id\":\"2778\"},{\"id\":\"2785\"},{\"id\":\"2792\"},{\"id\":\"2799\"},{\"id\":\"2806\"},{\"id\":\"2813\"},{\"id\":\"2842\"}],\"sizing_mode\":\"fixed\",\"title\":{\"id\":\"2747\"},\"toolbar\":{\"id\":\"2768\"},\"width\":700,\"x_range\":{\"id\":\"2744\"},\"x_scale\":{\"id\":\"2751\"},\"y_range\":{\"id\":\"2745\"},\"y_scale\":{\"id\":\"2753\"}},\"id\":\"2746\",\"subtype\":\"Figure\",\"type\":\"Plot\"},{\"attributes\":{\"line_alpha\":{\"value\":0.1},\"x0\":{\"field\":\"x0\"},\"x1\":{\"field\":\"x1\"},\"y0\":{\"field\":\"y0\"},\"y1\":{\"field\":\"y1\"}},\"id\":\"2798\",\"type\":\"Segment\"},{\"attributes\":{\"line_alpha\":{\"value\":0.1},\"x0\":{\"field\":\"x0\"},\"x1\":{\"field\":\"x1\"},\"y0\":{\"field\":\"y0\"},\"y1\":{\"field\":\"y1\"}},\"id\":\"2805\",\"type\":\"Segment\"},{\"attributes\":{\"axis_label\":\"Variable\",\"formatter\":{\"id\":\"2818\"},\"major_label_orientation\":0.7853981633974483,\"major_label_policy\":{\"id\":\"2817\"},\"ticker\":{\"id\":\"2756\"}},\"id\":\"2755\",\"type\":\"CategoricalAxis\"},{\"attributes\":{\"data_source\":{\"id\":\"2795\"},\"glyph\":{\"id\":\"2797\"},\"hover_glyph\":null,\"muted_glyph\":null,\"nonselection_glyph\":{\"id\":\"2798\"},\"selection_glyph\":{\"id\":\"2801\"},\"view\":{\"id\":\"2800\"}},\"id\":\"2799\",\"type\":\"GlyphRenderer\"},{\"attributes\":{\"bottom\":{\"field\":\"bottom\"},\"fill_alpha\":{\"value\":1.0},\"fill_color\":{\"value\":\"cyan\"},\"hatch_alpha\":{\"value\":1.0},\"hatch_color\":{\"value\":\"black\"},\"hatch_scale\":{\"value\":12.0},\"hatch_weight\":{\"value\":1.0},\"line_alpha\":{\"value\":1.0},\"line_cap\":{\"value\":\"butt\"},\"line_color\":{\"value\":\"black\"},\"line_dash\":{\"value\":[]},\"line_dash_offset\":{\"value\":0},\"line_join\":{\"value\":\"bevel\"},\"line_width\":{\"value\":1},\"top\":{\"field\":\"top\"},\"width\":{\"value\":0.7},\"x\":{\"field\":\"index\"}},\"id\":\"2837\",\"type\":\"VBar\"},{\"attributes\":{},\"id\":\"2872\",\"type\":\"Selection\"},{\"attributes\":{},\"id\":\"2751\",\"type\":\"CategoricalScale\"},{\"attributes\":{},\"id\":\"2826\",\"type\":\"Selection\"},{\"attributes\":{\"data\":{\"index\":[\"XRP\",\"XRP\",\"LISK\",\"LISK\",\"ZEC\",\"ZEC\"],\"value\":{\"__ndarray__\":\"xsq/U02W5D/CfAA6D8j5P3CHWYlMR/w/wGq/PJBs5b8E2FO3af31P67cGdWxLfM/\",\"dtype\":\"float64\",\"order\":\"little\",\"shape\":[6]}},\"selected\":{\"id\":\"2824\"},\"selection_policy\":{\"id\":\"2823\"}},\"id\":\"2774\",\"type\":\"ColumnDataSource\"},{\"attributes\":{\"line_alpha\":{\"value\":0.1},\"x0\":{\"field\":\"x0\"},\"x1\":{\"field\":\"x1\"},\"y0\":{\"field\":\"y0\"},\"y1\":{\"field\":\"y1\"}},\"id\":\"2784\",\"type\":\"Segment\"},{\"attributes\":{\"data_source\":{\"id\":\"2838\"},\"glyph\":{\"id\":\"2840\"},\"hover_glyph\":null,\"muted_glyph\":null,\"nonselection_glyph\":{\"id\":\"2841\"},\"selection_glyph\":{\"id\":\"2844\"},\"view\":{\"id\":\"2843\"}},\"id\":\"2842\",\"type\":\"GlyphRenderer\"},{\"attributes\":{\"line_alpha\":{\"value\":0.1},\"x0\":{\"field\":\"x0\"},\"x1\":{\"field\":\"x1\"},\"y0\":{\"field\":\"y0\"},\"y1\":{\"field\":\"y1\"}},\"id\":\"2791\",\"type\":\"Segment\"},{\"attributes\":{},\"id\":\"2823\",\"type\":\"UnionRenderers\"},{\"attributes\":{},\"id\":\"2827\",\"type\":\"UnionRenderers\"},{\"attributes\":{\"children\":[{\"id\":\"2743\"},{\"id\":\"2746\"},{\"id\":\"2895\"}],\"margin\":[0,0,0,0],\"name\":\"Row03876\",\"tags\":[\"embedded\"]},\"id\":\"2742\",\"type\":\"Row\"},{\"attributes\":{\"data_source\":{\"id\":\"2774\"},\"glyph\":{\"id\":\"2776\"},\"hover_glyph\":null,\"muted_glyph\":null,\"nonselection_glyph\":{\"id\":\"2777\"},\"selection_glyph\":{\"id\":\"2780\"},\"view\":{\"id\":\"2779\"}},\"id\":\"2778\",\"type\":\"GlyphRenderer\"},{\"attributes\":{\"data\":{\"x0\":[\"BTC\",\"ETH\",\"LTC\",\"ADA\",\"DOGE\",\"XLM\",\"XRP\",\"LISK\",\"ZEC\",\"SC\",\"USDT\",\"DASH\",\"WAVES\"],\"x1\":[\"BTC\",\"ETH\",\"LTC\",\"ADA\",\"DOGE\",\"XLM\",\"XRP\",\"LISK\",\"ZEC\",\"SC\",\"USDT\",\"DASH\",\"WAVES\"],\"y0\":{\"__ndarray__\":\"7OHuVOWez7+UqXvUouLYv9jlSepYydS/rGy+o7Od1r/s4e5U5Z7Pv6CzG3H5esi/iB/IXN3D17/A+mY5x9DOv1yzL2bzktK/ihr5mASa179OfjDncenbvwAe7LVtRFW/CGAlg71r1b8=\",\"dtype\":\"float64\",\"order\":\"little\",\"shape\":[13]},\"y1\":{\"__ndarray__\":\"lB8uGG5tpr9gZw5NGN16v5J/WyuSX7u/drv5YCk/v7+UHy4Ybm2mv/LF1yMPIrK/fKqPIrjxur8QQ5iMck3Bv7ASMwnlIp6/sqbLwLwhyL/an7diznG7vwAivaoI1EK/um//4QTsv78=\",\"dtype\":\"float64\",\"order\":\"little\",\"shape\":[13]}},\"selected\":{\"id\":\"2828\"},\"selection_policy\":{\"id\":\"2827\"}},\"id\":\"2788\",\"type\":\"ColumnDataSource\"},{\"attributes\":{},\"id\":\"2829\",\"type\":\"UnionRenderers\"},{\"attributes\":{\"text\":\"2020: Spread of Monthly Returns\",\"text_color\":\"black\",\"text_font_size\":\"12pt\"},\"id\":\"2747\",\"type\":\"Title\"},{\"attributes\":{\"fill_alpha\":{\"value\":0.1},\"fill_color\":{\"value\":\"red\"},\"line_alpha\":{\"value\":0.1},\"line_color\":{\"value\":\"red\"},\"x\":{\"field\":\"index\"},\"y\":{\"field\":\"value\"}},\"id\":\"2777\",\"type\":\"Circle\"},{\"attributes\":{\"data\":{\"x0\":[[\"BTC\",-0.2],[\"ETH\",-0.2],[\"LTC\",-0.2],[\"ADA\",-0.2],[\"DOGE\",-0.2],[\"XLM\",-0.2],[\"XRP\",-0.2],[\"LISK\",-0.2],[\"ZEC\",-0.2],[\"SC\",-0.2],[\"USDT\",-0.2],[\"DASH\",-0.2],[\"WAVES\",-0.2]],\"x1\":[[\"BTC\",0.2],[\"ETH\",0.2],[\"LTC\",0.2],[\"ADA\",0.2],[\"DOGE\",0.2],[\"XLM\",0.2],[\"XRP\",0.2],[\"LISK\",0.2],[\"ZEC\",0.2],[\"SC\",0.2],[\"USDT\",0.2],[\"DASH\",0.2],[\"WAVES\",0.2]],\"y0\":[-0.24703661582113,-0.3888327670125815,-0.3247892654395321,-0.35337534895524914,-0.24703661582113,-0.19125288031446264,-0.37132963238445216,-0.2407464056286326,-0.29021916369565814,-0.3687755102040816,-0.4361233480176211,-0.0012980529206191305,-0.33470094496942737],\"y1\":[-0.24703661582113,-0.3888327670125815,-0.3247892654395321,-0.35337534895524914,-0.24703661582113,-0.19125288031446264,-0.37132963238445216,-0.2407464056286326,-0.29021916369565814,-0.3687755102040816,-0.4361233480176211,-0.0012980529206191305,-0.33470094496942737]},\"selected\":{\"id\":\"2830\"},\"selection_policy\":{\"id\":\"2829\"}},\"id\":\"2795\",\"type\":\"ColumnDataSource\"},{\"attributes\":{},\"id\":\"2821\",\"type\":\"BasicTickFormatter\"},{\"attributes\":{\"axis\":{\"id\":\"2758\"},\"dimension\":1,\"grid_line_color\":null,\"ticker\":null},\"id\":\"2761\",\"type\":\"Grid\"},{\"attributes\":{\"margin\":[5,5,5,5],\"name\":\"HSpacer03881\",\"sizing_mode\":\"stretch_width\"},\"id\":\"2895\",\"type\":\"Spacer\"},{\"attributes\":{},\"id\":\"2820\",\"type\":\"AllLabels\"},{\"attributes\":{\"source\":{\"id\":\"2774\"}},\"id\":\"2779\",\"type\":\"CDSView\"},{\"attributes\":{},\"id\":\"2756\",\"type\":\"CategoricalTicker\"},{\"attributes\":{},\"id\":\"2833\",\"type\":\"UnionRenderers\"},{\"attributes\":{\"line_alpha\":{\"value\":1.0},\"line_cap\":{\"value\":\"butt\"},\"line_color\":{\"value\":\"black\"},\"line_dash\":{\"value\":[]},\"line_dash_offset\":{\"value\":0},\"line_join\":{\"value\":\"bevel\"},\"line_width\":{\"value\":1},\"x0\":{\"field\":\"x0\"},\"x1\":{\"field\":\"x1\"},\"y0\":{\"field\":\"y0\"},\"y1\":{\"field\":\"y1\"}},\"id\":\"2787\",\"type\":\"Segment\"},{\"attributes\":{\"data\":{\"x0\":[\"BTC\",\"ETH\",\"LTC\",\"ADA\",\"DOGE\",\"XLM\",\"XRP\",\"LISK\",\"ZEC\",\"SC\",\"USDT\",\"DASH\",\"WAVES\"],\"x1\":[\"BTC\",\"ETH\",\"LTC\",\"ADA\",\"DOGE\",\"XLM\",\"XRP\",\"LISK\",\"ZEC\",\"SC\",\"USDT\",\"DASH\",\"WAVES\"],\"y0\":{\"__ndarray__\":\"EPl2Yb8K3j8QykUnogPjP7SCOWs5QuI/vJZVspEp6z8Q+XZhvwreP1wnn+eshtk/TMHWMr993D/sdpZeWO3eP/zQUa2hodY/2MbBm/5j3D8AAAAAAEDjPwAEwo6/Ll8/xOIsDG7w2T8=\",\"dtype\":\"float64\",\"order\":\"little\",\"shape\":[13]},\"y1\":{\"__ndarray__\":\"K4ERuzkE0z/QctWmDaLUP5GZJOzYjdA/6Nsloyq94T8rgRG7OQTTP19HcfIs0tM/WEgquA9Bwz88BMuvIKe9P63vpd1c/9I/RFVgsOThyj8mTv2eW2LYPwANkma0M1E/nN1oKaYqwz8=\",\"dtype\":\"float64\",\"order\":\"little\",\"shape\":[13]}},\"selected\":{\"id\":\"2826\"},\"selection_policy\":{\"id\":\"2825\"}},\"id\":\"2781\",\"type\":\"ColumnDataSource\"},{\"attributes\":{\"line_alpha\":{\"value\":1.0},\"line_cap\":{\"value\":\"butt\"},\"line_color\":{\"value\":\"black\"},\"line_dash\":{\"value\":[]},\"line_dash_offset\":{\"value\":0},\"line_join\":{\"value\":\"bevel\"},\"line_width\":{\"value\":1},\"x0\":{\"field\":\"x0\"},\"x1\":{\"field\":\"x1\"},\"y0\":{\"field\":\"y0\"},\"y1\":{\"field\":\"y1\"}},\"id\":\"2808\",\"type\":\"Segment\"},{\"attributes\":{\"axis\":{\"id\":\"2755\"},\"grid_line_color\":null,\"ticker\":null},\"id\":\"2757\",\"type\":\"Grid\"},{\"attributes\":{\"line_alpha\":{\"value\":1.0},\"line_cap\":{\"value\":\"butt\"},\"line_color\":{\"value\":\"black\"},\"line_dash\":{\"value\":[]},\"line_dash_offset\":{\"value\":0},\"line_join\":{\"value\":\"bevel\"},\"line_width\":{\"value\":1},\"x0\":{\"field\":\"x0\"},\"x1\":{\"field\":\"x1\"},\"y0\":{\"field\":\"y0\"},\"y1\":{\"field\":\"y1\"}},\"id\":\"2801\",\"type\":\"Segment\"},{\"attributes\":{\"fill_color\":{\"value\":\"red\"},\"line_color\":{\"value\":\"red\"},\"x\":{\"field\":\"index\"},\"y\":{\"field\":\"value\"}},\"id\":\"2776\",\"type\":\"Circle\"},{\"attributes\":{},\"id\":\"2759\",\"type\":\"BasicTicker\"},{\"attributes\":{\"items\":[]},\"id\":\"2835\",\"type\":\"Legend\"},{\"attributes\":{},\"id\":\"2834\",\"type\":\"Selection\"},{\"attributes\":{\"axis_label\":\"\",\"formatter\":{\"id\":\"2821\"},\"major_label_policy\":{\"id\":\"2820\"},\"ticker\":{\"id\":\"2759\"}},\"id\":\"2758\",\"type\":\"LinearAxis\"},{\"attributes\":{\"source\":{\"id\":\"2795\"}},\"id\":\"2800\",\"type\":\"CDSView\"},{\"attributes\":{\"bottom\":{\"field\":\"bottom\"},\"fill_color\":{\"value\":\"cyan\"},\"top\":{\"field\":\"top\"},\"width\":{\"value\":0.7},\"x\":{\"field\":\"index\"}},\"id\":\"2840\",\"type\":\"VBar\"},{\"attributes\":{\"angle\":{\"value\":0.0},\"fill_alpha\":{\"value\":1.0},\"fill_color\":{\"value\":\"red\"},\"hatch_alpha\":{\"value\":1.0},\"hatch_color\":{\"value\":\"black\"},\"hatch_scale\":{\"value\":12.0},\"hatch_weight\":{\"value\":1.0},\"line_alpha\":{\"value\":1.0},\"line_cap\":{\"value\":\"butt\"},\"line_color\":{\"value\":\"red\"},\"line_dash\":{\"value\":[]},\"line_dash_offset\":{\"value\":0},\"line_join\":{\"value\":\"bevel\"},\"line_width\":{\"value\":1},\"size\":{\"value\":4},\"x\":{\"field\":\"index\"},\"y\":{\"field\":\"value\"}},\"id\":\"2780\",\"type\":\"Circle\"},{\"attributes\":{\"data_source\":{\"id\":\"2809\"},\"glyph\":{\"id\":\"2811\"},\"hover_glyph\":null,\"muted_glyph\":null,\"nonselection_glyph\":{\"id\":\"2812\"},\"selection_glyph\":{\"id\":\"2837\"},\"view\":{\"id\":\"2814\"}},\"id\":\"2813\",\"type\":\"GlyphRenderer\"},{\"attributes\":{\"data\":{\"bottom\":{\"__ndarray__\":\"K4ERuzkE0z/QctWmDaLUP5GZJOzYjdA/6Nsloyq94T8rgRG7OQTTP19HcfIs0tM/WEgquA9Bwz88BMuvIKe9P63vpd1c/9I/RFVgsOThyj8mTv2eW2LYPwANkma0M1E/nN1oKaYqwz8=\",\"dtype\":\"float64\",\"order\":\"little\",\"shape\":[13]},\"index\":[\"BTC\",\"ETH\",\"LTC\",\"ADA\",\"DOGE\",\"XLM\",\"XRP\",\"LISK\",\"ZEC\",\"SC\",\"USDT\",\"DASH\",\"WAVES\"],\"top\":{\"__ndarray__\":\"4BsdlvYJrz904FUMf3jEP8CkeIFMipc/gIiLpT73mz/gGx2W9gmvPwAE7Hredks/AKL+xs/wUD/w8z1vi3+Zv2BfyCafoqc/ACk1NSySZL/otDPpAaq9PwBwU1TqOio/YH39Ep5Ygb8=\",\"dtype\":\"float64\",\"order\":\"little\",\"shape\":[13]}},\"selected\":{\"id\":\"2834\"},\"selection_policy\":{\"id\":\"2833\"}},\"id\":\"2809\",\"type\":\"ColumnDataSource\"},{\"attributes\":{\"active_multi\":null,\"tools\":[{\"id\":\"2762\"},{\"id\":\"2763\"},{\"id\":\"2764\"},{\"id\":\"2765\"},{\"id\":\"2766\"}]},\"id\":\"2768\",\"type\":\"Toolbar\"},{\"attributes\":{\"bottom\":{\"field\":\"bottom\"},\"fill_alpha\":{\"value\":1.0},\"fill_color\":{\"value\":\"cyan\"},\"hatch_alpha\":{\"value\":1.0},\"hatch_color\":{\"value\":\"black\"},\"hatch_scale\":{\"value\":12.0},\"hatch_weight\":{\"value\":1.0},\"line_alpha\":{\"value\":1.0},\"line_cap\":{\"value\":\"butt\"},\"line_color\":{\"value\":\"black\"},\"line_dash\":{\"value\":[]},\"line_dash_offset\":{\"value\":0},\"line_join\":{\"value\":\"bevel\"},\"line_width\":{\"value\":1},\"top\":{\"field\":\"top\"},\"width\":{\"value\":0.7},\"x\":{\"field\":\"index\"}},\"id\":\"2844\",\"type\":\"VBar\"},{\"attributes\":{\"x0\":{\"field\":\"x0\"},\"x1\":{\"field\":\"x1\"},\"y0\":{\"field\":\"y0\"},\"y1\":{\"field\":\"y1\"}},\"id\":\"2797\",\"type\":\"Segment\"},{\"attributes\":{\"bottom\":{\"field\":\"bottom\"},\"fill_color\":{\"value\":\"cyan\"},\"top\":{\"field\":\"top\"},\"width\":{\"value\":0.7},\"x\":{\"field\":\"index\"}},\"id\":\"2811\",\"type\":\"VBar\"},{\"attributes\":{\"bottom\":{\"field\":\"bottom\"},\"fill_alpha\":{\"value\":0.1},\"fill_color\":{\"value\":\"cyan\"},\"line_alpha\":{\"value\":0.1},\"top\":{\"field\":\"top\"},\"width\":{\"value\":0.7},\"x\":{\"field\":\"index\"}},\"id\":\"2841\",\"type\":\"VBar\"},{\"attributes\":{},\"id\":\"2828\",\"type\":\"Selection\"},{\"attributes\":{},\"id\":\"2762\",\"type\":\"SaveTool\"},{\"attributes\":{},\"id\":\"2824\",\"type\":\"Selection\"},{\"attributes\":{\"source\":{\"id\":\"2802\"}},\"id\":\"2807\",\"type\":\"CDSView\"},{\"attributes\":{},\"id\":\"2763\",\"type\":\"PanTool\"},{\"attributes\":{\"data_source\":{\"id\":\"2802\"},\"glyph\":{\"id\":\"2804\"},\"hover_glyph\":null,\"muted_glyph\":null,\"nonselection_glyph\":{\"id\":\"2805\"},\"selection_glyph\":{\"id\":\"2808\"},\"view\":{\"id\":\"2807\"}},\"id\":\"2806\",\"type\":\"GlyphRenderer\"},{\"attributes\":{\"source\":{\"id\":\"2809\"}},\"id\":\"2814\",\"type\":\"CDSView\"},{\"attributes\":{},\"id\":\"2764\",\"type\":\"WheelZoomTool\"},{\"attributes\":{\"overlay\":{\"id\":\"2767\"}},\"id\":\"2765\",\"type\":\"BoxZoomTool\"},{\"attributes\":{},\"id\":\"2817\",\"type\":\"AllLabels\"},{\"attributes\":{},\"id\":\"2766\",\"type\":\"ResetTool\"},{\"attributes\":{\"x0\":{\"field\":\"x0\"},\"x1\":{\"field\":\"x1\"},\"y0\":{\"field\":\"y0\"},\"y1\":{\"field\":\"y1\"}},\"id\":\"2783\",\"type\":\"Segment\"}],\"root_ids\":[\"2742\"]},\"title\":\"Bokeh Application\",\"version\":\"2.3.2\"}};\n",
       "    var render_items = [{\"docid\":\"f300388d-26a8-4c08-81ec-7170a2b63e6d\",\"root_ids\":[\"2742\"],\"roots\":{\"2742\":\"42ec51a0-549c-40b7-a95f-648536985f8b\"}}];\n",
       "    root.Bokeh.embed.embed_items_notebook(docs_json, render_items);\n",
       "  }\n",
       "  if (root.Bokeh !== undefined && root.Bokeh.Panel !== undefined) {\n",
       "    embed_document(root);\n",
       "  } else {\n",
       "    var attempts = 0;\n",
       "    var timer = setInterval(function(root) {\n",
       "      if (root.Bokeh !== undefined && root.Bokeh.Panel !== undefined) {\n",
       "        clearInterval(timer);\n",
       "        embed_document(root);\n",
       "      } else if (document.readyState == \"complete\") {\n",
       "        attempts++;\n",
       "        if (attempts > 200) {\n",
       "          clearInterval(timer);\n",
       "          console.log(\"Bokeh: ERROR: Unable to run BokehJS code because BokehJS library is missing\");\n",
       "        }\n",
       "      }\n",
       "    }, 25, root)\n",
       "  }\n",
       "})(window);</script>"
      ],
      "text/plain": [
       ":BoxWhisker   [Variable]   (value)"
      ]
     },
     "execution_count": 202,
     "metadata": {
      "application/vnd.holoviews_exec.v0+json": {
       "id": "2742"
      }
     },
     "output_type": "execute_result"
    }
   ],
   "source": [
    "monthly_2020_returns_hv = monthly_2020_returns.hvplot.box(\n",
    "    title = \"2020: Spread of Monthly Returns\", \n",
    "    figsize = (30, 10), \n",
    "    rot = 45,  \n",
    "    box_fill_color = 'cyan', \n",
    "    outlier_color = 'red')\n",
    "\n",
    "monthly_2020_returns_hv"
   ]
  },
  {
   "cell_type": "code",
   "execution_count": 219,
   "id": "e2bad40e",
   "metadata": {},
   "outputs": [],
   "source": [
    "# saving plot - located in hvplot_frontend\n",
    "# hvplot.save(monthly_2020_returns_hv, 'monthly_2020_returns_hv.html')"
   ]
  },
  {
   "cell_type": "code",
   "execution_count": 220,
   "id": "beff769a",
   "metadata": {},
   "outputs": [
    {
     "data": {
      "text/html": [
       "<div>\n",
       "<style scoped>\n",
       "    .dataframe tbody tr th:only-of-type {\n",
       "        vertical-align: middle;\n",
       "    }\n",
       "\n",
       "    .dataframe tbody tr th {\n",
       "        vertical-align: top;\n",
       "    }\n",
       "\n",
       "    .dataframe thead th {\n",
       "        text-align: right;\n",
       "    }\n",
       "</style>\n",
       "<table border=\"1\" class=\"dataframe\">\n",
       "  <thead>\n",
       "    <tr style=\"text-align: right;\">\n",
       "      <th></th>\n",
       "      <th>BTC</th>\n",
       "      <th>ETH</th>\n",
       "      <th>LTC</th>\n",
       "      <th>ADA</th>\n",
       "      <th>DOGE</th>\n",
       "      <th>XLM</th>\n",
       "      <th>XRP</th>\n",
       "      <th>LISK</th>\n",
       "      <th>ZEC</th>\n",
       "      <th>SC</th>\n",
       "      <th>USDT</th>\n",
       "      <th>DASH</th>\n",
       "      <th>WAVES</th>\n",
       "    </tr>\n",
       "  </thead>\n",
       "  <tbody>\n",
       "    <tr>\n",
       "      <th>count</th>\n",
       "      <td>12.000000</td>\n",
       "      <td>12.000000</td>\n",
       "      <td>12.000000</td>\n",
       "      <td>12.000000</td>\n",
       "      <td>12.000000</td>\n",
       "      <td>12.000000</td>\n",
       "      <td>12.000000</td>\n",
       "      <td>12.000000</td>\n",
       "      <td>12.000000</td>\n",
       "      <td>12.000000</td>\n",
       "      <td>12.000000</td>\n",
       "      <td>12.000000</td>\n",
       "      <td>12.000000</td>\n",
       "    </tr>\n",
       "    <tr>\n",
       "      <th>mean</th>\n",
       "      <td>0.120320</td>\n",
       "      <td>0.162724</td>\n",
       "      <td>0.084865</td>\n",
       "      <td>0.163811</td>\n",
       "      <td>0.120320</td>\n",
       "      <td>0.078082</td>\n",
       "      <td>0.149596</td>\n",
       "      <td>0.106072</td>\n",
       "      <td>0.254156</td>\n",
       "      <td>0.030029</td>\n",
       "      <td>0.106605</td>\n",
       "      <td>0.000226</td>\n",
       "      <td>0.021395</td>\n",
       "    </tr>\n",
       "    <tr>\n",
       "      <th>std</th>\n",
       "      <td>0.227798</td>\n",
       "      <td>0.297618</td>\n",
       "      <td>0.279299</td>\n",
       "      <td>0.390680</td>\n",
       "      <td>0.227798</td>\n",
       "      <td>0.216572</td>\n",
       "      <td>0.541170</td>\n",
       "      <td>0.589630</td>\n",
       "      <td>0.516525</td>\n",
       "      <td>0.273503</td>\n",
       "      <td>0.329995</td>\n",
       "      <td>0.001124</td>\n",
       "      <td>0.217355</td>\n",
       "    </tr>\n",
       "    <tr>\n",
       "      <th>min</th>\n",
       "      <td>-0.247037</td>\n",
       "      <td>-0.388833</td>\n",
       "      <td>-0.324789</td>\n",
       "      <td>-0.353375</td>\n",
       "      <td>-0.247037</td>\n",
       "      <td>-0.191253</td>\n",
       "      <td>-0.371330</td>\n",
       "      <td>-0.669502</td>\n",
       "      <td>-0.290219</td>\n",
       "      <td>-0.368776</td>\n",
       "      <td>-0.436123</td>\n",
       "      <td>-0.001298</td>\n",
       "      <td>-0.334701</td>\n",
       "    </tr>\n",
       "    <tr>\n",
       "      <th>25%</th>\n",
       "      <td>-0.043804</td>\n",
       "      <td>-0.006559</td>\n",
       "      <td>-0.106927</td>\n",
       "      <td>-0.122058</td>\n",
       "      <td>-0.043804</td>\n",
       "      <td>-0.070832</td>\n",
       "      <td>-0.105251</td>\n",
       "      <td>-0.135176</td>\n",
       "      <td>-0.029430</td>\n",
       "      <td>-0.188530</td>\n",
       "      <td>-0.107205</td>\n",
       "      <td>-0.000575</td>\n",
       "      <td>-0.124695</td>\n",
       "    </tr>\n",
       "    <tr>\n",
       "      <th>50%</th>\n",
       "      <td>0.060623</td>\n",
       "      <td>0.159927</td>\n",
       "      <td>0.022989</td>\n",
       "      <td>0.027310</td>\n",
       "      <td>0.060623</td>\n",
       "      <td>0.000838</td>\n",
       "      <td>0.001034</td>\n",
       "      <td>-0.024901</td>\n",
       "      <td>0.046163</td>\n",
       "      <td>-0.002511</td>\n",
       "      <td>0.115875</td>\n",
       "      <td>0.000200</td>\n",
       "      <td>-0.008470</td>\n",
       "    </tr>\n",
       "    <tr>\n",
       "      <th>75%</th>\n",
       "      <td>0.297133</td>\n",
       "      <td>0.322391</td>\n",
       "      <td>0.258658</td>\n",
       "      <td>0.554342</td>\n",
       "      <td>0.297133</td>\n",
       "      <td>0.309703</td>\n",
       "      <td>0.150423</td>\n",
       "      <td>0.115831</td>\n",
       "      <td>0.296836</td>\n",
       "      <td>0.210019</td>\n",
       "      <td>0.381003</td>\n",
       "      <td>0.001050</td>\n",
       "      <td>0.149739</td>\n",
       "    </tr>\n",
       "    <tr>\n",
       "      <th>max</th>\n",
       "      <td>0.469406</td>\n",
       "      <td>0.594194</td>\n",
       "      <td>0.570584</td>\n",
       "      <td>0.848824</td>\n",
       "      <td>0.469406</td>\n",
       "      <td>0.398845</td>\n",
       "      <td>1.611343</td>\n",
       "      <td>1.767407</td>\n",
       "      <td>1.374368</td>\n",
       "      <td>0.443603</td>\n",
       "      <td>0.601562</td>\n",
       "      <td>0.001903</td>\n",
       "      <td>0.405300</td>\n",
       "    </tr>\n",
       "    <tr>\n",
       "      <th>beta</th>\n",
       "      <td>1.000000</td>\n",
       "      <td>0.983708</td>\n",
       "      <td>1.144864</td>\n",
       "      <td>1.118506</td>\n",
       "      <td>1.000000</td>\n",
       "      <td>0.829609</td>\n",
       "      <td>1.293933</td>\n",
       "      <td>0.971238</td>\n",
       "      <td>0.578061</td>\n",
       "      <td>0.699585</td>\n",
       "      <td>0.448464</td>\n",
       "      <td>-0.001189</td>\n",
       "      <td>0.316636</td>\n",
       "    </tr>\n",
       "  </tbody>\n",
       "</table>\n",
       "</div>"
      ],
      "text/plain": [
       "             BTC        ETH        LTC        ADA       DOGE        XLM  \\\n",
       "count  12.000000  12.000000  12.000000  12.000000  12.000000  12.000000   \n",
       "mean    0.120320   0.162724   0.084865   0.163811   0.120320   0.078082   \n",
       "std     0.227798   0.297618   0.279299   0.390680   0.227798   0.216572   \n",
       "min    -0.247037  -0.388833  -0.324789  -0.353375  -0.247037  -0.191253   \n",
       "25%    -0.043804  -0.006559  -0.106927  -0.122058  -0.043804  -0.070832   \n",
       "50%     0.060623   0.159927   0.022989   0.027310   0.060623   0.000838   \n",
       "75%     0.297133   0.322391   0.258658   0.554342   0.297133   0.309703   \n",
       "max     0.469406   0.594194   0.570584   0.848824   0.469406   0.398845   \n",
       "beta    1.000000   0.983708   1.144864   1.118506   1.000000   0.829609   \n",
       "\n",
       "             XRP       LISK        ZEC         SC       USDT       DASH  \\\n",
       "count  12.000000  12.000000  12.000000  12.000000  12.000000  12.000000   \n",
       "mean    0.149596   0.106072   0.254156   0.030029   0.106605   0.000226   \n",
       "std     0.541170   0.589630   0.516525   0.273503   0.329995   0.001124   \n",
       "min    -0.371330  -0.669502  -0.290219  -0.368776  -0.436123  -0.001298   \n",
       "25%    -0.105251  -0.135176  -0.029430  -0.188530  -0.107205  -0.000575   \n",
       "50%     0.001034  -0.024901   0.046163  -0.002511   0.115875   0.000200   \n",
       "75%     0.150423   0.115831   0.296836   0.210019   0.381003   0.001050   \n",
       "max     1.611343   1.767407   1.374368   0.443603   0.601562   0.001903   \n",
       "beta    1.293933   0.971238   0.578061   0.699585   0.448464  -0.001189   \n",
       "\n",
       "           WAVES  \n",
       "count  12.000000  \n",
       "mean    0.021395  \n",
       "std     0.217355  \n",
       "min    -0.334701  \n",
       "25%    -0.124695  \n",
       "50%    -0.008470  \n",
       "75%     0.149739  \n",
       "max     0.405300  \n",
       "beta    0.316636  "
      ]
     },
     "execution_count": 220,
     "metadata": {},
     "output_type": "execute_result"
    }
   ],
   "source": [
    "# lazy way of compiling summary data\n",
    "summary_data = pd.DataFrame()\n",
    "summary_data = monthly_2020_returns.describe()\n",
    "\n",
    "# basically all this is just to flip charts to make input of the beta series more convenient\n",
    "summary_data = summary_data.T\n",
    "summary_data['beta'] = Beta_list\n",
    "summary_data = summary_data.T\n",
    "summary_data"
   ]
  },
  {
   "cell_type": "code",
   "execution_count": 222,
   "id": "6d5e9f60",
   "metadata": {},
   "outputs": [
    {
     "data": {},
     "metadata": {},
     "output_type": "display_data"
    },
    {
     "data": {
      "application/vnd.holoviews_exec.v0+json": "",
      "text/html": [
       "<div id='4425'>\n",
       "\n",
       "\n",
       "\n",
       "\n",
       "\n",
       "  <div class=\"bk-root\" id=\"ad10c2f2-e897-418e-b0a4-8fd1bc69b435\" data-root-id=\"4425\"></div>\n",
       "</div>\n",
       "<script type=\"application/javascript\">(function(root) {\n",
       "  function embed_document(root) {\n",
       "    var docs_json = {\"0f17e0a7-4cac-4868-a315-59c043eab8b6\":{\"defs\":[{\"extends\":null,\"module\":null,\"name\":\"ReactiveHTML1\",\"overrides\":[],\"properties\":[]},{\"extends\":null,\"module\":null,\"name\":\"FlexBox1\",\"overrides\":[],\"properties\":[{\"default\":\"flex-start\",\"kind\":null,\"name\":\"align_content\"},{\"default\":\"flex-start\",\"kind\":null,\"name\":\"align_items\"},{\"default\":\"row\",\"kind\":null,\"name\":\"flex_direction\"},{\"default\":\"wrap\",\"kind\":null,\"name\":\"flex_wrap\"},{\"default\":\"flex-start\",\"kind\":null,\"name\":\"justify_content\"}]},{\"extends\":null,\"module\":null,\"name\":\"TemplateActions1\",\"overrides\":[],\"properties\":[{\"default\":0,\"kind\":null,\"name\":\"open_modal\"},{\"default\":0,\"kind\":null,\"name\":\"close_modal\"}]},{\"extends\":null,\"module\":null,\"name\":\"MaterialTemplateActions1\",\"overrides\":[],\"properties\":[{\"default\":0,\"kind\":null,\"name\":\"open_modal\"},{\"default\":0,\"kind\":null,\"name\":\"close_modal\"}]}],\"roots\":{\"references\":[{\"attributes\":{\"children\":[{\"id\":\"4426\"},{\"id\":\"4430\"},{\"id\":\"4495\"}],\"margin\":[0,0,0,0],\"name\":\"Row05940\",\"tags\":[\"embedded\"]},\"id\":\"4425\",\"type\":\"Row\"},{\"attributes\":{\"axis\":{\"id\":\"4439\"},\"grid_line_color\":null,\"ticker\":null},\"id\":\"4441\",\"type\":\"Grid\"},{\"attributes\":{},\"id\":\"4450\",\"type\":\"ResetTool\"},{\"attributes\":{},\"id\":\"4472\",\"type\":\"BasicTickFormatter\"},{\"attributes\":{},\"id\":\"4447\",\"type\":\"PanTool\"},{\"attributes\":{\"active_multi\":null,\"tools\":[{\"id\":\"4429\"},{\"id\":\"4446\"},{\"id\":\"4447\"},{\"id\":\"4448\"},{\"id\":\"4449\"},{\"id\":\"4450\"}]},\"id\":\"4452\",\"type\":\"Toolbar\"},{\"attributes\":{},\"id\":\"4435\",\"type\":\"CategoricalScale\"},{\"attributes\":{},\"id\":\"4437\",\"type\":\"LinearScale\"},{\"attributes\":{\"below\":[{\"id\":\"4439\"}],\"center\":[{\"id\":\"4441\"},{\"id\":\"4445\"}],\"height\":300,\"left\":[{\"id\":\"4442\"}],\"margin\":[5,5,5,5],\"min_border_bottom\":10,\"min_border_left\":10,\"min_border_right\":10,\"min_border_top\":10,\"renderers\":[{\"id\":\"4466\"}],\"sizing_mode\":\"fixed\",\"title\":{\"id\":\"4431\"},\"toolbar\":{\"id\":\"4452\"},\"width\":700,\"x_range\":{\"id\":\"4427\"},\"x_scale\":{\"id\":\"4435\"},\"y_range\":{\"id\":\"4428\"},\"y_scale\":{\"id\":\"4437\"}},\"id\":\"4430\",\"subtype\":\"Figure\",\"type\":\"Plot\"},{\"attributes\":{\"text\":\"2020 Bar: Average Monthly Returns by Percentage\",\"text_color\":\"black\",\"text_font_size\":\"12pt\"},\"id\":\"4431\",\"type\":\"Title\"},{\"attributes\":{\"fill_alpha\":{\"value\":0.2},\"fill_color\":{\"value\":\"cyan\"},\"line_alpha\":{\"value\":0.2},\"top\":{\"field\":\"mean\"},\"width\":{\"value\":0.8},\"x\":{\"field\":\"index\"}},\"id\":\"4465\",\"type\":\"VBar\"},{\"attributes\":{\"axis\":{\"id\":\"4442\"},\"dimension\":1,\"grid_line_color\":null,\"ticker\":null},\"id\":\"4445\",\"type\":\"Grid\"},{\"attributes\":{},\"id\":\"4471\",\"type\":\"AllLabels\"},{\"attributes\":{\"callback\":null,\"renderers\":[{\"id\":\"4466\"}],\"tags\":[\"hv_created\"],\"tooltips\":[[\"index\",\"@{index}\"],[\"mean\",\"@{mean}\"]]},\"id\":\"4429\",\"type\":\"HoverTool\"},{\"attributes\":{},\"id\":\"4443\",\"type\":\"BasicTicker\"},{\"attributes\":{},\"id\":\"4483\",\"type\":\"UnionRenderers\"},{\"attributes\":{\"axis_label\":\"percentage change\",\"formatter\":{\"id\":\"4472\"},\"major_label_policy\":{\"id\":\"4474\"},\"ticker\":{\"id\":\"4443\"}},\"id\":\"4442\",\"type\":\"LinearAxis\"},{\"attributes\":{\"margin\":[5,5,5,5],\"name\":\"HSpacer05945\",\"sizing_mode\":\"stretch_width\"},\"id\":\"4495\",\"type\":\"Spacer\"},{\"attributes\":{\"fill_alpha\":{\"value\":0.1},\"fill_color\":{\"value\":\"cyan\"},\"line_alpha\":{\"value\":0.1},\"top\":{\"field\":\"mean\"},\"width\":{\"value\":0.8},\"x\":{\"field\":\"index\"}},\"id\":\"4463\",\"type\":\"VBar\"},{\"attributes\":{},\"id\":\"4446\",\"type\":\"SaveTool\"},{\"attributes\":{\"fill_color\":{\"value\":\"cyan\"},\"top\":{\"field\":\"mean\"},\"width\":{\"value\":0.8},\"x\":{\"field\":\"index\"}},\"id\":\"4462\",\"type\":\"VBar\"},{\"attributes\":{},\"id\":\"4470\",\"type\":\"CategoricalTickFormatter\"},{\"attributes\":{\"margin\":[5,5,5,5],\"name\":\"HSpacer05944\",\"sizing_mode\":\"stretch_width\"},\"id\":\"4426\",\"type\":\"Spacer\"},{\"attributes\":{},\"id\":\"4474\",\"type\":\"AllLabels\"},{\"attributes\":{},\"id\":\"4460\",\"type\":\"Selection\"},{\"attributes\":{\"bottom_units\":\"screen\",\"fill_alpha\":0.5,\"fill_color\":\"lightgrey\",\"left_units\":\"screen\",\"level\":\"overlay\",\"line_alpha\":1.0,\"line_color\":\"black\",\"line_dash\":[4,4],\"line_width\":2,\"right_units\":\"screen\",\"syncable\":false,\"top_units\":\"screen\"},\"id\":\"4451\",\"type\":\"BoxAnnotation\"},{\"attributes\":{\"axis_label\":\"Cryptocurrencies\",\"formatter\":{\"id\":\"4470\"},\"major_label_orientation\":0.7853981633974483,\"major_label_policy\":{\"id\":\"4471\"},\"ticker\":{\"id\":\"4440\"}},\"id\":\"4439\",\"type\":\"CategoricalAxis\"},{\"attributes\":{\"data_source\":{\"id\":\"4459\"},\"glyph\":{\"id\":\"4462\"},\"hover_glyph\":{\"id\":\"4464\"},\"muted_glyph\":{\"id\":\"4465\"},\"nonselection_glyph\":{\"id\":\"4463\"},\"selection_glyph\":{\"id\":\"4468\"},\"view\":{\"id\":\"4467\"}},\"id\":\"4466\",\"type\":\"GlyphRenderer\"},{\"attributes\":{\"end\":0.2795493350271421,\"reset_end\":0.2795493350271421,\"reset_start\":0.0,\"tags\":[[[\"mean\",\"mean\",null]]]},\"id\":\"4428\",\"type\":\"Range1d\"},{\"attributes\":{},\"id\":\"4440\",\"type\":\"CategoricalTicker\"},{\"attributes\":{\"bottom\":{\"value\":0},\"fill_alpha\":{\"value\":1.0},\"fill_color\":{\"value\":\"cyan\"},\"hatch_alpha\":{\"value\":1.0},\"hatch_color\":{\"value\":\"black\"},\"hatch_scale\":{\"value\":12.0},\"hatch_weight\":{\"value\":1.0},\"line_alpha\":{\"value\":1.0},\"line_cap\":{\"value\":\"butt\"},\"line_color\":{\"value\":\"black\"},\"line_dash\":{\"value\":[]},\"line_dash_offset\":{\"value\":0},\"line_join\":{\"value\":\"bevel\"},\"line_width\":{\"value\":1},\"top\":{\"field\":\"mean\"},\"width\":{\"value\":0.8},\"x\":{\"field\":\"index\"}},\"id\":\"4468\",\"type\":\"VBar\"},{\"attributes\":{\"fill_color\":{\"value\":\"black\"},\"top\":{\"field\":\"mean\"},\"width\":{\"value\":0.8},\"x\":{\"field\":\"index\"}},\"id\":\"4464\",\"type\":\"VBar\"},{\"attributes\":{\"factors\":[\"DASH\",\"WAVES\",\"SC\",\"XLM\",\"LTC\",\"LISK\",\"USDT\",\"BTC\",\"DOGE\",\"XRP\",\"ETH\",\"ADA\",\"ZEC\"],\"tags\":[[[\"index\",\"index\",null]]]},\"id\":\"4427\",\"type\":\"FactorRange\"},{\"attributes\":{},\"id\":\"4448\",\"type\":\"WheelZoomTool\"},{\"attributes\":{\"data\":{\"index\":[\"DASH\",\"WAVES\",\"SC\",\"XLM\",\"LTC\",\"LISK\",\"USDT\",\"BTC\",\"DOGE\",\"XRP\",\"ETH\",\"ADA\",\"ZEC\"],\"mean\":{\"__ndarray__\":\"VfFKSqyULT+zeKF8cuiVP+BSc5zmv54/LIADgS39sz+7ROI8uLm1PwULewyPJ7s/w8MJuHVKuz/Ly4Q3Q82+P8vLhDdDzb4/9fHxVvklwz8jDpDTJNTEP9480V7A98Q/5W4hrxhE0D8=\",\"dtype\":\"float64\",\"order\":\"little\",\"shape\":[13]}},\"selected\":{\"id\":\"4460\"},\"selection_policy\":{\"id\":\"4483\"}},\"id\":\"4459\",\"type\":\"ColumnDataSource\"},{\"attributes\":{\"overlay\":{\"id\":\"4451\"}},\"id\":\"4449\",\"type\":\"BoxZoomTool\"},{\"attributes\":{\"source\":{\"id\":\"4459\"}},\"id\":\"4467\",\"type\":\"CDSView\"}],\"root_ids\":[\"4425\"]},\"title\":\"Bokeh Application\",\"version\":\"2.3.2\"}};\n",
       "    var render_items = [{\"docid\":\"0f17e0a7-4cac-4868-a315-59c043eab8b6\",\"root_ids\":[\"4425\"],\"roots\":{\"4425\":\"ad10c2f2-e897-418e-b0a4-8fd1bc69b435\"}}];\n",
       "    root.Bokeh.embed.embed_items_notebook(docs_json, render_items);\n",
       "  }\n",
       "  if (root.Bokeh !== undefined && root.Bokeh.Panel !== undefined) {\n",
       "    embed_document(root);\n",
       "  } else {\n",
       "    var attempts = 0;\n",
       "    var timer = setInterval(function(root) {\n",
       "      if (root.Bokeh !== undefined && root.Bokeh.Panel !== undefined) {\n",
       "        clearInterval(timer);\n",
       "        embed_document(root);\n",
       "      } else if (document.readyState == \"complete\") {\n",
       "        attempts++;\n",
       "        if (attempts > 200) {\n",
       "          clearInterval(timer);\n",
       "          console.log(\"Bokeh: ERROR: Unable to run BokehJS code because BokehJS library is missing\");\n",
       "        }\n",
       "      }\n",
       "    }, 25, root)\n",
       "  }\n",
       "})(window);</script>"
      ],
      "text/plain": [
       ":Bars   [index]   (mean)"
      ]
     },
     "execution_count": 222,
     "metadata": {
      "application/vnd.holoviews_exec.v0+json": {
       "id": "4425"
      }
     },
     "output_type": "execute_result"
    }
   ],
   "source": [
    "mean_series = summary_data.loc['mean'].sort_values()\n",
    "avg_2020_monthly_returns_bar = mean_series.hvplot.bar(\n",
    "    rot = 45, title = \"2020 Bar: Average Monthly Returns by Percentage\", \n",
    "    fill_color = 'cyan', \n",
    "    hover_color = 'black', \n",
    "    xlabel = 'Cryptocurrencies', \n",
    "    ylabel = 'percentage change')\n",
    "\n",
    "avg_2020_monthly_returns_bar"
   ]
  },
  {
   "cell_type": "code",
   "execution_count": 223,
   "id": "0a19376a",
   "metadata": {},
   "outputs": [],
   "source": [
    "# saving plot - located in hvplot_frontend\n",
    "# hvplot.save(avg_2020_monthly_returns_bar, 'avg_2020_monthly_returns_bar.html')"
   ]
  },
  {
   "cell_type": "code",
   "execution_count": 224,
   "id": "b9c1599e",
   "metadata": {},
   "outputs": [
    {
     "data": {},
     "metadata": {},
     "output_type": "display_data"
    },
    {
     "data": {
      "application/vnd.holoviews_exec.v0+json": "",
      "text/html": [
       "<div id='4680'>\n",
       "\n",
       "\n",
       "\n",
       "\n",
       "\n",
       "  <div class=\"bk-root\" id=\"dca28a7b-699f-4adf-9e87-99c5cf9b0f3f\" data-root-id=\"4680\"></div>\n",
       "</div>\n",
       "<script type=\"application/javascript\">(function(root) {\n",
       "  function embed_document(root) {\n",
       "    var docs_json = {\"0e69a2f5-082c-46b2-a7ab-5534f891132f\":{\"defs\":[{\"extends\":null,\"module\":null,\"name\":\"ReactiveHTML1\",\"overrides\":[],\"properties\":[]},{\"extends\":null,\"module\":null,\"name\":\"FlexBox1\",\"overrides\":[],\"properties\":[{\"default\":\"flex-start\",\"kind\":null,\"name\":\"align_content\"},{\"default\":\"flex-start\",\"kind\":null,\"name\":\"align_items\"},{\"default\":\"row\",\"kind\":null,\"name\":\"flex_direction\"},{\"default\":\"wrap\",\"kind\":null,\"name\":\"flex_wrap\"},{\"default\":\"flex-start\",\"kind\":null,\"name\":\"justify_content\"}]},{\"extends\":null,\"module\":null,\"name\":\"TemplateActions1\",\"overrides\":[],\"properties\":[{\"default\":0,\"kind\":null,\"name\":\"open_modal\"},{\"default\":0,\"kind\":null,\"name\":\"close_modal\"}]},{\"extends\":null,\"module\":null,\"name\":\"MaterialTemplateActions1\",\"overrides\":[],\"properties\":[{\"default\":0,\"kind\":null,\"name\":\"open_modal\"},{\"default\":0,\"kind\":null,\"name\":\"close_modal\"}]}],\"roots\":{\"references\":[{\"attributes\":{\"factors\":[\"DASH\",\"WAVES\",\"SC\",\"XLM\",\"LTC\",\"LISK\",\"USDT\",\"BTC\",\"DOGE\",\"XRP\",\"ETH\",\"ADA\",\"ZEC\"],\"tags\":[[[\"index\",\"index\",null]]]},\"id\":\"4683\",\"type\":\"FactorRange\"},{\"attributes\":{\"factors\":[\"mean\"],\"tags\":[[[\"columns\",\"columns\",null]]]},\"id\":\"4682\",\"type\":\"FactorRange\"},{\"attributes\":{\"callback\":null,\"renderers\":[{\"id\":\"4721\"}],\"tags\":[\"hv_created\"],\"tooltips\":[[\"columns\",\"@{columns}\"],[\"index\",\"@{index}\"],[\"value\",\"@{value}\"]]},\"id\":\"4684\",\"type\":\"HoverTool\"},{\"attributes\":{},\"id\":\"4695\",\"type\":\"CategoricalTicker\"},{\"attributes\":{},\"id\":\"4723\",\"type\":\"BasicTicker\"},{\"attributes\":{},\"id\":\"4700\",\"type\":\"SaveTool\"},{\"attributes\":{},\"id\":\"4690\",\"type\":\"CategoricalScale\"},{\"attributes\":{},\"id\":\"4740\",\"type\":\"UnionRenderers\"},{\"attributes\":{\"axis_label\":\"\",\"formatter\":{\"id\":\"4726\"},\"major_label_policy\":{\"id\":\"4727\"},\"ticker\":{\"id\":\"4695\"}},\"id\":\"4694\",\"type\":\"CategoricalAxis\"},{\"attributes\":{\"fill_alpha\":{\"value\":0.1},\"fill_color\":{\"field\":\"zvalues\",\"transform\":{\"id\":\"4713\"}},\"height\":{\"value\":1},\"line_alpha\":{\"value\":0},\"line_color\":{\"value\":\"#1f77b4\"},\"width\":{\"value\":1},\"x\":{\"field\":\"columns\"},\"y\":{\"field\":\"index\"}},\"id\":\"4718\",\"type\":\"Rect\"},{\"attributes\":{\"text\":\"2020 Heatmap: Average Monthly Returns by Percentage\",\"text_color\":\"black\",\"text_font_size\":\"12pt\"},\"id\":\"4686\",\"type\":\"Title\"},{\"attributes\":{\"margin\":[5,5,5,5],\"name\":\"HSpacer06152\",\"sizing_mode\":\"stretch_width\"},\"id\":\"4753\",\"type\":\"Spacer\"},{\"attributes\":{\"bar_line_color\":\"black\",\"color_mapper\":{\"id\":\"4713\"},\"label_standoff\":8,\"location\":[0,0],\"major_label_policy\":{\"id\":\"4738\"},\"major_tick_line_color\":\"black\",\"ticker\":{\"id\":\"4723\"}},\"id\":\"4724\",\"type\":\"ColorBar\"},{\"attributes\":{},\"id\":\"4726\",\"type\":\"CategoricalTickFormatter\"},{\"attributes\":{},\"id\":\"4701\",\"type\":\"PanTool\"},{\"attributes\":{\"overlay\":{\"id\":\"4705\"}},\"id\":\"4703\",\"type\":\"BoxZoomTool\"},{\"attributes\":{\"fill_color\":{\"field\":\"zvalues\",\"transform\":{\"id\":\"4713\"}},\"height\":{\"value\":1},\"line_alpha\":{\"value\":0},\"line_color\":{\"value\":\"#1f77b4\"},\"width\":{\"value\":1},\"x\":{\"field\":\"columns\"},\"y\":{\"field\":\"index\"}},\"id\":\"4719\",\"type\":\"Rect\"},{\"attributes\":{},\"id\":\"4692\",\"type\":\"CategoricalScale\"},{\"attributes\":{},\"id\":\"4727\",\"type\":\"AllLabels\"},{\"attributes\":{\"fill_color\":{\"value\":\"orange\"},\"height\":{\"value\":1},\"line_alpha\":{\"value\":0},\"line_color\":{\"value\":\"orange\"},\"width\":{\"value\":1},\"x\":{\"field\":\"columns\"},\"y\":{\"field\":\"index\"}},\"id\":\"4720\",\"type\":\"Rect\"},{\"attributes\":{\"margin\":[5,5,5,5],\"name\":\"HSpacer06151\",\"sizing_mode\":\"stretch_width\"},\"id\":\"4681\",\"type\":\"Spacer\"},{\"attributes\":{\"fill_color\":{\"field\":\"zvalues\",\"transform\":{\"id\":\"4713\"}},\"height\":{\"value\":1},\"line_alpha\":{\"value\":0},\"line_color\":{\"value\":\"#1f77b4\"},\"width\":{\"value\":1},\"x\":{\"field\":\"columns\"},\"y\":{\"field\":\"index\"}},\"id\":\"4717\",\"type\":\"Rect\"},{\"attributes\":{},\"id\":\"4715\",\"type\":\"Selection\"},{\"attributes\":{\"data_source\":{\"id\":\"4714\"},\"glyph\":{\"id\":\"4717\"},\"hover_glyph\":{\"id\":\"4720\"},\"muted_glyph\":null,\"nonselection_glyph\":{\"id\":\"4718\"},\"selection_glyph\":{\"id\":\"4719\"},\"view\":{\"id\":\"4722\"}},\"id\":\"4721\",\"type\":\"GlyphRenderer\"},{\"attributes\":{},\"id\":\"4698\",\"type\":\"CategoricalTicker\"},{\"attributes\":{},\"id\":\"4702\",\"type\":\"WheelZoomTool\"},{\"attributes\":{\"children\":[{\"id\":\"4681\"},{\"id\":\"4685\"},{\"id\":\"4753\"}],\"margin\":[0,0,0,0],\"name\":\"Row06147\",\"tags\":[\"embedded\"]},\"id\":\"4680\",\"type\":\"Row\"},{\"attributes\":{\"axis_label\":\"\",\"formatter\":{\"id\":\"4729\"},\"major_label_policy\":{\"id\":\"4730\"},\"ticker\":{\"id\":\"4698\"}},\"id\":\"4697\",\"type\":\"CategoricalAxis\"},{\"attributes\":{\"below\":[{\"id\":\"4694\"}],\"center\":[{\"id\":\"4696\"},{\"id\":\"4699\"}],\"height\":300,\"left\":[{\"id\":\"4697\"}],\"margin\":[5,5,5,5],\"min_border_bottom\":10,\"min_border_left\":10,\"min_border_right\":10,\"min_border_top\":10,\"renderers\":[{\"id\":\"4721\"}],\"right\":[{\"id\":\"4724\"}],\"sizing_mode\":\"fixed\",\"title\":{\"id\":\"4686\"},\"toolbar\":{\"id\":\"4706\"},\"width\":700,\"x_range\":{\"id\":\"4682\"},\"x_scale\":{\"id\":\"4690\"},\"y_range\":{\"id\":\"4683\"},\"y_scale\":{\"id\":\"4692\"}},\"id\":\"4685\",\"subtype\":\"Figure\",\"type\":\"Plot\"},{\"attributes\":{\"high\":0.2541562757739782,\"low\":0.0002256832423394121,\"nan_color\":\"white\",\"palette\":[\"#b3fef5\",\"#b0fef5\",\"#adfdf5\",\"#a9fcf5\",\"#a6fbf6\",\"#a3faf6\",\"#a0faf6\",\"#9df9f6\",\"#9af8f6\",\"#97f7f6\",\"#93f7f6\",\"#90f6f6\",\"#8df5f6\",\"#8af4f7\",\"#87f3f7\",\"#83f2f7\",\"#80f2f7\",\"#7df1f7\",\"#79f0f7\",\"#76eff7\",\"#73eef7\",\"#6fedf8\",\"#6cecf8\",\"#68ecf8\",\"#65ebf8\",\"#61eaf8\",\"#5ee9f8\",\"#5ae8f8\",\"#57e7f8\",\"#53e6f8\",\"#50e5f9\",\"#4ce4f9\",\"#49e3f9\",\"#45e2f9\",\"#42e1f9\",\"#3ee0f9\",\"#3bdff9\",\"#38def9\",\"#35ddf9\",\"#32dcf9\",\"#30dbfa\",\"#2ed9fa\",\"#2dd8fa\",\"#2cd7fa\",\"#2bd6fa\",\"#2bd5fa\",\"#2ad3fa\",\"#2ad2fa\",\"#29d1fa\",\"#29d0fb\",\"#29cffb\",\"#28cdfb\",\"#28ccfb\",\"#28cbfb\",\"#28cafb\",\"#28c8fb\",\"#28c7fb\",\"#29c6fb\",\"#29c5fb\",\"#29c4fb\",\"#29c2fb\",\"#2ac1fb\",\"#2ac0fb\",\"#2bbffb\",\"#2bbdfc\",\"#2cbcfc\",\"#2dbbfc\",\"#2db9fc\",\"#2eb8fc\",\"#2fb7fc\",\"#2fb6fc\",\"#30b4fc\",\"#31b3fc\",\"#32b2fc\",\"#32b0fc\",\"#33affc\",\"#33aefc\",\"#34adfc\",\"#34abfc\",\"#34aafc\",\"#35a9fc\",\"#35a8fc\",\"#35a6fc\",\"#35a5fc\",\"#35a4fc\",\"#35a3fc\",\"#35a1fc\",\"#35a0fc\",\"#359ffc\",\"#359dfc\",\"#359cfc\",\"#359bfc\",\"#349afd\",\"#3498fd\",\"#3497fd\",\"#3396fd\",\"#3395fd\",\"#3293fd\",\"#3292fd\",\"#3191fd\",\"#3090fd\",\"#308ffd\",\"#2f8dfd\",\"#2f8cfd\",\"#2e8bfd\",\"#2e8afd\",\"#2d88fd\",\"#2d87fd\",\"#2c86fd\",\"#2c84fd\",\"#2c83fd\",\"#2c82fd\",\"#2b81fd\",\"#2b7ffd\",\"#2b7efd\",\"#2b7dfd\",\"#2b7bfd\",\"#2b7afd\",\"#2b79fd\",\"#2b77fd\",\"#2b76fd\",\"#2b75fd\",\"#2b73fd\",\"#2c72fd\",\"#2c71fd\",\"#2c6ffd\",\"#2c6efd\",\"#2d6cfd\",\"#2d6bfd\",\"#2d6afc\",\"#2e68fc\",\"#2e67fc\",\"#2e65fc\",\"#2e64fc\",\"#2f62fc\",\"#2f61fc\",\"#2f5ffc\",\"#2f5efc\",\"#2f5dfc\",\"#2f5bfc\",\"#2f5afc\",\"#2f58fb\",\"#2f57fb\",\"#2f55fb\",\"#2f53fb\",\"#2f52fb\",\"#2f50fb\",\"#2f4ffb\",\"#2f4dfb\",\"#2e4cfb\",\"#2e4afb\",\"#2e48fb\",\"#2e47fa\",\"#2d45fa\",\"#2d43fa\",\"#2d42fa\",\"#2d40fa\",\"#2c3efa\",\"#2c3dfa\",\"#2b3bf9\",\"#2b39f9\",\"#2a37f9\",\"#2a36f8\",\"#2934f8\",\"#2832f7\",\"#2831f7\",\"#272ff6\",\"#262ef5\",\"#252cf5\",\"#252af4\",\"#2429f3\",\"#2327f2\",\"#2226f1\",\"#2124f0\",\"#2023ef\",\"#1f22ee\",\"#1e20ed\",\"#1d1feb\",\"#1c1eea\",\"#1b1ce9\",\"#1a1be7\",\"#181ae6\",\"#1719e5\",\"#1618e3\",\"#1417e1\",\"#1316e0\",\"#1215de\",\"#1014dc\",\"#0f13db\",\"#0e12d9\",\"#0d11d7\",\"#0c10d5\",\"#0b0fd3\",\"#0a0ed1\",\"#090dd0\",\"#080dce\",\"#080ccc\",\"#070bca\",\"#070ac8\",\"#0709c6\",\"#0708c4\",\"#0707c2\",\"#0707bf\",\"#0806bd\",\"#0806bb\",\"#0905b9\",\"#0904b7\",\"#0a04b5\",\"#0a04b2\",\"#0b03b0\",\"#0c03ae\",\"#0d02ab\",\"#0e02a9\",\"#0e02a7\",\"#0f02a4\",\"#0f01a2\",\"#1001a0\",\"#10019d\",\"#10019b\",\"#100199\",\"#100197\",\"#100194\",\"#0f0192\",\"#0f0190\",\"#0f018e\",\"#0e018b\",\"#0e0189\",\"#0d0187\",\"#0d0185\",\"#0c0183\",\"#0b0181\",\"#0b017e\",\"#0a017c\",\"#09017a\",\"#090178\",\"#080276\",\"#070274\",\"#060272\",\"#060270\",\"#05026e\",\"#04026c\",\"#030269\",\"#030267\",\"#020265\",\"#010263\",\"#010261\",\"#00025f\",\"#00025d\",\"#00025b\",\"#000259\",\"#000257\",\"#000255\",\"#000154\",\"#000152\",\"#000150\",\"#00004e\"]},\"id\":\"4713\",\"type\":\"LinearColorMapper\"},{\"attributes\":{\"axis\":{\"id\":\"4697\"},\"dimension\":1,\"grid_line_color\":null,\"ticker\":null},\"id\":\"4699\",\"type\":\"Grid\"},{\"attributes\":{},\"id\":\"4738\",\"type\":\"NoOverlap\"},{\"attributes\":{\"bottom_units\":\"screen\",\"fill_alpha\":0.5,\"fill_color\":\"lightgrey\",\"left_units\":\"screen\",\"level\":\"overlay\",\"line_alpha\":1.0,\"line_color\":\"black\",\"line_dash\":[4,4],\"line_width\":2,\"right_units\":\"screen\",\"syncable\":false,\"top_units\":\"screen\"},\"id\":\"4705\",\"type\":\"BoxAnnotation\"},{\"attributes\":{},\"id\":\"4730\",\"type\":\"AllLabels\"},{\"attributes\":{},\"id\":\"4704\",\"type\":\"ResetTool\"},{\"attributes\":{\"active_multi\":null,\"tools\":[{\"id\":\"4684\"},{\"id\":\"4700\"},{\"id\":\"4701\"},{\"id\":\"4702\"},{\"id\":\"4703\"},{\"id\":\"4704\"}]},\"id\":\"4706\",\"type\":\"Toolbar\"},{\"attributes\":{},\"id\":\"4729\",\"type\":\"CategoricalTickFormatter\"},{\"attributes\":{\"source\":{\"id\":\"4714\"}},\"id\":\"4722\",\"type\":\"CDSView\"},{\"attributes\":{\"data\":{\"columns\":[\"mean\",\"mean\",\"mean\",\"mean\",\"mean\",\"mean\",\"mean\",\"mean\",\"mean\",\"mean\",\"mean\",\"mean\",\"mean\"],\"index\":[\"DASH\",\"WAVES\",\"SC\",\"XLM\",\"LTC\",\"LISK\",\"USDT\",\"BTC\",\"DOGE\",\"XRP\",\"ETH\",\"ADA\",\"ZEC\"],\"value\":[\"0.00022568\",\"0.021395\",\"0.030029\",\"0.078082\",\"0.084865\",\"0.10607\",\"0.1066\",\"0.12032\",\"0.12032\",\"0.1496\",\"0.16272\",\"0.16381\",\"0.25416\"],\"zvalues\":{\"__ndarray__\":\"VfFKSqyULT+zeKF8cuiVP+BSc5zmv54/LIADgS39sz+7ROI8uLm1PwULewyPJ7s/w8MJuHVKuz/Ly4Q3Q82+P8vLhDdDzb4/9fHxVvklwz8jDpDTJNTEP9480V7A98Q/5W4hrxhE0D8=\",\"dtype\":\"float64\",\"order\":\"little\",\"shape\":[13]}},\"selected\":{\"id\":\"4715\"},\"selection_policy\":{\"id\":\"4740\"}},\"id\":\"4714\",\"type\":\"ColumnDataSource\"},{\"attributes\":{\"axis\":{\"id\":\"4694\"},\"grid_line_color\":null,\"ticker\":null},\"id\":\"4696\",\"type\":\"Grid\"}],\"root_ids\":[\"4680\"]},\"title\":\"Bokeh Application\",\"version\":\"2.3.2\"}};\n",
       "    var render_items = [{\"docid\":\"0e69a2f5-082c-46b2-a7ab-5534f891132f\",\"root_ids\":[\"4680\"],\"roots\":{\"4680\":\"dca28a7b-699f-4adf-9e87-99c5cf9b0f3f\"}}];\n",
       "    root.Bokeh.embed.embed_items_notebook(docs_json, render_items);\n",
       "  }\n",
       "  if (root.Bokeh !== undefined && root.Bokeh.Panel !== undefined) {\n",
       "    embed_document(root);\n",
       "  } else {\n",
       "    var attempts = 0;\n",
       "    var timer = setInterval(function(root) {\n",
       "      if (root.Bokeh !== undefined && root.Bokeh.Panel !== undefined) {\n",
       "        clearInterval(timer);\n",
       "        embed_document(root);\n",
       "      } else if (document.readyState == \"complete\") {\n",
       "        attempts++;\n",
       "        if (attempts > 200) {\n",
       "          clearInterval(timer);\n",
       "          console.log(\"Bokeh: ERROR: Unable to run BokehJS code because BokehJS library is missing\");\n",
       "        }\n",
       "      }\n",
       "    }, 25, root)\n",
       "  }\n",
       "})(window);</script>"
      ],
      "text/plain": [
       ":HeatMap   [columns,index]   (value)"
      ]
     },
     "execution_count": 224,
     "metadata": {
      "application/vnd.holoviews_exec.v0+json": {
       "id": "4680"
      }
     },
     "output_type": "execute_result"
    }
   ],
   "source": [
    "mean_series = summary_data.loc['mean'].sort_values()\n",
    "avg_2020_monthly_returns_heat = mean_series.hvplot.heatmap(\n",
    "    title = \"2020 Heatmap: Average Monthly Returns by Percentage\", \n",
    "    fill_color = 'cyan', \n",
    "    hover_color = 'orange')\n",
    "\n",
    "avg_2020_monthly_returns_heat"
   ]
  },
  {
   "cell_type": "code",
   "execution_count": 225,
   "id": "80e4d0cc",
   "metadata": {},
   "outputs": [],
   "source": [
    "# saving plot - located in hvplot_frontend\n",
    "# hvplot.save(avg_2020_monthly_returns_heat, 'avg_2020_monthly_returns_heat.html')"
   ]
  },
  {
   "cell_type": "code",
   "execution_count": 226,
   "id": "45ef82f9",
   "metadata": {},
   "outputs": [
    {
     "data": {},
     "metadata": {},
     "output_type": "display_data"
    },
    {
     "data": {
      "application/vnd.holoviews_exec.v0+json": "",
      "text/html": [
       "<div id='4952'>\n",
       "\n",
       "\n",
       "\n",
       "\n",
       "\n",
       "  <div class=\"bk-root\" id=\"0ed44397-fe1d-403e-8b0d-177ce784e7e0\" data-root-id=\"4952\"></div>\n",
       "</div>\n",
       "<script type=\"application/javascript\">(function(root) {\n",
       "  function embed_document(root) {\n",
       "    var docs_json = {\"e3440841-430b-4882-a85e-f31a34fd53e2\":{\"defs\":[{\"extends\":null,\"module\":null,\"name\":\"ReactiveHTML1\",\"overrides\":[],\"properties\":[]},{\"extends\":null,\"module\":null,\"name\":\"FlexBox1\",\"overrides\":[],\"properties\":[{\"default\":\"flex-start\",\"kind\":null,\"name\":\"align_content\"},{\"default\":\"flex-start\",\"kind\":null,\"name\":\"align_items\"},{\"default\":\"row\",\"kind\":null,\"name\":\"flex_direction\"},{\"default\":\"wrap\",\"kind\":null,\"name\":\"flex_wrap\"},{\"default\":\"flex-start\",\"kind\":null,\"name\":\"justify_content\"}]},{\"extends\":null,\"module\":null,\"name\":\"TemplateActions1\",\"overrides\":[],\"properties\":[{\"default\":0,\"kind\":null,\"name\":\"open_modal\"},{\"default\":0,\"kind\":null,\"name\":\"close_modal\"}]},{\"extends\":null,\"module\":null,\"name\":\"MaterialTemplateActions1\",\"overrides\":[],\"properties\":[{\"default\":0,\"kind\":null,\"name\":\"open_modal\"},{\"default\":0,\"kind\":null,\"name\":\"close_modal\"}]}],\"roots\":{\"references\":[{\"attributes\":{},\"id\":\"4998\",\"type\":\"AllLabels\"},{\"attributes\":{\"axis_label\":\"Cryptocurrencies\",\"formatter\":{\"id\":\"4997\"},\"major_label_orientation\":0.7853981633974483,\"major_label_policy\":{\"id\":\"4998\"},\"ticker\":{\"id\":\"4967\"}},\"id\":\"4966\",\"type\":\"CategoricalAxis\"},{\"attributes\":{\"source\":{\"id\":\"4986\"}},\"id\":\"4994\",\"type\":\"CDSView\"},{\"attributes\":{\"fill_alpha\":{\"value\":0.2},\"fill_color\":{\"value\":\"cyan\"},\"line_alpha\":{\"value\":0.2},\"top\":{\"field\":\"std\"},\"width\":{\"value\":0.8},\"x\":{\"field\":\"index\"}},\"id\":\"4992\",\"type\":\"VBar\"},{\"attributes\":{\"margin\":[5,5,5,5],\"name\":\"HSpacer06432\",\"sizing_mode\":\"stretch_width\"},\"id\":\"5022\",\"type\":\"Spacer\"},{\"attributes\":{\"children\":[{\"id\":\"4953\"},{\"id\":\"4957\"},{\"id\":\"5022\"}],\"margin\":[0,0,0,0],\"name\":\"Row06427\",\"tags\":[\"embedded\"]},\"id\":\"4952\",\"type\":\"Row\"},{\"attributes\":{\"axis_label\":\"Standard Deviation\",\"formatter\":{\"id\":\"4999\"},\"major_label_policy\":{\"id\":\"5001\"},\"ticker\":{\"id\":\"4970\"}},\"id\":\"4969\",\"type\":\"LinearAxis\"},{\"attributes\":{\"end\":0.6484807688970068,\"reset_end\":0.6484807688970068,\"reset_start\":0.0,\"tags\":[[[\"std\",\"std\",null]]]},\"id\":\"4955\",\"type\":\"Range1d\"},{\"attributes\":{\"fill_color\":{\"value\":\"cyan\"},\"top\":{\"field\":\"std\"},\"width\":{\"value\":0.8},\"x\":{\"field\":\"index\"}},\"id\":\"4989\",\"type\":\"VBar\"},{\"attributes\":{},\"id\":\"5010\",\"type\":\"UnionRenderers\"},{\"attributes\":{},\"id\":\"4987\",\"type\":\"Selection\"},{\"attributes\":{},\"id\":\"4964\",\"type\":\"LinearScale\"},{\"attributes\":{},\"id\":\"4967\",\"type\":\"CategoricalTicker\"},{\"attributes\":{},\"id\":\"4975\",\"type\":\"WheelZoomTool\"},{\"attributes\":{\"bottom_units\":\"screen\",\"fill_alpha\":0.5,\"fill_color\":\"lightgrey\",\"left_units\":\"screen\",\"level\":\"overlay\",\"line_alpha\":1.0,\"line_color\":\"black\",\"line_dash\":[4,4],\"line_width\":2,\"right_units\":\"screen\",\"syncable\":false,\"top_units\":\"screen\"},\"id\":\"4978\",\"type\":\"BoxAnnotation\"},{\"attributes\":{},\"id\":\"4974\",\"type\":\"PanTool\"},{\"attributes\":{\"factors\":[\"DASH\",\"XLM\",\"WAVES\",\"BTC\",\"DOGE\",\"SC\",\"LTC\",\"ETH\",\"USDT\",\"ADA\",\"ZEC\",\"XRP\",\"LISK\"],\"tags\":[[[\"index\",\"index\",null]]]},\"id\":\"4954\",\"type\":\"FactorRange\"},{\"attributes\":{\"bottom\":{\"value\":0},\"fill_alpha\":{\"value\":1.0},\"fill_color\":{\"value\":\"cyan\"},\"hatch_alpha\":{\"value\":1.0},\"hatch_color\":{\"value\":\"black\"},\"hatch_scale\":{\"value\":12.0},\"hatch_weight\":{\"value\":1.0},\"line_alpha\":{\"value\":1.0},\"line_cap\":{\"value\":\"butt\"},\"line_color\":{\"value\":\"black\"},\"line_dash\":{\"value\":[]},\"line_dash_offset\":{\"value\":0},\"line_join\":{\"value\":\"bevel\"},\"line_width\":{\"value\":1},\"top\":{\"field\":\"std\"},\"width\":{\"value\":0.8},\"x\":{\"field\":\"index\"}},\"id\":\"4995\",\"type\":\"VBar\"},{\"attributes\":{\"overlay\":{\"id\":\"4978\"}},\"id\":\"4976\",\"type\":\"BoxZoomTool\"},{\"attributes\":{\"below\":[{\"id\":\"4966\"}],\"center\":[{\"id\":\"4968\"},{\"id\":\"4972\"}],\"height\":300,\"left\":[{\"id\":\"4969\"}],\"margin\":[5,5,5,5],\"min_border_bottom\":10,\"min_border_left\":10,\"min_border_right\":10,\"min_border_top\":10,\"renderers\":[{\"id\":\"4993\"}],\"sizing_mode\":\"fixed\",\"title\":{\"id\":\"4958\"},\"toolbar\":{\"id\":\"4979\"},\"width\":700,\"x_range\":{\"id\":\"4954\"},\"x_scale\":{\"id\":\"4962\"},\"y_range\":{\"id\":\"4955\"},\"y_scale\":{\"id\":\"4964\"}},\"id\":\"4957\",\"subtype\":\"Figure\",\"type\":\"Plot\"},{\"attributes\":{},\"id\":\"4962\",\"type\":\"CategoricalScale\"},{\"attributes\":{\"callback\":null,\"renderers\":[{\"id\":\"4993\"}],\"tags\":[\"hv_created\"],\"tooltips\":[[\"index\",\"@{index}\"],[\"std\",\"@{std}\"]]},\"id\":\"4956\",\"type\":\"HoverTool\"},{\"attributes\":{},\"id\":\"5001\",\"type\":\"AllLabels\"},{\"attributes\":{\"axis\":{\"id\":\"4969\"},\"dimension\":1,\"grid_line_color\":null,\"ticker\":null},\"id\":\"4972\",\"type\":\"Grid\"},{\"attributes\":{},\"id\":\"4973\",\"type\":\"SaveTool\"},{\"attributes\":{\"fill_color\":{\"value\":\"black\"},\"top\":{\"field\":\"std\"},\"width\":{\"value\":0.8},\"x\":{\"field\":\"index\"}},\"id\":\"4991\",\"type\":\"VBar\"},{\"attributes\":{},\"id\":\"4999\",\"type\":\"BasicTickFormatter\"},{\"attributes\":{\"data_source\":{\"id\":\"4986\"},\"glyph\":{\"id\":\"4989\"},\"hover_glyph\":{\"id\":\"4991\"},\"muted_glyph\":{\"id\":\"4992\"},\"nonselection_glyph\":{\"id\":\"4990\"},\"selection_glyph\":{\"id\":\"4995\"},\"view\":{\"id\":\"4994\"}},\"id\":\"4993\",\"type\":\"GlyphRenderer\"},{\"attributes\":{\"active_multi\":null,\"tools\":[{\"id\":\"4956\"},{\"id\":\"4973\"},{\"id\":\"4974\"},{\"id\":\"4975\"},{\"id\":\"4976\"},{\"id\":\"4977\"}]},\"id\":\"4979\",\"type\":\"Toolbar\"},{\"attributes\":{\"margin\":[5,5,5,5],\"name\":\"HSpacer06431\",\"sizing_mode\":\"stretch_width\"},\"id\":\"4953\",\"type\":\"Spacer\"},{\"attributes\":{},\"id\":\"4970\",\"type\":\"BasicTicker\"},{\"attributes\":{\"fill_alpha\":{\"value\":0.1},\"fill_color\":{\"value\":\"cyan\"},\"line_alpha\":{\"value\":0.1},\"top\":{\"field\":\"std\"},\"width\":{\"value\":0.8},\"x\":{\"field\":\"index\"}},\"id\":\"4990\",\"type\":\"VBar\"},{\"attributes\":{\"data\":{\"index\":[\"DASH\",\"XLM\",\"WAVES\",\"BTC\",\"DOGE\",\"SC\",\"LTC\",\"ETH\",\"USDT\",\"ADA\",\"ZEC\",\"XRP\",\"LISK\"],\"std\":{\"__ndarray__\":\"bkCT19tqUj++w6fqnrjLP7r1WjRG0ss/KrVcFoAozT8qtVwWgCjNPwEFfh0SgdE/4aHkwArg0T9KZmpJKwzTPxhviiKkHtU/SUf8vuYA2T80POH2XofgPzVStbZCUeE/BemjE0De4j8=\",\"dtype\":\"float64\",\"order\":\"little\",\"shape\":[13]}},\"selected\":{\"id\":\"4987\"},\"selection_policy\":{\"id\":\"5010\"}},\"id\":\"4986\",\"type\":\"ColumnDataSource\"},{\"attributes\":{},\"id\":\"4997\",\"type\":\"CategoricalTickFormatter\"},{\"attributes\":{\"axis\":{\"id\":\"4966\"},\"grid_line_color\":null,\"ticker\":null},\"id\":\"4968\",\"type\":\"Grid\"},{\"attributes\":{},\"id\":\"4977\",\"type\":\"ResetTool\"},{\"attributes\":{\"text\":\"2020 Bar: Standard Deviation of Selected Cryptocurrencies\",\"text_color\":\"black\",\"text_font_size\":\"12pt\"},\"id\":\"4958\",\"type\":\"Title\"}],\"root_ids\":[\"4952\"]},\"title\":\"Bokeh Application\",\"version\":\"2.3.2\"}};\n",
       "    var render_items = [{\"docid\":\"e3440841-430b-4882-a85e-f31a34fd53e2\",\"root_ids\":[\"4952\"],\"roots\":{\"4952\":\"0ed44397-fe1d-403e-8b0d-177ce784e7e0\"}}];\n",
       "    root.Bokeh.embed.embed_items_notebook(docs_json, render_items);\n",
       "  }\n",
       "  if (root.Bokeh !== undefined && root.Bokeh.Panel !== undefined) {\n",
       "    embed_document(root);\n",
       "  } else {\n",
       "    var attempts = 0;\n",
       "    var timer = setInterval(function(root) {\n",
       "      if (root.Bokeh !== undefined && root.Bokeh.Panel !== undefined) {\n",
       "        clearInterval(timer);\n",
       "        embed_document(root);\n",
       "      } else if (document.readyState == \"complete\") {\n",
       "        attempts++;\n",
       "        if (attempts > 200) {\n",
       "          clearInterval(timer);\n",
       "          console.log(\"Bokeh: ERROR: Unable to run BokehJS code because BokehJS library is missing\");\n",
       "        }\n",
       "      }\n",
       "    }, 25, root)\n",
       "  }\n",
       "})(window);</script>"
      ],
      "text/plain": [
       ":Bars   [index]   (std)"
      ]
     },
     "execution_count": 226,
     "metadata": {
      "application/vnd.holoviews_exec.v0+json": {
       "id": "4952"
      }
     },
     "output_type": "execute_result"
    }
   ],
   "source": [
    "# bar chart of standard deviations of top cryptocurrencies\n",
    "std_dev_series = summary_data.loc['std'].sort_values()\n",
    "std_2020_dev_bar = std_dev_series.hvplot.bar(\n",
    "    rot = 45, \n",
    "    title = \"2020 Bar: Standard Deviation of Selected Cryptocurrencies\", \n",
    "    fill_color = 'cyan', hover_color = 'black', \n",
    "    xlabel = 'Cryptocurrencies', \n",
    "    ylabel = 'Standard Deviation')\n",
    "\n",
    "std_2020_dev_bar"
   ]
  },
  {
   "cell_type": "code",
   "execution_count": 227,
   "id": "88edea26",
   "metadata": {},
   "outputs": [],
   "source": [
    "# saving plot - located in hvplot_frontend\n",
    "# hvplot.save(std_2020_dev_bar, 'std_2020_dev_bar.html')"
   ]
  },
  {
   "cell_type": "code",
   "execution_count": 230,
   "id": "2d7eb17d",
   "metadata": {},
   "outputs": [],
   "source": [
    "# bar chart of standard deviations of top cryptocurrencies\n",
    "std_dev_series = summary_data.loc['std'].sort_values()\n",
    "std_2020_dev_heat = std_dev_series.hvplot.heatmap(\n",
    "    title = \"2020 Heatmap: Standard Deviation of Selected Cryptocurrencies\", \n",
    "    fill_color = 'cyan', hover_color = 'orange', ylabel = 'Cryptocurrency')"
   ]
  },
  {
   "cell_type": "code",
   "execution_count": 231,
   "id": "db40c527",
   "metadata": {},
   "outputs": [],
   "source": [
    "# saving plot - located in hvplot_frontend\n",
    "# hvplot.save(std_2020_dev_heat, 'std_2020_dev_heat.html')"
   ]
  },
  {
   "cell_type": "code",
   "execution_count": 234,
   "id": "eaa3e099",
   "metadata": {},
   "outputs": [
    {
     "data": {},
     "metadata": {},
     "output_type": "display_data"
    },
    {
     "data": {
      "application/vnd.holoviews_exec.v0+json": "",
      "text/html": [
       "<div id='5734'>\n",
       "\n",
       "\n",
       "\n",
       "\n",
       "\n",
       "  <div class=\"bk-root\" id=\"0f49d838-7d8d-4ab0-ad6e-9e2eafa3e375\" data-root-id=\"5734\"></div>\n",
       "</div>\n",
       "<script type=\"application/javascript\">(function(root) {\n",
       "  function embed_document(root) {\n",
       "    var docs_json = {\"8fcb78e5-a9ab-4028-9c7f-069678f38a53\":{\"defs\":[{\"extends\":null,\"module\":null,\"name\":\"ReactiveHTML1\",\"overrides\":[],\"properties\":[]},{\"extends\":null,\"module\":null,\"name\":\"FlexBox1\",\"overrides\":[],\"properties\":[{\"default\":\"flex-start\",\"kind\":null,\"name\":\"align_content\"},{\"default\":\"flex-start\",\"kind\":null,\"name\":\"align_items\"},{\"default\":\"row\",\"kind\":null,\"name\":\"flex_direction\"},{\"default\":\"wrap\",\"kind\":null,\"name\":\"flex_wrap\"},{\"default\":\"flex-start\",\"kind\":null,\"name\":\"justify_content\"}]},{\"extends\":null,\"module\":null,\"name\":\"TemplateActions1\",\"overrides\":[],\"properties\":[{\"default\":0,\"kind\":null,\"name\":\"open_modal\"},{\"default\":0,\"kind\":null,\"name\":\"close_modal\"}]},{\"extends\":null,\"module\":null,\"name\":\"MaterialTemplateActions1\",\"overrides\":[],\"properties\":[{\"default\":0,\"kind\":null,\"name\":\"open_modal\"},{\"default\":0,\"kind\":null,\"name\":\"close_modal\"}]}],\"roots\":{\"references\":[{\"attributes\":{\"margin\":[5,5,5,5],\"name\":\"HSpacer07255\",\"sizing_mode\":\"stretch_width\"},\"id\":\"5804\",\"type\":\"Spacer\"},{\"attributes\":{\"children\":[{\"id\":\"5735\"},{\"id\":\"5739\"},{\"id\":\"5804\"}],\"margin\":[0,0,0,0],\"name\":\"Row07250\",\"tags\":[\"embedded\"]},\"id\":\"5734\",\"type\":\"Row\"},{\"attributes\":{\"overlay\":{\"id\":\"5760\"}},\"id\":\"5758\",\"type\":\"BoxZoomTool\"},{\"attributes\":{\"axis_label\":\"Cryptocurrency\",\"formatter\":{\"id\":\"5779\"},\"major_label_policy\":{\"id\":\"5780\"},\"ticker\":{\"id\":\"5749\"}},\"id\":\"5748\",\"type\":\"CategoricalAxis\"},{\"attributes\":{\"data_source\":{\"id\":\"5768\"},\"glyph\":{\"id\":\"5771\"},\"hover_glyph\":{\"id\":\"5773\"},\"muted_glyph\":{\"id\":\"5774\"},\"nonselection_glyph\":{\"id\":\"5772\"},\"selection_glyph\":{\"id\":\"5777\"},\"view\":{\"id\":\"5776\"}},\"id\":\"5775\",\"type\":\"GlyphRenderer\"},{\"attributes\":{\"bottom\":{\"value\":0},\"fill_alpha\":{\"value\":1.0},\"fill_color\":{\"value\":\"cyan\"},\"hatch_alpha\":{\"value\":1.0},\"hatch_color\":{\"value\":\"black\"},\"hatch_scale\":{\"value\":12.0},\"hatch_weight\":{\"value\":1.0},\"line_alpha\":{\"value\":1.0},\"line_cap\":{\"value\":\"butt\"},\"line_color\":{\"value\":\"black\"},\"line_dash\":{\"value\":[]},\"line_dash_offset\":{\"value\":0},\"line_join\":{\"value\":\"bevel\"},\"line_width\":{\"value\":1},\"top\":{\"field\":\"beta\"},\"width\":{\"value\":0.8},\"x\":{\"field\":\"index\"}},\"id\":\"5777\",\"type\":\"VBar\"},{\"attributes\":{\"end\":1.4234447546171913,\"reset_end\":1.4234447546171913,\"reset_start\":-0.13070160949017978,\"start\":-0.13070160949017978,\"tags\":[[[\"beta\",\"beta\",null]]]},\"id\":\"5737\",\"type\":\"Range1d\"},{\"attributes\":{\"fill_alpha\":{\"value\":0.1},\"fill_color\":{\"value\":\"cyan\"},\"line_alpha\":{\"value\":0.1},\"top\":{\"field\":\"beta\"},\"width\":{\"value\":0.8},\"x\":{\"field\":\"index\"}},\"id\":\"5772\",\"type\":\"VBar\"},{\"attributes\":{},\"id\":\"5779\",\"type\":\"CategoricalTickFormatter\"},{\"attributes\":{},\"id\":\"5757\",\"type\":\"WheelZoomTool\"},{\"attributes\":{\"active_multi\":null,\"tools\":[{\"id\":\"5738\"},{\"id\":\"5755\"},{\"id\":\"5756\"},{\"id\":\"5757\"},{\"id\":\"5758\"},{\"id\":\"5759\"}]},\"id\":\"5761\",\"type\":\"Toolbar\"},{\"attributes\":{},\"id\":\"5752\",\"type\":\"BasicTicker\"},{\"attributes\":{\"bottom_units\":\"screen\",\"fill_alpha\":0.5,\"fill_color\":\"lightgrey\",\"left_units\":\"screen\",\"level\":\"overlay\",\"line_alpha\":1.0,\"line_color\":\"black\",\"line_dash\":[4,4],\"line_width\":2,\"right_units\":\"screen\",\"syncable\":false,\"top_units\":\"screen\"},\"id\":\"5760\",\"type\":\"BoxAnnotation\"},{\"attributes\":{\"axis_label\":\"Beta Value\",\"formatter\":{\"id\":\"5781\"},\"major_label_policy\":{\"id\":\"5783\"},\"ticker\":{\"id\":\"5752\"}},\"id\":\"5751\",\"type\":\"LinearAxis\"},{\"attributes\":{},\"id\":\"5755\",\"type\":\"SaveTool\"},{\"attributes\":{},\"id\":\"5792\",\"type\":\"UnionRenderers\"},{\"attributes\":{\"margin\":[5,5,5,5],\"name\":\"HSpacer07254\",\"sizing_mode\":\"stretch_width\"},\"id\":\"5735\",\"type\":\"Spacer\"},{\"attributes\":{\"source\":{\"id\":\"5768\"}},\"id\":\"5776\",\"type\":\"CDSView\"},{\"attributes\":{\"axis\":{\"id\":\"5751\"},\"dimension\":1,\"grid_line_color\":null,\"ticker\":null},\"id\":\"5754\",\"type\":\"Grid\"},{\"attributes\":{},\"id\":\"5781\",\"type\":\"BasicTickFormatter\"},{\"attributes\":{\"fill_alpha\":{\"value\":0.2},\"fill_color\":{\"value\":\"cyan\"},\"line_alpha\":{\"value\":0.2},\"top\":{\"field\":\"beta\"},\"width\":{\"value\":0.8},\"x\":{\"field\":\"index\"}},\"id\":\"5774\",\"type\":\"VBar\"},{\"attributes\":{\"data\":{\"beta\":{\"__ndarray__\":\"iIxV7cF8U78u8HCTwUPUPwTuK0Wis9w/L/KuHHp/4j98ReLj/2LmP6DKQVEojOo/DJuyNmEU7z/D8Kf+iHrvPwEAAAAAAPA/xFivGWbl8T/qzz8SXVHyPz+DIqDys/Q/\",\"dtype\":\"float64\",\"order\":\"little\",\"shape\":[12]},\"index\":[\"DASH\",\"WAVES\",\"USDT\",\"ZEC\",\"SC\",\"XLM\",\"LISK\",\"ETH\",\"DOGE\",\"ADA\",\"LTC\",\"XRP\"]},\"selected\":{\"id\":\"5769\"},\"selection_policy\":{\"id\":\"5792\"}},\"id\":\"5768\",\"type\":\"ColumnDataSource\"},{\"attributes\":{},\"id\":\"5769\",\"type\":\"Selection\"},{\"attributes\":{},\"id\":\"5746\",\"type\":\"LinearScale\"},{\"attributes\":{\"factors\":[\"DASH\",\"WAVES\",\"USDT\",\"ZEC\",\"SC\",\"XLM\",\"LISK\",\"ETH\",\"DOGE\",\"ADA\",\"LTC\",\"XRP\"],\"tags\":[[[\"index\",\"index\",null]]]},\"id\":\"5736\",\"type\":\"FactorRange\"},{\"attributes\":{},\"id\":\"5780\",\"type\":\"AllLabels\"},{\"attributes\":{},\"id\":\"5749\",\"type\":\"CategoricalTicker\"},{\"attributes\":{\"fill_color\":{\"value\":\"cyan\"},\"top\":{\"field\":\"beta\"},\"width\":{\"value\":0.8},\"x\":{\"field\":\"index\"}},\"id\":\"5771\",\"type\":\"VBar\"},{\"attributes\":{\"fill_color\":{\"value\":\"black\"},\"top\":{\"field\":\"beta\"},\"width\":{\"value\":0.8},\"x\":{\"field\":\"index\"}},\"id\":\"5773\",\"type\":\"VBar\"},{\"attributes\":{\"axis\":{\"id\":\"5748\"},\"grid_line_color\":null,\"ticker\":null},\"id\":\"5750\",\"type\":\"Grid\"},{\"attributes\":{},\"id\":\"5744\",\"type\":\"CategoricalScale\"},{\"attributes\":{},\"id\":\"5756\",\"type\":\"PanTool\"},{\"attributes\":{},\"id\":\"5759\",\"type\":\"ResetTool\"},{\"attributes\":{\"below\":[{\"id\":\"5748\"}],\"center\":[{\"id\":\"5750\"},{\"id\":\"5754\"}],\"height\":300,\"left\":[{\"id\":\"5751\"}],\"margin\":[5,5,5,5],\"min_border_bottom\":10,\"min_border_left\":10,\"min_border_right\":10,\"min_border_top\":10,\"renderers\":[{\"id\":\"5775\"}],\"sizing_mode\":\"fixed\",\"title\":{\"id\":\"5740\"},\"toolbar\":{\"id\":\"5761\"},\"width\":700,\"x_range\":{\"id\":\"5736\"},\"x_scale\":{\"id\":\"5744\"},\"y_range\":{\"id\":\"5737\"},\"y_scale\":{\"id\":\"5746\"}},\"id\":\"5739\",\"subtype\":\"Figure\",\"type\":\"Plot\"},{\"attributes\":{\"callback\":null,\"renderers\":[{\"id\":\"5775\"}],\"tags\":[\"hv_created\"],\"tooltips\":[[\"index\",\"@{index}\"],[\"beta\",\"@{beta}\"]]},\"id\":\"5738\",\"type\":\"HoverTool\"},{\"attributes\":{},\"id\":\"5783\",\"type\":\"AllLabels\"},{\"attributes\":{\"text\":\"2020 Bar: Beta relative to Bitcoin\",\"text_color\":\"black\",\"text_font_size\":\"12pt\"},\"id\":\"5740\",\"type\":\"Title\"}],\"root_ids\":[\"5734\"]},\"title\":\"Bokeh Application\",\"version\":\"2.3.2\"}};\n",
       "    var render_items = [{\"docid\":\"8fcb78e5-a9ab-4028-9c7f-069678f38a53\",\"root_ids\":[\"5734\"],\"roots\":{\"5734\":\"0f49d838-7d8d-4ab0-ad6e-9e2eafa3e375\"}}];\n",
       "    root.Bokeh.embed.embed_items_notebook(docs_json, render_items);\n",
       "  }\n",
       "  if (root.Bokeh !== undefined && root.Bokeh.Panel !== undefined) {\n",
       "    embed_document(root);\n",
       "  } else {\n",
       "    var attempts = 0;\n",
       "    var timer = setInterval(function(root) {\n",
       "      if (root.Bokeh !== undefined && root.Bokeh.Panel !== undefined) {\n",
       "        clearInterval(timer);\n",
       "        embed_document(root);\n",
       "      } else if (document.readyState == \"complete\") {\n",
       "        attempts++;\n",
       "        if (attempts > 200) {\n",
       "          clearInterval(timer);\n",
       "          console.log(\"Bokeh: ERROR: Unable to run BokehJS code because BokehJS library is missing\");\n",
       "        }\n",
       "      }\n",
       "    }, 25, root)\n",
       "  }\n",
       "})(window);</script>"
      ],
      "text/plain": [
       ":Bars   [index]   (beta)"
      ]
     },
     "execution_count": 234,
     "metadata": {
      "application/vnd.holoviews_exec.v0+json": {
       "id": "5734"
      }
     },
     "output_type": "execute_result"
    }
   ],
   "source": [
    "# making a beta series without btc so it doesn;t mess up the plots\n",
    "beta_exc_btc = summary_data.iloc[8, 1:].sort_values()\n",
    "type(beta_exc_btc)\n",
    "\n",
    "beta_2020_exc_btc_bar = beta_exc_btc.hvplot.bar(\n",
    "    title = '2020 Bar: Beta relative to Bitcoin', \n",
    "    fill_color = 'cyan', hover_color = 'black',\n",
    "    xlabel = 'Cryptocurrency',\n",
    "    ylabel = 'Beta Value'\n",
    ")\n",
    "\n",
    "beta_2020_exc_btc_bar"
   ]
  },
  {
   "cell_type": "code",
   "execution_count": 236,
   "id": "d8b00117",
   "metadata": {},
   "outputs": [],
   "source": [
    "# saving plot - located in hvplot_frontend\n",
    "# hvplot.save(beta_2020_exc_btc_bar, 'beta_2020_exc_btc_bar.html')"
   ]
  },
  {
   "cell_type": "code",
   "execution_count": 237,
   "id": "bf7f3291",
   "metadata": {},
   "outputs": [
    {
     "data": {},
     "metadata": {},
     "output_type": "display_data"
    },
    {
     "data": {
      "application/vnd.holoviews_exec.v0+json": "",
      "text/html": [
       "<div id='5989'>\n",
       "\n",
       "\n",
       "\n",
       "\n",
       "\n",
       "  <div class=\"bk-root\" id=\"425a85e7-15c4-4aec-96fa-ce2feb8f9b0c\" data-root-id=\"5989\"></div>\n",
       "</div>\n",
       "<script type=\"application/javascript\">(function(root) {\n",
       "  function embed_document(root) {\n",
       "    var docs_json = {\"664078e3-78bc-4d83-953c-d74a60b03e15\":{\"defs\":[{\"extends\":null,\"module\":null,\"name\":\"ReactiveHTML1\",\"overrides\":[],\"properties\":[]},{\"extends\":null,\"module\":null,\"name\":\"FlexBox1\",\"overrides\":[],\"properties\":[{\"default\":\"flex-start\",\"kind\":null,\"name\":\"align_content\"},{\"default\":\"flex-start\",\"kind\":null,\"name\":\"align_items\"},{\"default\":\"row\",\"kind\":null,\"name\":\"flex_direction\"},{\"default\":\"wrap\",\"kind\":null,\"name\":\"flex_wrap\"},{\"default\":\"flex-start\",\"kind\":null,\"name\":\"justify_content\"}]},{\"extends\":null,\"module\":null,\"name\":\"TemplateActions1\",\"overrides\":[],\"properties\":[{\"default\":0,\"kind\":null,\"name\":\"open_modal\"},{\"default\":0,\"kind\":null,\"name\":\"close_modal\"}]},{\"extends\":null,\"module\":null,\"name\":\"MaterialTemplateActions1\",\"overrides\":[],\"properties\":[{\"default\":0,\"kind\":null,\"name\":\"open_modal\"},{\"default\":0,\"kind\":null,\"name\":\"close_modal\"}]}],\"roots\":{\"references\":[{\"attributes\":{\"fill_color\":{\"value\":\"orange\"},\"height\":{\"value\":1},\"line_alpha\":{\"value\":0},\"line_color\":{\"value\":\"orange\"},\"width\":{\"value\":1},\"x\":{\"field\":\"columns\"},\"y\":{\"field\":\"index\"}},\"id\":\"6029\",\"type\":\"Rect\"},{\"attributes\":{\"below\":[{\"id\":\"6003\"}],\"center\":[{\"id\":\"6005\"},{\"id\":\"6008\"}],\"height\":300,\"left\":[{\"id\":\"6006\"}],\"margin\":[5,5,5,5],\"min_border_bottom\":10,\"min_border_left\":10,\"min_border_right\":10,\"min_border_top\":10,\"renderers\":[{\"id\":\"6030\"}],\"right\":[{\"id\":\"6033\"}],\"sizing_mode\":\"fixed\",\"title\":{\"id\":\"5995\"},\"toolbar\":{\"id\":\"6015\"},\"width\":700,\"x_range\":{\"id\":\"5991\"},\"x_scale\":{\"id\":\"5999\"},\"y_range\":{\"id\":\"5992\"},\"y_scale\":{\"id\":\"6001\"}},\"id\":\"5994\",\"subtype\":\"Figure\",\"type\":\"Plot\"},{\"attributes\":{\"bar_line_color\":\"black\",\"color_mapper\":{\"id\":\"6022\"},\"label_standoff\":8,\"location\":[0,0],\"major_label_policy\":{\"id\":\"6047\"},\"major_tick_line_color\":\"black\",\"ticker\":{\"id\":\"6032\"}},\"id\":\"6033\",\"type\":\"ColorBar\"},{\"attributes\":{},\"id\":\"6001\",\"type\":\"CategoricalScale\"},{\"attributes\":{\"axis_label\":\"Cryptocurrency\",\"formatter\":{\"id\":\"6038\"},\"major_label_policy\":{\"id\":\"6039\"},\"ticker\":{\"id\":\"6007\"}},\"id\":\"6006\",\"type\":\"CategoricalAxis\"},{\"attributes\":{\"factors\":[\"beta\"],\"tags\":[[[\"columns\",\"columns\",null]]]},\"id\":\"5991\",\"type\":\"FactorRange\"},{\"attributes\":{\"callback\":null,\"renderers\":[{\"id\":\"6030\"}],\"tags\":[\"hv_created\"],\"tooltips\":[[\"columns\",\"@{columns}\"],[\"index\",\"@{index}\"],[\"value\",\"@{value}\"]]},\"id\":\"5993\",\"type\":\"HoverTool\"},{\"attributes\":{\"factors\":[\"DASH\",\"WAVES\",\"USDT\",\"ZEC\",\"SC\",\"XLM\",\"LISK\",\"ETH\",\"DOGE\",\"ADA\",\"LTC\",\"XRP\"],\"tags\":[[[\"index\",\"index\",null]]]},\"id\":\"5992\",\"type\":\"FactorRange\"},{\"attributes\":{},\"id\":\"6036\",\"type\":\"AllLabels\"},{\"attributes\":{},\"id\":\"6035\",\"type\":\"CategoricalTickFormatter\"},{\"attributes\":{\"children\":[{\"id\":\"5990\"},{\"id\":\"5994\"},{\"id\":\"6062\"}],\"margin\":[0,0,0,0],\"name\":\"Row07457\",\"tags\":[\"embedded\"]},\"id\":\"5989\",\"type\":\"Row\"},{\"attributes\":{\"overlay\":{\"id\":\"6014\"}},\"id\":\"6012\",\"type\":\"BoxZoomTool\"},{\"attributes\":{},\"id\":\"6009\",\"type\":\"SaveTool\"},{\"attributes\":{\"high\":1.2939325576082437,\"low\":-0.0011894124812321955,\"nan_color\":\"white\",\"palette\":[\"#b3fef5\",\"#b0fef5\",\"#adfdf5\",\"#a9fcf5\",\"#a6fbf6\",\"#a3faf6\",\"#a0faf6\",\"#9df9f6\",\"#9af8f6\",\"#97f7f6\",\"#93f7f6\",\"#90f6f6\",\"#8df5f6\",\"#8af4f7\",\"#87f3f7\",\"#83f2f7\",\"#80f2f7\",\"#7df1f7\",\"#79f0f7\",\"#76eff7\",\"#73eef7\",\"#6fedf8\",\"#6cecf8\",\"#68ecf8\",\"#65ebf8\",\"#61eaf8\",\"#5ee9f8\",\"#5ae8f8\",\"#57e7f8\",\"#53e6f8\",\"#50e5f9\",\"#4ce4f9\",\"#49e3f9\",\"#45e2f9\",\"#42e1f9\",\"#3ee0f9\",\"#3bdff9\",\"#38def9\",\"#35ddf9\",\"#32dcf9\",\"#30dbfa\",\"#2ed9fa\",\"#2dd8fa\",\"#2cd7fa\",\"#2bd6fa\",\"#2bd5fa\",\"#2ad3fa\",\"#2ad2fa\",\"#29d1fa\",\"#29d0fb\",\"#29cffb\",\"#28cdfb\",\"#28ccfb\",\"#28cbfb\",\"#28cafb\",\"#28c8fb\",\"#28c7fb\",\"#29c6fb\",\"#29c5fb\",\"#29c4fb\",\"#29c2fb\",\"#2ac1fb\",\"#2ac0fb\",\"#2bbffb\",\"#2bbdfc\",\"#2cbcfc\",\"#2dbbfc\",\"#2db9fc\",\"#2eb8fc\",\"#2fb7fc\",\"#2fb6fc\",\"#30b4fc\",\"#31b3fc\",\"#32b2fc\",\"#32b0fc\",\"#33affc\",\"#33aefc\",\"#34adfc\",\"#34abfc\",\"#34aafc\",\"#35a9fc\",\"#35a8fc\",\"#35a6fc\",\"#35a5fc\",\"#35a4fc\",\"#35a3fc\",\"#35a1fc\",\"#35a0fc\",\"#359ffc\",\"#359dfc\",\"#359cfc\",\"#359bfc\",\"#349afd\",\"#3498fd\",\"#3497fd\",\"#3396fd\",\"#3395fd\",\"#3293fd\",\"#3292fd\",\"#3191fd\",\"#3090fd\",\"#308ffd\",\"#2f8dfd\",\"#2f8cfd\",\"#2e8bfd\",\"#2e8afd\",\"#2d88fd\",\"#2d87fd\",\"#2c86fd\",\"#2c84fd\",\"#2c83fd\",\"#2c82fd\",\"#2b81fd\",\"#2b7ffd\",\"#2b7efd\",\"#2b7dfd\",\"#2b7bfd\",\"#2b7afd\",\"#2b79fd\",\"#2b77fd\",\"#2b76fd\",\"#2b75fd\",\"#2b73fd\",\"#2c72fd\",\"#2c71fd\",\"#2c6ffd\",\"#2c6efd\",\"#2d6cfd\",\"#2d6bfd\",\"#2d6afc\",\"#2e68fc\",\"#2e67fc\",\"#2e65fc\",\"#2e64fc\",\"#2f62fc\",\"#2f61fc\",\"#2f5ffc\",\"#2f5efc\",\"#2f5dfc\",\"#2f5bfc\",\"#2f5afc\",\"#2f58fb\",\"#2f57fb\",\"#2f55fb\",\"#2f53fb\",\"#2f52fb\",\"#2f50fb\",\"#2f4ffb\",\"#2f4dfb\",\"#2e4cfb\",\"#2e4afb\",\"#2e48fb\",\"#2e47fa\",\"#2d45fa\",\"#2d43fa\",\"#2d42fa\",\"#2d40fa\",\"#2c3efa\",\"#2c3dfa\",\"#2b3bf9\",\"#2b39f9\",\"#2a37f9\",\"#2a36f8\",\"#2934f8\",\"#2832f7\",\"#2831f7\",\"#272ff6\",\"#262ef5\",\"#252cf5\",\"#252af4\",\"#2429f3\",\"#2327f2\",\"#2226f1\",\"#2124f0\",\"#2023ef\",\"#1f22ee\",\"#1e20ed\",\"#1d1feb\",\"#1c1eea\",\"#1b1ce9\",\"#1a1be7\",\"#181ae6\",\"#1719e5\",\"#1618e3\",\"#1417e1\",\"#1316e0\",\"#1215de\",\"#1014dc\",\"#0f13db\",\"#0e12d9\",\"#0d11d7\",\"#0c10d5\",\"#0b0fd3\",\"#0a0ed1\",\"#090dd0\",\"#080dce\",\"#080ccc\",\"#070bca\",\"#070ac8\",\"#0709c6\",\"#0708c4\",\"#0707c2\",\"#0707bf\",\"#0806bd\",\"#0806bb\",\"#0905b9\",\"#0904b7\",\"#0a04b5\",\"#0a04b2\",\"#0b03b0\",\"#0c03ae\",\"#0d02ab\",\"#0e02a9\",\"#0e02a7\",\"#0f02a4\",\"#0f01a2\",\"#1001a0\",\"#10019d\",\"#10019b\",\"#100199\",\"#100197\",\"#100194\",\"#0f0192\",\"#0f0190\",\"#0f018e\",\"#0e018b\",\"#0e0189\",\"#0d0187\",\"#0d0185\",\"#0c0183\",\"#0b0181\",\"#0b017e\",\"#0a017c\",\"#09017a\",\"#090178\",\"#080276\",\"#070274\",\"#060272\",\"#060270\",\"#05026e\",\"#04026c\",\"#030269\",\"#030267\",\"#020265\",\"#010263\",\"#010261\",\"#00025f\",\"#00025d\",\"#00025b\",\"#000259\",\"#000257\",\"#000255\",\"#000154\",\"#000152\",\"#000150\",\"#00004e\"]},\"id\":\"6022\",\"type\":\"LinearColorMapper\"},{\"attributes\":{},\"id\":\"6004\",\"type\":\"CategoricalTicker\"},{\"attributes\":{},\"id\":\"6007\",\"type\":\"CategoricalTicker\"},{\"attributes\":{},\"id\":\"6032\",\"type\":\"BasicTicker\"},{\"attributes\":{},\"id\":\"5999\",\"type\":\"CategoricalScale\"},{\"attributes\":{\"active_multi\":null,\"tools\":[{\"id\":\"5993\"},{\"id\":\"6009\"},{\"id\":\"6010\"},{\"id\":\"6011\"},{\"id\":\"6012\"},{\"id\":\"6013\"}]},\"id\":\"6015\",\"type\":\"Toolbar\"},{\"attributes\":{\"data\":{\"columns\":[\"beta\",\"beta\",\"beta\",\"beta\",\"beta\",\"beta\",\"beta\",\"beta\",\"beta\",\"beta\",\"beta\",\"beta\"],\"index\":[\"DASH\",\"WAVES\",\"USDT\",\"ZEC\",\"SC\",\"XLM\",\"LISK\",\"ETH\",\"DOGE\",\"ADA\",\"LTC\",\"XRP\"],\"value\":[\"-0.0011894\",\"0.31664\",\"0.44846\",\"0.57806\",\"0.69958\",\"0.82961\",\"0.97124\",\"0.98371\",\"1\",\"1.1185\",\"1.1449\",\"1.2939\"],\"zvalues\":{\"__ndarray__\":\"iIxV7cF8U78u8HCTwUPUPwTuK0Wis9w/L/KuHHp/4j98ReLj/2LmP6DKQVEojOo/DJuyNmEU7z/D8Kf+iHrvPwEAAAAAAPA/xFivGWbl8T/qzz8SXVHyPz+DIqDys/Q/\",\"dtype\":\"float64\",\"order\":\"little\",\"shape\":[12]}},\"selected\":{\"id\":\"6024\"},\"selection_policy\":{\"id\":\"6049\"}},\"id\":\"6023\",\"type\":\"ColumnDataSource\"},{\"attributes\":{},\"id\":\"6047\",\"type\":\"NoOverlap\"},{\"attributes\":{},\"id\":\"6038\",\"type\":\"CategoricalTickFormatter\"},{\"attributes\":{},\"id\":\"6011\",\"type\":\"WheelZoomTool\"},{\"attributes\":{\"axis_label\":\"\",\"formatter\":{\"id\":\"6035\"},\"major_label_policy\":{\"id\":\"6036\"},\"ticker\":{\"id\":\"6004\"}},\"id\":\"6003\",\"type\":\"CategoricalAxis\"},{\"attributes\":{},\"id\":\"6010\",\"type\":\"PanTool\"},{\"attributes\":{},\"id\":\"6013\",\"type\":\"ResetTool\"},{\"attributes\":{\"margin\":[5,5,5,5],\"name\":\"HSpacer07462\",\"sizing_mode\":\"stretch_width\"},\"id\":\"6062\",\"type\":\"Spacer\"},{\"attributes\":{\"source\":{\"id\":\"6023\"}},\"id\":\"6031\",\"type\":\"CDSView\"},{\"attributes\":{\"fill_color\":{\"field\":\"zvalues\",\"transform\":{\"id\":\"6022\"}},\"height\":{\"value\":1},\"line_alpha\":{\"value\":0},\"line_color\":{\"value\":\"#1f77b4\"},\"width\":{\"value\":1},\"x\":{\"field\":\"columns\"},\"y\":{\"field\":\"index\"}},\"id\":\"6026\",\"type\":\"Rect\"},{\"attributes\":{\"margin\":[5,5,5,5],\"name\":\"HSpacer07461\",\"sizing_mode\":\"stretch_width\"},\"id\":\"5990\",\"type\":\"Spacer\"},{\"attributes\":{\"fill_color\":{\"field\":\"zvalues\",\"transform\":{\"id\":\"6022\"}},\"height\":{\"value\":1},\"line_alpha\":{\"value\":0},\"line_color\":{\"value\":\"#1f77b4\"},\"width\":{\"value\":1},\"x\":{\"field\":\"columns\"},\"y\":{\"field\":\"index\"}},\"id\":\"6028\",\"type\":\"Rect\"},{\"attributes\":{\"text\":\"2020 Heatmap: Beta relative to Bitcoin\",\"text_color\":\"black\",\"text_font_size\":\"12pt\"},\"id\":\"5995\",\"type\":\"Title\"},{\"attributes\":{},\"id\":\"6024\",\"type\":\"Selection\"},{\"attributes\":{\"fill_alpha\":{\"value\":0.1},\"fill_color\":{\"field\":\"zvalues\",\"transform\":{\"id\":\"6022\"}},\"height\":{\"value\":1},\"line_alpha\":{\"value\":0},\"line_color\":{\"value\":\"#1f77b4\"},\"width\":{\"value\":1},\"x\":{\"field\":\"columns\"},\"y\":{\"field\":\"index\"}},\"id\":\"6027\",\"type\":\"Rect\"},{\"attributes\":{\"bottom_units\":\"screen\",\"fill_alpha\":0.5,\"fill_color\":\"lightgrey\",\"left_units\":\"screen\",\"level\":\"overlay\",\"line_alpha\":1.0,\"line_color\":\"black\",\"line_dash\":[4,4],\"line_width\":2,\"right_units\":\"screen\",\"syncable\":false,\"top_units\":\"screen\"},\"id\":\"6014\",\"type\":\"BoxAnnotation\"},{\"attributes\":{\"axis\":{\"id\":\"6006\"},\"dimension\":1,\"grid_line_color\":null,\"ticker\":null},\"id\":\"6008\",\"type\":\"Grid\"},{\"attributes\":{},\"id\":\"6039\",\"type\":\"AllLabels\"},{\"attributes\":{\"data_source\":{\"id\":\"6023\"},\"glyph\":{\"id\":\"6026\"},\"hover_glyph\":{\"id\":\"6029\"},\"muted_glyph\":null,\"nonselection_glyph\":{\"id\":\"6027\"},\"selection_glyph\":{\"id\":\"6028\"},\"view\":{\"id\":\"6031\"}},\"id\":\"6030\",\"type\":\"GlyphRenderer\"},{\"attributes\":{},\"id\":\"6049\",\"type\":\"UnionRenderers\"},{\"attributes\":{\"axis\":{\"id\":\"6003\"},\"grid_line_color\":null,\"ticker\":null},\"id\":\"6005\",\"type\":\"Grid\"}],\"root_ids\":[\"5989\"]},\"title\":\"Bokeh Application\",\"version\":\"2.3.2\"}};\n",
       "    var render_items = [{\"docid\":\"664078e3-78bc-4d83-953c-d74a60b03e15\",\"root_ids\":[\"5989\"],\"roots\":{\"5989\":\"425a85e7-15c4-4aec-96fa-ce2feb8f9b0c\"}}];\n",
       "    root.Bokeh.embed.embed_items_notebook(docs_json, render_items);\n",
       "  }\n",
       "  if (root.Bokeh !== undefined && root.Bokeh.Panel !== undefined) {\n",
       "    embed_document(root);\n",
       "  } else {\n",
       "    var attempts = 0;\n",
       "    var timer = setInterval(function(root) {\n",
       "      if (root.Bokeh !== undefined && root.Bokeh.Panel !== undefined) {\n",
       "        clearInterval(timer);\n",
       "        embed_document(root);\n",
       "      } else if (document.readyState == \"complete\") {\n",
       "        attempts++;\n",
       "        if (attempts > 200) {\n",
       "          clearInterval(timer);\n",
       "          console.log(\"Bokeh: ERROR: Unable to run BokehJS code because BokehJS library is missing\");\n",
       "        }\n",
       "      }\n",
       "    }, 25, root)\n",
       "  }\n",
       "})(window);</script>"
      ],
      "text/plain": [
       ":HeatMap   [columns,index]   (value)"
      ]
     },
     "execution_count": 237,
     "metadata": {
      "application/vnd.holoviews_exec.v0+json": {
       "id": "5989"
      }
     },
     "output_type": "execute_result"
    }
   ],
   "source": [
    "# making a beta series without btc so it doesn;t mess up the plots\n",
    "beta_exc_btc = summary_data.iloc[8, 1:].sort_values()\n",
    "type(beta_exc_btc)\n",
    "\n",
    "beta_2020_exc_btc_heat = beta_exc_btc.hvplot.heatmap(\n",
    "    title = \"2020 Heatmap: Beta relative to Bitcoin\", \n",
    "    fill_color = 'cyan', hover_color = 'orange', \n",
    "    ylabel = 'Cryptocurrency'\n",
    ")\n",
    "\n",
    "beta_2020_exc_btc_heat"
   ]
  },
  {
   "cell_type": "code",
   "execution_count": 238,
   "id": "3ad08532",
   "metadata": {},
   "outputs": [],
   "source": [
    "# saving plot - located in hvplot_frontend\n",
    "# hvplot.save(beta_2020_exc_btc_heat, 'beta_2020_exc_btc_heat.html')"
   ]
  },
  {
   "cell_type": "code",
   "execution_count": 239,
   "id": "216a1210",
   "metadata": {},
   "outputs": [
    {
     "data": {
      "text/html": [
       "<div>\n",
       "<style scoped>\n",
       "    .dataframe tbody tr th:only-of-type {\n",
       "        vertical-align: middle;\n",
       "    }\n",
       "\n",
       "    .dataframe tbody tr th {\n",
       "        vertical-align: top;\n",
       "    }\n",
       "\n",
       "    .dataframe thead th {\n",
       "        text-align: right;\n",
       "    }\n",
       "</style>\n",
       "<table border=\"1\" class=\"dataframe\">\n",
       "  <thead>\n",
       "    <tr style=\"text-align: right;\">\n",
       "      <th></th>\n",
       "      <th>Date</th>\n",
       "      <th>Close_Monthly</th>\n",
       "    </tr>\n",
       "  </thead>\n",
       "  <tbody>\n",
       "    <tr>\n",
       "      <th>0</th>\n",
       "      <td>January</td>\n",
       "      <td>3230.2</td>\n",
       "    </tr>\n",
       "    <tr>\n",
       "      <th>1</th>\n",
       "      <td>February</td>\n",
       "      <td>2988.5</td>\n",
       "    </tr>\n",
       "    <tr>\n",
       "      <th>2</th>\n",
       "      <td>March</td>\n",
       "      <td>2571.3</td>\n",
       "    </tr>\n",
       "    <tr>\n",
       "      <th>3</th>\n",
       "      <td>April</td>\n",
       "      <td>2891.2</td>\n",
       "    </tr>\n",
       "    <tr>\n",
       "      <th>4</th>\n",
       "      <td>May</td>\n",
       "      <td>3061.4</td>\n",
       "    </tr>\n",
       "    <tr>\n",
       "      <th>5</th>\n",
       "      <td>June</td>\n",
       "      <td>3095.0</td>\n",
       "    </tr>\n",
       "    <tr>\n",
       "      <th>6</th>\n",
       "      <td>July</td>\n",
       "      <td>3277.4</td>\n",
       "    </tr>\n",
       "    <tr>\n",
       "      <th>7</th>\n",
       "      <td>August</td>\n",
       "      <td>3497.8</td>\n",
       "    </tr>\n",
       "    <tr>\n",
       "      <th>8</th>\n",
       "      <td>September</td>\n",
       "      <td>3348.3</td>\n",
       "    </tr>\n",
       "    <tr>\n",
       "      <th>9</th>\n",
       "      <td>October</td>\n",
       "      <td>3286.6</td>\n",
       "    </tr>\n",
       "    <tr>\n",
       "      <th>10</th>\n",
       "      <td>November</td>\n",
       "      <td>3635.9</td>\n",
       "    </tr>\n",
       "    <tr>\n",
       "      <th>11</th>\n",
       "      <td>December</td>\n",
       "      <td>3758.3</td>\n",
       "    </tr>\n",
       "  </tbody>\n",
       "</table>\n",
       "</div>"
      ],
      "text/plain": [
       "         Date  Close_Monthly\n",
       "0     January         3230.2\n",
       "1    February         2988.5\n",
       "2       March         2571.3\n",
       "3       April         2891.2\n",
       "4         May         3061.4\n",
       "5        June         3095.0\n",
       "6        July         3277.4\n",
       "7      August         3497.8\n",
       "8   September         3348.3\n",
       "9     October         3286.6\n",
       "10   November         3635.9\n",
       "11   December         3758.3"
      ]
     },
     "execution_count": 239,
     "metadata": {},
     "output_type": "execute_result"
    }
   ],
   "source": [
    "# reading in s&p data\n",
    "#reading in csv data\n",
    "market_2020 = pd.read_csv(\n",
    "    Path('./Data_Folder/S&P_2020_Closing_Monthly.csv'),\n",
    ")\n",
    "\n",
    "# display dataframe\n",
    "market_2020"
   ]
  },
  {
   "cell_type": "code",
   "execution_count": 240,
   "id": "0d043a64",
   "metadata": {},
   "outputs": [
    {
     "data": {
      "text/plain": [
       "0     0.016799\n",
       "1    -0.074825\n",
       "2    -0.139602\n",
       "3     0.124412\n",
       "4     0.058868\n",
       "5     0.010975\n",
       "6     0.058934\n",
       "7     0.067248\n",
       "8    -0.042741\n",
       "9    -0.018427\n",
       "10    0.106280\n",
       "11    0.033664\n",
       "Name: Close_Monthly, dtype: float64"
      ]
     },
     "execution_count": 240,
     "metadata": {},
     "output_type": "execute_result"
    }
   ],
   "source": [
    "# calculate market monthly returns for 2018\n",
    "# sp_market_returns\n",
    "sp_returns = pd.DataFrame()\n",
    "sp_returns = market_2020['Close_Monthly'].pct_change()\n",
    "sp_returns.fillna(sp_returns.mean())"
   ]
  },
  {
   "cell_type": "code",
   "execution_count": 241,
   "id": "9a75202a",
   "metadata": {},
   "outputs": [
    {
     "data": {
      "text/html": [
       "<div>\n",
       "<style scoped>\n",
       "    .dataframe tbody tr th:only-of-type {\n",
       "        vertical-align: middle;\n",
       "    }\n",
       "\n",
       "    .dataframe tbody tr th {\n",
       "        vertical-align: top;\n",
       "    }\n",
       "\n",
       "    .dataframe thead th {\n",
       "        text-align: right;\n",
       "    }\n",
       "</style>\n",
       "<table border=\"1\" class=\"dataframe\">\n",
       "  <thead>\n",
       "    <tr style=\"text-align: right;\">\n",
       "      <th></th>\n",
       "      <th>Month</th>\n",
       "      <th>BTC</th>\n",
       "      <th>ETH</th>\n",
       "      <th>LTC</th>\n",
       "      <th>ADA</th>\n",
       "      <th>DOGE</th>\n",
       "      <th>XLM</th>\n",
       "      <th>XRP</th>\n",
       "      <th>LISK</th>\n",
       "      <th>ZEC</th>\n",
       "      <th>SC</th>\n",
       "      <th>USDT</th>\n",
       "      <th>DASH</th>\n",
       "      <th>WAVES</th>\n",
       "    </tr>\n",
       "  </thead>\n",
       "  <tbody>\n",
       "    <tr>\n",
       "      <th>0</th>\n",
       "      <td>February</td>\n",
       "      <td>-0.086752</td>\n",
       "      <td>0.212044</td>\n",
       "      <td>-0.142119</td>\n",
       "      <td>-0.121017</td>\n",
       "      <td>-0.086752</td>\n",
       "      <td>-0.063589</td>\n",
       "      <td>-0.063586</td>\n",
       "      <td>-0.042152</td>\n",
       "      <td>0.277910</td>\n",
       "      <td>-0.259819</td>\n",
       "      <td>0.418750</td>\n",
       "      <td>0.001903</td>\n",
       "      <td>0.115279</td>\n",
       "    </tr>\n",
       "    <tr>\n",
       "      <th>1</th>\n",
       "      <td>March</td>\n",
       "      <td>-0.247037</td>\n",
       "      <td>-0.388833</td>\n",
       "      <td>-0.324789</td>\n",
       "      <td>-0.353375</td>\n",
       "      <td>-0.247037</td>\n",
       "      <td>-0.191253</td>\n",
       "      <td>-0.281305</td>\n",
       "      <td>-0.240746</td>\n",
       "      <td>-0.117720</td>\n",
       "      <td>-0.368776</td>\n",
       "      <td>-0.436123</td>\n",
       "      <td>0.001500</td>\n",
       "      <td>-0.237395</td>\n",
       "    </tr>\n",
       "    <tr>\n",
       "      <th>2</th>\n",
       "      <td>April</td>\n",
       "      <td>0.343735</td>\n",
       "      <td>0.549211</td>\n",
       "      <td>0.181401</td>\n",
       "      <td>0.552935</td>\n",
       "      <td>0.343735</td>\n",
       "      <td>0.305810</td>\n",
       "      <td>0.643347</td>\n",
       "      <td>0.218948</td>\n",
       "      <td>0.058587</td>\n",
       "      <td>0.442289</td>\n",
       "      <td>0.601562</td>\n",
       "      <td>-0.001198</td>\n",
       "      <td>0.246998</td>\n",
       "    </tr>\n",
       "    <tr>\n",
       "      <th>3</th>\n",
       "      <td>May</td>\n",
       "      <td>0.094767</td>\n",
       "      <td>0.123957</td>\n",
       "      <td>-0.016821</td>\n",
       "      <td>0.558560</td>\n",
       "      <td>0.094767</td>\n",
       "      <td>0.085736</td>\n",
       "      <td>0.052172</td>\n",
       "      <td>-0.044338</td>\n",
       "      <td>0.033738</td>\n",
       "      <td>0.160502</td>\n",
       "      <td>0.146341</td>\n",
       "      <td>-0.001099</td>\n",
       "      <td>-0.016940</td>\n",
       "    </tr>\n",
       "    <tr>\n",
       "      <th>4</th>\n",
       "      <td>June</td>\n",
       "      <td>-0.033184</td>\n",
       "      <td>-0.026234</td>\n",
       "      <td>-0.095196</td>\n",
       "      <td>0.132902</td>\n",
       "      <td>-0.033184</td>\n",
       "      <td>-0.092560</td>\n",
       "      <td>-0.054600</td>\n",
       "      <td>-0.133455</td>\n",
       "      <td>0.032087</td>\n",
       "      <td>-0.005022</td>\n",
       "      <td>0.195745</td>\n",
       "      <td>0.000400</td>\n",
       "      <td>-0.043609</td>\n",
       "    </tr>\n",
       "    <tr>\n",
       "      <th>5</th>\n",
       "      <td>July</td>\n",
       "      <td>0.243302</td>\n",
       "      <td>0.537575</td>\n",
       "      <td>0.413091</td>\n",
       "      <td>0.671148</td>\n",
       "      <td>0.243302</td>\n",
       "      <td>0.398845</td>\n",
       "      <td>0.445175</td>\n",
       "      <td>0.483236</td>\n",
       "      <td>0.353615</td>\n",
       "      <td>0.443603</td>\n",
       "      <td>0.085409</td>\n",
       "      <td>0.001700</td>\n",
       "      <td>0.117319</td>\n",
       "    </tr>\n",
       "    <tr>\n",
       "      <th>6</th>\n",
       "      <td>August</td>\n",
       "      <td>0.026479</td>\n",
       "      <td>0.250663</td>\n",
       "      <td>0.045977</td>\n",
       "      <td>-0.125178</td>\n",
       "      <td>0.026479</td>\n",
       "      <td>0.001676</td>\n",
       "      <td>0.002068</td>\n",
       "      <td>0.081459</td>\n",
       "      <td>1.374368</td>\n",
       "      <td>0.058634</td>\n",
       "      <td>0.501639</td>\n",
       "      <td>-0.001298</td>\n",
       "      <td>0.405300</td>\n",
       "    </tr>\n",
       "    <tr>\n",
       "      <th>7</th>\n",
       "      <td>September</td>\n",
       "      <td>-0.075663</td>\n",
       "      <td>-0.171183</td>\n",
       "      <td>-0.241594</td>\n",
       "      <td>-0.173017</td>\n",
       "      <td>-0.075663</td>\n",
       "      <td>-0.185602</td>\n",
       "      <td>-0.230245</td>\n",
       "      <td>-0.140338</td>\n",
       "      <td>-0.290219</td>\n",
       "      <td>-0.187754</td>\n",
       "      <td>-0.327511</td>\n",
       "      <td>-0.000200</td>\n",
       "      <td>-0.334701</td>\n",
       "    </tr>\n",
       "    <tr>\n",
       "      <th>8</th>\n",
       "      <td>October</td>\n",
       "      <td>0.281599</td>\n",
       "      <td>0.075398</td>\n",
       "      <td>0.207180</td>\n",
       "      <td>-0.080673</td>\n",
       "      <td>0.281599</td>\n",
       "      <td>-0.020054</td>\n",
       "      <td>0.042118</td>\n",
       "      <td>-0.007650</td>\n",
       "      <td>0.251499</td>\n",
       "      <td>-0.091023</td>\n",
       "      <td>-0.198052</td>\n",
       "      <td>0.000900</td>\n",
       "      <td>-0.120427</td>\n",
       "    </tr>\n",
       "    <tr>\n",
       "      <th>9</th>\n",
       "      <td>November</td>\n",
       "      <td>0.427182</td>\n",
       "      <td>0.594194</td>\n",
       "      <td>0.570584</td>\n",
       "      <td>0.848824</td>\n",
       "      <td>0.427182</td>\n",
       "      <td>0.376592</td>\n",
       "      <td>1.611343</td>\n",
       "      <td>1.767407</td>\n",
       "      <td>1.198656</td>\n",
       "      <td>0.358568</td>\n",
       "      <td>0.368421</td>\n",
       "      <td>-0.000400</td>\n",
       "      <td>0.262408</td>\n",
       "    </tr>\n",
       "    <tr>\n",
       "      <th>10</th>\n",
       "      <td>December</td>\n",
       "      <td>0.469406</td>\n",
       "      <td>0.195897</td>\n",
       "      <td>0.420668</td>\n",
       "      <td>0.054621</td>\n",
       "      <td>0.469406</td>\n",
       "      <td>0.321382</td>\n",
       "      <td>-0.371330</td>\n",
       "      <td>-0.669502</td>\n",
       "      <td>-0.122646</td>\n",
       "      <td>-0.190856</td>\n",
       "      <td>-0.076923</td>\n",
       "      <td>0.000500</td>\n",
       "      <td>-0.137499</td>\n",
       "    </tr>\n",
       "  </tbody>\n",
       "</table>\n",
       "</div>"
      ],
      "text/plain": [
       "        Month       BTC       ETH       LTC       ADA      DOGE       XLM  \\\n",
       "0    February -0.086752  0.212044 -0.142119 -0.121017 -0.086752 -0.063589   \n",
       "1       March -0.247037 -0.388833 -0.324789 -0.353375 -0.247037 -0.191253   \n",
       "2       April  0.343735  0.549211  0.181401  0.552935  0.343735  0.305810   \n",
       "3         May  0.094767  0.123957 -0.016821  0.558560  0.094767  0.085736   \n",
       "4        June -0.033184 -0.026234 -0.095196  0.132902 -0.033184 -0.092560   \n",
       "5        July  0.243302  0.537575  0.413091  0.671148  0.243302  0.398845   \n",
       "6      August  0.026479  0.250663  0.045977 -0.125178  0.026479  0.001676   \n",
       "7   September -0.075663 -0.171183 -0.241594 -0.173017 -0.075663 -0.185602   \n",
       "8     October  0.281599  0.075398  0.207180 -0.080673  0.281599 -0.020054   \n",
       "9    November  0.427182  0.594194  0.570584  0.848824  0.427182  0.376592   \n",
       "10   December  0.469406  0.195897  0.420668  0.054621  0.469406  0.321382   \n",
       "\n",
       "         XRP      LISK       ZEC        SC      USDT      DASH     WAVES  \n",
       "0  -0.063586 -0.042152  0.277910 -0.259819  0.418750  0.001903  0.115279  \n",
       "1  -0.281305 -0.240746 -0.117720 -0.368776 -0.436123  0.001500 -0.237395  \n",
       "2   0.643347  0.218948  0.058587  0.442289  0.601562 -0.001198  0.246998  \n",
       "3   0.052172 -0.044338  0.033738  0.160502  0.146341 -0.001099 -0.016940  \n",
       "4  -0.054600 -0.133455  0.032087 -0.005022  0.195745  0.000400 -0.043609  \n",
       "5   0.445175  0.483236  0.353615  0.443603  0.085409  0.001700  0.117319  \n",
       "6   0.002068  0.081459  1.374368  0.058634  0.501639 -0.001298  0.405300  \n",
       "7  -0.230245 -0.140338 -0.290219 -0.187754 -0.327511 -0.000200 -0.334701  \n",
       "8   0.042118 -0.007650  0.251499 -0.091023 -0.198052  0.000900 -0.120427  \n",
       "9   1.611343  1.767407  1.198656  0.358568  0.368421 -0.000400  0.262408  \n",
       "10 -0.371330 -0.669502 -0.122646 -0.190856 -0.076923  0.000500 -0.137499  "
      ]
     },
     "execution_count": 241,
     "metadata": {},
     "output_type": "execute_result"
    }
   ],
   "source": [
    "new_monthly_returns_2020 = monthly_2020_returns[1:]\n",
    "new_monthly_returns_2020.reset_index(inplace= True)\n",
    "new_monthly_returns_2020"
   ]
  },
  {
   "cell_type": "code",
   "execution_count": 242,
   "id": "0e9523d8",
   "metadata": {},
   "outputs": [],
   "source": [
    "# EXTRA: Calculate S&P 500 market variance based on 12 month return data (need to find that still)\n",
    "\n",
    "\"\"\"\n",
    "sp_market_var = apply after pct_change applied for sp closing price monthly data\n",
    "\"\"\"\n",
    "sp_market_var = sp_returns.var()\n",
    "\n",
    "# EXTRA: Calculate S&P 500 market covariance based on 12 month return data (need to find that still)\n",
    "\n",
    "btc_sp_cov = new_monthly_returns_2020['BTC'].cov(sp_returns)\n",
    "eth_sp_cov = new_monthly_returns_2020['ETH'].cov(sp_returns)\n",
    "ltc_sp_cov = new_monthly_returns_2020['LTC'].cov(sp_returns)\n",
    "ada_sp_cov = new_monthly_returns_2020['ADA'].cov(sp_returns)\n",
    "xlm_sp_cov = new_monthly_returns_2020['XLM'].cov(sp_returns)\n",
    "xrp_sp_cov = new_monthly_returns_2020['XRP'].cov(sp_returns)\n",
    "zec_sp_cov = new_monthly_returns_2020['ZEC'].cov(sp_returns)\n",
    "usdt_sp_cov = new_monthly_returns_2020['USDT'].cov(sp_returns)\n",
    "dash_sp_cov = new_monthly_returns_2020['DASH'].cov(sp_returns)\n",
    "lisk_sp_cov = new_monthly_returns_2020['LISK'].cov(sp_returns)\n",
    "waves_sp_cov = new_monthly_returns_2020['WAVES'].cov(sp_returns)\n",
    "sc_sp_cov = new_monthly_returns_2020['SC'].cov(sp_returns)\n",
    "doge_sp_cov = new_monthly_returns_2020['DOGE'].cov(sp_returns)\n",
    "\n",
    "\n",
    "# EXTRA: CALCULATE BETA OF EACH CURRENCY Relative to S&P 500\n",
    "\"\"\"\n",
    "beta = covariance of asset to market / variance of market\n",
    "\n",
    "use previous calculations for market variance and covariance of assets\n",
    "\"\"\"\n",
    "\n",
    "\n",
    "btc_sp_beta = btc_sp_cov / sp_market_var\n",
    "eth_sp_beta = eth_sp_cov / sp_market_var\n",
    "ltc_sp_beta = ltc_sp_cov / sp_market_var\n",
    "ada_sp_beta = ada_sp_cov / sp_market_var\n",
    "xlm_sp_beta = xlm_sp_cov / sp_market_var\n",
    "xrp_sp_beta = xrp_sp_cov / sp_market_var\n",
    "zec_sp_beta = zec_sp_cov / sp_market_var\n",
    "usdt_sp_beta = usdt_sp_cov / sp_market_var\n",
    "dash_sp_beta = dash_sp_cov / sp_market_var\n",
    "lisk_sp_beta = lisk_sp_cov / sp_market_var\n",
    "waves_sp_beta = waves_sp_cov / sp_market_var\n",
    "sc_sp_beta = sc_sp_cov / sp_market_var\n",
    "doge_sp_beta = doge_sp_cov / sp_market_var\n",
    "\n",
    "# making list of betas \n",
    "SP_Beta_list = [btc_sp_beta, eth_sp_beta, ltc_sp_beta, ada_sp_beta, xlm_sp_beta, xrp_sp_beta, zec_sp_beta, usdt_sp_beta, dash_sp_beta, lisk_sp_beta, waves_sp_beta, sc_sp_beta, doge_sp_beta]"
   ]
  },
  {
   "cell_type": "code",
   "execution_count": 243,
   "id": "88623798",
   "metadata": {},
   "outputs": [
    {
     "data": {
      "text/html": [
       "<div>\n",
       "<style scoped>\n",
       "    .dataframe tbody tr th:only-of-type {\n",
       "        vertical-align: middle;\n",
       "    }\n",
       "\n",
       "    .dataframe tbody tr th {\n",
       "        vertical-align: top;\n",
       "    }\n",
       "\n",
       "    .dataframe thead th {\n",
       "        text-align: right;\n",
       "    }\n",
       "</style>\n",
       "<table border=\"1\" class=\"dataframe\">\n",
       "  <thead>\n",
       "    <tr style=\"text-align: right;\">\n",
       "      <th></th>\n",
       "      <th>BTC</th>\n",
       "      <th>ETH</th>\n",
       "      <th>LTC</th>\n",
       "      <th>ADA</th>\n",
       "      <th>DOGE</th>\n",
       "      <th>XLM</th>\n",
       "      <th>XRP</th>\n",
       "      <th>LISK</th>\n",
       "      <th>ZEC</th>\n",
       "      <th>SC</th>\n",
       "      <th>USDT</th>\n",
       "      <th>DASH</th>\n",
       "      <th>WAVES</th>\n",
       "    </tr>\n",
       "  </thead>\n",
       "  <tbody>\n",
       "    <tr>\n",
       "      <th>count</th>\n",
       "      <td>12.000000</td>\n",
       "      <td>12.000000</td>\n",
       "      <td>12.000000</td>\n",
       "      <td>12.000000</td>\n",
       "      <td>12.000000</td>\n",
       "      <td>12.000000</td>\n",
       "      <td>12.000000</td>\n",
       "      <td>12.000000</td>\n",
       "      <td>12.000000</td>\n",
       "      <td>12.000000</td>\n",
       "      <td>12.000000</td>\n",
       "      <td>12.000000</td>\n",
       "      <td>12.000000</td>\n",
       "    </tr>\n",
       "    <tr>\n",
       "      <th>mean</th>\n",
       "      <td>0.120320</td>\n",
       "      <td>0.162724</td>\n",
       "      <td>0.084865</td>\n",
       "      <td>0.163811</td>\n",
       "      <td>0.120320</td>\n",
       "      <td>0.078082</td>\n",
       "      <td>0.149596</td>\n",
       "      <td>0.106072</td>\n",
       "      <td>0.254156</td>\n",
       "      <td>0.030029</td>\n",
       "      <td>0.106605</td>\n",
       "      <td>0.000226</td>\n",
       "      <td>0.021395</td>\n",
       "    </tr>\n",
       "    <tr>\n",
       "      <th>std</th>\n",
       "      <td>0.227798</td>\n",
       "      <td>0.297618</td>\n",
       "      <td>0.279299</td>\n",
       "      <td>0.390680</td>\n",
       "      <td>0.227798</td>\n",
       "      <td>0.216572</td>\n",
       "      <td>0.541170</td>\n",
       "      <td>0.589630</td>\n",
       "      <td>0.516525</td>\n",
       "      <td>0.273503</td>\n",
       "      <td>0.329995</td>\n",
       "      <td>0.001124</td>\n",
       "      <td>0.217355</td>\n",
       "    </tr>\n",
       "    <tr>\n",
       "      <th>min</th>\n",
       "      <td>-0.247037</td>\n",
       "      <td>-0.388833</td>\n",
       "      <td>-0.324789</td>\n",
       "      <td>-0.353375</td>\n",
       "      <td>-0.247037</td>\n",
       "      <td>-0.191253</td>\n",
       "      <td>-0.371330</td>\n",
       "      <td>-0.669502</td>\n",
       "      <td>-0.290219</td>\n",
       "      <td>-0.368776</td>\n",
       "      <td>-0.436123</td>\n",
       "      <td>-0.001298</td>\n",
       "      <td>-0.334701</td>\n",
       "    </tr>\n",
       "    <tr>\n",
       "      <th>25%</th>\n",
       "      <td>-0.043804</td>\n",
       "      <td>-0.006559</td>\n",
       "      <td>-0.106927</td>\n",
       "      <td>-0.122058</td>\n",
       "      <td>-0.043804</td>\n",
       "      <td>-0.070832</td>\n",
       "      <td>-0.105251</td>\n",
       "      <td>-0.135176</td>\n",
       "      <td>-0.029430</td>\n",
       "      <td>-0.188530</td>\n",
       "      <td>-0.107205</td>\n",
       "      <td>-0.000575</td>\n",
       "      <td>-0.124695</td>\n",
       "    </tr>\n",
       "    <tr>\n",
       "      <th>50%</th>\n",
       "      <td>0.060623</td>\n",
       "      <td>0.159927</td>\n",
       "      <td>0.022989</td>\n",
       "      <td>0.027310</td>\n",
       "      <td>0.060623</td>\n",
       "      <td>0.000838</td>\n",
       "      <td>0.001034</td>\n",
       "      <td>-0.024901</td>\n",
       "      <td>0.046163</td>\n",
       "      <td>-0.002511</td>\n",
       "      <td>0.115875</td>\n",
       "      <td>0.000200</td>\n",
       "      <td>-0.008470</td>\n",
       "    </tr>\n",
       "    <tr>\n",
       "      <th>75%</th>\n",
       "      <td>0.297133</td>\n",
       "      <td>0.322391</td>\n",
       "      <td>0.258658</td>\n",
       "      <td>0.554342</td>\n",
       "      <td>0.297133</td>\n",
       "      <td>0.309703</td>\n",
       "      <td>0.150423</td>\n",
       "      <td>0.115831</td>\n",
       "      <td>0.296836</td>\n",
       "      <td>0.210019</td>\n",
       "      <td>0.381003</td>\n",
       "      <td>0.001050</td>\n",
       "      <td>0.149739</td>\n",
       "    </tr>\n",
       "    <tr>\n",
       "      <th>max</th>\n",
       "      <td>0.469406</td>\n",
       "      <td>0.594194</td>\n",
       "      <td>0.570584</td>\n",
       "      <td>0.848824</td>\n",
       "      <td>0.469406</td>\n",
       "      <td>0.398845</td>\n",
       "      <td>1.611343</td>\n",
       "      <td>1.767407</td>\n",
       "      <td>1.374368</td>\n",
       "      <td>0.443603</td>\n",
       "      <td>0.601562</td>\n",
       "      <td>0.001903</td>\n",
       "      <td>0.405300</td>\n",
       "    </tr>\n",
       "    <tr>\n",
       "      <th>beta</th>\n",
       "      <td>1.000000</td>\n",
       "      <td>0.983708</td>\n",
       "      <td>1.144864</td>\n",
       "      <td>1.118506</td>\n",
       "      <td>1.000000</td>\n",
       "      <td>0.829609</td>\n",
       "      <td>1.293933</td>\n",
       "      <td>0.971238</td>\n",
       "      <td>0.578061</td>\n",
       "      <td>0.699585</td>\n",
       "      <td>0.448464</td>\n",
       "      <td>-0.001189</td>\n",
       "      <td>0.316636</td>\n",
       "    </tr>\n",
       "    <tr>\n",
       "      <th>sp_beta</th>\n",
       "      <td>-0.238711</td>\n",
       "      <td>-0.771642</td>\n",
       "      <td>-0.173206</td>\n",
       "      <td>-0.401651</td>\n",
       "      <td>-0.318037</td>\n",
       "      <td>-3.055653</td>\n",
       "      <td>-0.273875</td>\n",
       "      <td>-0.569956</td>\n",
       "      <td>-0.002089</td>\n",
       "      <td>-2.593247</td>\n",
       "      <td>-0.614011</td>\n",
       "      <td>-0.893127</td>\n",
       "      <td>-0.238711</td>\n",
       "    </tr>\n",
       "  </tbody>\n",
       "</table>\n",
       "</div>"
      ],
      "text/plain": [
       "               BTC        ETH        LTC        ADA       DOGE        XLM  \\\n",
       "count    12.000000  12.000000  12.000000  12.000000  12.000000  12.000000   \n",
       "mean      0.120320   0.162724   0.084865   0.163811   0.120320   0.078082   \n",
       "std       0.227798   0.297618   0.279299   0.390680   0.227798   0.216572   \n",
       "min      -0.247037  -0.388833  -0.324789  -0.353375  -0.247037  -0.191253   \n",
       "25%      -0.043804  -0.006559  -0.106927  -0.122058  -0.043804  -0.070832   \n",
       "50%       0.060623   0.159927   0.022989   0.027310   0.060623   0.000838   \n",
       "75%       0.297133   0.322391   0.258658   0.554342   0.297133   0.309703   \n",
       "max       0.469406   0.594194   0.570584   0.848824   0.469406   0.398845   \n",
       "beta      1.000000   0.983708   1.144864   1.118506   1.000000   0.829609   \n",
       "sp_beta  -0.238711  -0.771642  -0.173206  -0.401651  -0.318037  -3.055653   \n",
       "\n",
       "               XRP       LISK        ZEC         SC       USDT       DASH  \\\n",
       "count    12.000000  12.000000  12.000000  12.000000  12.000000  12.000000   \n",
       "mean      0.149596   0.106072   0.254156   0.030029   0.106605   0.000226   \n",
       "std       0.541170   0.589630   0.516525   0.273503   0.329995   0.001124   \n",
       "min      -0.371330  -0.669502  -0.290219  -0.368776  -0.436123  -0.001298   \n",
       "25%      -0.105251  -0.135176  -0.029430  -0.188530  -0.107205  -0.000575   \n",
       "50%       0.001034  -0.024901   0.046163  -0.002511   0.115875   0.000200   \n",
       "75%       0.150423   0.115831   0.296836   0.210019   0.381003   0.001050   \n",
       "max       1.611343   1.767407   1.374368   0.443603   0.601562   0.001903   \n",
       "beta      1.293933   0.971238   0.578061   0.699585   0.448464  -0.001189   \n",
       "sp_beta  -0.273875  -0.569956  -0.002089  -2.593247  -0.614011  -0.893127   \n",
       "\n",
       "             WAVES  \n",
       "count    12.000000  \n",
       "mean      0.021395  \n",
       "std       0.217355  \n",
       "min      -0.334701  \n",
       "25%      -0.124695  \n",
       "50%      -0.008470  \n",
       "75%       0.149739  \n",
       "max       0.405300  \n",
       "beta      0.316636  \n",
       "sp_beta  -0.238711  "
      ]
     },
     "execution_count": 243,
     "metadata": {},
     "output_type": "execute_result"
    }
   ],
   "source": [
    "# adding to main dataframe:\n",
    "summary_data2 = pd.DataFrame()\n",
    "summary_data2 = summary_data.T\n",
    "summary_data2['sp_beta'] = SP_Beta_list\n",
    "final_summary_data = summary_data2.T\n",
    "final_summary_data"
   ]
  },
  {
   "cell_type": "code",
   "execution_count": 244,
   "id": "92cbe2fc",
   "metadata": {},
   "outputs": [
    {
     "data": {
      "text/plain": [
       "XLM     -3.055653\n",
       "SC      -2.593247\n",
       "DASH    -0.893127\n",
       "ETH     -0.771642\n",
       "USDT    -0.614011\n",
       "LISK    -0.569956\n",
       "ADA     -0.401651\n",
       "DOGE    -0.318037\n",
       "XRP     -0.273875\n",
       "BTC     -0.238711\n",
       "WAVES   -0.238711\n",
       "LTC     -0.173206\n",
       "ZEC     -0.002089\n",
       "Name: sp_beta, dtype: float64"
      ]
     },
     "execution_count": 244,
     "metadata": {},
     "output_type": "execute_result"
    }
   ],
   "source": [
    "sp_beta_with_btc = final_summary_data.iloc[9, 0:].sort_values()\n",
    "sp_beta_with_btc"
   ]
  },
  {
   "cell_type": "code",
   "execution_count": 245,
   "id": "999f162e",
   "metadata": {},
   "outputs": [
    {
     "data": {},
     "metadata": {},
     "output_type": "display_data"
    },
    {
     "data": {
      "application/vnd.holoviews_exec.v0+json": "",
      "text/html": [
       "<div id='6261'>\n",
       "\n",
       "\n",
       "\n",
       "\n",
       "\n",
       "  <div class=\"bk-root\" id=\"8f47b26a-c14f-4f55-bf04-c0162820de0e\" data-root-id=\"6261\"></div>\n",
       "</div>\n",
       "<script type=\"application/javascript\">(function(root) {\n",
       "  function embed_document(root) {\n",
       "    var docs_json = {\"df84184e-361d-4813-be96-fd302436dc16\":{\"defs\":[{\"extends\":null,\"module\":null,\"name\":\"ReactiveHTML1\",\"overrides\":[],\"properties\":[]},{\"extends\":null,\"module\":null,\"name\":\"FlexBox1\",\"overrides\":[],\"properties\":[{\"default\":\"flex-start\",\"kind\":null,\"name\":\"align_content\"},{\"default\":\"flex-start\",\"kind\":null,\"name\":\"align_items\"},{\"default\":\"row\",\"kind\":null,\"name\":\"flex_direction\"},{\"default\":\"wrap\",\"kind\":null,\"name\":\"flex_wrap\"},{\"default\":\"flex-start\",\"kind\":null,\"name\":\"justify_content\"}]},{\"extends\":null,\"module\":null,\"name\":\"TemplateActions1\",\"overrides\":[],\"properties\":[{\"default\":0,\"kind\":null,\"name\":\"open_modal\"},{\"default\":0,\"kind\":null,\"name\":\"close_modal\"}]},{\"extends\":null,\"module\":null,\"name\":\"MaterialTemplateActions1\",\"overrides\":[],\"properties\":[{\"default\":0,\"kind\":null,\"name\":\"open_modal\"},{\"default\":0,\"kind\":null,\"name\":\"close_modal\"}]}],\"roots\":{\"references\":[{\"attributes\":{\"axis\":{\"id\":\"6278\"},\"dimension\":1,\"grid_line_color\":null,\"ticker\":null},\"id\":\"6281\",\"type\":\"Grid\"},{\"attributes\":{},\"id\":\"6310\",\"type\":\"AllLabels\"},{\"attributes\":{},\"id\":\"6276\",\"type\":\"CategoricalTicker\"},{\"attributes\":{\"axis\":{\"id\":\"6275\"},\"grid_line_color\":null,\"ticker\":null},\"id\":\"6277\",\"type\":\"Grid\"},{\"attributes\":{\"bottom_units\":\"screen\",\"fill_alpha\":0.5,\"fill_color\":\"lightgrey\",\"left_units\":\"screen\",\"level\":\"overlay\",\"line_alpha\":1.0,\"line_color\":\"black\",\"line_dash\":[4,4],\"line_width\":2,\"right_units\":\"screen\",\"syncable\":false,\"top_units\":\"screen\"},\"id\":\"6287\",\"type\":\"BoxAnnotation\"},{\"attributes\":{\"margin\":[5,5,5,5],\"name\":\"HSpacer07741\",\"sizing_mode\":\"stretch_width\"},\"id\":\"6262\",\"type\":\"Spacer\"},{\"attributes\":{},\"id\":\"6319\",\"type\":\"UnionRenderers\"},{\"attributes\":{},\"id\":\"6279\",\"type\":\"BasicTicker\"},{\"attributes\":{\"axis_label\":\"Beta Value\",\"formatter\":{\"id\":\"6308\"},\"major_label_policy\":{\"id\":\"6310\"},\"ticker\":{\"id\":\"6279\"}},\"id\":\"6278\",\"type\":\"LinearAxis\"},{\"attributes\":{\"children\":[{\"id\":\"6262\"},{\"id\":\"6266\"},{\"id\":\"6331\"}],\"margin\":[0,0,0,0],\"name\":\"Row07737\",\"tags\":[\"embedded\"]},\"id\":\"6261\",\"type\":\"Row\"},{\"attributes\":{\"fill_alpha\":{\"value\":0.2},\"fill_color\":{\"value\":\"cyan\"},\"line_alpha\":{\"value\":0.2},\"top\":{\"field\":\"sp_beta\"},\"width\":{\"value\":0.8},\"x\":{\"field\":\"index\"}},\"id\":\"6301\",\"type\":\"VBar\"},{\"attributes\":{\"data_source\":{\"id\":\"6295\"},\"glyph\":{\"id\":\"6298\"},\"hover_glyph\":{\"id\":\"6300\"},\"muted_glyph\":{\"id\":\"6301\"},\"nonselection_glyph\":{\"id\":\"6299\"},\"selection_glyph\":{\"id\":\"6304\"},\"view\":{\"id\":\"6303\"}},\"id\":\"6302\",\"type\":\"GlyphRenderer\"},{\"attributes\":{\"bottom\":{\"value\":0},\"fill_alpha\":{\"value\":1.0},\"fill_color\":{\"value\":\"cyan\"},\"hatch_alpha\":{\"value\":1.0},\"hatch_color\":{\"value\":\"black\"},\"hatch_scale\":{\"value\":12.0},\"hatch_weight\":{\"value\":1.0},\"line_alpha\":{\"value\":1.0},\"line_cap\":{\"value\":\"butt\"},\"line_color\":{\"value\":\"black\"},\"line_dash\":{\"value\":[]},\"line_dash_offset\":{\"value\":0},\"line_join\":{\"value\":\"bevel\"},\"line_width\":{\"value\":1},\"top\":{\"field\":\"sp_beta\"},\"width\":{\"value\":0.8},\"x\":{\"field\":\"index\"}},\"id\":\"6304\",\"type\":\"VBar\"},{\"attributes\":{\"end\":0.0,\"reset_end\":0.0,\"reset_start\":-3.361009141771082,\"start\":-3.361009141771082,\"tags\":[[[\"sp_beta\",\"sp_beta\",null]]]},\"id\":\"6264\",\"type\":\"Range1d\"},{\"attributes\":{},\"id\":\"6296\",\"type\":\"Selection\"},{\"attributes\":{},\"id\":\"6307\",\"type\":\"AllLabels\"},{\"attributes\":{\"callback\":null,\"renderers\":[{\"id\":\"6302\"}],\"tags\":[\"hv_created\"],\"tooltips\":[[\"index\",\"@{index}\"],[\"sp_beta\",\"@{sp_beta}\"]]},\"id\":\"6265\",\"type\":\"HoverTool\"},{\"attributes\":{\"active_multi\":null,\"tools\":[{\"id\":\"6265\"},{\"id\":\"6282\"},{\"id\":\"6283\"},{\"id\":\"6284\"},{\"id\":\"6285\"},{\"id\":\"6286\"}]},\"id\":\"6288\",\"type\":\"Toolbar\"},{\"attributes\":{\"source\":{\"id\":\"6295\"}},\"id\":\"6303\",\"type\":\"CDSView\"},{\"attributes\":{},\"id\":\"6282\",\"type\":\"SaveTool\"},{\"attributes\":{},\"id\":\"6283\",\"type\":\"PanTool\"},{\"attributes\":{\"below\":[{\"id\":\"6275\"}],\"center\":[{\"id\":\"6277\"},{\"id\":\"6281\"}],\"height\":300,\"left\":[{\"id\":\"6278\"}],\"margin\":[5,5,5,5],\"min_border_bottom\":10,\"min_border_left\":10,\"min_border_right\":10,\"min_border_top\":10,\"renderers\":[{\"id\":\"6302\"}],\"sizing_mode\":\"fixed\",\"title\":{\"id\":\"6267\"},\"toolbar\":{\"id\":\"6288\"},\"width\":700,\"x_range\":{\"id\":\"6263\"},\"x_scale\":{\"id\":\"6271\"},\"y_range\":{\"id\":\"6264\"},\"y_scale\":{\"id\":\"6273\"}},\"id\":\"6266\",\"subtype\":\"Figure\",\"type\":\"Plot\"},{\"attributes\":{},\"id\":\"6284\",\"type\":\"WheelZoomTool\"},{\"attributes\":{\"axis_label\":\"Cryptocurrency\",\"formatter\":{\"id\":\"6306\"},\"major_label_orientation\":1.2217304763960306,\"major_label_policy\":{\"id\":\"6307\"},\"ticker\":{\"id\":\"6276\"}},\"id\":\"6275\",\"type\":\"CategoricalAxis\"},{\"attributes\":{},\"id\":\"6308\",\"type\":\"BasicTickFormatter\"},{\"attributes\":{\"overlay\":{\"id\":\"6287\"}},\"id\":\"6285\",\"type\":\"BoxZoomTool\"},{\"attributes\":{},\"id\":\"6306\",\"type\":\"CategoricalTickFormatter\"},{\"attributes\":{\"fill_color\":{\"value\":\"black\"},\"top\":{\"field\":\"sp_beta\"},\"width\":{\"value\":0.8},\"x\":{\"field\":\"index\"}},\"id\":\"6300\",\"type\":\"VBar\"},{\"attributes\":{\"fill_alpha\":{\"value\":0.1},\"fill_color\":{\"value\":\"cyan\"},\"line_alpha\":{\"value\":0.1},\"top\":{\"field\":\"sp_beta\"},\"width\":{\"value\":0.8},\"x\":{\"field\":\"index\"}},\"id\":\"6299\",\"type\":\"VBar\"},{\"attributes\":{\"text\":\"2020 Bar: Beta relative to S&P 500\",\"text_color\":\"black\",\"text_font_size\":\"12pt\"},\"id\":\"6267\",\"type\":\"Title\"},{\"attributes\":{\"data\":{\"index\":[\"XLM\",\"SC\",\"DASH\",\"ETH\",\"USDT\",\"LISK\",\"ADA\",\"DOGE\",\"XRP\",\"BTC\",\"WAVES\",\"LTC\",\"ZEC\"],\"sp_beta\":{\"__ndarray__\":\"x9cpEvpxCMCgyggb+L4EwK7Dqwt/lOy/QUc8p0qx6L/9aCxi+qXjv86ucGgTPeK/H7psUqe02b+33tMDuVrUvyE8q2Mph9G/OLcYRxKOzr84txhHEo7Ov7Qnjs2gK8a/g6upXK8cYb8=\",\"dtype\":\"float64\",\"order\":\"little\",\"shape\":[13]}},\"selected\":{\"id\":\"6296\"},\"selection_policy\":{\"id\":\"6319\"}},\"id\":\"6295\",\"type\":\"ColumnDataSource\"},{\"attributes\":{\"margin\":[5,5,5,5],\"name\":\"HSpacer07742\",\"sizing_mode\":\"stretch_width\"},\"id\":\"6331\",\"type\":\"Spacer\"},{\"attributes\":{},\"id\":\"6271\",\"type\":\"CategoricalScale\"},{\"attributes\":{},\"id\":\"6286\",\"type\":\"ResetTool\"},{\"attributes\":{\"fill_color\":{\"value\":\"cyan\"},\"top\":{\"field\":\"sp_beta\"},\"width\":{\"value\":0.8},\"x\":{\"field\":\"index\"}},\"id\":\"6298\",\"type\":\"VBar\"},{\"attributes\":{},\"id\":\"6273\",\"type\":\"LinearScale\"},{\"attributes\":{\"factors\":[\"XLM\",\"SC\",\"DASH\",\"ETH\",\"USDT\",\"LISK\",\"ADA\",\"DOGE\",\"XRP\",\"BTC\",\"WAVES\",\"LTC\",\"ZEC\"],\"tags\":[[[\"index\",\"index\",null]]]},\"id\":\"6263\",\"type\":\"FactorRange\"}],\"root_ids\":[\"6261\"]},\"title\":\"Bokeh Application\",\"version\":\"2.3.2\"}};\n",
       "    var render_items = [{\"docid\":\"df84184e-361d-4813-be96-fd302436dc16\",\"root_ids\":[\"6261\"],\"roots\":{\"6261\":\"8f47b26a-c14f-4f55-bf04-c0162820de0e\"}}];\n",
       "    root.Bokeh.embed.embed_items_notebook(docs_json, render_items);\n",
       "  }\n",
       "  if (root.Bokeh !== undefined && root.Bokeh.Panel !== undefined) {\n",
       "    embed_document(root);\n",
       "  } else {\n",
       "    var attempts = 0;\n",
       "    var timer = setInterval(function(root) {\n",
       "      if (root.Bokeh !== undefined && root.Bokeh.Panel !== undefined) {\n",
       "        clearInterval(timer);\n",
       "        embed_document(root);\n",
       "      } else if (document.readyState == \"complete\") {\n",
       "        attempts++;\n",
       "        if (attempts > 200) {\n",
       "          clearInterval(timer);\n",
       "          console.log(\"Bokeh: ERROR: Unable to run BokehJS code because BokehJS library is missing\");\n",
       "        }\n",
       "      }\n",
       "    }, 25, root)\n",
       "  }\n",
       "})(window);</script>"
      ],
      "text/plain": [
       ":Bars   [index]   (sp_beta)"
      ]
     },
     "execution_count": 245,
     "metadata": {
      "application/vnd.holoviews_exec.v0+json": {
       "id": "6261"
      }
     },
     "output_type": "execute_result"
    }
   ],
   "source": [
    "sp_beta_2020_with_btc_bar = sp_beta_with_btc.hvplot.bar(\n",
    "    rot = 70,\n",
    "    title = '2020 Bar: Beta relative to S&P 500',\n",
    "    fill_color = 'cyan', \n",
    "    hover_color = 'black',\n",
    "    xlabel = 'Cryptocurrency',\n",
    "    ylabel = 'Beta Value'\n",
    "\n",
    ")\n",
    "\n",
    "sp_beta_2020_with_btc_bar"
   ]
  },
  {
   "cell_type": "code",
   "execution_count": 246,
   "id": "2e91f829",
   "metadata": {},
   "outputs": [],
   "source": [
    "# saving plot - located in hvplot_frontend\n",
    "# hvplot.save(sp_beta_2020_with_btc_bar, 'sp_beta_2020_with_btc_bar.html')"
   ]
  },
  {
   "cell_type": "code",
   "execution_count": 248,
   "id": "30244e10",
   "metadata": {},
   "outputs": [
    {
     "data": {},
     "metadata": {},
     "output_type": "display_data"
    },
    {
     "data": {
      "application/vnd.holoviews_exec.v0+json": "",
      "text/html": [
       "<div id='6516'>\n",
       "\n",
       "\n",
       "\n",
       "\n",
       "\n",
       "  <div class=\"bk-root\" id=\"52e33e6b-3b02-4a1d-aa8e-aa0c78b8e0a4\" data-root-id=\"6516\"></div>\n",
       "</div>\n",
       "<script type=\"application/javascript\">(function(root) {\n",
       "  function embed_document(root) {\n",
       "    var docs_json = {\"00f19be2-63e4-4ec8-b955-18e5005ee198\":{\"defs\":[{\"extends\":null,\"module\":null,\"name\":\"ReactiveHTML1\",\"overrides\":[],\"properties\":[]},{\"extends\":null,\"module\":null,\"name\":\"FlexBox1\",\"overrides\":[],\"properties\":[{\"default\":\"flex-start\",\"kind\":null,\"name\":\"align_content\"},{\"default\":\"flex-start\",\"kind\":null,\"name\":\"align_items\"},{\"default\":\"row\",\"kind\":null,\"name\":\"flex_direction\"},{\"default\":\"wrap\",\"kind\":null,\"name\":\"flex_wrap\"},{\"default\":\"flex-start\",\"kind\":null,\"name\":\"justify_content\"}]},{\"extends\":null,\"module\":null,\"name\":\"TemplateActions1\",\"overrides\":[],\"properties\":[{\"default\":0,\"kind\":null,\"name\":\"open_modal\"},{\"default\":0,\"kind\":null,\"name\":\"close_modal\"}]},{\"extends\":null,\"module\":null,\"name\":\"MaterialTemplateActions1\",\"overrides\":[],\"properties\":[{\"default\":0,\"kind\":null,\"name\":\"open_modal\"},{\"default\":0,\"kind\":null,\"name\":\"close_modal\"}]}],\"roots\":{\"references\":[{\"attributes\":{},\"id\":\"6536\",\"type\":\"SaveTool\"},{\"attributes\":{},\"id\":\"6537\",\"type\":\"PanTool\"},{\"attributes\":{\"below\":[{\"id\":\"6530\"}],\"center\":[{\"id\":\"6532\"},{\"id\":\"6535\"}],\"height\":300,\"left\":[{\"id\":\"6533\"}],\"margin\":[5,5,5,5],\"min_border_bottom\":10,\"min_border_left\":10,\"min_border_right\":10,\"min_border_top\":10,\"renderers\":[{\"id\":\"6557\"}],\"right\":[{\"id\":\"6560\"}],\"sizing_mode\":\"fixed\",\"title\":{\"id\":\"6522\"},\"toolbar\":{\"id\":\"6542\"},\"width\":700,\"x_range\":{\"id\":\"6518\"},\"x_scale\":{\"id\":\"6526\"},\"y_range\":{\"id\":\"6519\"},\"y_scale\":{\"id\":\"6528\"}},\"id\":\"6521\",\"subtype\":\"Figure\",\"type\":\"Plot\"},{\"attributes\":{\"factors\":[\"sp_beta\"],\"tags\":[[[\"columns\",\"columns\",null]]]},\"id\":\"6518\",\"type\":\"FactorRange\"},{\"attributes\":{},\"id\":\"6538\",\"type\":\"WheelZoomTool\"},{\"attributes\":{\"fill_color\":{\"field\":\"zvalues\",\"transform\":{\"id\":\"6549\"}},\"height\":{\"value\":1},\"line_alpha\":{\"value\":0},\"line_color\":{\"value\":\"#1f77b4\"},\"width\":{\"value\":1},\"x\":{\"field\":\"columns\"},\"y\":{\"field\":\"index\"}},\"id\":\"6553\",\"type\":\"Rect\"},{\"attributes\":{},\"id\":\"6551\",\"type\":\"Selection\"},{\"attributes\":{},\"id\":\"6526\",\"type\":\"CategoricalScale\"},{\"attributes\":{},\"id\":\"6562\",\"type\":\"CategoricalTickFormatter\"},{\"attributes\":{\"overlay\":{\"id\":\"6541\"}},\"id\":\"6539\",\"type\":\"BoxZoomTool\"},{\"attributes\":{\"axis_label\":\"\",\"formatter\":{\"id\":\"6562\"},\"major_label_policy\":{\"id\":\"6563\"},\"ticker\":{\"id\":\"6531\"}},\"id\":\"6530\",\"type\":\"CategoricalAxis\"},{\"attributes\":{\"callback\":null,\"renderers\":[{\"id\":\"6557\"}],\"tags\":[\"hv_created\"],\"tooltips\":[[\"columns\",\"@{columns}\"],[\"index\",\"@{index}\"],[\"value\",\"@{value}\"]]},\"id\":\"6520\",\"type\":\"HoverTool\"},{\"attributes\":{\"children\":[{\"id\":\"6517\"},{\"id\":\"6521\"},{\"id\":\"6589\"}],\"margin\":[0,0,0,0],\"name\":\"Row07999\",\"tags\":[\"embedded\"]},\"id\":\"6516\",\"type\":\"Row\"},{\"attributes\":{},\"id\":\"6576\",\"type\":\"UnionRenderers\"},{\"attributes\":{\"margin\":[5,5,5,5],\"name\":\"HSpacer08003\",\"sizing_mode\":\"stretch_width\"},\"id\":\"6517\",\"type\":\"Spacer\"},{\"attributes\":{},\"id\":\"6528\",\"type\":\"CategoricalScale\"},{\"attributes\":{},\"id\":\"6540\",\"type\":\"ResetTool\"},{\"attributes\":{\"source\":{\"id\":\"6550\"}},\"id\":\"6558\",\"type\":\"CDSView\"},{\"attributes\":{\"axis\":{\"id\":\"6533\"},\"dimension\":1,\"grid_line_color\":null,\"ticker\":null},\"id\":\"6535\",\"type\":\"Grid\"},{\"attributes\":{\"fill_color\":{\"value\":\"orange\"},\"height\":{\"value\":1},\"line_alpha\":{\"value\":0},\"line_color\":{\"value\":\"orange\"},\"width\":{\"value\":1},\"x\":{\"field\":\"columns\"},\"y\":{\"field\":\"index\"}},\"id\":\"6556\",\"type\":\"Rect\"},{\"attributes\":{\"text\":\"2020 Heatmap: Beta relative to S&P 500\",\"text_color\":\"black\",\"text_font_size\":\"12pt\"},\"id\":\"6522\",\"type\":\"Title\"},{\"attributes\":{\"data_source\":{\"id\":\"6550\"},\"glyph\":{\"id\":\"6553\"},\"hover_glyph\":{\"id\":\"6556\"},\"muted_glyph\":null,\"nonselection_glyph\":{\"id\":\"6554\"},\"selection_glyph\":{\"id\":\"6555\"},\"view\":{\"id\":\"6558\"}},\"id\":\"6557\",\"type\":\"GlyphRenderer\"},{\"attributes\":{},\"id\":\"6531\",\"type\":\"CategoricalTicker\"},{\"attributes\":{\"active_multi\":null,\"tools\":[{\"id\":\"6520\"},{\"id\":\"6536\"},{\"id\":\"6537\"},{\"id\":\"6538\"},{\"id\":\"6539\"},{\"id\":\"6540\"}]},\"id\":\"6542\",\"type\":\"Toolbar\"},{\"attributes\":{\"bottom_units\":\"screen\",\"fill_alpha\":0.5,\"fill_color\":\"lightgrey\",\"left_units\":\"screen\",\"level\":\"overlay\",\"line_alpha\":1.0,\"line_color\":\"black\",\"line_dash\":[4,4],\"line_width\":2,\"right_units\":\"screen\",\"syncable\":false,\"top_units\":\"screen\"},\"id\":\"6541\",\"type\":\"BoxAnnotation\"},{\"attributes\":{},\"id\":\"6565\",\"type\":\"CategoricalTickFormatter\"},{\"attributes\":{\"axis\":{\"id\":\"6530\"},\"grid_line_color\":null,\"ticker\":null},\"id\":\"6532\",\"type\":\"Grid\"},{\"attributes\":{\"bar_line_color\":\"black\",\"color_mapper\":{\"id\":\"6549\"},\"label_standoff\":8,\"location\":[0,0],\"major_label_policy\":{\"id\":\"6574\"},\"major_tick_line_color\":\"black\",\"ticker\":{\"id\":\"6559\"}},\"id\":\"6560\",\"type\":\"ColorBar\"},{\"attributes\":{\"factors\":[\"XLM\",\"SC\",\"DASH\",\"ETH\",\"USDT\",\"LISK\",\"ADA\",\"DOGE\",\"XRP\",\"BTC\",\"WAVES\",\"LTC\",\"ZEC\"],\"tags\":[[[\"index\",\"index\",null]]]},\"id\":\"6519\",\"type\":\"FactorRange\"},{\"attributes\":{\"high\":-0.002088873390041214,\"low\":-3.055652753736442,\"nan_color\":\"white\",\"palette\":[\"#b3fef5\",\"#b0fef5\",\"#adfdf5\",\"#a9fcf5\",\"#a6fbf6\",\"#a3faf6\",\"#a0faf6\",\"#9df9f6\",\"#9af8f6\",\"#97f7f6\",\"#93f7f6\",\"#90f6f6\",\"#8df5f6\",\"#8af4f7\",\"#87f3f7\",\"#83f2f7\",\"#80f2f7\",\"#7df1f7\",\"#79f0f7\",\"#76eff7\",\"#73eef7\",\"#6fedf8\",\"#6cecf8\",\"#68ecf8\",\"#65ebf8\",\"#61eaf8\",\"#5ee9f8\",\"#5ae8f8\",\"#57e7f8\",\"#53e6f8\",\"#50e5f9\",\"#4ce4f9\",\"#49e3f9\",\"#45e2f9\",\"#42e1f9\",\"#3ee0f9\",\"#3bdff9\",\"#38def9\",\"#35ddf9\",\"#32dcf9\",\"#30dbfa\",\"#2ed9fa\",\"#2dd8fa\",\"#2cd7fa\",\"#2bd6fa\",\"#2bd5fa\",\"#2ad3fa\",\"#2ad2fa\",\"#29d1fa\",\"#29d0fb\",\"#29cffb\",\"#28cdfb\",\"#28ccfb\",\"#28cbfb\",\"#28cafb\",\"#28c8fb\",\"#28c7fb\",\"#29c6fb\",\"#29c5fb\",\"#29c4fb\",\"#29c2fb\",\"#2ac1fb\",\"#2ac0fb\",\"#2bbffb\",\"#2bbdfc\",\"#2cbcfc\",\"#2dbbfc\",\"#2db9fc\",\"#2eb8fc\",\"#2fb7fc\",\"#2fb6fc\",\"#30b4fc\",\"#31b3fc\",\"#32b2fc\",\"#32b0fc\",\"#33affc\",\"#33aefc\",\"#34adfc\",\"#34abfc\",\"#34aafc\",\"#35a9fc\",\"#35a8fc\",\"#35a6fc\",\"#35a5fc\",\"#35a4fc\",\"#35a3fc\",\"#35a1fc\",\"#35a0fc\",\"#359ffc\",\"#359dfc\",\"#359cfc\",\"#359bfc\",\"#349afd\",\"#3498fd\",\"#3497fd\",\"#3396fd\",\"#3395fd\",\"#3293fd\",\"#3292fd\",\"#3191fd\",\"#3090fd\",\"#308ffd\",\"#2f8dfd\",\"#2f8cfd\",\"#2e8bfd\",\"#2e8afd\",\"#2d88fd\",\"#2d87fd\",\"#2c86fd\",\"#2c84fd\",\"#2c83fd\",\"#2c82fd\",\"#2b81fd\",\"#2b7ffd\",\"#2b7efd\",\"#2b7dfd\",\"#2b7bfd\",\"#2b7afd\",\"#2b79fd\",\"#2b77fd\",\"#2b76fd\",\"#2b75fd\",\"#2b73fd\",\"#2c72fd\",\"#2c71fd\",\"#2c6ffd\",\"#2c6efd\",\"#2d6cfd\",\"#2d6bfd\",\"#2d6afc\",\"#2e68fc\",\"#2e67fc\",\"#2e65fc\",\"#2e64fc\",\"#2f62fc\",\"#2f61fc\",\"#2f5ffc\",\"#2f5efc\",\"#2f5dfc\",\"#2f5bfc\",\"#2f5afc\",\"#2f58fb\",\"#2f57fb\",\"#2f55fb\",\"#2f53fb\",\"#2f52fb\",\"#2f50fb\",\"#2f4ffb\",\"#2f4dfb\",\"#2e4cfb\",\"#2e4afb\",\"#2e48fb\",\"#2e47fa\",\"#2d45fa\",\"#2d43fa\",\"#2d42fa\",\"#2d40fa\",\"#2c3efa\",\"#2c3dfa\",\"#2b3bf9\",\"#2b39f9\",\"#2a37f9\",\"#2a36f8\",\"#2934f8\",\"#2832f7\",\"#2831f7\",\"#272ff6\",\"#262ef5\",\"#252cf5\",\"#252af4\",\"#2429f3\",\"#2327f2\",\"#2226f1\",\"#2124f0\",\"#2023ef\",\"#1f22ee\",\"#1e20ed\",\"#1d1feb\",\"#1c1eea\",\"#1b1ce9\",\"#1a1be7\",\"#181ae6\",\"#1719e5\",\"#1618e3\",\"#1417e1\",\"#1316e0\",\"#1215de\",\"#1014dc\",\"#0f13db\",\"#0e12d9\",\"#0d11d7\",\"#0c10d5\",\"#0b0fd3\",\"#0a0ed1\",\"#090dd0\",\"#080dce\",\"#080ccc\",\"#070bca\",\"#070ac8\",\"#0709c6\",\"#0708c4\",\"#0707c2\",\"#0707bf\",\"#0806bd\",\"#0806bb\",\"#0905b9\",\"#0904b7\",\"#0a04b5\",\"#0a04b2\",\"#0b03b0\",\"#0c03ae\",\"#0d02ab\",\"#0e02a9\",\"#0e02a7\",\"#0f02a4\",\"#0f01a2\",\"#1001a0\",\"#10019d\",\"#10019b\",\"#100199\",\"#100197\",\"#100194\",\"#0f0192\",\"#0f0190\",\"#0f018e\",\"#0e018b\",\"#0e0189\",\"#0d0187\",\"#0d0185\",\"#0c0183\",\"#0b0181\",\"#0b017e\",\"#0a017c\",\"#09017a\",\"#090178\",\"#080276\",\"#070274\",\"#060272\",\"#060270\",\"#05026e\",\"#04026c\",\"#030269\",\"#030267\",\"#020265\",\"#010263\",\"#010261\",\"#00025f\",\"#00025d\",\"#00025b\",\"#000259\",\"#000257\",\"#000255\",\"#000154\",\"#000152\",\"#000150\",\"#00004e\"]},\"id\":\"6549\",\"type\":\"LinearColorMapper\"},{\"attributes\":{},\"id\":\"6559\",\"type\":\"BasicTicker\"},{\"attributes\":{},\"id\":\"6534\",\"type\":\"CategoricalTicker\"},{\"attributes\":{\"axis_label\":\"Cryptocurrency\",\"formatter\":{\"id\":\"6565\"},\"major_label_policy\":{\"id\":\"6566\"},\"ticker\":{\"id\":\"6534\"}},\"id\":\"6533\",\"type\":\"CategoricalAxis\"},{\"attributes\":{\"fill_color\":{\"field\":\"zvalues\",\"transform\":{\"id\":\"6549\"}},\"height\":{\"value\":1},\"line_alpha\":{\"value\":0},\"line_color\":{\"value\":\"#1f77b4\"},\"width\":{\"value\":1},\"x\":{\"field\":\"columns\"},\"y\":{\"field\":\"index\"}},\"id\":\"6555\",\"type\":\"Rect\"},{\"attributes\":{\"margin\":[5,5,5,5],\"name\":\"HSpacer08004\",\"sizing_mode\":\"stretch_width\"},\"id\":\"6589\",\"type\":\"Spacer\"},{\"attributes\":{\"data\":{\"columns\":[\"sp_beta\",\"sp_beta\",\"sp_beta\",\"sp_beta\",\"sp_beta\",\"sp_beta\",\"sp_beta\",\"sp_beta\",\"sp_beta\",\"sp_beta\",\"sp_beta\",\"sp_beta\",\"sp_beta\"],\"index\":[\"XLM\",\"SC\",\"DASH\",\"ETH\",\"USDT\",\"LISK\",\"ADA\",\"DOGE\",\"XRP\",\"BTC\",\"WAVES\",\"LTC\",\"ZEC\"],\"value\":[\"-3.0557\",\"-2.5932\",\"-0.89313\",\"-0.77164\",\"-0.61401\",\"-0.56996\",\"-0.40165\",\"-0.31804\",\"-0.27387\",\"-0.23871\",\"-0.23871\",\"-0.17321\",\"-0.0020889\"],\"zvalues\":{\"__ndarray__\":\"x9cpEvpxCMCgyggb+L4EwK7Dqwt/lOy/QUc8p0qx6L/9aCxi+qXjv86ucGgTPeK/H7psUqe02b+33tMDuVrUvyE8q2Mph9G/OLcYRxKOzr84txhHEo7Ov7Qnjs2gK8a/g6upXK8cYb8=\",\"dtype\":\"float64\",\"order\":\"little\",\"shape\":[13]}},\"selected\":{\"id\":\"6551\"},\"selection_policy\":{\"id\":\"6576\"}},\"id\":\"6550\",\"type\":\"ColumnDataSource\"},{\"attributes\":{},\"id\":\"6574\",\"type\":\"NoOverlap\"},{\"attributes\":{\"fill_alpha\":{\"value\":0.1},\"fill_color\":{\"field\":\"zvalues\",\"transform\":{\"id\":\"6549\"}},\"height\":{\"value\":1},\"line_alpha\":{\"value\":0},\"line_color\":{\"value\":\"#1f77b4\"},\"width\":{\"value\":1},\"x\":{\"field\":\"columns\"},\"y\":{\"field\":\"index\"}},\"id\":\"6554\",\"type\":\"Rect\"},{\"attributes\":{},\"id\":\"6566\",\"type\":\"AllLabels\"},{\"attributes\":{},\"id\":\"6563\",\"type\":\"AllLabels\"}],\"root_ids\":[\"6516\"]},\"title\":\"Bokeh Application\",\"version\":\"2.3.2\"}};\n",
       "    var render_items = [{\"docid\":\"00f19be2-63e4-4ec8-b955-18e5005ee198\",\"root_ids\":[\"6516\"],\"roots\":{\"6516\":\"52e33e6b-3b02-4a1d-aa8e-aa0c78b8e0a4\"}}];\n",
       "    root.Bokeh.embed.embed_items_notebook(docs_json, render_items);\n",
       "  }\n",
       "  if (root.Bokeh !== undefined && root.Bokeh.Panel !== undefined) {\n",
       "    embed_document(root);\n",
       "  } else {\n",
       "    var attempts = 0;\n",
       "    var timer = setInterval(function(root) {\n",
       "      if (root.Bokeh !== undefined && root.Bokeh.Panel !== undefined) {\n",
       "        clearInterval(timer);\n",
       "        embed_document(root);\n",
       "      } else if (document.readyState == \"complete\") {\n",
       "        attempts++;\n",
       "        if (attempts > 200) {\n",
       "          clearInterval(timer);\n",
       "          console.log(\"Bokeh: ERROR: Unable to run BokehJS code because BokehJS library is missing\");\n",
       "        }\n",
       "      }\n",
       "    }, 25, root)\n",
       "  }\n",
       "})(window);</script>"
      ],
      "text/plain": [
       ":HeatMap   [columns,index]   (value)"
      ]
     },
     "execution_count": 248,
     "metadata": {
      "application/vnd.holoviews_exec.v0+json": {
       "id": "6516"
      }
     },
     "output_type": "execute_result"
    }
   ],
   "source": [
    "# making heatmap for s&p beta\n",
    "sp_beta_2020_with_btc_heat = sp_beta_with_btc.hvplot.heatmap(\n",
    "    title = \"2020 Heatmap: Beta relative to S&P 500\",\n",
    "    fill_color = 'cyan', \n",
    "    hover_color = 'orange', \n",
    "    ylabel = 'Cryptocurrency'\n",
    "\n",
    ")\n",
    "\n",
    "sp_beta_2020_with_btc_heat"
   ]
  },
  {
   "cell_type": "code",
   "execution_count": 249,
   "id": "4b030e4f",
   "metadata": {},
   "outputs": [],
   "source": [
    "# saving plot - located in hvplot_frontend\n",
    "# hvplot.save(sp_beta_2020_with_btc_heat, 'sp_beta_2020_with_btc_heat.html')"
   ]
  }
 ],
 "metadata": {
  "kernelspec": {
   "display_name": "Python (dev)",
   "language": "python",
   "name": "dev"
  },
  "language_info": {
   "codemirror_mode": {
    "name": "ipython",
    "version": 3
   },
   "file_extension": ".py",
   "mimetype": "text/x-python",
   "name": "python",
   "nbconvert_exporter": "python",
   "pygments_lexer": "ipython3",
   "version": "3.7.10"
  }
 },
 "nbformat": 4,
 "nbformat_minor": 5
}
