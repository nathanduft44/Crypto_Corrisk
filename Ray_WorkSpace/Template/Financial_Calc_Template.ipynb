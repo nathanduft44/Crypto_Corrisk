{
 "cells": [
  {
   "cell_type": "code",
   "execution_count": 1,
   "id": "99c88ea7",
   "metadata": {},
   "outputs": [
    {
     "data": {
      "text/plain": [
       "'\\nTemplate for Financial Analysis in each step of larger project\\n\\nPurpose is to standardize risk metrics and provide critical code snippets to alleviate search time\\n'"
      ]
     },
     "execution_count": 1,
     "metadata": {},
     "output_type": "execute_result"
    }
   ],
   "source": [
    "\"\"\"\n",
    "Template for Financial Analysis in each step of larger project\n",
    "\n",
    "Purpose is to standardize risk metrics and provide critical code snippets to alleviate search time\n",
    "\"\"\""
   ]
  },
  {
   "cell_type": "markdown",
   "id": "0ab1ad72",
   "metadata": {},
   "source": [
    "# Required Libraries and Dependencies:\n",
    "\n",
    "import os\n",
    "\n",
    "import requests\n",
    "\n",
    "import json\n",
    "\n",
    "import pandas as pd\n",
    "\n",
    "import numpy as np\n",
    "\n",
    "from dotenv import load_dotenv\n",
    "\n",
    "from MCForecastTools import MCSimulation"
   ]
  },
  {
   "cell_type": "markdown",
   "id": "7bd48a30",
   "metadata": {},
   "source": [
    "# Code Snippets for Financial Analysis:\n",
    "\n",
    "## REQUIRED VARIABLE INFO: \n",
    "\n",
    "/ Trading days will always be equal to 365 for crypto currency since the markets do not close\n",
    "\n",
    "/ Market proxy: just do bitcoin, it's a major percentage of market share)\n",
    "\n",
    "/ Risk free rate (for sharpe ration) is essentially 0\n",
    "\n",
    "\n",
    "## RETURNS:\n",
    "\n",
    "/ Daily returns as decimal: daily_returns =  df.pct_change() \n",
    "\n",
    "/ Cumulative returns as decimal: cumulative_returns = (1 + daily_returns).cumprod() - 1\n",
    "\n",
    "/ Annual Average Returns: ann_avg_returns = daily_returns.mean() * trading_days\n",
    "\n",
    "\n",
    "## VOLATILITY / RISK METRICS:\n",
    "\n",
    "/ Variance: daily_returns.var()\n",
    "\n",
    "/ Covariance: covariance = daily_returns.cov(daily_returns_of_market)\n",
    "\n",
    "/ Annualized sharpe ratio = annualized average return / anualized standard deviation\n",
    "\n",
    "/ Standard Deviation: daily_returns.std() \n",
    "\n",
    "Annualized standard deviation;\n",
    "\n",
    "/ Beta: daily_returns_of_asset.cov(daily_returns_of_market) / daily_returns_market.var()\n",
    "\n",
    "\n",
    "\n",
    "\n",
    "## Risk / Reward\n",
    "\n",
    "Sharpe Ratio: Sharpe ratio = Annualized average return / Annualized standard deviation\n",
    "\n",
    "Annulized Sharpe Ratio: Annualized sharpe ratio = annualized average return / anualized standard deviation\n",
    "\n",
    "\n",
    "## PROBABILITY DISTRIBUTIONS:\n",
    "\n",
    "take lower and upper ranges of results of mc simulation, multiply by respective confidence interval value from dataframe\n",
    "\n"
   ]
  },
  {
   "cell_type": "code",
   "execution_count": null,
   "id": "e800da86",
   "metadata": {},
   "outputs": [],
   "source": []
  }
 ],
 "metadata": {
  "kernelspec": {
   "display_name": "Python (dev)",
   "language": "python",
   "name": "dev"
  },
  "language_info": {
   "codemirror_mode": {
    "name": "ipython",
    "version": 3
   },
   "file_extension": ".py",
   "mimetype": "text/x-python",
   "name": "python",
   "nbconvert_exporter": "python",
   "pygments_lexer": "ipython3",
   "version": "3.7.10"
  }
 },
 "nbformat": 4,
 "nbformat_minor": 5
}
