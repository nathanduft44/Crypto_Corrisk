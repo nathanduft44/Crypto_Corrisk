{
 "cells": [
  {
   "cell_type": "code",
   "execution_count": 1,
   "id": "9fa67536",
   "metadata": {},
   "outputs": [],
   "source": [
    "# GOAL: HAVE EACH ANALYSIS SECTION COMPUTE A STANDARD SET OF CALCULATIONS FOR RISK METRICS AND CORRELATION\n",
    "\n",
    "\"\"\"\n",
    "For now, we keep it simple. If we need to expand, we can. \n",
    "We are taking what we need to in order to understand how each basket of currencies \n",
    "is correlated to the market proxy (bitcoin)\n",
    "\"\"\""
   ]
  },
  {
   "cell_type": "code",
   "execution_count": 2,
   "id": "2d9148b2",
   "metadata": {},
   "outputs": [],
   "source": [
    "# STEP 1: IMPORT DEPENDENCIES\n",
    "\"\"\"\n",
    "import pandas as pd\n",
    "\n",
    "import numpy as np\n",
    "\n",
    "\"\"\""
   ]
  },
  {
   "cell_type": "code",
   "execution_count": 3,
   "id": "ebbfa872",
   "metadata": {},
   "outputs": [],
   "source": [
    "# STEP 2: IMPORT DATA AS DATAFRAME\n",
    "\"\"\"\n",
    "Determnine if we are reading csv data, running individual api calls, or querying an in-house database\n",
    "\"\"\""
   ]
  },
  {
   "cell_type": "code",
   "execution_count": 4,
   "id": "e58f6046",
   "metadata": {},
   "outputs": [],
   "source": [
    "# STEP 3: CALCULATE DAILY RETURNS FOR EACH CURRENCY IN DATAFRAME, DROP NULL VALUES\n",
    "\"\"\"\n",
    "\n",
    "Will need: .pct_change().dropna(inplace = True)\n",
    "\n",
    "\"\"\""
   ]
  },
  {
   "cell_type": "code",
   "execution_count": 5,
   "id": "c74fbf70",
   "metadata": {},
   "outputs": [],
   "source": [
    "# STEP 4: CALCULATE VARIANCE OF BITCOIN FOR DATAFRAME\n",
    "\"\"\"\n",
    "\n",
    "Will need: .var()\n",
    "\n",
    "\"\"\""
   ]
  },
  {
   "cell_type": "code",
   "execution_count": 6,
   "id": "3b4e49b3",
   "metadata": {},
   "outputs": [],
   "source": [
    "# STEP 5: CALCULATE COVARIANCE OF EACH CURRENCY RELATIVE TO BITCOIN\n",
    "\"\"\"\n",
    "Use daily returns of currency and daily returns of bitcoin as market proxy\n",
    "\n",
    "\"\"\""
   ]
  },
  {
   "cell_type": "code",
   "execution_count": null,
   "id": "c87fcb0a",
   "metadata": {},
   "outputs": [],
   "source": [
    "# STEP 6: CALCULATE BETA OF EACH CURRENCY\n",
    "\n",
    "\"\"\"\n",
    "beta = covariance of asset to market / variance of market\n",
    "\n",
    "use previous calculations for market variance and covariance of assets\n",
    "\"\"\""
   ]
  }
 ],
 "metadata": {
  "kernelspec": {
   "display_name": "Python (dev)",
   "language": "python",
   "name": "dev"
  },
  "language_info": {
   "codemirror_mode": {
    "name": "ipython",
    "version": 3
   },
   "file_extension": ".py",
   "mimetype": "text/x-python",
   "name": "python",
   "nbconvert_exporter": "python",
   "pygments_lexer": "ipython3",
   "version": "3.7.10"
  }
 },
 "nbformat": 4,
 "nbformat_minor": 5
}
