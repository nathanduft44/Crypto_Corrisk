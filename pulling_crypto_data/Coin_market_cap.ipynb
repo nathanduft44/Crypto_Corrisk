{
 "cells": [
  {
   "cell_type": "code",
   "execution_count": 1,
   "id": "0c3ed18c-3db3-4337-9400-29362b16448c",
   "metadata": {},
   "outputs": [],
   "source": [
    "from requests import Request, Session\n",
    "from requests.exceptions import ConnectionError, Timeout, TooManyRedirects\n",
    "import json\n",
    "import pandas as pd\n",
    "import os\n",
    "from dotenv import load_dotenv\n",
    "import requests\n",
    "import json"
   ]
  },
  {
   "cell_type": "code",
   "execution_count": 2,
   "id": "48852e84-ed14-44bf-83b5-adc4b0b20ebe",
   "metadata": {},
   "outputs": [
    {
     "name": "stdout",
     "output_type": "stream",
     "text": [
      "Collecting coinmarketcap\n",
      "  Using cached coinmarketcap-5.0.3.tar.gz (7.0 kB)\n",
      "Requirement already satisfied: requests>=2.18.4 in /Users/nathanduft/opt/anaconda3/envs/dev/lib/python3.7/site-packages (from coinmarketcap) (2.25.1)\n",
      "Collecting requests_cache>=0.4.13\n",
      "  Using cached requests_cache-0.7.3-py3-none-any.whl (53 kB)\n",
      "Requirement already satisfied: certifi>=2017.4.17 in /Users/nathanduft/opt/anaconda3/envs/dev/lib/python3.7/site-packages (from requests>=2.18.4->coinmarketcap) (2021.5.30)\n",
      "Requirement already satisfied: urllib3<1.27,>=1.21.1 in /Users/nathanduft/opt/anaconda3/envs/dev/lib/python3.7/site-packages (from requests>=2.18.4->coinmarketcap) (1.26.4)\n",
      "Requirement already satisfied: idna<3,>=2.5 in /Users/nathanduft/opt/anaconda3/envs/dev/lib/python3.7/site-packages (from requests>=2.18.4->coinmarketcap) (2.10)\n",
      "Requirement already satisfied: chardet<5,>=3.0.2 in /Users/nathanduft/opt/anaconda3/envs/dev/lib/python3.7/site-packages (from requests>=2.18.4->coinmarketcap) (4.0.0)\n",
      "Collecting url-normalize<2.0,>=1.4\n",
      "  Using cached url_normalize-1.4.3-py2.py3-none-any.whl (6.8 kB)\n",
      "Requirement already satisfied: pyyaml>=5.4 in /Users/nathanduft/opt/anaconda3/envs/dev/lib/python3.7/site-packages (from requests_cache>=0.4.13->coinmarketcap) (5.4.1)\n",
      "Collecting itsdangerous>=2.0.1\n",
      "  Using cached itsdangerous-2.0.1-py3-none-any.whl (18 kB)\n",
      "Collecting attrs<22.0,>=21.2\n",
      "  Using cached attrs-21.2.0-py2.py3-none-any.whl (53 kB)\n",
      "Requirement already satisfied: six in /Users/nathanduft/opt/anaconda3/envs/dev/lib/python3.7/site-packages (from url-normalize<2.0,>=1.4->requests_cache>=0.4.13->coinmarketcap) (1.15.0)\n",
      "Building wheels for collected packages: coinmarketcap\n",
      "  Building wheel for coinmarketcap (setup.py) ... \u001b[?25ldone\n",
      "\u001b[?25h  Created wheel for coinmarketcap: filename=coinmarketcap-5.0.3-py3-none-any.whl size=6105 sha256=742ea5191d0b4574f3d495042b99e586c1f06dab2e26c1eaf8399b2889c7859f\n",
      "  Stored in directory: /Users/nathanduft/Library/Caches/pip/wheels/7d/6e/3f/7fd98acbb48da56cf322192485d03ed5f2e0e0c19d739cc63e\n",
      "Successfully built coinmarketcap\n",
      "Installing collected packages: url-normalize, itsdangerous, attrs, requests-cache, coinmarketcap\n",
      "  Attempting uninstall: itsdangerous\n",
      "    Found existing installation: itsdangerous 1.1.0\n",
      "    Uninstalling itsdangerous-1.1.0:\n",
      "      Successfully uninstalled itsdangerous-1.1.0\n",
      "  Attempting uninstall: attrs\n",
      "    Found existing installation: attrs 20.3.0\n",
      "    Uninstalling attrs-20.3.0:\n",
      "      Successfully uninstalled attrs-20.3.0\n",
      "Successfully installed attrs-21.2.0 coinmarketcap-5.0.3 itsdangerous-2.0.1 requests-cache-0.7.3 url-normalize-1.4.3\n",
      "Note: you may need to restart the kernel to use updated packages.\n"
     ]
    }
   ],
   "source": [
    "pip install coinmarketcap"
   ]
  },
  {
   "cell_type": "code",
   "execution_count": null,
   "id": "3224acf4-9a1d-4a85-8c5f-bedff22860dd",
   "metadata": {},
   "outputs": [],
   "source": []
  },
  {
   "cell_type": "code",
   "execution_count": 3,
   "id": "3ca4d5fe-7fd7-46c9-800b-ab95567f8996",
   "metadata": {},
   "outputs": [
    {
     "data": {
      "text/plain": [
       "True"
      ]
     },
     "execution_count": 3,
     "metadata": {},
     "output_type": "execute_result"
    }
   ],
   "source": [
    "load_dotenv()"
   ]
  },
  {
   "cell_type": "code",
   "execution_count": 4,
   "id": "3a1d2e63-feb0-42a9-8c7e-49bd10c06e87",
   "metadata": {},
   "outputs": [],
   "source": [
    "cmc = os.getenv(\"COINMARKETCAP_API_KEY\")"
   ]
  },
  {
   "cell_type": "code",
   "execution_count": 5,
   "id": "a33e834f-055b-4a26-8e85-a892c3e3af32",
   "metadata": {},
   "outputs": [
    {
     "name": "stdout",
     "output_type": "stream",
     "text": [
      "<class 'str'>\n"
     ]
    }
   ],
   "source": [
    "print(type(cmc))"
   ]
  },
  {
   "cell_type": "code",
   "execution_count": 6,
   "id": "2493a0b8-1388-45e9-936d-6aecbb0e8bf0",
   "metadata": {},
   "outputs": [],
   "source": [
    "url ='https://pro-api.coinmarketcap.com/v1/cryptocurrency/ohlcv/historical'\n",
    "parameters = {\n",
    "    'start':'1',\n",
    "    'limit':'20',\n",
    "    'convert':'USD'\n",
    "}\n",
    "os.getenv('COINMARKETCAP_API_KEY')\n",
    "headers = {\n",
    "    'Accepts': 'application/json',\n",
    "    'X-CMC_PRO_API_KEY': cmc\n",
    "}\n",
    "session = Session()\n",
    "session.headers.update(headers)\n"
   ]
  },
  {
   "cell_type": "code",
   "execution_count": 13,
   "id": "97c775db-bce3-4d94-ac9f-3ab026427013",
   "metadata": {},
   "outputs": [
    {
     "ename": "KeyError",
     "evalue": "'data'",
     "output_type": "error",
     "traceback": [
      "\u001b[0;31m---------------------------------------------------------------------------\u001b[0m",
      "\u001b[0;31mKeyError\u001b[0m                                  Traceback (most recent call last)",
      "\u001b[0;32m<ipython-input-13-ea84e49299bf>\u001b[0m in \u001b[0;36m<module>\u001b[0;34m\u001b[0m\n\u001b[1;32m      1\u001b[0m \u001b[0mresponse\u001b[0m \u001b[0;34m=\u001b[0m \u001b[0mrequests\u001b[0m\u001b[0;34m.\u001b[0m\u001b[0mget\u001b[0m\u001b[0;34m(\u001b[0m\u001b[0murl\u001b[0m\u001b[0;34m,\u001b[0m \u001b[0mparams\u001b[0m\u001b[0;34m=\u001b[0m\u001b[0mparameters\u001b[0m\u001b[0;34m,\u001b[0m \u001b[0mheaders\u001b[0m\u001b[0;34m=\u001b[0m\u001b[0mheaders\u001b[0m\u001b[0;34m)\u001b[0m\u001b[0;34m\u001b[0m\u001b[0;34m\u001b[0m\u001b[0m\n\u001b[1;32m      2\u001b[0m \u001b[0mjsondata\u001b[0m \u001b[0;34m=\u001b[0m \u001b[0mjson\u001b[0m\u001b[0;34m.\u001b[0m\u001b[0mloads\u001b[0m\u001b[0;34m(\u001b[0m\u001b[0mresp\u001b[0m\u001b[0;34m.\u001b[0m\u001b[0mtext\u001b[0m\u001b[0;34m)\u001b[0m\u001b[0;34m\u001b[0m\u001b[0;34m\u001b[0m\u001b[0m\n\u001b[0;32m----> 3\u001b[0;31m \u001b[0mCoinDF\u001b[0m \u001b[0;34m=\u001b[0m \u001b[0mpd\u001b[0m\u001b[0;34m.\u001b[0m\u001b[0mjson_normalize\u001b[0m\u001b[0;34m(\u001b[0m\u001b[0mjsondata\u001b[0m\u001b[0;34m[\u001b[0m\u001b[0;34m'data'\u001b[0m\u001b[0;34m]\u001b[0m\u001b[0;34m)\u001b[0m\u001b[0;34m\u001b[0m\u001b[0;34m\u001b[0m\u001b[0m\n\u001b[0m",
      "\u001b[0;31mKeyError\u001b[0m: 'data'"
     ]
    }
   ],
   "source": [
    "response = requests.get(url, params=parameters, headers=headers)\n",
    "jsondata = json.loads(resp.text)\n",
    "CoinDF = pd.json_normalize(jsondata['data'])"
   ]
  },
  {
   "cell_type": "code",
   "execution_count": 11,
   "id": "665e5830-a7e1-42e9-87a9-c95a9391d453",
   "metadata": {},
   "outputs": [
    {
     "data": {
      "text/plain": [
       "dict_keys(['status'])"
      ]
     },
     "execution_count": 11,
     "metadata": {},
     "output_type": "execute_result"
    }
   ],
   "source": [
    "jsondata.keys()"
   ]
  },
  {
   "cell_type": "code",
   "execution_count": 12,
   "id": "ad0bfd59-63e2-491e-bfb8-991c5a9434e8",
   "metadata": {},
   "outputs": [
    {
     "ename": "TypeError",
     "evalue": "Object of type Response is not JSON serializable",
     "output_type": "error",
     "traceback": [
      "\u001b[0;31m---------------------------------------------------------------------------\u001b[0m",
      "\u001b[0;31mTypeError\u001b[0m                                 Traceback (most recent call last)",
      "\u001b[0;32m<ipython-input-12-6f5b6f6d8c5c>\u001b[0m in \u001b[0;36m<module>\u001b[0;34m\u001b[0m\n\u001b[0;32m----> 1\u001b[0;31m \u001b[0mprint\u001b[0m\u001b[0;34m(\u001b[0m\u001b[0mjson\u001b[0m\u001b[0;34m.\u001b[0m\u001b[0mdumps\u001b[0m\u001b[0;34m(\u001b[0m\u001b[0mresponse\u001b[0m\u001b[0;34m,\u001b[0m \u001b[0mindent\u001b[0m\u001b[0;34m=\u001b[0m\u001b[0;36m4\u001b[0m\u001b[0;34m,\u001b[0m \u001b[0msort_keys\u001b[0m\u001b[0;34m=\u001b[0m\u001b[0;32mTrue\u001b[0m\u001b[0;34m)\u001b[0m\u001b[0;34m)\u001b[0m\u001b[0;34m\u001b[0m\u001b[0;34m\u001b[0m\u001b[0m\n\u001b[0m",
      "\u001b[0;32m~/opt/anaconda3/envs/dev/lib/python3.7/json/__init__.py\u001b[0m in \u001b[0;36mdumps\u001b[0;34m(obj, skipkeys, ensure_ascii, check_circular, allow_nan, cls, indent, separators, default, sort_keys, **kw)\u001b[0m\n\u001b[1;32m    236\u001b[0m         \u001b[0mcheck_circular\u001b[0m\u001b[0;34m=\u001b[0m\u001b[0mcheck_circular\u001b[0m\u001b[0;34m,\u001b[0m \u001b[0mallow_nan\u001b[0m\u001b[0;34m=\u001b[0m\u001b[0mallow_nan\u001b[0m\u001b[0;34m,\u001b[0m \u001b[0mindent\u001b[0m\u001b[0;34m=\u001b[0m\u001b[0mindent\u001b[0m\u001b[0;34m,\u001b[0m\u001b[0;34m\u001b[0m\u001b[0;34m\u001b[0m\u001b[0m\n\u001b[1;32m    237\u001b[0m         \u001b[0mseparators\u001b[0m\u001b[0;34m=\u001b[0m\u001b[0mseparators\u001b[0m\u001b[0;34m,\u001b[0m \u001b[0mdefault\u001b[0m\u001b[0;34m=\u001b[0m\u001b[0mdefault\u001b[0m\u001b[0;34m,\u001b[0m \u001b[0msort_keys\u001b[0m\u001b[0;34m=\u001b[0m\u001b[0msort_keys\u001b[0m\u001b[0;34m,\u001b[0m\u001b[0;34m\u001b[0m\u001b[0;34m\u001b[0m\u001b[0m\n\u001b[0;32m--> 238\u001b[0;31m         **kw).encode(obj)\n\u001b[0m\u001b[1;32m    239\u001b[0m \u001b[0;34m\u001b[0m\u001b[0m\n\u001b[1;32m    240\u001b[0m \u001b[0;34m\u001b[0m\u001b[0m\n",
      "\u001b[0;32m~/opt/anaconda3/envs/dev/lib/python3.7/json/encoder.py\u001b[0m in \u001b[0;36mencode\u001b[0;34m(self, o)\u001b[0m\n\u001b[1;32m    199\u001b[0m         \u001b[0mchunks\u001b[0m \u001b[0;34m=\u001b[0m \u001b[0mself\u001b[0m\u001b[0;34m.\u001b[0m\u001b[0miterencode\u001b[0m\u001b[0;34m(\u001b[0m\u001b[0mo\u001b[0m\u001b[0;34m,\u001b[0m \u001b[0m_one_shot\u001b[0m\u001b[0;34m=\u001b[0m\u001b[0;32mTrue\u001b[0m\u001b[0;34m)\u001b[0m\u001b[0;34m\u001b[0m\u001b[0;34m\u001b[0m\u001b[0m\n\u001b[1;32m    200\u001b[0m         \u001b[0;32mif\u001b[0m \u001b[0;32mnot\u001b[0m \u001b[0misinstance\u001b[0m\u001b[0;34m(\u001b[0m\u001b[0mchunks\u001b[0m\u001b[0;34m,\u001b[0m \u001b[0;34m(\u001b[0m\u001b[0mlist\u001b[0m\u001b[0;34m,\u001b[0m \u001b[0mtuple\u001b[0m\u001b[0;34m)\u001b[0m\u001b[0;34m)\u001b[0m\u001b[0;34m:\u001b[0m\u001b[0;34m\u001b[0m\u001b[0;34m\u001b[0m\u001b[0m\n\u001b[0;32m--> 201\u001b[0;31m             \u001b[0mchunks\u001b[0m \u001b[0;34m=\u001b[0m \u001b[0mlist\u001b[0m\u001b[0;34m(\u001b[0m\u001b[0mchunks\u001b[0m\u001b[0;34m)\u001b[0m\u001b[0;34m\u001b[0m\u001b[0;34m\u001b[0m\u001b[0m\n\u001b[0m\u001b[1;32m    202\u001b[0m         \u001b[0;32mreturn\u001b[0m \u001b[0;34m''\u001b[0m\u001b[0;34m.\u001b[0m\u001b[0mjoin\u001b[0m\u001b[0;34m(\u001b[0m\u001b[0mchunks\u001b[0m\u001b[0;34m)\u001b[0m\u001b[0;34m\u001b[0m\u001b[0;34m\u001b[0m\u001b[0m\n\u001b[1;32m    203\u001b[0m \u001b[0;34m\u001b[0m\u001b[0m\n",
      "\u001b[0;32m~/opt/anaconda3/envs/dev/lib/python3.7/json/encoder.py\u001b[0m in \u001b[0;36m_iterencode\u001b[0;34m(o, _current_indent_level)\u001b[0m\n\u001b[1;32m    436\u001b[0m                     \u001b[0;32mraise\u001b[0m \u001b[0mValueError\u001b[0m\u001b[0;34m(\u001b[0m\u001b[0;34m\"Circular reference detected\"\u001b[0m\u001b[0;34m)\u001b[0m\u001b[0;34m\u001b[0m\u001b[0;34m\u001b[0m\u001b[0m\n\u001b[1;32m    437\u001b[0m                 \u001b[0mmarkers\u001b[0m\u001b[0;34m[\u001b[0m\u001b[0mmarkerid\u001b[0m\u001b[0;34m]\u001b[0m \u001b[0;34m=\u001b[0m \u001b[0mo\u001b[0m\u001b[0;34m\u001b[0m\u001b[0;34m\u001b[0m\u001b[0m\n\u001b[0;32m--> 438\u001b[0;31m             \u001b[0mo\u001b[0m \u001b[0;34m=\u001b[0m \u001b[0m_default\u001b[0m\u001b[0;34m(\u001b[0m\u001b[0mo\u001b[0m\u001b[0;34m)\u001b[0m\u001b[0;34m\u001b[0m\u001b[0;34m\u001b[0m\u001b[0m\n\u001b[0m\u001b[1;32m    439\u001b[0m             \u001b[0;32myield\u001b[0m \u001b[0;32mfrom\u001b[0m \u001b[0m_iterencode\u001b[0m\u001b[0;34m(\u001b[0m\u001b[0mo\u001b[0m\u001b[0;34m,\u001b[0m \u001b[0m_current_indent_level\u001b[0m\u001b[0;34m)\u001b[0m\u001b[0;34m\u001b[0m\u001b[0;34m\u001b[0m\u001b[0m\n\u001b[1;32m    440\u001b[0m             \u001b[0;32mif\u001b[0m \u001b[0mmarkers\u001b[0m \u001b[0;32mis\u001b[0m \u001b[0;32mnot\u001b[0m \u001b[0;32mNone\u001b[0m\u001b[0;34m:\u001b[0m\u001b[0;34m\u001b[0m\u001b[0;34m\u001b[0m\u001b[0m\n",
      "\u001b[0;32m~/opt/anaconda3/envs/dev/lib/python3.7/json/encoder.py\u001b[0m in \u001b[0;36mdefault\u001b[0;34m(self, o)\u001b[0m\n\u001b[1;32m    177\u001b[0m \u001b[0;34m\u001b[0m\u001b[0m\n\u001b[1;32m    178\u001b[0m         \"\"\"\n\u001b[0;32m--> 179\u001b[0;31m         raise TypeError(f'Object of type {o.__class__.__name__} '\n\u001b[0m\u001b[1;32m    180\u001b[0m                         f'is not JSON serializable')\n\u001b[1;32m    181\u001b[0m \u001b[0;34m\u001b[0m\u001b[0m\n",
      "\u001b[0;31mTypeError\u001b[0m: Object of type Response is not JSON serializable"
     ]
    }
   ],
   "source": [
    "print(json.dumps(response, indent=4, sort_keys=True))"
   ]
  },
  {
   "cell_type": "code",
   "execution_count": null,
   "id": "b574eb20-df8f-40d1-a667-d353d288ed49",
   "metadata": {},
   "outputs": [],
   "source": [
    "try:\n",
    "    response = session.get(url, params=parameters)\n",
    "    Nate = json.loads(response.text)\n",
    "    print(Nate)\n",
    "except (ConnectionError, Timeout, TooManyRedirects) as e:\n",
    "    print(e)"
   ]
  },
  {
   "cell_type": "code",
   "execution_count": null,
   "id": "c2d8c013-59ad-4ce7-ae65-7ae222f23a00",
   "metadata": {},
   "outputs": [],
   "source": [
    "symbolstr=','.join(('BTC,ETH,BNB,XRP,USDT,ADA,DOT,UNI,LTC,LINK,XLM,BCH', \n",
    "        'THETA,FIL,USDC,TRX,DOGE,WBTC,VET,SOL,KLAY,EOS,XMR,LUNA', \n",
    "        'MIOTA,BTT,CRO,BUSD,FTT,AAVE,BSV,XTZ,ATOM,NEO,AVAX,ALGO', \n",
    "        'CAKE,HT,EGLD,XEM,KSM,BTCB,DAI,HOT,CHZ,DASH,HBAR,RUNE,MKR,ZEC',\n",
    "        'ENJ,DCR,MKR,ETC,GRT,COMP,STX,NEAR,SNX,ZIL,BAT,LEO,SUSHI', \n",
    "        'MATIC,BTG,NEXO,TFUEL,ZRX,UST,CEL,MANA,YFI,UMA,WAVES,RVN',\n",
    "        'ONT,ICX,QTUM,ONE,KCS,OMG,FLOW,OKB,BNT,HNT,SC,DGB,RSR,DENT',\n",
    "        'ANKR,REV,NPXS,VGX,FTM,CHSB,REN,IOST,BTMX,CELO,PAX,CFX'))\n"
   ]
  },
  {
   "cell_type": "code",
   "execution_count": null,
   "id": "01bc24d7-b428-4342-93a6-896155fcf0d4",
   "metadata": {},
   "outputs": [],
   "source": [
    "Nate"
   ]
  },
  {
   "cell_type": "code",
   "execution_count": null,
   "id": "b7bfa9c1-bd09-41c1-88f8-799b2efe2277",
   "metadata": {},
   "outputs": [],
   "source": [
    "data['status'].keys()"
   ]
  },
  {
   "cell_type": "code",
   "execution_count": null,
   "id": "23c8905e-da6d-44a7-b4d6-9fb54f740ceb",
   "metadata": {},
   "outputs": [],
   "source": [
    "data['status']['timestamp']"
   ]
  },
  {
   "cell_type": "code",
   "execution_count": null,
   "id": "225f139e-9f54-4b7e-9608-a8a75d7c6533",
   "metadata": {},
   "outputs": [],
   "source": [
    "data.keys()"
   ]
  },
  {
   "cell_type": "code",
   "execution_count": null,
   "id": "4ee3c561-addc-409d-95d9-0cf5fc0aeb23",
   "metadata": {},
   "outputs": [],
   "source": [
    "CoinDF"
   ]
  },
  {
   "cell_type": "code",
   "execution_count": null,
   "id": "e21b59f5-f126-4682-bd3a-fe956ae2ae8c",
   "metadata": {},
   "outputs": [],
   "source": []
  }
 ],
 "metadata": {
  "kernelspec": {
   "display_name": "Python 3.7.10 64-bit ('dev': conda)",
   "language": "python",
   "name": "python3710jvsc74a57bd0e8921efeb3ecacfb7b11f420178d83f46d0ce73a066aba2d3365a3a8667101bc"
  },
  "language_info": {
   "codemirror_mode": {
    "name": "ipython",
    "version": 3
   },
   "file_extension": ".py",
   "mimetype": "text/x-python",
   "name": "python",
   "nbconvert_exporter": "python",
   "pygments_lexer": "ipython3",
   "version": "3.7.10"
  }
 },
 "nbformat": 4,
 "nbformat_minor": 5
}
