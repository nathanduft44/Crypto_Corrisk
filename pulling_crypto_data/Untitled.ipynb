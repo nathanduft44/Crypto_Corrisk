{
 "cells": [
  {
   "cell_type": "code",
   "execution_count": 13,
   "id": "ccbfc52e-2753-4fc2-b0f4-4f3b6649b8db",
   "metadata": {},
   "outputs": [
    {
     "name": "stdout",
     "output_type": "stream",
     "text": [
      "Collecting pycoingecko\n",
      "  Downloading pycoingecko-2.2.0-py3-none-any.whl (8.3 kB)\n",
      "Requirement already satisfied: requests in /Users/nathanduft/opt/anaconda3/lib/python3.8/site-packages (from pycoingecko) (2.25.1)\n",
      "Requirement already satisfied: idna<3,>=2.5 in /Users/nathanduft/opt/anaconda3/lib/python3.8/site-packages (from requests->pycoingecko) (2.10)\n",
      "Requirement already satisfied: urllib3<1.27,>=1.21.1 in /Users/nathanduft/opt/anaconda3/lib/python3.8/site-packages (from requests->pycoingecko) (1.26.4)\n",
      "Requirement already satisfied: chardet<5,>=3.0.2 in /Users/nathanduft/opt/anaconda3/lib/python3.8/site-packages (from requests->pycoingecko) (4.0.0)\n",
      "Requirement already satisfied: certifi>=2017.4.17 in /Users/nathanduft/opt/anaconda3/lib/python3.8/site-packages (from requests->pycoingecko) (2020.12.5)\n",
      "Installing collected packages: pycoingecko\n",
      "Successfully installed pycoingecko-2.2.0\n",
      "Note: you may need to restart the kernel to use updated packages.\n"
     ]
    }
   ],
   "source": [
    "pip install pycoingecko"
   ]
  },
  {
   "cell_type": "code",
   "execution_count": 14,
   "id": "07f1a5b2-22d1-412a-9543-7791ea27e8aa",
   "metadata": {},
   "outputs": [],
   "source": [
    "from pycoingecko import CoinGeckoAPI\n",
    "cg = CoinGeckoAPI()\n",
    "cg.get_coins_list()"
   ]
  },
  {
   "cell_type": "code",
   "execution_count": 15,
   "id": "c4266be3-84ed-4d92-958b-df44fe4747f0",
   "metadata": {},
   "outputs": [
    {
     "data": {
      "text/plain": [
       "{'bitcoin': {'usd': 3458.74,\n",
       "  'usd_market_cap': 60574330199.29028,\n",
       "  'usd_24h_vol': 4182664683.6247883,\n",
       "  'usd_24h_change': 1.2295378479069035,\n",
       "  'last_updated_at': 1549071865}}"
      ]
     },
     "execution_count": 15,
     "metadata": {},
     "output_type": "execute_result"
    }
   ],
   "source": [
    "# /simple/price endpoint with the required parameters\n",
    ">>> cg.get_price(ids='bitcoin', vs_currencies='usd')\n",
    "{'bitcoin': {'usd': 3462.04}}\n",
    "\n",
    ">>> cg.get_price(ids='bitcoin,litecoin,ethereum', vs_currencies='usd')\n",
    "# OR (lists can be used for multiple-valued arguments)\n",
    ">>> cg.get_price(ids=['bitcoin', 'litecoin', 'ethereum'], vs_currencies='usd')\n",
    "{'bitcoin': {'usd': 3461.27}, 'ethereum': {'usd': 106.92}, 'litecoin': {'usd': 32.72}}\n",
    "\n",
    ">>> cg.get_price(ids='bitcoin,litecoin,ethereum', vs_currencies='usd,eur')\n",
    "# OR (lists can be used for multiple-valued arguments)\n",
    ">>> cg.get_price(ids=['bitcoin', 'litecoin', 'ethereum'], vs_currencies=['usd', 'eur'])\n",
    "{'bitcoin': {'usd': 3459.39, 'eur': 3019.33}, 'ethereum': {'usd': 106.91, 'eur': 93.31}, 'litecoin': {'usd': 32.72, 'eur': 28.56}}\n",
    "\n",
    "# optional parameters can be passed as defined in the API doc (https://www.coingecko.com/api/docs/v3)\n",
    ">>> cg.get_price(ids='bitcoin', vs_currencies='usd', include_market_cap='true', include_24hr_vol='true', include_24hr_change='true', include_last_updated_at='true')\n",
    "{'bitcoin': {'usd': 3458.74, 'usd_market_cap': 60574330199.29028, 'usd_24h_vol': 4182664683.6247883, 'usd_24h_change': 1.2295378479069035, 'last_updated_at': 1549071865}}\n",
    "# OR (also booleans can be used for boolean type arguments)\n",
    ">>> cg.get_price(ids='bitcoin', vs_currencies='usd', include_market_cap=True, include_24hr_vol=True, include_24hr_change=True, include_last_updated_at=True)\n",
    "{'bitcoin': {'usd': 3458.74, 'usd_market_cap': 60574330199.29028, 'usd_24h_vol': 4182664683.6247883, 'usd_24h_change': 1.2295378479069035, 'last_updated_at': 1549071865}}"
   ]
  },
  {
   "cell_type": "code",
   "execution_count": 20,
   "id": "808ec79b-533b-4954-8e7f-a3bb7780c320",
   "metadata": {},
   "outputs": [
    {
     "data": {
      "text/plain": [
       "{'gecko_says': '(V3) To the Moon!'}"
      ]
     },
     "execution_count": 20,
     "metadata": {},
     "output_type": "execute_result"
    }
   ],
   "source": [
    "cg.ping()"
   ]
  },
  {
   "cell_type": "code",
   "execution_count": 23,
   "id": "39b4a632-5890-4aef-80ed-b3eab4e3b56d",
   "metadata": {},
   "outputs": [
    {
     "data": {
      "text/plain": [
       "{'solana': {'usd': 40.02},\n",
       " 'cardano': {'usd': 1.47},\n",
       " 'ethereum': {'usd': 3125.84}}"
      ]
     },
     "execution_count": 23,
     "metadata": {},
     "output_type": "execute_result"
    }
   ],
   "source": [
    "cg.get_price(ids='cardano,solana,ethereum, vs_currencies', vs_currencies='usd')"
   ]
  },
  {
   "cell_type": "code",
   "execution_count": 28,
   "id": "c7a81ef6-0d99-4515-9afe-16e978710905",
   "metadata": {},
   "outputs": [
    {
     "data": {
      "text/plain": [
       "{'bitcoin': {'usd': 45798},\n",
       " 'peercoin': {'usd': 1.01},\n",
       " 'litecoin': {'usd': 163.21},\n",
       " 'ripple': {'usd': 0.809808},\n",
       " 'novacoin': {'usd': 3.36},\n",
       " 'feathercoin': {'usd': 0.02346129},\n",
       " 'primecoin': {'usd': 0.157619},\n",
       " 'infinitecoin': {'usd': 0.00024351},\n",
       " 'terracoin': {'usd': 0.02852579},\n",
       " 'namecoin': {'usd': 1.44}}"
      ]
     },
     "execution_count": 28,
     "metadata": {},
     "output_type": "execute_result"
    }
   ],
   "source": [
    "# Historical dictionary of top 10 coins in 01 September 2013\n",
    "cg.get_price(ids=['bitcoin','litecoin','Ripple', 'Namecoin', 'Peercoin','Feathercoin','Novacoin','Primecoin', 'Terracoin','Infinitecoin'], vs_currencies='usd')"
   ]
  },
  {
   "cell_type": "code",
   "execution_count": 29,
   "id": "13b30a08-76fc-4001-93fe-d306b92872db",
   "metadata": {},
   "outputs": [
    {
     "data": {
      "text/plain": [
       "{'defi_market_cap': '104130573943.7582812764070723888',\n",
       " 'eth_market_cap': '365465605845.1297091431905553409',\n",
       " 'defi_to_eth_ratio': '28.492578310607105440901188205902299212752003570158539472251667',\n",
       " 'trading_volume_24h': '7434965177.08317504842918653953',\n",
       " 'defi_dominance': '5.4361706726796919764222396481501066891933875817804025041292212',\n",
       " 'top_coin_name': 'Uniswap',\n",
       " 'top_coin_defi_dominance': 14.40274410458133}"
      ]
     },
     "execution_count": 29,
     "metadata": {},
     "output_type": "execute_result"
    }
   ],
   "source": [
    "# Defi \n",
    "cg.get_global_decentralized_finance_defi()"
   ]
  },
  {
   "cell_type": "code",
   "execution_count": 35,
   "id": "6387f1cd-a729-4ab6-8910-9f19e5103ee2",
   "metadata": {},
   "outputs": [
    {
     "data": {
      "text/plain": [
       "{'avalanche': {'usd': 3.64},\n",
       " 'ethereum': {'usd': 3120.06},\n",
       " 'binancecoin': {'usd': 352.34},\n",
       " 'cardano': {'usd': 1.47},\n",
       " 'polkadot': {'usd': 20.47},\n",
       " 'solana': {'usd': 39.88}}"
      ]
     },
     "execution_count": 35,
     "metadata": {},
     "output_type": "execute_result"
    }
   ],
   "source": [
    "# ETH and its competitors\n",
    "cg.get_price(ids=['ethereum,cardano,solana,ethereum,avalanche, polkadot,binance coin, '],vs_currencies='usd')"
   ]
  },
  {
   "cell_type": "code",
   "execution_count": 40,
   "id": "4fc6f1c1-bcfe-44b1-beb2-fad987a24fd5",
   "metadata": {},
   "outputs": [],
   "source": [
    "coins = ['bitcoin,'ethereum','tether']"
   ]
  },
  {
   "cell_type": "code",
   "execution_count": 39,
   "id": "36428247-a823-4372-99a8-e7ab2c5c8d2e",
   "metadata": {},
   "outputs": [],
   "source": [
    "df_coins = pd.DataFrame(coins, columns=['name'])"
   ]
  },
  {
   "cell_type": "code",
   "execution_count": null,
   "id": "dd5b0876-ac02-4cdb-8434-b419997e18d7",
   "metadata": {},
   "outputs": [],
   "source": []
  }
 ],
 "metadata": {
  "kernelspec": {
   "display_name": "Python 3",
   "language": "python",
   "name": "python3"
  },
  "language_info": {
   "codemirror_mode": {
    "name": "ipython",
    "version": 3
   },
   "file_extension": ".py",
   "mimetype": "text/x-python",
   "name": "python",
   "nbconvert_exporter": "python",
   "pygments_lexer": "ipython3",
   "version": "3.8.8"
  }
 },
 "nbformat": 4,
 "nbformat_minor": 5
}
