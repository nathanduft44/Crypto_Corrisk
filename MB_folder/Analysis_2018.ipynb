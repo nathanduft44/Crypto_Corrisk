{
 "cells": [
  {
   "cell_type": "code",
   "execution_count": 1,
   "id": "dce008b6",
   "metadata": {},
   "outputs": [
    {
     "data": {
      "text/plain": [
       "'\\nFor now, we keep it simple. If we need to expand, we can. \\nWe are taking what we need to in order to understand how each basket of currencies \\nis correlated to the market proxy (bitcoin)\\n'"
      ]
     },
     "execution_count": 1,
     "metadata": {},
     "output_type": "execute_result"
    }
   ],
   "source": [
    "# GOAL: HAVE EACH ANALYSIS SECTION COMPUTE A STANDARD SET OF CALCULATIONS FOR RISK METRICS AND CORRELATION\n",
    "\n",
    "\"\"\"\n",
    "For now, we keep it simple. If we need to expand, we can. \n",
    "We are taking what we need to in order to understand how each basket of currencies \n",
    "is correlated to the market proxy (bitcoin)\n",
    "\"\"\""
   ]
  },
  {
   "cell_type": "code",
   "execution_count": 2,
   "id": "4e01ad41",
   "metadata": {},
   "outputs": [],
   "source": [
    "# STEP 1: IMPORT DEPENDENCIES\n",
    "#For basic calculations:\n",
    "import pandas as pd\n",
    "import numpy as np\n",
    "import csv\n",
    "from pathlib import Path\n",
    "\n",
    "#For Heatmap:\n",
    "import seaborn as sns\n",
    "%matplotlib inline"
   ]
  },
  {
   "cell_type": "code",
   "execution_count": 3,
   "id": "4cb76893",
   "metadata": {},
   "outputs": [],
   "source": [
    "# STEP 2: IMPORT DATA AS DATAFRAME\n",
    "\"\"\"\n",
    "Determnine if we are reading csv data, running individual api calls, or querying an in-house database\n",
    "\"\"\"\n",
    "#reading in csv data\n",
    "df_2018 = pd.read_csv(\n",
    "    Path('2018_data.csv'),\n",
    ")"
   ]
  },
  {
   "cell_type": "code",
   "execution_count": 4,
   "id": "40ab143d",
   "metadata": {},
   "outputs": [
    {
     "data": {
      "text/html": [
       "<div>\n",
       "<style scoped>\n",
       "    .dataframe tbody tr th:only-of-type {\n",
       "        vertical-align: middle;\n",
       "    }\n",
       "\n",
       "    .dataframe tbody tr th {\n",
       "        vertical-align: top;\n",
       "    }\n",
       "\n",
       "    .dataframe thead th {\n",
       "        text-align: right;\n",
       "    }\n",
       "</style>\n",
       "<table border=\"1\" class=\"dataframe\">\n",
       "  <thead>\n",
       "    <tr style=\"text-align: right;\">\n",
       "      <th></th>\n",
       "      <th>Unnamed: 0</th>\n",
       "      <th>price_open</th>\n",
       "      <th>price_close</th>\n",
       "      <th>volume_traded</th>\n",
       "      <th>price_open.1</th>\n",
       "      <th>price_close.1</th>\n",
       "      <th>volume_traded.1</th>\n",
       "      <th>price_open.2</th>\n",
       "      <th>price_close.2</th>\n",
       "      <th>volume_traded.2</th>\n",
       "      <th>...</th>\n",
       "      <th>volume_traded.5</th>\n",
       "      <th>price_open.6</th>\n",
       "      <th>price_close.6</th>\n",
       "      <th>volume_traded.6</th>\n",
       "      <th>price_open.7</th>\n",
       "      <th>price_close.7</th>\n",
       "      <th>volume_traded.7</th>\n",
       "      <th>price_open.8</th>\n",
       "      <th>price_close.8</th>\n",
       "      <th>volume_traded.8</th>\n",
       "    </tr>\n",
       "  </thead>\n",
       "  <tbody>\n",
       "    <tr>\n",
       "      <th>count</th>\n",
       "      <td>12.000000</td>\n",
       "      <td>12.000000</td>\n",
       "      <td>12.000000</td>\n",
       "      <td>12.000000</td>\n",
       "      <td>12.00000</td>\n",
       "      <td>12.000000</td>\n",
       "      <td>1.200000e+01</td>\n",
       "      <td>12.0000</td>\n",
       "      <td>12.000000</td>\n",
       "      <td>1.200000e+01</td>\n",
       "      <td>...</td>\n",
       "      <td>1.200000e+01</td>\n",
       "      <td>12.000000</td>\n",
       "      <td>12.000000</td>\n",
       "      <td>12.000000</td>\n",
       "      <td>12.000000</td>\n",
       "      <td>12.000000</td>\n",
       "      <td>12.000000</td>\n",
       "      <td>4.000000</td>\n",
       "      <td>4.000000</td>\n",
       "      <td>4.000000e+00</td>\n",
       "    </tr>\n",
       "    <tr>\n",
       "      <th>mean</th>\n",
       "      <td>5.500000</td>\n",
       "      <td>8003.775000</td>\n",
       "      <td>7146.175000</td>\n",
       "      <td>197638.688179</td>\n",
       "      <td>503.97000</td>\n",
       "      <td>452.714167</td>\n",
       "      <td>2.191600e+06</td>\n",
       "      <td>111.7625</td>\n",
       "      <td>95.025833</td>\n",
       "      <td>5.757668e+05</td>\n",
       "      <td>...</td>\n",
       "      <td>3.349103e+08</td>\n",
       "      <td>234.675833</td>\n",
       "      <td>199.300000</td>\n",
       "      <td>69306.733373</td>\n",
       "      <td>371.898500</td>\n",
       "      <td>292.644750</td>\n",
       "      <td>50265.102545</td>\n",
       "      <td>0.123444</td>\n",
       "      <td>0.058636</td>\n",
       "      <td>8.848272e+07</td>\n",
       "    </tr>\n",
       "    <tr>\n",
       "      <th>std</th>\n",
       "      <td>3.605551</td>\n",
       "      <td>2578.202017</td>\n",
       "      <td>2072.802689</td>\n",
       "      <td>100047.827686</td>\n",
       "      <td>295.99537</td>\n",
       "      <td>303.593291</td>\n",
       "      <td>1.278655e+06</td>\n",
       "      <td>62.8595</td>\n",
       "      <td>54.611350</td>\n",
       "      <td>3.428206e+05</td>\n",
       "      <td>...</td>\n",
       "      <td>1.972352e+08</td>\n",
       "      <td>125.287163</td>\n",
       "      <td>108.777121</td>\n",
       "      <td>32372.876610</td>\n",
       "      <td>274.150662</td>\n",
       "      <td>193.198831</td>\n",
       "      <td>24559.342212</td>\n",
       "      <td>0.119302</td>\n",
       "      <td>0.022866</td>\n",
       "      <td>6.821139e+07</td>\n",
       "    </tr>\n",
       "    <tr>\n",
       "      <th>min</th>\n",
       "      <td>0.000000</td>\n",
       "      <td>3969.400000</td>\n",
       "      <td>3691.900000</td>\n",
       "      <td>80038.919050</td>\n",
       "      <td>111.81000</td>\n",
       "      <td>111.640000</td>\n",
       "      <td>1.095661e+06</td>\n",
       "      <td>31.6200</td>\n",
       "      <td>29.770000</td>\n",
       "      <td>2.451401e+05</td>\n",
       "      <td>...</td>\n",
       "      <td>1.162611e+08</td>\n",
       "      <td>80.250000</td>\n",
       "      <td>55.020000</td>\n",
       "      <td>27875.666940</td>\n",
       "      <td>90.703000</td>\n",
       "      <td>77.073000</td>\n",
       "      <td>21546.518090</td>\n",
       "      <td>0.038637</td>\n",
       "      <td>0.038600</td>\n",
       "      <td>7.543098e+06</td>\n",
       "    </tr>\n",
       "    <tr>\n",
       "      <th>25%</th>\n",
       "      <td>2.750000</td>\n",
       "      <td>6549.600000</td>\n",
       "      <td>6367.800000</td>\n",
       "      <td>123154.472875</td>\n",
       "      <td>269.18250</td>\n",
       "      <td>223.190000</td>\n",
       "      <td>1.436023e+06</td>\n",
       "      <td>61.8100</td>\n",
       "      <td>58.075000</td>\n",
       "      <td>3.182792e+05</td>\n",
       "      <td>...</td>\n",
       "      <td>1.959945e+08</td>\n",
       "      <td>145.017500</td>\n",
       "      <td>126.192500</td>\n",
       "      <td>48864.819033</td>\n",
       "      <td>192.925500</td>\n",
       "      <td>177.782250</td>\n",
       "      <td>35547.098832</td>\n",
       "      <td>0.061888</td>\n",
       "      <td>0.040175</td>\n",
       "      <td>4.667833e+07</td>\n",
       "    </tr>\n",
       "    <tr>\n",
       "      <th>50%</th>\n",
       "      <td>5.500000</td>\n",
       "      <td>7252.850000</td>\n",
       "      <td>6963.450000</td>\n",
       "      <td>148693.689550</td>\n",
       "      <td>442.38000</td>\n",
       "      <td>412.035000</td>\n",
       "      <td>1.723169e+06</td>\n",
       "      <td>98.6050</td>\n",
       "      <td>79.905000</td>\n",
       "      <td>4.968564e+05</td>\n",
       "      <td>...</td>\n",
       "      <td>3.170520e+08</td>\n",
       "      <td>196.070000</td>\n",
       "      <td>177.400000</td>\n",
       "      <td>58343.475440</td>\n",
       "      <td>271.854500</td>\n",
       "      <td>228.300000</td>\n",
       "      <td>47269.879660</td>\n",
       "      <td>0.077569</td>\n",
       "      <td>0.055216</td>\n",
       "      <td>9.313785e+07</td>\n",
       "    </tr>\n",
       "    <tr>\n",
       "      <th>75%</th>\n",
       "      <td>8.250000</td>\n",
       "      <td>9461.250000</td>\n",
       "      <td>8105.300000</td>\n",
       "      <td>258272.417250</td>\n",
       "      <td>688.69500</td>\n",
       "      <td>600.547500</td>\n",
       "      <td>2.212861e+06</td>\n",
       "      <td>151.8900</td>\n",
       "      <td>125.730000</td>\n",
       "      <td>7.958817e+05</td>\n",
       "      <td>...</td>\n",
       "      <td>3.934784e+08</td>\n",
       "      <td>308.315000</td>\n",
       "      <td>250.675000</td>\n",
       "      <td>89149.688080</td>\n",
       "      <td>500.106250</td>\n",
       "      <td>346.664250</td>\n",
       "      <td>61460.019500</td>\n",
       "      <td>0.139125</td>\n",
       "      <td>0.073676</td>\n",
       "      <td>1.349422e+08</td>\n",
       "    </tr>\n",
       "    <tr>\n",
       "      <th>max</th>\n",
       "      <td>11.000000</td>\n",
       "      <td>13971.100000</td>\n",
       "      <td>10310.000000</td>\n",
       "      <td>364738.920100</td>\n",
       "      <td>1105.30000</td>\n",
       "      <td>1105.300000</td>\n",
       "      <td>5.550937e+06</td>\n",
       "      <td>230.3200</td>\n",
       "      <td>201.840000</td>\n",
       "      <td>1.374386e+06</td>\n",
       "      <td>...</td>\n",
       "      <td>7.654455e+08</td>\n",
       "      <td>479.760000</td>\n",
       "      <td>393.930000</td>\n",
       "      <td>142754.996200</td>\n",
       "      <td>1027.191000</td>\n",
       "      <td>689.500000</td>\n",
       "      <td>112577.020200</td>\n",
       "      <td>0.300000</td>\n",
       "      <td>0.085512</td>\n",
       "      <td>1.601121e+08</td>\n",
       "    </tr>\n",
       "  </tbody>\n",
       "</table>\n",
       "<p>8 rows × 28 columns</p>\n",
       "</div>"
      ],
      "text/plain": [
       "       Unnamed: 0    price_open   price_close  volume_traded  price_open.1  \\\n",
       "count   12.000000     12.000000     12.000000      12.000000      12.00000   \n",
       "mean     5.500000   8003.775000   7146.175000  197638.688179     503.97000   \n",
       "std      3.605551   2578.202017   2072.802689  100047.827686     295.99537   \n",
       "min      0.000000   3969.400000   3691.900000   80038.919050     111.81000   \n",
       "25%      2.750000   6549.600000   6367.800000  123154.472875     269.18250   \n",
       "50%      5.500000   7252.850000   6963.450000  148693.689550     442.38000   \n",
       "75%      8.250000   9461.250000   8105.300000  258272.417250     688.69500   \n",
       "max     11.000000  13971.100000  10310.000000  364738.920100    1105.30000   \n",
       "\n",
       "       price_close.1  volume_traded.1  price_open.2  price_close.2  \\\n",
       "count      12.000000     1.200000e+01       12.0000      12.000000   \n",
       "mean      452.714167     2.191600e+06      111.7625      95.025833   \n",
       "std       303.593291     1.278655e+06       62.8595      54.611350   \n",
       "min       111.640000     1.095661e+06       31.6200      29.770000   \n",
       "25%       223.190000     1.436023e+06       61.8100      58.075000   \n",
       "50%       412.035000     1.723169e+06       98.6050      79.905000   \n",
       "75%       600.547500     2.212861e+06      151.8900     125.730000   \n",
       "max      1105.300000     5.550937e+06      230.3200     201.840000   \n",
       "\n",
       "       volume_traded.2  ...  volume_traded.5  price_open.6  price_close.6  \\\n",
       "count     1.200000e+01  ...     1.200000e+01     12.000000      12.000000   \n",
       "mean      5.757668e+05  ...     3.349103e+08    234.675833     199.300000   \n",
       "std       3.428206e+05  ...     1.972352e+08    125.287163     108.777121   \n",
       "min       2.451401e+05  ...     1.162611e+08     80.250000      55.020000   \n",
       "25%       3.182792e+05  ...     1.959945e+08    145.017500     126.192500   \n",
       "50%       4.968564e+05  ...     3.170520e+08    196.070000     177.400000   \n",
       "75%       7.958817e+05  ...     3.934784e+08    308.315000     250.675000   \n",
       "max       1.374386e+06  ...     7.654455e+08    479.760000     393.930000   \n",
       "\n",
       "       volume_traded.6  price_open.7  price_close.7  volume_traded.7  \\\n",
       "count        12.000000     12.000000      12.000000        12.000000   \n",
       "mean      69306.733373    371.898500     292.644750     50265.102545   \n",
       "std       32372.876610    274.150662     193.198831     24559.342212   \n",
       "min       27875.666940     90.703000      77.073000     21546.518090   \n",
       "25%       48864.819033    192.925500     177.782250     35547.098832   \n",
       "50%       58343.475440    271.854500     228.300000     47269.879660   \n",
       "75%       89149.688080    500.106250     346.664250     61460.019500   \n",
       "max      142754.996200   1027.191000     689.500000    112577.020200   \n",
       "\n",
       "       price_open.8  price_close.8  volume_traded.8  \n",
       "count      4.000000       4.000000     4.000000e+00  \n",
       "mean       0.123444       0.058636     8.848272e+07  \n",
       "std        0.119302       0.022866     6.821139e+07  \n",
       "min        0.038637       0.038600     7.543098e+06  \n",
       "25%        0.061888       0.040175     4.667833e+07  \n",
       "50%        0.077569       0.055216     9.313785e+07  \n",
       "75%        0.139125       0.073676     1.349422e+08  \n",
       "max        0.300000       0.085512     1.601121e+08  \n",
       "\n",
       "[8 rows x 28 columns]"
      ]
     },
     "execution_count": 4,
     "metadata": {},
     "output_type": "execute_result"
    }
   ],
   "source": [
    "# View the dataframe\n",
    "df_2018.describe()"
   ]
  },
  {
   "cell_type": "code",
   "execution_count": 91,
   "id": "5e2f5046",
   "metadata": {},
   "outputs": [
    {
     "data": {
      "text/html": [
       "<div>\n",
       "<style scoped>\n",
       "    .dataframe tbody tr th:only-of-type {\n",
       "        vertical-align: middle;\n",
       "    }\n",
       "\n",
       "    .dataframe tbody tr th {\n",
       "        vertical-align: top;\n",
       "    }\n",
       "\n",
       "    .dataframe thead th {\n",
       "        text-align: right;\n",
       "    }\n",
       "</style>\n",
       "<table border=\"1\" class=\"dataframe\">\n",
       "  <thead>\n",
       "    <tr style=\"text-align: right;\">\n",
       "      <th></th>\n",
       "      <th>BTC_Monthly_Close</th>\n",
       "      <th>ETH_Monthly_Close</th>\n",
       "      <th>LTC_Monthly_Close</th>\n",
       "      <th>USDT_Monthly_Close</th>\n",
       "      <th>XLM_Monthly_Close</th>\n",
       "      <th>XRP_Monthly_Close</th>\n",
       "      <th>ZEC_Monthly_Close</th>\n",
       "      <th>DASH_Monthly_Close</th>\n",
       "      <th>ADA_Monthly_Close</th>\n",
       "    </tr>\n",
       "  </thead>\n",
       "  <tbody>\n",
       "    <tr>\n",
       "      <th>0</th>\n",
       "      <td>10101.6</td>\n",
       "      <td>1105.30</td>\n",
       "      <td>162.30</td>\n",
       "      <td>0.9850</td>\n",
       "      <td>0.017060</td>\n",
       "      <td>1.12020</td>\n",
       "      <td>393.93</td>\n",
       "      <td>689.500</td>\n",
       "      <td>0.085512</td>\n",
       "    </tr>\n",
       "    <tr>\n",
       "      <th>1</th>\n",
       "      <td>10310.0</td>\n",
       "      <td>850.10</td>\n",
       "      <td>201.84</td>\n",
       "      <td>0.9999</td>\n",
       "      <td>0.330001</td>\n",
       "      <td>0.88697</td>\n",
       "      <td>380.30</td>\n",
       "      <td>582.368</td>\n",
       "      <td>0.069731</td>\n",
       "    </tr>\n",
       "    <tr>\n",
       "      <th>2</th>\n",
       "      <td>6911.1</td>\n",
       "      <td>392.40</td>\n",
       "      <td>115.84</td>\n",
       "      <td>0.9972</td>\n",
       "      <td>0.203963</td>\n",
       "      <td>0.49841</td>\n",
       "      <td>184.13</td>\n",
       "      <td>303.719</td>\n",
       "      <td>0.038600</td>\n",
       "    </tr>\n",
       "    <tr>\n",
       "      <th>3</th>\n",
       "      <td>9243.2</td>\n",
       "      <td>669.57</td>\n",
       "      <td>148.38</td>\n",
       "      <td>1.0002</td>\n",
       "      <td>0.424000</td>\n",
       "      <td>0.83101</td>\n",
       "      <td>284.41</td>\n",
       "      <td>473.475</td>\n",
       "      <td>0.040700</td>\n",
       "    </tr>\n",
       "    <tr>\n",
       "      <th>4</th>\n",
       "      <td>7485.6</td>\n",
       "      <td>577.54</td>\n",
       "      <td>118.18</td>\n",
       "      <td>0.9987</td>\n",
       "      <td>0.296636</td>\n",
       "      <td>0.61108</td>\n",
       "      <td>239.43</td>\n",
       "      <td>304.394</td>\n",
       "      <td>NaN</td>\n",
       "    </tr>\n",
       "    <tr>\n",
       "      <th>5</th>\n",
       "      <td>6387.9</td>\n",
       "      <td>453.05</td>\n",
       "      <td>81.06</td>\n",
       "      <td>0.9987</td>\n",
       "      <td>0.192017</td>\n",
       "      <td>0.46871</td>\n",
       "      <td>170.67</td>\n",
       "      <td>239.024</td>\n",
       "      <td>NaN</td>\n",
       "    </tr>\n",
       "    <tr>\n",
       "      <th>6</th>\n",
       "      <td>7726.0</td>\n",
       "      <td>431.67</td>\n",
       "      <td>78.75</td>\n",
       "      <td>0.9980</td>\n",
       "      <td>0.275147</td>\n",
       "      <td>0.43454</td>\n",
       "      <td>209.23</td>\n",
       "      <td>217.576</td>\n",
       "      <td>NaN</td>\n",
       "    </tr>\n",
       "    <tr>\n",
       "      <th>7</th>\n",
       "      <td>7015.8</td>\n",
       "      <td>281.60</td>\n",
       "      <td>62.16</td>\n",
       "      <td>0.9998</td>\n",
       "      <td>0.223409</td>\n",
       "      <td>0.33500</td>\n",
       "      <td>150.01</td>\n",
       "      <td>195.100</td>\n",
       "      <td>NaN</td>\n",
       "    </tr>\n",
       "    <tr>\n",
       "      <th>8</th>\n",
       "      <td>6604.1</td>\n",
       "      <td>231.96</td>\n",
       "      <td>60.96</td>\n",
       "      <td>0.9964</td>\n",
       "      <td>0.259670</td>\n",
       "      <td>0.57920</td>\n",
       "      <td>129.87</td>\n",
       "      <td>186.310</td>\n",
       "      <td>NaN</td>\n",
       "    </tr>\n",
       "    <tr>\n",
       "      <th>9</th>\n",
       "      <td>6307.5</td>\n",
       "      <td>196.88</td>\n",
       "      <td>49.42</td>\n",
       "      <td>0.9919</td>\n",
       "      <td>0.224888</td>\n",
       "      <td>0.45000</td>\n",
       "      <td>115.16</td>\n",
       "      <td>152.199</td>\n",
       "      <td>NaN</td>\n",
       "    </tr>\n",
       "    <tr>\n",
       "      <th>10</th>\n",
       "      <td>3969.4</td>\n",
       "      <td>111.64</td>\n",
       "      <td>31.65</td>\n",
       "      <td>0.9844</td>\n",
       "      <td>0.156732</td>\n",
       "      <td>0.35869</td>\n",
       "      <td>79.44</td>\n",
       "      <td>90.999</td>\n",
       "      <td>NaN</td>\n",
       "    </tr>\n",
       "    <tr>\n",
       "      <th>11</th>\n",
       "      <td>3691.9</td>\n",
       "      <td>130.86</td>\n",
       "      <td>29.77</td>\n",
       "      <td>0.9991</td>\n",
       "      <td>0.109320</td>\n",
       "      <td>0.34785</td>\n",
       "      <td>55.02</td>\n",
       "      <td>77.073</td>\n",
       "      <td>NaN</td>\n",
       "    </tr>\n",
       "  </tbody>\n",
       "</table>\n",
       "</div>"
      ],
      "text/plain": [
       "    BTC_Monthly_Close  ETH_Monthly_Close  LTC_Monthly_Close  \\\n",
       "0             10101.6            1105.30             162.30   \n",
       "1             10310.0             850.10             201.84   \n",
       "2              6911.1             392.40             115.84   \n",
       "3              9243.2             669.57             148.38   \n",
       "4              7485.6             577.54             118.18   \n",
       "5              6387.9             453.05              81.06   \n",
       "6              7726.0             431.67              78.75   \n",
       "7              7015.8             281.60              62.16   \n",
       "8              6604.1             231.96              60.96   \n",
       "9              6307.5             196.88              49.42   \n",
       "10             3969.4             111.64              31.65   \n",
       "11             3691.9             130.86              29.77   \n",
       "\n",
       "    USDT_Monthly_Close  XLM_Monthly_Close  XRP_Monthly_Close  \\\n",
       "0               0.9850           0.017060            1.12020   \n",
       "1               0.9999           0.330001            0.88697   \n",
       "2               0.9972           0.203963            0.49841   \n",
       "3               1.0002           0.424000            0.83101   \n",
       "4               0.9987           0.296636            0.61108   \n",
       "5               0.9987           0.192017            0.46871   \n",
       "6               0.9980           0.275147            0.43454   \n",
       "7               0.9998           0.223409            0.33500   \n",
       "8               0.9964           0.259670            0.57920   \n",
       "9               0.9919           0.224888            0.45000   \n",
       "10              0.9844           0.156732            0.35869   \n",
       "11              0.9991           0.109320            0.34785   \n",
       "\n",
       "    ZEC_Monthly_Close  DASH_Monthly_Close  ADA_Monthly_Close  \n",
       "0              393.93             689.500           0.085512  \n",
       "1              380.30             582.368           0.069731  \n",
       "2              184.13             303.719           0.038600  \n",
       "3              284.41             473.475           0.040700  \n",
       "4              239.43             304.394                NaN  \n",
       "5              170.67             239.024                NaN  \n",
       "6              209.23             217.576                NaN  \n",
       "7              150.01             195.100                NaN  \n",
       "8              129.87             186.310                NaN  \n",
       "9              115.16             152.199                NaN  \n",
       "10              79.44              90.999                NaN  \n",
       "11              55.02              77.073                NaN  "
      ]
     },
     "execution_count": 91,
     "metadata": {},
     "output_type": "execute_result"
    }
   ],
   "source": [
    "# Clean the dataframe to only include the closing price\n",
    "final_2018_df = pd.DataFrame()\n",
    "final_2018_df['BTC_Monthly_Close'] = df_2018['price_close']\n",
    "final_2018_df['ETH_Monthly_Close'] = df_2018['price_close.1']\n",
    "final_2018_df['LTC_Monthly_Close'] = df_2018['price_close.2']\n",
    "final_2018_df['USDT_Monthly_Close'] = df_2018['price_close.3']\n",
    "final_2018_df['XLM_Monthly_Close'] = df_2018['price_close.4']\n",
    "final_2018_df['XRP_Monthly_Close'] = df_2018['price_close.5']\n",
    "final_2018_df['ZEC_Monthly_Close'] = df_2018['price_close.6']\n",
    "final_2018_df['DASH_Monthly_Close'] = df_2018['price_close.7']\n",
    "final_2018_df['ADA_Monthly_Close'] = df_2018['price_close.8']\n",
    "\n",
    "final_2018_df"
   ]
  },
  {
   "cell_type": "code",
   "execution_count": 48,
   "id": "5342e834",
   "metadata": {},
   "outputs": [
    {
     "data": {
      "text/plain": [
       "0     0.000000\n",
       "1     0.020630\n",
       "2    -0.329670\n",
       "3     0.337443\n",
       "4    -0.190151\n",
       "5    -0.146642\n",
       "6     0.209474\n",
       "7    -0.091923\n",
       "8    -0.058682\n",
       "9    -0.044911\n",
       "10   -0.370686\n",
       "11   -0.069910\n",
       "Name: BTC_Monthly_Close, dtype: float64"
      ]
     },
     "execution_count": 48,
     "metadata": {},
     "output_type": "execute_result"
    }
   ],
   "source": [
    "# STEP 3: CALCULATE Monthly RETURNS FOR EACH CURRENCY IN Designated Time range from  DATAFRAME, DROP NULL VALUES\n",
    "\"\"\"\n",
    "\n",
    "Will need: .pct_change().dropna(inplace = True)\n",
    "\n",
    "\"\"\"\n",
    "btc_2018_df = final_2018_df['BTC_Monthly_Close'].pct_change().fillna(0)\n",
    "btc_2018_df"
   ]
  },
  {
   "cell_type": "code",
   "execution_count": 49,
   "id": "9e083d02",
   "metadata": {},
   "outputs": [
    {
     "data": {
      "text/plain": [
       "0     0.000000\n",
       "1    -0.230888\n",
       "2    -0.538407\n",
       "3     0.706346\n",
       "4    -0.137446\n",
       "5    -0.215552\n",
       "6    -0.047191\n",
       "7    -0.347650\n",
       "8    -0.176278\n",
       "9    -0.151233\n",
       "10   -0.432954\n",
       "11    0.172161\n",
       "Name: ETH_Monthly_Close, dtype: float64"
      ]
     },
     "execution_count": 49,
     "metadata": {},
     "output_type": "execute_result"
    }
   ],
   "source": [
    "eth_2018_df = final_2018_df['ETH_Monthly_Close'].pct_change().fillna(0)\n",
    "eth_2018_df"
   ]
  },
  {
   "cell_type": "code",
   "execution_count": 50,
   "id": "342773a8",
   "metadata": {},
   "outputs": [
    {
     "data": {
      "text/plain": [
       "0     0.000000\n",
       "1     0.243623\n",
       "2    -0.426080\n",
       "3     0.280905\n",
       "4    -0.203531\n",
       "5    -0.314097\n",
       "6    -0.028497\n",
       "7    -0.210667\n",
       "8    -0.019305\n",
       "9    -0.189304\n",
       "10   -0.359571\n",
       "11   -0.059400\n",
       "Name: LTC_Monthly_Close, dtype: float64"
      ]
     },
     "execution_count": 50,
     "metadata": {},
     "output_type": "execute_result"
    }
   ],
   "source": [
    "ltc_2018_df = final_2018_df['LTC_Monthly_Close'].pct_change().fillna(0)\n",
    "ltc_2018_df"
   ]
  },
  {
   "cell_type": "code",
   "execution_count": 51,
   "id": "f6c04e76",
   "metadata": {},
   "outputs": [
    {
     "data": {
      "text/plain": [
       "0     0.000000\n",
       "1     0.015127\n",
       "2    -0.002700\n",
       "3     0.003008\n",
       "4    -0.001500\n",
       "5     0.000000\n",
       "6    -0.000701\n",
       "7     0.001804\n",
       "8    -0.003401\n",
       "9    -0.004516\n",
       "10   -0.007561\n",
       "11    0.014933\n",
       "Name: USDT_Monthly_Close, dtype: float64"
      ]
     },
     "execution_count": 51,
     "metadata": {},
     "output_type": "execute_result"
    }
   ],
   "source": [
    "usdt_2018_df = final_2018_df['USDT_Monthly_Close'].pct_change().fillna(0)\n",
    "usdt_2018_df"
   ]
  },
  {
   "cell_type": "code",
   "execution_count": 52,
   "id": "cc7542c8",
   "metadata": {},
   "outputs": [
    {
     "data": {
      "text/plain": [
       "0      0.000000\n",
       "1     18.343552\n",
       "2     -0.381932\n",
       "3      1.078808\n",
       "4     -0.300387\n",
       "5     -0.352685\n",
       "6      0.432930\n",
       "7     -0.188038\n",
       "8      0.162308\n",
       "9     -0.133947\n",
       "10    -0.303066\n",
       "11    -0.302504\n",
       "Name: XLM_Monthly_Close, dtype: float64"
      ]
     },
     "execution_count": 52,
     "metadata": {},
     "output_type": "execute_result"
    }
   ],
   "source": [
    "xlm_2018_df = final_2018_df['XLM_Monthly_Close'].pct_change().fillna(0)\n",
    "xlm_2018_df"
   ]
  },
  {
   "cell_type": "code",
   "execution_count": 53,
   "id": "62f50975",
   "metadata": {},
   "outputs": [
    {
     "data": {
      "text/plain": [
       "0     0.000000\n",
       "1    -0.208204\n",
       "2    -0.438076\n",
       "3     0.667322\n",
       "4    -0.264654\n",
       "5    -0.232981\n",
       "6    -0.072902\n",
       "7    -0.229070\n",
       "8     0.728955\n",
       "9    -0.223066\n",
       "10   -0.202911\n",
       "11   -0.030221\n",
       "Name: XRP_Monthly_Close, dtype: float64"
      ]
     },
     "execution_count": 53,
     "metadata": {},
     "output_type": "execute_result"
    }
   ],
   "source": [
    "xrp_2018_df = final_2018_df['XRP_Monthly_Close'].pct_change().fillna(0)\n",
    "xrp_2018_df"
   ]
  },
  {
   "cell_type": "code",
   "execution_count": 54,
   "id": "b65dac00",
   "metadata": {},
   "outputs": [
    {
     "data": {
      "text/plain": [
       "0     0.000000\n",
       "1    -0.034600\n",
       "2    -0.515830\n",
       "3     0.544615\n",
       "4    -0.158152\n",
       "5    -0.287182\n",
       "6     0.225933\n",
       "7    -0.283038\n",
       "8    -0.134258\n",
       "9    -0.113267\n",
       "10   -0.310177\n",
       "11   -0.307402\n",
       "Name: ZEC_Monthly_Close, dtype: float64"
      ]
     },
     "execution_count": 54,
     "metadata": {},
     "output_type": "execute_result"
    }
   ],
   "source": [
    "zec_2018_df = final_2018_df['ZEC_Monthly_Close'].pct_change().fillna(0)\n",
    "zec_2018_df"
   ]
  },
  {
   "cell_type": "code",
   "execution_count": 55,
   "id": "2d665b15",
   "metadata": {},
   "outputs": [
    {
     "data": {
      "text/plain": [
       "0     0.000000\n",
       "1    -0.155376\n",
       "2    -0.478476\n",
       "3     0.558925\n",
       "4    -0.357106\n",
       "5    -0.214755\n",
       "6    -0.089732\n",
       "7    -0.103302\n",
       "8    -0.045054\n",
       "9    -0.183087\n",
       "10   -0.402105\n",
       "11   -0.153035\n",
       "Name: DASH_Monthly_Close, dtype: float64"
      ]
     },
     "execution_count": 55,
     "metadata": {},
     "output_type": "execute_result"
    }
   ],
   "source": [
    "dash_2018_df = final_2018_df['DASH_Monthly_Close'].pct_change().fillna(0)\n",
    "dash_2018_df"
   ]
  },
  {
   "cell_type": "code",
   "execution_count": 56,
   "id": "fd33fd7b",
   "metadata": {},
   "outputs": [
    {
     "data": {
      "text/plain": [
       "0     0.000000\n",
       "1    -0.184547\n",
       "2    -0.446444\n",
       "3     0.054404\n",
       "4     0.000000\n",
       "5     0.000000\n",
       "6     0.000000\n",
       "7     0.000000\n",
       "8     0.000000\n",
       "9     0.000000\n",
       "10    0.000000\n",
       "11    0.000000\n",
       "Name: ADA_Monthly_Close, dtype: float64"
      ]
     },
     "execution_count": 56,
     "metadata": {},
     "output_type": "execute_result"
    }
   ],
   "source": [
    "ada_2018_df = final_2018_df['ADA_Monthly_Close'].pct_change().fillna(0)\n",
    "ada_2018_df"
   ]
  },
  {
   "cell_type": "code",
   "execution_count": 57,
   "id": "5af4bd6d",
   "metadata": {},
   "outputs": [
    {
     "data": {
      "text/plain": [
       "0.03960906449096394"
      ]
     },
     "execution_count": 57,
     "metadata": {},
     "output_type": "execute_result"
    }
   ],
   "source": [
    "# Step 4: Calculate the variance of bitcoin, in this case being used as a proxy for the market.\n",
    "# assign to market variance value\n",
    "market_var = btc_2018_df.var()\n",
    "market_var"
   ]
  },
  {
   "cell_type": "code",
   "execution_count": 58,
   "id": "73f5e600",
   "metadata": {},
   "outputs": [],
   "source": [
    "# Calcualte the variance of the remaining crypto currencies."
   ]
  },
  {
   "cell_type": "code",
   "execution_count": 59,
   "id": "3001ebe1",
   "metadata": {},
   "outputs": [
    {
     "data": {
      "text/plain": [
       "0.03960906449096394"
      ]
     },
     "execution_count": 59,
     "metadata": {},
     "output_type": "execute_result"
    }
   ],
   "source": [
    "btc_var_2018 = btc_2018_df.var()\n",
    "btc_var_2018"
   ]
  },
  {
   "cell_type": "code",
   "execution_count": 60,
   "id": "c454fa74",
   "metadata": {},
   "outputs": [
    {
     "data": {
      "text/plain": [
       "0.10349719596024033"
      ]
     },
     "execution_count": 60,
     "metadata": {},
     "output_type": "execute_result"
    }
   ],
   "source": [
    "eth_var_2018 = eth_2018_df.var()\n",
    "eth_var_2018"
   ]
  },
  {
   "cell_type": "code",
   "execution_count": 61,
   "id": "dfb8ec2d",
   "metadata": {},
   "outputs": [
    {
     "data": {
      "text/plain": [
       "0.04875514501258864"
      ]
     },
     "execution_count": 61,
     "metadata": {},
     "output_type": "execute_result"
    }
   ],
   "source": [
    "ltc_var_2018 = ltc_2018_df.var()\n",
    "ltc_var_2018"
   ]
  },
  {
   "cell_type": "code",
   "execution_count": 62,
   "id": "46e4ed90",
   "metadata": {},
   "outputs": [
    {
     "data": {
      "text/plain": [
       "4.961654022047864e-05"
      ]
     },
     "execution_count": 62,
     "metadata": {},
     "output_type": "execute_result"
    }
   ],
   "source": [
    "usdt_var_2018 = usdt_2018_df.var()\n",
    "usdt_var_2018"
   ]
  },
  {
   "cell_type": "code",
   "execution_count": 63,
   "id": "01cb3697",
   "metadata": {},
   "outputs": [
    {
     "data": {
      "text/plain": [
       "28.299571049446936"
      ]
     },
     "execution_count": 63,
     "metadata": {},
     "output_type": "execute_result"
    }
   ],
   "source": [
    "xlm_var_2018 = xlm_2018_df.var()\n",
    "xlm_var_2018"
   ]
  },
  {
   "cell_type": "code",
   "execution_count": 64,
   "id": "ccb5d544",
   "metadata": {},
   "outputs": [
    {
     "data": {
      "text/plain": [
       "0.13314435054374082"
      ]
     },
     "execution_count": 64,
     "metadata": {},
     "output_type": "execute_result"
    }
   ],
   "source": [
    "xrp_var_2018 = xrp_2018_df.var()\n",
    "xrp_var_2018"
   ]
  },
  {
   "cell_type": "code",
   "execution_count": 65,
   "id": "54f9920e",
   "metadata": {},
   "outputs": [
    {
     "data": {
      "text/plain": [
       "0.07880994075293156"
      ]
     },
     "execution_count": 65,
     "metadata": {},
     "output_type": "execute_result"
    }
   ],
   "source": [
    "zec_var_2018 = zec_2018_df.var()\n",
    "zec_var_2018"
   ]
  },
  {
   "cell_type": "code",
   "execution_count": 66,
   "id": "7ceb25ae",
   "metadata": {},
   "outputs": [
    {
     "data": {
      "text/plain": [
       "0.06899686209898444"
      ]
     },
     "execution_count": 66,
     "metadata": {},
     "output_type": "execute_result"
    }
   ],
   "source": [
    "dash_var_2018 = dash_2018_df.var()\n",
    "dash_var_2018"
   ]
  },
  {
   "cell_type": "code",
   "execution_count": 67,
   "id": "d74a4fb3",
   "metadata": {},
   "outputs": [
    {
     "data": {
      "text/plain": [
       "0.01896595383367737"
      ]
     },
     "execution_count": 67,
     "metadata": {},
     "output_type": "execute_result"
    }
   ],
   "source": [
    "ada_var_2018 = ada_2018_df.var()\n",
    "ada_var_2018"
   ]
  },
  {
   "cell_type": "code",
   "execution_count": 68,
   "id": "f97a623e",
   "metadata": {},
   "outputs": [
    {
     "data": {
      "text/plain": [
       "0.03960906449096394"
      ]
     },
     "execution_count": 68,
     "metadata": {},
     "output_type": "execute_result"
    }
   ],
   "source": [
    "# STEP 5B: CALCULATE COVARIANCE OF EACH CURRENCY RELATIVE TO BITCOIN\n",
    "\"\"\"\n",
    "Use monthly returns of currency and monthly returns of bitcoin as market proxy\n",
    "\n",
    "\"\"\"\n",
    "\n",
    "# market_cov = final_2018_df['BTC_Monthly_Close'].cov(final_2018_df['BTC_Monthly_Close'])\n",
    "# market_cov\n",
    "\n",
    "mkt_2018_cov = btc_2018_df.cov(btc_2018_df)\n",
    "mkt_2018_cov"
   ]
  },
  {
   "cell_type": "code",
   "execution_count": 69,
   "id": "1dafcd91",
   "metadata": {},
   "outputs": [
    {
     "data": {
      "text/plain": [
       "0.05189034652482842"
      ]
     },
     "execution_count": 69,
     "metadata": {},
     "output_type": "execute_result"
    }
   ],
   "source": [
    "eth_2018_cov = eth_2018_df.cov(btc_2018_df)\n",
    "eth_2018_cov"
   ]
  },
  {
   "cell_type": "code",
   "execution_count": 70,
   "id": "5f3a37cb",
   "metadata": {},
   "outputs": [
    {
     "data": {
      "text/plain": [
       "0.03697705602745253"
      ]
     },
     "execution_count": 70,
     "metadata": {},
     "output_type": "execute_result"
    }
   ],
   "source": [
    "ltc_2018_cov = ltc_2018_df.cov(btc_2018_df)\n",
    "ltc_2018_cov"
   ]
  },
  {
   "cell_type": "code",
   "execution_count": 71,
   "id": "fc38fd89",
   "metadata": {},
   "outputs": [
    {
     "data": {
      "text/plain": [
       "0.0004762717938323698"
      ]
     },
     "execution_count": 71,
     "metadata": {},
     "output_type": "execute_result"
    }
   ],
   "source": [
    "usdt_2018_cov = usdt_2018_df.cov(btc_2018_df)\n",
    "usdt_2018_cov"
   ]
  },
  {
   "cell_type": "code",
   "execution_count": 72,
   "id": "b0254f9c",
   "metadata": {},
   "outputs": [
    {
     "data": {
      "text/plain": [
       "0.21100782904329352"
      ]
     },
     "execution_count": 72,
     "metadata": {},
     "output_type": "execute_result"
    }
   ],
   "source": [
    "xlm_2018_cov = xlm_2018_df.cov(btc_2018_df)\n",
    "xlm_2018_cov"
   ]
  },
  {
   "cell_type": "code",
   "execution_count": 73,
   "id": "22b10217",
   "metadata": {},
   "outputs": [
    {
     "data": {
      "text/plain": [
       "0.04265196190809218"
      ]
     },
     "execution_count": 73,
     "metadata": {},
     "output_type": "execute_result"
    }
   ],
   "source": [
    "xrp_2018_cov = xrp_2018_df.cov(btc_2018_df)\n",
    "xrp_2018_cov"
   ]
  },
  {
   "cell_type": "code",
   "execution_count": 74,
   "id": "1dce6525",
   "metadata": {},
   "outputs": [
    {
     "data": {
      "text/plain": [
       "0.051269052517060855"
      ]
     },
     "execution_count": 74,
     "metadata": {},
     "output_type": "execute_result"
    }
   ],
   "source": [
    "zec_2018_cov = zec_2018_df.cov(btc_2018_df)\n",
    "zec_2018_cov"
   ]
  },
  {
   "cell_type": "code",
   "execution_count": 75,
   "id": "181d00e1",
   "metadata": {},
   "outputs": [
    {
     "data": {
      "text/plain": [
       "0.045857740669386166"
      ]
     },
     "execution_count": 75,
     "metadata": {},
     "output_type": "execute_result"
    }
   ],
   "source": [
    "dash_2018_cov = dash_2018_df.cov(btc_2018_df)\n",
    "dash_2018_cov"
   ]
  },
  {
   "cell_type": "code",
   "execution_count": 76,
   "id": "ababa30f",
   "metadata": {},
   "outputs": [
    {
     "data": {
      "text/plain": [
       "0.011492097410859901"
      ]
     },
     "execution_count": 76,
     "metadata": {},
     "output_type": "execute_result"
    }
   ],
   "source": [
    "ada_2018_cov = ada_2018_df.cov(btc_2018_df)\n",
    "ada_2018_cov"
   ]
  },
  {
   "cell_type": "code",
   "execution_count": 77,
   "id": "31895dd0",
   "metadata": {},
   "outputs": [
    {
     "data": {
      "text/plain": [
       "1.0"
      ]
     },
     "execution_count": 77,
     "metadata": {},
     "output_type": "execute_result"
    }
   ],
   "source": [
    "# STEP 6: CALCULATE BETA OF EACH CURRENCY\n",
    "\n",
    "\"\"\"\n",
    "beta = covariance of asset to market / variance of market\n",
    "\n",
    "use previous calculations for market variance and covariance of assets\n",
    "\"\"\"\n",
    "btc_beta_2018 = mkt_2018_cov / btc_var_2018\n",
    "btc_beta_2018\n"
   ]
  },
  {
   "cell_type": "code",
   "execution_count": 78,
   "id": "91ec2938",
   "metadata": {},
   "outputs": [
    {
     "data": {
      "text/plain": [
       "0.29013806709526313"
      ]
     },
     "execution_count": 78,
     "metadata": {},
     "output_type": "execute_result"
    }
   ],
   "source": [
    "ada_beta_2018 = ada_2018_cov / btc_var_2018\n",
    "ada_beta_2018"
   ]
  },
  {
   "cell_type": "code",
   "execution_count": 79,
   "id": "ba03bad0",
   "metadata": {},
   "outputs": [
    {
     "data": {
      "text/plain": [
       "0.9335503502206709"
      ]
     },
     "execution_count": 79,
     "metadata": {},
     "output_type": "execute_result"
    }
   ],
   "source": [
    "ltc_beta_2018 = ltc_2018_cov / btc_var_2018\n",
    "ltc_beta_2018"
   ]
  },
  {
   "cell_type": "code",
   "execution_count": 80,
   "id": "681722cb",
   "metadata": {},
   "outputs": [
    {
     "data": {
      "text/plain": [
       "0.012024313120069326"
      ]
     },
     "execution_count": 80,
     "metadata": {},
     "output_type": "execute_result"
    }
   ],
   "source": [
    "usdt_beta_2018 = usdt_2018_cov / btc_var_2018\n",
    "usdt_beta_2018"
   ]
  },
  {
   "cell_type": "code",
   "execution_count": 81,
   "id": "71720044",
   "metadata": {},
   "outputs": [
    {
     "data": {
      "text/plain": [
       "5.327261114471183"
      ]
     },
     "execution_count": 81,
     "metadata": {},
     "output_type": "execute_result"
    }
   ],
   "source": [
    "xlm_beta_2018 = xlm_2018_cov / btc_var_2018\n",
    "xlm_beta_2018"
   ]
  },
  {
   "cell_type": "code",
   "execution_count": 82,
   "id": "58755f6e",
   "metadata": {},
   "outputs": [
    {
     "data": {
      "text/plain": [
       "1.0768232589240379"
      ]
     },
     "execution_count": 82,
     "metadata": {},
     "output_type": "execute_result"
    }
   ],
   "source": [
    "xrp_beta_2018 = xrp_2018_cov / btc_var_2018\n",
    "xrp_beta_2018"
   ]
  },
  {
   "cell_type": "code",
   "execution_count": 83,
   "id": "8a5aeceb",
   "metadata": {},
   "outputs": [
    {
     "data": {
      "text/plain": [
       "1.294376758854199"
      ]
     },
     "execution_count": 83,
     "metadata": {},
     "output_type": "execute_result"
    }
   ],
   "source": [
    "zec_beta_2018 = zec_2018_cov / btc_var_2018\n",
    "zec_beta_2018"
   ]
  },
  {
   "cell_type": "code",
   "execution_count": 84,
   "id": "8403615c",
   "metadata": {},
   "outputs": [
    {
     "data": {
      "text/plain": [
       "1.157758741811429"
      ]
     },
     "execution_count": 84,
     "metadata": {},
     "output_type": "execute_result"
    }
   ],
   "source": [
    "dash_beta_2018 = dash_2018_cov / btc_var_2018\n",
    "dash_beta_2018"
   ]
  },
  {
   "cell_type": "code",
   "execution_count": 85,
   "id": "f5212050",
   "metadata": {},
   "outputs": [
    {
     "data": {
      "text/plain": [
       "0.29013806709526313"
      ]
     },
     "execution_count": 85,
     "metadata": {},
     "output_type": "execute_result"
    }
   ],
   "source": [
    "ada_beta_2018 = ada_2018_cov / btc_var_2018\n",
    "ada_beta_2018"
   ]
  },
  {
   "cell_type": "code",
   "execution_count": 86,
   "id": "8190cf7b",
   "metadata": {},
   "outputs": [
    {
     "data": {
      "text/plain": [
       "<AxesSubplot:>"
      ]
     },
     "execution_count": 86,
     "metadata": {},
     "output_type": "execute_result"
    },
    {
     "data": {
      "image/png": "[encoded data removed]",
      "text/plain": [
       "<Figure size 432x288 with 2 Axes>"
      ]
     },
     "metadata": {
      "needs_background": "light"
     },
     "output_type": "display_data"
    }
   ],
   "source": [
    "# Display Correlation Heatmap With Seaborn\n",
    "\n",
    "\"\"\"\n",
    "NEW CELL to check monthly returns are displayed with pct_change already applied\n",
    "- Take dataframe of daily returns from step 3 (pct_change drop na already applied)\n",
    "\n",
    "NEW CELL to check correlation dataframe\n",
    "- correlation = monthly_returns_dataframe.corr()\n",
    "\n",
    "NEW CELL to display heatmap\n",
    "- sns.heatmap(correlation)\n",
    "\n",
    "\n",
    "\"\"\"\n",
    "correlation = final_2018_df.corr()\n",
    "sns.heatmap(correlation)"
   ]
  },
  {
   "cell_type": "code",
   "execution_count": null,
   "id": "275b170f",
   "metadata": {},
   "outputs": [],
   "source": []
  }
 ],
 "metadata": {
  "kernelspec": {
   "display_name": "Python (dev)",
   "language": "python",
   "name": "dev"
  },
  "language_info": {
   "codemirror_mode": {
    "name": "ipython",
    "version": 3
   },
   "file_extension": ".py",
   "mimetype": "text/x-python",
   "name": "python",
   "nbconvert_exporter": "python",
   "pygments_lexer": "ipython3",
   "version": "3.7.10"
  }
 },
 "nbformat": 4,
 "nbformat_minor": 5
}
