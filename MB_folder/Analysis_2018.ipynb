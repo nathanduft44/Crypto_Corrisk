{
 "cells": [
  {
   "cell_type": "code",
   "execution_count": 1,
   "id": "dce008b6",
   "metadata": {},
   "outputs": [
    {
     "data": {
      "text/plain": [
       "'\\nFor now, we keep it simple. If we need to expand, we can. \\nWe are taking what we need to in order to understand how each basket of currencies \\nis correlated to the market proxy (bitcoin)\\n'"
      ]
     },
     "execution_count": 1,
     "metadata": {},
     "output_type": "execute_result"
    }
   ],
   "source": [
    "# GOAL: HAVE EACH ANALYSIS SECTION COMPUTE A STANDARD SET OF CALCULATIONS FOR RISK METRICS AND CORRELATION\n",
    "\n",
    "\"\"\"\n",
    "For now, we keep it simple. If we need to expand, we can. \n",
    "We are taking what we need to in order to understand how each basket of currencies \n",
    "is correlated to the market proxy (bitcoin)\n",
    "\"\"\""
   ]
  },
  {
   "cell_type": "code",
   "execution_count": 2,
   "id": "4e01ad41",
   "metadata": {},
   "outputs": [],
   "source": [
    "# STEP 1: IMPORT DEPENDENCIES\n",
    "#For basic calculations:\n",
    "import pandas as pd\n",
    "import numpy as np\n",
    "import csv\n",
    "\n",
    "#For Heatmap:\n",
    "import seaborn as sns\n",
    "%matplotlib inline"
   ]
  },
  {
   "cell_type": "code",
   "execution_count": 3,
   "id": "4cb76893",
   "metadata": {},
   "outputs": [],
   "source": [
    "# STEP 2: IMPORT DATA AS DATAFRAME\n",
    "\"\"\"\n",
    "Determnine if we are reading csv data, running individual api calls, or querying an in-house database\n",
    "\"\"\"\n",
    "filename = \"2018_data.csv\"\n",
    "\n",
    "# reading csv file\n",
    "with open(filename, 'r') as csvfile:\n",
    "    # creating a csv reader object\n",
    "    csvreader = csv.reader(csvfile)"
   ]
  },
  {
   "cell_type": "code",
   "execution_count": 4,
   "id": "40ab143d",
   "metadata": {},
   "outputs": [
    {
     "data": {
      "text/html": [
       "<div>\n",
       "<style scoped>\n",
       "    .dataframe tbody tr th:only-of-type {\n",
       "        vertical-align: middle;\n",
       "    }\n",
       "\n",
       "    .dataframe tbody tr th {\n",
       "        vertical-align: top;\n",
       "    }\n",
       "\n",
       "    .dataframe thead th {\n",
       "        text-align: right;\n",
       "    }\n",
       "</style>\n",
       "<table border=\"1\" class=\"dataframe\">\n",
       "  <thead>\n",
       "    <tr style=\"text-align: right;\">\n",
       "      <th></th>\n",
       "      <th>Unnamed: 0</th>\n",
       "      <th>btc_start_date</th>\n",
       "      <th>price_open</th>\n",
       "      <th>price_close</th>\n",
       "      <th>volume_traded</th>\n",
       "      <th>eth_start_date</th>\n",
       "      <th>price_open.1</th>\n",
       "      <th>price_close.1</th>\n",
       "      <th>volume_traded.1</th>\n",
       "      <th>ltc_start_date</th>\n",
       "      <th>...</th>\n",
       "      <th>price_close.6</th>\n",
       "      <th>volume_traded.6</th>\n",
       "      <th>dash_start_date</th>\n",
       "      <th>price_open.7</th>\n",
       "      <th>price_close.7</th>\n",
       "      <th>volume_traded.7</th>\n",
       "      <th>ada_start_date</th>\n",
       "      <th>price_open.8</th>\n",
       "      <th>price_close.8</th>\n",
       "      <th>volume_traded.8</th>\n",
       "    </tr>\n",
       "  </thead>\n",
       "  <tbody>\n",
       "    <tr>\n",
       "      <th>0</th>\n",
       "      <td>0</td>\n",
       "      <td>2018-01-01T00:00:00.0000000Z</td>\n",
       "      <td>13971.1</td>\n",
       "      <td>10101.6</td>\n",
       "      <td>147606.21920</td>\n",
       "      <td>2018-01-01T00:00:00.0000000Z</td>\n",
       "      <td>744.39</td>\n",
       "      <td>1105.30</td>\n",
       "      <td>1379339.521</td>\n",
       "      <td>2018-01-01T00:00:00.0000000Z</td>\n",
       "      <td>...</td>\n",
       "      <td>393.93</td>\n",
       "      <td>102428.97600</td>\n",
       "      <td>2018-01-01T00:00:00.0000000Z</td>\n",
       "      <td>1027.191</td>\n",
       "      <td>689.500</td>\n",
       "      <td>61271.89094</td>\n",
       "      <td>2018-09-01T00:00:00.0000000Z</td>\n",
       "      <td>0.300000</td>\n",
       "      <td>0.085512</td>\n",
       "      <td>7.543098e+06</td>\n",
       "    </tr>\n",
       "    <tr>\n",
       "      <th>1</th>\n",
       "      <td>1</td>\n",
       "      <td>2018-02-01T00:00:00.0000000Z</td>\n",
       "      <td>10105.5</td>\n",
       "      <td>10310.0</td>\n",
       "      <td>311097.47520</td>\n",
       "      <td>2018-02-01T00:00:00.0000000Z</td>\n",
       "      <td>1105.30</td>\n",
       "      <td>850.10</td>\n",
       "      <td>1779320.569</td>\n",
       "      <td>2018-02-01T00:00:00.0000000Z</td>\n",
       "      <td>...</td>\n",
       "      <td>380.30</td>\n",
       "      <td>76193.44256</td>\n",
       "      <td>2018-02-01T00:00:00.0000000Z</td>\n",
       "      <td>689.500</td>\n",
       "      <td>582.368</td>\n",
       "      <td>44776.54752</td>\n",
       "      <td>2018-10-01T00:00:00.0000000Z</td>\n",
       "      <td>0.085500</td>\n",
       "      <td>0.069731</td>\n",
       "      <td>5.972341e+07</td>\n",
       "    </tr>\n",
       "    <tr>\n",
       "      <th>2</th>\n",
       "      <td>2</td>\n",
       "      <td>2018-03-01T00:00:00.0000000Z</td>\n",
       "      <td>10309.0</td>\n",
       "      <td>6911.1</td>\n",
       "      <td>364738.92010</td>\n",
       "      <td>2018-03-01T00:00:00.0000000Z</td>\n",
       "      <td>850.11</td>\n",
       "      <td>392.40</td>\n",
       "      <td>1917408.272</td>\n",
       "      <td>2018-03-01T00:00:00.0000000Z</td>\n",
       "      <td>...</td>\n",
       "      <td>184.13</td>\n",
       "      <td>50285.68862</td>\n",
       "      <td>2018-03-01T00:00:00.0000000Z</td>\n",
       "      <td>580.000</td>\n",
       "      <td>303.719</td>\n",
       "      <td>49763.21180</td>\n",
       "      <td>2018-11-01T00:00:00.0000000Z</td>\n",
       "      <td>0.069638</td>\n",
       "      <td>0.038600</td>\n",
       "      <td>1.265523e+08</td>\n",
       "    </tr>\n",
       "    <tr>\n",
       "      <th>3</th>\n",
       "      <td>3</td>\n",
       "      <td>2018-04-01T00:00:00.0000000Z</td>\n",
       "      <td>6913.8</td>\n",
       "      <td>9243.2</td>\n",
       "      <td>217398.70080</td>\n",
       "      <td>2018-04-01T00:00:00.0000000Z</td>\n",
       "      <td>393.25</td>\n",
       "      <td>669.57</td>\n",
       "      <td>1888070.603</td>\n",
       "      <td>2018-04-01T00:00:00.0000000Z</td>\n",
       "      <td>...</td>\n",
       "      <td>284.41</td>\n",
       "      <td>44602.21027</td>\n",
       "      <td>2018-04-01T00:00:00.0000000Z</td>\n",
       "      <td>303.809</td>\n",
       "      <td>473.475</td>\n",
       "      <td>38776.38426</td>\n",
       "      <td>2018-12-01T00:00:00.0000000Z</td>\n",
       "      <td>0.038637</td>\n",
       "      <td>0.040700</td>\n",
       "      <td>1.601121e+08</td>\n",
       "    </tr>\n",
       "    <tr>\n",
       "      <th>4</th>\n",
       "      <td>4</td>\n",
       "      <td>2018-05-01T00:00:00.0000000Z</td>\n",
       "      <td>9246.5</td>\n",
       "      <td>7485.6</td>\n",
       "      <td>133746.86690</td>\n",
       "      <td>2018-05-01T00:00:00.0000000Z</td>\n",
       "      <td>670.13</td>\n",
       "      <td>577.54</td>\n",
       "      <td>1531224.429</td>\n",
       "      <td>2018-05-01T00:00:00.0000000Z</td>\n",
       "      <td>...</td>\n",
       "      <td>239.43</td>\n",
       "      <td>91506.98776</td>\n",
       "      <td>2018-05-01T00:00:00.0000000Z</td>\n",
       "      <td>473.475</td>\n",
       "      <td>304.394</td>\n",
       "      <td>25859.24255</td>\n",
       "      <td>NaN</td>\n",
       "      <td>NaN</td>\n",
       "      <td>NaN</td>\n",
       "      <td>NaN</td>\n",
       "    </tr>\n",
       "    <tr>\n",
       "      <th>5</th>\n",
       "      <td>5</td>\n",
       "      <td>2018-06-01T00:00:00.0000000Z</td>\n",
       "      <td>7490.9</td>\n",
       "      <td>6387.9</td>\n",
       "      <td>120310.78780</td>\n",
       "      <td>2018-06-01T00:00:00.0000000Z</td>\n",
       "      <td>577.35</td>\n",
       "      <td>453.05</td>\n",
       "      <td>1667017.016</td>\n",
       "      <td>2018-06-01T00:00:00.0000000Z</td>\n",
       "      <td>...</td>\n",
       "      <td>170.67</td>\n",
       "      <td>27875.66694</td>\n",
       "      <td>2018-06-01T00:00:00.0000000Z</td>\n",
       "      <td>305.400</td>\n",
       "      <td>239.024</td>\n",
       "      <td>21546.51809</td>\n",
       "      <td>NaN</td>\n",
       "      <td>NaN</td>\n",
       "      <td>NaN</td>\n",
       "      <td>NaN</td>\n",
       "    </tr>\n",
       "    <tr>\n",
       "      <th>6</th>\n",
       "      <td>6</td>\n",
       "      <td>2018-07-01T00:00:00.0000000Z</td>\n",
       "      <td>6387.0</td>\n",
       "      <td>7726.0</td>\n",
       "      <td>124102.36790</td>\n",
       "      <td>2018-07-01T00:00:00.0000000Z</td>\n",
       "      <td>453.00</td>\n",
       "      <td>431.67</td>\n",
       "      <td>1095661.150</td>\n",
       "      <td>2018-07-01T00:00:00.0000000Z</td>\n",
       "      <td>...</td>\n",
       "      <td>209.23</td>\n",
       "      <td>56803.61617</td>\n",
       "      <td>2018-07-01T00:00:00.0000000Z</td>\n",
       "      <td>239.900</td>\n",
       "      <td>217.576</td>\n",
       "      <td>44737.57765</td>\n",
       "      <td>NaN</td>\n",
       "      <td>NaN</td>\n",
       "      <td>NaN</td>\n",
       "      <td>NaN</td>\n",
       "    </tr>\n",
       "    <tr>\n",
       "      <th>7</th>\n",
       "      <td>7</td>\n",
       "      <td>2018-08-01T00:00:00.0000000Z</td>\n",
       "      <td>7726.0</td>\n",
       "      <td>7015.8</td>\n",
       "      <td>149781.15990</td>\n",
       "      <td>2018-08-01T00:00:00.0000000Z</td>\n",
       "      <td>431.76</td>\n",
       "      <td>281.60</td>\n",
       "      <td>1413788.197</td>\n",
       "      <td>2018-08-01T00:00:00.0000000Z</td>\n",
       "      <td>...</td>\n",
       "      <td>150.01</td>\n",
       "      <td>59883.33471</td>\n",
       "      <td>2018-08-01T00:00:00.0000000Z</td>\n",
       "      <td>218.793</td>\n",
       "      <td>195.100</td>\n",
       "      <td>62024.40518</td>\n",
       "      <td>NaN</td>\n",
       "      <td>NaN</td>\n",
       "      <td>NaN</td>\n",
       "      <td>NaN</td>\n",
       "    </tr>\n",
       "    <tr>\n",
       "      <th>8</th>\n",
       "      <td>8</td>\n",
       "      <td>2018-09-01T00:00:00.0000000Z</td>\n",
       "      <td>7014.8</td>\n",
       "      <td>6604.1</td>\n",
       "      <td>120259.67690</td>\n",
       "      <td>2018-09-01T00:00:00.0000000Z</td>\n",
       "      <td>281.59</td>\n",
       "      <td>231.96</td>\n",
       "      <td>3099220.865</td>\n",
       "      <td>2018-09-01T00:00:00.0000000Z</td>\n",
       "      <td>...</td>\n",
       "      <td>129.87</td>\n",
       "      <td>51178.43574</td>\n",
       "      <td>2018-09-01T00:00:00.0000000Z</td>\n",
       "      <td>194.704</td>\n",
       "      <td>186.310</td>\n",
       "      <td>49986.45950</td>\n",
       "      <td>NaN</td>\n",
       "      <td>NaN</td>\n",
       "      <td>NaN</td>\n",
       "      <td>NaN</td>\n",
       "    </tr>\n",
       "    <tr>\n",
       "      <th>9</th>\n",
       "      <td>9</td>\n",
       "      <td>2018-10-01T00:00:00.0000000Z</td>\n",
       "      <td>6603.8</td>\n",
       "      <td>6307.5</td>\n",
       "      <td>80038.91905</td>\n",
       "      <td>2018-10-01T00:00:00.0000000Z</td>\n",
       "      <td>231.96</td>\n",
       "      <td>196.88</td>\n",
       "      <td>1443435.170</td>\n",
       "      <td>2018-10-01T00:00:00.0000000Z</td>\n",
       "      <td>...</td>\n",
       "      <td>115.16</td>\n",
       "      <td>39803.52398</td>\n",
       "      <td>2018-10-01T00:00:00.0000000Z</td>\n",
       "      <td>187.590</td>\n",
       "      <td>152.199</td>\n",
       "      <td>25417.59634</td>\n",
       "      <td>NaN</td>\n",
       "      <td>NaN</td>\n",
       "      <td>NaN</td>\n",
       "      <td>NaN</td>\n",
       "    </tr>\n",
       "    <tr>\n",
       "      <th>10</th>\n",
       "      <td>10</td>\n",
       "      <td>2018-11-01T00:00:00.0000000Z</td>\n",
       "      <td>6307.5</td>\n",
       "      <td>3969.4</td>\n",
       "      <td>240664.06460</td>\n",
       "      <td>2018-11-01T00:00:00.0000000Z</td>\n",
       "      <td>196.99</td>\n",
       "      <td>111.64</td>\n",
       "      <td>3533781.953</td>\n",
       "      <td>2018-11-01T00:00:00.0000000Z</td>\n",
       "      <td>...</td>\n",
       "      <td>79.44</td>\n",
       "      <td>142754.99620</td>\n",
       "      <td>2018-11-01T00:00:00.0000000Z</td>\n",
       "      <td>151.717</td>\n",
       "      <td>90.999</td>\n",
       "      <td>66444.37651</td>\n",
       "      <td>NaN</td>\n",
       "      <td>NaN</td>\n",
       "      <td>NaN</td>\n",
       "      <td>NaN</td>\n",
       "    </tr>\n",
       "    <tr>\n",
       "      <th>11</th>\n",
       "      <td>11</td>\n",
       "      <td>2018-12-01T00:00:00.0000000Z</td>\n",
       "      <td>3969.4</td>\n",
       "      <td>3691.9</td>\n",
       "      <td>361919.09980</td>\n",
       "      <td>2018-12-01T00:00:00.0000000Z</td>\n",
       "      <td>111.81</td>\n",
       "      <td>130.86</td>\n",
       "      <td>5550937.134</td>\n",
       "      <td>2018-12-01T00:00:00.0000000Z</td>\n",
       "      <td>...</td>\n",
       "      <td>55.02</td>\n",
       "      <td>88363.92152</td>\n",
       "      <td>2018-12-01T00:00:00.0000000Z</td>\n",
       "      <td>90.703</td>\n",
       "      <td>77.073</td>\n",
       "      <td>112577.02020</td>\n",
       "      <td>NaN</td>\n",
       "      <td>NaN</td>\n",
       "      <td>NaN</td>\n",
       "      <td>NaN</td>\n",
       "    </tr>\n",
       "  </tbody>\n",
       "</table>\n",
       "<p>12 rows × 37 columns</p>\n",
       "</div>"
      ],
      "text/plain": [
       "    Unnamed: 0                btc_start_date  price_open  price_close  \\\n",
       "0            0  2018-01-01T00:00:00.0000000Z     13971.1      10101.6   \n",
       "1            1  2018-02-01T00:00:00.0000000Z     10105.5      10310.0   \n",
       "2            2  2018-03-01T00:00:00.0000000Z     10309.0       6911.1   \n",
       "3            3  2018-04-01T00:00:00.0000000Z      6913.8       9243.2   \n",
       "4            4  2018-05-01T00:00:00.0000000Z      9246.5       7485.6   \n",
       "5            5  2018-06-01T00:00:00.0000000Z      7490.9       6387.9   \n",
       "6            6  2018-07-01T00:00:00.0000000Z      6387.0       7726.0   \n",
       "7            7  2018-08-01T00:00:00.0000000Z      7726.0       7015.8   \n",
       "8            8  2018-09-01T00:00:00.0000000Z      7014.8       6604.1   \n",
       "9            9  2018-10-01T00:00:00.0000000Z      6603.8       6307.5   \n",
       "10          10  2018-11-01T00:00:00.0000000Z      6307.5       3969.4   \n",
       "11          11  2018-12-01T00:00:00.0000000Z      3969.4       3691.9   \n",
       "\n",
       "    volume_traded                eth_start_date  price_open.1  price_close.1  \\\n",
       "0    147606.21920  2018-01-01T00:00:00.0000000Z        744.39        1105.30   \n",
       "1    311097.47520  2018-02-01T00:00:00.0000000Z       1105.30         850.10   \n",
       "2    364738.92010  2018-03-01T00:00:00.0000000Z        850.11         392.40   \n",
       "3    217398.70080  2018-04-01T00:00:00.0000000Z        393.25         669.57   \n",
       "4    133746.86690  2018-05-01T00:00:00.0000000Z        670.13         577.54   \n",
       "5    120310.78780  2018-06-01T00:00:00.0000000Z        577.35         453.05   \n",
       "6    124102.36790  2018-07-01T00:00:00.0000000Z        453.00         431.67   \n",
       "7    149781.15990  2018-08-01T00:00:00.0000000Z        431.76         281.60   \n",
       "8    120259.67690  2018-09-01T00:00:00.0000000Z        281.59         231.96   \n",
       "9     80038.91905  2018-10-01T00:00:00.0000000Z        231.96         196.88   \n",
       "10   240664.06460  2018-11-01T00:00:00.0000000Z        196.99         111.64   \n",
       "11   361919.09980  2018-12-01T00:00:00.0000000Z        111.81         130.86   \n",
       "\n",
       "    volume_traded.1                ltc_start_date  ...  price_close.6  \\\n",
       "0       1379339.521  2018-01-01T00:00:00.0000000Z  ...         393.93   \n",
       "1       1779320.569  2018-02-01T00:00:00.0000000Z  ...         380.30   \n",
       "2       1917408.272  2018-03-01T00:00:00.0000000Z  ...         184.13   \n",
       "3       1888070.603  2018-04-01T00:00:00.0000000Z  ...         284.41   \n",
       "4       1531224.429  2018-05-01T00:00:00.0000000Z  ...         239.43   \n",
       "5       1667017.016  2018-06-01T00:00:00.0000000Z  ...         170.67   \n",
       "6       1095661.150  2018-07-01T00:00:00.0000000Z  ...         209.23   \n",
       "7       1413788.197  2018-08-01T00:00:00.0000000Z  ...         150.01   \n",
       "8       3099220.865  2018-09-01T00:00:00.0000000Z  ...         129.87   \n",
       "9       1443435.170  2018-10-01T00:00:00.0000000Z  ...         115.16   \n",
       "10      3533781.953  2018-11-01T00:00:00.0000000Z  ...          79.44   \n",
       "11      5550937.134  2018-12-01T00:00:00.0000000Z  ...          55.02   \n",
       "\n",
       "    volume_traded.6               dash_start_date price_open.7  price_close.7  \\\n",
       "0      102428.97600  2018-01-01T00:00:00.0000000Z     1027.191        689.500   \n",
       "1       76193.44256  2018-02-01T00:00:00.0000000Z      689.500        582.368   \n",
       "2       50285.68862  2018-03-01T00:00:00.0000000Z      580.000        303.719   \n",
       "3       44602.21027  2018-04-01T00:00:00.0000000Z      303.809        473.475   \n",
       "4       91506.98776  2018-05-01T00:00:00.0000000Z      473.475        304.394   \n",
       "5       27875.66694  2018-06-01T00:00:00.0000000Z      305.400        239.024   \n",
       "6       56803.61617  2018-07-01T00:00:00.0000000Z      239.900        217.576   \n",
       "7       59883.33471  2018-08-01T00:00:00.0000000Z      218.793        195.100   \n",
       "8       51178.43574  2018-09-01T00:00:00.0000000Z      194.704        186.310   \n",
       "9       39803.52398  2018-10-01T00:00:00.0000000Z      187.590        152.199   \n",
       "10     142754.99620  2018-11-01T00:00:00.0000000Z      151.717         90.999   \n",
       "11      88363.92152  2018-12-01T00:00:00.0000000Z       90.703         77.073   \n",
       "\n",
       "    volume_traded.7                ada_start_date price_open.8  price_close.8  \\\n",
       "0       61271.89094  2018-09-01T00:00:00.0000000Z     0.300000       0.085512   \n",
       "1       44776.54752  2018-10-01T00:00:00.0000000Z     0.085500       0.069731   \n",
       "2       49763.21180  2018-11-01T00:00:00.0000000Z     0.069638       0.038600   \n",
       "3       38776.38426  2018-12-01T00:00:00.0000000Z     0.038637       0.040700   \n",
       "4       25859.24255                           NaN          NaN            NaN   \n",
       "5       21546.51809                           NaN          NaN            NaN   \n",
       "6       44737.57765                           NaN          NaN            NaN   \n",
       "7       62024.40518                           NaN          NaN            NaN   \n",
       "8       49986.45950                           NaN          NaN            NaN   \n",
       "9       25417.59634                           NaN          NaN            NaN   \n",
       "10      66444.37651                           NaN          NaN            NaN   \n",
       "11     112577.02020                           NaN          NaN            NaN   \n",
       "\n",
       "    volume_traded.8  \n",
       "0      7.543098e+06  \n",
       "1      5.972341e+07  \n",
       "2      1.265523e+08  \n",
       "3      1.601121e+08  \n",
       "4               NaN  \n",
       "5               NaN  \n",
       "6               NaN  \n",
       "7               NaN  \n",
       "8               NaN  \n",
       "9               NaN  \n",
       "10              NaN  \n",
       "11              NaN  \n",
       "\n",
       "[12 rows x 37 columns]"
      ]
     },
     "execution_count": 4,
     "metadata": {},
     "output_type": "execute_result"
    }
   ],
   "source": [
    "# Convert the csv file into a dataframe\n",
    "crypto_data_2018_df = pd.read_csv(filename)\n",
    "crypto_data_2018_df"
   ]
  },
  {
   "cell_type": "code",
   "execution_count": 47,
   "id": "5342e834",
   "metadata": {},
   "outputs": [
    {
     "data": {
      "text/html": [
       "<div>\n",
       "<style scoped>\n",
       "    .dataframe tbody tr th:only-of-type {\n",
       "        vertical-align: middle;\n",
       "    }\n",
       "\n",
       "    .dataframe tbody tr th {\n",
       "        vertical-align: top;\n",
       "    }\n",
       "\n",
       "    .dataframe thead th {\n",
       "        text-align: right;\n",
       "    }\n",
       "</style>\n",
       "<table border=\"1\" class=\"dataframe\">\n",
       "  <thead>\n",
       "    <tr style=\"text-align: right;\">\n",
       "      <th></th>\n",
       "      <th>price_close</th>\n",
       "    </tr>\n",
       "  </thead>\n",
       "  <tbody>\n",
       "    <tr>\n",
       "      <th>1</th>\n",
       "      <td>0.020630</td>\n",
       "    </tr>\n",
       "    <tr>\n",
       "      <th>2</th>\n",
       "      <td>-0.329670</td>\n",
       "    </tr>\n",
       "    <tr>\n",
       "      <th>3</th>\n",
       "      <td>0.337443</td>\n",
       "    </tr>\n",
       "    <tr>\n",
       "      <th>4</th>\n",
       "      <td>-0.190151</td>\n",
       "    </tr>\n",
       "    <tr>\n",
       "      <th>5</th>\n",
       "      <td>-0.146642</td>\n",
       "    </tr>\n",
       "    <tr>\n",
       "      <th>6</th>\n",
       "      <td>0.209474</td>\n",
       "    </tr>\n",
       "    <tr>\n",
       "      <th>7</th>\n",
       "      <td>-0.091923</td>\n",
       "    </tr>\n",
       "    <tr>\n",
       "      <th>8</th>\n",
       "      <td>-0.058682</td>\n",
       "    </tr>\n",
       "    <tr>\n",
       "      <th>9</th>\n",
       "      <td>-0.044911</td>\n",
       "    </tr>\n",
       "    <tr>\n",
       "      <th>10</th>\n",
       "      <td>-0.370686</td>\n",
       "    </tr>\n",
       "    <tr>\n",
       "      <th>11</th>\n",
       "      <td>-0.069910</td>\n",
       "    </tr>\n",
       "  </tbody>\n",
       "</table>\n",
       "</div>"
      ],
      "text/plain": [
       "    price_close\n",
       "1      0.020630\n",
       "2     -0.329670\n",
       "3      0.337443\n",
       "4     -0.190151\n",
       "5     -0.146642\n",
       "6      0.209474\n",
       "7     -0.091923\n",
       "8     -0.058682\n",
       "9     -0.044911\n",
       "10    -0.370686\n",
       "11    -0.069910"
      ]
     },
     "execution_count": 47,
     "metadata": {},
     "output_type": "execute_result"
    }
   ],
   "source": [
    "# STEP 3: CALCULATE Monthly RETURNS FOR EACH CURRENCY IN Designated Time range from  DATAFRAME, DROP NULL VALUES\n",
    "\"\"\"\n",
    "\n",
    "Will need: .pct_change().dropna(inplace = True)\n",
    "\n",
    "\"\"\"\n",
    "btc_2018 = crypto_data_2018_df['price_close'].pct_change().dropna()\n",
    "btc_2018_df = pd.DataFrame(btc_2018)\n",
    "btc_2018_df"
   ]
  },
  {
   "cell_type": "code",
   "execution_count": 48,
   "id": "9e083d02",
   "metadata": {},
   "outputs": [
    {
     "data": {
      "text/html": [
       "<div>\n",
       "<style scoped>\n",
       "    .dataframe tbody tr th:only-of-type {\n",
       "        vertical-align: middle;\n",
       "    }\n",
       "\n",
       "    .dataframe tbody tr th {\n",
       "        vertical-align: top;\n",
       "    }\n",
       "\n",
       "    .dataframe thead th {\n",
       "        text-align: right;\n",
       "    }\n",
       "</style>\n",
       "<table border=\"1\" class=\"dataframe\">\n",
       "  <thead>\n",
       "    <tr style=\"text-align: right;\">\n",
       "      <th></th>\n",
       "      <th>price_close.1</th>\n",
       "    </tr>\n",
       "  </thead>\n",
       "  <tbody>\n",
       "    <tr>\n",
       "      <th>1</th>\n",
       "      <td>-0.230888</td>\n",
       "    </tr>\n",
       "    <tr>\n",
       "      <th>2</th>\n",
       "      <td>-0.538407</td>\n",
       "    </tr>\n",
       "    <tr>\n",
       "      <th>3</th>\n",
       "      <td>0.706346</td>\n",
       "    </tr>\n",
       "    <tr>\n",
       "      <th>4</th>\n",
       "      <td>-0.137446</td>\n",
       "    </tr>\n",
       "    <tr>\n",
       "      <th>5</th>\n",
       "      <td>-0.215552</td>\n",
       "    </tr>\n",
       "    <tr>\n",
       "      <th>6</th>\n",
       "      <td>-0.047191</td>\n",
       "    </tr>\n",
       "    <tr>\n",
       "      <th>7</th>\n",
       "      <td>-0.347650</td>\n",
       "    </tr>\n",
       "    <tr>\n",
       "      <th>8</th>\n",
       "      <td>-0.176278</td>\n",
       "    </tr>\n",
       "    <tr>\n",
       "      <th>9</th>\n",
       "      <td>-0.151233</td>\n",
       "    </tr>\n",
       "    <tr>\n",
       "      <th>10</th>\n",
       "      <td>-0.432954</td>\n",
       "    </tr>\n",
       "    <tr>\n",
       "      <th>11</th>\n",
       "      <td>0.172161</td>\n",
       "    </tr>\n",
       "  </tbody>\n",
       "</table>\n",
       "</div>"
      ],
      "text/plain": [
       "    price_close.1\n",
       "1       -0.230888\n",
       "2       -0.538407\n",
       "3        0.706346\n",
       "4       -0.137446\n",
       "5       -0.215552\n",
       "6       -0.047191\n",
       "7       -0.347650\n",
       "8       -0.176278\n",
       "9       -0.151233\n",
       "10      -0.432954\n",
       "11       0.172161"
      ]
     },
     "execution_count": 48,
     "metadata": {},
     "output_type": "execute_result"
    }
   ],
   "source": [
    "eth_2018 = crypto_data_2018_df['price_close.1'].pct_change().dropna()\n",
    "eth_2018_df = pd.DataFrame(eth_2018)\n",
    "eth_2018_df"
   ]
  },
  {
   "cell_type": "code",
   "execution_count": 49,
   "id": "342773a8",
   "metadata": {},
   "outputs": [
    {
     "data": {
      "text/html": [
       "<div>\n",
       "<style scoped>\n",
       "    .dataframe tbody tr th:only-of-type {\n",
       "        vertical-align: middle;\n",
       "    }\n",
       "\n",
       "    .dataframe tbody tr th {\n",
       "        vertical-align: top;\n",
       "    }\n",
       "\n",
       "    .dataframe thead th {\n",
       "        text-align: right;\n",
       "    }\n",
       "</style>\n",
       "<table border=\"1\" class=\"dataframe\">\n",
       "  <thead>\n",
       "    <tr style=\"text-align: right;\">\n",
       "      <th></th>\n",
       "      <th>price_close.2</th>\n",
       "    </tr>\n",
       "  </thead>\n",
       "  <tbody>\n",
       "    <tr>\n",
       "      <th>2</th>\n",
       "      <td>-2.748933</td>\n",
       "    </tr>\n",
       "    <tr>\n",
       "      <th>3</th>\n",
       "      <td>-1.659277</td>\n",
       "    </tr>\n",
       "    <tr>\n",
       "      <th>4</th>\n",
       "      <td>-1.724557</td>\n",
       "    </tr>\n",
       "    <tr>\n",
       "      <th>5</th>\n",
       "      <td>0.543236</td>\n",
       "    </tr>\n",
       "    <tr>\n",
       "      <th>6</th>\n",
       "      <td>-0.909272</td>\n",
       "    </tr>\n",
       "    <tr>\n",
       "      <th>7</th>\n",
       "      <td>6.392485</td>\n",
       "    </tr>\n",
       "    <tr>\n",
       "      <th>8</th>\n",
       "      <td>-0.908362</td>\n",
       "    </tr>\n",
       "    <tr>\n",
       "      <th>9</th>\n",
       "      <td>8.805971</td>\n",
       "    </tr>\n",
       "    <tr>\n",
       "      <th>10</th>\n",
       "      <td>0.899432</td>\n",
       "    </tr>\n",
       "    <tr>\n",
       "      <th>11</th>\n",
       "      <td>-0.834804</td>\n",
       "    </tr>\n",
       "  </tbody>\n",
       "</table>\n",
       "</div>"
      ],
      "text/plain": [
       "    price_close.2\n",
       "2       -2.748933\n",
       "3       -1.659277\n",
       "4       -1.724557\n",
       "5        0.543236\n",
       "6       -0.909272\n",
       "7        6.392485\n",
       "8       -0.908362\n",
       "9        8.805971\n",
       "10       0.899432\n",
       "11      -0.834804"
      ]
     },
     "execution_count": 49,
     "metadata": {},
     "output_type": "execute_result"
    }
   ],
   "source": [
    "ltc_2018 = crypto_data_2018_df['price_close.2'].pct_change().pct_change().dropna()\n",
    "ltc_2018_df = pd.DataFrame(ltc_2018)\n",
    "ltc_2018_df"
   ]
  },
  {
   "cell_type": "code",
   "execution_count": 50,
   "id": "f6c04e76",
   "metadata": {},
   "outputs": [
    {
     "data": {
      "text/html": [
       "<div>\n",
       "<style scoped>\n",
       "    .dataframe tbody tr th:only-of-type {\n",
       "        vertical-align: middle;\n",
       "    }\n",
       "\n",
       "    .dataframe tbody tr th {\n",
       "        vertical-align: top;\n",
       "    }\n",
       "\n",
       "    .dataframe thead th {\n",
       "        text-align: right;\n",
       "    }\n",
       "</style>\n",
       "<table border=\"1\" class=\"dataframe\">\n",
       "  <thead>\n",
       "    <tr style=\"text-align: right;\">\n",
       "      <th></th>\n",
       "      <th>price_close.3</th>\n",
       "    </tr>\n",
       "  </thead>\n",
       "  <tbody>\n",
       "    <tr>\n",
       "      <th>2</th>\n",
       "      <td>-1.178508</td>\n",
       "    </tr>\n",
       "    <tr>\n",
       "      <th>3</th>\n",
       "      <td>-2.114120</td>\n",
       "    </tr>\n",
       "    <tr>\n",
       "      <th>4</th>\n",
       "      <td>-1.498500</td>\n",
       "    </tr>\n",
       "    <tr>\n",
       "      <th>5</th>\n",
       "      <td>-1.000000</td>\n",
       "    </tr>\n",
       "    <tr>\n",
       "      <th>6</th>\n",
       "      <td>-inf</td>\n",
       "    </tr>\n",
       "    <tr>\n",
       "      <th>7</th>\n",
       "      <td>-3.573232</td>\n",
       "    </tr>\n",
       "    <tr>\n",
       "      <th>8</th>\n",
       "      <td>-2.885488</td>\n",
       "    </tr>\n",
       "    <tr>\n",
       "      <th>9</th>\n",
       "      <td>0.328046</td>\n",
       "    </tr>\n",
       "    <tr>\n",
       "      <th>10</th>\n",
       "      <td>0.674228</td>\n",
       "    </tr>\n",
       "    <tr>\n",
       "      <th>11</th>\n",
       "      <td>-2.974933</td>\n",
       "    </tr>\n",
       "  </tbody>\n",
       "</table>\n",
       "</div>"
      ],
      "text/plain": [
       "    price_close.3\n",
       "2       -1.178508\n",
       "3       -2.114120\n",
       "4       -1.498500\n",
       "5       -1.000000\n",
       "6            -inf\n",
       "7       -3.573232\n",
       "8       -2.885488\n",
       "9        0.328046\n",
       "10       0.674228\n",
       "11      -2.974933"
      ]
     },
     "execution_count": 50,
     "metadata": {},
     "output_type": "execute_result"
    }
   ],
   "source": [
    "usdt_2018 = crypto_data_2018_df['price_close.3'].pct_change().pct_change().dropna()\n",
    "usdt_2018_df = pd.DataFrame(usdt_2018)\n",
    "usdt_2018_df"
   ]
  },
  {
   "cell_type": "code",
   "execution_count": 51,
   "id": "cc7542c8",
   "metadata": {},
   "outputs": [
    {
     "data": {
      "text/html": [
       "<div>\n",
       "<style scoped>\n",
       "    .dataframe tbody tr th:only-of-type {\n",
       "        vertical-align: middle;\n",
       "    }\n",
       "\n",
       "    .dataframe tbody tr th {\n",
       "        vertical-align: top;\n",
       "    }\n",
       "\n",
       "    .dataframe thead th {\n",
       "        text-align: right;\n",
       "    }\n",
       "</style>\n",
       "<table border=\"1\" class=\"dataframe\">\n",
       "  <thead>\n",
       "    <tr style=\"text-align: right;\">\n",
       "      <th></th>\n",
       "      <th>price_close.4</th>\n",
       "    </tr>\n",
       "  </thead>\n",
       "  <tbody>\n",
       "    <tr>\n",
       "      <th>2</th>\n",
       "      <td>-1.020821</td>\n",
       "    </tr>\n",
       "    <tr>\n",
       "      <th>3</th>\n",
       "      <td>-3.824607</td>\n",
       "    </tr>\n",
       "    <tr>\n",
       "      <th>4</th>\n",
       "      <td>-1.278443</td>\n",
       "    </tr>\n",
       "    <tr>\n",
       "      <th>5</th>\n",
       "      <td>0.174102</td>\n",
       "    </tr>\n",
       "    <tr>\n",
       "      <th>6</th>\n",
       "      <td>-2.227528</td>\n",
       "    </tr>\n",
       "    <tr>\n",
       "      <th>7</th>\n",
       "      <td>-1.434337</td>\n",
       "    </tr>\n",
       "    <tr>\n",
       "      <th>8</th>\n",
       "      <td>-1.863166</td>\n",
       "    </tr>\n",
       "    <tr>\n",
       "      <th>9</th>\n",
       "      <td>-1.825265</td>\n",
       "    </tr>\n",
       "    <tr>\n",
       "      <th>10</th>\n",
       "      <td>1.262586</td>\n",
       "    </tr>\n",
       "    <tr>\n",
       "      <th>11</th>\n",
       "      <td>-0.001857</td>\n",
       "    </tr>\n",
       "  </tbody>\n",
       "</table>\n",
       "</div>"
      ],
      "text/plain": [
       "    price_close.4\n",
       "2       -1.020821\n",
       "3       -3.824607\n",
       "4       -1.278443\n",
       "5        0.174102\n",
       "6       -2.227528\n",
       "7       -1.434337\n",
       "8       -1.863166\n",
       "9       -1.825265\n",
       "10       1.262586\n",
       "11      -0.001857"
      ]
     },
     "execution_count": 51,
     "metadata": {},
     "output_type": "execute_result"
    }
   ],
   "source": [
    "xlm_2018 = crypto_data_2018_df['price_close.4'].pct_change().pct_change().dropna()\n",
    "xlm_2018_df = pd.DataFrame(xlm_2018)\n",
    "xlm_2018_df"
   ]
  },
  {
   "cell_type": "code",
   "execution_count": 52,
   "id": "62f50975",
   "metadata": {},
   "outputs": [
    {
     "data": {
      "text/html": [
       "<div>\n",
       "<style scoped>\n",
       "    .dataframe tbody tr th:only-of-type {\n",
       "        vertical-align: middle;\n",
       "    }\n",
       "\n",
       "    .dataframe tbody tr th {\n",
       "        vertical-align: top;\n",
       "    }\n",
       "\n",
       "    .dataframe thead th {\n",
       "        text-align: right;\n",
       "    }\n",
       "</style>\n",
       "<table border=\"1\" class=\"dataframe\">\n",
       "  <thead>\n",
       "    <tr style=\"text-align: right;\">\n",
       "      <th></th>\n",
       "      <th>price_close.5</th>\n",
       "    </tr>\n",
       "  </thead>\n",
       "  <tbody>\n",
       "    <tr>\n",
       "      <th>2</th>\n",
       "      <td>1.104071</td>\n",
       "    </tr>\n",
       "    <tr>\n",
       "      <th>3</th>\n",
       "      <td>-2.523303</td>\n",
       "    </tr>\n",
       "    <tr>\n",
       "      <th>4</th>\n",
       "      <td>-1.396591</td>\n",
       "    </tr>\n",
       "    <tr>\n",
       "      <th>5</th>\n",
       "      <td>-0.119677</td>\n",
       "    </tr>\n",
       "    <tr>\n",
       "      <th>6</th>\n",
       "      <td>-0.687089</td>\n",
       "    </tr>\n",
       "    <tr>\n",
       "      <th>7</th>\n",
       "      <td>2.142151</td>\n",
       "    </tr>\n",
       "    <tr>\n",
       "      <th>8</th>\n",
       "      <td>-4.182240</td>\n",
       "    </tr>\n",
       "    <tr>\n",
       "      <th>9</th>\n",
       "      <td>-1.306008</td>\n",
       "    </tr>\n",
       "    <tr>\n",
       "      <th>10</th>\n",
       "      <td>-0.090355</td>\n",
       "    </tr>\n",
       "    <tr>\n",
       "      <th>11</th>\n",
       "      <td>-0.851062</td>\n",
       "    </tr>\n",
       "  </tbody>\n",
       "</table>\n",
       "</div>"
      ],
      "text/plain": [
       "    price_close.5\n",
       "2        1.104071\n",
       "3       -2.523303\n",
       "4       -1.396591\n",
       "5       -0.119677\n",
       "6       -0.687089\n",
       "7        2.142151\n",
       "8       -4.182240\n",
       "9       -1.306008\n",
       "10      -0.090355\n",
       "11      -0.851062"
      ]
     },
     "execution_count": 52,
     "metadata": {},
     "output_type": "execute_result"
    }
   ],
   "source": [
    "xrp_2018 = crypto_data_2018_df['price_close.5'].pct_change().pct_change().dropna()\n",
    "xrp_2018_df = pd.DataFrame(xrp_2018)\n",
    "xrp_2018_df"
   ]
  },
  {
   "cell_type": "code",
   "execution_count": 53,
   "id": "b65dac00",
   "metadata": {},
   "outputs": [
    {
     "data": {
      "text/html": [
       "<div>\n",
       "<style scoped>\n",
       "    .dataframe tbody tr th:only-of-type {\n",
       "        vertical-align: middle;\n",
       "    }\n",
       "\n",
       "    .dataframe tbody tr th {\n",
       "        vertical-align: top;\n",
       "    }\n",
       "\n",
       "    .dataframe thead th {\n",
       "        text-align: right;\n",
       "    }\n",
       "</style>\n",
       "<table border=\"1\" class=\"dataframe\">\n",
       "  <thead>\n",
       "    <tr style=\"text-align: right;\">\n",
       "      <th></th>\n",
       "      <th>price_close.6</th>\n",
       "    </tr>\n",
       "  </thead>\n",
       "  <tbody>\n",
       "    <tr>\n",
       "      <th>2</th>\n",
       "      <td>13.908346</td>\n",
       "    </tr>\n",
       "    <tr>\n",
       "      <th>3</th>\n",
       "      <td>-2.055804</td>\n",
       "    </tr>\n",
       "    <tr>\n",
       "      <th>4</th>\n",
       "      <td>-1.290392</td>\n",
       "    </tr>\n",
       "    <tr>\n",
       "      <th>5</th>\n",
       "      <td>0.815861</td>\n",
       "    </tr>\n",
       "    <tr>\n",
       "      <th>6</th>\n",
       "      <td>-1.786724</td>\n",
       "    </tr>\n",
       "    <tr>\n",
       "      <th>7</th>\n",
       "      <td>-2.252751</td>\n",
       "    </tr>\n",
       "    <tr>\n",
       "      <th>8</th>\n",
       "      <td>-0.525654</td>\n",
       "    </tr>\n",
       "    <tr>\n",
       "      <th>9</th>\n",
       "      <td>-0.156346</td>\n",
       "    </tr>\n",
       "    <tr>\n",
       "      <th>10</th>\n",
       "      <td>1.738457</td>\n",
       "    </tr>\n",
       "    <tr>\n",
       "      <th>11</th>\n",
       "      <td>-0.008948</td>\n",
       "    </tr>\n",
       "  </tbody>\n",
       "</table>\n",
       "</div>"
      ],
      "text/plain": [
       "    price_close.6\n",
       "2       13.908346\n",
       "3       -2.055804\n",
       "4       -1.290392\n",
       "5        0.815861\n",
       "6       -1.786724\n",
       "7       -2.252751\n",
       "8       -0.525654\n",
       "9       -0.156346\n",
       "10       1.738457\n",
       "11      -0.008948"
      ]
     },
     "execution_count": 53,
     "metadata": {},
     "output_type": "execute_result"
    }
   ],
   "source": [
    "zec_2018 = crypto_data_2018_df['price_close.6'].pct_change().pct_change().dropna()\n",
    "zec_2018_df = pd.DataFrame(zec_2018)\n",
    "zec_2018_df"
   ]
  },
  {
   "cell_type": "code",
   "execution_count": 54,
   "id": "2d665b15",
   "metadata": {},
   "outputs": [
    {
     "data": {
      "text/html": [
       "<div>\n",
       "<style scoped>\n",
       "    .dataframe tbody tr th:only-of-type {\n",
       "        vertical-align: middle;\n",
       "    }\n",
       "\n",
       "    .dataframe tbody tr th {\n",
       "        vertical-align: top;\n",
       "    }\n",
       "\n",
       "    .dataframe thead th {\n",
       "        text-align: right;\n",
       "    }\n",
       "</style>\n",
       "<table border=\"1\" class=\"dataframe\">\n",
       "  <thead>\n",
       "    <tr style=\"text-align: right;\">\n",
       "      <th></th>\n",
       "      <th>price_close.7</th>\n",
       "    </tr>\n",
       "  </thead>\n",
       "  <tbody>\n",
       "    <tr>\n",
       "      <th>2</th>\n",
       "      <td>2.079463</td>\n",
       "    </tr>\n",
       "    <tr>\n",
       "      <th>3</th>\n",
       "      <td>-2.168135</td>\n",
       "    </tr>\n",
       "    <tr>\n",
       "      <th>4</th>\n",
       "      <td>-1.638917</td>\n",
       "    </tr>\n",
       "    <tr>\n",
       "      <th>5</th>\n",
       "      <td>-0.398626</td>\n",
       "    </tr>\n",
       "    <tr>\n",
       "      <th>6</th>\n",
       "      <td>-0.582167</td>\n",
       "    </tr>\n",
       "    <tr>\n",
       "      <th>7</th>\n",
       "      <td>0.151232</td>\n",
       "    </tr>\n",
       "    <tr>\n",
       "      <th>8</th>\n",
       "      <td>-0.563862</td>\n",
       "    </tr>\n",
       "    <tr>\n",
       "      <th>9</th>\n",
       "      <td>3.063747</td>\n",
       "    </tr>\n",
       "    <tr>\n",
       "      <th>10</th>\n",
       "      <td>1.196248</td>\n",
       "    </tr>\n",
       "    <tr>\n",
       "      <th>11</th>\n",
       "      <td>-0.619416</td>\n",
       "    </tr>\n",
       "  </tbody>\n",
       "</table>\n",
       "</div>"
      ],
      "text/plain": [
       "    price_close.7\n",
       "2        2.079463\n",
       "3       -2.168135\n",
       "4       -1.638917\n",
       "5       -0.398626\n",
       "6       -0.582167\n",
       "7        0.151232\n",
       "8       -0.563862\n",
       "9        3.063747\n",
       "10       1.196248\n",
       "11      -0.619416"
      ]
     },
     "execution_count": 54,
     "metadata": {},
     "output_type": "execute_result"
    }
   ],
   "source": [
    "dash_2018 = crypto_data_2018_df['price_close.7'].pct_change().pct_change().dropna()\n",
    "dash_2018_df = pd.DataFrame(dash_2018)\n",
    "dash_2018_df"
   ]
  },
  {
   "cell_type": "code",
   "execution_count": 55,
   "id": "fd33fd7b",
   "metadata": {},
   "outputs": [
    {
     "data": {
      "text/html": [
       "<div>\n",
       "<style scoped>\n",
       "    .dataframe tbody tr th:only-of-type {\n",
       "        vertical-align: middle;\n",
       "    }\n",
       "\n",
       "    .dataframe tbody tr th {\n",
       "        vertical-align: top;\n",
       "    }\n",
       "\n",
       "    .dataframe thead th {\n",
       "        text-align: right;\n",
       "    }\n",
       "</style>\n",
       "<table border=\"1\" class=\"dataframe\">\n",
       "  <thead>\n",
       "    <tr style=\"text-align: right;\">\n",
       "      <th></th>\n",
       "      <th>price_close.8</th>\n",
       "    </tr>\n",
       "  </thead>\n",
       "  <tbody>\n",
       "    <tr>\n",
       "      <th>2</th>\n",
       "      <td>1.419133</td>\n",
       "    </tr>\n",
       "    <tr>\n",
       "      <th>3</th>\n",
       "      <td>-1.121861</td>\n",
       "    </tr>\n",
       "    <tr>\n",
       "      <th>4</th>\n",
       "      <td>-1.000000</td>\n",
       "    </tr>\n",
       "  </tbody>\n",
       "</table>\n",
       "</div>"
      ],
      "text/plain": [
       "   price_close.8\n",
       "2       1.419133\n",
       "3      -1.121861\n",
       "4      -1.000000"
      ]
     },
     "execution_count": 55,
     "metadata": {},
     "output_type": "execute_result"
    }
   ],
   "source": [
    "ada_2018 = crypto_data_2018_df['price_close.8'].pct_change().pct_change().dropna()\n",
    "ada_2018_df = pd.DataFrame(ada_2018)\n",
    "ada_2018_df"
   ]
  },
  {
   "cell_type": "code",
   "execution_count": 56,
   "id": "5af4bd6d",
   "metadata": {},
   "outputs": [
    {
     "name": "stdout",
     "output_type": "stream",
     "text": [
      "0.04316067911322884\n"
     ]
    }
   ],
   "source": [
    "# STEP 4: CALCULATE VARIANCE OF BITCOIN FOR DATAFRAME\n",
    "\"\"\"\n",
    "\n",
    "Will need: monthly_returns.var()\n",
    "\n",
    "\"\"\"\n",
    "btc_var_2018 = btc_2018.var()\n",
    "print(btc_var_2018)"
   ]
  },
  {
   "cell_type": "code",
   "execution_count": 57,
   "id": "c454fa74",
   "metadata": {},
   "outputs": [
    {
     "name": "stdout",
     "output_type": "stream",
     "text": [
      "0.11236398859615726\n"
     ]
    }
   ],
   "source": [
    "eth_var_2018 = eth_2018.var()\n",
    "print(eth_var_2018)"
   ]
  },
  {
   "cell_type": "code",
   "execution_count": 58,
   "id": "dfb8ec2d",
   "metadata": {},
   "outputs": [
    {
     "name": "stdout",
     "output_type": "stream",
     "text": [
      "14.3304720618554\n"
     ]
    }
   ],
   "source": [
    "ltc_var_2018 = ltc_2018.var()\n",
    "print(ltc_var_2018)"
   ]
  },
  {
   "cell_type": "code",
   "execution_count": 59,
   "id": "46e4ed90",
   "metadata": {},
   "outputs": [
    {
     "name": "stdout",
     "output_type": "stream",
     "text": [
      "nan\n"
     ]
    }
   ],
   "source": [
    "usdt_var_2018 = usdt_2018.var()\n",
    "print(usdt_var_2018)"
   ]
  },
  {
   "cell_type": "code",
   "execution_count": 60,
   "id": "01cb3697",
   "metadata": {},
   "outputs": [
    {
     "name": "stdout",
     "output_type": "stream",
     "text": [
      "2.0284635863381655\n"
     ]
    }
   ],
   "source": [
    "xlm_var_2018 = xlm_2018.var()\n",
    "print(xlm_var_2018)"
   ]
  },
  {
   "cell_type": "code",
   "execution_count": 61,
   "id": "ccb5d544",
   "metadata": {},
   "outputs": [
    {
     "name": "stdout",
     "output_type": "stream",
     "text": [
      "3.142668039098049\n"
     ]
    }
   ],
   "source": [
    "xrp_var_2018 = xrp_2018.var()\n",
    "print(xrp_var_2018)"
   ]
  },
  {
   "cell_type": "code",
   "execution_count": 62,
   "id": "54f9920e",
   "metadata": {},
   "outputs": [
    {
     "name": "stdout",
     "output_type": "stream",
     "text": [
      "22.72854756260918\n"
     ]
    }
   ],
   "source": [
    "zec_var_2018 = zec_2018.var()\n",
    "print(zec_var_2018)"
   ]
  },
  {
   "cell_type": "code",
   "execution_count": 63,
   "id": "7ceb25ae",
   "metadata": {},
   "outputs": [
    {
     "name": "stdout",
     "output_type": "stream",
     "text": [
      "2.6359887327905804\n"
     ]
    }
   ],
   "source": [
    "dash_var_2018 = dash_2018.var()\n",
    "print(dash_var_2018)"
   ]
  },
  {
   "cell_type": "code",
   "execution_count": 64,
   "id": "d74a4fb3",
   "metadata": {},
   "outputs": [
    {
     "name": "stdout",
     "output_type": "stream",
     "text": [
      "2.053950648998553\n"
     ]
    }
   ],
   "source": [
    "ada_var_2018 = ada_2018.var()\n",
    "print(ada_var_2018)"
   ]
  },
  {
   "cell_type": "code",
   "execution_count": 65,
   "id": "f97a623e",
   "metadata": {
    "scrolled": false
   },
   "outputs": [
    {
     "data": {
      "text/plain": [
       "0.04316067911322885"
      ]
     },
     "execution_count": 65,
     "metadata": {},
     "output_type": "execute_result"
    }
   ],
   "source": [
    "# STEP 5B: CALCULATE COVARIANCE OF EACH CURRENCY RELATIVE TO BITCOIN\n",
    "\"\"\"\n",
    "Use monthly returns of currency and monthly returns of bitcoin as market proxy\n",
    "\n",
    "\"\"\"\n",
    "btc_2018_cov = btc_2018.cov(btc_2018)\n",
    "btc_2018_cov"
   ]
  },
  {
   "cell_type": "code",
   "execution_count": 66,
   "id": "1dafcd91",
   "metadata": {},
   "outputs": [
    {
     "data": {
      "text/plain": [
       "0.05630031129305191"
      ]
     },
     "execution_count": 66,
     "metadata": {},
     "output_type": "execute_result"
    }
   ],
   "source": [
    "eth_2018_cov = eth_2018.cov(btc_2018)\n",
    "eth_2018_cov"
   ]
  },
  {
   "cell_type": "code",
   "execution_count": 67,
   "id": "5f3a37cb",
   "metadata": {},
   "outputs": [
    {
     "data": {
      "text/plain": [
       "-0.02300942183491934"
      ]
     },
     "execution_count": 67,
     "metadata": {},
     "output_type": "execute_result"
    }
   ],
   "source": [
    "ltc_2018_cov = ltc_2018.cov(btc_2018)\n",
    "ltc_2018_cov"
   ]
  },
  {
   "cell_type": "code",
   "execution_count": 68,
   "id": "fc38fd89",
   "metadata": {},
   "outputs": [
    {
     "data": {
      "text/plain": [
       "nan"
      ]
     },
     "execution_count": 68,
     "metadata": {},
     "output_type": "execute_result"
    }
   ],
   "source": [
    "usdt_2018_cov = usdt_2018.cov(btc_2018)\n",
    "usdt_2018_cov"
   ]
  },
  {
   "cell_type": "code",
   "execution_count": 69,
   "id": "b0254f9c",
   "metadata": {},
   "outputs": [
    {
     "data": {
      "text/plain": [
       "-0.25084341989876785"
      ]
     },
     "execution_count": 69,
     "metadata": {},
     "output_type": "execute_result"
    }
   ],
   "source": [
    "xlm_2018_cov = xlm_2018.cov(btc_2018)\n",
    "xlm_2018_cov"
   ]
  },
  {
   "cell_type": "code",
   "execution_count": 70,
   "id": "22b10217",
   "metadata": {},
   "outputs": [
    {
     "data": {
      "text/plain": [
       "-0.16376047874870922"
      ]
     },
     "execution_count": 70,
     "metadata": {},
     "output_type": "execute_result"
    }
   ],
   "source": [
    "xrp_2018_cov = xrp_2018.cov(btc_2018)\n",
    "xrp_2018_cov"
   ]
  },
  {
   "cell_type": "code",
   "execution_count": 71,
   "id": "1dce6525",
   "metadata": {},
   "outputs": [
    {
     "data": {
      "text/plain": [
       "-0.588063974384434"
      ]
     },
     "execution_count": 71,
     "metadata": {},
     "output_type": "execute_result"
    }
   ],
   "source": [
    "zec_2018_cov = zec_2018.cov(btc_2018)\n",
    "zec_2018_cov"
   ]
  },
  {
   "cell_type": "code",
   "execution_count": 72,
   "id": "181d00e1",
   "metadata": {},
   "outputs": [
    {
     "data": {
      "text/plain": [
       "-0.18314324592526818"
      ]
     },
     "execution_count": 72,
     "metadata": {},
     "output_type": "execute_result"
    }
   ],
   "source": [
    "dash_2018_cov = dash_2018.cov(btc_2018)\n",
    "dash_2018_cov"
   ]
  },
  {
   "cell_type": "code",
   "execution_count": 73,
   "id": "ababa30f",
   "metadata": {},
   "outputs": [
    {
     "data": {
      "text/plain": [
       "-0.3494898896678526"
      ]
     },
     "execution_count": 73,
     "metadata": {},
     "output_type": "execute_result"
    }
   ],
   "source": [
    "ada_2018_cov = ada_2018.cov(btc_2018)\n",
    "ada_2018_cov"
   ]
  },
  {
   "cell_type": "code",
   "execution_count": 74,
   "id": "31895dd0",
   "metadata": {},
   "outputs": [
    {
     "data": {
      "text/plain": [
       "1.0000000000000002"
      ]
     },
     "execution_count": 74,
     "metadata": {},
     "output_type": "execute_result"
    }
   ],
   "source": [
    "# STEP 6: CALCULATE BETA OF EACH CURRENCY\n",
    "\n",
    "\"\"\"\n",
    "beta = covariance of asset to market / variance of market\n",
    "\n",
    "use previous calculations for market variance and covariance of assets\n",
    "\"\"\"\n",
    "btc_beta_2018 = btc_2018_cov / btc_var_2018\n",
    "btc_beta_2018\n"
   ]
  },
  {
   "cell_type": "code",
   "execution_count": 75,
   "id": "91ec2938",
   "metadata": {},
   "outputs": [
    {
     "data": {
      "text/plain": [
       "-8.097414054838938"
      ]
     },
     "execution_count": 75,
     "metadata": {},
     "output_type": "execute_result"
    }
   ],
   "source": [
    "ada_beta_2018 = ada_2018_cov / btc_var_2018\n",
    "ada_beta_2018"
   ]
  },
  {
   "cell_type": "code",
   "execution_count": 76,
   "id": "ba03bad0",
   "metadata": {},
   "outputs": [
    {
     "data": {
      "text/plain": [
       "-0.5331107458841374"
      ]
     },
     "execution_count": 76,
     "metadata": {},
     "output_type": "execute_result"
    }
   ],
   "source": [
    "ltc_beta_2018 = ltc_2018_cov / btc_var_2018\n",
    "ltc_beta_2018"
   ]
  },
  {
   "cell_type": "code",
   "execution_count": 77,
   "id": "681722cb",
   "metadata": {},
   "outputs": [
    {
     "data": {
      "text/plain": [
       "nan"
      ]
     },
     "execution_count": 77,
     "metadata": {},
     "output_type": "execute_result"
    }
   ],
   "source": [
    "usdt_beta_2018 = usdt_2018_cov / btc_var_2018\n",
    "usdt_beta_2018"
   ]
  },
  {
   "cell_type": "code",
   "execution_count": 78,
   "id": "71720044",
   "metadata": {},
   "outputs": [
    {
     "data": {
      "text/plain": [
       "-5.811850625443097"
      ]
     },
     "execution_count": 78,
     "metadata": {},
     "output_type": "execute_result"
    }
   ],
   "source": [
    "xlm_beta_2018 = xlm_2018_cov / btc_var_2018\n",
    "xlm_beta_2018"
   ]
  },
  {
   "cell_type": "code",
   "execution_count": 79,
   "id": "58755f6e",
   "metadata": {},
   "outputs": [
    {
     "data": {
      "text/plain": [
       "-3.7942053302520042"
      ]
     },
     "execution_count": 79,
     "metadata": {},
     "output_type": "execute_result"
    }
   ],
   "source": [
    "xrp_beta_2018 = xrp_2018_cov / btc_var_2018\n",
    "xrp_beta_2018"
   ]
  },
  {
   "cell_type": "code",
   "execution_count": 80,
   "id": "8a5aeceb",
   "metadata": {},
   "outputs": [
    {
     "data": {
      "text/plain": [
       "-13.624993546595775"
      ]
     },
     "execution_count": 80,
     "metadata": {},
     "output_type": "execute_result"
    }
   ],
   "source": [
    "zec_beta_2018 = zec_2018_cov / btc_var_2018\n",
    "zec_beta_2018"
   ]
  },
  {
   "cell_type": "code",
   "execution_count": 81,
   "id": "8403615c",
   "metadata": {},
   "outputs": [
    {
     "data": {
      "text/plain": [
       "-4.243289255129778"
      ]
     },
     "execution_count": 81,
     "metadata": {},
     "output_type": "execute_result"
    }
   ],
   "source": [
    "dash_beta_2018 = dash_2018_cov / btc_var_2018\n",
    "dash_beta_2018"
   ]
  },
  {
   "cell_type": "code",
   "execution_count": 82,
   "id": "f5212050",
   "metadata": {},
   "outputs": [
    {
     "data": {
      "text/plain": [
       "-8.097414054838938"
      ]
     },
     "execution_count": 82,
     "metadata": {},
     "output_type": "execute_result"
    }
   ],
   "source": [
    "ada_beta_2018 = ada_2018_cov / btc_var_2018\n",
    "ada_beta_2018"
   ]
  },
  {
   "cell_type": "code",
   "execution_count": 86,
   "id": "8190cf7b",
   "metadata": {},
   "outputs": [
    {
     "data": {
      "text/plain": [
       "<AxesSubplot:>"
      ]
     },
     "execution_count": 86,
     "metadata": {},
     "output_type": "execute_result"
    },
    {
     "data": {
      "image/png": "[encoded data removed]",
      "text/plain": [
       "<Figure size 432x288 with 2 Axes>"
      ]
     },
     "metadata": {
      "needs_background": "light"
     },
     "output_type": "display_data"
    }
   ],
   "source": [
    "# Display Correlation Heatmap With Seaborn\n",
    "\n",
    "\"\"\"\n",
    "NEW CELL to check monthly returns are displayed with pct_change already applied\n",
    "- Take dataframe of daily returns from step 3 (pct_change drop na already applied)\n",
    "\n",
    "NEW CELL to check correlation dataframe\n",
    "- correlation = monthly_returns_dataframe.corr()\n",
    "\n",
    "NEW CELL to display heatmap\n",
    "- sns.heatmap(correlation)\n",
    "\n",
    "\n",
    "\"\"\"\n",
    "monthly_returns_2018_df = pd.concat(\n",
    "    [btc_2018_df, eth_2018_df, ltc_2018_df, usdt_2018_df, xlm_2018_df, xrp_2018_df, zec_2018_df, dash_2018_df, ada_2018_df])\n",
    "correlation = monthly_returns_2018_df.corr()\n",
    "sns.heatmap(correlation)"
   ]
  },
  {
   "cell_type": "code",
   "execution_count": null,
   "id": "275b170f",
   "metadata": {},
   "outputs": [],
   "source": []
  }
 ],
 "metadata": {
  "kernelspec": {
   "display_name": "Python (dev)",
   "language": "python",
   "name": "dev"
  },
  "language_info": {
   "codemirror_mode": {
    "name": "ipython",
    "version": 3
   },
   "file_extension": ".py",
   "mimetype": "text/x-python",
   "name": "python",
   "nbconvert_exporter": "python",
   "pygments_lexer": "ipython3",
   "version": "3.7.10"
  }
 },
 "nbformat": 4,
 "nbformat_minor": 5
}
