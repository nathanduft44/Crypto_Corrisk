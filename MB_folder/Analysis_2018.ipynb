{
 "cells": [
  {
   "cell_type": "code",
   "execution_count": null,
   "id": "dce008b6",
   "metadata": {},
   "outputs": [],
   "source": [
    "# GOAL: HAVE EACH ANALYSIS SECTION COMPUTE A STANDARD SET OF CALCULATIONS FOR RISK METRICS AND CORRELATION\n",
    "\n",
    "\"\"\"\n",
    "For now, we keep it simple. If we need to expand, we can. \n",
    "We are taking what we need to in order to understand how each basket of currencies \n",
    "is correlated to the market proxy (bitcoin)\n",
    "\"\"\""
   ]
  },
  {
   "cell_type": "code",
   "execution_count": 3,
   "id": "4e01ad41",
   "metadata": {},
   "outputs": [],
   "source": [
    "# STEP 1: IMPORT DEPENDENCIES\n",
    "#For basic calculations:\n",
    "import pandas as pd\n",
    "import numpy as np\n",
    "import csv\n",
    "\n",
    "#For Heatmap:\n",
    "import seaborn as sns\n",
    "%matplotlib inline"
   ]
  },
  {
   "cell_type": "code",
   "execution_count": 5,
   "id": "4cb76893",
   "metadata": {},
   "outputs": [],
   "source": [
    "# STEP 2: IMPORT DATA AS DATAFRAME\n",
    "\"\"\"\n",
    "Determnine if we are reading csv data, running individual api calls, or querying an in-house database\n",
    "\"\"\"\n",
    "filename = \"2018_data.csv\"\n",
    "\n",
    "# reading csv file\n",
    "with open(filename, 'r') as csvfile:\n",
    "    # creating a csv reader object\n",
    "    csvreader = csv.reader(csvfile)"
   ]
  },
  {
   "cell_type": "code",
   "execution_count": 10,
   "id": "40ab143d",
   "metadata": {},
   "outputs": [
    {
     "data": {
      "text/html": [
       "<div>\n",
       "<style scoped>\n",
       "    .dataframe tbody tr th:only-of-type {\n",
       "        vertical-align: middle;\n",
       "    }\n",
       "\n",
       "    .dataframe tbody tr th {\n",
       "        vertical-align: top;\n",
       "    }\n",
       "\n",
       "    .dataframe thead th {\n",
       "        text-align: right;\n",
       "    }\n",
       "</style>\n",
       "<table border=\"1\" class=\"dataframe\">\n",
       "  <thead>\n",
       "    <tr style=\"text-align: right;\">\n",
       "      <th></th>\n",
       "      <th>Unnamed: 0</th>\n",
       "      <th>btc_start_date</th>\n",
       "      <th>price_open</th>\n",
       "      <th>price_close</th>\n",
       "      <th>volume_traded</th>\n",
       "      <th>eth_start_date</th>\n",
       "      <th>price_open.1</th>\n",
       "      <th>price_close.1</th>\n",
       "      <th>volume_traded.1</th>\n",
       "      <th>ltc_start_date</th>\n",
       "      <th>...</th>\n",
       "      <th>price_close.6</th>\n",
       "      <th>volume_traded.6</th>\n",
       "      <th>dash_start_date</th>\n",
       "      <th>price_open.7</th>\n",
       "      <th>price_close.7</th>\n",
       "      <th>volume_traded.7</th>\n",
       "      <th>ada_start_date</th>\n",
       "      <th>price_open.8</th>\n",
       "      <th>price_close.8</th>\n",
       "      <th>volume_traded.8</th>\n",
       "    </tr>\n",
       "  </thead>\n",
       "  <tbody>\n",
       "    <tr>\n",
       "      <th>0</th>\n",
       "      <td>0</td>\n",
       "      <td>2018-01-01T00:00:00.0000000Z</td>\n",
       "      <td>13971.1</td>\n",
       "      <td>10101.6</td>\n",
       "      <td>147606.21920</td>\n",
       "      <td>2018-01-01T00:00:00.0000000Z</td>\n",
       "      <td>744.39</td>\n",
       "      <td>1105.30</td>\n",
       "      <td>1379339.521</td>\n",
       "      <td>2018-01-01T00:00:00.0000000Z</td>\n",
       "      <td>...</td>\n",
       "      <td>393.93</td>\n",
       "      <td>102428.97600</td>\n",
       "      <td>2018-01-01T00:00:00.0000000Z</td>\n",
       "      <td>1027.191</td>\n",
       "      <td>689.500</td>\n",
       "      <td>61271.89094</td>\n",
       "      <td>2018-09-01T00:00:00.0000000Z</td>\n",
       "      <td>0.300000</td>\n",
       "      <td>0.085512</td>\n",
       "      <td>7.543098e+06</td>\n",
       "    </tr>\n",
       "    <tr>\n",
       "      <th>1</th>\n",
       "      <td>1</td>\n",
       "      <td>2018-02-01T00:00:00.0000000Z</td>\n",
       "      <td>10105.5</td>\n",
       "      <td>10310.0</td>\n",
       "      <td>311097.47520</td>\n",
       "      <td>2018-02-01T00:00:00.0000000Z</td>\n",
       "      <td>1105.30</td>\n",
       "      <td>850.10</td>\n",
       "      <td>1779320.569</td>\n",
       "      <td>2018-02-01T00:00:00.0000000Z</td>\n",
       "      <td>...</td>\n",
       "      <td>380.30</td>\n",
       "      <td>76193.44256</td>\n",
       "      <td>2018-02-01T00:00:00.0000000Z</td>\n",
       "      <td>689.500</td>\n",
       "      <td>582.368</td>\n",
       "      <td>44776.54752</td>\n",
       "      <td>2018-10-01T00:00:00.0000000Z</td>\n",
       "      <td>0.085500</td>\n",
       "      <td>0.069731</td>\n",
       "      <td>5.972341e+07</td>\n",
       "    </tr>\n",
       "    <tr>\n",
       "      <th>2</th>\n",
       "      <td>2</td>\n",
       "      <td>2018-03-01T00:00:00.0000000Z</td>\n",
       "      <td>10309.0</td>\n",
       "      <td>6911.1</td>\n",
       "      <td>364738.92010</td>\n",
       "      <td>2018-03-01T00:00:00.0000000Z</td>\n",
       "      <td>850.11</td>\n",
       "      <td>392.40</td>\n",
       "      <td>1917408.272</td>\n",
       "      <td>2018-03-01T00:00:00.0000000Z</td>\n",
       "      <td>...</td>\n",
       "      <td>184.13</td>\n",
       "      <td>50285.68862</td>\n",
       "      <td>2018-03-01T00:00:00.0000000Z</td>\n",
       "      <td>580.000</td>\n",
       "      <td>303.719</td>\n",
       "      <td>49763.21180</td>\n",
       "      <td>2018-11-01T00:00:00.0000000Z</td>\n",
       "      <td>0.069638</td>\n",
       "      <td>0.038600</td>\n",
       "      <td>1.265523e+08</td>\n",
       "    </tr>\n",
       "    <tr>\n",
       "      <th>3</th>\n",
       "      <td>3</td>\n",
       "      <td>2018-04-01T00:00:00.0000000Z</td>\n",
       "      <td>6913.8</td>\n",
       "      <td>9243.2</td>\n",
       "      <td>217398.70080</td>\n",
       "      <td>2018-04-01T00:00:00.0000000Z</td>\n",
       "      <td>393.25</td>\n",
       "      <td>669.57</td>\n",
       "      <td>1888070.603</td>\n",
       "      <td>2018-04-01T00:00:00.0000000Z</td>\n",
       "      <td>...</td>\n",
       "      <td>284.41</td>\n",
       "      <td>44602.21027</td>\n",
       "      <td>2018-04-01T00:00:00.0000000Z</td>\n",
       "      <td>303.809</td>\n",
       "      <td>473.475</td>\n",
       "      <td>38776.38426</td>\n",
       "      <td>2018-12-01T00:00:00.0000000Z</td>\n",
       "      <td>0.038637</td>\n",
       "      <td>0.040700</td>\n",
       "      <td>1.601121e+08</td>\n",
       "    </tr>\n",
       "    <tr>\n",
       "      <th>4</th>\n",
       "      <td>4</td>\n",
       "      <td>2018-05-01T00:00:00.0000000Z</td>\n",
       "      <td>9246.5</td>\n",
       "      <td>7485.6</td>\n",
       "      <td>133746.86690</td>\n",
       "      <td>2018-05-01T00:00:00.0000000Z</td>\n",
       "      <td>670.13</td>\n",
       "      <td>577.54</td>\n",
       "      <td>1531224.429</td>\n",
       "      <td>2018-05-01T00:00:00.0000000Z</td>\n",
       "      <td>...</td>\n",
       "      <td>239.43</td>\n",
       "      <td>91506.98776</td>\n",
       "      <td>2018-05-01T00:00:00.0000000Z</td>\n",
       "      <td>473.475</td>\n",
       "      <td>304.394</td>\n",
       "      <td>25859.24255</td>\n",
       "      <td>NaN</td>\n",
       "      <td>NaN</td>\n",
       "      <td>NaN</td>\n",
       "      <td>NaN</td>\n",
       "    </tr>\n",
       "    <tr>\n",
       "      <th>5</th>\n",
       "      <td>5</td>\n",
       "      <td>2018-06-01T00:00:00.0000000Z</td>\n",
       "      <td>7490.9</td>\n",
       "      <td>6387.9</td>\n",
       "      <td>120310.78780</td>\n",
       "      <td>2018-06-01T00:00:00.0000000Z</td>\n",
       "      <td>577.35</td>\n",
       "      <td>453.05</td>\n",
       "      <td>1667017.016</td>\n",
       "      <td>2018-06-01T00:00:00.0000000Z</td>\n",
       "      <td>...</td>\n",
       "      <td>170.67</td>\n",
       "      <td>27875.66694</td>\n",
       "      <td>2018-06-01T00:00:00.0000000Z</td>\n",
       "      <td>305.400</td>\n",
       "      <td>239.024</td>\n",
       "      <td>21546.51809</td>\n",
       "      <td>NaN</td>\n",
       "      <td>NaN</td>\n",
       "      <td>NaN</td>\n",
       "      <td>NaN</td>\n",
       "    </tr>\n",
       "    <tr>\n",
       "      <th>6</th>\n",
       "      <td>6</td>\n",
       "      <td>2018-07-01T00:00:00.0000000Z</td>\n",
       "      <td>6387.0</td>\n",
       "      <td>7726.0</td>\n",
       "      <td>124102.36790</td>\n",
       "      <td>2018-07-01T00:00:00.0000000Z</td>\n",
       "      <td>453.00</td>\n",
       "      <td>431.67</td>\n",
       "      <td>1095661.150</td>\n",
       "      <td>2018-07-01T00:00:00.0000000Z</td>\n",
       "      <td>...</td>\n",
       "      <td>209.23</td>\n",
       "      <td>56803.61617</td>\n",
       "      <td>2018-07-01T00:00:00.0000000Z</td>\n",
       "      <td>239.900</td>\n",
       "      <td>217.576</td>\n",
       "      <td>44737.57765</td>\n",
       "      <td>NaN</td>\n",
       "      <td>NaN</td>\n",
       "      <td>NaN</td>\n",
       "      <td>NaN</td>\n",
       "    </tr>\n",
       "    <tr>\n",
       "      <th>7</th>\n",
       "      <td>7</td>\n",
       "      <td>2018-08-01T00:00:00.0000000Z</td>\n",
       "      <td>7726.0</td>\n",
       "      <td>7015.8</td>\n",
       "      <td>149781.15990</td>\n",
       "      <td>2018-08-01T00:00:00.0000000Z</td>\n",
       "      <td>431.76</td>\n",
       "      <td>281.60</td>\n",
       "      <td>1413788.197</td>\n",
       "      <td>2018-08-01T00:00:00.0000000Z</td>\n",
       "      <td>...</td>\n",
       "      <td>150.01</td>\n",
       "      <td>59883.33471</td>\n",
       "      <td>2018-08-01T00:00:00.0000000Z</td>\n",
       "      <td>218.793</td>\n",
       "      <td>195.100</td>\n",
       "      <td>62024.40518</td>\n",
       "      <td>NaN</td>\n",
       "      <td>NaN</td>\n",
       "      <td>NaN</td>\n",
       "      <td>NaN</td>\n",
       "    </tr>\n",
       "    <tr>\n",
       "      <th>8</th>\n",
       "      <td>8</td>\n",
       "      <td>2018-09-01T00:00:00.0000000Z</td>\n",
       "      <td>7014.8</td>\n",
       "      <td>6604.1</td>\n",
       "      <td>120259.67690</td>\n",
       "      <td>2018-09-01T00:00:00.0000000Z</td>\n",
       "      <td>281.59</td>\n",
       "      <td>231.96</td>\n",
       "      <td>3099220.865</td>\n",
       "      <td>2018-09-01T00:00:00.0000000Z</td>\n",
       "      <td>...</td>\n",
       "      <td>129.87</td>\n",
       "      <td>51178.43574</td>\n",
       "      <td>2018-09-01T00:00:00.0000000Z</td>\n",
       "      <td>194.704</td>\n",
       "      <td>186.310</td>\n",
       "      <td>49986.45950</td>\n",
       "      <td>NaN</td>\n",
       "      <td>NaN</td>\n",
       "      <td>NaN</td>\n",
       "      <td>NaN</td>\n",
       "    </tr>\n",
       "    <tr>\n",
       "      <th>9</th>\n",
       "      <td>9</td>\n",
       "      <td>2018-10-01T00:00:00.0000000Z</td>\n",
       "      <td>6603.8</td>\n",
       "      <td>6307.5</td>\n",
       "      <td>80038.91905</td>\n",
       "      <td>2018-10-01T00:00:00.0000000Z</td>\n",
       "      <td>231.96</td>\n",
       "      <td>196.88</td>\n",
       "      <td>1443435.170</td>\n",
       "      <td>2018-10-01T00:00:00.0000000Z</td>\n",
       "      <td>...</td>\n",
       "      <td>115.16</td>\n",
       "      <td>39803.52398</td>\n",
       "      <td>2018-10-01T00:00:00.0000000Z</td>\n",
       "      <td>187.590</td>\n",
       "      <td>152.199</td>\n",
       "      <td>25417.59634</td>\n",
       "      <td>NaN</td>\n",
       "      <td>NaN</td>\n",
       "      <td>NaN</td>\n",
       "      <td>NaN</td>\n",
       "    </tr>\n",
       "    <tr>\n",
       "      <th>10</th>\n",
       "      <td>10</td>\n",
       "      <td>2018-11-01T00:00:00.0000000Z</td>\n",
       "      <td>6307.5</td>\n",
       "      <td>3969.4</td>\n",
       "      <td>240664.06460</td>\n",
       "      <td>2018-11-01T00:00:00.0000000Z</td>\n",
       "      <td>196.99</td>\n",
       "      <td>111.64</td>\n",
       "      <td>3533781.953</td>\n",
       "      <td>2018-11-01T00:00:00.0000000Z</td>\n",
       "      <td>...</td>\n",
       "      <td>79.44</td>\n",
       "      <td>142754.99620</td>\n",
       "      <td>2018-11-01T00:00:00.0000000Z</td>\n",
       "      <td>151.717</td>\n",
       "      <td>90.999</td>\n",
       "      <td>66444.37651</td>\n",
       "      <td>NaN</td>\n",
       "      <td>NaN</td>\n",
       "      <td>NaN</td>\n",
       "      <td>NaN</td>\n",
       "    </tr>\n",
       "    <tr>\n",
       "      <th>11</th>\n",
       "      <td>11</td>\n",
       "      <td>2018-12-01T00:00:00.0000000Z</td>\n",
       "      <td>3969.4</td>\n",
       "      <td>3691.9</td>\n",
       "      <td>361919.09980</td>\n",
       "      <td>2018-12-01T00:00:00.0000000Z</td>\n",
       "      <td>111.81</td>\n",
       "      <td>130.86</td>\n",
       "      <td>5550937.134</td>\n",
       "      <td>2018-12-01T00:00:00.0000000Z</td>\n",
       "      <td>...</td>\n",
       "      <td>55.02</td>\n",
       "      <td>88363.92152</td>\n",
       "      <td>2018-12-01T00:00:00.0000000Z</td>\n",
       "      <td>90.703</td>\n",
       "      <td>77.073</td>\n",
       "      <td>112577.02020</td>\n",
       "      <td>NaN</td>\n",
       "      <td>NaN</td>\n",
       "      <td>NaN</td>\n",
       "      <td>NaN</td>\n",
       "    </tr>\n",
       "  </tbody>\n",
       "</table>\n",
       "<p>12 rows × 37 columns</p>\n",
       "</div>"
      ],
      "text/plain": [
       "    Unnamed: 0                btc_start_date  price_open  price_close  \\\n",
       "0            0  2018-01-01T00:00:00.0000000Z     13971.1      10101.6   \n",
       "1            1  2018-02-01T00:00:00.0000000Z     10105.5      10310.0   \n",
       "2            2  2018-03-01T00:00:00.0000000Z     10309.0       6911.1   \n",
       "3            3  2018-04-01T00:00:00.0000000Z      6913.8       9243.2   \n",
       "4            4  2018-05-01T00:00:00.0000000Z      9246.5       7485.6   \n",
       "5            5  2018-06-01T00:00:00.0000000Z      7490.9       6387.9   \n",
       "6            6  2018-07-01T00:00:00.0000000Z      6387.0       7726.0   \n",
       "7            7  2018-08-01T00:00:00.0000000Z      7726.0       7015.8   \n",
       "8            8  2018-09-01T00:00:00.0000000Z      7014.8       6604.1   \n",
       "9            9  2018-10-01T00:00:00.0000000Z      6603.8       6307.5   \n",
       "10          10  2018-11-01T00:00:00.0000000Z      6307.5       3969.4   \n",
       "11          11  2018-12-01T00:00:00.0000000Z      3969.4       3691.9   \n",
       "\n",
       "    volume_traded                eth_start_date  price_open.1  price_close.1  \\\n",
       "0    147606.21920  2018-01-01T00:00:00.0000000Z        744.39        1105.30   \n",
       "1    311097.47520  2018-02-01T00:00:00.0000000Z       1105.30         850.10   \n",
       "2    364738.92010  2018-03-01T00:00:00.0000000Z        850.11         392.40   \n",
       "3    217398.70080  2018-04-01T00:00:00.0000000Z        393.25         669.57   \n",
       "4    133746.86690  2018-05-01T00:00:00.0000000Z        670.13         577.54   \n",
       "5    120310.78780  2018-06-01T00:00:00.0000000Z        577.35         453.05   \n",
       "6    124102.36790  2018-07-01T00:00:00.0000000Z        453.00         431.67   \n",
       "7    149781.15990  2018-08-01T00:00:00.0000000Z        431.76         281.60   \n",
       "8    120259.67690  2018-09-01T00:00:00.0000000Z        281.59         231.96   \n",
       "9     80038.91905  2018-10-01T00:00:00.0000000Z        231.96         196.88   \n",
       "10   240664.06460  2018-11-01T00:00:00.0000000Z        196.99         111.64   \n",
       "11   361919.09980  2018-12-01T00:00:00.0000000Z        111.81         130.86   \n",
       "\n",
       "    volume_traded.1                ltc_start_date  ...  price_close.6  \\\n",
       "0       1379339.521  2018-01-01T00:00:00.0000000Z  ...         393.93   \n",
       "1       1779320.569  2018-02-01T00:00:00.0000000Z  ...         380.30   \n",
       "2       1917408.272  2018-03-01T00:00:00.0000000Z  ...         184.13   \n",
       "3       1888070.603  2018-04-01T00:00:00.0000000Z  ...         284.41   \n",
       "4       1531224.429  2018-05-01T00:00:00.0000000Z  ...         239.43   \n",
       "5       1667017.016  2018-06-01T00:00:00.0000000Z  ...         170.67   \n",
       "6       1095661.150  2018-07-01T00:00:00.0000000Z  ...         209.23   \n",
       "7       1413788.197  2018-08-01T00:00:00.0000000Z  ...         150.01   \n",
       "8       3099220.865  2018-09-01T00:00:00.0000000Z  ...         129.87   \n",
       "9       1443435.170  2018-10-01T00:00:00.0000000Z  ...         115.16   \n",
       "10      3533781.953  2018-11-01T00:00:00.0000000Z  ...          79.44   \n",
       "11      5550937.134  2018-12-01T00:00:00.0000000Z  ...          55.02   \n",
       "\n",
       "    volume_traded.6               dash_start_date price_open.7  price_close.7  \\\n",
       "0      102428.97600  2018-01-01T00:00:00.0000000Z     1027.191        689.500   \n",
       "1       76193.44256  2018-02-01T00:00:00.0000000Z      689.500        582.368   \n",
       "2       50285.68862  2018-03-01T00:00:00.0000000Z      580.000        303.719   \n",
       "3       44602.21027  2018-04-01T00:00:00.0000000Z      303.809        473.475   \n",
       "4       91506.98776  2018-05-01T00:00:00.0000000Z      473.475        304.394   \n",
       "5       27875.66694  2018-06-01T00:00:00.0000000Z      305.400        239.024   \n",
       "6       56803.61617  2018-07-01T00:00:00.0000000Z      239.900        217.576   \n",
       "7       59883.33471  2018-08-01T00:00:00.0000000Z      218.793        195.100   \n",
       "8       51178.43574  2018-09-01T00:00:00.0000000Z      194.704        186.310   \n",
       "9       39803.52398  2018-10-01T00:00:00.0000000Z      187.590        152.199   \n",
       "10     142754.99620  2018-11-01T00:00:00.0000000Z      151.717         90.999   \n",
       "11      88363.92152  2018-12-01T00:00:00.0000000Z       90.703         77.073   \n",
       "\n",
       "    volume_traded.7                ada_start_date price_open.8  price_close.8  \\\n",
       "0       61271.89094  2018-09-01T00:00:00.0000000Z     0.300000       0.085512   \n",
       "1       44776.54752  2018-10-01T00:00:00.0000000Z     0.085500       0.069731   \n",
       "2       49763.21180  2018-11-01T00:00:00.0000000Z     0.069638       0.038600   \n",
       "3       38776.38426  2018-12-01T00:00:00.0000000Z     0.038637       0.040700   \n",
       "4       25859.24255                           NaN          NaN            NaN   \n",
       "5       21546.51809                           NaN          NaN            NaN   \n",
       "6       44737.57765                           NaN          NaN            NaN   \n",
       "7       62024.40518                           NaN          NaN            NaN   \n",
       "8       49986.45950                           NaN          NaN            NaN   \n",
       "9       25417.59634                           NaN          NaN            NaN   \n",
       "10      66444.37651                           NaN          NaN            NaN   \n",
       "11     112577.02020                           NaN          NaN            NaN   \n",
       "\n",
       "    volume_traded.8  \n",
       "0      7.543098e+06  \n",
       "1      5.972341e+07  \n",
       "2      1.265523e+08  \n",
       "3      1.601121e+08  \n",
       "4               NaN  \n",
       "5               NaN  \n",
       "6               NaN  \n",
       "7               NaN  \n",
       "8               NaN  \n",
       "9               NaN  \n",
       "10              NaN  \n",
       "11              NaN  \n",
       "\n",
       "[12 rows x 37 columns]"
      ]
     },
     "execution_count": 10,
     "metadata": {},
     "output_type": "execute_result"
    }
   ],
   "source": [
    "# Convert the csv file into a dataframe\n",
    "crypto_data_2018_df = pd.read_csv(filename)\n",
    "crypto_data_2018_df"
   ]
  },
  {
   "cell_type": "code",
   "execution_count": 15,
   "id": "5342e834",
   "metadata": {},
   "outputs": [
    {
     "name": "stdout",
     "output_type": "stream",
     "text": [
      "0          NaN\n",
      "1     0.020630\n",
      "2    -0.329670\n",
      "3     0.337443\n",
      "4    -0.190151\n",
      "5    -0.146642\n",
      "6     0.209474\n",
      "7    -0.091923\n",
      "8    -0.058682\n",
      "9    -0.044911\n",
      "10   -0.370686\n",
      "11   -0.069910\n",
      "Name: price_close, dtype: float64\n"
     ]
    }
   ],
   "source": [
    "# STEP 3: CALCULATE Monthly RETURNS FOR EACH CURRENCY IN Designated Time range from  DATAFRAME, DROP NULL VALUES\n",
    "\"\"\"\n",
    "\n",
    "Will need: .pct_change().dropna(inplace = True)\n",
    "\n",
    "\"\"\"\n",
    "btc_2018 = crypto_data_2018_df['price_close'].pct_change()\n",
    "print(btc_2018)"
   ]
  },
  {
   "cell_type": "code",
   "execution_count": 17,
   "id": "9e083d02",
   "metadata": {},
   "outputs": [
    {
     "name": "stdout",
     "output_type": "stream",
     "text": [
      "0          NaN\n",
      "1    -0.230888\n",
      "2    -0.538407\n",
      "3     0.706346\n",
      "4    -0.137446\n",
      "5    -0.215552\n",
      "6    -0.047191\n",
      "7    -0.347650\n",
      "8    -0.176278\n",
      "9    -0.151233\n",
      "10   -0.432954\n",
      "11    0.172161\n",
      "Name: price_close.1, dtype: float64\n"
     ]
    }
   ],
   "source": [
    "eth_2018 = crypto_data_2018_df['price_close.1'].pct_change()\n",
    "print(eth_2018)"
   ]
  },
  {
   "cell_type": "code",
   "execution_count": 21,
   "id": "342773a8",
   "metadata": {},
   "outputs": [
    {
     "name": "stdout",
     "output_type": "stream",
     "text": [
      "0          NaN\n",
      "1     0.243623\n",
      "2    -0.426080\n",
      "3     0.280905\n",
      "4    -0.203531\n",
      "5    -0.314097\n",
      "6    -0.028497\n",
      "7    -0.210667\n",
      "8    -0.019305\n",
      "9    -0.189304\n",
      "10   -0.359571\n",
      "11   -0.059400\n",
      "Name: price_close.2, dtype: float64\n"
     ]
    }
   ],
   "source": [
    "ltc_2018 = crypto_data_2018_df['price_close.2'].pct_change()\n",
    "print(ltc_2018)"
   ]
  },
  {
   "cell_type": "code",
   "execution_count": 19,
   "id": "f6c04e76",
   "metadata": {},
   "outputs": [
    {
     "name": "stdout",
     "output_type": "stream",
     "text": [
      "0          NaN\n",
      "1     0.015127\n",
      "2    -0.002700\n",
      "3     0.003008\n",
      "4    -0.001500\n",
      "5     0.000000\n",
      "6    -0.000701\n",
      "7     0.001804\n",
      "8    -0.003401\n",
      "9    -0.004516\n",
      "10   -0.007561\n",
      "11    0.014933\n",
      "Name: price_close.3, dtype: float64\n"
     ]
    }
   ],
   "source": [
    "usdt_2018 = crypto_data_2018_df['price_close.3'].pct_change()\n",
    "print(usdt_2018)"
   ]
  },
  {
   "cell_type": "code",
   "execution_count": 22,
   "id": "cc7542c8",
   "metadata": {},
   "outputs": [
    {
     "name": "stdout",
     "output_type": "stream",
     "text": [
      "0           NaN\n",
      "1     18.343552\n",
      "2     -0.381932\n",
      "3      1.078808\n",
      "4     -0.300387\n",
      "5     -0.352685\n",
      "6      0.432930\n",
      "7     -0.188038\n",
      "8      0.162308\n",
      "9     -0.133947\n",
      "10    -0.303066\n",
      "11    -0.302504\n",
      "Name: price_close.4, dtype: float64\n"
     ]
    }
   ],
   "source": [
    "xlm_2018 = crypto_data_2018_df['price_close.4'].pct_change()\n",
    "print(xlm_2018)"
   ]
  },
  {
   "cell_type": "code",
   "execution_count": 23,
   "id": "62f50975",
   "metadata": {},
   "outputs": [
    {
     "name": "stdout",
     "output_type": "stream",
     "text": [
      "0          NaN\n",
      "1    -0.208204\n",
      "2    -0.438076\n",
      "3     0.667322\n",
      "4    -0.264654\n",
      "5    -0.232981\n",
      "6    -0.072902\n",
      "7    -0.229070\n",
      "8     0.728955\n",
      "9    -0.223066\n",
      "10   -0.202911\n",
      "11   -0.030221\n",
      "Name: price_close.5, dtype: float64\n"
     ]
    }
   ],
   "source": [
    "xrp_2018 = crypto_data_2018_df['price_close.5'].pct_change()\n",
    "print(xrp_2018)"
   ]
  },
  {
   "cell_type": "code",
   "execution_count": 24,
   "id": "b65dac00",
   "metadata": {},
   "outputs": [
    {
     "name": "stdout",
     "output_type": "stream",
     "text": [
      "0          NaN\n",
      "1    -0.034600\n",
      "2    -0.515830\n",
      "3     0.544615\n",
      "4    -0.158152\n",
      "5    -0.287182\n",
      "6     0.225933\n",
      "7    -0.283038\n",
      "8    -0.134258\n",
      "9    -0.113267\n",
      "10   -0.310177\n",
      "11   -0.307402\n",
      "Name: price_close.6, dtype: float64\n"
     ]
    }
   ],
   "source": [
    "zec_2018 = crypto_data_2018_df['price_close.6'].pct_change()\n",
    "print(zec_2018)"
   ]
  },
  {
   "cell_type": "code",
   "execution_count": 25,
   "id": "2d665b15",
   "metadata": {},
   "outputs": [
    {
     "name": "stdout",
     "output_type": "stream",
     "text": [
      "0          NaN\n",
      "1    -0.155376\n",
      "2    -0.478476\n",
      "3     0.558925\n",
      "4    -0.357106\n",
      "5    -0.214755\n",
      "6    -0.089732\n",
      "7    -0.103302\n",
      "8    -0.045054\n",
      "9    -0.183087\n",
      "10   -0.402105\n",
      "11   -0.153035\n",
      "Name: price_close.7, dtype: float64\n"
     ]
    }
   ],
   "source": [
    "dash_2018 = crypto_data_2018_df['price_close.7'].pct_change()\n",
    "print(dash_2018)"
   ]
  },
  {
   "cell_type": "code",
   "execution_count": 26,
   "id": "fd33fd7b",
   "metadata": {},
   "outputs": [
    {
     "name": "stdout",
     "output_type": "stream",
     "text": [
      "0          NaN\n",
      "1    -0.184547\n",
      "2    -0.446444\n",
      "3     0.054404\n",
      "4     0.000000\n",
      "5     0.000000\n",
      "6     0.000000\n",
      "7     0.000000\n",
      "8     0.000000\n",
      "9     0.000000\n",
      "10    0.000000\n",
      "11    0.000000\n",
      "Name: price_close.8, dtype: float64\n"
     ]
    }
   ],
   "source": [
    "ada_2018 = crypto_data_2018_df['price_close.8'].pct_change()\n",
    "print(ada_2018)"
   ]
  },
  {
   "cell_type": "code",
   "execution_count": 27,
   "id": "5af4bd6d",
   "metadata": {},
   "outputs": [
    {
     "name": "stdout",
     "output_type": "stream",
     "text": [
      "0.04316067911322884\n"
     ]
    }
   ],
   "source": [
    "# STEP 4: CALCULATE VARIANCE OF BITCOIN FOR DATAFRAME\n",
    "\"\"\"\n",
    "\n",
    "Will need: monthly_returns.var()\n",
    "\n",
    "\"\"\"\n",
    "btc_var_2018 = btc_2018.var()\n",
    "print(btc_var_2018)"
   ]
  },
  {
   "cell_type": "code",
   "execution_count": 28,
   "id": "c454fa74",
   "metadata": {},
   "outputs": [
    {
     "name": "stdout",
     "output_type": "stream",
     "text": [
      "0.11236398859615726\n"
     ]
    }
   ],
   "source": [
    "eth_var_2018 = eth_2018.var()\n",
    "print(eth_var_2018)"
   ]
  },
  {
   "cell_type": "code",
   "execution_count": 29,
   "id": "dfb8ec2d",
   "metadata": {},
   "outputs": [
    {
     "name": "stdout",
     "output_type": "stream",
     "text": [
      "0.052377929254903186\n"
     ]
    }
   ],
   "source": [
    "ltc_var_2018 = ltc_2018.var()\n",
    "print(ltc_var_2018)"
   ]
  },
  {
   "cell_type": "code",
   "execution_count": 30,
   "id": "46e4ed90",
   "metadata": {},
   "outputs": [
    {
     "name": "stdout",
     "output_type": "stream",
     "text": [
      "0.052377929254903186\n"
     ]
    }
   ],
   "source": [
    "usdt_var_2018 = usdt_2018.var()\n",
    "print(usdt_var_2018)"
   ]
  },
  {
   "cell_type": "code",
   "execution_count": 31,
   "id": "01cb3697",
   "metadata": {},
   "outputs": [
    {
     "name": "stdout",
     "output_type": "stream",
     "text": [
      "30.882570214783176\n"
     ]
    }
   ],
   "source": [
    "xlm_var_2018 = xlm_2018.var()\n",
    "print(xlm_var_2018)"
   ]
  },
  {
   "cell_type": "code",
   "execution_count": 32,
   "id": "ccb5d544",
   "metadata": {},
   "outputs": [
    {
     "name": "stdout",
     "output_type": "stream",
     "text": [
      "0.1462649663944814\n"
     ]
    }
   ],
   "source": [
    "xrp_var_2018 = xrp_2018.var()\n",
    "print(xrp_var_2018)"
   ]
  },
  {
   "cell_type": "code",
   "execution_count": 33,
   "id": "54f9920e",
   "metadata": {},
   "outputs": [
    {
     "name": "stdout",
     "output_type": "stream",
     "text": [
      "0.08526206409013068\n"
     ]
    }
   ],
   "source": [
    "zec_var_2018 = zec_2018.var()\n",
    "print(zec_var_2018)"
   ]
  },
  {
   "cell_type": "code",
   "execution_count": 34,
   "id": "7ceb25ae",
   "metadata": {},
   "outputs": [
    {
     "name": "stdout",
     "output_type": "stream",
     "text": [
      "0.07390074264025505\n"
     ]
    }
   ],
   "source": [
    "dash_var_2018 = dash_2018.var()\n",
    "print(dash_var_2018)"
   ]
  },
  {
   "cell_type": "code",
   "execution_count": 35,
   "id": "d74a4fb3",
   "metadata": {},
   "outputs": [
    {
     "name": "stdout",
     "output_type": "stream",
     "text": [
      "0.020610690995941032\n"
     ]
    }
   ],
   "source": [
    "ada_var_2018 = ada_2018.var()\n",
    "print(ada_var_2018)"
   ]
  },
  {
   "cell_type": "code",
   "execution_count": 40,
   "id": "f97a623e",
   "metadata": {
    "scrolled": false
   },
   "outputs": [
    {
     "data": {
      "text/plain": [
       "0.04316067911322885"
      ]
     },
     "execution_count": 40,
     "metadata": {},
     "output_type": "execute_result"
    }
   ],
   "source": [
    "# STEP 5B: CALCULATE COVARIANCE OF EACH CURRENCY RELATIVE TO BITCOIN\n",
    "\"\"\"\n",
    "Use monthly returns of currency and monthly returns of bitcoin as market proxy\n",
    "\n",
    "\"\"\"\n",
    "btc_2018_cov = btc_2018.cov(btc_2018)\n",
    "btc_2018_cov"
   ]
  },
  {
   "cell_type": "code",
   "execution_count": 41,
   "id": "1dafcd91",
   "metadata": {},
   "outputs": [
    {
     "data": {
      "text/plain": [
       "0.05630031129305191"
      ]
     },
     "execution_count": 41,
     "metadata": {},
     "output_type": "execute_result"
    }
   ],
   "source": [
    "eth_2018_cov = eth_2018.cov(btc_2018)\n",
    "eth_2018_cov"
   ]
  },
  {
   "cell_type": "code",
   "execution_count": 42,
   "id": "5f3a37cb",
   "metadata": {},
   "outputs": [
    {
     "data": {
      "text/plain": [
       "0.03995870838063431"
      ]
     },
     "execution_count": 42,
     "metadata": {},
     "output_type": "execute_result"
    }
   ],
   "source": [
    "ltc_2018_cov = ltc_2018.cov(btc_2018)\n",
    "ltc_2018_cov"
   ]
  },
  {
   "cell_type": "code",
   "execution_count": 43,
   "id": "fc38fd89",
   "metadata": {},
   "outputs": [
    {
     "data": {
      "text/plain": [
       "0.03995870838063431"
      ]
     },
     "execution_count": 43,
     "metadata": {},
     "output_type": "execute_result"
    }
   ],
   "source": [
    "usdt_2018_cov = usdt_2018.cov(btc_2018)\n",
    "usdt_2018_cov"
   ]
  },
  {
   "cell_type": "code",
   "execution_count": 44,
   "id": "b0254f9c",
   "metadata": {},
   "outputs": [
    {
     "data": {
      "text/plain": [
       "0.24216236081323933"
      ]
     },
     "execution_count": 44,
     "metadata": {},
     "output_type": "execute_result"
    }
   ],
   "source": [
    "xlm_2018_cov = xlm_2018.cov(btc_2018)\n",
    "xlm_2018_cov"
   ]
  },
  {
   "cell_type": "code",
   "execution_count": 45,
   "id": "22b10217",
   "metadata": {},
   "outputs": [
    {
     "data": {
      "text/plain": [
       "0.04663550473760388"
      ]
     },
     "execution_count": 45,
     "metadata": {},
     "output_type": "execute_result"
    }
   ],
   "source": [
    "xrp_2018_cov = xrp_2018.cov(btc_2018)\n",
    "xrp_2018_cov"
   ]
  },
  {
   "cell_type": "code",
   "execution_count": 46,
   "id": "1dce6525",
   "metadata": {},
   "outputs": [
    {
     "data": {
      "text/plain": [
       "0.05563121917637043"
      ]
     },
     "execution_count": 46,
     "metadata": {},
     "output_type": "execute_result"
    }
   ],
   "source": [
    "zec_2018_cov = zec_2018.cov(btc_2018)\n",
    "zec_2018_cov"
   ]
  },
  {
   "cell_type": "code",
   "execution_count": 47,
   "id": "181d00e1",
   "metadata": {},
   "outputs": [
    {
     "data": {
      "text/plain": [
       "0.04953970781661607"
      ]
     },
     "execution_count": 47,
     "metadata": {},
     "output_type": "execute_result"
    }
   ],
   "source": [
    "dash_2018_cov = dash_2018.cov(btc_2018)\n",
    "dash_2018_cov"
   ]
  },
  {
   "cell_type": "code",
   "execution_count": 48,
   "id": "ababa30f",
   "metadata": {},
   "outputs": [
    {
     "data": {
      "text/plain": [
       "0.012320240941611915"
      ]
     },
     "execution_count": 48,
     "metadata": {},
     "output_type": "execute_result"
    }
   ],
   "source": [
    "ada_2018_cov = ada_2018.cov(btc_2018)\n",
    "ada_2018_cov"
   ]
  },
  {
   "cell_type": "code",
   "execution_count": 50,
   "id": "31895dd0",
   "metadata": {},
   "outputs": [
    {
     "data": {
      "text/plain": [
       "1.0000000000000002"
      ]
     },
     "execution_count": 50,
     "metadata": {},
     "output_type": "execute_result"
    }
   ],
   "source": [
    "# STEP 6: CALCULATE BETA OF EACH CURRENCY\n",
    "\n",
    "\"\"\"\n",
    "beta = covariance of asset to market / variance of market\n",
    "\n",
    "use previous calculations for market variance and covariance of assets\n",
    "\"\"\"\n",
    "btc_beta_2018 = btc_2018_cov / btc_var_2018\n",
    "btc_beta_2018\n",
    "\n",
    "# # Calculate the beta based on the 60-day rolling covariance compared to the market (S&P 500)\n",
    "# # Review the last five rows of the beta information\n",
    "# Tiger_beta = Tiger_cov / SP500_var\n",
    "\n",
    "# Tiger_beta.tail()\n",
    "# # The first 60 days will be NaN values due to the use of the 60 day window for the rolling period."
   ]
  },
  {
   "cell_type": "code",
   "execution_count": null,
   "id": "8190cf7b",
   "metadata": {},
   "outputs": [],
   "source": [
    "# Display Correlation Heatmap With Seaborn\n",
    "\n",
    "\"\"\"\n",
    "NEW CELL to check monthly returns are displayed with pct_change already applied\n",
    "- Take dataframe of daily returns from step 3 (pct_change drop na already applied)\n",
    "\n",
    "NEW CELL to check correlation dataframe\n",
    "- correlation = monthly_returns_dataframe.corr()\n",
    "\n",
    "NEW CELL to display heatmap\n",
    "- sns.heatmap(correlation)\n",
    "\n",
    "\n",
    "\"\"\""
   ]
  }
 ],
 "metadata": {
  "kernelspec": {
   "display_name": "Python (dev)",
   "language": "python",
   "name": "dev"
  },
  "language_info": {
   "codemirror_mode": {
    "name": "ipython",
    "version": 3
   },
   "file_extension": ".py",
   "mimetype": "text/x-python",
   "name": "python",
   "nbconvert_exporter": "python",
   "pygments_lexer": "ipython3",
   "version": "3.7.10"
  }
 },
 "nbformat": 4,
 "nbformat_minor": 5
}
