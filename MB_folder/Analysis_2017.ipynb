{
 "cells": [
  {
   "cell_type": "code",
   "execution_count": 1,
   "id": "5f659733",
   "metadata": {},
   "outputs": [
    {
     "data": {
      "text/plain": [
       "'\\nFor now, we keep it simple. If we need to expand, we can. \\nWe are taking what we need to in order to understand how each basket of currencies \\nis correlated to the market proxy (bitcoin)\\n'"
      ]
     },
     "execution_count": 1,
     "metadata": {},
     "output_type": "execute_result"
    }
   ],
   "source": [
    "# GOAL: HAVE EACH ANALYSIS SECTION COMPUTE A STANDARD SET OF CALCULATIONS FOR RISK METRICS AND CORRELATION\n",
    "\n",
    "\"\"\"\n",
    "For now, we keep it simple. If we need to expand, we can. \n",
    "We are taking what we need to in order to understand how each basket of currencies \n",
    "is correlated to the market proxy (bitcoin)\n",
    "\"\"\""
   ]
  },
  {
   "cell_type": "code",
   "execution_count": 2,
   "id": "a6807ecc",
   "metadata": {},
   "outputs": [],
   "source": [
    "# STEP 1: IMPORT DEPENDENCIES\n",
    "#For basic calculations:\n",
    "import pandas as pd\n",
    "import numpy as np\n",
    "import csv\n",
    "from pathlib import Path\n",
    "\n",
    "#For Heatmap:\n",
    "import seaborn as sns\n",
    "%matplotlib inline"
   ]
  },
  {
   "cell_type": "code",
   "execution_count": 3,
   "id": "4abacb2b",
   "metadata": {},
   "outputs": [],
   "source": [
    "# STEP 2: IMPORT DATA AS DATAFRAME\n",
    "\"\"\"\n",
    "Determnine if we are reading csv data, running individual api calls, or querying an in-house database\n",
    "\"\"\"\n",
    "#reading in csv data\n",
    "df_2017 = pd.read_csv(\n",
    "    Path('2017_data.csv')\n",
    ").set_index('Month')"
   ]
  },
  {
   "cell_type": "code",
   "execution_count": 4,
   "id": "165edbe3",
   "metadata": {},
   "outputs": [
    {
     "data": {
      "text/html": [
       "<div>\n",
       "<style scoped>\n",
       "    .dataframe tbody tr th:only-of-type {\n",
       "        vertical-align: middle;\n",
       "    }\n",
       "\n",
       "    .dataframe tbody tr th {\n",
       "        vertical-align: top;\n",
       "    }\n",
       "\n",
       "    .dataframe thead th {\n",
       "        text-align: right;\n",
       "    }\n",
       "</style>\n",
       "<table border=\"1\" class=\"dataframe\">\n",
       "  <thead>\n",
       "    <tr style=\"text-align: right;\">\n",
       "      <th></th>\n",
       "      <th>price_open</th>\n",
       "      <th>price_close</th>\n",
       "      <th>volume_traded</th>\n",
       "      <th>price_open.1</th>\n",
       "      <th>price_close.1</th>\n",
       "      <th>volume_traded.1</th>\n",
       "      <th>price_open.2</th>\n",
       "      <th>price_close.2</th>\n",
       "      <th>volume_traded.2</th>\n",
       "      <th>price_open.3</th>\n",
       "      <th>...</th>\n",
       "      <th>volume_traded.4</th>\n",
       "      <th>price_open.5</th>\n",
       "      <th>price_close.5</th>\n",
       "      <th>volume_traded.5</th>\n",
       "      <th>price_open.6</th>\n",
       "      <th>price_close.6</th>\n",
       "      <th>volume_traded.6</th>\n",
       "      <th>price_open.7</th>\n",
       "      <th>price_close.7</th>\n",
       "      <th>volume_traded.7</th>\n",
       "    </tr>\n",
       "  </thead>\n",
       "  <tbody>\n",
       "    <tr>\n",
       "      <th>count</th>\n",
       "      <td>12.000000</td>\n",
       "      <td>12.000000</td>\n",
       "      <td>12.000000</td>\n",
       "      <td>12.000000</td>\n",
       "      <td>12.000000</td>\n",
       "      <td>1.200000e+01</td>\n",
       "      <td>12.000000</td>\n",
       "      <td>12.000000</td>\n",
       "      <td>1.200000e+01</td>\n",
       "      <td>12.000000</td>\n",
       "      <td>...</td>\n",
       "      <td>1.200000e+01</td>\n",
       "      <td>12.000000</td>\n",
       "      <td>12.000000</td>\n",
       "      <td>1.200000e+01</td>\n",
       "      <td>12.000000</td>\n",
       "      <td>12.000000</td>\n",
       "      <td>12.000000</td>\n",
       "      <td>12.000000</td>\n",
       "      <td>12.000000</td>\n",
       "      <td>12.000000</td>\n",
       "    </tr>\n",
       "    <tr>\n",
       "      <th>mean</th>\n",
       "      <td>3230.446583</td>\n",
       "      <td>4315.245000</td>\n",
       "      <td>153167.049684</td>\n",
       "      <td>192.186144</td>\n",
       "      <td>253.682859</td>\n",
       "      <td>2.085694e+06</td>\n",
       "      <td>34.520968</td>\n",
       "      <td>53.348248</td>\n",
       "      <td>1.103780e+06</td>\n",
       "      <td>0.751333</td>\n",
       "      <td>...</td>\n",
       "      <td>1.125174e+08</td>\n",
       "      <td>0.157364</td>\n",
       "      <td>0.295553</td>\n",
       "      <td>2.048826e+08</td>\n",
       "      <td>174.007163</td>\n",
       "      <td>209.402351</td>\n",
       "      <td>57949.390687</td>\n",
       "      <td>202.731526</td>\n",
       "      <td>282.253560</td>\n",
       "      <td>40871.196191</td>\n",
       "    </tr>\n",
       "    <tr>\n",
       "      <th>std</th>\n",
       "      <td>2781.201663</td>\n",
       "      <td>4062.339607</td>\n",
       "      <td>70533.769640</td>\n",
       "      <td>155.031003</td>\n",
       "      <td>211.450143</td>\n",
       "      <td>1.203900e+06</td>\n",
       "      <td>29.001659</td>\n",
       "      <td>62.102410</td>\n",
       "      <td>6.887225e+05</td>\n",
       "      <td>0.453774</td>\n",
       "      <td>...</td>\n",
       "      <td>2.085162e+08</td>\n",
       "      <td>0.122979</td>\n",
       "      <td>0.544850</td>\n",
       "      <td>1.902761e+08</td>\n",
       "      <td>110.576181</td>\n",
       "      <td>133.318216</td>\n",
       "      <td>35973.542518</td>\n",
       "      <td>222.668623</td>\n",
       "      <td>321.082287</td>\n",
       "      <td>31104.998764</td>\n",
       "    </tr>\n",
       "    <tr>\n",
       "      <th>min</th>\n",
       "      <td>968.166000</td>\n",
       "      <td>969.739000</td>\n",
       "      <td>61053.175220</td>\n",
       "      <td>8.099990</td>\n",
       "      <td>10.669110</td>\n",
       "      <td>5.982336e+05</td>\n",
       "      <td>3.770000</td>\n",
       "      <td>3.770000</td>\n",
       "      <td>7.074980e+04</td>\n",
       "      <td>0.000000</td>\n",
       "      <td>...</td>\n",
       "      <td>0.000000e+00</td>\n",
       "      <td>0.000000</td>\n",
       "      <td>0.000000</td>\n",
       "      <td>0.000000e+00</td>\n",
       "      <td>36.916460</td>\n",
       "      <td>36.874790</td>\n",
       "      <td>4937.523761</td>\n",
       "      <td>0.000000</td>\n",
       "      <td>0.000000</td>\n",
       "      <td>0.000000</td>\n",
       "    </tr>\n",
       "    <tr>\n",
       "      <th>25%</th>\n",
       "      <td>1156.506000</td>\n",
       "      <td>1308.037750</td>\n",
       "      <td>90726.607107</td>\n",
       "      <td>41.174997</td>\n",
       "      <td>71.199625</td>\n",
       "      <td>9.933014e+05</td>\n",
       "      <td>6.397813</td>\n",
       "      <td>13.510970</td>\n",
       "      <td>6.920303e+05</td>\n",
       "      <td>0.701325</td>\n",
       "      <td>...</td>\n",
       "      <td>0.000000e+00</td>\n",
       "      <td>0.000000</td>\n",
       "      <td>0.000000</td>\n",
       "      <td>0.000000e+00</td>\n",
       "      <td>59.575208</td>\n",
       "      <td>85.097340</td>\n",
       "      <td>25839.357885</td>\n",
       "      <td>53.635005</td>\n",
       "      <td>69.622372</td>\n",
       "      <td>6863.210061</td>\n",
       "    </tr>\n",
       "    <tr>\n",
       "      <th>50%</th>\n",
       "      <td>2367.330500</td>\n",
       "      <td>2660.566500</td>\n",
       "      <td>144049.895950</td>\n",
       "      <td>214.589105</td>\n",
       "      <td>254.250000</td>\n",
       "      <td>2.023284e+06</td>\n",
       "      <td>32.422965</td>\n",
       "      <td>40.697525</td>\n",
       "      <td>1.134165e+06</td>\n",
       "      <td>1.000350</td>\n",
       "      <td>...</td>\n",
       "      <td>1.371653e+07</td>\n",
       "      <td>0.199025</td>\n",
       "      <td>0.199045</td>\n",
       "      <td>2.087990e+08</td>\n",
       "      <td>203.557435</td>\n",
       "      <td>232.680495</td>\n",
       "      <td>64777.131505</td>\n",
       "      <td>159.570070</td>\n",
       "      <td>176.618940</td>\n",
       "      <td>56792.026445</td>\n",
       "    </tr>\n",
       "    <tr>\n",
       "      <th>75%</th>\n",
       "      <td>4442.180000</td>\n",
       "      <td>5160.577500</td>\n",
       "      <td>216255.330750</td>\n",
       "      <td>302.670000</td>\n",
       "      <td>325.090750</td>\n",
       "      <td>2.876171e+06</td>\n",
       "      <td>55.470000</td>\n",
       "      <td>60.080200</td>\n",
       "      <td>1.497218e+06</td>\n",
       "      <td>1.005375</td>\n",
       "      <td>...</td>\n",
       "      <td>1.139832e+08</td>\n",
       "      <td>0.246298</td>\n",
       "      <td>0.245368</td>\n",
       "      <td>3.056366e+08</td>\n",
       "      <td>282.024750</td>\n",
       "      <td>291.199015</td>\n",
       "      <td>74794.968183</td>\n",
       "      <td>291.281000</td>\n",
       "      <td>344.295500</td>\n",
       "      <td>62094.063440</td>\n",
       "    </tr>\n",
       "    <tr>\n",
       "      <th>max</th>\n",
       "      <td>10087.800000</td>\n",
       "      <td>13990.000000</td>\n",
       "      <td>260245.317900</td>\n",
       "      <td>438.560000</td>\n",
       "      <td>745.980000</td>\n",
       "      <td>4.388107e+06</td>\n",
       "      <td>87.580000</td>\n",
       "      <td>230.300000</td>\n",
       "      <td>2.179055e+06</td>\n",
       "      <td>1.050000</td>\n",
       "      <td>...</td>\n",
       "      <td>7.207680e+08</td>\n",
       "      <td>0.332105</td>\n",
       "      <td>1.990040</td>\n",
       "      <td>5.785257e+08</td>\n",
       "      <td>300.710000</td>\n",
       "      <td>478.670000</td>\n",
       "      <td>115147.832600</td>\n",
       "      <td>779.000000</td>\n",
       "      <td>1027.191000</td>\n",
       "      <td>81831.269430</td>\n",
       "    </tr>\n",
       "  </tbody>\n",
       "</table>\n",
       "<p>8 rows × 24 columns</p>\n",
       "</div>"
      ],
      "text/plain": [
       "         price_open   price_close  volume_traded  price_open.1  price_close.1  \\\n",
       "count     12.000000     12.000000      12.000000     12.000000      12.000000   \n",
       "mean    3230.446583   4315.245000  153167.049684    192.186144     253.682859   \n",
       "std     2781.201663   4062.339607   70533.769640    155.031003     211.450143   \n",
       "min      968.166000    969.739000   61053.175220      8.099990      10.669110   \n",
       "25%     1156.506000   1308.037750   90726.607107     41.174997      71.199625   \n",
       "50%     2367.330500   2660.566500  144049.895950    214.589105     254.250000   \n",
       "75%     4442.180000   5160.577500  216255.330750    302.670000     325.090750   \n",
       "max    10087.800000  13990.000000  260245.317900    438.560000     745.980000   \n",
       "\n",
       "       volume_traded.1  price_open.2  price_close.2  volume_traded.2  \\\n",
       "count     1.200000e+01     12.000000      12.000000     1.200000e+01   \n",
       "mean      2.085694e+06     34.520968      53.348248     1.103780e+06   \n",
       "std       1.203900e+06     29.001659      62.102410     6.887225e+05   \n",
       "min       5.982336e+05      3.770000       3.770000     7.074980e+04   \n",
       "25%       9.933014e+05      6.397813      13.510970     6.920303e+05   \n",
       "50%       2.023284e+06     32.422965      40.697525     1.134165e+06   \n",
       "75%       2.876171e+06     55.470000      60.080200     1.497218e+06   \n",
       "max       4.388107e+06     87.580000     230.300000     2.179055e+06   \n",
       "\n",
       "       price_open.3  ...  volume_traded.4  price_open.5  price_close.5  \\\n",
       "count     12.000000  ...     1.200000e+01     12.000000      12.000000   \n",
       "mean       0.751333  ...     1.125174e+08      0.157364       0.295553   \n",
       "std        0.453774  ...     2.085162e+08      0.122979       0.544850   \n",
       "min        0.000000  ...     0.000000e+00      0.000000       0.000000   \n",
       "25%        0.701325  ...     0.000000e+00      0.000000       0.000000   \n",
       "50%        1.000350  ...     1.371653e+07      0.199025       0.199045   \n",
       "75%        1.005375  ...     1.139832e+08      0.246298       0.245368   \n",
       "max        1.050000  ...     7.207680e+08      0.332105       1.990040   \n",
       "\n",
       "       volume_traded.5  price_open.6  price_close.6  volume_traded.6  \\\n",
       "count     1.200000e+01     12.000000      12.000000        12.000000   \n",
       "mean      2.048826e+08    174.007163     209.402351     57949.390687   \n",
       "std       1.902761e+08    110.576181     133.318216     35973.542518   \n",
       "min       0.000000e+00     36.916460      36.874790      4937.523761   \n",
       "25%       0.000000e+00     59.575208      85.097340     25839.357885   \n",
       "50%       2.087990e+08    203.557435     232.680495     64777.131505   \n",
       "75%       3.056366e+08    282.024750     291.199015     74794.968183   \n",
       "max       5.785257e+08    300.710000     478.670000    115147.832600   \n",
       "\n",
       "       price_open.7  price_close.7  volume_traded.7  \n",
       "count     12.000000      12.000000        12.000000  \n",
       "mean     202.731526     282.253560     40871.196191  \n",
       "std      222.668623     321.082287     31104.998764  \n",
       "min        0.000000       0.000000         0.000000  \n",
       "25%       53.635005      69.622372      6863.210061  \n",
       "50%      159.570070     176.618940     56792.026445  \n",
       "75%      291.281000     344.295500     62094.063440  \n",
       "max      779.000000    1027.191000     81831.269430  \n",
       "\n",
       "[8 rows x 24 columns]"
      ]
     },
     "execution_count": 4,
     "metadata": {},
     "output_type": "execute_result"
    }
   ],
   "source": [
    "# View the dataframe\n",
    "df_2017.describe()"
   ]
  },
  {
   "cell_type": "code",
   "execution_count": 5,
   "id": "6dc451cc",
   "metadata": {},
   "outputs": [
    {
     "data": {
      "text/html": [
       "<div>\n",
       "<style scoped>\n",
       "    .dataframe tbody tr th:only-of-type {\n",
       "        vertical-align: middle;\n",
       "    }\n",
       "\n",
       "    .dataframe tbody tr th {\n",
       "        vertical-align: top;\n",
       "    }\n",
       "\n",
       "    .dataframe thead th {\n",
       "        text-align: right;\n",
       "    }\n",
       "</style>\n",
       "<table border=\"1\" class=\"dataframe\">\n",
       "  <thead>\n",
       "    <tr style=\"text-align: right;\">\n",
       "      <th></th>\n",
       "      <th>BTC_Monthly_Close</th>\n",
       "      <th>ETH_Monthly_Close</th>\n",
       "      <th>LTC_Monthly_Close</th>\n",
       "      <th>USDT_Monthly_Close</th>\n",
       "      <th>XLM_Monthly_Close</th>\n",
       "      <th>XRP_Monthly_Close</th>\n",
       "      <th>ZEC_Monthly_Close</th>\n",
       "      <th>DASH_Monthly_Close</th>\n",
       "    </tr>\n",
       "    <tr>\n",
       "      <th>Month</th>\n",
       "      <th></th>\n",
       "      <th></th>\n",
       "      <th></th>\n",
       "      <th></th>\n",
       "      <th></th>\n",
       "      <th></th>\n",
       "      <th></th>\n",
       "      <th></th>\n",
       "    </tr>\n",
       "  </thead>\n",
       "  <tbody>\n",
       "    <tr>\n",
       "      <th>January</th>\n",
       "      <td>969.739</td>\n",
       "      <td>10.66911</td>\n",
       "      <td>4.12475</td>\n",
       "      <td>0.0000</td>\n",
       "      <td>0.002149</td>\n",
       "      <td>0.000000</td>\n",
       "      <td>39.72103</td>\n",
       "      <td>0.00000</td>\n",
       "    </tr>\n",
       "    <tr>\n",
       "      <th>February</th>\n",
       "      <td>1180.000</td>\n",
       "      <td>15.63000</td>\n",
       "      <td>3.77000</td>\n",
       "      <td>0.0000</td>\n",
       "      <td>0.001920</td>\n",
       "      <td>0.000000</td>\n",
       "      <td>36.87479</td>\n",
       "      <td>0.00000</td>\n",
       "    </tr>\n",
       "    <tr>\n",
       "      <th>March</th>\n",
       "      <td>1079.780</td>\n",
       "      <td>49.69750</td>\n",
       "      <td>7.07063</td>\n",
       "      <td>0.0000</td>\n",
       "      <td>0.002282</td>\n",
       "      <td>0.000000</td>\n",
       "      <td>62.22333</td>\n",
       "      <td>0.00000</td>\n",
       "    </tr>\n",
       "    <tr>\n",
       "      <th>April</th>\n",
       "      <td>1350.717</td>\n",
       "      <td>78.36700</td>\n",
       "      <td>15.65775</td>\n",
       "      <td>0.9350</td>\n",
       "      <td>0.004805</td>\n",
       "      <td>0.000000</td>\n",
       "      <td>92.72201</td>\n",
       "      <td>92.82983</td>\n",
       "    </tr>\n",
       "    <tr>\n",
       "      <th>May</th>\n",
       "      <td>2291.301</td>\n",
       "      <td>228.50000</td>\n",
       "      <td>25.78000</td>\n",
       "      <td>1.0571</td>\n",
       "      <td>0.034000</td>\n",
       "      <td>0.249367</td>\n",
       "      <td>231.36099</td>\n",
       "      <td>137.37001</td>\n",
       "    </tr>\n",
       "    <tr>\n",
       "      <th>June</th>\n",
       "      <td>2445.000</td>\n",
       "      <td>280.00000</td>\n",
       "      <td>39.04784</td>\n",
       "      <td>1.0061</td>\n",
       "      <td>0.026694</td>\n",
       "      <td>0.244035</td>\n",
       "      <td>294.79606</td>\n",
       "      <td>174.73788</td>\n",
       "    </tr>\n",
       "    <tr>\n",
       "      <th>July</th>\n",
       "      <td>2876.133</td>\n",
       "      <td>201.77770</td>\n",
       "      <td>42.34721</td>\n",
       "      <td>1.0025</td>\n",
       "      <td>0.016269</td>\n",
       "      <td>0.165100</td>\n",
       "      <td>174.00000</td>\n",
       "      <td>178.50000</td>\n",
       "    </tr>\n",
       "    <tr>\n",
       "      <th>August</th>\n",
       "      <td>4737.270</td>\n",
       "      <td>388.00300</td>\n",
       "      <td>73.37080</td>\n",
       "      <td>1.0046</td>\n",
       "      <td>0.000000</td>\n",
       "      <td>0.260000</td>\n",
       "      <td>290.00000</td>\n",
       "      <td>387.18200</td>\n",
       "    </tr>\n",
       "    <tr>\n",
       "      <th>September</th>\n",
       "      <td>4344.000</td>\n",
       "      <td>302.20000</td>\n",
       "      <td>55.65000</td>\n",
       "      <td>0.9998</td>\n",
       "      <td>0.000000</td>\n",
       "      <td>0.199030</td>\n",
       "      <td>277.00000</td>\n",
       "      <td>330.00000</td>\n",
       "    </tr>\n",
       "    <tr>\n",
       "      <th>October</th>\n",
       "      <td>6430.500</td>\n",
       "      <td>304.12000</td>\n",
       "      <td>55.47000</td>\n",
       "      <td>0.9999</td>\n",
       "      <td>0.000000</td>\n",
       "      <td>0.199060</td>\n",
       "      <td>234.00000</td>\n",
       "      <td>279.38000</td>\n",
       "    </tr>\n",
       "    <tr>\n",
       "      <th>November</th>\n",
       "      <td>10088.500</td>\n",
       "      <td>439.25000</td>\n",
       "      <td>87.59000</td>\n",
       "      <td>1.0067</td>\n",
       "      <td>0.000000</td>\n",
       "      <td>0.240000</td>\n",
       "      <td>301.46000</td>\n",
       "      <td>779.85200</td>\n",
       "    </tr>\n",
       "    <tr>\n",
       "      <th>December</th>\n",
       "      <td>13990.000</td>\n",
       "      <td>745.98000</td>\n",
       "      <td>230.30000</td>\n",
       "      <td>1.0190</td>\n",
       "      <td>0.000000</td>\n",
       "      <td>1.990040</td>\n",
       "      <td>478.67000</td>\n",
       "      <td>1027.19100</td>\n",
       "    </tr>\n",
       "  </tbody>\n",
       "</table>\n",
       "</div>"
      ],
      "text/plain": [
       "           BTC_Monthly_Close  ETH_Monthly_Close  LTC_Monthly_Close  \\\n",
       "Month                                                                \n",
       "January              969.739           10.66911            4.12475   \n",
       "February            1180.000           15.63000            3.77000   \n",
       "March               1079.780           49.69750            7.07063   \n",
       "April               1350.717           78.36700           15.65775   \n",
       "May                 2291.301          228.50000           25.78000   \n",
       "June                2445.000          280.00000           39.04784   \n",
       "July                2876.133          201.77770           42.34721   \n",
       "August              4737.270          388.00300           73.37080   \n",
       "September           4344.000          302.20000           55.65000   \n",
       "October             6430.500          304.12000           55.47000   \n",
       "November           10088.500          439.25000           87.59000   \n",
       "December           13990.000          745.98000          230.30000   \n",
       "\n",
       "           USDT_Monthly_Close  XLM_Monthly_Close  XRP_Monthly_Close  \\\n",
       "Month                                                                 \n",
       "January                0.0000           0.002149           0.000000   \n",
       "February               0.0000           0.001920           0.000000   \n",
       "March                  0.0000           0.002282           0.000000   \n",
       "April                  0.9350           0.004805           0.000000   \n",
       "May                    1.0571           0.034000           0.249367   \n",
       "June                   1.0061           0.026694           0.244035   \n",
       "July                   1.0025           0.016269           0.165100   \n",
       "August                 1.0046           0.000000           0.260000   \n",
       "September              0.9998           0.000000           0.199030   \n",
       "October                0.9999           0.000000           0.199060   \n",
       "November               1.0067           0.000000           0.240000   \n",
       "December               1.0190           0.000000           1.990040   \n",
       "\n",
       "           ZEC_Monthly_Close  DASH_Monthly_Close  \n",
       "Month                                             \n",
       "January             39.72103             0.00000  \n",
       "February            36.87479             0.00000  \n",
       "March               62.22333             0.00000  \n",
       "April               92.72201            92.82983  \n",
       "May                231.36099           137.37001  \n",
       "June               294.79606           174.73788  \n",
       "July               174.00000           178.50000  \n",
       "August             290.00000           387.18200  \n",
       "September          277.00000           330.00000  \n",
       "October            234.00000           279.38000  \n",
       "November           301.46000           779.85200  \n",
       "December           478.67000          1027.19100  "
      ]
     },
     "execution_count": 5,
     "metadata": {},
     "output_type": "execute_result"
    }
   ],
   "source": [
    "# Clean the dataframe to only include the closing price\n",
    "final_2017_df = pd.DataFrame()\n",
    "final_2017_df['BTC_Monthly_Close'] = df_2017['price_close']\n",
    "final_2017_df['ETH_Monthly_Close'] = df_2017['price_close.1']\n",
    "final_2017_df['LTC_Monthly_Close'] = df_2017['price_close.2']\n",
    "final_2017_df['USDT_Monthly_Close'] = df_2017['price_close.3']\n",
    "final_2017_df['XLM_Monthly_Close'] = df_2017['price_close.4']\n",
    "final_2017_df['XRP_Monthly_Close'] = df_2017['price_close.5']\n",
    "final_2017_df['ZEC_Monthly_Close'] = df_2017['price_close.6']\n",
    "final_2017_df['DASH_Monthly_Close'] = df_2017['price_close.7']\n",
    "\n",
    "final_2017_df"
   ]
  },
  {
   "cell_type": "code",
   "execution_count": 6,
   "id": "245d583d",
   "metadata": {},
   "outputs": [
    {
     "data": {
      "text/plain": [
       "Month\n",
       "January      0.000000\n",
       "February     0.216822\n",
       "March       -0.084932\n",
       "April        0.250919\n",
       "May          0.696359\n",
       "June         0.067079\n",
       "July         0.176333\n",
       "August       0.647097\n",
       "September   -0.083016\n",
       "October      0.480318\n",
       "November     0.568852\n",
       "December     0.386727\n",
       "Name: BTC_Monthly_Close, dtype: float64"
      ]
     },
     "execution_count": 6,
     "metadata": {},
     "output_type": "execute_result"
    }
   ],
   "source": [
    "# STEP 3: CALCULATE Monthly RETURNS FOR EACH CURRENCY IN Designated Time range from  DATAFRAME, DROP NULL VALUES\n",
    "\"\"\"\n",
    "\n",
    "Will need: .pct_change().dropna(inplace = True)\n",
    "\n",
    "\"\"\"\n",
    "btc_2017_df = final_2017_df['BTC_Monthly_Close'].pct_change().fillna(0)\n",
    "btc_2017_df"
   ]
  },
  {
   "cell_type": "code",
   "execution_count": 7,
   "id": "99ac5f63",
   "metadata": {},
   "outputs": [
    {
     "data": {
      "text/plain": [
       "Month\n",
       "January      0.000000\n",
       "February     0.464977\n",
       "March        2.179623\n",
       "April        0.576880\n",
       "May          1.915768\n",
       "June         0.225383\n",
       "July        -0.279365\n",
       "August       0.922923\n",
       "September   -0.221140\n",
       "October      0.006353\n",
       "November     0.444331\n",
       "December     0.698304\n",
       "Name: ETH_Monthly_Close, dtype: float64"
      ]
     },
     "execution_count": 7,
     "metadata": {},
     "output_type": "execute_result"
    }
   ],
   "source": [
    "eth_2017_df = final_2017_df['ETH_Monthly_Close'].pct_change().fillna(0)\n",
    "eth_2017_df"
   ]
  },
  {
   "cell_type": "code",
   "execution_count": 8,
   "id": "3f8e374c",
   "metadata": {},
   "outputs": [
    {
     "data": {
      "text/plain": [
       "Month\n",
       "January      0.000000\n",
       "February    -0.086005\n",
       "March        0.875499\n",
       "April        1.214477\n",
       "May          0.646469\n",
       "June         0.514656\n",
       "July         0.084496\n",
       "August       0.732601\n",
       "September   -0.241524\n",
       "October     -0.003235\n",
       "November     0.579052\n",
       "December     1.629296\n",
       "Name: LTC_Monthly_Close, dtype: float64"
      ]
     },
     "execution_count": 8,
     "metadata": {},
     "output_type": "execute_result"
    }
   ],
   "source": [
    "ltc_2017_df = final_2017_df['LTC_Monthly_Close'].pct_change().fillna(0)\n",
    "ltc_2017_df"
   ]
  },
  {
   "cell_type": "code",
   "execution_count": 9,
   "id": "987e1c71",
   "metadata": {},
   "outputs": [
    {
     "data": {
      "text/plain": [
       "Month\n",
       "April        0.000000\n",
       "May          0.130588\n",
       "June        -0.048245\n",
       "July        -0.003578\n",
       "August       0.002095\n",
       "September   -0.004778\n",
       "October      0.000100\n",
       "November     0.006801\n",
       "December     0.012218\n",
       "Name: USDT_Monthly_Close, dtype: float64"
      ]
     },
     "execution_count": 9,
     "metadata": {},
     "output_type": "execute_result"
    }
   ],
   "source": [
    "usdt_2017_df = final_2017_df['USDT_Monthly_Close'].drop(\n",
    "    labels=['January', 'February', 'March']).pct_change().fillna(0)\n",
    "usdt_2017_df"
   ]
  },
  {
   "cell_type": "code",
   "execution_count": 10,
   "id": "0c9bed5f",
   "metadata": {},
   "outputs": [
    {
     "data": {
      "text/plain": [
       "Month\n",
       "January     0.000000\n",
       "February   -0.106561\n",
       "March       0.188542\n",
       "April       1.105609\n",
       "May         6.075963\n",
       "June       -0.214882\n",
       "July       -0.390537\n",
       "Name: XLM_Monthly_Close, dtype: float64"
      ]
     },
     "execution_count": 10,
     "metadata": {},
     "output_type": "execute_result"
    }
   ],
   "source": [
    "xlm_2017_df = final_2017_df['XLM_Monthly_Close'].drop(\n",
    "    labels=['August', 'September', 'October', 'November', 'December']).pct_change().fillna(0)\n",
    "xlm_2017_df"
   ]
  },
  {
   "cell_type": "code",
   "execution_count": 11,
   "id": "a3c31932",
   "metadata": {},
   "outputs": [
    {
     "data": {
      "text/plain": [
       "Month\n",
       "May          0.000000\n",
       "June        -0.021382\n",
       "July        -0.323458\n",
       "August       0.574803\n",
       "September   -0.234500\n",
       "October      0.000151\n",
       "November     0.205667\n",
       "December     7.291833\n",
       "Name: XRP_Monthly_Close, dtype: float64"
      ]
     },
     "execution_count": 11,
     "metadata": {},
     "output_type": "execute_result"
    }
   ],
   "source": [
    "xrp_2017_df = final_2017_df['XRP_Monthly_Close'].drop(\n",
    "    labels=['January', 'February', 'March', 'April']).pct_change().fillna(0)\n",
    "xrp_2017_df"
   ]
  },
  {
   "cell_type": "code",
   "execution_count": 12,
   "id": "c69c611f",
   "metadata": {},
   "outputs": [
    {
     "data": {
      "text/plain": [
       "Month\n",
       "January      0.000000\n",
       "February    -0.071656\n",
       "March        0.687422\n",
       "April        0.490149\n",
       "May          1.495211\n",
       "June         0.274182\n",
       "July        -0.409761\n",
       "August       0.666667\n",
       "September   -0.044828\n",
       "October     -0.155235\n",
       "November     0.288291\n",
       "December     0.587839\n",
       "Name: ZEC_Monthly_Close, dtype: float64"
      ]
     },
     "execution_count": 12,
     "metadata": {},
     "output_type": "execute_result"
    }
   ],
   "source": [
    "zec_2017_df = final_2017_df['ZEC_Monthly_Close'].pct_change().fillna(0)\n",
    "zec_2017_df"
   ]
  },
  {
   "cell_type": "code",
   "execution_count": 13,
   "id": "924ab155",
   "metadata": {},
   "outputs": [
    {
     "data": {
      "text/plain": [
       "Month\n",
       "April        0.000000\n",
       "May          0.479805\n",
       "June         0.272023\n",
       "July         0.021530\n",
       "August       1.169087\n",
       "September   -0.147688\n",
       "October     -0.153394\n",
       "November     1.791367\n",
       "December     0.317161\n",
       "Name: DASH_Monthly_Close, dtype: float64"
      ]
     },
     "execution_count": 13,
     "metadata": {},
     "output_type": "execute_result"
    }
   ],
   "source": [
    "dash_2017_df = final_2017_df['DASH_Monthly_Close'].drop(\n",
    "    labels=['January', 'February', 'March']).pct_change().fillna(0)\n",
    "dash_2017_df"
   ]
  },
  {
   "cell_type": "code",
   "execution_count": 14,
   "id": "c2bfbf34",
   "metadata": {},
   "outputs": [
    {
     "data": {
      "text/plain": [
       "0.07702062914668639"
      ]
     },
     "execution_count": 14,
     "metadata": {},
     "output_type": "execute_result"
    }
   ],
   "source": [
    "# Step 4: Calculate the variance of bitcoin, in this case being used as a proxy for the market.\n",
    "# assign to market variance value\n",
    "market_var = btc_2017_df.var()\n",
    "market_var"
   ]
  },
  {
   "cell_type": "code",
   "execution_count": 15,
   "id": "e85a259b",
   "metadata": {},
   "outputs": [
    {
     "data": {
      "text/plain": [
       "0.07702062914668639"
      ]
     },
     "execution_count": 15,
     "metadata": {},
     "output_type": "execute_result"
    }
   ],
   "source": [
    "btc_var = btc_2017_df.var()\n",
    "btc_var"
   ]
  },
  {
   "cell_type": "code",
   "execution_count": 16,
   "id": "6bd23a76",
   "metadata": {},
   "outputs": [
    {
     "data": {
      "text/plain": [
       "0.6070734997335074"
      ]
     },
     "execution_count": 16,
     "metadata": {},
     "output_type": "execute_result"
    }
   ],
   "source": [
    "eth_var = eth_2017_df.var()\n",
    "eth_var"
   ]
  },
  {
   "cell_type": "code",
   "execution_count": 17,
   "id": "265c4001",
   "metadata": {},
   "outputs": [
    {
     "data": {
      "text/plain": [
       "0.32524631881175475"
      ]
     },
     "execution_count": 17,
     "metadata": {},
     "output_type": "execute_result"
    }
   ],
   "source": [
    "ltc_var = ltc_2017_df.var()\n",
    "ltc_var"
   ]
  },
  {
   "cell_type": "code",
   "execution_count": 18,
   "id": "ae36b44f",
   "metadata": {},
   "outputs": [
    {
     "data": {
      "text/plain": [
       "0.0023261794513036666"
      ]
     },
     "execution_count": 18,
     "metadata": {},
     "output_type": "execute_result"
    }
   ],
   "source": [
    "usdt_var = usdt_2017_df.var()\n",
    "usdt_var"
   ]
  },
  {
   "cell_type": "code",
   "execution_count": 19,
   "id": "ccadb31f",
   "metadata": {},
   "outputs": [
    {
     "data": {
      "text/plain": [
       "5.3420546538365095"
      ]
     },
     "execution_count": 19,
     "metadata": {},
     "output_type": "execute_result"
    }
   ],
   "source": [
    "xlm_var = xlm_2017_df.var()\n",
    "xlm_var"
   ]
  },
  {
   "cell_type": "code",
   "execution_count": 20,
   "id": "6ef185c1",
   "metadata": {},
   "outputs": [
    {
     "data": {
      "text/plain": [
       "6.669322635535075"
      ]
     },
     "execution_count": 20,
     "metadata": {},
     "output_type": "execute_result"
    }
   ],
   "source": [
    "xrp_var = xrp_2017_df.var()\n",
    "xrp_var"
   ]
  },
  {
   "cell_type": "code",
   "execution_count": 21,
   "id": "b5921dc7",
   "metadata": {},
   "outputs": [
    {
     "data": {
      "text/plain": [
       "0.2624818425762632"
      ]
     },
     "execution_count": 21,
     "metadata": {},
     "output_type": "execute_result"
    }
   ],
   "source": [
    "zec_var = zec_2017_df.var()\n",
    "zec_var"
   ]
  },
  {
   "cell_type": "code",
   "execution_count": 22,
   "id": "ea381b01",
   "metadata": {},
   "outputs": [
    {
     "data": {
      "text/plain": [
       "0.43299428330343614"
      ]
     },
     "execution_count": 22,
     "metadata": {},
     "output_type": "execute_result"
    }
   ],
   "source": [
    "dash_var = dash_2017_df.var()\n",
    "dash_var"
   ]
  },
  {
   "cell_type": "code",
   "execution_count": 23,
   "id": "062c897c",
   "metadata": {},
   "outputs": [
    {
     "data": {
      "text/plain": [
       "0.07702062914668642"
      ]
     },
     "execution_count": 23,
     "metadata": {},
     "output_type": "execute_result"
    }
   ],
   "source": [
    "# STEP 5B: CALCULATE COVARIANCE OF EACH CURRENCY RELATIVE TO BITCOIN\n",
    "\"\"\"\n",
    "Use monthly returns of currency and monthly returns of bitcoin as market proxy\n",
    "\n",
    "\"\"\"\n",
    "\n",
    "# market_cov = final_2018_df['BTC_Monthly_Close'].cov(final_2018_df['BTC_Monthly_Close'])\n",
    "# market_cov\n",
    "\n",
    "mkt_2017_cov = btc_2017_df.cov(btc_2017_df)\n",
    "mkt_2017_cov"
   ]
  },
  {
   "cell_type": "code",
   "execution_count": 24,
   "id": "ef9c1745",
   "metadata": {},
   "outputs": [
    {
     "data": {
      "text/plain": [
       "0.052901356351383946"
      ]
     },
     "execution_count": 24,
     "metadata": {},
     "output_type": "execute_result"
    }
   ],
   "source": [
    "eth_2017_cov = eth_2017_df.cov(btc_2017_df)\n",
    "eth_2017_cov"
   ]
  },
  {
   "cell_type": "code",
   "execution_count": 25,
   "id": "b4057f7a",
   "metadata": {},
   "outputs": [
    {
     "data": {
      "text/plain": [
       "0.04700978261196384"
      ]
     },
     "execution_count": 25,
     "metadata": {},
     "output_type": "execute_result"
    }
   ],
   "source": [
    "ltc_2017_cov = ltc_2017_df.cov(btc_2017_df)\n",
    "ltc_2017_cov"
   ]
  },
  {
   "cell_type": "code",
   "execution_count": 26,
   "id": "83018470",
   "metadata": {},
   "outputs": [
    {
     "data": {
      "text/plain": [
       "0.00796408058205679"
      ]
     },
     "execution_count": 26,
     "metadata": {},
     "output_type": "execute_result"
    }
   ],
   "source": [
    "usdt_2017_cov = usdt_2017_df.cov(btc_2017_df)\n",
    "usdt_2017_cov"
   ]
  },
  {
   "cell_type": "code",
   "execution_count": 27,
   "id": "4e015557",
   "metadata": {},
   "outputs": [
    {
     "data": {
      "text/plain": [
       "0.5213475900801245"
      ]
     },
     "execution_count": 27,
     "metadata": {},
     "output_type": "execute_result"
    }
   ],
   "source": [
    "xlm_2017_cov = xlm_2017_df.cov(btc_2017_df)\n",
    "xlm_2017_cov"
   ]
  },
  {
   "cell_type": "code",
   "execution_count": 28,
   "id": "e0abcb0d",
   "metadata": {},
   "outputs": [
    {
     "data": {
      "text/plain": [
       "0.07378355263230235"
      ]
     },
     "execution_count": 28,
     "metadata": {},
     "output_type": "execute_result"
    }
   ],
   "source": [
    "xrp_2017_cov = xrp_2017_df.cov(btc_2017_df)\n",
    "xrp_2017_cov"
   ]
  },
  {
   "cell_type": "code",
   "execution_count": 29,
   "id": "40e1fbff",
   "metadata": {},
   "outputs": [
    {
     "data": {
      "text/plain": [
       "0.0667143414743076"
      ]
     },
     "execution_count": 29,
     "metadata": {},
     "output_type": "execute_result"
    }
   ],
   "source": [
    "zec_2017_cov = zec_2017_df.cov(btc_2017_df)\n",
    "zec_2017_cov"
   ]
  },
  {
   "cell_type": "code",
   "execution_count": 30,
   "id": "f6d4bba3",
   "metadata": {},
   "outputs": [
    {
     "data": {
      "text/plain": [
       "0.1079407087523862"
      ]
     },
     "execution_count": 30,
     "metadata": {},
     "output_type": "execute_result"
    }
   ],
   "source": [
    "dash_2017_cov = dash_2017_df.cov(btc_2017_df)\n",
    "dash_2017_cov"
   ]
  },
  {
   "cell_type": "code",
   "execution_count": 31,
   "id": "f167e943",
   "metadata": {},
   "outputs": [
    {
     "data": {
      "text/plain": [
       "1.0000000000000004"
      ]
     },
     "execution_count": 31,
     "metadata": {},
     "output_type": "execute_result"
    }
   ],
   "source": [
    "# STEP 6: CALCULATE BETA OF EACH CURRENCY\n",
    "\n",
    "\"\"\"\n",
    "beta = covariance of asset to market / variance of market\n",
    "\n",
    "use previous calculations for market variance and covariance of assets\n",
    "\"\"\"\n",
    "btc_beta_2017 = mkt_2017_cov / market_var\n",
    "btc_beta_2017"
   ]
  },
  {
   "cell_type": "code",
   "execution_count": 32,
   "id": "1b324e6e",
   "metadata": {},
   "outputs": [
    {
     "data": {
      "text/plain": [
       "0.6868465882125281"
      ]
     },
     "execution_count": 32,
     "metadata": {},
     "output_type": "execute_result"
    }
   ],
   "source": [
    "eth_beta_2017 = eth_2017_cov / market_var\n",
    "eth_beta_2017"
   ]
  },
  {
   "cell_type": "code",
   "execution_count": 33,
   "id": "ec2ed6f1",
   "metadata": {},
   "outputs": [
    {
     "data": {
      "text/plain": [
       "0.6103531369814357"
      ]
     },
     "execution_count": 33,
     "metadata": {},
     "output_type": "execute_result"
    }
   ],
   "source": [
    "ltc_beta_2017 = ltc_2017_cov / market_var\n",
    "ltc_beta_2017"
   ]
  },
  {
   "cell_type": "code",
   "execution_count": 34,
   "id": "83899032",
   "metadata": {},
   "outputs": [
    {
     "data": {
      "text/plain": [
       "0.10340191543864354"
      ]
     },
     "execution_count": 34,
     "metadata": {},
     "output_type": "execute_result"
    }
   ],
   "source": [
    "usdt_beta_2017 = usdt_2017_cov / market_var\n",
    "usdt_beta_2017"
   ]
  },
  {
   "cell_type": "code",
   "execution_count": 35,
   "id": "895e1c71",
   "metadata": {},
   "outputs": [
    {
     "data": {
      "text/plain": [
       "6.768934451148327"
      ]
     },
     "execution_count": 35,
     "metadata": {},
     "output_type": "execute_result"
    }
   ],
   "source": [
    "xlm_beta_2017 = xlm_2017_cov / market_var\n",
    "xlm_beta_2017"
   ]
  },
  {
   "cell_type": "code",
   "execution_count": 36,
   "id": "4b23926f",
   "metadata": {},
   "outputs": [
    {
     "data": {
      "text/plain": [
       "0.9579713052172165"
      ]
     },
     "execution_count": 36,
     "metadata": {},
     "output_type": "execute_result"
    }
   ],
   "source": [
    "xrp_beta_2017 = xrp_2017_cov / market_var\n",
    "xrp_beta_2017"
   ]
  },
  {
   "cell_type": "code",
   "execution_count": 37,
   "id": "0c1a61cd",
   "metadata": {},
   "outputs": [
    {
     "data": {
      "text/plain": [
       "0.8661879578683993"
      ]
     },
     "execution_count": 37,
     "metadata": {},
     "output_type": "execute_result"
    }
   ],
   "source": [
    "zec_beta_2017 = zec_2017_cov / market_var\n",
    "zec_beta_2017"
   ]
  },
  {
   "cell_type": "code",
   "execution_count": 38,
   "id": "ede4e726",
   "metadata": {},
   "outputs": [
    {
     "data": {
      "text/plain": [
       "1.401451922014455"
      ]
     },
     "execution_count": 38,
     "metadata": {},
     "output_type": "execute_result"
    }
   ],
   "source": [
    "dash_beta_2017 = dash_2017_cov / market_var\n",
    "dash_beta_2017"
   ]
  },
  {
   "cell_type": "code",
   "execution_count": 39,
   "id": "162ec0e8",
   "metadata": {},
   "outputs": [
    {
     "data": {
      "text/plain": [
       "<AxesSubplot:>"
      ]
     },
     "execution_count": 39,
     "metadata": {},
     "output_type": "execute_result"
    },
    {
     "data": {
      "image/png": "[encoded data removed]",
      "text/plain": [
       "<Figure size 432x288 with 2 Axes>"
      ]
     },
     "metadata": {
      "needs_background": "light"
     },
     "output_type": "display_data"
    }
   ],
   "source": [
    "# Display Correlation Heatmap With Seaborn\n",
    "\n",
    "\"\"\"\n",
    "NEW CELL to check monthly returns are displayed with pct_change already applied\n",
    "- Take dataframe of daily returns from step 3 (pct_change drop na already applied)\n",
    "\n",
    "NEW CELL to check correlation dataframe\n",
    "- correlation = monthly_returns_dataframe.corr()\n",
    "\n",
    "NEW CELL to display heatmap\n",
    "- sns.heatmap(correlation)\n",
    "\n",
    "\n",
    "\"\"\"\n",
    "correlation = final_2017_df.corr()\n",
    "sns.heatmap(correlation)"
   ]
  },
  {
   "cell_type": "code",
   "execution_count": null,
   "id": "8cd4972e",
   "metadata": {},
   "outputs": [],
   "source": []
  }
 ],
 "metadata": {
  "kernelspec": {
   "display_name": "Python (dev)",
   "language": "python",
   "name": "dev"
  },
  "language_info": {
   "codemirror_mode": {
    "name": "ipython",
    "version": 3
   },
   "file_extension": ".py",
   "mimetype": "text/x-python",
   "name": "python",
   "nbconvert_exporter": "python",
   "pygments_lexer": "ipython3",
   "version": "3.7.10"
  }
 },
 "nbformat": 4,
 "nbformat_minor": 5
}
