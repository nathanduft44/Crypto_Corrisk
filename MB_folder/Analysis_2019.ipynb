{
 "cells": [
  {
   "cell_type": "code",
   "execution_count": 1,
   "id": "5f659733",
   "metadata": {},
   "outputs": [
    {
     "data": {
      "text/plain": [
       "'\\nFor now, we keep it simple. If we need to expand, we can. \\nWe are taking what we need to in order to understand how each basket of currencies \\nis correlated to the market proxy (bitcoin)\\n'"
      ]
     },
     "execution_count": 1,
     "metadata": {},
     "output_type": "execute_result"
    }
   ],
   "source": [
    "# GOAL: HAVE EACH ANALYSIS SECTION COMPUTE A STANDARD SET OF CALCULATIONS FOR RISK METRICS AND CORRELATION\n",
    "\n",
    "\"\"\"\n",
    "For now, we keep it simple. If we need to expand, we can. \n",
    "We are taking what we need to in order to understand how each basket of currencies \n",
    "is correlated to the market proxy (bitcoin)\n",
    "\"\"\""
   ]
  },
  {
   "cell_type": "code",
   "execution_count": 2,
   "id": "a6807ecc",
   "metadata": {},
   "outputs": [],
   "source": [
    "# STEP 1: IMPORT DEPENDENCIES\n",
    "#For basic calculations:\n",
    "import pandas as pd\n",
    "import numpy as np\n",
    "import csv\n",
    "from pathlib import Path\n",
    "\n",
    "#For Heatmap:\n",
    "import seaborn as sns\n",
    "%matplotlib inline"
   ]
  },
  {
   "cell_type": "code",
   "execution_count": 3,
   "id": "4abacb2b",
   "metadata": {},
   "outputs": [],
   "source": [
    "# STEP 2: IMPORT DATA AS DATAFRAME\n",
    "\"\"\"\n",
    "Determnine if we are reading csv data, running individual api calls, or querying an in-house database\n",
    "\"\"\"\n",
    "#reading in csv data\n",
    "df_2019 = pd.read_csv(\n",
    "    Path('2019_data.csv')\n",
    ").set_index('Month')"
   ]
  },
  {
   "cell_type": "code",
   "execution_count": 4,
   "id": "cec37369",
   "metadata": {},
   "outputs": [
    {
     "data": {
      "text/html": [
       "<div>\n",
       "<style scoped>\n",
       "    .dataframe tbody tr th:only-of-type {\n",
       "        vertical-align: middle;\n",
       "    }\n",
       "\n",
       "    .dataframe tbody tr th {\n",
       "        vertical-align: top;\n",
       "    }\n",
       "\n",
       "    .dataframe thead th {\n",
       "        text-align: right;\n",
       "    }\n",
       "</style>\n",
       "<table border=\"1\" class=\"dataframe\">\n",
       "  <thead>\n",
       "    <tr style=\"text-align: right;\">\n",
       "      <th></th>\n",
       "      <th>price_open</th>\n",
       "      <th>price_close</th>\n",
       "      <th>volume_traded</th>\n",
       "      <th>price_open.1</th>\n",
       "      <th>price_close.1</th>\n",
       "      <th>volume_traded.1</th>\n",
       "      <th>price_open.2</th>\n",
       "      <th>price_close.2</th>\n",
       "      <th>volume_traded.2</th>\n",
       "      <th>price_open.3</th>\n",
       "      <th>...</th>\n",
       "      <th>volume_traded.9</th>\n",
       "      <th>price_open.10</th>\n",
       "      <th>price_close.10</th>\n",
       "      <th>volume_traded.10</th>\n",
       "      <th>price_open.11</th>\n",
       "      <th>price_close.11</th>\n",
       "      <th>volume_traded.11</th>\n",
       "      <th>price_open.12</th>\n",
       "      <th>price_close.12</th>\n",
       "      <th>volume_traded.12</th>\n",
       "    </tr>\n",
       "  </thead>\n",
       "  <tbody>\n",
       "    <tr>\n",
       "      <th>count</th>\n",
       "      <td>12.000000</td>\n",
       "      <td>12.000000</td>\n",
       "      <td>12.000000</td>\n",
       "      <td>12.000000</td>\n",
       "      <td>12.000000</td>\n",
       "      <td>1.200000e+01</td>\n",
       "      <td>12.000000</td>\n",
       "      <td>12.000000</td>\n",
       "      <td>1.200000e+01</td>\n",
       "      <td>12.000000</td>\n",
       "      <td>...</td>\n",
       "      <td>1.200000e+01</td>\n",
       "      <td>12.000000</td>\n",
       "      <td>12.000000</td>\n",
       "      <td>1.200000e+01</td>\n",
       "      <td>12.000000</td>\n",
       "      <td>12.000000</td>\n",
       "      <td>12.000000</td>\n",
       "      <td>12.000000</td>\n",
       "      <td>12.000000</td>\n",
       "      <td>1.200000e+01</td>\n",
       "    </tr>\n",
       "    <tr>\n",
       "      <th>mean</th>\n",
       "      <td>7023.075000</td>\n",
       "      <td>7312.850000</td>\n",
       "      <td>221273.761575</td>\n",
       "      <td>177.963333</td>\n",
       "      <td>177.819167</td>\n",
       "      <td>2.401502e+06</td>\n",
       "      <td>66.813333</td>\n",
       "      <td>67.751667</td>\n",
       "      <td>8.939897e+05</td>\n",
       "      <td>0.054620</td>\n",
       "      <td>...</td>\n",
       "      <td>1.448699e+07</td>\n",
       "      <td>0.997450</td>\n",
       "      <td>0.997275</td>\n",
       "      <td>9.682839e+07</td>\n",
       "      <td>96.099583</td>\n",
       "      <td>93.018667</td>\n",
       "      <td>70688.328656</td>\n",
       "      <td>0.000171</td>\n",
       "      <td>0.000164</td>\n",
       "      <td>2.460643e+06</td>\n",
       "    </tr>\n",
       "    <tr>\n",
       "      <th>std</th>\n",
       "      <td>2779.617099</td>\n",
       "      <td>2574.480556</td>\n",
       "      <td>85781.870233</td>\n",
       "      <td>55.548182</td>\n",
       "      <td>55.666147</td>\n",
       "      <td>1.271679e+06</td>\n",
       "      <td>30.389105</td>\n",
       "      <td>29.232599</td>\n",
       "      <td>4.052974e+05</td>\n",
       "      <td>0.018386</td>\n",
       "      <td>...</td>\n",
       "      <td>2.796220e+07</td>\n",
       "      <td>0.004380</td>\n",
       "      <td>0.004335</td>\n",
       "      <td>5.194074e+07</td>\n",
       "      <td>35.003744</td>\n",
       "      <td>38.388461</td>\n",
       "      <td>25913.654181</td>\n",
       "      <td>0.000592</td>\n",
       "      <td>0.000569</td>\n",
       "      <td>8.523918e+06</td>\n",
       "    </tr>\n",
       "    <tr>\n",
       "      <th>min</th>\n",
       "      <td>3409.600000</td>\n",
       "      <td>3409.600000</td>\n",
       "      <td>101402.466300</td>\n",
       "      <td>105.740000</td>\n",
       "      <td>105.690000</td>\n",
       "      <td>9.409017e+05</td>\n",
       "      <td>29.880000</td>\n",
       "      <td>31.180000</td>\n",
       "      <td>4.176216e+05</td>\n",
       "      <td>0.038070</td>\n",
       "      <td>...</td>\n",
       "      <td>0.000000e+00</td>\n",
       "      <td>0.989800</td>\n",
       "      <td>0.989600</td>\n",
       "      <td>5.175998e+07</td>\n",
       "      <td>55.049000</td>\n",
       "      <td>41.027000</td>\n",
       "      <td>39131.475560</td>\n",
       "      <td>0.000000</td>\n",
       "      <td>0.000000</td>\n",
       "      <td>0.000000e+00</td>\n",
       "    </tr>\n",
       "    <tr>\n",
       "      <th>25%</th>\n",
       "      <td>4019.725000</td>\n",
       "      <td>4977.950000</td>\n",
       "      <td>168510.613375</td>\n",
       "      <td>139.480000</td>\n",
       "      <td>139.597500</td>\n",
       "      <td>1.377492e+06</td>\n",
       "      <td>46.592500</td>\n",
       "      <td>46.760000</td>\n",
       "      <td>5.936415e+05</td>\n",
       "      <td>0.040363</td>\n",
       "      <td>...</td>\n",
       "      <td>0.000000e+00</td>\n",
       "      <td>0.994575</td>\n",
       "      <td>0.994750</td>\n",
       "      <td>6.090942e+07</td>\n",
       "      <td>71.564000</td>\n",
       "      <td>69.580000</td>\n",
       "      <td>48989.221260</td>\n",
       "      <td>0.000000</td>\n",
       "      <td>0.000000</td>\n",
       "      <td>0.000000e+00</td>\n",
       "    </tr>\n",
       "    <tr>\n",
       "      <th>50%</th>\n",
       "      <td>7934.450000</td>\n",
       "      <td>7934.450000</td>\n",
       "      <td>199439.616100</td>\n",
       "      <td>166.115000</td>\n",
       "      <td>166.140000</td>\n",
       "      <td>2.187496e+06</td>\n",
       "      <td>59.215000</td>\n",
       "      <td>59.350000</td>\n",
       "      <td>7.955997e+05</td>\n",
       "      <td>0.043795</td>\n",
       "      <td>...</td>\n",
       "      <td>0.000000e+00</td>\n",
       "      <td>0.999650</td>\n",
       "      <td>0.998850</td>\n",
       "      <td>6.900030e+07</td>\n",
       "      <td>81.094500</td>\n",
       "      <td>80.480000</td>\n",
       "      <td>66266.216880</td>\n",
       "      <td>0.000000</td>\n",
       "      <td>0.000000</td>\n",
       "      <td>0.000000e+00</td>\n",
       "    </tr>\n",
       "    <tr>\n",
       "      <th>75%</th>\n",
       "      <td>9264.450000</td>\n",
       "      <td>9261.100000</td>\n",
       "      <td>268216.650475</td>\n",
       "      <td>191.467500</td>\n",
       "      <td>191.507500</td>\n",
       "      <td>3.123758e+06</td>\n",
       "      <td>79.875000</td>\n",
       "      <td>79.845000</td>\n",
       "      <td>1.058437e+06</td>\n",
       "      <td>0.069333</td>\n",
       "      <td>...</td>\n",
       "      <td>9.345538e+06</td>\n",
       "      <td>1.000550</td>\n",
       "      <td>1.000550</td>\n",
       "      <td>1.331775e+08</td>\n",
       "      <td>110.125000</td>\n",
       "      <td>110.125000</td>\n",
       "      <td>88497.181737</td>\n",
       "      <td>0.000000</td>\n",
       "      <td>0.000000</td>\n",
       "      <td>0.000000e+00</td>\n",
       "    </tr>\n",
       "    <tr>\n",
       "      <th>max</th>\n",
       "      <td>10749.400000</td>\n",
       "      <td>10752.300000</td>\n",
       "      <td>362948.578000</td>\n",
       "      <td>289.880000</td>\n",
       "      <td>289.500000</td>\n",
       "      <td>4.943666e+06</td>\n",
       "      <td>122.340000</td>\n",
       "      <td>122.000000</td>\n",
       "      <td>1.711144e+06</td>\n",
       "      <td>0.089000</td>\n",
       "      <td>...</td>\n",
       "      <td>8.256405e+07</td>\n",
       "      <td>1.002000</td>\n",
       "      <td>1.002200</td>\n",
       "      <td>2.115491e+08</td>\n",
       "      <td>165.999000</td>\n",
       "      <td>166.000000</td>\n",
       "      <td>109560.349500</td>\n",
       "      <td>0.002052</td>\n",
       "      <td>0.001970</td>\n",
       "      <td>2.952772e+07</td>\n",
       "    </tr>\n",
       "  </tbody>\n",
       "</table>\n",
       "<p>8 rows × 39 columns</p>\n",
       "</div>"
      ],
      "text/plain": [
       "         price_open   price_close  volume_traded  price_open.1  price_close.1  \\\n",
       "count     12.000000     12.000000      12.000000     12.000000      12.000000   \n",
       "mean    7023.075000   7312.850000  221273.761575    177.963333     177.819167   \n",
       "std     2779.617099   2574.480556   85781.870233     55.548182      55.666147   \n",
       "min     3409.600000   3409.600000  101402.466300    105.740000     105.690000   \n",
       "25%     4019.725000   4977.950000  168510.613375    139.480000     139.597500   \n",
       "50%     7934.450000   7934.450000  199439.616100    166.115000     166.140000   \n",
       "75%     9264.450000   9261.100000  268216.650475    191.467500     191.507500   \n",
       "max    10749.400000  10752.300000  362948.578000    289.880000     289.500000   \n",
       "\n",
       "       volume_traded.1  price_open.2  price_close.2  volume_traded.2  \\\n",
       "count     1.200000e+01     12.000000      12.000000     1.200000e+01   \n",
       "mean      2.401502e+06     66.813333      67.751667     8.939897e+05   \n",
       "std       1.271679e+06     30.389105      29.232599     4.052974e+05   \n",
       "min       9.409017e+05     29.880000      31.180000     4.176216e+05   \n",
       "25%       1.377492e+06     46.592500      46.760000     5.936415e+05   \n",
       "50%       2.187496e+06     59.215000      59.350000     7.955997e+05   \n",
       "75%       3.123758e+06     79.875000      79.845000     1.058437e+06   \n",
       "max       4.943666e+06    122.340000     122.000000     1.711144e+06   \n",
       "\n",
       "       price_open.3  ...  volume_traded.9  price_open.10  price_close.10  \\\n",
       "count     12.000000  ...     1.200000e+01      12.000000       12.000000   \n",
       "mean       0.054620  ...     1.448699e+07       0.997450        0.997275   \n",
       "std        0.018386  ...     2.796220e+07       0.004380        0.004335   \n",
       "min        0.038070  ...     0.000000e+00       0.989800        0.989600   \n",
       "25%        0.040363  ...     0.000000e+00       0.994575        0.994750   \n",
       "50%        0.043795  ...     0.000000e+00       0.999650        0.998850   \n",
       "75%        0.069333  ...     9.345538e+06       1.000550        1.000550   \n",
       "max        0.089000  ...     8.256405e+07       1.002000        1.002200   \n",
       "\n",
       "       volume_traded.10  price_open.11  price_close.11  volume_traded.11  \\\n",
       "count      1.200000e+01      12.000000       12.000000         12.000000   \n",
       "mean       9.682839e+07      96.099583       93.018667      70688.328656   \n",
       "std        5.194074e+07      35.003744       38.388461      25913.654181   \n",
       "min        5.175998e+07      55.049000       41.027000      39131.475560   \n",
       "25%        6.090942e+07      71.564000       69.580000      48989.221260   \n",
       "50%        6.900030e+07      81.094500       80.480000      66266.216880   \n",
       "75%        1.331775e+08     110.125000      110.125000      88497.181737   \n",
       "max        2.115491e+08     165.999000      166.000000     109560.349500   \n",
       "\n",
       "       price_open.12  price_close.12  volume_traded.12  \n",
       "count      12.000000       12.000000      1.200000e+01  \n",
       "mean        0.000171        0.000164      2.460643e+06  \n",
       "std         0.000592        0.000569      8.523918e+06  \n",
       "min         0.000000        0.000000      0.000000e+00  \n",
       "25%         0.000000        0.000000      0.000000e+00  \n",
       "50%         0.000000        0.000000      0.000000e+00  \n",
       "75%         0.000000        0.000000      0.000000e+00  \n",
       "max         0.002052        0.001970      2.952772e+07  \n",
       "\n",
       "[8 rows x 39 columns]"
      ]
     },
     "execution_count": 4,
     "metadata": {},
     "output_type": "execute_result"
    }
   ],
   "source": [
    "# View the dataframe\n",
    "df_2019.describe()"
   ]
  },
  {
   "cell_type": "code",
   "execution_count": 5,
   "id": "1934efd8",
   "metadata": {},
   "outputs": [
    {
     "data": {
      "text/html": [
       "<div>\n",
       "<style scoped>\n",
       "    .dataframe tbody tr th:only-of-type {\n",
       "        vertical-align: middle;\n",
       "    }\n",
       "\n",
       "    .dataframe tbody tr th {\n",
       "        vertical-align: top;\n",
       "    }\n",
       "\n",
       "    .dataframe thead th {\n",
       "        text-align: right;\n",
       "    }\n",
       "</style>\n",
       "<table border=\"1\" class=\"dataframe\">\n",
       "  <thead>\n",
       "    <tr style=\"text-align: right;\">\n",
       "      <th></th>\n",
       "      <th>BTC_Monthly_Close</th>\n",
       "      <th>ETH_Monthly_Close</th>\n",
       "      <th>LTC_Monthly_Close</th>\n",
       "      <th>ADA_Monthly_Close</th>\n",
       "      <th>XLM_Monthly_Close</th>\n",
       "      <th>XRP_Monthly_Close</th>\n",
       "      <th>LISK_Monthly_Close</th>\n",
       "      <th>WAVES_Monthly_Close</th>\n",
       "      <th>ZEC_Monthly_Close</th>\n",
       "      <th>SC_Monthly_Close</th>\n",
       "      <th>USDT_Monthly_Close</th>\n",
       "      <th>DASH_Monthly_Close</th>\n",
       "      <th>DOGE_Monthly_Close</th>\n",
       "    </tr>\n",
       "    <tr>\n",
       "      <th>Month</th>\n",
       "      <th></th>\n",
       "      <th></th>\n",
       "      <th></th>\n",
       "      <th></th>\n",
       "      <th></th>\n",
       "      <th></th>\n",
       "      <th></th>\n",
       "      <th></th>\n",
       "      <th></th>\n",
       "      <th></th>\n",
       "      <th></th>\n",
       "      <th></th>\n",
       "      <th></th>\n",
       "    </tr>\n",
       "  </thead>\n",
       "  <tbody>\n",
       "    <tr>\n",
       "      <th>January</th>\n",
       "      <td>3409.6</td>\n",
       "      <td>105.69</td>\n",
       "      <td>31.18</td>\n",
       "      <td>0.038247</td>\n",
       "      <td>0.080864</td>\n",
       "      <td>0.30649</td>\n",
       "      <td>0.000000</td>\n",
       "      <td>0.0000</td>\n",
       "      <td>48.67</td>\n",
       "      <td>0.00000</td>\n",
       "      <td>0.9940</td>\n",
       "      <td>66.550</td>\n",
       "      <td>0.00000</td>\n",
       "    </tr>\n",
       "    <tr>\n",
       "      <th>February</th>\n",
       "      <td>3793.7</td>\n",
       "      <td>134.52</td>\n",
       "      <td>45.35</td>\n",
       "      <td>0.042765</td>\n",
       "      <td>0.083897</td>\n",
       "      <td>0.31267</td>\n",
       "      <td>0.000000</td>\n",
       "      <td>0.0000</td>\n",
       "      <td>50.85</td>\n",
       "      <td>0.00000</td>\n",
       "      <td>0.9950</td>\n",
       "      <td>80.960</td>\n",
       "      <td>0.00000</td>\n",
       "    </tr>\n",
       "    <tr>\n",
       "      <th>March</th>\n",
       "      <td>4095.2</td>\n",
       "      <td>141.29</td>\n",
       "      <td>60.29</td>\n",
       "      <td>0.069574</td>\n",
       "      <td>0.107759</td>\n",
       "      <td>0.30811</td>\n",
       "      <td>0.000000</td>\n",
       "      <td>0.0000</td>\n",
       "      <td>58.18</td>\n",
       "      <td>0.00000</td>\n",
       "      <td>0.9975</td>\n",
       "      <td>110.200</td>\n",
       "      <td>0.00000</td>\n",
       "    </tr>\n",
       "    <tr>\n",
       "      <th>April</th>\n",
       "      <td>5272.2</td>\n",
       "      <td>160.36</td>\n",
       "      <td>73.51</td>\n",
       "      <td>0.069310</td>\n",
       "      <td>0.099763</td>\n",
       "      <td>0.30511</td>\n",
       "      <td>0.000000</td>\n",
       "      <td>0.0000</td>\n",
       "      <td>60.03</td>\n",
       "      <td>0.00000</td>\n",
       "      <td>0.9896</td>\n",
       "      <td>110.100</td>\n",
       "      <td>0.00000</td>\n",
       "    </tr>\n",
       "    <tr>\n",
       "      <th>May</th>\n",
       "      <td>8552.9</td>\n",
       "      <td>267.56</td>\n",
       "      <td>114.64</td>\n",
       "      <td>0.089212</td>\n",
       "      <td>0.133041</td>\n",
       "      <td>0.43844</td>\n",
       "      <td>0.000000</td>\n",
       "      <td>0.0000</td>\n",
       "      <td>90.56</td>\n",
       "      <td>0.00000</td>\n",
       "      <td>1.0005</td>\n",
       "      <td>166.000</td>\n",
       "      <td>0.00000</td>\n",
       "    </tr>\n",
       "    <tr>\n",
       "      <th>June</th>\n",
       "      <td>10752.3</td>\n",
       "      <td>289.50</td>\n",
       "      <td>122.00</td>\n",
       "      <td>0.082022</td>\n",
       "      <td>0.103835</td>\n",
       "      <td>0.39216</td>\n",
       "      <td>0.000000</td>\n",
       "      <td>0.0000</td>\n",
       "      <td>102.11</td>\n",
       "      <td>0.00000</td>\n",
       "      <td>0.9900</td>\n",
       "      <td>155.767</td>\n",
       "      <td>0.00000</td>\n",
       "    </tr>\n",
       "    <tr>\n",
       "      <th>July</th>\n",
       "      <td>10090.1</td>\n",
       "      <td>218.68</td>\n",
       "      <td>98.85</td>\n",
       "      <td>0.060128</td>\n",
       "      <td>0.083740</td>\n",
       "      <td>0.31997</td>\n",
       "      <td>0.000000</td>\n",
       "      <td>0.0000</td>\n",
       "      <td>67.82</td>\n",
       "      <td>0.00000</td>\n",
       "      <td>1.0003</td>\n",
       "      <td>108.404</td>\n",
       "      <td>0.00000</td>\n",
       "    </tr>\n",
       "    <tr>\n",
       "      <th>August</th>\n",
       "      <td>9604.3</td>\n",
       "      <td>171.92</td>\n",
       "      <td>64.29</td>\n",
       "      <td>0.044879</td>\n",
       "      <td>0.062099</td>\n",
       "      <td>0.25799</td>\n",
       "      <td>0.000000</td>\n",
       "      <td>0.0000</td>\n",
       "      <td>44.87</td>\n",
       "      <td>0.00000</td>\n",
       "      <td>1.0002</td>\n",
       "      <td>80.000</td>\n",
       "      <td>0.00000</td>\n",
       "    </tr>\n",
       "    <tr>\n",
       "      <th>September</th>\n",
       "      <td>8310.0</td>\n",
       "      <td>181.53</td>\n",
       "      <td>56.12</td>\n",
       "      <td>0.038933</td>\n",
       "      <td>0.061930</td>\n",
       "      <td>0.25674</td>\n",
       "      <td>0.000000</td>\n",
       "      <td>0.0000</td>\n",
       "      <td>38.84</td>\n",
       "      <td>0.00000</td>\n",
       "      <td>1.0022</td>\n",
       "      <td>70.590</td>\n",
       "      <td>0.00000</td>\n",
       "    </tr>\n",
       "    <tr>\n",
       "      <th>October</th>\n",
       "      <td>9146.7</td>\n",
       "      <td>182.45</td>\n",
       "      <td>58.41</td>\n",
       "      <td>0.041380</td>\n",
       "      <td>0.064880</td>\n",
       "      <td>0.29460</td>\n",
       "      <td>0.000000</td>\n",
       "      <td>0.7775</td>\n",
       "      <td>37.42</td>\n",
       "      <td>0.00199</td>\n",
       "      <td>1.0007</td>\n",
       "      <td>71.577</td>\n",
       "      <td>0.00000</td>\n",
       "    </tr>\n",
       "    <tr>\n",
       "      <th>November</th>\n",
       "      <td>7558.9</td>\n",
       "      <td>151.74</td>\n",
       "      <td>47.23</td>\n",
       "      <td>0.040458</td>\n",
       "      <td>0.057313</td>\n",
       "      <td>0.22594</td>\n",
       "      <td>0.705487</td>\n",
       "      <td>0.6023</td>\n",
       "      <td>29.02</td>\n",
       "      <td>0.00161</td>\n",
       "      <td>1.0010</td>\n",
       "      <td>55.049</td>\n",
       "      <td>0.00000</td>\n",
       "    </tr>\n",
       "    <tr>\n",
       "      <th>December</th>\n",
       "      <td>7168.3</td>\n",
       "      <td>128.59</td>\n",
       "      <td>41.15</td>\n",
       "      <td>0.032672</td>\n",
       "      <td>0.044700</td>\n",
       "      <td>0.19260</td>\n",
       "      <td>0.554753</td>\n",
       "      <td>1.0105</td>\n",
       "      <td>27.41</td>\n",
       "      <td>0.00130</td>\n",
       "      <td>0.9963</td>\n",
       "      <td>41.027</td>\n",
       "      <td>0.00197</td>\n",
       "    </tr>\n",
       "  </tbody>\n",
       "</table>\n",
       "</div>"
      ],
      "text/plain": [
       "           BTC_Monthly_Close  ETH_Monthly_Close  LTC_Monthly_Close  \\\n",
       "Month                                                                \n",
       "January               3409.6             105.69              31.18   \n",
       "February              3793.7             134.52              45.35   \n",
       "March                 4095.2             141.29              60.29   \n",
       "April                 5272.2             160.36              73.51   \n",
       "May                   8552.9             267.56             114.64   \n",
       "June                 10752.3             289.50             122.00   \n",
       "July                 10090.1             218.68              98.85   \n",
       "August                9604.3             171.92              64.29   \n",
       "September             8310.0             181.53              56.12   \n",
       "October               9146.7             182.45              58.41   \n",
       "November              7558.9             151.74              47.23   \n",
       "December              7168.3             128.59              41.15   \n",
       "\n",
       "           ADA_Monthly_Close  XLM_Monthly_Close  XRP_Monthly_Close  \\\n",
       "Month                                                                \n",
       "January             0.038247           0.080864            0.30649   \n",
       "February            0.042765           0.083897            0.31267   \n",
       "March               0.069574           0.107759            0.30811   \n",
       "April               0.069310           0.099763            0.30511   \n",
       "May                 0.089212           0.133041            0.43844   \n",
       "June                0.082022           0.103835            0.39216   \n",
       "July                0.060128           0.083740            0.31997   \n",
       "August              0.044879           0.062099            0.25799   \n",
       "September           0.038933           0.061930            0.25674   \n",
       "October             0.041380           0.064880            0.29460   \n",
       "November            0.040458           0.057313            0.22594   \n",
       "December            0.032672           0.044700            0.19260   \n",
       "\n",
       "           LISK_Monthly_Close  WAVES_Monthly_Close  ZEC_Monthly_Close  \\\n",
       "Month                                                                   \n",
       "January              0.000000               0.0000              48.67   \n",
       "February             0.000000               0.0000              50.85   \n",
       "March                0.000000               0.0000              58.18   \n",
       "April                0.000000               0.0000              60.03   \n",
       "May                  0.000000               0.0000              90.56   \n",
       "June                 0.000000               0.0000             102.11   \n",
       "July                 0.000000               0.0000              67.82   \n",
       "August               0.000000               0.0000              44.87   \n",
       "September            0.000000               0.0000              38.84   \n",
       "October              0.000000               0.7775              37.42   \n",
       "November             0.705487               0.6023              29.02   \n",
       "December             0.554753               1.0105              27.41   \n",
       "\n",
       "           SC_Monthly_Close  USDT_Monthly_Close  DASH_Monthly_Close  \\\n",
       "Month                                                                 \n",
       "January             0.00000              0.9940              66.550   \n",
       "February            0.00000              0.9950              80.960   \n",
       "March               0.00000              0.9975             110.200   \n",
       "April               0.00000              0.9896             110.100   \n",
       "May                 0.00000              1.0005             166.000   \n",
       "June                0.00000              0.9900             155.767   \n",
       "July                0.00000              1.0003             108.404   \n",
       "August              0.00000              1.0002              80.000   \n",
       "September           0.00000              1.0022              70.590   \n",
       "October             0.00199              1.0007              71.577   \n",
       "November            0.00161              1.0010              55.049   \n",
       "December            0.00130              0.9963              41.027   \n",
       "\n",
       "           DOGE_Monthly_Close  \n",
       "Month                          \n",
       "January               0.00000  \n",
       "February              0.00000  \n",
       "March                 0.00000  \n",
       "April                 0.00000  \n",
       "May                   0.00000  \n",
       "June                  0.00000  \n",
       "July                  0.00000  \n",
       "August                0.00000  \n",
       "September             0.00000  \n",
       "October               0.00000  \n",
       "November              0.00000  \n",
       "December              0.00197  "
      ]
     },
     "execution_count": 5,
     "metadata": {},
     "output_type": "execute_result"
    }
   ],
   "source": [
    "# Clean the dataframe to only include the closing price\n",
    "final_2019_df = pd.DataFrame()\n",
    "final_2019_df['BTC_Monthly_Close'] = df_2019['price_close']\n",
    "final_2019_df['ETH_Monthly_Close'] = df_2019['price_close.1']\n",
    "final_2019_df['LTC_Monthly_Close'] = df_2019['price_close.2']\n",
    "final_2019_df['ADA_Monthly_Close'] = df_2019['price_close.3']\n",
    "final_2019_df['XLM_Monthly_Close'] = df_2019['price_close.4']\n",
    "final_2019_df['XRP_Monthly_Close'] = df_2019['price_close.5']\n",
    "final_2019_df['LISK_Monthly_Close'] = df_2019['price_close.6']\n",
    "final_2019_df['WAVES_Monthly_Close'] = df_2019['price_close.7']\n",
    "final_2019_df['ZEC_Monthly_Close'] = df_2019['price_close.8']\n",
    "final_2019_df['SC_Monthly_Close'] = df_2019['price_close.9']\n",
    "final_2019_df['USDT_Monthly_Close'] = df_2019['price_close.10']\n",
    "final_2019_df['DASH_Monthly_Close'] = df_2019['price_close.11']\n",
    "final_2019_df['DOGE_Monthly_Close'] = df_2019['price_close.12']\n",
    "\n",
    "final_2019_df"
   ]
  },
  {
   "cell_type": "code",
   "execution_count": 6,
   "id": "245d583d",
   "metadata": {},
   "outputs": [
    {
     "data": {
      "text/plain": [
       "Month\n",
       "January      0.000000\n",
       "February     0.112653\n",
       "March        0.079474\n",
       "April        0.287410\n",
       "May          0.622264\n",
       "June         0.257153\n",
       "July        -0.061587\n",
       "August      -0.048146\n",
       "September   -0.134763\n",
       "October      0.100686\n",
       "November    -0.173593\n",
       "December    -0.051674\n",
       "Name: BTC_Monthly_Close, dtype: float64"
      ]
     },
     "execution_count": 6,
     "metadata": {},
     "output_type": "execute_result"
    }
   ],
   "source": [
    "# STEP 3: CALCULATE Monthly RETURNS FOR EACH CURRENCY IN Designated Time range from  DATAFRAME, DROP NULL VALUES\n",
    "\"\"\"\n",
    "\n",
    "Will need: .pct_change().dropna(inplace = True)\n",
    "\n",
    "\"\"\"\n",
    "btc_2019_df = final_2019_df['BTC_Monthly_Close'].pct_change().fillna(0)\n",
    "btc_2019_df"
   ]
  },
  {
   "cell_type": "code",
   "execution_count": 7,
   "id": "9eccf253",
   "metadata": {},
   "outputs": [
    {
     "data": {
      "text/plain": [
       "Month\n",
       "January      0.000000\n",
       "February     0.272779\n",
       "March        0.050327\n",
       "April        0.134971\n",
       "May          0.668496\n",
       "June         0.082000\n",
       "July        -0.244629\n",
       "August      -0.213828\n",
       "September    0.055898\n",
       "October      0.005068\n",
       "November    -0.168320\n",
       "December    -0.152564\n",
       "Name: ETH_Monthly_Close, dtype: float64"
      ]
     },
     "execution_count": 7,
     "metadata": {},
     "output_type": "execute_result"
    }
   ],
   "source": [
    "eth_2019_df = final_2019_df['ETH_Monthly_Close'].pct_change().fillna(0)\n",
    "eth_2019_df"
   ]
  },
  {
   "cell_type": "code",
   "execution_count": 8,
   "id": "670457f3",
   "metadata": {},
   "outputs": [
    {
     "data": {
      "text/plain": [
       "Month\n",
       "January      0.000000\n",
       "February     0.454458\n",
       "March        0.329438\n",
       "April        0.219274\n",
       "May          0.559516\n",
       "June         0.064201\n",
       "July        -0.189754\n",
       "August      -0.349621\n",
       "September   -0.127080\n",
       "October      0.040805\n",
       "November    -0.191406\n",
       "December    -0.128732\n",
       "Name: LTC_Monthly_Close, dtype: float64"
      ]
     },
     "execution_count": 8,
     "metadata": {},
     "output_type": "execute_result"
    }
   ],
   "source": [
    "ltc_2019_df = final_2019_df['LTC_Monthly_Close'].pct_change().fillna(0)\n",
    "ltc_2019_df"
   ]
  },
  {
   "cell_type": "code",
   "execution_count": 9,
   "id": "a5ff4006",
   "metadata": {},
   "outputs": [
    {
     "data": {
      "text/plain": [
       "Month\n",
       "January      0.000000\n",
       "February     0.118127\n",
       "March        0.626891\n",
       "April       -0.003795\n",
       "May          0.287145\n",
       "June        -0.080595\n",
       "July        -0.266928\n",
       "August      -0.253609\n",
       "September   -0.132490\n",
       "October      0.062852\n",
       "November    -0.022281\n",
       "December    -0.192446\n",
       "Name: ADA_Monthly_Close, dtype: float64"
      ]
     },
     "execution_count": 9,
     "metadata": {},
     "output_type": "execute_result"
    }
   ],
   "source": [
    "ada_2019_df = final_2019_df['ADA_Monthly_Close'].pct_change().fillna(0)\n",
    "ada_2019_df"
   ]
  },
  {
   "cell_type": "code",
   "execution_count": 10,
   "id": "fa27d412",
   "metadata": {},
   "outputs": [
    {
     "data": {
      "text/plain": [
       "Month\n",
       "January      0.000000\n",
       "February     0.037507\n",
       "March        0.284420\n",
       "April       -0.074203\n",
       "May          0.333571\n",
       "June        -0.219526\n",
       "July        -0.193528\n",
       "August      -0.258431\n",
       "September   -0.002721\n",
       "October      0.047634\n",
       "November    -0.116631\n",
       "December    -0.220072\n",
       "Name: XLM_Monthly_Close, dtype: float64"
      ]
     },
     "execution_count": 10,
     "metadata": {},
     "output_type": "execute_result"
    }
   ],
   "source": [
    "xlm_2019_df = final_2019_df['XLM_Monthly_Close'].pct_change().fillna(0)\n",
    "xlm_2019_df"
   ]
  },
  {
   "cell_type": "code",
   "execution_count": 11,
   "id": "f233aee1",
   "metadata": {},
   "outputs": [
    {
     "data": {
      "text/plain": [
       "Month\n",
       "January      0.000000\n",
       "February     0.020164\n",
       "March       -0.014584\n",
       "April       -0.009737\n",
       "May          0.436990\n",
       "June        -0.105556\n",
       "July        -0.184083\n",
       "August      -0.193706\n",
       "September   -0.004845\n",
       "October      0.147464\n",
       "November    -0.233062\n",
       "December    -0.147561\n",
       "Name: XRP_Monthly_Close, dtype: float64"
      ]
     },
     "execution_count": 11,
     "metadata": {},
     "output_type": "execute_result"
    }
   ],
   "source": [
    "xrp_2019_df = final_2019_df['XRP_Monthly_Close'].pct_change().fillna(0)\n",
    "xrp_2019_df"
   ]
  },
  {
   "cell_type": "code",
   "execution_count": 12,
   "id": "08df7720",
   "metadata": {},
   "outputs": [
    {
     "data": {
      "text/plain": [
       "Month\n",
       "November    0.00000\n",
       "December   -0.21366\n",
       "Name: LISK_Monthly_Close, dtype: float64"
      ]
     },
     "execution_count": 12,
     "metadata": {},
     "output_type": "execute_result"
    }
   ],
   "source": [
    "lisk_2019_df = final_2019_df['LISK_Monthly_Close'].drop(\n",
    "    labels=['January', 'February', 'March', 'April', 'May', 'June', 'July', 'August', 'September', 'October']).pct_change().fillna(0)\n",
    "lisk_2019_df"
   ]
  },
  {
   "cell_type": "code",
   "execution_count": 13,
   "id": "7778ad90",
   "metadata": {},
   "outputs": [
    {
     "data": {
      "text/plain": [
       "Month\n",
       "October     0.000000\n",
       "November   -0.225338\n",
       "December    0.677735\n",
       "Name: WAVES_Monthly_Close, dtype: float64"
      ]
     },
     "execution_count": 13,
     "metadata": {},
     "output_type": "execute_result"
    }
   ],
   "source": [
    "waves_2019_df = final_2019_df['WAVES_Monthly_Close'].drop(\n",
    "    labels=['January', 'February', 'March', 'April', 'May', 'June', 'July', 'August', 'September']).pct_change().fillna(0)\n",
    "waves_2019_df"
   ]
  },
  {
   "cell_type": "code",
   "execution_count": 14,
   "id": "c798fa4f",
   "metadata": {},
   "outputs": [
    {
     "data": {
      "text/plain": [
       "Month\n",
       "January      0.000000\n",
       "February     0.044791\n",
       "March        0.144149\n",
       "April        0.031798\n",
       "May          0.508579\n",
       "June         0.127540\n",
       "July        -0.335814\n",
       "August      -0.338396\n",
       "September   -0.134388\n",
       "October     -0.036560\n",
       "November    -0.224479\n",
       "December    -0.055479\n",
       "Name: ZEC_Monthly_Close, dtype: float64"
      ]
     },
     "execution_count": 14,
     "metadata": {},
     "output_type": "execute_result"
    }
   ],
   "source": [
    "zec_2019_df = final_2019_df['ZEC_Monthly_Close'].pct_change().fillna(0)\n",
    "zec_2019_df"
   ]
  },
  {
   "cell_type": "code",
   "execution_count": 15,
   "id": "4419a392",
   "metadata": {},
   "outputs": [
    {
     "data": {
      "text/plain": [
       "Month\n",
       "October     0.000000\n",
       "November   -0.190955\n",
       "December   -0.192547\n",
       "Name: SC_Monthly_Close, dtype: float64"
      ]
     },
     "execution_count": 15,
     "metadata": {},
     "output_type": "execute_result"
    }
   ],
   "source": [
    "sc_2019_df = final_2019_df['SC_Monthly_Close'].drop(\n",
    "    labels=['January', 'February', 'March', 'April', 'May', 'June', 'July', 'August', 'September']).pct_change().fillna(0)\n",
    "sc_2019_df"
   ]
  },
  {
   "cell_type": "code",
   "execution_count": 16,
   "id": "7b1ce496",
   "metadata": {},
   "outputs": [
    {
     "data": {
      "text/plain": [
       "Month\n",
       "January      0.000000\n",
       "February     0.001006\n",
       "March        0.002513\n",
       "April       -0.007920\n",
       "May          0.011015\n",
       "June        -0.010495\n",
       "July         0.010404\n",
       "August      -0.000100\n",
       "September    0.002000\n",
       "October     -0.001497\n",
       "November     0.000300\n",
       "December    -0.004695\n",
       "Name: USDT_Monthly_Close, dtype: float64"
      ]
     },
     "execution_count": 16,
     "metadata": {},
     "output_type": "execute_result"
    }
   ],
   "source": [
    "usdt_2019_df = final_2019_df['USDT_Monthly_Close'].pct_change().fillna(0)\n",
    "usdt_2019_df"
   ]
  },
  {
   "cell_type": "code",
   "execution_count": 17,
   "id": "75cdcdf8",
   "metadata": {},
   "outputs": [
    {
     "data": {
      "text/plain": [
       "Month\n",
       "January      0.000000\n",
       "February     0.216529\n",
       "March        0.361166\n",
       "April       -0.000907\n",
       "May          0.507720\n",
       "June        -0.061645\n",
       "July        -0.304063\n",
       "August      -0.262020\n",
       "September   -0.117625\n",
       "October      0.013982\n",
       "November    -0.230912\n",
       "December    -0.254719\n",
       "Name: DASH_Monthly_Close, dtype: float64"
      ]
     },
     "execution_count": 17,
     "metadata": {},
     "output_type": "execute_result"
    }
   ],
   "source": [
    "dash_2019_df = final_2019_df['DASH_Monthly_Close'].pct_change().fillna(0)\n",
    "dash_2019_df"
   ]
  },
  {
   "cell_type": "code",
   "execution_count": 18,
   "id": "f42c36bd",
   "metadata": {},
   "outputs": [
    {
     "data": {
      "text/plain": [
       "Month\n",
       "January      0.000000\n",
       "February     0.112653\n",
       "March        0.079474\n",
       "April        0.287410\n",
       "May          0.622264\n",
       "June         0.257153\n",
       "July        -0.061587\n",
       "August      -0.048146\n",
       "September   -0.134763\n",
       "October      0.100686\n",
       "November    -0.173593\n",
       "December    -0.051674\n",
       "Name: BTC_Monthly_Close, dtype: float64"
      ]
     },
     "execution_count": 18,
     "metadata": {},
     "output_type": "execute_result"
    }
   ],
   "source": [
    "doge_2019_df = final_2019_df['BTC_Monthly_Close'].pct_change().fillna(0)\n",
    "doge_2019_df"
   ]
  },
  {
   "cell_type": "code",
   "execution_count": 19,
   "id": "c2bfbf34",
   "metadata": {},
   "outputs": [
    {
     "data": {
      "text/plain": [
       "0.04913732092564733"
      ]
     },
     "execution_count": 19,
     "metadata": {},
     "output_type": "execute_result"
    }
   ],
   "source": [
    "# Step 4: Calculate the variance of bitcoin, in this case being used as a proxy for the market.\n",
    "# assign to market variance value\n",
    "market_var = btc_2019_df.var()\n",
    "market_var"
   ]
  },
  {
   "cell_type": "code",
   "execution_count": 20,
   "id": "40cbfa30",
   "metadata": {},
   "outputs": [
    {
     "data": {
      "text/plain": [
       "0.04913732092564733"
      ]
     },
     "execution_count": 20,
     "metadata": {},
     "output_type": "execute_result"
    }
   ],
   "source": [
    "btc_var = btc_2019_df.var()\n",
    "btc_var"
   ]
  },
  {
   "cell_type": "code",
   "execution_count": 21,
   "id": "86a7d3a2",
   "metadata": {},
   "outputs": [
    {
     "data": {
      "text/plain": [
       "0.06264253178867535"
      ]
     },
     "execution_count": 21,
     "metadata": {},
     "output_type": "execute_result"
    }
   ],
   "source": [
    "eth_var = eth_2019_df.var()\n",
    "eth_var"
   ]
  },
  {
   "cell_type": "code",
   "execution_count": 22,
   "id": "7c48ba63",
   "metadata": {},
   "outputs": [
    {
     "data": {
      "text/plain": [
       "0.07917522220591415"
      ]
     },
     "execution_count": 22,
     "metadata": {},
     "output_type": "execute_result"
    }
   ],
   "source": [
    "ltc_var = ltc_2019_df.var()\n",
    "ltc_var"
   ]
  },
  {
   "cell_type": "code",
   "execution_count": 23,
   "id": "121b9e85",
   "metadata": {},
   "outputs": [
    {
     "data": {
      "text/plain": [
       "0.06261923920812973"
      ]
     },
     "execution_count": 23,
     "metadata": {},
     "output_type": "execute_result"
    }
   ],
   "source": [
    "ada_var = ada_2019_df.var()\n",
    "ada_var"
   ]
  },
  {
   "cell_type": "code",
   "execution_count": 24,
   "id": "29a08f9f",
   "metadata": {},
   "outputs": [
    {
     "data": {
      "text/plain": [
       "0.036696397630899234"
      ]
     },
     "execution_count": 24,
     "metadata": {},
     "output_type": "execute_result"
    }
   ],
   "source": [
    "xlm_var = xlm_2019_df.var()\n",
    "xlm_var"
   ]
  },
  {
   "cell_type": "code",
   "execution_count": 25,
   "id": "9a1d57f5",
   "metadata": {},
   "outputs": [
    {
     "data": {
      "text/plain": [
       "0.03319539779076096"
      ]
     },
     "execution_count": 25,
     "metadata": {},
     "output_type": "execute_result"
    }
   ],
   "source": [
    "xrp_var = xrp_2019_df.var()\n",
    "xrp_var"
   ]
  },
  {
   "cell_type": "code",
   "execution_count": 26,
   "id": "756f46b6",
   "metadata": {},
   "outputs": [
    {
     "data": {
      "text/plain": [
       "0.022825191068098227"
      ]
     },
     "execution_count": 26,
     "metadata": {},
     "output_type": "execute_result"
    }
   ],
   "source": [
    "lisk_var = lisk_2019_df.var()\n",
    "lisk_var"
   ]
  },
  {
   "cell_type": "code",
   "execution_count": 27,
   "id": "0a94d85a",
   "metadata": {},
   "outputs": [
    {
     "data": {
      "text/plain": [
       "0.22094050520457498"
      ]
     },
     "execution_count": 27,
     "metadata": {},
     "output_type": "execute_result"
    }
   ],
   "source": [
    "waves_var = waves_2019_df.var()\n",
    "waves_var"
   ]
  },
  {
   "cell_type": "code",
   "execution_count": 28,
   "id": "0cf585d2",
   "metadata": {},
   "outputs": [
    {
     "data": {
      "text/plain": [
       "0.05389700512372722"
      ]
     },
     "execution_count": 28,
     "metadata": {},
     "output_type": "execute_result"
    }
   ],
   "source": [
    "zec_var = zec_2019_df.var()\n",
    "zec_var"
   ]
  },
  {
   "cell_type": "code",
   "execution_count": 29,
   "id": "7995aec8",
   "metadata": {},
   "outputs": [
    {
     "data": {
      "text/plain": [
       "0.012256741079195787"
      ]
     },
     "execution_count": 29,
     "metadata": {},
     "output_type": "execute_result"
    }
   ],
   "source": [
    "sc_var = sc_2019_df.var()\n",
    "sc_var"
   ]
  },
  {
   "cell_type": "code",
   "execution_count": 30,
   "id": "622371d0",
   "metadata": {},
   "outputs": [
    {
     "data": {
      "text/plain": [
       "3.978212677853601e-05"
      ]
     },
     "execution_count": 30,
     "metadata": {},
     "output_type": "execute_result"
    }
   ],
   "source": [
    "usdt_var = usdt_2019_df.var()\n",
    "usdt_var"
   ]
  },
  {
   "cell_type": "code",
   "execution_count": 31,
   "id": "7b3906d9",
   "metadata": {},
   "outputs": [
    {
     "data": {
      "text/plain": [
       "0.06643503635443479"
      ]
     },
     "execution_count": 31,
     "metadata": {},
     "output_type": "execute_result"
    }
   ],
   "source": [
    "dash_var = dash_2019_df.var()\n",
    "dash_var"
   ]
  },
  {
   "cell_type": "code",
   "execution_count": 32,
   "id": "a663f898",
   "metadata": {},
   "outputs": [
    {
     "data": {
      "text/plain": [
       "0.04913732092564733"
      ]
     },
     "execution_count": 32,
     "metadata": {},
     "output_type": "execute_result"
    }
   ],
   "source": [
    "doge_var = doge_2019_df.var()\n",
    "doge_var"
   ]
  },
  {
   "cell_type": "code",
   "execution_count": 33,
   "id": "062c897c",
   "metadata": {},
   "outputs": [
    {
     "data": {
      "text/plain": [
       "0.04913732092564733"
      ]
     },
     "execution_count": 33,
     "metadata": {},
     "output_type": "execute_result"
    }
   ],
   "source": [
    "# STEP 5B: CALCULATE COVARIANCE OF EACH CURRENCY RELATIVE TO BITCOIN\n",
    "\"\"\"\n",
    "Use monthly returns of currency and monthly returns of bitcoin as market proxy\n",
    "\n",
    "\"\"\"\n",
    "\n",
    "mkt_2019_cov = btc_2019_df.cov(btc_2019_df)\n",
    "mkt_2019_cov"
   ]
  },
  {
   "cell_type": "code",
   "execution_count": 34,
   "id": "9a89ebbc",
   "metadata": {},
   "outputs": [
    {
     "data": {
      "text/plain": [
       "0.047781176412459284"
      ]
     },
     "execution_count": 34,
     "metadata": {},
     "output_type": "execute_result"
    }
   ],
   "source": [
    "eth_2019_cov = eth_2019_df.cov(btc_2019_df)\n",
    "eth_2019_cov"
   ]
  },
  {
   "cell_type": "code",
   "execution_count": 35,
   "id": "df65cb71",
   "metadata": {},
   "outputs": [
    {
     "data": {
      "text/plain": [
       "0.04895666471785051"
      ]
     },
     "execution_count": 35,
     "metadata": {},
     "output_type": "execute_result"
    }
   ],
   "source": [
    "ltc_2019_cov = ltc_2019_df.cov(btc_2019_df)\n",
    "ltc_2019_cov"
   ]
  },
  {
   "cell_type": "code",
   "execution_count": 36,
   "id": "12469af8",
   "metadata": {},
   "outputs": [
    {
     "data": {
      "text/plain": [
       "0.024986582540725367"
      ]
     },
     "execution_count": 36,
     "metadata": {},
     "output_type": "execute_result"
    }
   ],
   "source": [
    "ada_2019_cov = ada_2019_df.cov(btc_2019_df)\n",
    "ada_2019_cov"
   ]
  },
  {
   "cell_type": "code",
   "execution_count": 37,
   "id": "028c2b96",
   "metadata": {},
   "outputs": [
    {
     "data": {
      "text/plain": [
       "0.02266106411894315"
      ]
     },
     "execution_count": 37,
     "metadata": {},
     "output_type": "execute_result"
    }
   ],
   "source": [
    "xlm_2019_cov = xlm_2019_df.cov(btc_2019_df)\n",
    "xlm_2019_cov"
   ]
  },
  {
   "cell_type": "code",
   "execution_count": 38,
   "id": "211df739",
   "metadata": {},
   "outputs": [
    {
     "data": {
      "text/plain": [
       "0.03192176196041105"
      ]
     },
     "execution_count": 38,
     "metadata": {},
     "output_type": "execute_result"
    }
   ],
   "source": [
    "xrp_2019_cov = xrp_2019_df.cov(btc_2019_df)\n",
    "xrp_2019_cov"
   ]
  },
  {
   "cell_type": "code",
   "execution_count": 39,
   "id": "9dfca8d7",
   "metadata": {},
   "outputs": [
    {
     "data": {
      "text/plain": [
       "-0.013024520386095877"
      ]
     },
     "execution_count": 39,
     "metadata": {},
     "output_type": "execute_result"
    }
   ],
   "source": [
    "lisk_2019_cov = lisk_2019_df.cov(btc_2019_df)\n",
    "lisk_2019_cov"
   ]
  },
  {
   "cell_type": "code",
   "execution_count": 40,
   "id": "b4cc3c74",
   "metadata": {},
   "outputs": [
    {
     "data": {
      "text/plain": [
       "0.011441122356297498"
      ]
     },
     "execution_count": 40,
     "metadata": {},
     "output_type": "execute_result"
    }
   ],
   "source": [
    "waves_2019_cov = waves_2019_df.cov(btc_2019_df)\n",
    "waves_2019_cov"
   ]
  },
  {
   "cell_type": "code",
   "execution_count": 41,
   "id": "a8765cdd",
   "metadata": {},
   "outputs": [
    {
     "data": {
      "text/plain": [
       "0.044570498547672144"
      ]
     },
     "execution_count": 41,
     "metadata": {},
     "output_type": "execute_result"
    }
   ],
   "source": [
    "zec_2019_cov = zec_2019_df.cov(btc_2019_df)\n",
    "zec_2019_cov"
   ]
  },
  {
   "cell_type": "code",
   "execution_count": 42,
   "id": "5916ad9d",
   "metadata": {},
   "outputs": [
    {
     "data": {
      "text/plain": [
       "0.013586191925765026"
      ]
     },
     "execution_count": 42,
     "metadata": {},
     "output_type": "execute_result"
    }
   ],
   "source": [
    "sc_2019_cov = sc_2019_df.cov(btc_2019_df)\n",
    "sc_2019_cov"
   ]
  },
  {
   "cell_type": "code",
   "execution_count": 43,
   "id": "760b6473",
   "metadata": {},
   "outputs": [
    {
     "data": {
      "text/plain": [
       "0.00010161540211662535"
      ]
     },
     "execution_count": 43,
     "metadata": {},
     "output_type": "execute_result"
    }
   ],
   "source": [
    "usdt_2019_cov = usdt_2019_df.cov(btc_2019_df)\n",
    "usdt_2019_cov"
   ]
  },
  {
   "cell_type": "code",
   "execution_count": 44,
   "id": "68d2d441",
   "metadata": {},
   "outputs": [
    {
     "data": {
      "text/plain": [
       "0.04233600763826904"
      ]
     },
     "execution_count": 44,
     "metadata": {},
     "output_type": "execute_result"
    }
   ],
   "source": [
    "dash_2019_cov = dash_2019_df.cov(btc_2019_df)\n",
    "dash_2019_cov"
   ]
  },
  {
   "cell_type": "code",
   "execution_count": 45,
   "id": "e2e896ec",
   "metadata": {},
   "outputs": [
    {
     "data": {
      "text/plain": [
       "0.04913732092564733"
      ]
     },
     "execution_count": 45,
     "metadata": {},
     "output_type": "execute_result"
    }
   ],
   "source": [
    "doge_2019_cov = doge_2019_df.cov(btc_2019_df)\n",
    "doge_2019_cov"
   ]
  },
  {
   "cell_type": "code",
   "execution_count": 46,
   "id": "f167e943",
   "metadata": {},
   "outputs": [
    {
     "data": {
      "text/plain": [
       "1.0"
      ]
     },
     "execution_count": 46,
     "metadata": {},
     "output_type": "execute_result"
    }
   ],
   "source": [
    "# STEP 6: CALCULATE BETA OF EACH CURRENCY\n",
    "\n",
    "\"\"\"\n",
    "beta = covariance of asset to market / variance of market\n",
    "\n",
    "use previous calculations for market variance and covariance of assets\n",
    "\"\"\"\n",
    "btc_beta_2019 = mkt_2019_cov / market_var\n",
    "btc_beta_2019"
   ]
  },
  {
   "cell_type": "code",
   "execution_count": 47,
   "id": "01014e5f",
   "metadata": {},
   "outputs": [
    {
     "data": {
      "text/plain": [
       "0.9724009268791819"
      ]
     },
     "execution_count": 47,
     "metadata": {},
     "output_type": "execute_result"
    }
   ],
   "source": [
    "eth_beta_2019 = eth_2019_cov / market_var\n",
    "eth_beta_2019"
   ]
  },
  {
   "cell_type": "code",
   "execution_count": 48,
   "id": "1b09ba59",
   "metadata": {},
   "outputs": [
    {
     "data": {
      "text/plain": [
       "0.9963234420519145"
      ]
     },
     "execution_count": 48,
     "metadata": {},
     "output_type": "execute_result"
    }
   ],
   "source": [
    "ltc_beta_2019 = ltc_2019_cov / market_var\n",
    "ltc_beta_2019"
   ]
  },
  {
   "cell_type": "code",
   "execution_count": 49,
   "id": "37ec75d3",
   "metadata": {},
   "outputs": [
    {
     "data": {
      "text/plain": [
       "0.5085051864861352"
      ]
     },
     "execution_count": 49,
     "metadata": {},
     "output_type": "execute_result"
    }
   ],
   "source": [
    "ada_beta_2019 = ada_2019_cov / market_var\n",
    "ada_beta_2019"
   ]
  },
  {
   "cell_type": "code",
   "execution_count": 50,
   "id": "1745c8c3",
   "metadata": {},
   "outputs": [
    {
     "data": {
      "text/plain": [
       "0.46117825905146487"
      ]
     },
     "execution_count": 50,
     "metadata": {},
     "output_type": "execute_result"
    }
   ],
   "source": [
    "xlm_beta_2019 = xlm_2019_cov / market_var\n",
    "xlm_beta_2019"
   ]
  },
  {
   "cell_type": "code",
   "execution_count": 51,
   "id": "25e5d29d",
   "metadata": {},
   "outputs": [
    {
     "data": {
      "text/plain": [
       "0.6496439235813001"
      ]
     },
     "execution_count": 51,
     "metadata": {},
     "output_type": "execute_result"
    }
   ],
   "source": [
    "xrp_beta_2019 = xrp_2019_cov / market_var\n",
    "xrp_beta_2019"
   ]
  },
  {
   "cell_type": "code",
   "execution_count": 52,
   "id": "803729ad",
   "metadata": {},
   "outputs": [
    {
     "data": {
      "text/plain": [
       "-0.2650637059721687"
      ]
     },
     "execution_count": 52,
     "metadata": {},
     "output_type": "execute_result"
    }
   ],
   "source": [
    "lisk_beta_2019 = lisk_2019_cov / market_var\n",
    "lisk_beta_2019"
   ]
  },
  {
   "cell_type": "code",
   "execution_count": 53,
   "id": "871fefa0",
   "metadata": {},
   "outputs": [
    {
     "data": {
      "text/plain": [
       "0.23283976701965003"
      ]
     },
     "execution_count": 53,
     "metadata": {},
     "output_type": "execute_result"
    }
   ],
   "source": [
    "waves_beta_2019 = waves_2019_cov / market_var\n",
    "waves_beta_2019"
   ]
  },
  {
   "cell_type": "code",
   "execution_count": 54,
   "id": "9c75a7b4",
   "metadata": {},
   "outputs": [
    {
     "data": {
      "text/plain": [
       "0.9070600046574472"
      ]
     },
     "execution_count": 54,
     "metadata": {},
     "output_type": "execute_result"
    }
   ],
   "source": [
    "zec_beta_2019 = zec_2019_cov / market_var\n",
    "zec_beta_2019"
   ]
  },
  {
   "cell_type": "code",
   "execution_count": 55,
   "id": "ec24f4f8",
   "metadata": {},
   "outputs": [
    {
     "data": {
      "text/plain": [
       "0.2764943564245825"
      ]
     },
     "execution_count": 55,
     "metadata": {},
     "output_type": "execute_result"
    }
   ],
   "source": [
    "sc_beta_2019 = sc_2019_cov / market_var\n",
    "sc_beta_2019"
   ]
  },
  {
   "cell_type": "code",
   "execution_count": 56,
   "id": "91f0a93d",
   "metadata": {},
   "outputs": [
    {
     "data": {
      "text/plain": [
       "0.0020679882460499996"
      ]
     },
     "execution_count": 56,
     "metadata": {},
     "output_type": "execute_result"
    }
   ],
   "source": [
    "usdt_beta_2019 = usdt_2019_cov / market_var\n",
    "usdt_beta_2019"
   ]
  },
  {
   "cell_type": "code",
   "execution_count": 57,
   "id": "31a21dac",
   "metadata": {},
   "outputs": [
    {
     "data": {
      "text/plain": [
       "0.861585589949648"
      ]
     },
     "execution_count": 57,
     "metadata": {},
     "output_type": "execute_result"
    }
   ],
   "source": [
    "dash_beta_2019 = dash_2019_cov / market_var\n",
    "dash_beta_2019"
   ]
  },
  {
   "cell_type": "code",
   "execution_count": 58,
   "id": "f7b82b67",
   "metadata": {},
   "outputs": [
    {
     "data": {
      "text/plain": [
       "1.0"
      ]
     },
     "execution_count": 58,
     "metadata": {},
     "output_type": "execute_result"
    }
   ],
   "source": [
    "doge_beta_2019 = doge_2019_cov / market_var\n",
    "doge_beta_2019"
   ]
  },
  {
   "cell_type": "code",
   "execution_count": 59,
   "id": "162ec0e8",
   "metadata": {},
   "outputs": [
    {
     "data": {
      "text/plain": [
       "<AxesSubplot:>"
      ]
     },
     "execution_count": 59,
     "metadata": {},
     "output_type": "execute_result"
    },
    {
     "data": {
      "image/png": "[encoded data removed]",
      "text/plain": [
       "<Figure size 432x288 with 2 Axes>"
      ]
     },
     "metadata": {
      "needs_background": "light"
     },
     "output_type": "display_data"
    }
   ],
   "source": [
    "# Display Correlation Heatmap With Seaborn\n",
    "\n",
    "\"\"\"\n",
    "NEW CELL to check monthly returns are displayed with pct_change already applied\n",
    "- Take dataframe of daily returns from step 3 (pct_change drop na already applied)\n",
    "\n",
    "NEW CELL to check correlation dataframe\n",
    "- correlation = monthly_returns_dataframe.corr()\n",
    "\n",
    "NEW CELL to display heatmap\n",
    "- sns.heatmap(correlation)\n",
    "\n",
    "\n",
    "\"\"\"\n",
    "correlation = final_2019_df.corr()\n",
    "sns.heatmap(correlation)"
   ]
  },
  {
   "cell_type": "code",
   "execution_count": null,
   "id": "8cd4972e",
   "metadata": {},
   "outputs": [],
   "source": []
  }
 ],
 "metadata": {
  "kernelspec": {
   "display_name": "Python (dev)",
   "language": "python",
   "name": "dev"
  },
  "language_info": {
   "codemirror_mode": {
    "name": "ipython",
    "version": 3
   },
   "file_extension": ".py",
   "mimetype": "text/x-python",
   "name": "python",
   "nbconvert_exporter": "python",
   "pygments_lexer": "ipython3",
   "version": "3.7.10"
  }
 },
 "nbformat": 4,
 "nbformat_minor": 5
}
