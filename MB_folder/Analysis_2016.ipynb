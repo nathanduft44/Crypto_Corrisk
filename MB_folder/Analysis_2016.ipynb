{
 "cells": [
  {
   "cell_type": "code",
   "execution_count": 1,
   "id": "5f659733",
   "metadata": {},
   "outputs": [
    {
     "data": {
      "text/plain": [
       "'\\nFor now, we keep it simple. If we need to expand, we can. \\nWe are taking what we need to in order to understand how each basket of currencies \\nis correlated to the market proxy (bitcoin)\\n'"
      ]
     },
     "execution_count": 1,
     "metadata": {},
     "output_type": "execute_result"
    }
   ],
   "source": [
    "# GOAL: HAVE EACH ANALYSIS SECTION COMPUTE A STANDARD SET OF CALCULATIONS FOR RISK METRICS AND CORRELATION\n",
    "\n",
    "\"\"\"\n",
    "For now, we keep it simple. If we need to expand, we can. \n",
    "We are taking what we need to in order to understand how each basket of currencies \n",
    "is correlated to the market proxy (bitcoin)\n",
    "\"\"\""
   ]
  },
  {
   "cell_type": "code",
   "execution_count": 2,
   "id": "a6807ecc",
   "metadata": {},
   "outputs": [],
   "source": [
    "# STEP 1: IMPORT DEPENDENCIES\n",
    "#For basic calculations:\n",
    "import pandas as pd\n",
    "import numpy as np\n",
    "import csv\n",
    "from pathlib import Path\n",
    "\n",
    "#For Heatmap:\n",
    "import seaborn as sns\n",
    "%matplotlib inline"
   ]
  },
  {
   "cell_type": "code",
   "execution_count": 3,
   "id": "4abacb2b",
   "metadata": {},
   "outputs": [],
   "source": [
    "# STEP 2: IMPORT DATA AS DATAFRAME\n",
    "\"\"\"\n",
    "Determnine if we are reading csv data, running individual api calls, or querying an in-house database\n",
    "\"\"\"\n",
    "#reading in csv data\n",
    "df_2016 = pd.read_csv(\n",
    "    Path('2016_data.csv')\n",
    ").set_index('Month')"
   ]
  },
  {
   "cell_type": "code",
   "execution_count": 4,
   "id": "65fdc053",
   "metadata": {},
   "outputs": [
    {
     "data": {
      "text/html": [
       "<div>\n",
       "<style scoped>\n",
       "    .dataframe tbody tr th:only-of-type {\n",
       "        vertical-align: middle;\n",
       "    }\n",
       "\n",
       "    .dataframe tbody tr th {\n",
       "        vertical-align: top;\n",
       "    }\n",
       "\n",
       "    .dataframe thead th {\n",
       "        text-align: right;\n",
       "    }\n",
       "</style>\n",
       "<table border=\"1\" class=\"dataframe\">\n",
       "  <thead>\n",
       "    <tr style=\"text-align: right;\">\n",
       "      <th></th>\n",
       "      <th>price_open</th>\n",
       "      <th>price_close</th>\n",
       "      <th>volume_traded</th>\n",
       "      <th>price_open.1</th>\n",
       "      <th>price_close.1</th>\n",
       "      <th>volume_traded.1</th>\n",
       "      <th>price_open.2</th>\n",
       "      <th>price_close.2</th>\n",
       "      <th>volume_traded.2</th>\n",
       "      <th>price_open.3</th>\n",
       "      <th>price_close.3</th>\n",
       "      <th>volume_traded.3</th>\n",
       "    </tr>\n",
       "  </thead>\n",
       "  <tbody>\n",
       "    <tr>\n",
       "      <th>count</th>\n",
       "      <td>12.000000</td>\n",
       "      <td>12.000000</td>\n",
       "      <td>12.000000</td>\n",
       "      <td>12.000000</td>\n",
       "      <td>12.000000</td>\n",
       "      <td>1.200000e+01</td>\n",
       "      <td>12.000000</td>\n",
       "      <td>12.000000</td>\n",
       "      <td>12.000000</td>\n",
       "      <td>12.000000</td>\n",
       "      <td>12.000000</td>\n",
       "      <td>12.000000</td>\n",
       "    </tr>\n",
       "    <tr>\n",
       "      <th>mean</th>\n",
       "      <td>545.707749</td>\n",
       "      <td>592.952083</td>\n",
       "      <td>37642.420569</td>\n",
       "      <td>2.610002</td>\n",
       "      <td>2.293654</td>\n",
       "      <td>1.661855e+05</td>\n",
       "      <td>3.484444</td>\n",
       "      <td>3.563126</td>\n",
       "      <td>28028.915298</td>\n",
       "      <td>29.013663</td>\n",
       "      <td>9.652208</td>\n",
       "      <td>597.223896</td>\n",
       "    </tr>\n",
       "    <tr>\n",
       "      <th>std</th>\n",
       "      <td>125.175914</td>\n",
       "      <td>165.586142</td>\n",
       "      <td>22198.815900</td>\n",
       "      <td>4.777452</td>\n",
       "      <td>4.199276</td>\n",
       "      <td>3.372492e+05</td>\n",
       "      <td>1.173220</td>\n",
       "      <td>1.180938</td>\n",
       "      <td>15529.118382</td>\n",
       "      <td>81.433081</td>\n",
       "      <td>22.888378</td>\n",
       "      <td>1547.872372</td>\n",
       "    </tr>\n",
       "    <tr>\n",
       "      <th>min</th>\n",
       "      <td>390.440000</td>\n",
       "      <td>395.950000</td>\n",
       "      <td>6812.981239</td>\n",
       "      <td>0.000000</td>\n",
       "      <td>0.000000</td>\n",
       "      <td>0.000000e+00</td>\n",
       "      <td>0.000000</td>\n",
       "      <td>0.000000</td>\n",
       "      <td>0.000000</td>\n",
       "      <td>0.000000</td>\n",
       "      <td>0.000000</td>\n",
       "      <td>0.000000</td>\n",
       "    </tr>\n",
       "    <tr>\n",
       "      <th>25%</th>\n",
       "      <td>429.659243</td>\n",
       "      <td>445.104500</td>\n",
       "      <td>26317.668117</td>\n",
       "      <td>0.000000</td>\n",
       "      <td>0.000000</td>\n",
       "      <td>0.000000e+00</td>\n",
       "      <td>3.344390</td>\n",
       "      <td>3.582937</td>\n",
       "      <td>19424.880097</td>\n",
       "      <td>0.000000</td>\n",
       "      <td>0.000000</td>\n",
       "      <td>0.000000</td>\n",
       "    </tr>\n",
       "    <tr>\n",
       "      <th>50%</th>\n",
       "      <td>552.522000</td>\n",
       "      <td>593.360000</td>\n",
       "      <td>38948.981270</td>\n",
       "      <td>0.000000</td>\n",
       "      <td>0.000000</td>\n",
       "      <td>0.000000e+00</td>\n",
       "      <td>3.824125</td>\n",
       "      <td>3.835510</td>\n",
       "      <td>30213.557915</td>\n",
       "      <td>0.000000</td>\n",
       "      <td>0.000000</td>\n",
       "      <td>0.000000</td>\n",
       "    </tr>\n",
       "    <tr>\n",
       "      <th>75%</th>\n",
       "      <td>635.695000</td>\n",
       "      <td>678.372750</td>\n",
       "      <td>43120.088937</td>\n",
       "      <td>2.137500</td>\n",
       "      <td>2.017500</td>\n",
       "      <td>7.571974e+04</td>\n",
       "      <td>3.941028</td>\n",
       "      <td>4.063218</td>\n",
       "      <td>34526.398095</td>\n",
       "      <td>0.000000</td>\n",
       "      <td>0.000000</td>\n",
       "      <td>0.000000</td>\n",
       "    </tr>\n",
       "    <tr>\n",
       "      <th>max</th>\n",
       "      <td>742.396000</td>\n",
       "      <td>967.450000</td>\n",
       "      <td>95787.851760</td>\n",
       "      <td>11.870000</td>\n",
       "      <td>10.900010</td>\n",
       "      <td>1.019536e+06</td>\n",
       "      <td>4.638000</td>\n",
       "      <td>4.556800</td>\n",
       "      <td>57597.788250</td>\n",
       "      <td>280.000000</td>\n",
       "      <td>67.207030</td>\n",
       "      <td>5157.258046</td>\n",
       "    </tr>\n",
       "  </tbody>\n",
       "</table>\n",
       "</div>"
      ],
      "text/plain": [
       "       price_open  price_close  volume_traded  price_open.1  price_close.1  \\\n",
       "count   12.000000    12.000000      12.000000     12.000000      12.000000   \n",
       "mean   545.707749   592.952083   37642.420569      2.610002       2.293654   \n",
       "std    125.175914   165.586142   22198.815900      4.777452       4.199276   \n",
       "min    390.440000   395.950000    6812.981239      0.000000       0.000000   \n",
       "25%    429.659243   445.104500   26317.668117      0.000000       0.000000   \n",
       "50%    552.522000   593.360000   38948.981270      0.000000       0.000000   \n",
       "75%    635.695000   678.372750   43120.088937      2.137500       2.017500   \n",
       "max    742.396000   967.450000   95787.851760     11.870000      10.900010   \n",
       "\n",
       "       volume_traded.1  price_open.2  price_close.2  volume_traded.2  \\\n",
       "count     1.200000e+01     12.000000      12.000000        12.000000   \n",
       "mean      1.661855e+05      3.484444       3.563126     28028.915298   \n",
       "std       3.372492e+05      1.173220       1.180938     15529.118382   \n",
       "min       0.000000e+00      0.000000       0.000000         0.000000   \n",
       "25%       0.000000e+00      3.344390       3.582937     19424.880097   \n",
       "50%       0.000000e+00      3.824125       3.835510     30213.557915   \n",
       "75%       7.571974e+04      3.941028       4.063218     34526.398095   \n",
       "max       1.019536e+06      4.638000       4.556800     57597.788250   \n",
       "\n",
       "       price_open.3  price_close.3  volume_traded.3  \n",
       "count     12.000000      12.000000        12.000000  \n",
       "mean      29.013663       9.652208       597.223896  \n",
       "std       81.433081      22.888378      1547.872372  \n",
       "min        0.000000       0.000000         0.000000  \n",
       "25%        0.000000       0.000000         0.000000  \n",
       "50%        0.000000       0.000000         0.000000  \n",
       "75%        0.000000       0.000000         0.000000  \n",
       "max      280.000000      67.207030      5157.258046  "
      ]
     },
     "execution_count": 4,
     "metadata": {},
     "output_type": "execute_result"
    }
   ],
   "source": [
    "# View the dataframe\n",
    "df_2016.describe()"
   ]
  },
  {
   "cell_type": "code",
   "execution_count": 5,
   "id": "1b69fbdb",
   "metadata": {},
   "outputs": [
    {
     "data": {
      "text/html": [
       "<div>\n",
       "<style scoped>\n",
       "    .dataframe tbody tr th:only-of-type {\n",
       "        vertical-align: middle;\n",
       "    }\n",
       "\n",
       "    .dataframe tbody tr th {\n",
       "        vertical-align: top;\n",
       "    }\n",
       "\n",
       "    .dataframe thead th {\n",
       "        text-align: right;\n",
       "    }\n",
       "</style>\n",
       "<table border=\"1\" class=\"dataframe\">\n",
       "  <thead>\n",
       "    <tr style=\"text-align: right;\">\n",
       "      <th></th>\n",
       "      <th>BTC_Monthly_Close</th>\n",
       "      <th>ETH_Monthly_Close</th>\n",
       "      <th>LTC_Monthly_Close</th>\n",
       "      <th>ZEC_Monthly_Close</th>\n",
       "    </tr>\n",
       "    <tr>\n",
       "      <th>Month</th>\n",
       "      <th></th>\n",
       "      <th></th>\n",
       "      <th></th>\n",
       "      <th></th>\n",
       "    </tr>\n",
       "  </thead>\n",
       "  <tbody>\n",
       "    <tr>\n",
       "      <th>January</th>\n",
       "      <td>395.950</td>\n",
       "      <td>0.00000</td>\n",
       "      <td>0.00000</td>\n",
       "      <td>0.00000</td>\n",
       "    </tr>\n",
       "    <tr>\n",
       "      <th>February</th>\n",
       "      <td>433.700</td>\n",
       "      <td>0.00000</td>\n",
       "      <td>3.37701</td>\n",
       "      <td>0.00000</td>\n",
       "    </tr>\n",
       "    <tr>\n",
       "      <th>March</th>\n",
       "      <td>416.100</td>\n",
       "      <td>0.00000</td>\n",
       "      <td>3.29989</td>\n",
       "      <td>0.00000</td>\n",
       "    </tr>\n",
       "    <tr>\n",
       "      <th>April</th>\n",
       "      <td>448.906</td>\n",
       "      <td>0.00000</td>\n",
       "      <td>3.69254</td>\n",
       "      <td>0.00000</td>\n",
       "    </tr>\n",
       "    <tr>\n",
       "      <th>May</th>\n",
       "      <td>531.190</td>\n",
       "      <td>0.00000</td>\n",
       "      <td>4.55680</td>\n",
       "      <td>0.00000</td>\n",
       "    </tr>\n",
       "    <tr>\n",
       "      <th>June</th>\n",
       "      <td>671.524</td>\n",
       "      <td>0.00000</td>\n",
       "      <td>4.16053</td>\n",
       "      <td>0.00000</td>\n",
       "    </tr>\n",
       "    <tr>\n",
       "      <th>July</th>\n",
       "      <td>622.570</td>\n",
       "      <td>0.00000</td>\n",
       "      <td>3.94000</td>\n",
       "      <td>0.00000</td>\n",
       "    </tr>\n",
       "    <tr>\n",
       "      <th>August</th>\n",
       "      <td>574.220</td>\n",
       "      <td>0.00000</td>\n",
       "      <td>3.65158</td>\n",
       "      <td>0.00000</td>\n",
       "    </tr>\n",
       "    <tr>\n",
       "      <th>September</th>\n",
       "      <td>612.500</td>\n",
       "      <td>0.00000</td>\n",
       "      <td>3.83373</td>\n",
       "      <td>0.00000</td>\n",
       "    </tr>\n",
       "    <tr>\n",
       "      <th>October</th>\n",
       "      <td>698.919</td>\n",
       "      <td>10.90001</td>\n",
       "      <td>4.03078</td>\n",
       "      <td>0.00000</td>\n",
       "    </tr>\n",
       "    <tr>\n",
       "      <th>November</th>\n",
       "      <td>742.396</td>\n",
       "      <td>8.55384</td>\n",
       "      <td>3.83729</td>\n",
       "      <td>67.20703</td>\n",
       "    </tr>\n",
       "    <tr>\n",
       "      <th>December</th>\n",
       "      <td>967.450</td>\n",
       "      <td>8.07000</td>\n",
       "      <td>4.37736</td>\n",
       "      <td>48.61947</td>\n",
       "    </tr>\n",
       "  </tbody>\n",
       "</table>\n",
       "</div>"
      ],
      "text/plain": [
       "           BTC_Monthly_Close  ETH_Monthly_Close  LTC_Monthly_Close  \\\n",
       "Month                                                                \n",
       "January              395.950            0.00000            0.00000   \n",
       "February             433.700            0.00000            3.37701   \n",
       "March                416.100            0.00000            3.29989   \n",
       "April                448.906            0.00000            3.69254   \n",
       "May                  531.190            0.00000            4.55680   \n",
       "June                 671.524            0.00000            4.16053   \n",
       "July                 622.570            0.00000            3.94000   \n",
       "August               574.220            0.00000            3.65158   \n",
       "September            612.500            0.00000            3.83373   \n",
       "October              698.919           10.90001            4.03078   \n",
       "November             742.396            8.55384            3.83729   \n",
       "December             967.450            8.07000            4.37736   \n",
       "\n",
       "           ZEC_Monthly_Close  \n",
       "Month                         \n",
       "January              0.00000  \n",
       "February             0.00000  \n",
       "March                0.00000  \n",
       "April                0.00000  \n",
       "May                  0.00000  \n",
       "June                 0.00000  \n",
       "July                 0.00000  \n",
       "August               0.00000  \n",
       "September            0.00000  \n",
       "October              0.00000  \n",
       "November            67.20703  \n",
       "December            48.61947  "
      ]
     },
     "execution_count": 5,
     "metadata": {},
     "output_type": "execute_result"
    }
   ],
   "source": [
    "# Clean the dataframe to only include the closing price\n",
    "final_2016_df = pd.DataFrame()\n",
    "final_2016_df['BTC_Monthly_Close'] = df_2016['price_close']\n",
    "final_2016_df['ETH_Monthly_Close'] = df_2016['price_close.1']\n",
    "final_2016_df['LTC_Monthly_Close'] = df_2016['price_close.2']\n",
    "final_2016_df['ZEC_Monthly_Close'] = df_2016['price_close.3']\n",
    "\n",
    "\n",
    "final_2016_df"
   ]
  },
  {
   "cell_type": "code",
   "execution_count": 7,
   "id": "245d583d",
   "metadata": {},
   "outputs": [
    {
     "data": {
      "text/plain": [
       "Month\n",
       "January      0.000000\n",
       "February     0.095340\n",
       "March       -0.040581\n",
       "April        0.078842\n",
       "May          0.183299\n",
       "June         0.264188\n",
       "July        -0.072900\n",
       "August      -0.077662\n",
       "September    0.066664\n",
       "October      0.141092\n",
       "November     0.062206\n",
       "December     0.303145\n",
       "Name: BTC_Monthly_Close, dtype: float64"
      ]
     },
     "execution_count": 7,
     "metadata": {},
     "output_type": "execute_result"
    }
   ],
   "source": [
    "# STEP 3: CALCULATE Monthly RETURNS FOR EACH CURRENCY IN Designated Time range from  DATAFRAME, DROP NULL VALUES\n",
    "\"\"\"\n",
    "\n",
    "Will need: .pct_change().dropna(inplace = True)\n",
    "\n",
    "\"\"\"\n",
    "btc_2016_df = final_2016_df['BTC_Monthly_Close'].pct_change().fillna(0)\n",
    "btc_2016_df"
   ]
  },
  {
   "cell_type": "code",
   "execution_count": 13,
   "id": "7e1a2331",
   "metadata": {},
   "outputs": [
    {
     "data": {
      "text/plain": [
       "Month\n",
       "October     0.000000\n",
       "November   -0.215245\n",
       "December   -0.056564\n",
       "Name: ETH_Monthly_Close, dtype: float64"
      ]
     },
     "execution_count": 13,
     "metadata": {},
     "output_type": "execute_result"
    }
   ],
   "source": [
    "eth_2016_df = final_2016_df['ETH_Monthly_Close'].drop(\n",
    "    labels=['January', 'February', 'March', 'April', 'May', 'June', 'July', 'August', 'September']).pct_change().fillna(0)\n",
    "eth_2016_df"
   ]
  },
  {
   "cell_type": "code",
   "execution_count": 11,
   "id": "f1c4e879",
   "metadata": {},
   "outputs": [
    {
     "data": {
      "text/plain": [
       "Month\n",
       "February     0.000000\n",
       "March       -0.022837\n",
       "April        0.118989\n",
       "May          0.234056\n",
       "June        -0.086962\n",
       "July        -0.053005\n",
       "August      -0.073203\n",
       "September    0.049883\n",
       "October      0.051399\n",
       "November    -0.048003\n",
       "December     0.140743\n",
       "Name: LTC_Monthly_Close, dtype: float64"
      ]
     },
     "execution_count": 11,
     "metadata": {},
     "output_type": "execute_result"
    }
   ],
   "source": [
    "ltc_2016_df = final_2016_df['LTC_Monthly_Close'].drop(\n",
    "    labels=['January']).pct_change().fillna(0)\n",
    "ltc_2016_df"
   ]
  },
  {
   "cell_type": "code",
   "execution_count": 14,
   "id": "df045a77",
   "metadata": {},
   "outputs": [
    {
     "data": {
      "text/plain": [
       "Month\n",
       "November    0.000000\n",
       "December   -0.276572\n",
       "Name: ZEC_Monthly_Close, dtype: float64"
      ]
     },
     "execution_count": 14,
     "metadata": {},
     "output_type": "execute_result"
    }
   ],
   "source": [
    "zec_2016_df = final_2016_df['ZEC_Monthly_Close'].drop(\n",
    "    labels=['January', 'February', 'March', 'April', 'May', 'June', 'July', 'August', 'September', 'October']).pct_change().fillna(0)\n",
    "zec_2016_df"
   ]
  },
  {
   "cell_type": "code",
   "execution_count": 16,
   "id": "c2bfbf34",
   "metadata": {},
   "outputs": [
    {
     "data": {
      "text/plain": [
       "0.015260905697063825"
      ]
     },
     "execution_count": 16,
     "metadata": {},
     "output_type": "execute_result"
    }
   ],
   "source": [
    "# Step 4: Calculate the variance of bitcoin, in this case being used as a proxy for the market.\n",
    "# assign to market variance value\n",
    "market_var = btc_2016_df.var()\n",
    "market_var"
   ]
  },
  {
   "cell_type": "code",
   "execution_count": 21,
   "id": "c5c71e87",
   "metadata": {},
   "outputs": [
    {
     "data": {
      "text/plain": [
       "0.015260905697063825"
      ]
     },
     "execution_count": 21,
     "metadata": {},
     "output_type": "execute_result"
    }
   ],
   "source": [
    "btc_var = btc_2016_df.var()\n",
    "btc_var"
   ]
  },
  {
   "cell_type": "code",
   "execution_count": 17,
   "id": "a9ad6a2a",
   "metadata": {},
   "outputs": [
    {
     "data": {
      "text/plain": [
       "0.012451559951459221"
      ]
     },
     "execution_count": 17,
     "metadata": {},
     "output_type": "execute_result"
    }
   ],
   "source": [
    "eth_var = eth_2016_df.var()\n",
    "eth_var"
   ]
  },
  {
   "cell_type": "code",
   "execution_count": 18,
   "id": "5be2a9f3",
   "metadata": {},
   "outputs": [
    {
     "data": {
      "text/plain": [
       "0.01036394052673369"
      ]
     },
     "execution_count": 18,
     "metadata": {},
     "output_type": "execute_result"
    }
   ],
   "source": [
    "ltc_var = ltc_2016_df.var()\n",
    "ltc_var"
   ]
  },
  {
   "cell_type": "code",
   "execution_count": 19,
   "id": "465c9492",
   "metadata": {},
   "outputs": [
    {
     "data": {
      "text/plain": [
       "0.0382459421716928"
      ]
     },
     "execution_count": 19,
     "metadata": {},
     "output_type": "execute_result"
    }
   ],
   "source": [
    "zec_var = zec_2016_df.var()\n",
    "zec_var"
   ]
  },
  {
   "cell_type": "code",
   "execution_count": 22,
   "id": "062c897c",
   "metadata": {},
   "outputs": [
    {
     "data": {
      "text/plain": [
       "0.015260905697063825"
      ]
     },
     "execution_count": 22,
     "metadata": {},
     "output_type": "execute_result"
    }
   ],
   "source": [
    "# STEP 5B: CALCULATE COVARIANCE OF EACH CURRENCY RELATIVE TO BITCOIN\n",
    "\"\"\"\n",
    "Use monthly returns of currency and monthly returns of bitcoin as market proxy\n",
    "\n",
    "\"\"\"\n",
    "\n",
    "# market_cov = final_2018_df['BTC_Monthly_Close'].cov(final_2018_df['BTC_Monthly_Close'])\n",
    "# market_cov\n",
    "\n",
    "mkt_2016_cov = btc_2016_df.cov(btc_2016_df)\n",
    "mkt_2016_cov"
   ]
  },
  {
   "cell_type": "code",
   "execution_count": 23,
   "id": "57054603",
   "metadata": {},
   "outputs": [
    {
     "data": {
      "text/plain": [
       "0.007674313269944223"
      ]
     },
     "execution_count": 23,
     "metadata": {},
     "output_type": "execute_result"
    }
   ],
   "source": [
    "eth_2016_cov = eth_2016_df.cov(btc_2016_df)\n",
    "eth_2016_cov"
   ]
  },
  {
   "cell_type": "code",
   "execution_count": 24,
   "id": "c3e8de1e",
   "metadata": {},
   "outputs": [
    {
     "data": {
      "text/plain": [
       "0.006166094182392248"
      ]
     },
     "execution_count": 24,
     "metadata": {},
     "output_type": "execute_result"
    }
   ],
   "source": [
    "ltc_2016_cov = ltc_2016_df.cov(btc_2016_df)\n",
    "ltc_2016_cov"
   ]
  },
  {
   "cell_type": "code",
   "execution_count": 25,
   "id": "fa1bd93a",
   "metadata": {},
   "outputs": [
    {
     "data": {
      "text/plain": [
       "-0.03331850893062422"
      ]
     },
     "execution_count": 25,
     "metadata": {},
     "output_type": "execute_result"
    }
   ],
   "source": [
    "zec_2016_cov = zec_2016_df.cov(btc_2016_df)\n",
    "zec_2016_cov"
   ]
  },
  {
   "cell_type": "code",
   "execution_count": 32,
   "id": "f167e943",
   "metadata": {},
   "outputs": [
    {
     "data": {
      "text/plain": [
       "1.0"
      ]
     },
     "execution_count": 32,
     "metadata": {},
     "output_type": "execute_result"
    }
   ],
   "source": [
    "# STEP 6: CALCULATE BETA OF EACH CURRENCY\n",
    "\n",
    "\"\"\"\n",
    "beta = covariance of asset to market / variance of market\n",
    "\n",
    "use previous calculations for market variance and covariance of assets\n",
    "\"\"\"\n",
    "btc_beta_2016 = mkt_2016_cov / market_var\n",
    "btc_beta_2016"
   ]
  },
  {
   "cell_type": "code",
   "execution_count": 28,
   "id": "afb4b4b6",
   "metadata": {},
   "outputs": [
    {
     "data": {
      "text/plain": [
       "0.5028740379033172"
      ]
     },
     "execution_count": 28,
     "metadata": {},
     "output_type": "execute_result"
    }
   ],
   "source": [
    "eth_beta_2016 = eth_2016_cov / btc_var\n",
    "eth_beta_2016"
   ]
  },
  {
   "cell_type": "code",
   "execution_count": 29,
   "id": "312c8ec7",
   "metadata": {},
   "outputs": [
    {
     "data": {
      "text/plain": [
       "0.40404510091288975"
      ]
     },
     "execution_count": 29,
     "metadata": {},
     "output_type": "execute_result"
    }
   ],
   "source": [
    "ltc_beta_2016 = ltc_2016_cov / btc_var\n",
    "ltc_beta_2016"
   ]
  },
  {
   "cell_type": "code",
   "execution_count": 30,
   "id": "3d0a05f0",
   "metadata": {},
   "outputs": [
    {
     "data": {
      "text/plain": [
       "-2.1832589488469645"
      ]
     },
     "execution_count": 30,
     "metadata": {},
     "output_type": "execute_result"
    }
   ],
   "source": [
    "zec_beta_2016 = zec_2016_cov / btc_var\n",
    "zec_beta_2016"
   ]
  },
  {
   "cell_type": "code",
   "execution_count": 31,
   "id": "162ec0e8",
   "metadata": {},
   "outputs": [
    {
     "data": {
      "text/plain": [
       "<AxesSubplot:>"
      ]
     },
     "execution_count": 31,
     "metadata": {},
     "output_type": "execute_result"
    },
    {
     "data": {
      "image/png": "[encoded data removed]",
      "text/plain": [
       "<Figure size 432x288 with 2 Axes>"
      ]
     },
     "metadata": {
      "needs_background": "light"
     },
     "output_type": "display_data"
    }
   ],
   "source": [
    "# Display Correlation Heatmap With Seaborn\n",
    "\n",
    "\"\"\"\n",
    "NEW CELL to check monthly returns are displayed with pct_change already applied\n",
    "- Take dataframe of daily returns from step 3 (pct_change drop na already applied)\n",
    "\n",
    "NEW CELL to check correlation dataframe\n",
    "- correlation = monthly_returns_dataframe.corr()\n",
    "\n",
    "NEW CELL to display heatmap\n",
    "- sns.heatmap(correlation)\n",
    "\n",
    "\n",
    "\"\"\"\n",
    "correlation = final_2016_df.corr()\n",
    "sns.heatmap(correlation)"
   ]
  },
  {
   "cell_type": "code",
   "execution_count": null,
   "id": "8cd4972e",
   "metadata": {},
   "outputs": [],
   "source": []
  }
 ],
 "metadata": {
  "kernelspec": {
   "display_name": "Python (dev)",
   "language": "python",
   "name": "dev"
  },
  "language_info": {
   "codemirror_mode": {
    "name": "ipython",
    "version": 3
   },
   "file_extension": ".py",
   "mimetype": "text/x-python",
   "name": "python",
   "nbconvert_exporter": "python",
   "pygments_lexer": "ipython3",
   "version": "3.7.10"
  }
 },
 "nbformat": 4,
 "nbformat_minor": 5
}
