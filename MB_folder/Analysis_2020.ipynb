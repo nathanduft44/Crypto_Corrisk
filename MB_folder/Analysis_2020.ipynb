{
 "cells": [
  {
   "cell_type": "code",
   "execution_count": 1,
   "id": "5f659733",
   "metadata": {},
   "outputs": [
    {
     "data": {
      "text/plain": [
       "'\\nFor now, we keep it simple. If we need to expand, we can. \\nWe are taking what we need to in order to understand how each basket of currencies \\nis correlated to the market proxy (bitcoin)\\n'"
      ]
     },
     "execution_count": 1,
     "metadata": {},
     "output_type": "execute_result"
    }
   ],
   "source": [
    "# GOAL: HAVE EACH ANALYSIS SECTION COMPUTE A STANDARD SET OF CALCULATIONS FOR RISK METRICS AND CORRELATION\n",
    "\n",
    "\"\"\"\n",
    "For now, we keep it simple. If we need to expand, we can. \n",
    "We are taking what we need to in order to understand how each basket of currencies \n",
    "is correlated to the market proxy (bitcoin)\n",
    "\"\"\""
   ]
  },
  {
   "cell_type": "code",
   "execution_count": 2,
   "id": "a6807ecc",
   "metadata": {},
   "outputs": [],
   "source": [
    "# STEP 1: IMPORT DEPENDENCIES\n",
    "#For basic calculations:\n",
    "import pandas as pd\n",
    "import numpy as np\n",
    "import csv\n",
    "from pathlib import Path\n",
    "\n",
    "#For Heatmap:\n",
    "import seaborn as sns\n",
    "%matplotlib inline"
   ]
  },
  {
   "cell_type": "code",
   "execution_count": 3,
   "id": "4abacb2b",
   "metadata": {},
   "outputs": [],
   "source": [
    "# STEP 2: IMPORT DATA AS DATAFRAME\n",
    "\"\"\"\n",
    "Determnine if we are reading csv data, running individual api calls, or querying an in-house database\n",
    "\"\"\"\n",
    "#reading in csv data\n",
    "df_2020 = pd.read_csv(\n",
    "    Path('2020_data.csv')\n",
    ").set_index('Month')"
   ]
  },
  {
   "cell_type": "code",
   "execution_count": 4,
   "id": "cec37369",
   "metadata": {},
   "outputs": [
    {
     "data": {
      "text/html": [
       "<div>\n",
       "<style scoped>\n",
       "    .dataframe tbody tr th:only-of-type {\n",
       "        vertical-align: middle;\n",
       "    }\n",
       "\n",
       "    .dataframe tbody tr th {\n",
       "        vertical-align: top;\n",
       "    }\n",
       "\n",
       "    .dataframe thead th {\n",
       "        text-align: right;\n",
       "    }\n",
       "</style>\n",
       "<table border=\"1\" class=\"dataframe\">\n",
       "  <thead>\n",
       "    <tr style=\"text-align: right;\">\n",
       "      <th></th>\n",
       "      <th>price_open</th>\n",
       "      <th>price_close</th>\n",
       "      <th>volume_traded</th>\n",
       "      <th>price_open.1</th>\n",
       "      <th>price_close.1</th>\n",
       "      <th>volume_traded.1</th>\n",
       "      <th>price_open.2</th>\n",
       "      <th>price_close.2</th>\n",
       "      <th>volume_traded.2</th>\n",
       "      <th>price_open.3</th>\n",
       "      <th>...</th>\n",
       "      <th>volume_traded.9</th>\n",
       "      <th>price_open.10</th>\n",
       "      <th>price_close.10</th>\n",
       "      <th>volume_traded.10</th>\n",
       "      <th>price_open.11</th>\n",
       "      <th>price_close.11</th>\n",
       "      <th>volume_traded.11</th>\n",
       "      <th>price_open.12</th>\n",
       "      <th>price_close.12</th>\n",
       "      <th>volume_traded.12</th>\n",
       "    </tr>\n",
       "  </thead>\n",
       "  <tbody>\n",
       "    <tr>\n",
       "      <th>count</th>\n",
       "      <td>12.000000</td>\n",
       "      <td>12.000000</td>\n",
       "      <td>12.000000</td>\n",
       "      <td>12.000000</td>\n",
       "      <td>12.000000</td>\n",
       "      <td>1.200000e+01</td>\n",
       "      <td>12.000000</td>\n",
       "      <td>12.000000</td>\n",
       "      <td>1.200000e+01</td>\n",
       "      <td>12.000000</td>\n",
       "      <td>...</td>\n",
       "      <td>12.000000</td>\n",
       "      <td>12.000000</td>\n",
       "      <td>12.000000</td>\n",
       "      <td>1.200000e+01</td>\n",
       "      <td>12.000000</td>\n",
       "      <td>12.000000</td>\n",
       "      <td>1.200000e+01</td>\n",
       "      <td>12.000000</td>\n",
       "      <td>12.000000</td>\n",
       "      <td>12.000000</td>\n",
       "    </tr>\n",
       "    <tr>\n",
       "      <th>mean</th>\n",
       "      <td>10496.550000</td>\n",
       "      <td>12313.816667</td>\n",
       "      <td>212354.315342</td>\n",
       "      <td>288.835000</td>\n",
       "      <td>339.648333</td>\n",
       "      <td>2.482951e+06</td>\n",
       "      <td>54.052500</td>\n",
       "      <td>60.990833</td>\n",
       "      <td>1.269193e+06</td>\n",
       "      <td>0.083224</td>\n",
       "      <td>...</td>\n",
       "      <td>188946.455437</td>\n",
       "      <td>0.002523</td>\n",
       "      <td>0.002670</td>\n",
       "      <td>6.169100e+08</td>\n",
       "      <td>0.999925</td>\n",
       "      <td>1.000333</td>\n",
       "      <td>3.627269e+08</td>\n",
       "      <td>79.414083</td>\n",
       "      <td>84.371167</td>\n",
       "      <td>121399.537179</td>\n",
       "    </tr>\n",
       "    <tr>\n",
       "      <th>std</th>\n",
       "      <td>3532.204889</td>\n",
       "      <td>6233.944761</td>\n",
       "      <td>117168.672863</td>\n",
       "      <td>143.874316</td>\n",
       "      <td>183.920831</td>\n",
       "      <td>9.696118e+05</td>\n",
       "      <td>14.022454</td>\n",
       "      <td>24.065233</td>\n",
       "      <td>8.368984e+05</td>\n",
       "      <td>0.044750</td>\n",
       "      <td>...</td>\n",
       "      <td>150245.890548</td>\n",
       "      <td>0.000947</td>\n",
       "      <td>0.000876</td>\n",
       "      <td>3.058546e+08</td>\n",
       "      <td>0.001488</td>\n",
       "      <td>0.000929</td>\n",
       "      <td>3.664896e+08</td>\n",
       "      <td>20.320669</td>\n",
       "      <td>17.098287</td>\n",
       "      <td>70593.789777</td>\n",
       "    </tr>\n",
       "    <tr>\n",
       "      <th>min</th>\n",
       "      <td>6422.200000</td>\n",
       "      <td>6422.100000</td>\n",
       "      <td>117605.760800</td>\n",
       "      <td>128.660000</td>\n",
       "      <td>133.100000</td>\n",
       "      <td>1.371748e+06</td>\n",
       "      <td>39.170000</td>\n",
       "      <td>39.250000</td>\n",
       "      <td>4.411064e+05</td>\n",
       "      <td>0.030500</td>\n",
       "      <td>...</td>\n",
       "      <td>65244.319270</td>\n",
       "      <td>0.001240</td>\n",
       "      <td>0.001280</td>\n",
       "      <td>1.209589e+08</td>\n",
       "      <td>0.996200</td>\n",
       "      <td>0.998300</td>\n",
       "      <td>5.839821e+07</td>\n",
       "      <td>40.855000</td>\n",
       "      <td>64.946000</td>\n",
       "      <td>42567.564520</td>\n",
       "    </tr>\n",
       "    <tr>\n",
       "      <th>25%</th>\n",
       "      <td>8602.750000</td>\n",
       "      <td>9007.825000</td>\n",
       "      <td>128650.037875</td>\n",
       "      <td>199.540000</td>\n",
       "      <td>214.885000</td>\n",
       "      <td>1.755541e+06</td>\n",
       "      <td>44.487500</td>\n",
       "      <td>46.077500</td>\n",
       "      <td>8.393458e+05</td>\n",
       "      <td>0.047491</td>\n",
       "      <td>...</td>\n",
       "      <td>100757.578208</td>\n",
       "      <td>0.001990</td>\n",
       "      <td>0.002215</td>\n",
       "      <td>4.056498e+08</td>\n",
       "      <td>0.999700</td>\n",
       "      <td>0.999950</td>\n",
       "      <td>1.628720e+08</td>\n",
       "      <td>68.796750</td>\n",
       "      <td>69.954750</td>\n",
       "      <td>64155.827247</td>\n",
       "    </tr>\n",
       "    <tr>\n",
       "      <th>50%</th>\n",
       "      <td>9392.500000</td>\n",
       "      <td>10111.150000</td>\n",
       "      <td>170716.969300</td>\n",
       "      <td>228.565000</td>\n",
       "      <td>289.380000</td>\n",
       "      <td>2.476758e+06</td>\n",
       "      <td>51.070000</td>\n",
       "      <td>56.975000</td>\n",
       "      <td>9.579496e+05</td>\n",
       "      <td>0.078589</td>\n",
       "      <td>...</td>\n",
       "      <td>141421.430750</td>\n",
       "      <td>0.002430</td>\n",
       "      <td>0.002640</td>\n",
       "      <td>5.231726e+08</td>\n",
       "      <td>1.000200</td>\n",
       "      <td>1.000350</td>\n",
       "      <td>2.282132e+08</td>\n",
       "      <td>78.696500</td>\n",
       "      <td>81.723000</td>\n",
       "      <td>95042.860280</td>\n",
       "    </tr>\n",
       "    <tr>\n",
       "      <th>75%</th>\n",
       "      <td>11431.375000</td>\n",
       "      <td>12194.950000</td>\n",
       "      <td>233791.201300</td>\n",
       "      <td>366.430000</td>\n",
       "      <td>398.602500</td>\n",
       "      <td>2.673970e+06</td>\n",
       "      <td>58.957500</td>\n",
       "      <td>62.667500</td>\n",
       "      <td>1.326009e+06</td>\n",
       "      <td>0.106833</td>\n",
       "      <td>...</td>\n",
       "      <td>201867.488375</td>\n",
       "      <td>0.003063</td>\n",
       "      <td>0.003090</td>\n",
       "      <td>8.779881e+08</td>\n",
       "      <td>1.000750</td>\n",
       "      <td>1.000925</td>\n",
       "      <td>3.971002e+08</td>\n",
       "      <td>85.506250</td>\n",
       "      <td>89.586000</td>\n",
       "      <td>170255.549150</td>\n",
       "    </tr>\n",
       "    <tr>\n",
       "      <th>max</th>\n",
       "      <td>19706.500000</td>\n",
       "      <td>28959.200000</td>\n",
       "      <td>493231.233300</td>\n",
       "      <td>616.840000</td>\n",
       "      <td>737.450000</td>\n",
       "      <td>4.415679e+06</td>\n",
       "      <td>87.830000</td>\n",
       "      <td>124.550000</td>\n",
       "      <td>3.369866e+06</td>\n",
       "      <td>0.172280</td>\n",
       "      <td>...</td>\n",
       "      <td>606228.025100</td>\n",
       "      <td>0.004580</td>\n",
       "      <td>0.004580</td>\n",
       "      <td>1.128243e+09</td>\n",
       "      <td>1.001800</td>\n",
       "      <td>1.001700</td>\n",
       "      <td>1.368381e+09</td>\n",
       "      <td>115.514000</td>\n",
       "      <td>115.961000</td>\n",
       "      <td>257263.214000</td>\n",
       "    </tr>\n",
       "  </tbody>\n",
       "</table>\n",
       "<p>8 rows × 39 columns</p>\n",
       "</div>"
      ],
      "text/plain": [
       "         price_open   price_close  volume_traded  price_open.1  price_close.1  \\\n",
       "count     12.000000     12.000000      12.000000     12.000000      12.000000   \n",
       "mean   10496.550000  12313.816667  212354.315342    288.835000     339.648333   \n",
       "std     3532.204889   6233.944761  117168.672863    143.874316     183.920831   \n",
       "min     6422.200000   6422.100000  117605.760800    128.660000     133.100000   \n",
       "25%     8602.750000   9007.825000  128650.037875    199.540000     214.885000   \n",
       "50%     9392.500000  10111.150000  170716.969300    228.565000     289.380000   \n",
       "75%    11431.375000  12194.950000  233791.201300    366.430000     398.602500   \n",
       "max    19706.500000  28959.200000  493231.233300    616.840000     737.450000   \n",
       "\n",
       "       volume_traded.1  price_open.2  price_close.2  volume_traded.2  \\\n",
       "count     1.200000e+01     12.000000      12.000000     1.200000e+01   \n",
       "mean      2.482951e+06     54.052500      60.990833     1.269193e+06   \n",
       "std       9.696118e+05     14.022454      24.065233     8.368984e+05   \n",
       "min       1.371748e+06     39.170000      39.250000     4.411064e+05   \n",
       "25%       1.755541e+06     44.487500      46.077500     8.393458e+05   \n",
       "50%       2.476758e+06     51.070000      56.975000     9.579496e+05   \n",
       "75%       2.673970e+06     58.957500      62.667500     1.326009e+06   \n",
       "max       4.415679e+06     87.830000     124.550000     3.369866e+06   \n",
       "\n",
       "       price_open.3  ...  volume_traded.9  price_open.10  price_close.10  \\\n",
       "count     12.000000  ...        12.000000      12.000000       12.000000   \n",
       "mean       0.083224  ...    188946.455437       0.002523        0.002670   \n",
       "std        0.044750  ...    150245.890548       0.000947        0.000876   \n",
       "min        0.030500  ...     65244.319270       0.001240        0.001280   \n",
       "25%        0.047491  ...    100757.578208       0.001990        0.002215   \n",
       "50%        0.078589  ...    141421.430750       0.002430        0.002640   \n",
       "75%        0.106833  ...    201867.488375       0.003063        0.003090   \n",
       "max        0.172280  ...    606228.025100       0.004580        0.004580   \n",
       "\n",
       "       volume_traded.10  price_open.11  price_close.11  volume_traded.11  \\\n",
       "count      1.200000e+01      12.000000       12.000000      1.200000e+01   \n",
       "mean       6.169100e+08       0.999925        1.000333      3.627269e+08   \n",
       "std        3.058546e+08       0.001488        0.000929      3.664896e+08   \n",
       "min        1.209589e+08       0.996200        0.998300      5.839821e+07   \n",
       "25%        4.056498e+08       0.999700        0.999950      1.628720e+08   \n",
       "50%        5.231726e+08       1.000200        1.000350      2.282132e+08   \n",
       "75%        8.779881e+08       1.000750        1.000925      3.971002e+08   \n",
       "max        1.128243e+09       1.001800        1.001700      1.368381e+09   \n",
       "\n",
       "       price_open.12  price_close.12  volume_traded.12  \n",
       "count      12.000000       12.000000         12.000000  \n",
       "mean       79.414083       84.371167     121399.537179  \n",
       "std        20.320669       17.098287      70593.789777  \n",
       "min        40.855000       64.946000      42567.564520  \n",
       "25%        68.796750       69.954750      64155.827247  \n",
       "50%        78.696500       81.723000      95042.860280  \n",
       "75%        85.506250       89.586000     170255.549150  \n",
       "max       115.514000      115.961000     257263.214000  \n",
       "\n",
       "[8 rows x 39 columns]"
      ]
     },
     "execution_count": 4,
     "metadata": {},
     "output_type": "execute_result"
    }
   ],
   "source": [
    "# View the dataframe\n",
    "df_2020.describe()"
   ]
  },
  {
   "cell_type": "code",
   "execution_count": 5,
   "id": "1934efd8",
   "metadata": {},
   "outputs": [
    {
     "data": {
      "text/html": [
       "<div>\n",
       "<style scoped>\n",
       "    .dataframe tbody tr th:only-of-type {\n",
       "        vertical-align: middle;\n",
       "    }\n",
       "\n",
       "    .dataframe tbody tr th {\n",
       "        vertical-align: top;\n",
       "    }\n",
       "\n",
       "    .dataframe thead th {\n",
       "        text-align: right;\n",
       "    }\n",
       "</style>\n",
       "<table border=\"1\" class=\"dataframe\">\n",
       "  <thead>\n",
       "    <tr style=\"text-align: right;\">\n",
       "      <th></th>\n",
       "      <th>BTC_Monthly_Close</th>\n",
       "      <th>ETH_Monthly_Close</th>\n",
       "      <th>LTC_Monthly_Close</th>\n",
       "      <th>ADA_Monthly_Close</th>\n",
       "      <th>XLM_Monthly_Close</th>\n",
       "      <th>XRP_Monthly_Close</th>\n",
       "      <th>LISK_Monthly_Close</th>\n",
       "      <th>WAVES_Monthly_Close</th>\n",
       "      <th>ZEC_Monthly_Close</th>\n",
       "      <th>SC_Monthly_Close</th>\n",
       "      <th>USDT_Monthly_Close</th>\n",
       "      <th>DASH_Monthly_Close</th>\n",
       "      <th>DOGE_Monthly_Close</th>\n",
       "    </tr>\n",
       "    <tr>\n",
       "      <th>Month</th>\n",
       "      <th></th>\n",
       "      <th></th>\n",
       "      <th></th>\n",
       "      <th></th>\n",
       "      <th></th>\n",
       "      <th></th>\n",
       "      <th></th>\n",
       "      <th></th>\n",
       "      <th></th>\n",
       "      <th></th>\n",
       "      <th></th>\n",
       "      <th></th>\n",
       "      <th></th>\n",
       "    </tr>\n",
       "  </thead>\n",
       "  <tbody>\n",
       "    <tr>\n",
       "      <th>January</th>\n",
       "      <td>9339.3</td>\n",
       "      <td>179.68</td>\n",
       "      <td>67.76</td>\n",
       "      <td>0.053794</td>\n",
       "      <td>0.002364</td>\n",
       "      <td>0.060831</td>\n",
       "      <td>0.23890</td>\n",
       "      <td>1.149000</td>\n",
       "      <td>0.8841</td>\n",
       "      <td>66.20</td>\n",
       "      <td>0.00160</td>\n",
       "      <td>0.9983</td>\n",
       "      <td>115.961</td>\n",
       "    </tr>\n",
       "    <tr>\n",
       "      <th>February</th>\n",
       "      <td>8529.1</td>\n",
       "      <td>217.78</td>\n",
       "      <td>58.13</td>\n",
       "      <td>0.047284</td>\n",
       "      <td>0.002213</td>\n",
       "      <td>0.056963</td>\n",
       "      <td>0.22883</td>\n",
       "      <td>1.281456</td>\n",
       "      <td>1.1298</td>\n",
       "      <td>49.00</td>\n",
       "      <td>0.00227</td>\n",
       "      <td>1.0002</td>\n",
       "      <td>85.254</td>\n",
       "    </tr>\n",
       "    <tr>\n",
       "      <th>March</th>\n",
       "      <td>6422.1</td>\n",
       "      <td>133.10</td>\n",
       "      <td>39.25</td>\n",
       "      <td>0.030575</td>\n",
       "      <td>0.001790</td>\n",
       "      <td>0.040939</td>\n",
       "      <td>0.17374</td>\n",
       "      <td>0.977245</td>\n",
       "      <td>0.9968</td>\n",
       "      <td>30.93</td>\n",
       "      <td>0.00128</td>\n",
       "      <td>1.0017</td>\n",
       "      <td>64.946</td>\n",
       "    </tr>\n",
       "    <tr>\n",
       "      <th>April</th>\n",
       "      <td>8629.6</td>\n",
       "      <td>206.20</td>\n",
       "      <td>46.37</td>\n",
       "      <td>0.047481</td>\n",
       "      <td>0.002337</td>\n",
       "      <td>0.067277</td>\n",
       "      <td>0.21178</td>\n",
       "      <td>1.218623</td>\n",
       "      <td>1.0552</td>\n",
       "      <td>44.61</td>\n",
       "      <td>0.00205</td>\n",
       "      <td>1.0005</td>\n",
       "      <td>80.817</td>\n",
       "    </tr>\n",
       "    <tr>\n",
       "      <th>May</th>\n",
       "      <td>9447.4</td>\n",
       "      <td>231.76</td>\n",
       "      <td>45.59</td>\n",
       "      <td>0.074002</td>\n",
       "      <td>0.002538</td>\n",
       "      <td>0.070787</td>\n",
       "      <td>0.20239</td>\n",
       "      <td>1.197980</td>\n",
       "      <td>1.0908</td>\n",
       "      <td>51.77</td>\n",
       "      <td>0.00235</td>\n",
       "      <td>0.9994</td>\n",
       "      <td>76.331</td>\n",
       "    </tr>\n",
       "    <tr>\n",
       "      <th>June</th>\n",
       "      <td>9133.9</td>\n",
       "      <td>225.68</td>\n",
       "      <td>41.25</td>\n",
       "      <td>0.083837</td>\n",
       "      <td>0.002303</td>\n",
       "      <td>0.066922</td>\n",
       "      <td>0.17538</td>\n",
       "      <td>1.145737</td>\n",
       "      <td>1.1258</td>\n",
       "      <td>51.51</td>\n",
       "      <td>0.00281</td>\n",
       "      <td>0.9998</td>\n",
       "      <td>68.160</td>\n",
       "    </tr>\n",
       "    <tr>\n",
       "      <th>July</th>\n",
       "      <td>11356.2</td>\n",
       "      <td>347.00</td>\n",
       "      <td>58.29</td>\n",
       "      <td>0.140104</td>\n",
       "      <td>0.003221</td>\n",
       "      <td>0.096714</td>\n",
       "      <td>0.26013</td>\n",
       "      <td>1.280154</td>\n",
       "      <td>1.5239</td>\n",
       "      <td>74.36</td>\n",
       "      <td>0.00305</td>\n",
       "      <td>1.0015</td>\n",
       "      <td>82.629</td>\n",
       "    </tr>\n",
       "    <tr>\n",
       "      <th>August</th>\n",
       "      <td>11656.9</td>\n",
       "      <td>433.98</td>\n",
       "      <td>60.97</td>\n",
       "      <td>0.122566</td>\n",
       "      <td>0.003227</td>\n",
       "      <td>0.096914</td>\n",
       "      <td>0.28132</td>\n",
       "      <td>1.799000</td>\n",
       "      <td>3.6183</td>\n",
       "      <td>78.72</td>\n",
       "      <td>0.00458</td>\n",
       "      <td>1.0002</td>\n",
       "      <td>86.271</td>\n",
       "    </tr>\n",
       "    <tr>\n",
       "      <th>September</th>\n",
       "      <td>10774.9</td>\n",
       "      <td>359.69</td>\n",
       "      <td>46.24</td>\n",
       "      <td>0.101360</td>\n",
       "      <td>0.002628</td>\n",
       "      <td>0.074600</td>\n",
       "      <td>0.24184</td>\n",
       "      <td>1.196873</td>\n",
       "      <td>2.5682</td>\n",
       "      <td>63.94</td>\n",
       "      <td>0.00308</td>\n",
       "      <td>1.0000</td>\n",
       "      <td>69.126</td>\n",
       "    </tr>\n",
       "    <tr>\n",
       "      <th>October</th>\n",
       "      <td>13809.1</td>\n",
       "      <td>386.81</td>\n",
       "      <td>55.82</td>\n",
       "      <td>0.093183</td>\n",
       "      <td>0.002575</td>\n",
       "      <td>0.077742</td>\n",
       "      <td>0.23999</td>\n",
       "      <td>1.052737</td>\n",
       "      <td>3.2141</td>\n",
       "      <td>58.12</td>\n",
       "      <td>0.00247</td>\n",
       "      <td>1.0009</td>\n",
       "      <td>70.231</td>\n",
       "    </tr>\n",
       "    <tr>\n",
       "      <th>November</th>\n",
       "      <td>19708.1</td>\n",
       "      <td>616.65</td>\n",
       "      <td>87.67</td>\n",
       "      <td>0.172279</td>\n",
       "      <td>0.003545</td>\n",
       "      <td>0.203011</td>\n",
       "      <td>0.66415</td>\n",
       "      <td>1.328984</td>\n",
       "      <td>7.0667</td>\n",
       "      <td>78.96</td>\n",
       "      <td>0.00338</td>\n",
       "      <td>1.0005</td>\n",
       "      <td>113.197</td>\n",
       "    </tr>\n",
       "    <tr>\n",
       "      <th>December</th>\n",
       "      <td>28959.2</td>\n",
       "      <td>737.45</td>\n",
       "      <td>124.55</td>\n",
       "      <td>0.181689</td>\n",
       "      <td>0.004684</td>\n",
       "      <td>0.127627</td>\n",
       "      <td>0.21950</td>\n",
       "      <td>1.146250</td>\n",
       "      <td>6.2000</td>\n",
       "      <td>63.89</td>\n",
       "      <td>0.00312</td>\n",
       "      <td>1.0010</td>\n",
       "      <td>99.531</td>\n",
       "    </tr>\n",
       "  </tbody>\n",
       "</table>\n",
       "</div>"
      ],
      "text/plain": [
       "           BTC_Monthly_Close  ETH_Monthly_Close  LTC_Monthly_Close  \\\n",
       "Month                                                                \n",
       "January               9339.3             179.68              67.76   \n",
       "February              8529.1             217.78              58.13   \n",
       "March                 6422.1             133.10              39.25   \n",
       "April                 8629.6             206.20              46.37   \n",
       "May                   9447.4             231.76              45.59   \n",
       "June                  9133.9             225.68              41.25   \n",
       "July                 11356.2             347.00              58.29   \n",
       "August               11656.9             433.98              60.97   \n",
       "September            10774.9             359.69              46.24   \n",
       "October              13809.1             386.81              55.82   \n",
       "November             19708.1             616.65              87.67   \n",
       "December             28959.2             737.45             124.55   \n",
       "\n",
       "           ADA_Monthly_Close  XLM_Monthly_Close  XRP_Monthly_Close  \\\n",
       "Month                                                                \n",
       "January             0.053794           0.002364           0.060831   \n",
       "February            0.047284           0.002213           0.056963   \n",
       "March               0.030575           0.001790           0.040939   \n",
       "April               0.047481           0.002337           0.067277   \n",
       "May                 0.074002           0.002538           0.070787   \n",
       "June                0.083837           0.002303           0.066922   \n",
       "July                0.140104           0.003221           0.096714   \n",
       "August              0.122566           0.003227           0.096914   \n",
       "September           0.101360           0.002628           0.074600   \n",
       "October             0.093183           0.002575           0.077742   \n",
       "November            0.172279           0.003545           0.203011   \n",
       "December            0.181689           0.004684           0.127627   \n",
       "\n",
       "           LISK_Monthly_Close  WAVES_Monthly_Close  ZEC_Monthly_Close  \\\n",
       "Month                                                                   \n",
       "January               0.23890             1.149000             0.8841   \n",
       "February              0.22883             1.281456             1.1298   \n",
       "March                 0.17374             0.977245             0.9968   \n",
       "April                 0.21178             1.218623             1.0552   \n",
       "May                   0.20239             1.197980             1.0908   \n",
       "June                  0.17538             1.145737             1.1258   \n",
       "July                  0.26013             1.280154             1.5239   \n",
       "August                0.28132             1.799000             3.6183   \n",
       "September             0.24184             1.196873             2.5682   \n",
       "October               0.23999             1.052737             3.2141   \n",
       "November              0.66415             1.328984             7.0667   \n",
       "December              0.21950             1.146250             6.2000   \n",
       "\n",
       "           SC_Monthly_Close  USDT_Monthly_Close  DASH_Monthly_Close  \\\n",
       "Month                                                                 \n",
       "January               66.20             0.00160              0.9983   \n",
       "February              49.00             0.00227              1.0002   \n",
       "March                 30.93             0.00128              1.0017   \n",
       "April                 44.61             0.00205              1.0005   \n",
       "May                   51.77             0.00235              0.9994   \n",
       "June                  51.51             0.00281              0.9998   \n",
       "July                  74.36             0.00305              1.0015   \n",
       "August                78.72             0.00458              1.0002   \n",
       "September             63.94             0.00308              1.0000   \n",
       "October               58.12             0.00247              1.0009   \n",
       "November              78.96             0.00338              1.0005   \n",
       "December              63.89             0.00312              1.0010   \n",
       "\n",
       "           DOGE_Monthly_Close  \n",
       "Month                          \n",
       "January               115.961  \n",
       "February               85.254  \n",
       "March                  64.946  \n",
       "April                  80.817  \n",
       "May                    76.331  \n",
       "June                   68.160  \n",
       "July                   82.629  \n",
       "August                 86.271  \n",
       "September              69.126  \n",
       "October                70.231  \n",
       "November              113.197  \n",
       "December               99.531  "
      ]
     },
     "execution_count": 5,
     "metadata": {},
     "output_type": "execute_result"
    }
   ],
   "source": [
    "# Clean the dataframe to only include the closing price\n",
    "final_2020_df = pd.DataFrame()\n",
    "final_2020_df['BTC_Monthly_Close'] = df_2020['price_close']\n",
    "final_2020_df['ETH_Monthly_Close'] = df_2020['price_close.1']\n",
    "final_2020_df['LTC_Monthly_Close'] = df_2020['price_close.2']\n",
    "final_2020_df['ADA_Monthly_Close'] = df_2020['price_close.3']\n",
    "final_2020_df['XLM_Monthly_Close'] = df_2020['price_close.4']\n",
    "final_2020_df['XRP_Monthly_Close'] = df_2020['price_close.5']\n",
    "final_2020_df['LISK_Monthly_Close'] = df_2020['price_close.6']\n",
    "final_2020_df['WAVES_Monthly_Close'] = df_2020['price_close.7']\n",
    "final_2020_df['ZEC_Monthly_Close'] = df_2020['price_close.8']\n",
    "final_2020_df['SC_Monthly_Close'] = df_2020['price_close.9']\n",
    "final_2020_df['USDT_Monthly_Close'] = df_2020['price_close.10']\n",
    "final_2020_df['DASH_Monthly_Close'] = df_2020['price_close.11']\n",
    "final_2020_df['DOGE_Monthly_Close'] = df_2020['price_close.12']\n",
    "\n",
    "final_2020_df"
   ]
  },
  {
   "cell_type": "code",
   "execution_count": 6,
   "id": "245d583d",
   "metadata": {},
   "outputs": [
    {
     "data": {
      "text/plain": [
       "Month\n",
       "January      0.000000\n",
       "February    -0.086752\n",
       "March       -0.247037\n",
       "April        0.343735\n",
       "May          0.094767\n",
       "June        -0.033184\n",
       "July         0.243302\n",
       "August       0.026479\n",
       "September   -0.075663\n",
       "October      0.281599\n",
       "November     0.427182\n",
       "December     0.469406\n",
       "Name: BTC_Monthly_Close, dtype: float64"
      ]
     },
     "execution_count": 6,
     "metadata": {},
     "output_type": "execute_result"
    }
   ],
   "source": [
    "# STEP 3: CALCULATE Monthly RETURNS FOR EACH CURRENCY IN Designated Time range from  DATAFRAME, DROP NULL VALUES\n",
    "\"\"\"\n",
    "\n",
    "Will need: .pct_change().dropna(inplace = True)\n",
    "\n",
    "\"\"\"\n",
    "btc_2020_df = final_2020_df['BTC_Monthly_Close'].pct_change().fillna(0)\n",
    "btc_2020_df"
   ]
  },
  {
   "cell_type": "code",
   "execution_count": 7,
   "id": "9eccf253",
   "metadata": {},
   "outputs": [
    {
     "data": {
      "text/plain": [
       "Month\n",
       "January      0.000000\n",
       "February     0.212044\n",
       "March       -0.388833\n",
       "April        0.549211\n",
       "May          0.123957\n",
       "June        -0.026234\n",
       "July         0.537575\n",
       "August       0.250663\n",
       "September   -0.171183\n",
       "October      0.075398\n",
       "November     0.594194\n",
       "December     0.195897\n",
       "Name: ETH_Monthly_Close, dtype: float64"
      ]
     },
     "execution_count": 7,
     "metadata": {},
     "output_type": "execute_result"
    }
   ],
   "source": [
    "eth_2020_df = final_2020_df['ETH_Monthly_Close'].pct_change().fillna(0)\n",
    "eth_2020_df"
   ]
  },
  {
   "cell_type": "code",
   "execution_count": 8,
   "id": "670457f3",
   "metadata": {},
   "outputs": [
    {
     "data": {
      "text/plain": [
       "Month\n",
       "January      0.000000\n",
       "February    -0.142119\n",
       "March       -0.324789\n",
       "April        0.181401\n",
       "May         -0.016821\n",
       "June        -0.095196\n",
       "July         0.413091\n",
       "August       0.045977\n",
       "September   -0.241594\n",
       "October      0.207180\n",
       "November     0.570584\n",
       "December     0.420668\n",
       "Name: LTC_Monthly_Close, dtype: float64"
      ]
     },
     "execution_count": 8,
     "metadata": {},
     "output_type": "execute_result"
    }
   ],
   "source": [
    "ltc_2020_df = final_2020_df['LTC_Monthly_Close'].pct_change().fillna(0)\n",
    "ltc_2020_df"
   ]
  },
  {
   "cell_type": "code",
   "execution_count": 9,
   "id": "a5ff4006",
   "metadata": {},
   "outputs": [
    {
     "data": {
      "text/plain": [
       "Month\n",
       "January      0.000000\n",
       "February    -0.121017\n",
       "March       -0.353375\n",
       "April        0.552935\n",
       "May          0.558560\n",
       "June         0.132902\n",
       "July         0.671148\n",
       "August      -0.125178\n",
       "September   -0.173017\n",
       "October     -0.080673\n",
       "November     0.848824\n",
       "December     0.054621\n",
       "Name: ADA_Monthly_Close, dtype: float64"
      ]
     },
     "execution_count": 9,
     "metadata": {},
     "output_type": "execute_result"
    }
   ],
   "source": [
    "ada_2020_df = final_2020_df['ADA_Monthly_Close'].pct_change().fillna(0)\n",
    "ada_2020_df"
   ]
  },
  {
   "cell_type": "code",
   "execution_count": 10,
   "id": "fa27d412",
   "metadata": {},
   "outputs": [
    {
     "data": {
      "text/plain": [
       "Month\n",
       "January      0.000000\n",
       "February    -0.063589\n",
       "March       -0.191253\n",
       "April        0.305810\n",
       "May          0.085736\n",
       "June        -0.092560\n",
       "July         0.398845\n",
       "August       0.001676\n",
       "September   -0.185602\n",
       "October     -0.020054\n",
       "November     0.376592\n",
       "December     0.321382\n",
       "Name: XLM_Monthly_Close, dtype: float64"
      ]
     },
     "execution_count": 10,
     "metadata": {},
     "output_type": "execute_result"
    }
   ],
   "source": [
    "xlm_2020_df = final_2020_df['XLM_Monthly_Close'].pct_change().fillna(0)\n",
    "xlm_2020_df"
   ]
  },
  {
   "cell_type": "code",
   "execution_count": 11,
   "id": "f233aee1",
   "metadata": {},
   "outputs": [
    {
     "data": {
      "text/plain": [
       "Month\n",
       "January      0.000000\n",
       "February    -0.063586\n",
       "March       -0.281305\n",
       "April        0.643347\n",
       "May          0.052172\n",
       "June        -0.054600\n",
       "July         0.445175\n",
       "August       0.002068\n",
       "September   -0.230245\n",
       "October      0.042118\n",
       "November     1.611343\n",
       "December    -0.371330\n",
       "Name: XRP_Monthly_Close, dtype: float64"
      ]
     },
     "execution_count": 11,
     "metadata": {},
     "output_type": "execute_result"
    }
   ],
   "source": [
    "xrp_2020_df = final_2020_df['XRP_Monthly_Close'].pct_change().fillna(0)\n",
    "xrp_2020_df"
   ]
  },
  {
   "cell_type": "code",
   "execution_count": 12,
   "id": "08df7720",
   "metadata": {},
   "outputs": [
    {
     "data": {
      "text/plain": [
       "Month\n",
       "January      0.000000\n",
       "February    -0.042152\n",
       "March       -0.240746\n",
       "April        0.218948\n",
       "May         -0.044338\n",
       "June        -0.133455\n",
       "July         0.483236\n",
       "August       0.081459\n",
       "September   -0.140338\n",
       "October     -0.007650\n",
       "November     1.767407\n",
       "December    -0.669502\n",
       "Name: LISK_Monthly_Close, dtype: float64"
      ]
     },
     "execution_count": 12,
     "metadata": {},
     "output_type": "execute_result"
    }
   ],
   "source": [
    "lisk_2020_df = final_2020_df['LISK_Monthly_Close'].pct_change().fillna(0)\n",
    "lisk_2020_df"
   ]
  },
  {
   "cell_type": "code",
   "execution_count": 13,
   "id": "7778ad90",
   "metadata": {},
   "outputs": [
    {
     "data": {
      "text/plain": [
       "Month\n",
       "January      0.000000\n",
       "February     0.115279\n",
       "March       -0.237395\n",
       "April        0.246998\n",
       "May         -0.016940\n",
       "June        -0.043609\n",
       "July         0.117319\n",
       "August       0.405300\n",
       "September   -0.334701\n",
       "October     -0.120427\n",
       "November     0.262408\n",
       "December    -0.137499\n",
       "Name: WAVES_Monthly_Close, dtype: float64"
      ]
     },
     "execution_count": 13,
     "metadata": {},
     "output_type": "execute_result"
    }
   ],
   "source": [
    "waves_2020_df = final_2020_df['WAVES_Monthly_Close'].pct_change().fillna(0)\n",
    "waves_2020_df"
   ]
  },
  {
   "cell_type": "code",
   "execution_count": 14,
   "id": "c798fa4f",
   "metadata": {},
   "outputs": [
    {
     "data": {
      "text/plain": [
       "Month\n",
       "January      0.000000\n",
       "February     0.277910\n",
       "March       -0.117720\n",
       "April        0.058587\n",
       "May          0.033738\n",
       "June         0.032087\n",
       "July         0.353615\n",
       "August       1.374368\n",
       "September   -0.290219\n",
       "October      0.251499\n",
       "November     1.198656\n",
       "December    -0.122646\n",
       "Name: ZEC_Monthly_Close, dtype: float64"
      ]
     },
     "execution_count": 14,
     "metadata": {},
     "output_type": "execute_result"
    }
   ],
   "source": [
    "zec_2020_df = final_2020_df['ZEC_Monthly_Close'].pct_change().fillna(0)\n",
    "zec_2020_df"
   ]
  },
  {
   "cell_type": "code",
   "execution_count": 15,
   "id": "4419a392",
   "metadata": {},
   "outputs": [
    {
     "data": {
      "text/plain": [
       "Month\n",
       "January      0.000000\n",
       "February    -0.259819\n",
       "March       -0.368776\n",
       "April        0.442289\n",
       "May          0.160502\n",
       "June        -0.005022\n",
       "July         0.443603\n",
       "August       0.058634\n",
       "September   -0.187754\n",
       "October     -0.091023\n",
       "November     0.358568\n",
       "December    -0.190856\n",
       "Name: SC_Monthly_Close, dtype: float64"
      ]
     },
     "execution_count": 15,
     "metadata": {},
     "output_type": "execute_result"
    }
   ],
   "source": [
    "sc_2020_df = final_2020_df['SC_Monthly_Close'].pct_change().fillna(0)\n",
    "sc_2020_df"
   ]
  },
  {
   "cell_type": "code",
   "execution_count": 16,
   "id": "7b1ce496",
   "metadata": {},
   "outputs": [
    {
     "data": {
      "text/plain": [
       "Month\n",
       "January      0.000000\n",
       "February     0.418750\n",
       "March       -0.436123\n",
       "April        0.601562\n",
       "May          0.146341\n",
       "June         0.195745\n",
       "July         0.085409\n",
       "August       0.501639\n",
       "September   -0.327511\n",
       "October     -0.198052\n",
       "November     0.368421\n",
       "December    -0.076923\n",
       "Name: USDT_Monthly_Close, dtype: float64"
      ]
     },
     "execution_count": 16,
     "metadata": {},
     "output_type": "execute_result"
    }
   ],
   "source": [
    "usdt_2020_df = final_2020_df['USDT_Monthly_Close'].pct_change().fillna(0)\n",
    "usdt_2020_df"
   ]
  },
  {
   "cell_type": "code",
   "execution_count": 17,
   "id": "75cdcdf8",
   "metadata": {},
   "outputs": [
    {
     "data": {
      "text/plain": [
       "Month\n",
       "January      0.000000\n",
       "February     0.001903\n",
       "March        0.001500\n",
       "April       -0.001198\n",
       "May         -0.001099\n",
       "June         0.000400\n",
       "July         0.001700\n",
       "August      -0.001298\n",
       "September   -0.000200\n",
       "October      0.000900\n",
       "November    -0.000400\n",
       "December     0.000500\n",
       "Name: DASH_Monthly_Close, dtype: float64"
      ]
     },
     "execution_count": 17,
     "metadata": {},
     "output_type": "execute_result"
    }
   ],
   "source": [
    "dash_2020_df = final_2020_df['DASH_Monthly_Close'].pct_change().fillna(0)\n",
    "dash_2020_df"
   ]
  },
  {
   "cell_type": "code",
   "execution_count": 18,
   "id": "f42c36bd",
   "metadata": {},
   "outputs": [
    {
     "data": {
      "text/plain": [
       "Month\n",
       "January      0.000000\n",
       "February    -0.086752\n",
       "March       -0.247037\n",
       "April        0.343735\n",
       "May          0.094767\n",
       "June        -0.033184\n",
       "July         0.243302\n",
       "August       0.026479\n",
       "September   -0.075663\n",
       "October      0.281599\n",
       "November     0.427182\n",
       "December     0.469406\n",
       "Name: BTC_Monthly_Close, dtype: float64"
      ]
     },
     "execution_count": 18,
     "metadata": {},
     "output_type": "execute_result"
    }
   ],
   "source": [
    "doge_2020_df = final_2020_df['BTC_Monthly_Close'].pct_change().fillna(0)\n",
    "doge_2020_df"
   ]
  },
  {
   "cell_type": "code",
   "execution_count": 19,
   "id": "c2bfbf34",
   "metadata": {},
   "outputs": [
    {
     "data": {
      "text/plain": [
       "0.051892143994626654"
      ]
     },
     "execution_count": 19,
     "metadata": {},
     "output_type": "execute_result"
    }
   ],
   "source": [
    "# Step 4: Calculate the variance of bitcoin, in this case being used as a proxy for the market.\n",
    "# assign to market variance value\n",
    "market_var = btc_2020_df.var()\n",
    "market_var"
   ]
  },
  {
   "cell_type": "code",
   "execution_count": 20,
   "id": "40cbfa30",
   "metadata": {},
   "outputs": [
    {
     "data": {
      "text/plain": [
       "0.051892143994626654"
      ]
     },
     "execution_count": 20,
     "metadata": {},
     "output_type": "execute_result"
    }
   ],
   "source": [
    "btc_var = btc_2020_df.var()\n",
    "btc_var"
   ]
  },
  {
   "cell_type": "code",
   "execution_count": 21,
   "id": "86a7d3a2",
   "metadata": {},
   "outputs": [
    {
     "data": {
      "text/plain": [
       "0.08857632050051642"
      ]
     },
     "execution_count": 21,
     "metadata": {},
     "output_type": "execute_result"
    }
   ],
   "source": [
    "eth_var = eth_2020_df.var()\n",
    "eth_var"
   ]
  },
  {
   "cell_type": "code",
   "execution_count": 22,
   "id": "7c48ba63",
   "metadata": {},
   "outputs": [
    {
     "data": {
      "text/plain": [
       "0.07800817653158242"
      ]
     },
     "execution_count": 22,
     "metadata": {},
     "output_type": "execute_result"
    }
   ],
   "source": [
    "ltc_var = ltc_2020_df.var()\n",
    "ltc_var"
   ]
  },
  {
   "cell_type": "code",
   "execution_count": 23,
   "id": "121b9e85",
   "metadata": {},
   "outputs": [
    {
     "data": {
      "text/plain": [
       "0.15263087345020135"
      ]
     },
     "execution_count": 23,
     "metadata": {},
     "output_type": "execute_result"
    }
   ],
   "source": [
    "ada_var = ada_2020_df.var()\n",
    "ada_var"
   ]
  },
  {
   "cell_type": "code",
   "execution_count": 24,
   "id": "29a08f9f",
   "metadata": {},
   "outputs": [
    {
     "data": {
      "text/plain": [
       "0.0469032920204163"
      ]
     },
     "execution_count": 24,
     "metadata": {},
     "output_type": "execute_result"
    }
   ],
   "source": [
    "xlm_var = xlm_2020_df.var()\n",
    "xlm_var"
   ]
  },
  {
   "cell_type": "code",
   "execution_count": 25,
   "id": "9a1d57f5",
   "metadata": {},
   "outputs": [
    {
     "data": {
      "text/plain": [
       "0.2928644351828504"
      ]
     },
     "execution_count": 25,
     "metadata": {},
     "output_type": "execute_result"
    }
   ],
   "source": [
    "xrp_var = xrp_2020_df.var()\n",
    "xrp_var"
   ]
  },
  {
   "cell_type": "code",
   "execution_count": 26,
   "id": "756f46b6",
   "metadata": {},
   "outputs": [
    {
     "data": {
      "text/plain": [
       "0.3476637297514744"
      ]
     },
     "execution_count": 26,
     "metadata": {},
     "output_type": "execute_result"
    }
   ],
   "source": [
    "lisk_var = lisk_2020_df.var()\n",
    "lisk_var"
   ]
  },
  {
   "cell_type": "code",
   "execution_count": 27,
   "id": "0a94d85a",
   "metadata": {},
   "outputs": [
    {
     "data": {
      "text/plain": [
       "0.0472430049424835"
      ]
     },
     "execution_count": 27,
     "metadata": {},
     "output_type": "execute_result"
    }
   ],
   "source": [
    "waves_var = waves_2020_df.var()\n",
    "waves_var"
   ]
  },
  {
   "cell_type": "code",
   "execution_count": 28,
   "id": "0cf585d2",
   "metadata": {},
   "outputs": [
    {
     "data": {
      "text/plain": [
       "0.2667978429097526"
      ]
     },
     "execution_count": 28,
     "metadata": {},
     "output_type": "execute_result"
    }
   ],
   "source": [
    "zec_var = zec_2020_df.var()\n",
    "zec_var"
   ]
  },
  {
   "cell_type": "code",
   "execution_count": 29,
   "id": "7995aec8",
   "metadata": {},
   "outputs": [
    {
     "data": {
      "text/plain": [
       "0.07480381123229048"
      ]
     },
     "execution_count": 29,
     "metadata": {},
     "output_type": "execute_result"
    }
   ],
   "source": [
    "sc_var = sc_2020_df.var()\n",
    "sc_var"
   ]
  },
  {
   "cell_type": "code",
   "execution_count": 30,
   "id": "622371d0",
   "metadata": {},
   "outputs": [
    {
     "data": {
      "text/plain": [
       "0.10889682377517974"
      ]
     },
     "execution_count": 30,
     "metadata": {},
     "output_type": "execute_result"
    }
   ],
   "source": [
    "usdt_var = usdt_2020_df.var()\n",
    "usdt_var"
   ]
  },
  {
   "cell_type": "code",
   "execution_count": 31,
   "id": "7b3906d9",
   "metadata": {},
   "outputs": [
    {
     "data": {
      "text/plain": [
       "1.263623125252005e-06"
      ]
     },
     "execution_count": 31,
     "metadata": {},
     "output_type": "execute_result"
    }
   ],
   "source": [
    "dash_var = dash_2020_df.var()\n",
    "dash_var"
   ]
  },
  {
   "cell_type": "code",
   "execution_count": 32,
   "id": "a663f898",
   "metadata": {},
   "outputs": [
    {
     "data": {
      "text/plain": [
       "0.051892143994626654"
      ]
     },
     "execution_count": 32,
     "metadata": {},
     "output_type": "execute_result"
    }
   ],
   "source": [
    "doge_var = doge_2020_df.var()\n",
    "doge_var"
   ]
  },
  {
   "cell_type": "code",
   "execution_count": 33,
   "id": "062c897c",
   "metadata": {},
   "outputs": [
    {
     "data": {
      "text/plain": [
       "0.051892143994626654"
      ]
     },
     "execution_count": 33,
     "metadata": {},
     "output_type": "execute_result"
    }
   ],
   "source": [
    "# STEP 5B: CALCULATE COVARIANCE OF EACH CURRENCY RELATIVE TO BITCOIN\n",
    "\"\"\"\n",
    "Use monthly returns of currency and monthly returns of bitcoin as market proxy\n",
    "\n",
    "\"\"\"\n",
    "\n",
    "mkt_2020_cov = btc_2020_df.cov(btc_2020_df)\n",
    "mkt_2020_cov"
   ]
  },
  {
   "cell_type": "code",
   "execution_count": 34,
   "id": "9a89ebbc",
   "metadata": {},
   "outputs": [
    {
     "data": {
      "text/plain": [
       "0.05104671211544259"
      ]
     },
     "execution_count": 34,
     "metadata": {},
     "output_type": "execute_result"
    }
   ],
   "source": [
    "eth_2020_cov = eth_2020_df.cov(btc_2020_df)\n",
    "eth_2020_cov"
   ]
  },
  {
   "cell_type": "code",
   "execution_count": 35,
   "id": "df65cb71",
   "metadata": {},
   "outputs": [
    {
     "data": {
      "text/plain": [
       "0.059409455342703824"
      ]
     },
     "execution_count": 35,
     "metadata": {},
     "output_type": "execute_result"
    }
   ],
   "source": [
    "ltc_2020_cov = ltc_2020_df.cov(btc_2020_df)\n",
    "ltc_2020_cov"
   ]
  },
  {
   "cell_type": "code",
   "execution_count": 36,
   "id": "12469af8",
   "metadata": {},
   "outputs": [
    {
     "data": {
      "text/plain": [
       "0.05804165228348127"
      ]
     },
     "execution_count": 36,
     "metadata": {},
     "output_type": "execute_result"
    }
   ],
   "source": [
    "ada_2020_cov = ada_2020_df.cov(btc_2020_df)\n",
    "ada_2020_cov"
   ]
  },
  {
   "cell_type": "code",
   "execution_count": 37,
   "id": "028c2b96",
   "metadata": {},
   "outputs": [
    {
     "data": {
      "text/plain": [
       "0.04305019324648309"
      ]
     },
     "execution_count": 37,
     "metadata": {},
     "output_type": "execute_result"
    }
   ],
   "source": [
    "xlm_2020_cov = xlm_2020_df.cov(btc_2020_df)\n",
    "xlm_2020_cov"
   ]
  },
  {
   "cell_type": "code",
   "execution_count": 38,
   "id": "211df739",
   "metadata": {},
   "outputs": [
    {
     "data": {
      "text/plain": [
       "0.06714493459874253"
      ]
     },
     "execution_count": 38,
     "metadata": {},
     "output_type": "execute_result"
    }
   ],
   "source": [
    "xrp_2020_cov = xrp_2020_df.cov(btc_2020_df)\n",
    "xrp_2020_cov"
   ]
  },
  {
   "cell_type": "code",
   "execution_count": 39,
   "id": "9dfca8d7",
   "metadata": {},
   "outputs": [
    {
     "data": {
      "text/plain": [
       "0.05039960976430344"
      ]
     },
     "execution_count": 39,
     "metadata": {},
     "output_type": "execute_result"
    }
   ],
   "source": [
    "lisk_2020_cov = lisk_2020_df.cov(btc_2020_df)\n",
    "lisk_2020_cov"
   ]
  },
  {
   "cell_type": "code",
   "execution_count": 40,
   "id": "b4cc3c74",
   "metadata": {},
   "outputs": [
    {
     "data": {
      "text/plain": [
       "0.016430895352623855"
      ]
     },
     "execution_count": 40,
     "metadata": {},
     "output_type": "execute_result"
    }
   ],
   "source": [
    "waves_2020_cov = waves_2020_df.cov(btc_2020_df)\n",
    "waves_2020_cov"
   ]
  },
  {
   "cell_type": "code",
   "execution_count": 41,
   "id": "a8765cdd",
   "metadata": {},
   "outputs": [
    {
     "data": {
      "text/plain": [
       "0.029996832809601533"
      ]
     },
     "execution_count": 41,
     "metadata": {},
     "output_type": "execute_result"
    }
   ],
   "source": [
    "zec_2020_cov = zec_2020_df.cov(btc_2020_df)\n",
    "zec_2020_cov"
   ]
  },
  {
   "cell_type": "code",
   "execution_count": 42,
   "id": "5916ad9d",
   "metadata": {},
   "outputs": [
    {
     "data": {
      "text/plain": [
       "0.03630296081183334"
      ]
     },
     "execution_count": 42,
     "metadata": {},
     "output_type": "execute_result"
    }
   ],
   "source": [
    "sc_2020_cov = sc_2020_df.cov(btc_2020_df)\n",
    "sc_2020_cov"
   ]
  },
  {
   "cell_type": "code",
   "execution_count": 43,
   "id": "760b6473",
   "metadata": {},
   "outputs": [
    {
     "data": {
      "text/plain": [
       "0.023271757488815135"
      ]
     },
     "execution_count": 43,
     "metadata": {},
     "output_type": "execute_result"
    }
   ],
   "source": [
    "usdt_2020_cov = usdt_2020_df.cov(btc_2020_df)\n",
    "usdt_2020_cov"
   ]
  },
  {
   "cell_type": "code",
   "execution_count": 44,
   "id": "68d2d441",
   "metadata": {},
   "outputs": [
    {
     "data": {
      "text/plain": [
       "-6.172116374510728e-05"
      ]
     },
     "execution_count": 44,
     "metadata": {},
     "output_type": "execute_result"
    }
   ],
   "source": [
    "dash_2020_cov = dash_2020_df.cov(btc_2020_df)\n",
    "dash_2020_cov"
   ]
  },
  {
   "cell_type": "code",
   "execution_count": 45,
   "id": "e2e896ec",
   "metadata": {},
   "outputs": [
    {
     "data": {
      "text/plain": [
       "0.051892143994626654"
      ]
     },
     "execution_count": 45,
     "metadata": {},
     "output_type": "execute_result"
    }
   ],
   "source": [
    "doge_2020_cov = doge_2020_df.cov(btc_2020_df)\n",
    "doge_2020_cov"
   ]
  },
  {
   "cell_type": "code",
   "execution_count": 47,
   "id": "f167e943",
   "metadata": {},
   "outputs": [
    {
     "data": {
      "text/plain": [
       "1.0"
      ]
     },
     "execution_count": 47,
     "metadata": {},
     "output_type": "execute_result"
    }
   ],
   "source": [
    "# STEP 6: CALCULATE BETA OF EACH CURRENCY\n",
    "\n",
    "\"\"\"\n",
    "beta = covariance of asset to market / variance of market\n",
    "\n",
    "use previous calculations for market variance and covariance of assets\n",
    "\"\"\"\n",
    "btc_beta_2020 = mkt_2020_cov / market_var\n",
    "btc_beta_2020"
   ]
  },
  {
   "cell_type": "code",
   "execution_count": 48,
   "id": "01014e5f",
   "metadata": {},
   "outputs": [
    {
     "data": {
      "text/plain": [
       "0.9837079023123113"
      ]
     },
     "execution_count": 48,
     "metadata": {},
     "output_type": "execute_result"
    }
   ],
   "source": [
    "eth_beta_2020 = eth_2020_cov / market_var\n",
    "eth_beta_2020"
   ]
  },
  {
   "cell_type": "code",
   "execution_count": 49,
   "id": "1b09ba59",
   "metadata": {},
   "outputs": [
    {
     "data": {
      "text/plain": [
       "1.1448641503202406"
      ]
     },
     "execution_count": 49,
     "metadata": {},
     "output_type": "execute_result"
    }
   ],
   "source": [
    "ltc_beta_2020 = ltc_2020_cov / market_var\n",
    "ltc_beta_2020"
   ]
  },
  {
   "cell_type": "code",
   "execution_count": 50,
   "id": "37ec75d3",
   "metadata": {},
   "outputs": [
    {
     "data": {
      "text/plain": [
       "1.118505573589162"
      ]
     },
     "execution_count": 50,
     "metadata": {},
     "output_type": "execute_result"
    }
   ],
   "source": [
    "ada_beta_2020 = ada_2020_cov / market_var\n",
    "ada_beta_2020"
   ]
  },
  {
   "cell_type": "code",
   "execution_count": 51,
   "id": "1745c8c3",
   "metadata": {},
   "outputs": [
    {
     "data": {
      "text/plain": [
       "0.8296090685892814"
      ]
     },
     "execution_count": 51,
     "metadata": {},
     "output_type": "execute_result"
    }
   ],
   "source": [
    "xlm_beta_2020 = xlm_2020_cov / market_var\n",
    "xlm_beta_2020"
   ]
  },
  {
   "cell_type": "code",
   "execution_count": 52,
   "id": "25e5d29d",
   "metadata": {},
   "outputs": [
    {
     "data": {
      "text/plain": [
       "1.2939325576082437"
      ]
     },
     "execution_count": 52,
     "metadata": {},
     "output_type": "execute_result"
    }
   ],
   "source": [
    "xrp_beta_2020 = xrp_2020_cov / market_var\n",
    "xrp_beta_2020"
   ]
  },
  {
   "cell_type": "code",
   "execution_count": 53,
   "id": "803729ad",
   "metadata": {},
   "outputs": [
    {
     "data": {
      "text/plain": [
       "0.9712377613367109"
      ]
     },
     "execution_count": 53,
     "metadata": {},
     "output_type": "execute_result"
    }
   ],
   "source": [
    "lisk_beta_2020 = lisk_2020_cov / market_var\n",
    "lisk_beta_2020"
   ]
  },
  {
   "cell_type": "code",
   "execution_count": 54,
   "id": "871fefa0",
   "metadata": {},
   "outputs": [
    {
     "data": {
      "text/plain": [
       "0.31663550756980186"
      ]
     },
     "execution_count": 54,
     "metadata": {},
     "output_type": "execute_result"
    }
   ],
   "source": [
    "waves_beta_2020 = waves_2020_cov / market_var\n",
    "waves_beta_2020"
   ]
  },
  {
   "cell_type": "code",
   "execution_count": 55,
   "id": "9c75a7b4",
   "metadata": {},
   "outputs": [
    {
     "data": {
      "text/plain": [
       "0.5780611572477649"
      ]
     },
     "execution_count": 55,
     "metadata": {},
     "output_type": "execute_result"
    }
   ],
   "source": [
    "zec_beta_2020 = zec_2020_cov / market_var\n",
    "zec_beta_2020"
   ]
  },
  {
   "cell_type": "code",
   "execution_count": 56,
   "id": "ec24f4f8",
   "metadata": {},
   "outputs": [
    {
     "data": {
      "text/plain": [
       "0.6995849085671321"
      ]
     },
     "execution_count": 56,
     "metadata": {},
     "output_type": "execute_result"
    }
   ],
   "source": [
    "sc_beta_2020 = sc_2020_cov / market_var\n",
    "sc_beta_2020"
   ]
  },
  {
   "cell_type": "code",
   "execution_count": 57,
   "id": "91f0a93d",
   "metadata": {},
   "outputs": [
    {
     "data": {
      "text/plain": [
       "0.4484639811996376"
      ]
     },
     "execution_count": 57,
     "metadata": {},
     "output_type": "execute_result"
    }
   ],
   "source": [
    "usdt_beta_2020 = usdt_2020_cov / market_var\n",
    "usdt_beta_2020"
   ]
  },
  {
   "cell_type": "code",
   "execution_count": 58,
   "id": "31a21dac",
   "metadata": {},
   "outputs": [
    {
     "data": {
      "text/plain": [
       "-0.0011894124812321957"
      ]
     },
     "execution_count": 58,
     "metadata": {},
     "output_type": "execute_result"
    }
   ],
   "source": [
    "dash_beta_2020 = dash_2020_cov / market_var\n",
    "dash_beta_2020"
   ]
  },
  {
   "cell_type": "code",
   "execution_count": 59,
   "id": "f7b82b67",
   "metadata": {},
   "outputs": [
    {
     "data": {
      "text/plain": [
       "1.0"
      ]
     },
     "execution_count": 59,
     "metadata": {},
     "output_type": "execute_result"
    }
   ],
   "source": [
    "doge_beta_2020 = doge_2020_cov / market_var\n",
    "doge_beta_2020"
   ]
  },
  {
   "cell_type": "code",
   "execution_count": 60,
   "id": "162ec0e8",
   "metadata": {},
   "outputs": [
    {
     "data": {
      "text/plain": [
       "<AxesSubplot:>"
      ]
     },
     "execution_count": 60,
     "metadata": {},
     "output_type": "execute_result"
    },
    {
     "data": {
      "image/png": "[encoded data removed]",
      "text/plain": [
       "<Figure size 432x288 with 2 Axes>"
      ]
     },
     "metadata": {
      "needs_background": "light"
     },
     "output_type": "display_data"
    }
   ],
   "source": [
    "# Display Correlation Heatmap With Seaborn\n",
    "\n",
    "\"\"\"\n",
    "NEW CELL to check monthly returns are displayed with pct_change already applied\n",
    "- Take dataframe of daily returns from step 3 (pct_change drop na already applied)\n",
    "\n",
    "NEW CELL to check correlation dataframe\n",
    "- correlation = monthly_returns_dataframe.corr()\n",
    "\n",
    "NEW CELL to display heatmap\n",
    "- sns.heatmap(correlation)\n",
    "\n",
    "\n",
    "\"\"\"\n",
    "correlation = final_2020_df.corr()\n",
    "sns.heatmap(correlation)"
   ]
  },
  {
   "cell_type": "code",
   "execution_count": null,
   "id": "8cd4972e",
   "metadata": {},
   "outputs": [],
   "source": []
  }
 ],
 "metadata": {
  "kernelspec": {
   "display_name": "Python (dev)",
   "language": "python",
   "name": "dev"
  },
  "language_info": {
   "codemirror_mode": {
    "name": "ipython",
    "version": 3
   },
   "file_extension": ".py",
   "mimetype": "text/x-python",
   "name": "python",
   "nbconvert_exporter": "python",
   "pygments_lexer": "ipython3",
   "version": "3.7.10"
  }
 },
 "nbformat": 4,
 "nbformat_minor": 5
}
