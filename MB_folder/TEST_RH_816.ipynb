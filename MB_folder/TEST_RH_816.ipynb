{
 "cells": [
  {
   "cell_type": "code",
   "execution_count": 89,
   "id": "02f01c4f",
   "metadata": {},
   "outputs": [
    {
     "data": {
      "text/plain": [
       "'\\nFor now, we keep it simple. If we need to expand, we can. \\nWe are taking what we need to in order to understand how each basket of currencies \\nis correlated to the market proxy (bitcoin)\\n'"
      ]
     },
     "execution_count": 89,
     "metadata": {},
     "output_type": "execute_result"
    }
   ],
   "source": [
    "# GOAL: HAVE EACH ANALYSIS SECTION COMPUTE A STANDARD SET OF CALCULATIONS FOR RISK METRICS AND CORRELATION\n",
    "\n",
    "\"\"\"\n",
    "For now, we keep it simple. If we need to expand, we can. \n",
    "We are taking what we need to in order to understand how each basket of currencies \n",
    "is correlated to the market proxy (bitcoin)\n",
    "\"\"\""
   ]
  },
  {
   "cell_type": "code",
   "execution_count": 90,
   "id": "c096e0d3",
   "metadata": {},
   "outputs": [],
   "source": [
    "# STEP 1: IMPORT DEPENDENCIES\n",
    "#For basic calculations:\n",
    "import pandas as pd\n",
    "import numpy as np\n",
    "import csv\n",
    "from pathlib import Path\n",
    "import hvplot.pandas\n",
    "\n",
    "#For Heatmap:\n",
    "import seaborn as sns\n",
    "%matplotlib inline"
   ]
  },
  {
   "cell_type": "code",
   "execution_count": 91,
   "id": "ca4aa308",
   "metadata": {},
   "outputs": [],
   "source": [
    "# STEP 2: IMPORT DATA AS DATAFRAME\n",
    "\"\"\"\n",
    "Determnine if we are reading csv data, running individual api calls, or querying an in-house database\n",
    "\"\"\"\n",
    "#reading in csv data\n",
    "df_2018 = pd.read_csv(\n",
    "    Path('2018_data.csv')\n",
    ").set_index('Month')"
   ]
  },
  {
   "cell_type": "code",
   "execution_count": 92,
   "id": "26f30ccf",
   "metadata": {},
   "outputs": [
    {
     "data": {
      "text/html": [
       "<div>\n",
       "<style scoped>\n",
       "    .dataframe tbody tr th:only-of-type {\n",
       "        vertical-align: middle;\n",
       "    }\n",
       "\n",
       "    .dataframe tbody tr th {\n",
       "        vertical-align: top;\n",
       "    }\n",
       "\n",
       "    .dataframe thead th {\n",
       "        text-align: right;\n",
       "    }\n",
       "</style>\n",
       "<table border=\"1\" class=\"dataframe\">\n",
       "  <thead>\n",
       "    <tr style=\"text-align: right;\">\n",
       "      <th></th>\n",
       "      <th>price_open</th>\n",
       "      <th>price_close</th>\n",
       "      <th>volume_traded</th>\n",
       "      <th>price_open.1</th>\n",
       "      <th>price_close.1</th>\n",
       "      <th>volume_traded.1</th>\n",
       "      <th>price_open.2</th>\n",
       "      <th>price_close.2</th>\n",
       "      <th>volume_traded.2</th>\n",
       "      <th>price_open.3</th>\n",
       "      <th>...</th>\n",
       "      <th>volume_traded.5</th>\n",
       "      <th>price_open.6</th>\n",
       "      <th>price_close.6</th>\n",
       "      <th>volume_traded.6</th>\n",
       "      <th>price_open.7</th>\n",
       "      <th>price_close.7</th>\n",
       "      <th>volume_traded.7</th>\n",
       "      <th>price_open.8</th>\n",
       "      <th>price_close.8</th>\n",
       "      <th>volume_traded.8</th>\n",
       "    </tr>\n",
       "  </thead>\n",
       "  <tbody>\n",
       "    <tr>\n",
       "      <th>count</th>\n",
       "      <td>12.000000</td>\n",
       "      <td>12.000000</td>\n",
       "      <td>12.000000</td>\n",
       "      <td>12.00000</td>\n",
       "      <td>12.000000</td>\n",
       "      <td>1.200000e+01</td>\n",
       "      <td>12.0000</td>\n",
       "      <td>12.000000</td>\n",
       "      <td>1.200000e+01</td>\n",
       "      <td>12.000000</td>\n",
       "      <td>...</td>\n",
       "      <td>1.200000e+01</td>\n",
       "      <td>12.000000</td>\n",
       "      <td>12.000000</td>\n",
       "      <td>12.000000</td>\n",
       "      <td>12.000000</td>\n",
       "      <td>12.000000</td>\n",
       "      <td>12.000000</td>\n",
       "      <td>12.000000</td>\n",
       "      <td>12.000000</td>\n",
       "      <td>1.200000e+01</td>\n",
       "    </tr>\n",
       "    <tr>\n",
       "      <th>mean</th>\n",
       "      <td>8003.775000</td>\n",
       "      <td>7146.175000</td>\n",
       "      <td>197638.688179</td>\n",
       "      <td>503.97000</td>\n",
       "      <td>452.714167</td>\n",
       "      <td>2.191600e+06</td>\n",
       "      <td>111.7625</td>\n",
       "      <td>95.025833</td>\n",
       "      <td>5.757668e+05</td>\n",
       "      <td>0.997392</td>\n",
       "      <td>...</td>\n",
       "      <td>3.349103e+08</td>\n",
       "      <td>234.675833</td>\n",
       "      <td>199.300000</td>\n",
       "      <td>69306.733373</td>\n",
       "      <td>371.898500</td>\n",
       "      <td>292.644750</td>\n",
       "      <td>50265.102545</td>\n",
       "      <td>0.041148</td>\n",
       "      <td>0.019545</td>\n",
       "      <td>2.949424e+07</td>\n",
       "    </tr>\n",
       "    <tr>\n",
       "      <th>std</th>\n",
       "      <td>2578.202017</td>\n",
       "      <td>2072.802689</td>\n",
       "      <td>100047.827686</td>\n",
       "      <td>295.99537</td>\n",
       "      <td>303.593291</td>\n",
       "      <td>1.278655e+06</td>\n",
       "      <td>62.8595</td>\n",
       "      <td>54.611350</td>\n",
       "      <td>3.428206e+05</td>\n",
       "      <td>0.008791</td>\n",
       "      <td>...</td>\n",
       "      <td>1.972352e+08</td>\n",
       "      <td>125.287163</td>\n",
       "      <td>108.777121</td>\n",
       "      <td>32372.876610</td>\n",
       "      <td>274.150662</td>\n",
       "      <td>193.198831</td>\n",
       "      <td>24559.342212</td>\n",
       "      <td>0.087040</td>\n",
       "      <td>0.031242</td>\n",
       "      <td>5.627548e+07</td>\n",
       "    </tr>\n",
       "    <tr>\n",
       "      <th>min</th>\n",
       "      <td>3969.400000</td>\n",
       "      <td>3691.900000</td>\n",
       "      <td>80038.919050</td>\n",
       "      <td>111.81000</td>\n",
       "      <td>111.640000</td>\n",
       "      <td>1.095661e+06</td>\n",
       "      <td>31.6200</td>\n",
       "      <td>29.770000</td>\n",
       "      <td>2.451401e+05</td>\n",
       "      <td>0.984200</td>\n",
       "      <td>...</td>\n",
       "      <td>1.162611e+08</td>\n",
       "      <td>80.250000</td>\n",
       "      <td>55.020000</td>\n",
       "      <td>27875.666940</td>\n",
       "      <td>90.703000</td>\n",
       "      <td>77.073000</td>\n",
       "      <td>21546.518090</td>\n",
       "      <td>0.000000</td>\n",
       "      <td>0.000000</td>\n",
       "      <td>0.000000e+00</td>\n",
       "    </tr>\n",
       "    <tr>\n",
       "      <th>25%</th>\n",
       "      <td>6549.600000</td>\n",
       "      <td>6367.800000</td>\n",
       "      <td>123154.472875</td>\n",
       "      <td>269.18250</td>\n",
       "      <td>223.190000</td>\n",
       "      <td>1.436023e+06</td>\n",
       "      <td>61.8100</td>\n",
       "      <td>58.075000</td>\n",
       "      <td>3.182792e+05</td>\n",
       "      <td>0.995400</td>\n",
       "      <td>...</td>\n",
       "      <td>1.959945e+08</td>\n",
       "      <td>145.017500</td>\n",
       "      <td>126.192500</td>\n",
       "      <td>48864.819033</td>\n",
       "      <td>192.925500</td>\n",
       "      <td>177.782250</td>\n",
       "      <td>35547.098832</td>\n",
       "      <td>0.000000</td>\n",
       "      <td>0.000000</td>\n",
       "      <td>0.000000e+00</td>\n",
       "    </tr>\n",
       "    <tr>\n",
       "      <th>50%</th>\n",
       "      <td>7252.850000</td>\n",
       "      <td>6963.450000</td>\n",
       "      <td>148693.689550</td>\n",
       "      <td>442.38000</td>\n",
       "      <td>412.035000</td>\n",
       "      <td>1.723169e+06</td>\n",
       "      <td>98.6050</td>\n",
       "      <td>79.905000</td>\n",
       "      <td>4.968564e+05</td>\n",
       "      <td>0.998350</td>\n",
       "      <td>...</td>\n",
       "      <td>3.170520e+08</td>\n",
       "      <td>196.070000</td>\n",
       "      <td>177.400000</td>\n",
       "      <td>58343.475440</td>\n",
       "      <td>271.854500</td>\n",
       "      <td>228.300000</td>\n",
       "      <td>47269.879660</td>\n",
       "      <td>0.000000</td>\n",
       "      <td>0.000000</td>\n",
       "      <td>0.000000e+00</td>\n",
       "    </tr>\n",
       "    <tr>\n",
       "      <th>75%</th>\n",
       "      <td>9461.250000</td>\n",
       "      <td>8105.300000</td>\n",
       "      <td>258272.417250</td>\n",
       "      <td>688.69500</td>\n",
       "      <td>600.547500</td>\n",
       "      <td>2.212861e+06</td>\n",
       "      <td>151.8900</td>\n",
       "      <td>125.730000</td>\n",
       "      <td>7.958817e+05</td>\n",
       "      <td>0.999525</td>\n",
       "      <td>...</td>\n",
       "      <td>3.934784e+08</td>\n",
       "      <td>308.315000</td>\n",
       "      <td>250.675000</td>\n",
       "      <td>89149.688080</td>\n",
       "      <td>500.106250</td>\n",
       "      <td>346.664250</td>\n",
       "      <td>61460.019500</td>\n",
       "      <td>0.046387</td>\n",
       "      <td>0.039125</td>\n",
       "      <td>2.058818e+07</td>\n",
       "    </tr>\n",
       "    <tr>\n",
       "      <th>max</th>\n",
       "      <td>13971.100000</td>\n",
       "      <td>10310.000000</td>\n",
       "      <td>364738.920100</td>\n",
       "      <td>1105.30000</td>\n",
       "      <td>1105.300000</td>\n",
       "      <td>5.550937e+06</td>\n",
       "      <td>230.3200</td>\n",
       "      <td>201.840000</td>\n",
       "      <td>1.374386e+06</td>\n",
       "      <td>1.019100</td>\n",
       "      <td>...</td>\n",
       "      <td>7.654455e+08</td>\n",
       "      <td>479.760000</td>\n",
       "      <td>393.930000</td>\n",
       "      <td>142754.996200</td>\n",
       "      <td>1027.191000</td>\n",
       "      <td>689.500000</td>\n",
       "      <td>112577.020200</td>\n",
       "      <td>0.300000</td>\n",
       "      <td>0.085512</td>\n",
       "      <td>1.601121e+08</td>\n",
       "    </tr>\n",
       "  </tbody>\n",
       "</table>\n",
       "<p>8 rows × 27 columns</p>\n",
       "</div>"
      ],
      "text/plain": [
       "         price_open   price_close  volume_traded  price_open.1  price_close.1  \\\n",
       "count     12.000000     12.000000      12.000000      12.00000      12.000000   \n",
       "mean    8003.775000   7146.175000  197638.688179     503.97000     452.714167   \n",
       "std     2578.202017   2072.802689  100047.827686     295.99537     303.593291   \n",
       "min     3969.400000   3691.900000   80038.919050     111.81000     111.640000   \n",
       "25%     6549.600000   6367.800000  123154.472875     269.18250     223.190000   \n",
       "50%     7252.850000   6963.450000  148693.689550     442.38000     412.035000   \n",
       "75%     9461.250000   8105.300000  258272.417250     688.69500     600.547500   \n",
       "max    13971.100000  10310.000000  364738.920100    1105.30000    1105.300000   \n",
       "\n",
       "       volume_traded.1  price_open.2  price_close.2  volume_traded.2  \\\n",
       "count     1.200000e+01       12.0000      12.000000     1.200000e+01   \n",
       "mean      2.191600e+06      111.7625      95.025833     5.757668e+05   \n",
       "std       1.278655e+06       62.8595      54.611350     3.428206e+05   \n",
       "min       1.095661e+06       31.6200      29.770000     2.451401e+05   \n",
       "25%       1.436023e+06       61.8100      58.075000     3.182792e+05   \n",
       "50%       1.723169e+06       98.6050      79.905000     4.968564e+05   \n",
       "75%       2.212861e+06      151.8900     125.730000     7.958817e+05   \n",
       "max       5.550937e+06      230.3200     201.840000     1.374386e+06   \n",
       "\n",
       "       price_open.3  ...  volume_traded.5  price_open.6  price_close.6  \\\n",
       "count     12.000000  ...     1.200000e+01     12.000000      12.000000   \n",
       "mean       0.997392  ...     3.349103e+08    234.675833     199.300000   \n",
       "std        0.008791  ...     1.972352e+08    125.287163     108.777121   \n",
       "min        0.984200  ...     1.162611e+08     80.250000      55.020000   \n",
       "25%        0.995400  ...     1.959945e+08    145.017500     126.192500   \n",
       "50%        0.998350  ...     3.170520e+08    196.070000     177.400000   \n",
       "75%        0.999525  ...     3.934784e+08    308.315000     250.675000   \n",
       "max        1.019100  ...     7.654455e+08    479.760000     393.930000   \n",
       "\n",
       "       volume_traded.6  price_open.7  price_close.7  volume_traded.7  \\\n",
       "count        12.000000     12.000000      12.000000        12.000000   \n",
       "mean      69306.733373    371.898500     292.644750     50265.102545   \n",
       "std       32372.876610    274.150662     193.198831     24559.342212   \n",
       "min       27875.666940     90.703000      77.073000     21546.518090   \n",
       "25%       48864.819033    192.925500     177.782250     35547.098832   \n",
       "50%       58343.475440    271.854500     228.300000     47269.879660   \n",
       "75%       89149.688080    500.106250     346.664250     61460.019500   \n",
       "max      142754.996200   1027.191000     689.500000    112577.020200   \n",
       "\n",
       "       price_open.8  price_close.8  volume_traded.8  \n",
       "count     12.000000      12.000000     1.200000e+01  \n",
       "mean       0.041148       0.019545     2.949424e+07  \n",
       "std        0.087040       0.031242     5.627548e+07  \n",
       "min        0.000000       0.000000     0.000000e+00  \n",
       "25%        0.000000       0.000000     0.000000e+00  \n",
       "50%        0.000000       0.000000     0.000000e+00  \n",
       "75%        0.046387       0.039125     2.058818e+07  \n",
       "max        0.300000       0.085512     1.601121e+08  \n",
       "\n",
       "[8 rows x 27 columns]"
      ]
     },
     "execution_count": 92,
     "metadata": {},
     "output_type": "execute_result"
    }
   ],
   "source": [
    "# View the dataframe\n",
    "df_2018.describe()"
   ]
  },
  {
   "cell_type": "code",
   "execution_count": 93,
   "id": "b172c1a6",
   "metadata": {},
   "outputs": [
    {
     "data": {
      "text/html": [
       "<div>\n",
       "<style scoped>\n",
       "    .dataframe tbody tr th:only-of-type {\n",
       "        vertical-align: middle;\n",
       "    }\n",
       "\n",
       "    .dataframe tbody tr th {\n",
       "        vertical-align: top;\n",
       "    }\n",
       "\n",
       "    .dataframe thead th {\n",
       "        text-align: right;\n",
       "    }\n",
       "</style>\n",
       "<table border=\"1\" class=\"dataframe\">\n",
       "  <thead>\n",
       "    <tr style=\"text-align: right;\">\n",
       "      <th></th>\n",
       "      <th>BTC_Monthly_Close</th>\n",
       "      <th>ETH_Monthly_Close</th>\n",
       "      <th>LTC_Monthly_Close</th>\n",
       "      <th>USDT_Monthly_Close</th>\n",
       "      <th>XLM_Monthly_Close</th>\n",
       "      <th>XRP_Monthly_Close</th>\n",
       "      <th>ZEC_Monthly_Close</th>\n",
       "      <th>DASH_Monthly_Close</th>\n",
       "      <th>ADA_Monthly_Close</th>\n",
       "    </tr>\n",
       "    <tr>\n",
       "      <th>Month</th>\n",
       "      <th></th>\n",
       "      <th></th>\n",
       "      <th></th>\n",
       "      <th></th>\n",
       "      <th></th>\n",
       "      <th></th>\n",
       "      <th></th>\n",
       "      <th></th>\n",
       "      <th></th>\n",
       "    </tr>\n",
       "  </thead>\n",
       "  <tbody>\n",
       "    <tr>\n",
       "      <th>January</th>\n",
       "      <td>10101.6</td>\n",
       "      <td>1105.30</td>\n",
       "      <td>162.30</td>\n",
       "      <td>0.9850</td>\n",
       "      <td>0.017060</td>\n",
       "      <td>1.12020</td>\n",
       "      <td>393.93</td>\n",
       "      <td>689.500</td>\n",
       "      <td>0.000000</td>\n",
       "    </tr>\n",
       "    <tr>\n",
       "      <th>February</th>\n",
       "      <td>10310.0</td>\n",
       "      <td>850.10</td>\n",
       "      <td>201.84</td>\n",
       "      <td>0.9999</td>\n",
       "      <td>0.330001</td>\n",
       "      <td>0.88697</td>\n",
       "      <td>380.30</td>\n",
       "      <td>582.368</td>\n",
       "      <td>0.000000</td>\n",
       "    </tr>\n",
       "    <tr>\n",
       "      <th>March</th>\n",
       "      <td>6911.1</td>\n",
       "      <td>392.40</td>\n",
       "      <td>115.84</td>\n",
       "      <td>0.9972</td>\n",
       "      <td>0.203963</td>\n",
       "      <td>0.49841</td>\n",
       "      <td>184.13</td>\n",
       "      <td>303.719</td>\n",
       "      <td>0.000000</td>\n",
       "    </tr>\n",
       "    <tr>\n",
       "      <th>April</th>\n",
       "      <td>9243.2</td>\n",
       "      <td>669.57</td>\n",
       "      <td>148.38</td>\n",
       "      <td>1.0002</td>\n",
       "      <td>0.424000</td>\n",
       "      <td>0.83101</td>\n",
       "      <td>284.41</td>\n",
       "      <td>473.475</td>\n",
       "      <td>0.000000</td>\n",
       "    </tr>\n",
       "    <tr>\n",
       "      <th>May</th>\n",
       "      <td>7485.6</td>\n",
       "      <td>577.54</td>\n",
       "      <td>118.18</td>\n",
       "      <td>0.9987</td>\n",
       "      <td>0.296636</td>\n",
       "      <td>0.61108</td>\n",
       "      <td>239.43</td>\n",
       "      <td>304.394</td>\n",
       "      <td>0.000000</td>\n",
       "    </tr>\n",
       "    <tr>\n",
       "      <th>June</th>\n",
       "      <td>6387.9</td>\n",
       "      <td>453.05</td>\n",
       "      <td>81.06</td>\n",
       "      <td>0.9987</td>\n",
       "      <td>0.192017</td>\n",
       "      <td>0.46871</td>\n",
       "      <td>170.67</td>\n",
       "      <td>239.024</td>\n",
       "      <td>0.000000</td>\n",
       "    </tr>\n",
       "    <tr>\n",
       "      <th>July</th>\n",
       "      <td>7726.0</td>\n",
       "      <td>431.67</td>\n",
       "      <td>78.75</td>\n",
       "      <td>0.9980</td>\n",
       "      <td>0.275147</td>\n",
       "      <td>0.43454</td>\n",
       "      <td>209.23</td>\n",
       "      <td>217.576</td>\n",
       "      <td>0.000000</td>\n",
       "    </tr>\n",
       "    <tr>\n",
       "      <th>August</th>\n",
       "      <td>7015.8</td>\n",
       "      <td>281.60</td>\n",
       "      <td>62.16</td>\n",
       "      <td>0.9998</td>\n",
       "      <td>0.223409</td>\n",
       "      <td>0.33500</td>\n",
       "      <td>150.01</td>\n",
       "      <td>195.100</td>\n",
       "      <td>0.000000</td>\n",
       "    </tr>\n",
       "    <tr>\n",
       "      <th>September</th>\n",
       "      <td>6604.1</td>\n",
       "      <td>231.96</td>\n",
       "      <td>60.96</td>\n",
       "      <td>0.9964</td>\n",
       "      <td>0.259670</td>\n",
       "      <td>0.57920</td>\n",
       "      <td>129.87</td>\n",
       "      <td>186.310</td>\n",
       "      <td>0.085512</td>\n",
       "    </tr>\n",
       "    <tr>\n",
       "      <th>October</th>\n",
       "      <td>6307.5</td>\n",
       "      <td>196.88</td>\n",
       "      <td>49.42</td>\n",
       "      <td>0.9919</td>\n",
       "      <td>0.224888</td>\n",
       "      <td>0.45000</td>\n",
       "      <td>115.16</td>\n",
       "      <td>152.199</td>\n",
       "      <td>0.069731</td>\n",
       "    </tr>\n",
       "    <tr>\n",
       "      <th>November</th>\n",
       "      <td>3969.4</td>\n",
       "      <td>111.64</td>\n",
       "      <td>31.65</td>\n",
       "      <td>0.9844</td>\n",
       "      <td>0.156732</td>\n",
       "      <td>0.35869</td>\n",
       "      <td>79.44</td>\n",
       "      <td>90.999</td>\n",
       "      <td>0.038600</td>\n",
       "    </tr>\n",
       "    <tr>\n",
       "      <th>December</th>\n",
       "      <td>3691.9</td>\n",
       "      <td>130.86</td>\n",
       "      <td>29.77</td>\n",
       "      <td>0.9991</td>\n",
       "      <td>0.109320</td>\n",
       "      <td>0.34785</td>\n",
       "      <td>55.02</td>\n",
       "      <td>77.073</td>\n",
       "      <td>0.040700</td>\n",
       "    </tr>\n",
       "  </tbody>\n",
       "</table>\n",
       "</div>"
      ],
      "text/plain": [
       "           BTC_Monthly_Close  ETH_Monthly_Close  LTC_Monthly_Close  \\\n",
       "Month                                                                \n",
       "January              10101.6            1105.30             162.30   \n",
       "February             10310.0             850.10             201.84   \n",
       "March                 6911.1             392.40             115.84   \n",
       "April                 9243.2             669.57             148.38   \n",
       "May                   7485.6             577.54             118.18   \n",
       "June                  6387.9             453.05              81.06   \n",
       "July                  7726.0             431.67              78.75   \n",
       "August                7015.8             281.60              62.16   \n",
       "September             6604.1             231.96              60.96   \n",
       "October               6307.5             196.88              49.42   \n",
       "November              3969.4             111.64              31.65   \n",
       "December              3691.9             130.86              29.77   \n",
       "\n",
       "           USDT_Monthly_Close  XLM_Monthly_Close  XRP_Monthly_Close  \\\n",
       "Month                                                                 \n",
       "January                0.9850           0.017060            1.12020   \n",
       "February               0.9999           0.330001            0.88697   \n",
       "March                  0.9972           0.203963            0.49841   \n",
       "April                  1.0002           0.424000            0.83101   \n",
       "May                    0.9987           0.296636            0.61108   \n",
       "June                   0.9987           0.192017            0.46871   \n",
       "July                   0.9980           0.275147            0.43454   \n",
       "August                 0.9998           0.223409            0.33500   \n",
       "September              0.9964           0.259670            0.57920   \n",
       "October                0.9919           0.224888            0.45000   \n",
       "November               0.9844           0.156732            0.35869   \n",
       "December               0.9991           0.109320            0.34785   \n",
       "\n",
       "           ZEC_Monthly_Close  DASH_Monthly_Close  ADA_Monthly_Close  \n",
       "Month                                                                \n",
       "January               393.93             689.500           0.000000  \n",
       "February              380.30             582.368           0.000000  \n",
       "March                 184.13             303.719           0.000000  \n",
       "April                 284.41             473.475           0.000000  \n",
       "May                   239.43             304.394           0.000000  \n",
       "June                  170.67             239.024           0.000000  \n",
       "July                  209.23             217.576           0.000000  \n",
       "August                150.01             195.100           0.000000  \n",
       "September             129.87             186.310           0.085512  \n",
       "October               115.16             152.199           0.069731  \n",
       "November               79.44              90.999           0.038600  \n",
       "December               55.02              77.073           0.040700  "
      ]
     },
     "execution_count": 93,
     "metadata": {},
     "output_type": "execute_result"
    }
   ],
   "source": [
    "# Clean the dataframe to only include the closing price\n",
    "final_2018_df = pd.DataFrame()\n",
    "final_2018_df['BTC_Monthly_Close'] = df_2018['price_close']\n",
    "final_2018_df['ETH_Monthly_Close'] = df_2018['price_close.1']\n",
    "final_2018_df['LTC_Monthly_Close'] = df_2018['price_close.2']\n",
    "final_2018_df['USDT_Monthly_Close'] = df_2018['price_close.3']\n",
    "final_2018_df['XLM_Monthly_Close'] = df_2018['price_close.4']\n",
    "final_2018_df['XRP_Monthly_Close'] = df_2018['price_close.5']\n",
    "final_2018_df['ZEC_Monthly_Close'] = df_2018['price_close.6']\n",
    "final_2018_df['DASH_Monthly_Close'] = df_2018['price_close.7']\n",
    "final_2018_df['ADA_Monthly_Close'] = df_2018['price_close.8']\n",
    "\n",
    "final_2018_df"
   ]
  },
  {
   "cell_type": "code",
   "execution_count": 94,
   "id": "50d70116",
   "metadata": {},
   "outputs": [
    {
     "data": {
      "text/plain": [
       "Month\n",
       "January      0.000000\n",
       "February     0.020630\n",
       "March       -0.329670\n",
       "April        0.337443\n",
       "May         -0.190151\n",
       "June        -0.146642\n",
       "July         0.209474\n",
       "August      -0.091923\n",
       "September   -0.058682\n",
       "October     -0.044911\n",
       "November    -0.370686\n",
       "December    -0.069910\n",
       "Name: BTC_Monthly_Close, dtype: float64"
      ]
     },
     "execution_count": 94,
     "metadata": {},
     "output_type": "execute_result"
    }
   ],
   "source": [
    "# STEP 3: CALCULATE Monthly RETURNS FOR EACH CURRENCY IN Designated Time range from  DATAFRAME, DROP NULL VALUES\n",
    "\"\"\"\n",
    "\n",
    "Will need: .pct_change().dropna(inplace = True)\n",
    "\n",
    "\"\"\"\n",
    "btc_2018_df = final_2018_df['BTC_Monthly_Close'].pct_change().fillna(0)\n",
    "btc_2018_df"
   ]
  },
  {
   "cell_type": "code",
   "execution_count": 95,
   "id": "15be51bb",
   "metadata": {},
   "outputs": [
    {
     "data": {
      "text/plain": [
       "Month\n",
       "January      0.000000\n",
       "February    -0.230888\n",
       "March       -0.538407\n",
       "April        0.706346\n",
       "May         -0.137446\n",
       "June        -0.215552\n",
       "July        -0.047191\n",
       "August      -0.347650\n",
       "September   -0.176278\n",
       "October     -0.151233\n",
       "November    -0.432954\n",
       "December     0.172161\n",
       "Name: ETH_Monthly_Close, dtype: float64"
      ]
     },
     "execution_count": 95,
     "metadata": {},
     "output_type": "execute_result"
    }
   ],
   "source": [
    "eth_2018_df = final_2018_df['ETH_Monthly_Close'].pct_change().fillna(0)\n",
    "eth_2018_df"
   ]
  },
  {
   "cell_type": "code",
   "execution_count": 96,
   "id": "c6e2d688",
   "metadata": {},
   "outputs": [
    {
     "data": {
      "text/plain": [
       "Month\n",
       "January      0.000000\n",
       "February     0.243623\n",
       "March       -0.426080\n",
       "April        0.280905\n",
       "May         -0.203531\n",
       "June        -0.314097\n",
       "July        -0.028497\n",
       "August      -0.210667\n",
       "September   -0.019305\n",
       "October     -0.189304\n",
       "November    -0.359571\n",
       "December    -0.059400\n",
       "Name: LTC_Monthly_Close, dtype: float64"
      ]
     },
     "execution_count": 96,
     "metadata": {},
     "output_type": "execute_result"
    }
   ],
   "source": [
    "ltc_2018_df = final_2018_df['LTC_Monthly_Close'].pct_change().fillna(0)\n",
    "ltc_2018_df"
   ]
  },
  {
   "cell_type": "code",
   "execution_count": 97,
   "id": "7077d5aa",
   "metadata": {},
   "outputs": [
    {
     "data": {
      "text/plain": [
       "Month\n",
       "January      0.000000\n",
       "February     0.015127\n",
       "March       -0.002700\n",
       "April        0.003008\n",
       "May         -0.001500\n",
       "June         0.000000\n",
       "July        -0.000701\n",
       "August       0.001804\n",
       "September   -0.003401\n",
       "October     -0.004516\n",
       "November    -0.007561\n",
       "December     0.014933\n",
       "Name: USDT_Monthly_Close, dtype: float64"
      ]
     },
     "execution_count": 97,
     "metadata": {},
     "output_type": "execute_result"
    }
   ],
   "source": [
    "usdt_2018_df = final_2018_df['USDT_Monthly_Close'].pct_change().fillna(0)\n",
    "usdt_2018_df"
   ]
  },
  {
   "cell_type": "code",
   "execution_count": 98,
   "id": "ac1e0693",
   "metadata": {},
   "outputs": [
    {
     "data": {
      "text/plain": [
       "Month\n",
       "January       0.000000\n",
       "February     18.343552\n",
       "March        -0.381932\n",
       "April         1.078808\n",
       "May          -0.300387\n",
       "June         -0.352685\n",
       "July          0.432930\n",
       "August       -0.188038\n",
       "September     0.162308\n",
       "October      -0.133947\n",
       "November     -0.303066\n",
       "December     -0.302504\n",
       "Name: XLM_Monthly_Close, dtype: float64"
      ]
     },
     "execution_count": 98,
     "metadata": {},
     "output_type": "execute_result"
    }
   ],
   "source": [
    "xlm_2018_df = final_2018_df['XLM_Monthly_Close'].pct_change().fillna(0)\n",
    "xlm_2018_df"
   ]
  },
  {
   "cell_type": "code",
   "execution_count": 99,
   "id": "c35c7ea0",
   "metadata": {},
   "outputs": [
    {
     "data": {
      "text/plain": [
       "Month\n",
       "January      0.000000\n",
       "February    -0.208204\n",
       "March       -0.438076\n",
       "April        0.667322\n",
       "May         -0.264654\n",
       "June        -0.232981\n",
       "July        -0.072902\n",
       "August      -0.229070\n",
       "September    0.728955\n",
       "October     -0.223066\n",
       "November    -0.202911\n",
       "December    -0.030221\n",
       "Name: XRP_Monthly_Close, dtype: float64"
      ]
     },
     "execution_count": 99,
     "metadata": {},
     "output_type": "execute_result"
    }
   ],
   "source": [
    "xrp_2018_df = final_2018_df['XRP_Monthly_Close'].pct_change().fillna(0)\n",
    "xrp_2018_df"
   ]
  },
  {
   "cell_type": "code",
   "execution_count": 100,
   "id": "54741a43",
   "metadata": {},
   "outputs": [
    {
     "data": {
      "text/plain": [
       "Month\n",
       "January      0.000000\n",
       "February    -0.034600\n",
       "March       -0.515830\n",
       "April        0.544615\n",
       "May         -0.158152\n",
       "June        -0.287182\n",
       "July         0.225933\n",
       "August      -0.283038\n",
       "September   -0.134258\n",
       "October     -0.113267\n",
       "November    -0.310177\n",
       "December    -0.307402\n",
       "Name: ZEC_Monthly_Close, dtype: float64"
      ]
     },
     "execution_count": 100,
     "metadata": {},
     "output_type": "execute_result"
    }
   ],
   "source": [
    "zec_2018_df = final_2018_df['ZEC_Monthly_Close'].pct_change().fillna(0)\n",
    "zec_2018_df"
   ]
  },
  {
   "cell_type": "code",
   "execution_count": 101,
   "id": "4ea26d9e",
   "metadata": {},
   "outputs": [
    {
     "data": {
      "text/plain": [
       "Month\n",
       "January      0.000000\n",
       "February    -0.155376\n",
       "March       -0.478476\n",
       "April        0.558925\n",
       "May         -0.357106\n",
       "June        -0.214755\n",
       "July        -0.089732\n",
       "August      -0.103302\n",
       "September   -0.045054\n",
       "October     -0.183087\n",
       "November    -0.402105\n",
       "December    -0.153035\n",
       "Name: DASH_Monthly_Close, dtype: float64"
      ]
     },
     "execution_count": 101,
     "metadata": {},
     "output_type": "execute_result"
    }
   ],
   "source": [
    "dash_2018_df = final_2018_df['DASH_Monthly_Close'].pct_change().fillna(0)\n",
    "dash_2018_df"
   ]
  },
  {
   "cell_type": "code",
   "execution_count": 102,
   "id": "20d54894",
   "metadata": {},
   "outputs": [
    {
     "data": {
      "text/plain": [
       "Month\n",
       "September    0.000000\n",
       "October     -0.184547\n",
       "November    -0.446444\n",
       "December     0.054404\n",
       "Name: ADA_Monthly_Close, dtype: float64"
      ]
     },
     "execution_count": 102,
     "metadata": {},
     "output_type": "execute_result"
    }
   ],
   "source": [
    "ada_2018_df = final_2018_df['ADA_Monthly_Close'].drop(\n",
    "    labels=['January', 'February', 'March', 'April', 'May', 'June', 'July', 'August']).pct_change().fillna(0)\n",
    "ada_2018_df"
   ]
  },
  {
   "cell_type": "code",
   "execution_count": 103,
   "id": "c2f7e6c8",
   "metadata": {},
   "outputs": [
    {
     "data": {
      "text/html": [
       "<div>\n",
       "<style scoped>\n",
       "    .dataframe tbody tr th:only-of-type {\n",
       "        vertical-align: middle;\n",
       "    }\n",
       "\n",
       "    .dataframe tbody tr th {\n",
       "        vertical-align: top;\n",
       "    }\n",
       "\n",
       "    .dataframe thead th {\n",
       "        text-align: right;\n",
       "    }\n",
       "</style>\n",
       "<table border=\"1\" class=\"dataframe\">\n",
       "  <thead>\n",
       "    <tr style=\"text-align: right;\">\n",
       "      <th></th>\n",
       "      <th>BTC</th>\n",
       "      <th>ETH</th>\n",
       "      <th>LTC</th>\n",
       "      <th>USDT</th>\n",
       "      <th>XLM</th>\n",
       "      <th>XRP</th>\n",
       "      <th>ZEC</th>\n",
       "      <th>DASH</th>\n",
       "      <th>ADA</th>\n",
       "    </tr>\n",
       "    <tr>\n",
       "      <th>Month</th>\n",
       "      <th></th>\n",
       "      <th></th>\n",
       "      <th></th>\n",
       "      <th></th>\n",
       "      <th></th>\n",
       "      <th></th>\n",
       "      <th></th>\n",
       "      <th></th>\n",
       "      <th></th>\n",
       "    </tr>\n",
       "  </thead>\n",
       "  <tbody>\n",
       "    <tr>\n",
       "      <th>January</th>\n",
       "      <td>0.000000</td>\n",
       "      <td>0.000000</td>\n",
       "      <td>0.000000</td>\n",
       "      <td>0.000000</td>\n",
       "      <td>0.000000</td>\n",
       "      <td>0.000000</td>\n",
       "      <td>0.000000</td>\n",
       "      <td>0.000000</td>\n",
       "      <td>NaN</td>\n",
       "    </tr>\n",
       "    <tr>\n",
       "      <th>February</th>\n",
       "      <td>0.020630</td>\n",
       "      <td>-0.230888</td>\n",
       "      <td>0.243623</td>\n",
       "      <td>0.015127</td>\n",
       "      <td>18.343552</td>\n",
       "      <td>-0.208204</td>\n",
       "      <td>-0.034600</td>\n",
       "      <td>-0.155376</td>\n",
       "      <td>NaN</td>\n",
       "    </tr>\n",
       "    <tr>\n",
       "      <th>March</th>\n",
       "      <td>-0.329670</td>\n",
       "      <td>-0.538407</td>\n",
       "      <td>-0.426080</td>\n",
       "      <td>-0.002700</td>\n",
       "      <td>-0.381932</td>\n",
       "      <td>-0.438076</td>\n",
       "      <td>-0.515830</td>\n",
       "      <td>-0.478476</td>\n",
       "      <td>NaN</td>\n",
       "    </tr>\n",
       "    <tr>\n",
       "      <th>April</th>\n",
       "      <td>0.337443</td>\n",
       "      <td>0.706346</td>\n",
       "      <td>0.280905</td>\n",
       "      <td>0.003008</td>\n",
       "      <td>1.078808</td>\n",
       "      <td>0.667322</td>\n",
       "      <td>0.544615</td>\n",
       "      <td>0.558925</td>\n",
       "      <td>NaN</td>\n",
       "    </tr>\n",
       "    <tr>\n",
       "      <th>May</th>\n",
       "      <td>-0.190151</td>\n",
       "      <td>-0.137446</td>\n",
       "      <td>-0.203531</td>\n",
       "      <td>-0.001500</td>\n",
       "      <td>-0.300387</td>\n",
       "      <td>-0.264654</td>\n",
       "      <td>-0.158152</td>\n",
       "      <td>-0.357106</td>\n",
       "      <td>NaN</td>\n",
       "    </tr>\n",
       "    <tr>\n",
       "      <th>June</th>\n",
       "      <td>-0.146642</td>\n",
       "      <td>-0.215552</td>\n",
       "      <td>-0.314097</td>\n",
       "      <td>0.000000</td>\n",
       "      <td>-0.352685</td>\n",
       "      <td>-0.232981</td>\n",
       "      <td>-0.287182</td>\n",
       "      <td>-0.214755</td>\n",
       "      <td>NaN</td>\n",
       "    </tr>\n",
       "    <tr>\n",
       "      <th>July</th>\n",
       "      <td>0.209474</td>\n",
       "      <td>-0.047191</td>\n",
       "      <td>-0.028497</td>\n",
       "      <td>-0.000701</td>\n",
       "      <td>0.432930</td>\n",
       "      <td>-0.072902</td>\n",
       "      <td>0.225933</td>\n",
       "      <td>-0.089732</td>\n",
       "      <td>NaN</td>\n",
       "    </tr>\n",
       "    <tr>\n",
       "      <th>August</th>\n",
       "      <td>-0.091923</td>\n",
       "      <td>-0.347650</td>\n",
       "      <td>-0.210667</td>\n",
       "      <td>0.001804</td>\n",
       "      <td>-0.188038</td>\n",
       "      <td>-0.229070</td>\n",
       "      <td>-0.283038</td>\n",
       "      <td>-0.103302</td>\n",
       "      <td>NaN</td>\n",
       "    </tr>\n",
       "    <tr>\n",
       "      <th>September</th>\n",
       "      <td>-0.058682</td>\n",
       "      <td>-0.176278</td>\n",
       "      <td>-0.019305</td>\n",
       "      <td>-0.003401</td>\n",
       "      <td>0.162308</td>\n",
       "      <td>0.728955</td>\n",
       "      <td>-0.134258</td>\n",
       "      <td>-0.045054</td>\n",
       "      <td>0.000000</td>\n",
       "    </tr>\n",
       "    <tr>\n",
       "      <th>October</th>\n",
       "      <td>-0.044911</td>\n",
       "      <td>-0.151233</td>\n",
       "      <td>-0.189304</td>\n",
       "      <td>-0.004516</td>\n",
       "      <td>-0.133947</td>\n",
       "      <td>-0.223066</td>\n",
       "      <td>-0.113267</td>\n",
       "      <td>-0.183087</td>\n",
       "      <td>-0.184547</td>\n",
       "    </tr>\n",
       "    <tr>\n",
       "      <th>November</th>\n",
       "      <td>-0.370686</td>\n",
       "      <td>-0.432954</td>\n",
       "      <td>-0.359571</td>\n",
       "      <td>-0.007561</td>\n",
       "      <td>-0.303066</td>\n",
       "      <td>-0.202911</td>\n",
       "      <td>-0.310177</td>\n",
       "      <td>-0.402105</td>\n",
       "      <td>-0.446444</td>\n",
       "    </tr>\n",
       "    <tr>\n",
       "      <th>December</th>\n",
       "      <td>-0.069910</td>\n",
       "      <td>0.172161</td>\n",
       "      <td>-0.059400</td>\n",
       "      <td>0.014933</td>\n",
       "      <td>-0.302504</td>\n",
       "      <td>-0.030221</td>\n",
       "      <td>-0.307402</td>\n",
       "      <td>-0.153035</td>\n",
       "      <td>0.054404</td>\n",
       "    </tr>\n",
       "  </tbody>\n",
       "</table>\n",
       "</div>"
      ],
      "text/plain": [
       "                BTC       ETH       LTC      USDT        XLM       XRP  \\\n",
       "Month                                                                    \n",
       "January    0.000000  0.000000  0.000000  0.000000   0.000000  0.000000   \n",
       "February   0.020630 -0.230888  0.243623  0.015127  18.343552 -0.208204   \n",
       "March     -0.329670 -0.538407 -0.426080 -0.002700  -0.381932 -0.438076   \n",
       "April      0.337443  0.706346  0.280905  0.003008   1.078808  0.667322   \n",
       "May       -0.190151 -0.137446 -0.203531 -0.001500  -0.300387 -0.264654   \n",
       "June      -0.146642 -0.215552 -0.314097  0.000000  -0.352685 -0.232981   \n",
       "July       0.209474 -0.047191 -0.028497 -0.000701   0.432930 -0.072902   \n",
       "August    -0.091923 -0.347650 -0.210667  0.001804  -0.188038 -0.229070   \n",
       "September -0.058682 -0.176278 -0.019305 -0.003401   0.162308  0.728955   \n",
       "October   -0.044911 -0.151233 -0.189304 -0.004516  -0.133947 -0.223066   \n",
       "November  -0.370686 -0.432954 -0.359571 -0.007561  -0.303066 -0.202911   \n",
       "December  -0.069910  0.172161 -0.059400  0.014933  -0.302504 -0.030221   \n",
       "\n",
       "                ZEC      DASH       ADA  \n",
       "Month                                    \n",
       "January    0.000000  0.000000       NaN  \n",
       "February  -0.034600 -0.155376       NaN  \n",
       "March     -0.515830 -0.478476       NaN  \n",
       "April      0.544615  0.558925       NaN  \n",
       "May       -0.158152 -0.357106       NaN  \n",
       "June      -0.287182 -0.214755       NaN  \n",
       "July       0.225933 -0.089732       NaN  \n",
       "August    -0.283038 -0.103302       NaN  \n",
       "September -0.134258 -0.045054  0.000000  \n",
       "October   -0.113267 -0.183087 -0.184547  \n",
       "November  -0.310177 -0.402105 -0.446444  \n",
       "December  -0.307402 -0.153035  0.054404  "
      ]
     },
     "execution_count": 103,
     "metadata": {},
     "output_type": "execute_result"
    }
   ],
   "source": [
    "monthly_returns_2018 = pd.DataFrame()\n",
    "monthly_returns_2018['BTC'] = btc_2018_df\n",
    "monthly_returns_2018['ETH'] = eth_2018_df\n",
    "monthly_returns_2018['LTC'] = ltc_2018_df\n",
    "monthly_returns_2018['USDT'] = usdt_2018_df\n",
    "monthly_returns_2018['XLM'] = xlm_2018_df\n",
    "monthly_returns_2018['XRP'] = xrp_2018_df\n",
    "monthly_returns_2018['ZEC'] = zec_2018_df\n",
    "monthly_returns_2018['DASH'] = dash_2018_df\n",
    "monthly_returns_2018['ADA'] = ada_2018_df\n",
    "monthly_returns_2018"
   ]
  },
  {
   "cell_type": "code",
   "execution_count": 104,
   "id": "cf02a3e9",
   "metadata": {},
   "outputs": [
    {
     "data": {
      "text/plain": [
       "pandas.core.series.Series"
      ]
     },
     "execution_count": 104,
     "metadata": {},
     "output_type": "execute_result"
    }
   ],
   "source": [
    "type(monthly_returns_2018['BTC'])"
   ]
  },
  {
   "cell_type": "code",
   "execution_count": 105,
   "id": "af8de249",
   "metadata": {},
   "outputs": [
    {
     "data": {
      "text/plain": [
       "0.03960906449096394"
      ]
     },
     "execution_count": 105,
     "metadata": {},
     "output_type": "execute_result"
    }
   ],
   "source": [
    "# Step 4: Calculate the variance of bitcoin, in this case being used as a proxy for the market.\n",
    "# assign to market variance value\n",
    "market_var = btc_2018_df.var()\n",
    "market_var"
   ]
  },
  {
   "cell_type": "code",
   "execution_count": 106,
   "id": "41196f97",
   "metadata": {},
   "outputs": [],
   "source": [
    "# Calcualte the variance of the remaining crypto currencies."
   ]
  },
  {
   "cell_type": "code",
   "execution_count": 107,
   "id": "c9dcc0cd",
   "metadata": {},
   "outputs": [
    {
     "data": {
      "text/plain": [
       "0.03960906449096394"
      ]
     },
     "execution_count": 107,
     "metadata": {},
     "output_type": "execute_result"
    }
   ],
   "source": [
    "btc_var_2018 = btc_2018_df.var()\n",
    "btc_var_2018"
   ]
  },
  {
   "cell_type": "code",
   "execution_count": 108,
   "id": "8f6f2b6f",
   "metadata": {},
   "outputs": [
    {
     "data": {
      "text/plain": [
       "0.10349719596024033"
      ]
     },
     "execution_count": 108,
     "metadata": {},
     "output_type": "execute_result"
    }
   ],
   "source": [
    "eth_var_2018 = eth_2018_df.var()\n",
    "eth_var_2018"
   ]
  },
  {
   "cell_type": "code",
   "execution_count": 109,
   "id": "c7671d71",
   "metadata": {},
   "outputs": [
    {
     "data": {
      "text/plain": [
       "0.04875514501258864"
      ]
     },
     "execution_count": 109,
     "metadata": {},
     "output_type": "execute_result"
    }
   ],
   "source": [
    "ltc_var_2018 = ltc_2018_df.var()\n",
    "ltc_var_2018"
   ]
  },
  {
   "cell_type": "code",
   "execution_count": 110,
   "id": "118e1223",
   "metadata": {},
   "outputs": [
    {
     "data": {
      "text/plain": [
       "4.961654022047864e-05"
      ]
     },
     "execution_count": 110,
     "metadata": {},
     "output_type": "execute_result"
    }
   ],
   "source": [
    "usdt_var_2018 = usdt_2018_df.var()\n",
    "usdt_var_2018"
   ]
  },
  {
   "cell_type": "code",
   "execution_count": 111,
   "id": "49a67094",
   "metadata": {},
   "outputs": [
    {
     "data": {
      "text/plain": [
       "28.299571049446936"
      ]
     },
     "execution_count": 111,
     "metadata": {},
     "output_type": "execute_result"
    }
   ],
   "source": [
    "xlm_var_2018 = xlm_2018_df.var()\n",
    "xlm_var_2018"
   ]
  },
  {
   "cell_type": "code",
   "execution_count": 112,
   "id": "3ae8c18a",
   "metadata": {},
   "outputs": [
    {
     "data": {
      "text/plain": [
       "0.13314435054374082"
      ]
     },
     "execution_count": 112,
     "metadata": {},
     "output_type": "execute_result"
    }
   ],
   "source": [
    "xrp_var_2018 = xrp_2018_df.var()\n",
    "xrp_var_2018"
   ]
  },
  {
   "cell_type": "code",
   "execution_count": 113,
   "id": "d7ff4a01",
   "metadata": {},
   "outputs": [
    {
     "data": {
      "text/plain": [
       "0.07880994075293156"
      ]
     },
     "execution_count": 113,
     "metadata": {},
     "output_type": "execute_result"
    }
   ],
   "source": [
    "zec_var_2018 = zec_2018_df.var()\n",
    "zec_var_2018"
   ]
  },
  {
   "cell_type": "code",
   "execution_count": 114,
   "id": "75d52676",
   "metadata": {},
   "outputs": [
    {
     "data": {
      "text/plain": [
       "0.06899686209898444"
      ]
     },
     "execution_count": 114,
     "metadata": {},
     "output_type": "execute_result"
    }
   ],
   "source": [
    "dash_var_2018 = dash_2018_df.var()\n",
    "dash_var_2018"
   ]
  },
  {
   "cell_type": "code",
   "execution_count": 115,
   "id": "6124a447",
   "metadata": {},
   "outputs": [
    {
     "data": {
      "text/plain": [
       "0.05107222784251709"
      ]
     },
     "execution_count": 115,
     "metadata": {},
     "output_type": "execute_result"
    }
   ],
   "source": [
    "ada_var_2018 = ada_2018_df.var()\n",
    "ada_var_2018"
   ]
  },
  {
   "cell_type": "code",
   "execution_count": 116,
   "id": "bd11512d",
   "metadata": {},
   "outputs": [
    {
     "data": {
      "text/plain": [
       "0.039609064490963936"
      ]
     },
     "execution_count": 116,
     "metadata": {},
     "output_type": "execute_result"
    }
   ],
   "source": [
    "# STEP 5B: CALCULATE COVARIANCE OF EACH CURRENCY RELATIVE TO BITCOIN\n",
    "\"\"\"\n",
    "Use monthly returns of currency and monthly returns of bitcoin as market proxy\n",
    "\n",
    "\"\"\"\n",
    "\n",
    "# market_cov = final_2018_df['BTC_Monthly_Close'].cov(final_2018_df['BTC_Monthly_Close'])\n",
    "# market_cov\n",
    "\n",
    "mkt_2018_cov = btc_2018_df.cov(btc_2018_df)\n",
    "mkt_2018_cov"
   ]
  },
  {
   "cell_type": "code",
   "execution_count": 117,
   "id": "16aa8a1e",
   "metadata": {},
   "outputs": [
    {
     "data": {
      "text/plain": [
       "0.05189034652482842"
      ]
     },
     "execution_count": 117,
     "metadata": {},
     "output_type": "execute_result"
    }
   ],
   "source": [
    "eth_2018_cov = eth_2018_df.cov(btc_2018_df)\n",
    "eth_2018_cov"
   ]
  },
  {
   "cell_type": "code",
   "execution_count": 118,
   "id": "aa1a20ef",
   "metadata": {},
   "outputs": [
    {
     "data": {
      "text/plain": [
       "0.03697705602745253"
      ]
     },
     "execution_count": 118,
     "metadata": {},
     "output_type": "execute_result"
    }
   ],
   "source": [
    "ltc_2018_cov = ltc_2018_df.cov(btc_2018_df)\n",
    "ltc_2018_cov"
   ]
  },
  {
   "cell_type": "code",
   "execution_count": 119,
   "id": "a3c42e66",
   "metadata": {},
   "outputs": [
    {
     "data": {
      "text/plain": [
       "0.0004762717938323698"
      ]
     },
     "execution_count": 119,
     "metadata": {},
     "output_type": "execute_result"
    }
   ],
   "source": [
    "usdt_2018_cov = usdt_2018_df.cov(btc_2018_df)\n",
    "usdt_2018_cov"
   ]
  },
  {
   "cell_type": "code",
   "execution_count": 120,
   "id": "6d2ac541",
   "metadata": {},
   "outputs": [
    {
     "data": {
      "text/plain": [
       "0.21100782904329357"
      ]
     },
     "execution_count": 120,
     "metadata": {},
     "output_type": "execute_result"
    }
   ],
   "source": [
    "xlm_2018_cov = xlm_2018_df.cov(btc_2018_df)\n",
    "xlm_2018_cov"
   ]
  },
  {
   "cell_type": "code",
   "execution_count": 121,
   "id": "17c5b66f",
   "metadata": {},
   "outputs": [
    {
     "data": {
      "text/plain": [
       "0.04265196190809219"
      ]
     },
     "execution_count": 121,
     "metadata": {},
     "output_type": "execute_result"
    }
   ],
   "source": [
    "xrp_2018_cov = xrp_2018_df.cov(btc_2018_df)\n",
    "xrp_2018_cov"
   ]
  },
  {
   "cell_type": "code",
   "execution_count": 122,
   "id": "2b367a31",
   "metadata": {},
   "outputs": [
    {
     "data": {
      "text/plain": [
       "0.05126905251706084"
      ]
     },
     "execution_count": 122,
     "metadata": {},
     "output_type": "execute_result"
    }
   ],
   "source": [
    "zec_2018_cov = zec_2018_df.cov(btc_2018_df)\n",
    "zec_2018_cov"
   ]
  },
  {
   "cell_type": "code",
   "execution_count": 123,
   "id": "7a2b41ea",
   "metadata": {},
   "outputs": [
    {
     "data": {
      "text/plain": [
       "0.04585774066938615"
      ]
     },
     "execution_count": 123,
     "metadata": {},
     "output_type": "execute_result"
    }
   ],
   "source": [
    "dash_2018_cov = dash_2018_df.cov(btc_2018_df)\n",
    "dash_2018_cov"
   ]
  },
  {
   "cell_type": "code",
   "execution_count": 124,
   "id": "7b399000",
   "metadata": {},
   "outputs": [
    {
     "data": {
      "text/plain": [
       "0.030510765635409158"
      ]
     },
     "execution_count": 124,
     "metadata": {},
     "output_type": "execute_result"
    }
   ],
   "source": [
    "ada_2018_cov = ada_2018_df.cov(btc_2018_df)\n",
    "ada_2018_cov"
   ]
  },
  {
   "cell_type": "code",
   "execution_count": 125,
   "id": "1ae10060",
   "metadata": {},
   "outputs": [
    {
     "data": {
      "text/plain": [
       "0.9999999999999998"
      ]
     },
     "execution_count": 125,
     "metadata": {},
     "output_type": "execute_result"
    }
   ],
   "source": [
    "# STEP 6: CALCULATE BETA OF EACH CURRENCY\n",
    "\n",
    "\"\"\"\n",
    "beta = covariance of asset to market / variance of market\n",
    "\n",
    "use previous calculations for market variance and covariance of assets\n",
    "\"\"\"\n",
    "btc_beta_2018 = mkt_2018_cov / market_var\n",
    "btc_beta_2018\n"
   ]
  },
  {
   "cell_type": "code",
   "execution_count": 126,
   "id": "31199144",
   "metadata": {},
   "outputs": [
    {
     "data": {
      "text/plain": [
       "1.310062411008627"
      ]
     },
     "execution_count": 126,
     "metadata": {},
     "output_type": "execute_result"
    }
   ],
   "source": [
    "eth_beta_2018 = eth_2018_cov / btc_var_2018\n",
    "eth_beta_2018"
   ]
  },
  {
   "cell_type": "code",
   "execution_count": 127,
   "id": "ed50af25",
   "metadata": {},
   "outputs": [
    {
     "data": {
      "text/plain": [
       "0.9335503502206709"
      ]
     },
     "execution_count": 127,
     "metadata": {},
     "output_type": "execute_result"
    }
   ],
   "source": [
    "ltc_beta_2018 = ltc_2018_cov / btc_var_2018\n",
    "ltc_beta_2018"
   ]
  },
  {
   "cell_type": "code",
   "execution_count": 128,
   "id": "07c3cde6",
   "metadata": {},
   "outputs": [
    {
     "data": {
      "text/plain": [
       "0.012024313120069326"
      ]
     },
     "execution_count": 128,
     "metadata": {},
     "output_type": "execute_result"
    }
   ],
   "source": [
    "usdt_beta_2018 = usdt_2018_cov / btc_var_2018\n",
    "usdt_beta_2018"
   ]
  },
  {
   "cell_type": "code",
   "execution_count": 129,
   "id": "8b18d19c",
   "metadata": {},
   "outputs": [
    {
     "data": {
      "text/plain": [
       "5.327261114471184"
      ]
     },
     "execution_count": 129,
     "metadata": {},
     "output_type": "execute_result"
    }
   ],
   "source": [
    "xlm_beta_2018 = xlm_2018_cov / btc_var_2018\n",
    "xlm_beta_2018"
   ]
  },
  {
   "cell_type": "code",
   "execution_count": 130,
   "id": "b94f4094",
   "metadata": {},
   "outputs": [
    {
     "data": {
      "text/plain": [
       "1.076823258924038"
      ]
     },
     "execution_count": 130,
     "metadata": {},
     "output_type": "execute_result"
    }
   ],
   "source": [
    "xrp_beta_2018 = xrp_2018_cov / btc_var_2018\n",
    "xrp_beta_2018"
   ]
  },
  {
   "cell_type": "code",
   "execution_count": 131,
   "id": "ba80dfc4",
   "metadata": {},
   "outputs": [
    {
     "data": {
      "text/plain": [
       "1.2943767588541988"
      ]
     },
     "execution_count": 131,
     "metadata": {},
     "output_type": "execute_result"
    }
   ],
   "source": [
    "zec_beta_2018 = zec_2018_cov / btc_var_2018\n",
    "zec_beta_2018"
   ]
  },
  {
   "cell_type": "code",
   "execution_count": 132,
   "id": "958524c1",
   "metadata": {},
   "outputs": [
    {
     "data": {
      "text/plain": [
       "1.1577587418114288"
      ]
     },
     "execution_count": 132,
     "metadata": {},
     "output_type": "execute_result"
    }
   ],
   "source": [
    "dash_beta_2018 = dash_2018_cov / btc_var_2018\n",
    "dash_beta_2018"
   ]
  },
  {
   "cell_type": "code",
   "execution_count": 133,
   "id": "ffbf77c4",
   "metadata": {},
   "outputs": [
    {
     "data": {
      "text/plain": [
       "0.7702975575797709"
      ]
     },
     "execution_count": 133,
     "metadata": {},
     "output_type": "execute_result"
    }
   ],
   "source": [
    "ada_beta_2018 = ada_2018_cov / btc_var_2018\n",
    "ada_beta_2018"
   ]
  },
  {
   "cell_type": "code",
   "execution_count": 134,
   "id": "a118f3ed",
   "metadata": {},
   "outputs": [
    {
     "data": {
      "text/plain": [
       "[0.9999999999999998,\n",
       " 1.310062411008627,\n",
       " 0.9335503502206709,\n",
       " 0.7702975575797709,\n",
       " 5.327261114471184,\n",
       " 1.076823258924038,\n",
       " 1.2943767588541988,\n",
       " 0.012024313120069326,\n",
       " 1.1577587418114288]"
      ]
     },
     "execution_count": 134,
     "metadata": {},
     "output_type": "execute_result"
    }
   ],
   "source": [
    "Beta_list = [btc_beta_2018, eth_beta_2018, ltc_beta_2018, ada_beta_2018, xlm_beta_2018, xrp_beta_2018, zec_beta_2018, usdt_beta_2018, dash_beta_2018]\n",
    "\n",
    "Beta_list"
   ]
  },
  {
   "cell_type": "code",
   "execution_count": 135,
   "id": "950d09ba",
   "metadata": {},
   "outputs": [
    {
     "data": {
      "text/plain": [
       "<AxesSubplot:>"
      ]
     },
     "execution_count": 135,
     "metadata": {},
     "output_type": "execute_result"
    },
    {
     "data": {
      "image/png": "[encoded data removed]",
      "text/plain": [
       "<Figure size 432x288 with 2 Axes>"
      ]
     },
     "metadata": {
      "needs_background": "light"
     },
     "output_type": "display_data"
    }
   ],
   "source": [
    "# Display Correlation Heatmap With Seaborn\n",
    "\n",
    "\"\"\"\n",
    "NEW CELL to check monthly returns are displayed with pct_change already applied\n",
    "- Take dataframe of daily returns from step 3 (pct_change drop na already applied)\n",
    "\n",
    "NEW CELL to check correlation dataframe\n",
    "- correlation = monthly_returns_dataframe.corr()\n",
    "\n",
    "NEW CELL to display heatmap\n",
    "- sns.heatmap(correlation)\n",
    "\n",
    "\n",
    "\"\"\"\n",
    "correlation = final_2018_df.corr()\n",
    "sns.heatmap(correlation)"
   ]
  },
  {
   "cell_type": "code",
   "execution_count": 136,
   "id": "5b46044e",
   "metadata": {},
   "outputs": [
    {
     "data": {},
     "metadata": {},
     "output_type": "display_data"
    },
    {
     "data": {
      "application/vnd.holoviews_exec.v0+json": "",
      "text/html": [
       "<div id='2152'>\n",
       "\n",
       "\n",
       "\n",
       "\n",
       "\n",
       "  <div class=\"bk-root\" id=\"766a564e-8da4-4c18-a8e1-a792cb4987ef\" data-root-id=\"2152\"></div>\n",
       "</div>\n",
       "<script type=\"application/javascript\">(function(root) {\n",
       "  function embed_document(root) {\n",
       "    var docs_json = {\"e7215b49-7b0a-415d-a7df-039c22b7306a\":{\"defs\":[{\"extends\":null,\"module\":null,\"name\":\"ReactiveHTML1\",\"overrides\":[],\"properties\":[]},{\"extends\":null,\"module\":null,\"name\":\"FlexBox1\",\"overrides\":[],\"properties\":[{\"default\":\"flex-start\",\"kind\":null,\"name\":\"align_content\"},{\"default\":\"flex-start\",\"kind\":null,\"name\":\"align_items\"},{\"default\":\"row\",\"kind\":null,\"name\":\"flex_direction\"},{\"default\":\"wrap\",\"kind\":null,\"name\":\"flex_wrap\"},{\"default\":\"flex-start\",\"kind\":null,\"name\":\"justify_content\"}]},{\"extends\":null,\"module\":null,\"name\":\"TemplateActions1\",\"overrides\":[],\"properties\":[{\"default\":0,\"kind\":null,\"name\":\"open_modal\"},{\"default\":0,\"kind\":null,\"name\":\"close_modal\"}]},{\"extends\":null,\"module\":null,\"name\":\"MaterialTemplateActions1\",\"overrides\":[],\"properties\":[{\"default\":0,\"kind\":null,\"name\":\"open_modal\"},{\"default\":0,\"kind\":null,\"name\":\"close_modal\"}]}],\"roots\":{\"references\":[{\"attributes\":{},\"id\":\"2162\",\"type\":\"CategoricalScale\"},{\"attributes\":{},\"id\":\"2203\",\"type\":\"NoOverlap\"},{\"attributes\":{\"bar_line_color\":\"black\",\"color_mapper\":{\"id\":\"2185\"},\"label_standoff\":8,\"location\":[0,0],\"major_label_policy\":{\"id\":\"2203\"},\"major_tick_line_color\":\"black\",\"ticker\":{\"id\":\"2194\"}},\"id\":\"2195\",\"type\":\"ColorBar\"},{\"attributes\":{\"axis_label\":\"\",\"formatter\":{\"id\":\"2198\"},\"major_label_policy\":{\"id\":\"2196\"},\"ticker\":{\"id\":\"2167\"}},\"id\":\"2166\",\"type\":\"CategoricalAxis\"},{\"attributes\":{},\"id\":\"2176\",\"type\":\"ResetTool\"},{\"attributes\":{\"factors\":[\"BTC_Monthly_Close\",\"ETH_Monthly_Close\",\"LTC_Monthly_Close\",\"USDT_Monthly_Close\",\"XLM_Monthly_Close\",\"XRP_Monthly_Close\",\"ZEC_Monthly_Close\",\"DASH_Monthly_Close\",\"ADA_Monthly_Close\"],\"tags\":[[[\"columns\",\"columns\",null]]]},\"id\":\"2154\",\"type\":\"FactorRange\"},{\"attributes\":{\"fill_color\":{\"field\":\"zvalues\",\"transform\":{\"id\":\"2185\"}},\"height\":{\"value\":1},\"line_alpha\":{\"value\":0},\"line_color\":{\"value\":\"#1f77b4\"},\"width\":{\"value\":1},\"x\":{\"field\":\"columns\"},\"y\":{\"field\":\"index\"}},\"id\":\"2189\",\"type\":\"Rect\"},{\"attributes\":{\"active_multi\":null,\"tools\":[{\"id\":\"2156\"},{\"id\":\"2172\"},{\"id\":\"2173\"},{\"id\":\"2174\"},{\"id\":\"2175\"},{\"id\":\"2176\"}]},\"id\":\"2178\",\"type\":\"Toolbar\"},{\"attributes\":{\"fill_alpha\":{\"value\":0.1},\"fill_color\":{\"field\":\"zvalues\",\"transform\":{\"id\":\"2185\"}},\"height\":{\"value\":1},\"line_alpha\":{\"value\":0},\"line_color\":{\"value\":\"#1f77b4\"},\"width\":{\"value\":1},\"x\":{\"field\":\"columns\"},\"y\":{\"field\":\"index\"}},\"id\":\"2190\",\"type\":\"Rect\"},{\"attributes\":{\"axis\":{\"id\":\"2169\"},\"dimension\":1,\"grid_line_color\":null,\"ticker\":null},\"id\":\"2171\",\"type\":\"Grid\"},{\"attributes\":{},\"id\":\"2196\",\"type\":\"AllLabels\"},{\"attributes\":{\"data_source\":{\"id\":\"2186\"},\"glyph\":{\"id\":\"2189\"},\"hover_glyph\":null,\"muted_glyph\":null,\"nonselection_glyph\":{\"id\":\"2190\"},\"selection_glyph\":{\"id\":\"2191\"},\"view\":{\"id\":\"2193\"}},\"id\":\"2192\",\"type\":\"GlyphRenderer\"},{\"attributes\":{},\"id\":\"2167\",\"type\":\"CategoricalTicker\"},{\"attributes\":{\"high\":1.0,\"low\":-0.6036492370007578,\"nan_color\":\"white\",\"palette\":[\"#b3fef5\",\"#b0fef5\",\"#adfdf5\",\"#a9fcf5\",\"#a6fbf6\",\"#a3faf6\",\"#a0faf6\",\"#9df9f6\",\"#9af8f6\",\"#97f7f6\",\"#93f7f6\",\"#90f6f6\",\"#8df5f6\",\"#8af4f7\",\"#87f3f7\",\"#83f2f7\",\"#80f2f7\",\"#7df1f7\",\"#79f0f7\",\"#76eff7\",\"#73eef7\",\"#6fedf8\",\"#6cecf8\",\"#68ecf8\",\"#65ebf8\",\"#61eaf8\",\"#5ee9f8\",\"#5ae8f8\",\"#57e7f8\",\"#53e6f8\",\"#50e5f9\",\"#4ce4f9\",\"#49e3f9\",\"#45e2f9\",\"#42e1f9\",\"#3ee0f9\",\"#3bdff9\",\"#38def9\",\"#35ddf9\",\"#32dcf9\",\"#30dbfa\",\"#2ed9fa\",\"#2dd8fa\",\"#2cd7fa\",\"#2bd6fa\",\"#2bd5fa\",\"#2ad3fa\",\"#2ad2fa\",\"#29d1fa\",\"#29d0fb\",\"#29cffb\",\"#28cdfb\",\"#28ccfb\",\"#28cbfb\",\"#28cafb\",\"#28c8fb\",\"#28c7fb\",\"#29c6fb\",\"#29c5fb\",\"#29c4fb\",\"#29c2fb\",\"#2ac1fb\",\"#2ac0fb\",\"#2bbffb\",\"#2bbdfc\",\"#2cbcfc\",\"#2dbbfc\",\"#2db9fc\",\"#2eb8fc\",\"#2fb7fc\",\"#2fb6fc\",\"#30b4fc\",\"#31b3fc\",\"#32b2fc\",\"#32b0fc\",\"#33affc\",\"#33aefc\",\"#34adfc\",\"#34abfc\",\"#34aafc\",\"#35a9fc\",\"#35a8fc\",\"#35a6fc\",\"#35a5fc\",\"#35a4fc\",\"#35a3fc\",\"#35a1fc\",\"#35a0fc\",\"#359ffc\",\"#359dfc\",\"#359cfc\",\"#359bfc\",\"#349afd\",\"#3498fd\",\"#3497fd\",\"#3396fd\",\"#3395fd\",\"#3293fd\",\"#3292fd\",\"#3191fd\",\"#3090fd\",\"#308ffd\",\"#2f8dfd\",\"#2f8cfd\",\"#2e8bfd\",\"#2e8afd\",\"#2d88fd\",\"#2d87fd\",\"#2c86fd\",\"#2c84fd\",\"#2c83fd\",\"#2c82fd\",\"#2b81fd\",\"#2b7ffd\",\"#2b7efd\",\"#2b7dfd\",\"#2b7bfd\",\"#2b7afd\",\"#2b79fd\",\"#2b77fd\",\"#2b76fd\",\"#2b75fd\",\"#2b73fd\",\"#2c72fd\",\"#2c71fd\",\"#2c6ffd\",\"#2c6efd\",\"#2d6cfd\",\"#2d6bfd\",\"#2d6afc\",\"#2e68fc\",\"#2e67fc\",\"#2e65fc\",\"#2e64fc\",\"#2f62fc\",\"#2f61fc\",\"#2f5ffc\",\"#2f5efc\",\"#2f5dfc\",\"#2f5bfc\",\"#2f5afc\",\"#2f58fb\",\"#2f57fb\",\"#2f55fb\",\"#2f53fb\",\"#2f52fb\",\"#2f50fb\",\"#2f4ffb\",\"#2f4dfb\",\"#2e4cfb\",\"#2e4afb\",\"#2e48fb\",\"#2e47fa\",\"#2d45fa\",\"#2d43fa\",\"#2d42fa\",\"#2d40fa\",\"#2c3efa\",\"#2c3dfa\",\"#2b3bf9\",\"#2b39f9\",\"#2a37f9\",\"#2a36f8\",\"#2934f8\",\"#2832f7\",\"#2831f7\",\"#272ff6\",\"#262ef5\",\"#252cf5\",\"#252af4\",\"#2429f3\",\"#2327f2\",\"#2226f1\",\"#2124f0\",\"#2023ef\",\"#1f22ee\",\"#1e20ed\",\"#1d1feb\",\"#1c1eea\",\"#1b1ce9\",\"#1a1be7\",\"#181ae6\",\"#1719e5\",\"#1618e3\",\"#1417e1\",\"#1316e0\",\"#1215de\",\"#1014dc\",\"#0f13db\",\"#0e12d9\",\"#0d11d7\",\"#0c10d5\",\"#0b0fd3\",\"#0a0ed1\",\"#090dd0\",\"#080dce\",\"#080ccc\",\"#070bca\",\"#070ac8\",\"#0709c6\",\"#0708c4\",\"#0707c2\",\"#0707bf\",\"#0806bd\",\"#0806bb\",\"#0905b9\",\"#0904b7\",\"#0a04b5\",\"#0a04b2\",\"#0b03b0\",\"#0c03ae\",\"#0d02ab\",\"#0e02a9\",\"#0e02a7\",\"#0f02a4\",\"#0f01a2\",\"#1001a0\",\"#10019d\",\"#10019b\",\"#100199\",\"#100197\",\"#100194\",\"#0f0192\",\"#0f0190\",\"#0f018e\",\"#0e018b\",\"#0e0189\",\"#0d0187\",\"#0d0185\",\"#0c0183\",\"#0b0181\",\"#0b017e\",\"#0a017c\",\"#09017a\",\"#090178\",\"#080276\",\"#070274\",\"#060272\",\"#060270\",\"#05026e\",\"#04026c\",\"#030269\",\"#030267\",\"#020265\",\"#010263\",\"#010261\",\"#00025f\",\"#00025d\",\"#00025b\",\"#000259\",\"#000257\",\"#000255\",\"#000154\",\"#000152\",\"#000150\",\"#00004e\"]},\"id\":\"2185\",\"type\":\"LinearColorMapper\"},{\"attributes\":{\"axis\":{\"id\":\"2166\"},\"grid_line_color\":null,\"ticker\":null},\"id\":\"2168\",\"type\":\"Grid\"},{\"attributes\":{},\"id\":\"2164\",\"type\":\"CategoricalScale\"},{\"attributes\":{\"fill_color\":{\"field\":\"zvalues\",\"transform\":{\"id\":\"2185\"}},\"height\":{\"value\":1},\"line_alpha\":{\"value\":0},\"line_color\":{\"value\":\"#1f77b4\"},\"width\":{\"value\":1},\"x\":{\"field\":\"columns\"},\"y\":{\"field\":\"index\"}},\"id\":\"2191\",\"type\":\"Rect\"},{\"attributes\":{},\"id\":\"2170\",\"type\":\"CategoricalTicker\"},{\"attributes\":{\"axis_label\":\"\",\"formatter\":{\"id\":\"2201\"},\"major_label_policy\":{\"id\":\"2199\"},\"ticker\":{\"id\":\"2170\"}},\"id\":\"2169\",\"type\":\"CategoricalAxis\"},{\"attributes\":{\"data\":{\"columns\":[\"BTC_Monthly_Close\",\"BTC_Monthly_Close\",\"BTC_Monthly_Close\",\"BTC_Monthly_Close\",\"BTC_Monthly_Close\",\"BTC_Monthly_Close\",\"BTC_Monthly_Close\",\"BTC_Monthly_Close\",\"BTC_Monthly_Close\",\"ETH_Monthly_Close\",\"ETH_Monthly_Close\",\"ETH_Monthly_Close\",\"ETH_Monthly_Close\",\"ETH_Monthly_Close\",\"ETH_Monthly_Close\",\"ETH_Monthly_Close\",\"ETH_Monthly_Close\",\"ETH_Monthly_Close\",\"LTC_Monthly_Close\",\"LTC_Monthly_Close\",\"LTC_Monthly_Close\",\"LTC_Monthly_Close\",\"LTC_Monthly_Close\",\"LTC_Monthly_Close\",\"LTC_Monthly_Close\",\"LTC_Monthly_Close\",\"LTC_Monthly_Close\",\"USDT_Monthly_Close\",\"USDT_Monthly_Close\",\"USDT_Monthly_Close\",\"USDT_Monthly_Close\",\"USDT_Monthly_Close\",\"USDT_Monthly_Close\",\"USDT_Monthly_Close\",\"USDT_Monthly_Close\",\"USDT_Monthly_Close\",\"XLM_Monthly_Close\",\"XLM_Monthly_Close\",\"XLM_Monthly_Close\",\"XLM_Monthly_Close\",\"XLM_Monthly_Close\",\"XLM_Monthly_Close\",\"XLM_Monthly_Close\",\"XLM_Monthly_Close\",\"XLM_Monthly_Close\",\"XRP_Monthly_Close\",\"XRP_Monthly_Close\",\"XRP_Monthly_Close\",\"XRP_Monthly_Close\",\"XRP_Monthly_Close\",\"XRP_Monthly_Close\",\"XRP_Monthly_Close\",\"XRP_Monthly_Close\",\"XRP_Monthly_Close\",\"ZEC_Monthly_Close\",\"ZEC_Monthly_Close\",\"ZEC_Monthly_Close\",\"ZEC_Monthly_Close\",\"ZEC_Monthly_Close\",\"ZEC_Monthly_Close\",\"ZEC_Monthly_Close\",\"ZEC_Monthly_Close\",\"ZEC_Monthly_Close\",\"DASH_Monthly_Close\",\"DASH_Monthly_Close\",\"DASH_Monthly_Close\",\"DASH_Monthly_Close\",\"DASH_Monthly_Close\",\"DASH_Monthly_Close\",\"DASH_Monthly_Close\",\"DASH_Monthly_Close\",\"DASH_Monthly_Close\",\"ADA_Monthly_Close\",\"ADA_Monthly_Close\",\"ADA_Monthly_Close\",\"ADA_Monthly_Close\",\"ADA_Monthly_Close\",\"ADA_Monthly_Close\",\"ADA_Monthly_Close\",\"ADA_Monthly_Close\",\"ADA_Monthly_Close\"],\"index\":[\"BTC_Monthly_Close\",\"ETH_Monthly_Close\",\"LTC_Monthly_Close\",\"USDT_Monthly_Close\",\"XLM_Monthly_Close\",\"XRP_Monthly_Close\",\"ZEC_Monthly_Close\",\"DASH_Monthly_Close\",\"ADA_Monthly_Close\",\"BTC_Monthly_Close\",\"ETH_Monthly_Close\",\"LTC_Monthly_Close\",\"USDT_Monthly_Close\",\"XLM_Monthly_Close\",\"XRP_Monthly_Close\",\"ZEC_Monthly_Close\",\"DASH_Monthly_Close\",\"ADA_Monthly_Close\",\"BTC_Monthly_Close\",\"ETH_Monthly_Close\",\"LTC_Monthly_Close\",\"USDT_Monthly_Close\",\"XLM_Monthly_Close\",\"XRP_Monthly_Close\",\"ZEC_Monthly_Close\",\"DASH_Monthly_Close\",\"ADA_Monthly_Close\",\"BTC_Monthly_Close\",\"ETH_Monthly_Close\",\"LTC_Monthly_Close\",\"USDT_Monthly_Close\",\"XLM_Monthly_Close\",\"XRP_Monthly_Close\",\"ZEC_Monthly_Close\",\"DASH_Monthly_Close\",\"ADA_Monthly_Close\",\"BTC_Monthly_Close\",\"ETH_Monthly_Close\",\"LTC_Monthly_Close\",\"USDT_Monthly_Close\",\"XLM_Monthly_Close\",\"XRP_Monthly_Close\",\"ZEC_Monthly_Close\",\"DASH_Monthly_Close\",\"ADA_Monthly_Close\",\"BTC_Monthly_Close\",\"ETH_Monthly_Close\",\"LTC_Monthly_Close\",\"USDT_Monthly_Close\",\"XLM_Monthly_Close\",\"XRP_Monthly_Close\",\"ZEC_Monthly_Close\",\"DASH_Monthly_Close\",\"ADA_Monthly_Close\",\"BTC_Monthly_Close\",\"ETH_Monthly_Close\",\"LTC_Monthly_Close\",\"USDT_Monthly_Close\",\"XLM_Monthly_Close\",\"XRP_Monthly_Close\",\"ZEC_Monthly_Close\",\"DASH_Monthly_Close\",\"ADA_Monthly_Close\",\"BTC_Monthly_Close\",\"ETH_Monthly_Close\",\"LTC_Monthly_Close\",\"USDT_Monthly_Close\",\"XLM_Monthly_Close\",\"XRP_Monthly_Close\",\"ZEC_Monthly_Close\",\"DASH_Monthly_Close\",\"ADA_Monthly_Close\",\"BTC_Monthly_Close\",\"ETH_Monthly_Close\",\"LTC_Monthly_Close\",\"USDT_Monthly_Close\",\"XLM_Monthly_Close\",\"XRP_Monthly_Close\",\"ZEC_Monthly_Close\",\"DASH_Monthly_Close\",\"ADA_Monthly_Close\"],\"value\":[\"1\",\"0.90096\",\"0.91594\",\"0.13436\",\"0.33956\",\"0.84778\",\"0.95346\",\"0.91726\",\"-0.51667\",\"0.90096\",\"1\",\"0.91745\",\"-0.065152\",\"0.032633\",\"0.92987\",\"0.9792\",\"0.97636\",\"-0.60365\",\"0.91594\",\"0.91745\",\"1\",\"0.14757\",\"0.30727\",\"0.86781\",\"0.95881\",\"0.94647\",\"-0.59651\",\"0.13436\",\"-0.065152\",\"0.14757\",\"1\",\"0.63642\",\"-0.1868\",\"0.004177\",\"-0.074572\",\"-0.26895\",\"0.33956\",\"0.032633\",\"0.30727\",\"0.63642\",\"1\",\"0.043865\",\"0.17962\",\"0.078928\",\"-0.12799\",\"0.84778\",\"0.92987\",\"0.86781\",\"-0.1868\",\"0.043865\",\"1\",\"0.91229\",\"0.95713\",\"-0.31099\",\"0.95346\",\"0.9792\",\"0.95881\",\"0.004177\",\"0.17962\",\"0.91229\",\"1\",\"0.97522\",\"-0.59661\",\"0.91726\",\"0.97636\",\"0.94647\",\"-0.074572\",\"0.078928\",\"0.95713\",\"0.97522\",\"1\",\"-0.53382\",\"-0.51667\",\"-0.60365\",\"-0.59651\",\"-0.26895\",\"-0.12799\",\"-0.31099\",\"-0.59661\",\"-0.53382\",\"1\"],\"zvalues\":{\"__ndarray__\":\"AAAAAAAA8D8iDM69ptTsP/khD6BcT+0/XcdNoboywT9B+klyVLvVPxNWFRQAIes/cP62cb2C7j8dUzQxLVrtPxMnbjaGiOC/IgzOvabU7D8AAAAAAADwP1h+YRPJW+0/OD38T9WtsL9njP7kR7WgP6qeS1iFwe0/aIdpsZVV7z/3DLV0YT7vPzKOZTQYUeO/+SEPoFxP7T9YfmETyVvtPwAAAAAAAPA/n9Vjt4Xjwj/Oa4yQRarTP5RPKeITxes/ybXcvIqu7j9+1cQbcUnuPzXr6FehFuO/XcdNoboywT84PfxP1a2wv5/VY7eF48I/AAAAAAAA8D+Le1Q8ll3kPwfPN2gR6ce/2RLFN/AbcT9JJCqTHhezv4m/5c1/NtG/QfpJclS71T9njP7kR7WgP85rjJBFqtM/i3tUPJZd5D8AAAAAAADwPwuOdB97daY/o4Jx+O/9xj/ApnKVmTS0P0djFqnoYcC/E1YVFAAh6z+qnktYhcHtP5RPKeITxes/B883aBHpx78LjnQfe3WmPwAAAAAAAPA/ni1CL3Ex7T+Lx9sI2KDuP6/pZidQ59O/cP62cb2C7j9oh2mxlVXvP8m13LyKru4/2RLFN/AbcT+jgnH47/3GP54tQi9xMe0/AAAAAAAA8D90ac1uATXvPwK+h59rF+O/HVM0MS1a7T/3DLV0YT7vP37VxBtxSe4/SSQqkx4Xs7/ApnKVmTS0P4vH2wjYoO4/dGnNbgE17z8AAAAAAADwP8mbndkRFeG/EyduNoaI4L8yjmU0GFHjvzXr6FehFuO/ib/lzX820b9HYxap6GHAv6/pZidQ59O/Ar6Hn2sX47/Jm53ZERXhvwAAAAAAAPA/\",\"dtype\":\"float64\",\"order\":\"little\",\"shape\":[81]}},\"selected\":{\"id\":\"2187\"},\"selection_policy\":{\"id\":\"2212\"}},\"id\":\"2186\",\"type\":\"ColumnDataSource\"},{\"attributes\":{\"source\":{\"id\":\"2186\"}},\"id\":\"2193\",\"type\":\"CDSView\"},{\"attributes\":{},\"id\":\"2194\",\"type\":\"BasicTicker\"},{\"attributes\":{\"bottom_units\":\"screen\",\"fill_alpha\":0.5,\"fill_color\":\"lightgrey\",\"left_units\":\"screen\",\"level\":\"overlay\",\"line_alpha\":1.0,\"line_color\":\"black\",\"line_dash\":[4,4],\"line_width\":2,\"right_units\":\"screen\",\"syncable\":false,\"top_units\":\"screen\"},\"id\":\"2177\",\"type\":\"BoxAnnotation\"},{\"attributes\":{\"factors\":[\"BTC_Monthly_Close\",\"ETH_Monthly_Close\",\"LTC_Monthly_Close\",\"USDT_Monthly_Close\",\"XLM_Monthly_Close\",\"XRP_Monthly_Close\",\"ZEC_Monthly_Close\",\"DASH_Monthly_Close\",\"ADA_Monthly_Close\"],\"tags\":[[[\"index\",\"index\",null]]]},\"id\":\"2155\",\"type\":\"FactorRange\"},{\"attributes\":{\"callback\":null,\"renderers\":[{\"id\":\"2192\"}],\"tags\":[\"hv_created\"],\"tooltips\":[[\"columns\",\"@{columns}\"],[\"index\",\"@{index}\"],[\"value\",\"@{value}\"]]},\"id\":\"2156\",\"type\":\"HoverTool\"},{\"attributes\":{\"below\":[{\"id\":\"2166\"}],\"center\":[{\"id\":\"2168\"},{\"id\":\"2171\"}],\"height\":300,\"left\":[{\"id\":\"2169\"}],\"margin\":[5,5,5,5],\"min_border_bottom\":10,\"min_border_left\":10,\"min_border_right\":10,\"min_border_top\":10,\"renderers\":[{\"id\":\"2192\"}],\"right\":[{\"id\":\"2195\"}],\"sizing_mode\":\"fixed\",\"title\":{\"id\":\"2158\"},\"toolbar\":{\"id\":\"2178\"},\"width\":700,\"x_range\":{\"id\":\"2154\"},\"x_scale\":{\"id\":\"2162\"},\"y_range\":{\"id\":\"2155\"},\"y_scale\":{\"id\":\"2164\"}},\"id\":\"2157\",\"subtype\":\"Figure\",\"type\":\"Plot\"},{\"attributes\":{},\"id\":\"2199\",\"type\":\"AllLabels\"},{\"attributes\":{\"margin\":[5,5,5,5],\"name\":\"HSpacer03043\",\"sizing_mode\":\"stretch_width\"},\"id\":\"2153\",\"type\":\"Spacer\"},{\"attributes\":{},\"id\":\"2172\",\"type\":\"SaveTool\"},{\"attributes\":{},\"id\":\"2198\",\"type\":\"CategoricalTickFormatter\"},{\"attributes\":{\"children\":[{\"id\":\"2153\"},{\"id\":\"2157\"},{\"id\":\"2224\"}],\"margin\":[0,0,0,0],\"name\":\"Row03039\",\"tags\":[\"embedded\"]},\"id\":\"2152\",\"type\":\"Row\"},{\"attributes\":{},\"id\":\"2173\",\"type\":\"PanTool\"},{\"attributes\":{\"text_color\":\"black\",\"text_font_size\":\"12pt\"},\"id\":\"2158\",\"type\":\"Title\"},{\"attributes\":{},\"id\":\"2174\",\"type\":\"WheelZoomTool\"},{\"attributes\":{},\"id\":\"2187\",\"type\":\"Selection\"},{\"attributes\":{},\"id\":\"2201\",\"type\":\"CategoricalTickFormatter\"},{\"attributes\":{\"overlay\":{\"id\":\"2177\"}},\"id\":\"2175\",\"type\":\"BoxZoomTool\"},{\"attributes\":{},\"id\":\"2212\",\"type\":\"UnionRenderers\"},{\"attributes\":{\"margin\":[5,5,5,5],\"name\":\"HSpacer03044\",\"sizing_mode\":\"stretch_width\"},\"id\":\"2224\",\"type\":\"Spacer\"}],\"root_ids\":[\"2152\"]},\"title\":\"Bokeh Application\",\"version\":\"2.3.2\"}};\n",
       "    var render_items = [{\"docid\":\"e7215b49-7b0a-415d-a7df-039c22b7306a\",\"root_ids\":[\"2152\"],\"roots\":{\"2152\":\"766a564e-8da4-4c18-a8e1-a792cb4987ef\"}}];\n",
       "    root.Bokeh.embed.embed_items_notebook(docs_json, render_items);\n",
       "  }\n",
       "  if (root.Bokeh !== undefined && root.Bokeh.Panel !== undefined) {\n",
       "    embed_document(root);\n",
       "  } else {\n",
       "    var attempts = 0;\n",
       "    var timer = setInterval(function(root) {\n",
       "      if (root.Bokeh !== undefined && root.Bokeh.Panel !== undefined) {\n",
       "        clearInterval(timer);\n",
       "        embed_document(root);\n",
       "      } else if (document.readyState == \"complete\") {\n",
       "        attempts++;\n",
       "        if (attempts > 200) {\n",
       "          clearInterval(timer);\n",
       "          console.log(\"Bokeh: ERROR: Unable to run BokehJS code because BokehJS library is missing\");\n",
       "        }\n",
       "      }\n",
       "    }, 25, root)\n",
       "  }\n",
       "})(window);</script>"
      ],
      "text/plain": [
       ":HeatMap   [columns,index]   (value)"
      ]
     },
     "execution_count": 136,
     "metadata": {
      "application/vnd.holoviews_exec.v0+json": {
       "id": "2152"
      }
     },
     "output_type": "execute_result"
    }
   ],
   "source": [
    "correlation.hvplot.heatmap()"
   ]
  },
  {
   "cell_type": "code",
   "execution_count": 137,
   "id": "2feb2f80",
   "metadata": {},
   "outputs": [
    {
     "data": {},
     "metadata": {},
     "output_type": "display_data"
    },
    {
     "data": {
      "application/vnd.holoviews_exec.v0+json": "",
      "text/html": [
       "<div id='2281'>\n",
       "\n",
       "\n",
       "\n",
       "\n",
       "\n",
       "  <div class=\"bk-root\" id=\"34b1f2ed-af6b-486a-bc43-580bd8e9ea57\" data-root-id=\"2281\"></div>\n",
       "</div>\n",
       "<script type=\"application/javascript\">(function(root) {\n",
       "  function embed_document(root) {\n",
       "    var docs_json = {\"2429bffe-cdbf-422d-bc7a-00bd0fed8d0b\":{\"defs\":[{\"extends\":null,\"module\":null,\"name\":\"ReactiveHTML1\",\"overrides\":[],\"properties\":[]},{\"extends\":null,\"module\":null,\"name\":\"FlexBox1\",\"overrides\":[],\"properties\":[{\"default\":\"flex-start\",\"kind\":null,\"name\":\"align_content\"},{\"default\":\"flex-start\",\"kind\":null,\"name\":\"align_items\"},{\"default\":\"row\",\"kind\":null,\"name\":\"flex_direction\"},{\"default\":\"wrap\",\"kind\":null,\"name\":\"flex_wrap\"},{\"default\":\"flex-start\",\"kind\":null,\"name\":\"justify_content\"}]},{\"extends\":null,\"module\":null,\"name\":\"TemplateActions1\",\"overrides\":[],\"properties\":[{\"default\":0,\"kind\":null,\"name\":\"open_modal\"},{\"default\":0,\"kind\":null,\"name\":\"close_modal\"}]},{\"extends\":null,\"module\":null,\"name\":\"MaterialTemplateActions1\",\"overrides\":[],\"properties\":[{\"default\":0,\"kind\":null,\"name\":\"open_modal\"},{\"default\":0,\"kind\":null,\"name\":\"close_modal\"}]}],\"roots\":{\"references\":[{\"attributes\":{\"axis\":{\"id\":\"2297\"},\"dimension\":1,\"grid_line_color\":null,\"ticker\":null},\"id\":\"2300\",\"type\":\"Grid\"},{\"attributes\":{},\"id\":\"2370\",\"type\":\"Selection\"},{\"attributes\":{\"x0\":{\"field\":\"x0\"},\"x1\":{\"field\":\"x1\"},\"y0\":{\"field\":\"y0\"},\"y1\":{\"field\":\"y1\"}},\"id\":\"2322\",\"type\":\"Segment\"},{\"attributes\":{},\"id\":\"2363\",\"type\":\"UnionRenderers\"},{\"attributes\":{\"children\":[{\"id\":\"2282\"},{\"id\":\"2285\"},{\"id\":\"2434\"}],\"margin\":[0,0,0,0],\"name\":\"Row03218\",\"tags\":[\"embedded\"]},\"id\":\"2281\",\"type\":\"Row\"},{\"attributes\":{},\"id\":\"2359\",\"type\":\"CategoricalTickFormatter\"},{\"attributes\":{},\"id\":\"2372\",\"type\":\"Selection\"},{\"attributes\":{},\"id\":\"2301\",\"type\":\"SaveTool\"},{\"attributes\":{\"line_alpha\":{\"value\":0.1},\"x0\":{\"field\":\"x0\"},\"x1\":{\"field\":\"x1\"},\"y0\":{\"field\":\"y0\"},\"y1\":{\"field\":\"y1\"}},\"id\":\"2330\",\"type\":\"Segment\"},{\"attributes\":{},\"id\":\"2302\",\"type\":\"PanTool\"},{\"attributes\":{},\"id\":\"2368\",\"type\":\"Selection\"},{\"attributes\":{\"margin\":[5,5,5,5],\"name\":\"HSpacer03223\",\"sizing_mode\":\"stretch_width\"},\"id\":\"2434\",\"type\":\"Spacer\"},{\"attributes\":{},\"id\":\"2303\",\"type\":\"WheelZoomTool\"},{\"attributes\":{},\"id\":\"2373\",\"type\":\"UnionRenderers\"},{\"attributes\":{\"overlay\":{\"id\":\"2306\"}},\"id\":\"2304\",\"type\":\"BoxZoomTool\"},{\"attributes\":{\"source\":{\"id\":\"2341\"}},\"id\":\"2346\",\"type\":\"CDSView\"},{\"attributes\":{},\"id\":\"2369\",\"type\":\"UnionRenderers\"},{\"attributes\":{\"margin\":[5,5,5,5],\"name\":\"HSpacer03222\",\"sizing_mode\":\"stretch_width\"},\"id\":\"2282\",\"type\":\"Spacer\"},{\"attributes\":{},\"id\":\"2305\",\"type\":\"ResetTool\"},{\"attributes\":{},\"id\":\"2410\",\"type\":\"Selection\"},{\"attributes\":{\"data\":{\"index\":[\"BTC\",\"ETH\",\"USDT\",\"USDT\",\"XLM\",\"XLM\",\"XRP\",\"XRP\",\"ZEC\",\"DASH\"],\"value\":{\"__ndarray__\":\"XARKHqmY1T+oKRIEYprmP4DKaKDa+o4/AKNgKyuVjj/LiPEI81cyQIb11JvMQvE/Xgf117Na5T/CGNrnmVPnP8xpg+R8beE/OItZs7Xi4T8=\",\"dtype\":\"float64\",\"order\":\"little\",\"shape\":[10]}},\"selected\":{\"id\":\"2362\"},\"selection_policy\":{\"id\":\"2363\"}},\"id\":\"2313\",\"type\":\"ColumnDataSource\"},{\"attributes\":{\"x0\":{\"field\":\"x0\"},\"x1\":{\"field\":\"x1\"},\"y0\":{\"field\":\"y0\"},\"y1\":{\"field\":\"y1\"}},\"id\":\"2336\",\"type\":\"Segment\"},{\"attributes\":{\"data\":{\"x0\":[[\"BTC\",-0.2],[\"ETH\",-0.2],[\"LTC\",-0.2],[\"USDT\",-0.2],[\"XLM\",-0.2],[\"XRP\",-0.2],[\"ZEC\",-0.2],[\"DASH\",-0.2],[\"ADA\",-0.2]],\"x1\":[[\"BTC\",0.2],[\"ETH\",0.2],[\"LTC\",0.2],[\"USDT\",0.2],[\"XLM\",0.2],[\"XRP\",0.2],[\"ZEC\",0.2],[\"DASH\",0.2],[\"ADA\",0.2]],\"y0\":[-0.3706856916369401,-0.5384072462063287,-0.42608006341656757,-0.007561246093356178,-0.38193217596310314,-0.43807569590854256,-0.5158296082040494,-0.4784758091103908,-0.4464441926833116],\"y1\":[-0.3706856916369401,-0.5384072462063287,-0.42608006341656757,-0.007561246093356178,-0.38193217596310314,-0.43807569590854256,-0.5158296082040494,-0.4784758091103908,-0.4464441926833116]},\"selected\":{\"id\":\"2368\"},\"selection_policy\":{\"id\":\"2369\"}},\"id\":\"2334\",\"type\":\"ColumnDataSource\"},{\"attributes\":{\"data\":{\"bottom\":{\"__ndarray__\":\"wAGA4bB1sL+GPNtK8vXEv5QfspaJ1b+/AFC4Tqv3Nr9CnHhLZZvEvxQFfU21T8q/SuYDF9e2wr8gJbeGAb3Dv7D3Gho+n7e/\",\"dtype\":\"float64\",\"order\":\"little\",\"shape\":[9]},\"index\":[\"BTC\",\"ETH\",\"LTC\",\"USDT\",\"XLM\",\"XRP\",\"ZEC\",\"DASH\",\"ADA\"],\"top\":{\"__ndarray__\":\"+OF0k5MpxL/WMhGrHqXQv6VnXoJtRs6/wA6z4heOZ7/2fG1Uhl7TvwvKHiszcs2/51VazQK00r+ywRG+nAXQv84iO/RZANC/\",\"dtype\":\"float64\",\"order\":\"little\",\"shape\":[9]}},\"selected\":{\"id\":\"2410\"},\"selection_policy\":{\"id\":\"2411\"}},\"id\":\"2377\",\"type\":\"ColumnDataSource\"},{\"attributes\":{\"data_source\":{\"id\":\"2348\"},\"glyph\":{\"id\":\"2350\"},\"hover_glyph\":null,\"muted_glyph\":null,\"nonselection_glyph\":{\"id\":\"2351\"},\"selection_glyph\":{\"id\":\"2376\"},\"view\":{\"id\":\"2353\"}},\"id\":\"2352\",\"type\":\"GlyphRenderer\"},{\"attributes\":{\"axis\":{\"id\":\"2294\"},\"grid_line_color\":null,\"ticker\":null},\"id\":\"2296\",\"type\":\"Grid\"},{\"attributes\":{},\"id\":\"2355\",\"type\":\"AllLabels\"},{\"attributes\":{\"data_source\":{\"id\":\"2341\"},\"glyph\":{\"id\":\"2343\"},\"hover_glyph\":null,\"muted_glyph\":null,\"nonselection_glyph\":{\"id\":\"2344\"},\"selection_glyph\":{\"id\":\"2347\"},\"view\":{\"id\":\"2346\"}},\"id\":\"2345\",\"type\":\"GlyphRenderer\"},{\"attributes\":{},\"id\":\"2366\",\"type\":\"Selection\"},{\"attributes\":{\"factors\":[\"BTC\",\"ETH\",\"LTC\",\"USDT\",\"XLM\",\"XRP\",\"ZEC\",\"DASH\",\"ADA\"],\"tags\":[[[\"Variable\",\"Variable\",null]]]},\"id\":\"2283\",\"type\":\"FactorRange\"},{\"attributes\":{},\"id\":\"2362\",\"type\":\"Selection\"},{\"attributes\":{\"fill_color\":{\"value\":\"red\"},\"line_color\":{\"value\":\"red\"},\"x\":{\"field\":\"index\"},\"y\":{\"field\":\"value\"}},\"id\":\"2315\",\"type\":\"Circle\"},{\"attributes\":{},\"id\":\"2356\",\"type\":\"BasicTickFormatter\"},{\"attributes\":{\"data\":{\"x0\":[[\"BTC\",-0.2],[\"ETH\",-0.2],[\"LTC\",-0.2],[\"USDT\",-0.2],[\"XLM\",-0.2],[\"XRP\",-0.2],[\"ZEC\",-0.2],[\"DASH\",-0.2],[\"ADA\",-0.2]],\"x1\":[[\"BTC\",0.2],[\"ETH\",0.2],[\"LTC\",0.2],[\"USDT\",0.2],[\"XLM\",0.2],[\"XRP\",0.2],[\"ZEC\",0.2],[\"DASH\",0.2],[\"ADA\",0.2]],\"y0\":[0.2094741620876972,0.1721605159441062,0.2809046961325965,0.0030084235860408093,0.4329304176192732,0.0,0.22593308724438987,0.0,0.05440414507772018],\"y1\":[0.2094741620876972,0.1721605159441062,0.2809046961325965,0.0030084235860408093,0.4329304176192732,0.0,0.22593308724438987,0.0,0.05440414507772018]},\"selected\":{\"id\":\"2370\"},\"selection_policy\":{\"id\":\"2371\"}},\"id\":\"2341\",\"type\":\"ColumnDataSource\"},{\"attributes\":{\"bottom\":{\"field\":\"bottom\"},\"fill_alpha\":{\"value\":0.1},\"fill_color\":{\"value\":\"cyan\"},\"line_alpha\":{\"value\":0.1},\"top\":{\"field\":\"top\"},\"width\":{\"value\":0.7},\"x\":{\"field\":\"index\"}},\"id\":\"2351\",\"type\":\"VBar\"},{\"attributes\":{\"data\":{\"x0\":[\"BTC\",\"ETH\",\"LTC\",\"USDT\",\"XLM\",\"XRP\",\"ZEC\",\"DASH\",\"ADA\"],\"x1\":[\"BTC\",\"ETH\",\"LTC\",\"USDT\",\"XLM\",\"XRP\",\"ZEC\",\"DASH\",\"ADA\"],\"y0\":{\"__ndarray__\":\"YAfDoQzQyj/oOtIUWwnGPyCry7BX+tE/ABREHR+laD/gk0fIIbXbPwAAAAAAAAAAoERmGmDrzD8AAAAAAAAAAOBUwC/c2qs/\",\"dtype\":\"float64\",\"order\":\"little\",\"shape\":[9]},\"y1\":{\"__ndarray__\":\"QL19YiIgdT+QdKjsFh+iv2DaYd8Kp42/gPJV9xs+YT+yIRGecG/NP9jLBOC0NZe/OAfq1KWSmr9Q05PspRy0v+BUwC/c2os/\",\"dtype\":\"float64\",\"order\":\"little\",\"shape\":[9]}},\"selected\":{\"id\":\"2364\"},\"selection_policy\":{\"id\":\"2365\"}},\"id\":\"2320\",\"type\":\"ColumnDataSource\"},{\"attributes\":{\"line_alpha\":{\"value\":0.1},\"x0\":{\"field\":\"x0\"},\"x1\":{\"field\":\"x1\"},\"y0\":{\"field\":\"y0\"},\"y1\":{\"field\":\"y1\"}},\"id\":\"2337\",\"type\":\"Segment\"},{\"attributes\":{\"line_alpha\":{\"value\":1.0},\"line_cap\":{\"value\":\"butt\"},\"line_color\":{\"value\":\"black\"},\"line_dash\":{\"value\":[]},\"line_dash_offset\":{\"value\":0},\"line_join\":{\"value\":\"bevel\"},\"line_width\":{\"value\":1},\"x0\":{\"field\":\"x0\"},\"x1\":{\"field\":\"x1\"},\"y0\":{\"field\":\"y0\"},\"y1\":{\"field\":\"y1\"}},\"id\":\"2340\",\"type\":\"Segment\"},{\"attributes\":{},\"id\":\"2364\",\"type\":\"Selection\"},{\"attributes\":{},\"id\":\"2371\",\"type\":\"UnionRenderers\"},{\"attributes\":{\"end\":20.231748110318172,\"reset_end\":20.231748110318172,\"reset_start\":-2.4266031877085563,\"start\":-2.4266031877085563,\"tags\":[[[\"value\",\"value\",null]]]},\"id\":\"2284\",\"type\":\"Range1d\"},{\"attributes\":{\"x0\":{\"field\":\"x0\"},\"x1\":{\"field\":\"x1\"},\"y0\":{\"field\":\"y0\"},\"y1\":{\"field\":\"y1\"}},\"id\":\"2343\",\"type\":\"Segment\"},{\"attributes\":{\"items\":[]},\"id\":\"2374\",\"type\":\"Legend\"},{\"attributes\":{},\"id\":\"2367\",\"type\":\"UnionRenderers\"},{\"attributes\":{\"below\":[{\"id\":\"2294\"}],\"center\":[{\"id\":\"2296\"},{\"id\":\"2300\"},{\"id\":\"2374\"}],\"height\":300,\"left\":[{\"id\":\"2297\"}],\"margin\":[5,5,5,5],\"min_border_bottom\":10,\"min_border_left\":10,\"min_border_right\":10,\"min_border_top\":10,\"renderers\":[{\"id\":\"2317\"},{\"id\":\"2324\"},{\"id\":\"2331\"},{\"id\":\"2338\"},{\"id\":\"2345\"},{\"id\":\"2352\"},{\"id\":\"2381\"}],\"sizing_mode\":\"fixed\",\"title\":{\"id\":\"2286\"},\"toolbar\":{\"id\":\"2307\"},\"width\":700,\"x_range\":{\"id\":\"2283\"},\"x_scale\":{\"id\":\"2290\"},\"y_range\":{\"id\":\"2284\"},\"y_scale\":{\"id\":\"2292\"}},\"id\":\"2285\",\"subtype\":\"Figure\",\"type\":\"Plot\"},{\"attributes\":{},\"id\":\"2358\",\"type\":\"AllLabels\"},{\"attributes\":{\"fill_alpha\":{\"value\":0.1},\"fill_color\":{\"value\":\"red\"},\"line_alpha\":{\"value\":0.1},\"line_color\":{\"value\":\"red\"},\"x\":{\"field\":\"index\"},\"y\":{\"field\":\"value\"}},\"id\":\"2316\",\"type\":\"Circle\"},{\"attributes\":{\"active_multi\":null,\"tools\":[{\"id\":\"2301\"},{\"id\":\"2302\"},{\"id\":\"2303\"},{\"id\":\"2304\"},{\"id\":\"2305\"}]},\"id\":\"2307\",\"type\":\"Toolbar\"},{\"attributes\":{\"bottom_units\":\"screen\",\"fill_alpha\":0.5,\"fill_color\":\"lightgrey\",\"left_units\":\"screen\",\"level\":\"overlay\",\"line_alpha\":1.0,\"line_color\":\"black\",\"line_dash\":[4,4],\"line_width\":2,\"right_units\":\"screen\",\"syncable\":false,\"top_units\":\"screen\"},\"id\":\"2306\",\"type\":\"BoxAnnotation\"},{\"attributes\":{},\"id\":\"2290\",\"type\":\"CategoricalScale\"},{\"attributes\":{\"bottom\":{\"field\":\"bottom\"},\"fill_alpha\":{\"value\":1.0},\"fill_color\":{\"value\":\"cyan\"},\"hatch_alpha\":{\"value\":1.0},\"hatch_color\":{\"value\":\"black\"},\"hatch_scale\":{\"value\":12.0},\"hatch_weight\":{\"value\":1.0},\"line_alpha\":{\"value\":1.0},\"line_cap\":{\"value\":\"butt\"},\"line_color\":{\"value\":\"black\"},\"line_dash\":{\"value\":[]},\"line_dash_offset\":{\"value\":0},\"line_join\":{\"value\":\"bevel\"},\"line_width\":{\"value\":1},\"top\":{\"field\":\"top\"},\"width\":{\"value\":0.7},\"x\":{\"field\":\"index\"}},\"id\":\"2376\",\"type\":\"VBar\"},{\"attributes\":{},\"id\":\"2292\",\"type\":\"LinearScale\"},{\"attributes\":{\"data_source\":{\"id\":\"2377\"},\"glyph\":{\"id\":\"2379\"},\"hover_glyph\":null,\"muted_glyph\":null,\"nonselection_glyph\":{\"id\":\"2380\"},\"selection_glyph\":{\"id\":\"2383\"},\"view\":{\"id\":\"2382\"}},\"id\":\"2381\",\"type\":\"GlyphRenderer\"},{\"attributes\":{\"axis_label\":\"Variable\",\"formatter\":{\"id\":\"2359\"},\"major_label_orientation\":0.7853981633974483,\"major_label_policy\":{\"id\":\"2358\"},\"ticker\":{\"id\":\"2295\"}},\"id\":\"2294\",\"type\":\"CategoricalAxis\"},{\"attributes\":{\"source\":{\"id\":\"2334\"}},\"id\":\"2339\",\"type\":\"CDSView\"},{\"attributes\":{\"line_alpha\":{\"value\":1.0},\"line_cap\":{\"value\":\"butt\"},\"line_color\":{\"value\":\"black\"},\"line_dash\":{\"value\":[]},\"line_dash_offset\":{\"value\":0},\"line_join\":{\"value\":\"bevel\"},\"line_width\":{\"value\":1},\"x0\":{\"field\":\"x0\"},\"x1\":{\"field\":\"x1\"},\"y0\":{\"field\":\"y0\"},\"y1\":{\"field\":\"y1\"}},\"id\":\"2326\",\"type\":\"Segment\"},{\"attributes\":{\"line_alpha\":{\"value\":1.0},\"line_cap\":{\"value\":\"butt\"},\"line_color\":{\"value\":\"black\"},\"line_dash\":{\"value\":[]},\"line_dash_offset\":{\"value\":0},\"line_join\":{\"value\":\"bevel\"},\"line_width\":{\"value\":1},\"x0\":{\"field\":\"x0\"},\"x1\":{\"field\":\"x1\"},\"y0\":{\"field\":\"y0\"},\"y1\":{\"field\":\"y1\"}},\"id\":\"2347\",\"type\":\"Segment\"},{\"attributes\":{\"data_source\":{\"id\":\"2320\"},\"glyph\":{\"id\":\"2322\"},\"hover_glyph\":null,\"muted_glyph\":null,\"nonselection_glyph\":{\"id\":\"2323\"},\"selection_glyph\":{\"id\":\"2326\"},\"view\":{\"id\":\"2325\"}},\"id\":\"2324\",\"type\":\"GlyphRenderer\"},{\"attributes\":{\"line_alpha\":{\"value\":0.1},\"x0\":{\"field\":\"x0\"},\"x1\":{\"field\":\"x1\"},\"y0\":{\"field\":\"y0\"},\"y1\":{\"field\":\"y1\"}},\"id\":\"2344\",\"type\":\"Segment\"},{\"attributes\":{\"data\":{\"x0\":[\"BTC\",\"ETH\",\"LTC\",\"USDT\",\"XLM\",\"XRP\",\"ZEC\",\"DASH\",\"ADA\"],\"x1\":[\"BTC\",\"ETH\",\"LTC\",\"USDT\",\"XLM\",\"XRP\",\"ZEC\",\"DASH\",\"ADA\"],\"y0\":{\"__ndarray__\":\"SECrelC517/aVkzVoTrhv0yDdlDlRNu/gO8Bi4r4fr8oTkOnk3HYv1xgxqRuCdy/tG8xGK2B4L/imQMAWZ/ev7AXxKmKkty/\",\"dtype\":\"float64\",\"order\":\"little\",\"shape\":[9]},\"y1\":{\"__ndarray__\":\"+OF0k5MpxL/WMhGrHqXQv6VnXoJtRs6/wA6z4heOZ7/2fG1Uhl7TvwvKHiszcs2/51VazQK00r+ywRG+nAXQv84iO/RZANC/\",\"dtype\":\"float64\",\"order\":\"little\",\"shape\":[9]}},\"selected\":{\"id\":\"2366\"},\"selection_policy\":{\"id\":\"2367\"}},\"id\":\"2327\",\"type\":\"ColumnDataSource\"},{\"attributes\":{\"text\":\"2020: Spread of Monthly Returns\",\"text_color\":\"black\",\"text_font_size\":\"12pt\"},\"id\":\"2286\",\"type\":\"Title\"},{\"attributes\":{\"data_source\":{\"id\":\"2313\"},\"glyph\":{\"id\":\"2315\"},\"hover_glyph\":null,\"muted_glyph\":null,\"nonselection_glyph\":{\"id\":\"2316\"},\"selection_glyph\":{\"id\":\"2319\"},\"view\":{\"id\":\"2318\"}},\"id\":\"2317\",\"type\":\"GlyphRenderer\"},{\"attributes\":{\"bottom\":{\"field\":\"bottom\"},\"fill_color\":{\"value\":\"cyan\"},\"top\":{\"field\":\"top\"},\"width\":{\"value\":0.7},\"x\":{\"field\":\"index\"}},\"id\":\"2379\",\"type\":\"VBar\"},{\"attributes\":{},\"id\":\"2295\",\"type\":\"CategoricalTicker\"},{\"attributes\":{\"x0\":{\"field\":\"x0\"},\"x1\":{\"field\":\"x1\"},\"y0\":{\"field\":\"y0\"},\"y1\":{\"field\":\"y1\"}},\"id\":\"2329\",\"type\":\"Segment\"},{\"attributes\":{\"axis_label\":\"\",\"formatter\":{\"id\":\"2356\"},\"major_label_policy\":{\"id\":\"2355\"},\"ticker\":{\"id\":\"2298\"}},\"id\":\"2297\",\"type\":\"LinearAxis\"},{\"attributes\":{\"source\":{\"id\":\"2320\"}},\"id\":\"2325\",\"type\":\"CDSView\"},{\"attributes\":{\"bottom\":{\"field\":\"bottom\"},\"fill_alpha\":{\"value\":0.1},\"fill_color\":{\"value\":\"cyan\"},\"line_alpha\":{\"value\":0.1},\"top\":{\"field\":\"top\"},\"width\":{\"value\":0.7},\"x\":{\"field\":\"index\"}},\"id\":\"2380\",\"type\":\"VBar\"},{\"attributes\":{\"source\":{\"id\":\"2327\"}},\"id\":\"2332\",\"type\":\"CDSView\"},{\"attributes\":{\"line_alpha\":{\"value\":1.0},\"line_cap\":{\"value\":\"butt\"},\"line_color\":{\"value\":\"black\"},\"line_dash\":{\"value\":[]},\"line_dash_offset\":{\"value\":0},\"line_join\":{\"value\":\"bevel\"},\"line_width\":{\"value\":1},\"x0\":{\"field\":\"x0\"},\"x1\":{\"field\":\"x1\"},\"y0\":{\"field\":\"y0\"},\"y1\":{\"field\":\"y1\"}},\"id\":\"2333\",\"type\":\"Segment\"},{\"attributes\":{},\"id\":\"2411\",\"type\":\"UnionRenderers\"},{\"attributes\":{\"angle\":{\"value\":0.0},\"fill_alpha\":{\"value\":1.0},\"fill_color\":{\"value\":\"red\"},\"hatch_alpha\":{\"value\":1.0},\"hatch_color\":{\"value\":\"black\"},\"hatch_scale\":{\"value\":12.0},\"hatch_weight\":{\"value\":1.0},\"line_alpha\":{\"value\":1.0},\"line_cap\":{\"value\":\"butt\"},\"line_color\":{\"value\":\"red\"},\"line_dash\":{\"value\":[]},\"line_dash_offset\":{\"value\":0},\"line_join\":{\"value\":\"bevel\"},\"line_width\":{\"value\":1},\"size\":{\"value\":4},\"x\":{\"field\":\"index\"},\"y\":{\"field\":\"value\"}},\"id\":\"2319\",\"type\":\"Circle\"},{\"attributes\":{\"data_source\":{\"id\":\"2327\"},\"glyph\":{\"id\":\"2329\"},\"hover_glyph\":null,\"muted_glyph\":null,\"nonselection_glyph\":{\"id\":\"2330\"},\"selection_glyph\":{\"id\":\"2333\"},\"view\":{\"id\":\"2332\"}},\"id\":\"2331\",\"type\":\"GlyphRenderer\"},{\"attributes\":{\"bottom\":{\"field\":\"bottom\"},\"fill_alpha\":{\"value\":1.0},\"fill_color\":{\"value\":\"cyan\"},\"hatch_alpha\":{\"value\":1.0},\"hatch_color\":{\"value\":\"black\"},\"hatch_scale\":{\"value\":12.0},\"hatch_weight\":{\"value\":1.0},\"line_alpha\":{\"value\":1.0},\"line_cap\":{\"value\":\"butt\"},\"line_color\":{\"value\":\"black\"},\"line_dash\":{\"value\":[]},\"line_dash_offset\":{\"value\":0},\"line_join\":{\"value\":\"bevel\"},\"line_width\":{\"value\":1},\"top\":{\"field\":\"top\"},\"width\":{\"value\":0.7},\"x\":{\"field\":\"index\"}},\"id\":\"2383\",\"type\":\"VBar\"},{\"attributes\":{\"bottom\":{\"field\":\"bottom\"},\"fill_color\":{\"value\":\"cyan\"},\"top\":{\"field\":\"top\"},\"width\":{\"value\":0.7},\"x\":{\"field\":\"index\"}},\"id\":\"2350\",\"type\":\"VBar\"},{\"attributes\":{},\"id\":\"2365\",\"type\":\"UnionRenderers\"},{\"attributes\":{\"source\":{\"id\":\"2313\"}},\"id\":\"2318\",\"type\":\"CDSView\"},{\"attributes\":{\"source\":{\"id\":\"2377\"}},\"id\":\"2382\",\"type\":\"CDSView\"},{\"attributes\":{\"data_source\":{\"id\":\"2334\"},\"glyph\":{\"id\":\"2336\"},\"hover_glyph\":null,\"muted_glyph\":null,\"nonselection_glyph\":{\"id\":\"2337\"},\"selection_glyph\":{\"id\":\"2340\"},\"view\":{\"id\":\"2339\"}},\"id\":\"2338\",\"type\":\"GlyphRenderer\"},{\"attributes\":{\"source\":{\"id\":\"2348\"}},\"id\":\"2353\",\"type\":\"CDSView\"},{\"attributes\":{\"line_alpha\":{\"value\":0.1},\"x0\":{\"field\":\"x0\"},\"x1\":{\"field\":\"x1\"},\"y0\":{\"field\":\"y0\"},\"y1\":{\"field\":\"y1\"}},\"id\":\"2323\",\"type\":\"Segment\"},{\"attributes\":{\"data\":{\"bottom\":{\"__ndarray__\":\"QL19YiIgdT+QdKjsFh+iv2DaYd8Kp42/gPJV9xs+YT+yIRGecG/NP9jLBOC0NZe/OAfq1KWSmr9Q05PspRy0v+BUwC/c2os/\",\"dtype\":\"float64\",\"order\":\"little\",\"shape\":[9]},\"index\":[\"BTC\",\"ETH\",\"LTC\",\"USDT\",\"XLM\",\"XRP\",\"ZEC\",\"DASH\",\"ADA\"],\"top\":{\"__ndarray__\":\"wAGA4bB1sL+GPNtK8vXEv5QfspaJ1b+/AFC4Tqv3Nr9CnHhLZZvEvxQFfU21T8q/SuYDF9e2wr8gJbeGAb3Dv7D3Gho+n7e/\",\"dtype\":\"float64\",\"order\":\"little\",\"shape\":[9]}},\"selected\":{\"id\":\"2372\"},\"selection_policy\":{\"id\":\"2373\"}},\"id\":\"2348\",\"type\":\"ColumnDataSource\"},{\"attributes\":{},\"id\":\"2298\",\"type\":\"BasicTicker\"}],\"root_ids\":[\"2281\"]},\"title\":\"Bokeh Application\",\"version\":\"2.3.2\"}};\n",
       "    var render_items = [{\"docid\":\"2429bffe-cdbf-422d-bc7a-00bd0fed8d0b\",\"root_ids\":[\"2281\"],\"roots\":{\"2281\":\"34b1f2ed-af6b-486a-bc43-580bd8e9ea57\"}}];\n",
       "    root.Bokeh.embed.embed_items_notebook(docs_json, render_items);\n",
       "  }\n",
       "  if (root.Bokeh !== undefined && root.Bokeh.Panel !== undefined) {\n",
       "    embed_document(root);\n",
       "  } else {\n",
       "    var attempts = 0;\n",
       "    var timer = setInterval(function(root) {\n",
       "      if (root.Bokeh !== undefined && root.Bokeh.Panel !== undefined) {\n",
       "        clearInterval(timer);\n",
       "        embed_document(root);\n",
       "      } else if (document.readyState == \"complete\") {\n",
       "        attempts++;\n",
       "        if (attempts > 200) {\n",
       "          clearInterval(timer);\n",
       "          console.log(\"Bokeh: ERROR: Unable to run BokehJS code because BokehJS library is missing\");\n",
       "        }\n",
       "      }\n",
       "    }, 25, root)\n",
       "  }\n",
       "})(window);</script>"
      ],
      "text/plain": [
       ":BoxWhisker   [Variable]   (value)"
      ]
     },
     "execution_count": 137,
     "metadata": {
      "application/vnd.holoviews_exec.v0+json": {
       "id": "2281"
      }
     },
     "output_type": "execute_result"
    }
   ],
   "source": [
    "monthly_returns_2018.hvplot.box(title = \"2020: Spread of Monthly Returns\", figsize = (30, 10), rot = 45,  box_fill_color = 'cyan', outlier_color = 'red')"
   ]
  },
  {
   "cell_type": "code",
   "execution_count": 138,
   "id": "b4cd3da7",
   "metadata": {},
   "outputs": [
    {
     "data": {
      "text/html": [
       "<div>\n",
       "<style scoped>\n",
       "    .dataframe tbody tr th:only-of-type {\n",
       "        vertical-align: middle;\n",
       "    }\n",
       "\n",
       "    .dataframe tbody tr th {\n",
       "        vertical-align: top;\n",
       "    }\n",
       "\n",
       "    .dataframe thead th {\n",
       "        text-align: right;\n",
       "    }\n",
       "</style>\n",
       "<table border=\"1\" class=\"dataframe\">\n",
       "  <thead>\n",
       "    <tr style=\"text-align: right;\">\n",
       "      <th></th>\n",
       "      <th>BTC</th>\n",
       "      <th>ETH</th>\n",
       "      <th>LTC</th>\n",
       "      <th>USDT</th>\n",
       "      <th>XLM</th>\n",
       "      <th>XRP</th>\n",
       "      <th>ZEC</th>\n",
       "      <th>DASH</th>\n",
       "      <th>ADA</th>\n",
       "    </tr>\n",
       "  </thead>\n",
       "  <tbody>\n",
       "    <tr>\n",
       "      <th>count</th>\n",
       "      <td>12.000000</td>\n",
       "      <td>12.000000</td>\n",
       "      <td>12.000000</td>\n",
       "      <td>12.000000</td>\n",
       "      <td>12.000000</td>\n",
       "      <td>12.000000</td>\n",
       "      <td>12.000000</td>\n",
       "      <td>12.000000</td>\n",
       "      <td>4.000000</td>\n",
       "    </tr>\n",
       "    <tr>\n",
       "      <th>mean</th>\n",
       "      <td>-0.061252</td>\n",
       "      <td>-0.116591</td>\n",
       "      <td>-0.107160</td>\n",
       "      <td>0.001208</td>\n",
       "      <td>1.504587</td>\n",
       "      <td>-0.042151</td>\n",
       "      <td>-0.114446</td>\n",
       "      <td>-0.135259</td>\n",
       "      <td>-0.144147</td>\n",
       "    </tr>\n",
       "    <tr>\n",
       "      <th>std</th>\n",
       "      <td>0.199020</td>\n",
       "      <td>0.321710</td>\n",
       "      <td>0.220806</td>\n",
       "      <td>0.007044</td>\n",
       "      <td>5.319734</td>\n",
       "      <td>0.364890</td>\n",
       "      <td>0.280731</td>\n",
       "      <td>0.262673</td>\n",
       "      <td>0.225992</td>\n",
       "    </tr>\n",
       "    <tr>\n",
       "      <th>min</th>\n",
       "      <td>-0.370686</td>\n",
       "      <td>-0.538407</td>\n",
       "      <td>-0.426080</td>\n",
       "      <td>-0.007561</td>\n",
       "      <td>-0.381932</td>\n",
       "      <td>-0.438076</td>\n",
       "      <td>-0.515830</td>\n",
       "      <td>-0.478476</td>\n",
       "      <td>-0.446444</td>\n",
       "    </tr>\n",
       "    <tr>\n",
       "      <th>25%</th>\n",
       "      <td>-0.157519</td>\n",
       "      <td>-0.260078</td>\n",
       "      <td>-0.236524</td>\n",
       "      <td>-0.002875</td>\n",
       "      <td>-0.302644</td>\n",
       "      <td>-0.230048</td>\n",
       "      <td>-0.292237</td>\n",
       "      <td>-0.250343</td>\n",
       "      <td>-0.250021</td>\n",
       "    </tr>\n",
       "    <tr>\n",
       "      <th>50%</th>\n",
       "      <td>-0.064296</td>\n",
       "      <td>-0.163756</td>\n",
       "      <td>-0.124352</td>\n",
       "      <td>-0.000350</td>\n",
       "      <td>-0.160992</td>\n",
       "      <td>-0.205558</td>\n",
       "      <td>-0.146205</td>\n",
       "      <td>-0.154206</td>\n",
       "      <td>-0.092274</td>\n",
       "    </tr>\n",
       "    <tr>\n",
       "      <th>75%</th>\n",
       "      <td>0.005158</td>\n",
       "      <td>-0.035393</td>\n",
       "      <td>-0.014479</td>\n",
       "      <td>0.002105</td>\n",
       "      <td>0.229963</td>\n",
       "      <td>-0.022666</td>\n",
       "      <td>-0.025950</td>\n",
       "      <td>-0.078562</td>\n",
       "      <td>0.013601</td>\n",
       "    </tr>\n",
       "    <tr>\n",
       "      <th>max</th>\n",
       "      <td>0.337443</td>\n",
       "      <td>0.706346</td>\n",
       "      <td>0.280905</td>\n",
       "      <td>0.015127</td>\n",
       "      <td>18.343552</td>\n",
       "      <td>0.728955</td>\n",
       "      <td>0.544615</td>\n",
       "      <td>0.558925</td>\n",
       "      <td>0.054404</td>\n",
       "    </tr>\n",
       "    <tr>\n",
       "      <th>beta</th>\n",
       "      <td>1.000000</td>\n",
       "      <td>1.310062</td>\n",
       "      <td>0.933550</td>\n",
       "      <td>0.770298</td>\n",
       "      <td>5.327261</td>\n",
       "      <td>1.076823</td>\n",
       "      <td>1.294377</td>\n",
       "      <td>0.012024</td>\n",
       "      <td>1.157759</td>\n",
       "    </tr>\n",
       "  </tbody>\n",
       "</table>\n",
       "</div>"
      ],
      "text/plain": [
       "             BTC        ETH        LTC       USDT        XLM        XRP  \\\n",
       "count  12.000000  12.000000  12.000000  12.000000  12.000000  12.000000   \n",
       "mean   -0.061252  -0.116591  -0.107160   0.001208   1.504587  -0.042151   \n",
       "std     0.199020   0.321710   0.220806   0.007044   5.319734   0.364890   \n",
       "min    -0.370686  -0.538407  -0.426080  -0.007561  -0.381932  -0.438076   \n",
       "25%    -0.157519  -0.260078  -0.236524  -0.002875  -0.302644  -0.230048   \n",
       "50%    -0.064296  -0.163756  -0.124352  -0.000350  -0.160992  -0.205558   \n",
       "75%     0.005158  -0.035393  -0.014479   0.002105   0.229963  -0.022666   \n",
       "max     0.337443   0.706346   0.280905   0.015127  18.343552   0.728955   \n",
       "beta    1.000000   1.310062   0.933550   0.770298   5.327261   1.076823   \n",
       "\n",
       "             ZEC       DASH       ADA  \n",
       "count  12.000000  12.000000  4.000000  \n",
       "mean   -0.114446  -0.135259 -0.144147  \n",
       "std     0.280731   0.262673  0.225992  \n",
       "min    -0.515830  -0.478476 -0.446444  \n",
       "25%    -0.292237  -0.250343 -0.250021  \n",
       "50%    -0.146205  -0.154206 -0.092274  \n",
       "75%    -0.025950  -0.078562  0.013601  \n",
       "max     0.544615   0.558925  0.054404  \n",
       "beta    1.294377   0.012024  1.157759  "
      ]
     },
     "execution_count": 138,
     "metadata": {},
     "output_type": "execute_result"
    }
   ],
   "source": [
    "# lazy way of compiling summary data\n",
    "summar_data = pd.DataFrame()\n",
    "summary_data = monthly_returns_2018.describe()\n",
    "\n",
    "# basically all this is just to flip charts to make input of the beta series more convenient\n",
    "summary_data = summary_data.T\n",
    "summary_data['beta'] = Beta_list\n",
    "summary_data = summary_data.T\n",
    "summary_data"
   ]
  },
  {
   "cell_type": "code",
   "execution_count": 139,
   "id": "131a437c",
   "metadata": {},
   "outputs": [
    {
     "data": {},
     "metadata": {},
     "output_type": "display_data"
    },
    {
     "data": {
      "application/vnd.holoviews_exec.v0+json": "",
      "text/html": [
       "<div id='2546'>\n",
       "\n",
       "\n",
       "\n",
       "\n",
       "\n",
       "  <div class=\"bk-root\" id=\"ce36d8f5-3828-4afc-a55d-b43ebba612f1\" data-root-id=\"2546\"></div>\n",
       "</div>\n",
       "<script type=\"application/javascript\">(function(root) {\n",
       "  function embed_document(root) {\n",
       "    var docs_json = {\"1481162f-9342-4f6c-a091-4b81d010bfa8\":{\"defs\":[{\"extends\":null,\"module\":null,\"name\":\"ReactiveHTML1\",\"overrides\":[],\"properties\":[]},{\"extends\":null,\"module\":null,\"name\":\"FlexBox1\",\"overrides\":[],\"properties\":[{\"default\":\"flex-start\",\"kind\":null,\"name\":\"align_content\"},{\"default\":\"flex-start\",\"kind\":null,\"name\":\"align_items\"},{\"default\":\"row\",\"kind\":null,\"name\":\"flex_direction\"},{\"default\":\"wrap\",\"kind\":null,\"name\":\"flex_wrap\"},{\"default\":\"flex-start\",\"kind\":null,\"name\":\"justify_content\"}]},{\"extends\":null,\"module\":null,\"name\":\"TemplateActions1\",\"overrides\":[],\"properties\":[{\"default\":0,\"kind\":null,\"name\":\"open_modal\"},{\"default\":0,\"kind\":null,\"name\":\"close_modal\"}]},{\"extends\":null,\"module\":null,\"name\":\"MaterialTemplateActions1\",\"overrides\":[],\"properties\":[{\"default\":0,\"kind\":null,\"name\":\"open_modal\"},{\"default\":0,\"kind\":null,\"name\":\"close_modal\"}]}],\"roots\":{\"references\":[{\"attributes\":{},\"id\":\"2556\",\"type\":\"CategoricalScale\"},{\"attributes\":{\"axis\":{\"id\":\"2560\"},\"grid_line_color\":null,\"ticker\":null},\"id\":\"2562\",\"type\":\"Grid\"},{\"attributes\":{\"data\":{\"index\":[\"ADA\",\"DASH\",\"ETH\",\"ZEC\",\"LTC\",\"BTC\",\"XRP\",\"USDT\",\"XLM\"],\"mean\":{\"__ndarray__\":\"dsRsGGdzwr/DlFhDJ1DBv2FLY/jq2L2/AOvuNlxMvb+bhWDp3W67vzMjqHJ1XK+/Xf/nncSUpb/Vdw3Mm8lTP4f6sn7JEvg/\",\"dtype\":\"float64\",\"order\":\"little\",\"shape\":[9]}},\"selected\":{\"id\":\"2581\"},\"selection_policy\":{\"id\":\"2605\"}},\"id\":\"2580\",\"type\":\"ColumnDataSource\"},{\"attributes\":{\"end\":1.6694600420980144,\"reset_end\":1.6694600420980144,\"reset_start\":-0.30902016173427377,\"start\":-0.30902016173427377,\"tags\":[[[\"mean\",\"mean\",null]]]},\"id\":\"2549\",\"type\":\"Range1d\"},{\"attributes\":{\"axis_label\":\"percentage change\",\"formatter\":{\"id\":\"2595\"},\"major_label_policy\":{\"id\":\"2593\"},\"ticker\":{\"id\":\"2564\"}},\"id\":\"2563\",\"type\":\"LinearAxis\"},{\"attributes\":{\"factors\":[\"ADA\",\"DASH\",\"ETH\",\"ZEC\",\"LTC\",\"BTC\",\"XRP\",\"USDT\",\"XLM\"],\"tags\":[[[\"index\",\"index\",null]]]},\"id\":\"2548\",\"type\":\"FactorRange\"},{\"attributes\":{},\"id\":\"2564\",\"type\":\"BasicTicker\"},{\"attributes\":{\"fill_alpha\":{\"value\":0.1},\"fill_color\":{\"value\":\"cyan\"},\"line_alpha\":{\"value\":0.1},\"top\":{\"field\":\"mean\"},\"width\":{\"value\":0.8},\"x\":{\"field\":\"index\"}},\"id\":\"2584\",\"type\":\"VBar\"},{\"attributes\":{\"bottom_units\":\"screen\",\"fill_alpha\":0.5,\"fill_color\":\"lightgrey\",\"left_units\":\"screen\",\"level\":\"overlay\",\"line_alpha\":1.0,\"line_color\":\"black\",\"line_dash\":[4,4],\"line_width\":2,\"right_units\":\"screen\",\"syncable\":false,\"top_units\":\"screen\"},\"id\":\"2572\",\"type\":\"BoxAnnotation\"},{\"attributes\":{\"fill_color\":{\"value\":\"black\"},\"top\":{\"field\":\"mean\"},\"width\":{\"value\":0.8},\"x\":{\"field\":\"index\"}},\"id\":\"2585\",\"type\":\"VBar\"},{\"attributes\":{},\"id\":\"2605\",\"type\":\"UnionRenderers\"},{\"attributes\":{\"active_multi\":null,\"tools\":[{\"id\":\"2550\"},{\"id\":\"2567\"},{\"id\":\"2568\"},{\"id\":\"2569\"},{\"id\":\"2570\"},{\"id\":\"2571\"}]},\"id\":\"2573\",\"type\":\"Toolbar\"},{\"attributes\":{},\"id\":\"2595\",\"type\":\"BasicTickFormatter\"},{\"attributes\":{\"margin\":[5,5,5,5],\"name\":\"HSpacer03553\",\"sizing_mode\":\"stretch_width\"},\"id\":\"2616\",\"type\":\"Spacer\"},{\"attributes\":{\"bottom\":{\"value\":0},\"fill_alpha\":{\"value\":1.0},\"fill_color\":{\"value\":\"cyan\"},\"hatch_alpha\":{\"value\":1.0},\"hatch_color\":{\"value\":\"black\"},\"hatch_scale\":{\"value\":12.0},\"hatch_weight\":{\"value\":1.0},\"line_alpha\":{\"value\":1.0},\"line_cap\":{\"value\":\"butt\"},\"line_color\":{\"value\":\"black\"},\"line_dash\":{\"value\":[]},\"line_dash_offset\":{\"value\":0},\"line_join\":{\"value\":\"bevel\"},\"line_width\":{\"value\":1},\"top\":{\"field\":\"mean\"},\"width\":{\"value\":0.8},\"x\":{\"field\":\"index\"}},\"id\":\"2589\",\"type\":\"VBar\"},{\"attributes\":{\"fill_color\":{\"value\":\"cyan\"},\"top\":{\"field\":\"mean\"},\"width\":{\"value\":0.8},\"x\":{\"field\":\"index\"}},\"id\":\"2583\",\"type\":\"VBar\"},{\"attributes\":{},\"id\":\"2567\",\"type\":\"SaveTool\"},{\"attributes\":{},\"id\":\"2592\",\"type\":\"CategoricalTickFormatter\"},{\"attributes\":{},\"id\":\"2568\",\"type\":\"PanTool\"},{\"attributes\":{\"data_source\":{\"id\":\"2580\"},\"glyph\":{\"id\":\"2583\"},\"hover_glyph\":{\"id\":\"2585\"},\"muted_glyph\":{\"id\":\"2586\"},\"nonselection_glyph\":{\"id\":\"2584\"},\"selection_glyph\":{\"id\":\"2589\"},\"view\":{\"id\":\"2588\"}},\"id\":\"2587\",\"type\":\"GlyphRenderer\"},{\"attributes\":{},\"id\":\"2569\",\"type\":\"WheelZoomTool\"},{\"attributes\":{\"callback\":null,\"renderers\":[{\"id\":\"2587\"}],\"tags\":[\"hv_created\"],\"tooltips\":[[\"index\",\"@{index}\"],[\"mean\",\"@{mean}\"]]},\"id\":\"2550\",\"type\":\"HoverTool\"},{\"attributes\":{},\"id\":\"2593\",\"type\":\"AllLabels\"},{\"attributes\":{\"axis\":{\"id\":\"2563\"},\"dimension\":1,\"grid_line_color\":null,\"ticker\":null},\"id\":\"2566\",\"type\":\"Grid\"},{\"attributes\":{\"below\":[{\"id\":\"2560\"}],\"center\":[{\"id\":\"2562\"},{\"id\":\"2566\"}],\"height\":300,\"left\":[{\"id\":\"2563\"}],\"margin\":[5,5,5,5],\"min_border_bottom\":10,\"min_border_left\":10,\"min_border_right\":10,\"min_border_top\":10,\"renderers\":[{\"id\":\"2587\"}],\"sizing_mode\":\"fixed\",\"title\":{\"id\":\"2552\"},\"toolbar\":{\"id\":\"2573\"},\"width\":700,\"x_range\":{\"id\":\"2548\"},\"x_scale\":{\"id\":\"2556\"},\"y_range\":{\"id\":\"2549\"},\"y_scale\":{\"id\":\"2558\"}},\"id\":\"2551\",\"subtype\":\"Figure\",\"type\":\"Plot\"},{\"attributes\":{\"margin\":[5,5,5,5],\"name\":\"HSpacer03552\",\"sizing_mode\":\"stretch_width\"},\"id\":\"2547\",\"type\":\"Spacer\"},{\"attributes\":{\"axis_label\":\"Cryptocurrencies\",\"formatter\":{\"id\":\"2592\"},\"major_label_orientation\":0.7853981633974483,\"major_label_policy\":{\"id\":\"2590\"},\"ticker\":{\"id\":\"2561\"}},\"id\":\"2560\",\"type\":\"CategoricalAxis\"},{\"attributes\":{\"source\":{\"id\":\"2580\"}},\"id\":\"2588\",\"type\":\"CDSView\"},{\"attributes\":{\"overlay\":{\"id\":\"2572\"}},\"id\":\"2570\",\"type\":\"BoxZoomTool\"},{\"attributes\":{},\"id\":\"2558\",\"type\":\"LinearScale\"},{\"attributes\":{},\"id\":\"2561\",\"type\":\"CategoricalTicker\"},{\"attributes\":{},\"id\":\"2590\",\"type\":\"AllLabels\"},{\"attributes\":{\"fill_alpha\":{\"value\":0.2},\"fill_color\":{\"value\":\"cyan\"},\"line_alpha\":{\"value\":0.2},\"top\":{\"field\":\"mean\"},\"width\":{\"value\":0.8},\"x\":{\"field\":\"index\"}},\"id\":\"2586\",\"type\":\"VBar\"},{\"attributes\":{\"children\":[{\"id\":\"2547\"},{\"id\":\"2551\"},{\"id\":\"2616\"}],\"margin\":[0,0,0,0],\"name\":\"Row03548\",\"tags\":[\"embedded\"]},\"id\":\"2546\",\"type\":\"Row\"},{\"attributes\":{\"text\":\"2018 Bar: Average Monthly Returns by Percentage\",\"text_color\":\"black\",\"text_font_size\":\"12pt\"},\"id\":\"2552\",\"type\":\"Title\"},{\"attributes\":{},\"id\":\"2581\",\"type\":\"Selection\"},{\"attributes\":{},\"id\":\"2571\",\"type\":\"ResetTool\"}],\"root_ids\":[\"2546\"]},\"title\":\"Bokeh Application\",\"version\":\"2.3.2\"}};\n",
       "    var render_items = [{\"docid\":\"1481162f-9342-4f6c-a091-4b81d010bfa8\",\"root_ids\":[\"2546\"],\"roots\":{\"2546\":\"ce36d8f5-3828-4afc-a55d-b43ebba612f1\"}}];\n",
       "    root.Bokeh.embed.embed_items_notebook(docs_json, render_items);\n",
       "  }\n",
       "  if (root.Bokeh !== undefined && root.Bokeh.Panel !== undefined) {\n",
       "    embed_document(root);\n",
       "  } else {\n",
       "    var attempts = 0;\n",
       "    var timer = setInterval(function(root) {\n",
       "      if (root.Bokeh !== undefined && root.Bokeh.Panel !== undefined) {\n",
       "        clearInterval(timer);\n",
       "        embed_document(root);\n",
       "      } else if (document.readyState == \"complete\") {\n",
       "        attempts++;\n",
       "        if (attempts > 200) {\n",
       "          clearInterval(timer);\n",
       "          console.log(\"Bokeh: ERROR: Unable to run BokehJS code because BokehJS library is missing\");\n",
       "        }\n",
       "      }\n",
       "    }, 25, root)\n",
       "  }\n",
       "})(window);</script>"
      ],
      "text/plain": [
       ":Bars   [index]   (mean)"
      ]
     },
     "execution_count": 139,
     "metadata": {
      "application/vnd.holoviews_exec.v0+json": {
       "id": "2546"
      }
     },
     "output_type": "execute_result"
    }
   ],
   "source": [
    "mean_series = summary_data.loc['mean'].sort_values()\n",
    "mean_series.hvplot.bar(rot = 45, title = \"2018 Bar: Average Monthly Returns by Percentage\", fill_color = 'cyan', hover_color = 'black', xlabel = 'Cryptocurrencies', ylabel = 'percentage change')"
   ]
  },
  {
   "cell_type": "code",
   "execution_count": 140,
   "id": "625b5318",
   "metadata": {},
   "outputs": [
    {
     "data": {},
     "metadata": {},
     "output_type": "display_data"
    },
    {
     "data": {
      "application/vnd.holoviews_exec.v0+json": "",
      "text/html": [
       "<div id='2668'>\n",
       "\n",
       "\n",
       "\n",
       "\n",
       "\n",
       "  <div class=\"bk-root\" id=\"a0acd85b-5c79-4449-b9af-ed86c5736b06\" data-root-id=\"2668\"></div>\n",
       "</div>\n",
       "<script type=\"application/javascript\">(function(root) {\n",
       "  function embed_document(root) {\n",
       "    var docs_json = {\"d9a89bdb-6a40-4bf8-b661-abb0112cf08c\":{\"defs\":[{\"extends\":null,\"module\":null,\"name\":\"ReactiveHTML1\",\"overrides\":[],\"properties\":[]},{\"extends\":null,\"module\":null,\"name\":\"FlexBox1\",\"overrides\":[],\"properties\":[{\"default\":\"flex-start\",\"kind\":null,\"name\":\"align_content\"},{\"default\":\"flex-start\",\"kind\":null,\"name\":\"align_items\"},{\"default\":\"row\",\"kind\":null,\"name\":\"flex_direction\"},{\"default\":\"wrap\",\"kind\":null,\"name\":\"flex_wrap\"},{\"default\":\"flex-start\",\"kind\":null,\"name\":\"justify_content\"}]},{\"extends\":null,\"module\":null,\"name\":\"TemplateActions1\",\"overrides\":[],\"properties\":[{\"default\":0,\"kind\":null,\"name\":\"open_modal\"},{\"default\":0,\"kind\":null,\"name\":\"close_modal\"}]},{\"extends\":null,\"module\":null,\"name\":\"MaterialTemplateActions1\",\"overrides\":[],\"properties\":[{\"default\":0,\"kind\":null,\"name\":\"open_modal\"},{\"default\":0,\"kind\":null,\"name\":\"close_modal\"}]}],\"roots\":{\"references\":[{\"attributes\":{},\"id\":\"2689\",\"type\":\"PanTool\"},{\"attributes\":{\"high\":1.504586691778657,\"low\":-0.14414681141491642,\"nan_color\":\"white\",\"palette\":[\"#b3fef5\",\"#b0fef5\",\"#adfdf5\",\"#a9fcf5\",\"#a6fbf6\",\"#a3faf6\",\"#a0faf6\",\"#9df9f6\",\"#9af8f6\",\"#97f7f6\",\"#93f7f6\",\"#90f6f6\",\"#8df5f6\",\"#8af4f7\",\"#87f3f7\",\"#83f2f7\",\"#80f2f7\",\"#7df1f7\",\"#79f0f7\",\"#76eff7\",\"#73eef7\",\"#6fedf8\",\"#6cecf8\",\"#68ecf8\",\"#65ebf8\",\"#61eaf8\",\"#5ee9f8\",\"#5ae8f8\",\"#57e7f8\",\"#53e6f8\",\"#50e5f9\",\"#4ce4f9\",\"#49e3f9\",\"#45e2f9\",\"#42e1f9\",\"#3ee0f9\",\"#3bdff9\",\"#38def9\",\"#35ddf9\",\"#32dcf9\",\"#30dbfa\",\"#2ed9fa\",\"#2dd8fa\",\"#2cd7fa\",\"#2bd6fa\",\"#2bd5fa\",\"#2ad3fa\",\"#2ad2fa\",\"#29d1fa\",\"#29d0fb\",\"#29cffb\",\"#28cdfb\",\"#28ccfb\",\"#28cbfb\",\"#28cafb\",\"#28c8fb\",\"#28c7fb\",\"#29c6fb\",\"#29c5fb\",\"#29c4fb\",\"#29c2fb\",\"#2ac1fb\",\"#2ac0fb\",\"#2bbffb\",\"#2bbdfc\",\"#2cbcfc\",\"#2dbbfc\",\"#2db9fc\",\"#2eb8fc\",\"#2fb7fc\",\"#2fb6fc\",\"#30b4fc\",\"#31b3fc\",\"#32b2fc\",\"#32b0fc\",\"#33affc\",\"#33aefc\",\"#34adfc\",\"#34abfc\",\"#34aafc\",\"#35a9fc\",\"#35a8fc\",\"#35a6fc\",\"#35a5fc\",\"#35a4fc\",\"#35a3fc\",\"#35a1fc\",\"#35a0fc\",\"#359ffc\",\"#359dfc\",\"#359cfc\",\"#359bfc\",\"#349afd\",\"#3498fd\",\"#3497fd\",\"#3396fd\",\"#3395fd\",\"#3293fd\",\"#3292fd\",\"#3191fd\",\"#3090fd\",\"#308ffd\",\"#2f8dfd\",\"#2f8cfd\",\"#2e8bfd\",\"#2e8afd\",\"#2d88fd\",\"#2d87fd\",\"#2c86fd\",\"#2c84fd\",\"#2c83fd\",\"#2c82fd\",\"#2b81fd\",\"#2b7ffd\",\"#2b7efd\",\"#2b7dfd\",\"#2b7bfd\",\"#2b7afd\",\"#2b79fd\",\"#2b77fd\",\"#2b76fd\",\"#2b75fd\",\"#2b73fd\",\"#2c72fd\",\"#2c71fd\",\"#2c6ffd\",\"#2c6efd\",\"#2d6cfd\",\"#2d6bfd\",\"#2d6afc\",\"#2e68fc\",\"#2e67fc\",\"#2e65fc\",\"#2e64fc\",\"#2f62fc\",\"#2f61fc\",\"#2f5ffc\",\"#2f5efc\",\"#2f5dfc\",\"#2f5bfc\",\"#2f5afc\",\"#2f58fb\",\"#2f57fb\",\"#2f55fb\",\"#2f53fb\",\"#2f52fb\",\"#2f50fb\",\"#2f4ffb\",\"#2f4dfb\",\"#2e4cfb\",\"#2e4afb\",\"#2e48fb\",\"#2e47fa\",\"#2d45fa\",\"#2d43fa\",\"#2d42fa\",\"#2d40fa\",\"#2c3efa\",\"#2c3dfa\",\"#2b3bf9\",\"#2b39f9\",\"#2a37f9\",\"#2a36f8\",\"#2934f8\",\"#2832f7\",\"#2831f7\",\"#272ff6\",\"#262ef5\",\"#252cf5\",\"#252af4\",\"#2429f3\",\"#2327f2\",\"#2226f1\",\"#2124f0\",\"#2023ef\",\"#1f22ee\",\"#1e20ed\",\"#1d1feb\",\"#1c1eea\",\"#1b1ce9\",\"#1a1be7\",\"#181ae6\",\"#1719e5\",\"#1618e3\",\"#1417e1\",\"#1316e0\",\"#1215de\",\"#1014dc\",\"#0f13db\",\"#0e12d9\",\"#0d11d7\",\"#0c10d5\",\"#0b0fd3\",\"#0a0ed1\",\"#090dd0\",\"#080dce\",\"#080ccc\",\"#070bca\",\"#070ac8\",\"#0709c6\",\"#0708c4\",\"#0707c2\",\"#0707bf\",\"#0806bd\",\"#0806bb\",\"#0905b9\",\"#0904b7\",\"#0a04b5\",\"#0a04b2\",\"#0b03b0\",\"#0c03ae\",\"#0d02ab\",\"#0e02a9\",\"#0e02a7\",\"#0f02a4\",\"#0f01a2\",\"#1001a0\",\"#10019d\",\"#10019b\",\"#100199\",\"#100197\",\"#100194\",\"#0f0192\",\"#0f0190\",\"#0f018e\",\"#0e018b\",\"#0e0189\",\"#0d0187\",\"#0d0185\",\"#0c0183\",\"#0b0181\",\"#0b017e\",\"#0a017c\",\"#09017a\",\"#090178\",\"#080276\",\"#070274\",\"#060272\",\"#060270\",\"#05026e\",\"#04026c\",\"#030269\",\"#030267\",\"#020265\",\"#010263\",\"#010261\",\"#00025f\",\"#00025d\",\"#00025b\",\"#000259\",\"#000257\",\"#000255\",\"#000154\",\"#000152\",\"#000150\",\"#00004e\"]},\"id\":\"2701\",\"type\":\"LinearColorMapper\"},{\"attributes\":{\"bar_line_color\":\"black\",\"color_mapper\":{\"id\":\"2701\"},\"label_standoff\":8,\"location\":[0,0],\"major_label_policy\":{\"id\":\"2720\"},\"major_tick_line_color\":\"black\",\"ticker\":{\"id\":\"2711\"}},\"id\":\"2712\",\"type\":\"ColorBar\"},{\"attributes\":{},\"id\":\"2690\",\"type\":\"WheelZoomTool\"},{\"attributes\":{\"data\":{\"columns\":[\"mean\",\"mean\",\"mean\",\"mean\",\"mean\",\"mean\",\"mean\",\"mean\",\"mean\"],\"index\":[\"ADA\",\"DASH\",\"ETH\",\"ZEC\",\"LTC\",\"BTC\",\"XRP\",\"USDT\",\"XLM\"],\"value\":[\"-0.14415\",\"-0.13526\",\"-0.11659\",\"-0.11445\",\"-0.10716\",\"-0.061252\",\"-0.042151\",\"0.0012077\",\"1.5046\"],\"zvalues\":{\"__ndarray__\":\"dsRsGGdzwr/DlFhDJ1DBv2FLY/jq2L2/AOvuNlxMvb+bhWDp3W67vzMjqHJ1XK+/Xf/nncSUpb/Vdw3Mm8lTP4f6sn7JEvg/\",\"dtype\":\"float64\",\"order\":\"little\",\"shape\":[9]}},\"selected\":{\"id\":\"2703\"},\"selection_policy\":{\"id\":\"2729\"}},\"id\":\"2702\",\"type\":\"ColumnDataSource\"},{\"attributes\":{\"below\":[{\"id\":\"2682\"}],\"center\":[{\"id\":\"2684\"},{\"id\":\"2687\"}],\"height\":300,\"left\":[{\"id\":\"2685\"}],\"margin\":[5,5,5,5],\"min_border_bottom\":10,\"min_border_left\":10,\"min_border_right\":10,\"min_border_top\":10,\"renderers\":[{\"id\":\"2709\"}],\"right\":[{\"id\":\"2712\"}],\"sizing_mode\":\"fixed\",\"title\":{\"id\":\"2674\"},\"toolbar\":{\"id\":\"2694\"},\"width\":700,\"x_range\":{\"id\":\"2670\"},\"x_scale\":{\"id\":\"2678\"},\"y_range\":{\"id\":\"2671\"},\"y_scale\":{\"id\":\"2680\"}},\"id\":\"2673\",\"subtype\":\"Figure\",\"type\":\"Plot\"},{\"attributes\":{},\"id\":\"2716\",\"type\":\"AllLabels\"},{\"attributes\":{\"bottom_units\":\"screen\",\"fill_alpha\":0.5,\"fill_color\":\"lightgrey\",\"left_units\":\"screen\",\"level\":\"overlay\",\"line_alpha\":1.0,\"line_color\":\"black\",\"line_dash\":[4,4],\"line_width\":2,\"right_units\":\"screen\",\"syncable\":false,\"top_units\":\"screen\"},\"id\":\"2693\",\"type\":\"BoxAnnotation\"},{\"attributes\":{},\"id\":\"2680\",\"type\":\"CategoricalScale\"},{\"attributes\":{},\"id\":\"2718\",\"type\":\"CategoricalTickFormatter\"},{\"attributes\":{\"overlay\":{\"id\":\"2693\"}},\"id\":\"2691\",\"type\":\"BoxZoomTool\"},{\"attributes\":{},\"id\":\"2720\",\"type\":\"NoOverlap\"},{\"attributes\":{\"text\":\"2018 Heatmap: Average Monthly Returns by Percentage\",\"text_color\":\"black\",\"text_font_size\":\"12pt\"},\"id\":\"2674\",\"type\":\"Title\"},{\"attributes\":{},\"id\":\"2692\",\"type\":\"ResetTool\"},{\"attributes\":{},\"id\":\"2729\",\"type\":\"UnionRenderers\"},{\"attributes\":{},\"id\":\"2678\",\"type\":\"CategoricalScale\"},{\"attributes\":{},\"id\":\"2715\",\"type\":\"CategoricalTickFormatter\"},{\"attributes\":{\"source\":{\"id\":\"2702\"}},\"id\":\"2710\",\"type\":\"CDSView\"},{\"attributes\":{\"axis_label\":\"\",\"formatter\":{\"id\":\"2715\"},\"major_label_policy\":{\"id\":\"2713\"},\"ticker\":{\"id\":\"2683\"}},\"id\":\"2682\",\"type\":\"CategoricalAxis\"},{\"attributes\":{\"axis\":{\"id\":\"2685\"},\"dimension\":1,\"grid_line_color\":null,\"ticker\":null},\"id\":\"2687\",\"type\":\"Grid\"},{\"attributes\":{\"margin\":[5,5,5,5],\"name\":\"HSpacer03683\",\"sizing_mode\":\"stretch_width\"},\"id\":\"2669\",\"type\":\"Spacer\"},{\"attributes\":{},\"id\":\"2688\",\"type\":\"SaveTool\"},{\"attributes\":{},\"id\":\"2683\",\"type\":\"CategoricalTicker\"},{\"attributes\":{\"axis\":{\"id\":\"2682\"},\"grid_line_color\":null,\"ticker\":null},\"id\":\"2684\",\"type\":\"Grid\"},{\"attributes\":{\"factors\":[\"mean\"],\"tags\":[[[\"columns\",\"columns\",null]]]},\"id\":\"2670\",\"type\":\"FactorRange\"},{\"attributes\":{},\"id\":\"2711\",\"type\":\"BasicTicker\"},{\"attributes\":{},\"id\":\"2686\",\"type\":\"CategoricalTicker\"},{\"attributes\":{\"fill_color\":{\"field\":\"zvalues\",\"transform\":{\"id\":\"2701\"}},\"height\":{\"value\":1},\"line_alpha\":{\"value\":0},\"line_color\":{\"value\":\"#1f77b4\"},\"width\":{\"value\":1},\"x\":{\"field\":\"columns\"},\"y\":{\"field\":\"index\"}},\"id\":\"2705\",\"type\":\"Rect\"},{\"attributes\":{\"axis_label\":\"\",\"formatter\":{\"id\":\"2718\"},\"major_label_policy\":{\"id\":\"2716\"},\"ticker\":{\"id\":\"2686\"}},\"id\":\"2685\",\"type\":\"CategoricalAxis\"},{\"attributes\":{\"fill_color\":{\"field\":\"zvalues\",\"transform\":{\"id\":\"2701\"}},\"height\":{\"value\":1},\"line_alpha\":{\"value\":0},\"line_color\":{\"value\":\"#1f77b4\"},\"width\":{\"value\":1},\"x\":{\"field\":\"columns\"},\"y\":{\"field\":\"index\"}},\"id\":\"2707\",\"type\":\"Rect\"},{\"attributes\":{\"fill_color\":{\"value\":\"orange\"},\"height\":{\"value\":1},\"line_alpha\":{\"value\":0},\"line_color\":{\"value\":\"orange\"},\"width\":{\"value\":1},\"x\":{\"field\":\"columns\"},\"y\":{\"field\":\"index\"}},\"id\":\"2708\",\"type\":\"Rect\"},{\"attributes\":{\"active_multi\":null,\"tools\":[{\"id\":\"2672\"},{\"id\":\"2688\"},{\"id\":\"2689\"},{\"id\":\"2690\"},{\"id\":\"2691\"},{\"id\":\"2692\"}]},\"id\":\"2694\",\"type\":\"Toolbar\"},{\"attributes\":{\"callback\":null,\"renderers\":[{\"id\":\"2709\"}],\"tags\":[\"hv_created\"],\"tooltips\":[[\"columns\",\"@{columns}\"],[\"index\",\"@{index}\"],[\"value\",\"@{value}\"]]},\"id\":\"2672\",\"type\":\"HoverTool\"},{\"attributes\":{\"children\":[{\"id\":\"2669\"},{\"id\":\"2673\"},{\"id\":\"2741\"}],\"margin\":[0,0,0,0],\"name\":\"Row03679\",\"tags\":[\"embedded\"]},\"id\":\"2668\",\"type\":\"Row\"},{\"attributes\":{\"fill_alpha\":{\"value\":0.1},\"fill_color\":{\"field\":\"zvalues\",\"transform\":{\"id\":\"2701\"}},\"height\":{\"value\":1},\"line_alpha\":{\"value\":0},\"line_color\":{\"value\":\"#1f77b4\"},\"width\":{\"value\":1},\"x\":{\"field\":\"columns\"},\"y\":{\"field\":\"index\"}},\"id\":\"2706\",\"type\":\"Rect\"},{\"attributes\":{},\"id\":\"2713\",\"type\":\"AllLabels\"},{\"attributes\":{},\"id\":\"2703\",\"type\":\"Selection\"},{\"attributes\":{\"data_source\":{\"id\":\"2702\"},\"glyph\":{\"id\":\"2705\"},\"hover_glyph\":{\"id\":\"2708\"},\"muted_glyph\":null,\"nonselection_glyph\":{\"id\":\"2706\"},\"selection_glyph\":{\"id\":\"2707\"},\"view\":{\"id\":\"2710\"}},\"id\":\"2709\",\"type\":\"GlyphRenderer\"},{\"attributes\":{\"factors\":[\"ADA\",\"DASH\",\"ETH\",\"ZEC\",\"LTC\",\"BTC\",\"XRP\",\"USDT\",\"XLM\"],\"tags\":[[[\"index\",\"index\",null]]]},\"id\":\"2671\",\"type\":\"FactorRange\"},{\"attributes\":{\"margin\":[5,5,5,5],\"name\":\"HSpacer03684\",\"sizing_mode\":\"stretch_width\"},\"id\":\"2741\",\"type\":\"Spacer\"}],\"root_ids\":[\"2668\"]},\"title\":\"Bokeh Application\",\"version\":\"2.3.2\"}};\n",
       "    var render_items = [{\"docid\":\"d9a89bdb-6a40-4bf8-b661-abb0112cf08c\",\"root_ids\":[\"2668\"],\"roots\":{\"2668\":\"a0acd85b-5c79-4449-b9af-ed86c5736b06\"}}];\n",
       "    root.Bokeh.embed.embed_items_notebook(docs_json, render_items);\n",
       "  }\n",
       "  if (root.Bokeh !== undefined && root.Bokeh.Panel !== undefined) {\n",
       "    embed_document(root);\n",
       "  } else {\n",
       "    var attempts = 0;\n",
       "    var timer = setInterval(function(root) {\n",
       "      if (root.Bokeh !== undefined && root.Bokeh.Panel !== undefined) {\n",
       "        clearInterval(timer);\n",
       "        embed_document(root);\n",
       "      } else if (document.readyState == \"complete\") {\n",
       "        attempts++;\n",
       "        if (attempts > 200) {\n",
       "          clearInterval(timer);\n",
       "          console.log(\"Bokeh: ERROR: Unable to run BokehJS code because BokehJS library is missing\");\n",
       "        }\n",
       "      }\n",
       "    }, 25, root)\n",
       "  }\n",
       "})(window);</script>"
      ],
      "text/plain": [
       ":HeatMap   [columns,index]   (value)"
      ]
     },
     "execution_count": 140,
     "metadata": {
      "application/vnd.holoviews_exec.v0+json": {
       "id": "2668"
      }
     },
     "output_type": "execute_result"
    }
   ],
   "source": [
    "mean_series = summary_data.loc['mean'].sort_values()\n",
    "mean_series.hvplot.heatmap(title = \"2018 Heatmap: Average Monthly Returns by Percentage\", fill_color = 'cyan', hover_color = 'orange')"
   ]
  },
  {
   "cell_type": "code",
   "execution_count": 141,
   "id": "a2c363a6",
   "metadata": {},
   "outputs": [
    {
     "data": {},
     "metadata": {},
     "output_type": "display_data"
    },
    {
     "data": {
      "application/vnd.holoviews_exec.v0+json": "",
      "text/html": [
       "<div id='2798'>\n",
       "\n",
       "\n",
       "\n",
       "\n",
       "\n",
       "  <div class=\"bk-root\" id=\"7817dfb1-815e-40df-8151-eccf7de707b5\" data-root-id=\"2798\"></div>\n",
       "</div>\n",
       "<script type=\"application/javascript\">(function(root) {\n",
       "  function embed_document(root) {\n",
       "    var docs_json = {\"610db213-56cc-406a-836f-06a068b6f868\":{\"defs\":[{\"extends\":null,\"module\":null,\"name\":\"ReactiveHTML1\",\"overrides\":[],\"properties\":[]},{\"extends\":null,\"module\":null,\"name\":\"FlexBox1\",\"overrides\":[],\"properties\":[{\"default\":\"flex-start\",\"kind\":null,\"name\":\"align_content\"},{\"default\":\"flex-start\",\"kind\":null,\"name\":\"align_items\"},{\"default\":\"row\",\"kind\":null,\"name\":\"flex_direction\"},{\"default\":\"wrap\",\"kind\":null,\"name\":\"flex_wrap\"},{\"default\":\"flex-start\",\"kind\":null,\"name\":\"justify_content\"}]},{\"extends\":null,\"module\":null,\"name\":\"TemplateActions1\",\"overrides\":[],\"properties\":[{\"default\":0,\"kind\":null,\"name\":\"open_modal\"},{\"default\":0,\"kind\":null,\"name\":\"close_modal\"}]},{\"extends\":null,\"module\":null,\"name\":\"MaterialTemplateActions1\",\"overrides\":[],\"properties\":[{\"default\":0,\"kind\":null,\"name\":\"open_modal\"},{\"default\":0,\"kind\":null,\"name\":\"close_modal\"}]}],\"roots\":{\"references\":[{\"attributes\":{},\"id\":\"2833\",\"type\":\"Selection\"},{\"attributes\":{\"axis_label\":\"Cryptocurrencies\",\"formatter\":{\"id\":\"2844\"},\"major_label_orientation\":0.7853981633974483,\"major_label_policy\":{\"id\":\"2842\"},\"ticker\":{\"id\":\"2813\"}},\"id\":\"2812\",\"type\":\"CategoricalAxis\"},{\"attributes\":{\"axis\":{\"id\":\"2815\"},\"dimension\":1,\"grid_line_color\":null,\"ticker\":null},\"id\":\"2818\",\"type\":\"Grid\"},{\"attributes\":{},\"id\":\"2813\",\"type\":\"CategoricalTicker\"},{\"attributes\":{\"axis\":{\"id\":\"2812\"},\"grid_line_color\":null,\"ticker\":null},\"id\":\"2814\",\"type\":\"Grid\"},{\"attributes\":{\"margin\":[5,5,5,5],\"name\":\"HSpacer03861\",\"sizing_mode\":\"stretch_width\"},\"id\":\"2868\",\"type\":\"Spacer\"},{\"attributes\":{\"data_source\":{\"id\":\"2832\"},\"glyph\":{\"id\":\"2835\"},\"hover_glyph\":{\"id\":\"2837\"},\"muted_glyph\":{\"id\":\"2838\"},\"nonselection_glyph\":{\"id\":\"2836\"},\"selection_glyph\":{\"id\":\"2841\"},\"view\":{\"id\":\"2840\"}},\"id\":\"2839\",\"type\":\"GlyphRenderer\"},{\"attributes\":{},\"id\":\"2816\",\"type\":\"BasicTicker\"},{\"attributes\":{},\"id\":\"2857\",\"type\":\"UnionRenderers\"},{\"attributes\":{\"axis_label\":\"Standard Deviation\",\"formatter\":{\"id\":\"2847\"},\"major_label_policy\":{\"id\":\"2845\"},\"ticker\":{\"id\":\"2816\"}},\"id\":\"2815\",\"type\":\"LinearAxis\"},{\"attributes\":{\"fill_alpha\":{\"value\":0.2},\"fill_color\":{\"value\":\"cyan\"},\"line_alpha\":{\"value\":0.2},\"top\":{\"field\":\"std\"},\"width\":{\"value\":0.8},\"x\":{\"field\":\"index\"}},\"id\":\"2838\",\"type\":\"VBar\"},{\"attributes\":{\"bottom_units\":\"screen\",\"fill_alpha\":0.5,\"fill_color\":\"lightgrey\",\"left_units\":\"screen\",\"level\":\"overlay\",\"line_alpha\":1.0,\"line_color\":\"black\",\"line_dash\":[4,4],\"line_width\":2,\"right_units\":\"screen\",\"syncable\":false,\"top_units\":\"screen\"},\"id\":\"2824\",\"type\":\"BoxAnnotation\"},{\"attributes\":{},\"id\":\"2845\",\"type\":\"AllLabels\"},{\"attributes\":{\"factors\":[\"USDT\",\"BTC\",\"LTC\",\"ADA\",\"DASH\",\"ZEC\",\"ETH\",\"XRP\",\"XLM\"],\"tags\":[[[\"index\",\"index\",null]]]},\"id\":\"2800\",\"type\":\"FactorRange\"},{\"attributes\":{\"fill_color\":{\"value\":\"black\"},\"top\":{\"field\":\"std\"},\"width\":{\"value\":0.8},\"x\":{\"field\":\"index\"}},\"id\":\"2837\",\"type\":\"VBar\"},{\"attributes\":{\"margin\":[5,5,5,5],\"name\":\"HSpacer03860\",\"sizing_mode\":\"stretch_width\"},\"id\":\"2799\",\"type\":\"Spacer\"},{\"attributes\":{\"fill_alpha\":{\"value\":0.1},\"fill_color\":{\"value\":\"cyan\"},\"line_alpha\":{\"value\":0.1},\"top\":{\"field\":\"std\"},\"width\":{\"value\":0.8},\"x\":{\"field\":\"index\"}},\"id\":\"2836\",\"type\":\"VBar\"},{\"attributes\":{\"active_multi\":null,\"tools\":[{\"id\":\"2802\"},{\"id\":\"2819\"},{\"id\":\"2820\"},{\"id\":\"2821\"},{\"id\":\"2822\"},{\"id\":\"2823\"}]},\"id\":\"2825\",\"type\":\"Toolbar\"},{\"attributes\":{\"data\":{\"index\":[\"USDT\",\"BTC\",\"LTC\",\"ADA\",\"DASH\",\"ZEC\",\"ETH\",\"XRP\",\"XLM\"],\"std\":{\"__ndarray__\":\"ZyOlwRDafD9Q4TX1fnnJP/zQGTtcQ8w/dTBVZkvtzD+CH9J5oM/QP4eitoB/99E/5txbtOSW1D+vbjGCWVrXP7KINWFoRxVA\",\"dtype\":\"float64\",\"order\":\"little\",\"shape\":[9]}},\"selected\":{\"id\":\"2833\"},\"selection_policy\":{\"id\":\"2857\"}},\"id\":\"2832\",\"type\":\"ColumnDataSource\"},{\"attributes\":{\"source\":{\"id\":\"2832\"}},\"id\":\"2840\",\"type\":\"CDSView\"},{\"attributes\":{\"callback\":null,\"renderers\":[{\"id\":\"2839\"}],\"tags\":[\"hv_created\"],\"tooltips\":[[\"index\",\"@{index}\"],[\"std\",\"@{std}\"]]},\"id\":\"2802\",\"type\":\"HoverTool\"},{\"attributes\":{},\"id\":\"2819\",\"type\":\"SaveTool\"},{\"attributes\":{\"fill_color\":{\"value\":\"cyan\"},\"top\":{\"field\":\"std\"},\"width\":{\"value\":0.8},\"x\":{\"field\":\"index\"}},\"id\":\"2835\",\"type\":\"VBar\"},{\"attributes\":{},\"id\":\"2844\",\"type\":\"CategoricalTickFormatter\"},{\"attributes\":{},\"id\":\"2810\",\"type\":\"LinearScale\"},{\"attributes\":{\"below\":[{\"id\":\"2812\"}],\"center\":[{\"id\":\"2814\"},{\"id\":\"2818\"}],\"height\":300,\"left\":[{\"id\":\"2815\"}],\"margin\":[5,5,5,5],\"min_border_bottom\":10,\"min_border_left\":10,\"min_border_right\":10,\"min_border_top\":10,\"renderers\":[{\"id\":\"2839\"}],\"sizing_mode\":\"fixed\",\"title\":{\"id\":\"2804\"},\"toolbar\":{\"id\":\"2825\"},\"width\":700,\"x_range\":{\"id\":\"2800\"},\"x_scale\":{\"id\":\"2808\"},\"y_range\":{\"id\":\"2801\"},\"y_scale\":{\"id\":\"2810\"}},\"id\":\"2803\",\"subtype\":\"Figure\",\"type\":\"Plot\"},{\"attributes\":{},\"id\":\"2820\",\"type\":\"PanTool\"},{\"attributes\":{},\"id\":\"2842\",\"type\":\"AllLabels\"},{\"attributes\":{},\"id\":\"2808\",\"type\":\"CategoricalScale\"},{\"attributes\":{},\"id\":\"2821\",\"type\":\"WheelZoomTool\"},{\"attributes\":{\"children\":[{\"id\":\"2799\"},{\"id\":\"2803\"},{\"id\":\"2868\"}],\"margin\":[0,0,0,0],\"name\":\"Row03856\",\"tags\":[\"embedded\"]},\"id\":\"2798\",\"type\":\"Row\"},{\"attributes\":{\"text\":\"2018 Bar: Standard Deviation of Selected Cryptocurrencies\",\"text_color\":\"black\",\"text_font_size\":\"12pt\"},\"id\":\"2804\",\"type\":\"Title\"},{\"attributes\":{\"overlay\":{\"id\":\"2824\"}},\"id\":\"2822\",\"type\":\"BoxZoomTool\"},{\"attributes\":{},\"id\":\"2847\",\"type\":\"BasicTickFormatter\"},{\"attributes\":{\"bottom\":{\"value\":0},\"fill_alpha\":{\"value\":1.0},\"fill_color\":{\"value\":\"cyan\"},\"hatch_alpha\":{\"value\":1.0},\"hatch_color\":{\"value\":\"black\"},\"hatch_scale\":{\"value\":12.0},\"hatch_weight\":{\"value\":1.0},\"line_alpha\":{\"value\":1.0},\"line_cap\":{\"value\":\"butt\"},\"line_color\":{\"value\":\"black\"},\"line_dash\":{\"value\":[]},\"line_dash_offset\":{\"value\":0},\"line_join\":{\"value\":\"bevel\"},\"line_width\":{\"value\":1},\"top\":{\"field\":\"std\"},\"width\":{\"value\":0.8},\"x\":{\"field\":\"index\"}},\"id\":\"2841\",\"type\":\"VBar\"},{\"attributes\":{\"end\":5.85100313590643,\"reset_end\":5.85100313590643,\"reset_start\":0.0,\"tags\":[[[\"std\",\"std\",null]]]},\"id\":\"2801\",\"type\":\"Range1d\"},{\"attributes\":{},\"id\":\"2823\",\"type\":\"ResetTool\"}],\"root_ids\":[\"2798\"]},\"title\":\"Bokeh Application\",\"version\":\"2.3.2\"}};\n",
       "    var render_items = [{\"docid\":\"610db213-56cc-406a-836f-06a068b6f868\",\"root_ids\":[\"2798\"],\"roots\":{\"2798\":\"7817dfb1-815e-40df-8151-eccf7de707b5\"}}];\n",
       "    root.Bokeh.embed.embed_items_notebook(docs_json, render_items);\n",
       "  }\n",
       "  if (root.Bokeh !== undefined && root.Bokeh.Panel !== undefined) {\n",
       "    embed_document(root);\n",
       "  } else {\n",
       "    var attempts = 0;\n",
       "    var timer = setInterval(function(root) {\n",
       "      if (root.Bokeh !== undefined && root.Bokeh.Panel !== undefined) {\n",
       "        clearInterval(timer);\n",
       "        embed_document(root);\n",
       "      } else if (document.readyState == \"complete\") {\n",
       "        attempts++;\n",
       "        if (attempts > 200) {\n",
       "          clearInterval(timer);\n",
       "          console.log(\"Bokeh: ERROR: Unable to run BokehJS code because BokehJS library is missing\");\n",
       "        }\n",
       "      }\n",
       "    }, 25, root)\n",
       "  }\n",
       "})(window);</script>"
      ],
      "text/plain": [
       ":Bars   [index]   (std)"
      ]
     },
     "execution_count": 141,
     "metadata": {
      "application/vnd.holoviews_exec.v0+json": {
       "id": "2798"
      }
     },
     "output_type": "execute_result"
    }
   ],
   "source": [
    "# bar chart of standard deviations of top 12 cryptocurrencies\n",
    "std_dev_series = summary_data.loc['std'].sort_values()\n",
    "std_dev_series.hvplot.bar(\n",
    "    rot = 45, \n",
    "    title = \"2018 Bar: Standard Deviation of Selected Cryptocurrencies\", \n",
    "    fill_color = 'cyan', hover_color = 'black', \n",
    "    xlabel = 'Cryptocurrencies', \n",
    "    ylabel = 'Standard Deviation')"
   ]
  },
  {
   "cell_type": "code",
   "execution_count": 142,
   "id": "5e1d2c07",
   "metadata": {},
   "outputs": [
    {
     "data": {},
     "metadata": {},
     "output_type": "display_data"
    },
    {
     "data": {
      "application/vnd.holoviews_exec.v0+json": "",
      "text/html": [
       "<div id='2920'>\n",
       "\n",
       "\n",
       "\n",
       "\n",
       "\n",
       "  <div class=\"bk-root\" id=\"bb6f4dfb-23ce-45fc-bed0-c0d086ad9748\" data-root-id=\"2920\"></div>\n",
       "</div>\n",
       "<script type=\"application/javascript\">(function(root) {\n",
       "  function embed_document(root) {\n",
       "    var docs_json = {\"726e8a8d-45e9-48c5-be10-833fbcba94e1\":{\"defs\":[{\"extends\":null,\"module\":null,\"name\":\"ReactiveHTML1\",\"overrides\":[],\"properties\":[]},{\"extends\":null,\"module\":null,\"name\":\"FlexBox1\",\"overrides\":[],\"properties\":[{\"default\":\"flex-start\",\"kind\":null,\"name\":\"align_content\"},{\"default\":\"flex-start\",\"kind\":null,\"name\":\"align_items\"},{\"default\":\"row\",\"kind\":null,\"name\":\"flex_direction\"},{\"default\":\"wrap\",\"kind\":null,\"name\":\"flex_wrap\"},{\"default\":\"flex-start\",\"kind\":null,\"name\":\"justify_content\"}]},{\"extends\":null,\"module\":null,\"name\":\"TemplateActions1\",\"overrides\":[],\"properties\":[{\"default\":0,\"kind\":null,\"name\":\"open_modal\"},{\"default\":0,\"kind\":null,\"name\":\"close_modal\"}]},{\"extends\":null,\"module\":null,\"name\":\"MaterialTemplateActions1\",\"overrides\":[],\"properties\":[{\"default\":0,\"kind\":null,\"name\":\"open_modal\"},{\"default\":0,\"kind\":null,\"name\":\"close_modal\"}]}],\"roots\":{\"references\":[{\"attributes\":{},\"id\":\"2941\",\"type\":\"PanTool\"},{\"attributes\":{},\"id\":\"2942\",\"type\":\"WheelZoomTool\"},{\"attributes\":{\"factors\":[\"std\"],\"tags\":[[[\"columns\",\"columns\",null]]]},\"id\":\"2922\",\"type\":\"FactorRange\"},{\"attributes\":{},\"id\":\"2930\",\"type\":\"CategoricalScale\"},{\"attributes\":{\"overlay\":{\"id\":\"2945\"}},\"id\":\"2943\",\"type\":\"BoxZoomTool\"},{\"attributes\":{\"below\":[{\"id\":\"2934\"}],\"center\":[{\"id\":\"2936\"},{\"id\":\"2939\"}],\"height\":300,\"left\":[{\"id\":\"2937\"}],\"margin\":[5,5,5,5],\"min_border_bottom\":10,\"min_border_left\":10,\"min_border_right\":10,\"min_border_top\":10,\"renderers\":[{\"id\":\"2961\"}],\"right\":[{\"id\":\"2964\"}],\"sizing_mode\":\"fixed\",\"title\":{\"id\":\"2926\"},\"toolbar\":{\"id\":\"2946\"},\"width\":700,\"x_range\":{\"id\":\"2922\"},\"x_scale\":{\"id\":\"2930\"},\"y_range\":{\"id\":\"2923\"},\"y_scale\":{\"id\":\"2932\"}},\"id\":\"2925\",\"subtype\":\"Figure\",\"type\":\"Plot\"},{\"attributes\":{},\"id\":\"2955\",\"type\":\"Selection\"},{\"attributes\":{\"children\":[{\"id\":\"2921\"},{\"id\":\"2925\"},{\"id\":\"2993\"}],\"margin\":[0,0,0,0],\"name\":\"Row03987\",\"tags\":[\"embedded\"]},\"id\":\"2920\",\"type\":\"Row\"},{\"attributes\":{},\"id\":\"2967\",\"type\":\"CategoricalTickFormatter\"},{\"attributes\":{\"axis_label\":\"\",\"formatter\":{\"id\":\"2967\"},\"major_label_policy\":{\"id\":\"2965\"},\"ticker\":{\"id\":\"2935\"}},\"id\":\"2934\",\"type\":\"CategoricalAxis\"},{\"attributes\":{},\"id\":\"2968\",\"type\":\"AllLabels\"},{\"attributes\":{},\"id\":\"2944\",\"type\":\"ResetTool\"},{\"attributes\":{},\"id\":\"2932\",\"type\":\"CategoricalScale\"},{\"attributes\":{},\"id\":\"2935\",\"type\":\"CategoricalTicker\"},{\"attributes\":{},\"id\":\"2970\",\"type\":\"CategoricalTickFormatter\"},{\"attributes\":{\"axis\":{\"id\":\"2937\"},\"dimension\":1,\"grid_line_color\":null,\"ticker\":null},\"id\":\"2939\",\"type\":\"Grid\"},{\"attributes\":{\"margin\":[5,5,5,5],\"name\":\"HSpacer03991\",\"sizing_mode\":\"stretch_width\"},\"id\":\"2921\",\"type\":\"Spacer\"},{\"attributes\":{\"text\":\"2018 Heatmap: Standard Deviation of Selected Cryptocurrencies\",\"text_color\":\"black\",\"text_font_size\":\"12pt\"},\"id\":\"2926\",\"type\":\"Title\"},{\"attributes\":{\"fill_color\":{\"field\":\"zvalues\",\"transform\":{\"id\":\"2953\"}},\"height\":{\"value\":1},\"line_alpha\":{\"value\":0},\"line_color\":{\"value\":\"#1f77b4\"},\"width\":{\"value\":1},\"x\":{\"field\":\"columns\"},\"y\":{\"field\":\"index\"}},\"id\":\"2957\",\"type\":\"Rect\"},{\"attributes\":{\"axis\":{\"id\":\"2934\"},\"grid_line_color\":null,\"ticker\":null},\"id\":\"2936\",\"type\":\"Grid\"},{\"attributes\":{\"fill_color\":{\"field\":\"zvalues\",\"transform\":{\"id\":\"2953\"}},\"height\":{\"value\":1},\"line_alpha\":{\"value\":0},\"line_color\":{\"value\":\"#1f77b4\"},\"width\":{\"value\":1},\"x\":{\"field\":\"columns\"},\"y\":{\"field\":\"index\"}},\"id\":\"2959\",\"type\":\"Rect\"},{\"attributes\":{},\"id\":\"2963\",\"type\":\"BasicTicker\"},{\"attributes\":{},\"id\":\"2938\",\"type\":\"CategoricalTicker\"},{\"attributes\":{\"axis_label\":\"Cryptocurrency\",\"formatter\":{\"id\":\"2970\"},\"major_label_policy\":{\"id\":\"2968\"},\"ticker\":{\"id\":\"2938\"}},\"id\":\"2937\",\"type\":\"CategoricalAxis\"},{\"attributes\":{},\"id\":\"2972\",\"type\":\"NoOverlap\"},{\"attributes\":{\"fill_color\":{\"value\":\"orange\"},\"height\":{\"value\":1},\"line_alpha\":{\"value\":0},\"line_color\":{\"value\":\"orange\"},\"width\":{\"value\":1},\"x\":{\"field\":\"columns\"},\"y\":{\"field\":\"index\"}},\"id\":\"2960\",\"type\":\"Rect\"},{\"attributes\":{\"high\":5.319734114544348,\"low\":0.007043900923528002,\"nan_color\":\"white\",\"palette\":[\"#b3fef5\",\"#b0fef5\",\"#adfdf5\",\"#a9fcf5\",\"#a6fbf6\",\"#a3faf6\",\"#a0faf6\",\"#9df9f6\",\"#9af8f6\",\"#97f7f6\",\"#93f7f6\",\"#90f6f6\",\"#8df5f6\",\"#8af4f7\",\"#87f3f7\",\"#83f2f7\",\"#80f2f7\",\"#7df1f7\",\"#79f0f7\",\"#76eff7\",\"#73eef7\",\"#6fedf8\",\"#6cecf8\",\"#68ecf8\",\"#65ebf8\",\"#61eaf8\",\"#5ee9f8\",\"#5ae8f8\",\"#57e7f8\",\"#53e6f8\",\"#50e5f9\",\"#4ce4f9\",\"#49e3f9\",\"#45e2f9\",\"#42e1f9\",\"#3ee0f9\",\"#3bdff9\",\"#38def9\",\"#35ddf9\",\"#32dcf9\",\"#30dbfa\",\"#2ed9fa\",\"#2dd8fa\",\"#2cd7fa\",\"#2bd6fa\",\"#2bd5fa\",\"#2ad3fa\",\"#2ad2fa\",\"#29d1fa\",\"#29d0fb\",\"#29cffb\",\"#28cdfb\",\"#28ccfb\",\"#28cbfb\",\"#28cafb\",\"#28c8fb\",\"#28c7fb\",\"#29c6fb\",\"#29c5fb\",\"#29c4fb\",\"#29c2fb\",\"#2ac1fb\",\"#2ac0fb\",\"#2bbffb\",\"#2bbdfc\",\"#2cbcfc\",\"#2dbbfc\",\"#2db9fc\",\"#2eb8fc\",\"#2fb7fc\",\"#2fb6fc\",\"#30b4fc\",\"#31b3fc\",\"#32b2fc\",\"#32b0fc\",\"#33affc\",\"#33aefc\",\"#34adfc\",\"#34abfc\",\"#34aafc\",\"#35a9fc\",\"#35a8fc\",\"#35a6fc\",\"#35a5fc\",\"#35a4fc\",\"#35a3fc\",\"#35a1fc\",\"#35a0fc\",\"#359ffc\",\"#359dfc\",\"#359cfc\",\"#359bfc\",\"#349afd\",\"#3498fd\",\"#3497fd\",\"#3396fd\",\"#3395fd\",\"#3293fd\",\"#3292fd\",\"#3191fd\",\"#3090fd\",\"#308ffd\",\"#2f8dfd\",\"#2f8cfd\",\"#2e8bfd\",\"#2e8afd\",\"#2d88fd\",\"#2d87fd\",\"#2c86fd\",\"#2c84fd\",\"#2c83fd\",\"#2c82fd\",\"#2b81fd\",\"#2b7ffd\",\"#2b7efd\",\"#2b7dfd\",\"#2b7bfd\",\"#2b7afd\",\"#2b79fd\",\"#2b77fd\",\"#2b76fd\",\"#2b75fd\",\"#2b73fd\",\"#2c72fd\",\"#2c71fd\",\"#2c6ffd\",\"#2c6efd\",\"#2d6cfd\",\"#2d6bfd\",\"#2d6afc\",\"#2e68fc\",\"#2e67fc\",\"#2e65fc\",\"#2e64fc\",\"#2f62fc\",\"#2f61fc\",\"#2f5ffc\",\"#2f5efc\",\"#2f5dfc\",\"#2f5bfc\",\"#2f5afc\",\"#2f58fb\",\"#2f57fb\",\"#2f55fb\",\"#2f53fb\",\"#2f52fb\",\"#2f50fb\",\"#2f4ffb\",\"#2f4dfb\",\"#2e4cfb\",\"#2e4afb\",\"#2e48fb\",\"#2e47fa\",\"#2d45fa\",\"#2d43fa\",\"#2d42fa\",\"#2d40fa\",\"#2c3efa\",\"#2c3dfa\",\"#2b3bf9\",\"#2b39f9\",\"#2a37f9\",\"#2a36f8\",\"#2934f8\",\"#2832f7\",\"#2831f7\",\"#272ff6\",\"#262ef5\",\"#252cf5\",\"#252af4\",\"#2429f3\",\"#2327f2\",\"#2226f1\",\"#2124f0\",\"#2023ef\",\"#1f22ee\",\"#1e20ed\",\"#1d1feb\",\"#1c1eea\",\"#1b1ce9\",\"#1a1be7\",\"#181ae6\",\"#1719e5\",\"#1618e3\",\"#1417e1\",\"#1316e0\",\"#1215de\",\"#1014dc\",\"#0f13db\",\"#0e12d9\",\"#0d11d7\",\"#0c10d5\",\"#0b0fd3\",\"#0a0ed1\",\"#090dd0\",\"#080dce\",\"#080ccc\",\"#070bca\",\"#070ac8\",\"#0709c6\",\"#0708c4\",\"#0707c2\",\"#0707bf\",\"#0806bd\",\"#0806bb\",\"#0905b9\",\"#0904b7\",\"#0a04b5\",\"#0a04b2\",\"#0b03b0\",\"#0c03ae\",\"#0d02ab\",\"#0e02a9\",\"#0e02a7\",\"#0f02a4\",\"#0f01a2\",\"#1001a0\",\"#10019d\",\"#10019b\",\"#100199\",\"#100197\",\"#100194\",\"#0f0192\",\"#0f0190\",\"#0f018e\",\"#0e018b\",\"#0e0189\",\"#0d0187\",\"#0d0185\",\"#0c0183\",\"#0b0181\",\"#0b017e\",\"#0a017c\",\"#09017a\",\"#090178\",\"#080276\",\"#070274\",\"#060272\",\"#060270\",\"#05026e\",\"#04026c\",\"#030269\",\"#030267\",\"#020265\",\"#010263\",\"#010261\",\"#00025f\",\"#00025d\",\"#00025b\",\"#000259\",\"#000257\",\"#000255\",\"#000154\",\"#000152\",\"#000150\",\"#00004e\"]},\"id\":\"2953\",\"type\":\"LinearColorMapper\"},{\"attributes\":{},\"id\":\"2981\",\"type\":\"UnionRenderers\"},{\"attributes\":{\"data\":{\"columns\":[\"std\",\"std\",\"std\",\"std\",\"std\",\"std\",\"std\",\"std\",\"std\"],\"index\":[\"USDT\",\"BTC\",\"LTC\",\"ADA\",\"DASH\",\"ZEC\",\"ETH\",\"XRP\",\"XLM\"],\"value\":[\"0.0070439\",\"0.19902\",\"0.22081\",\"0.22599\",\"0.26267\",\"0.28073\",\"0.32171\",\"0.36489\",\"5.3197\"],\"zvalues\":{\"__ndarray__\":\"ZyOlwRDafD9Q4TX1fnnJP/zQGTtcQ8w/dTBVZkvtzD+CH9J5oM/QP4eitoB/99E/5txbtOSW1D+vbjGCWVrXP7KINWFoRxVA\",\"dtype\":\"float64\",\"order\":\"little\",\"shape\":[9]}},\"selected\":{\"id\":\"2955\"},\"selection_policy\":{\"id\":\"2981\"}},\"id\":\"2954\",\"type\":\"ColumnDataSource\"},{\"attributes\":{\"fill_alpha\":{\"value\":0.1},\"fill_color\":{\"field\":\"zvalues\",\"transform\":{\"id\":\"2953\"}},\"height\":{\"value\":1},\"line_alpha\":{\"value\":0},\"line_color\":{\"value\":\"#1f77b4\"},\"width\":{\"value\":1},\"x\":{\"field\":\"columns\"},\"y\":{\"field\":\"index\"}},\"id\":\"2958\",\"type\":\"Rect\"},{\"attributes\":{\"bottom_units\":\"screen\",\"fill_alpha\":0.5,\"fill_color\":\"lightgrey\",\"left_units\":\"screen\",\"level\":\"overlay\",\"line_alpha\":1.0,\"line_color\":\"black\",\"line_dash\":[4,4],\"line_width\":2,\"right_units\":\"screen\",\"syncable\":false,\"top_units\":\"screen\"},\"id\":\"2945\",\"type\":\"BoxAnnotation\"},{\"attributes\":{\"margin\":[5,5,5,5],\"name\":\"HSpacer03992\",\"sizing_mode\":\"stretch_width\"},\"id\":\"2993\",\"type\":\"Spacer\"},{\"attributes\":{\"factors\":[\"USDT\",\"BTC\",\"LTC\",\"ADA\",\"DASH\",\"ZEC\",\"ETH\",\"XRP\",\"XLM\"],\"tags\":[[[\"index\",\"index\",null]]]},\"id\":\"2923\",\"type\":\"FactorRange\"},{\"attributes\":{\"data_source\":{\"id\":\"2954\"},\"glyph\":{\"id\":\"2957\"},\"hover_glyph\":{\"id\":\"2960\"},\"muted_glyph\":null,\"nonselection_glyph\":{\"id\":\"2958\"},\"selection_glyph\":{\"id\":\"2959\"},\"view\":{\"id\":\"2962\"}},\"id\":\"2961\",\"type\":\"GlyphRenderer\"},{\"attributes\":{\"callback\":null,\"renderers\":[{\"id\":\"2961\"}],\"tags\":[\"hv_created\"],\"tooltips\":[[\"columns\",\"@{columns}\"],[\"index\",\"@{index}\"],[\"value\",\"@{value}\"]]},\"id\":\"2924\",\"type\":\"HoverTool\"},{\"attributes\":{\"active_multi\":null,\"tools\":[{\"id\":\"2924\"},{\"id\":\"2940\"},{\"id\":\"2941\"},{\"id\":\"2942\"},{\"id\":\"2943\"},{\"id\":\"2944\"}]},\"id\":\"2946\",\"type\":\"Toolbar\"},{\"attributes\":{},\"id\":\"2965\",\"type\":\"AllLabels\"},{\"attributes\":{\"source\":{\"id\":\"2954\"}},\"id\":\"2962\",\"type\":\"CDSView\"},{\"attributes\":{},\"id\":\"2940\",\"type\":\"SaveTool\"},{\"attributes\":{\"bar_line_color\":\"black\",\"color_mapper\":{\"id\":\"2953\"},\"label_standoff\":8,\"location\":[0,0],\"major_label_policy\":{\"id\":\"2972\"},\"major_tick_line_color\":\"black\",\"ticker\":{\"id\":\"2963\"}},\"id\":\"2964\",\"type\":\"ColorBar\"}],\"root_ids\":[\"2920\"]},\"title\":\"Bokeh Application\",\"version\":\"2.3.2\"}};\n",
       "    var render_items = [{\"docid\":\"726e8a8d-45e9-48c5-be10-833fbcba94e1\",\"root_ids\":[\"2920\"],\"roots\":{\"2920\":\"bb6f4dfb-23ce-45fc-bed0-c0d086ad9748\"}}];\n",
       "    root.Bokeh.embed.embed_items_notebook(docs_json, render_items);\n",
       "  }\n",
       "  if (root.Bokeh !== undefined && root.Bokeh.Panel !== undefined) {\n",
       "    embed_document(root);\n",
       "  } else {\n",
       "    var attempts = 0;\n",
       "    var timer = setInterval(function(root) {\n",
       "      if (root.Bokeh !== undefined && root.Bokeh.Panel !== undefined) {\n",
       "        clearInterval(timer);\n",
       "        embed_document(root);\n",
       "      } else if (document.readyState == \"complete\") {\n",
       "        attempts++;\n",
       "        if (attempts > 200) {\n",
       "          clearInterval(timer);\n",
       "          console.log(\"Bokeh: ERROR: Unable to run BokehJS code because BokehJS library is missing\");\n",
       "        }\n",
       "      }\n",
       "    }, 25, root)\n",
       "  }\n",
       "})(window);</script>"
      ],
      "text/plain": [
       ":HeatMap   [columns,index]   (value)"
      ]
     },
     "execution_count": 142,
     "metadata": {
      "application/vnd.holoviews_exec.v0+json": {
       "id": "2920"
      }
     },
     "output_type": "execute_result"
    }
   ],
   "source": [
    "# bar chart of standard deviations of top 12 cryptocurrencies\n",
    "std_dev_series = summary_data.loc['std'].sort_values()\n",
    "std_dev_series.hvplot.heatmap(\n",
    "    title = \"2018 Heatmap: Standard Deviation of Selected Cryptocurrencies\", \n",
    "    fill_color = 'cyan', hover_color = 'orange', ylabel = 'Cryptocurrency')"
   ]
  },
  {
   "cell_type": "code",
   "execution_count": 143,
   "id": "b7c3cd0e",
   "metadata": {},
   "outputs": [
    {
     "data": {},
     "metadata": {},
     "output_type": "display_data"
    },
    {
     "data": {
      "application/vnd.holoviews_exec.v0+json": "",
      "text/html": [
       "<div id='3050'>\n",
       "\n",
       "\n",
       "\n",
       "\n",
       "\n",
       "  <div class=\"bk-root\" id=\"842b0086-5675-4624-b047-2e7bd6fc77d9\" data-root-id=\"3050\"></div>\n",
       "</div>\n",
       "<script type=\"application/javascript\">(function(root) {\n",
       "  function embed_document(root) {\n",
       "    var docs_json = {\"5f5b9481-827d-4401-87af-1745b07a80f5\":{\"defs\":[{\"extends\":null,\"module\":null,\"name\":\"ReactiveHTML1\",\"overrides\":[],\"properties\":[]},{\"extends\":null,\"module\":null,\"name\":\"FlexBox1\",\"overrides\":[],\"properties\":[{\"default\":\"flex-start\",\"kind\":null,\"name\":\"align_content\"},{\"default\":\"flex-start\",\"kind\":null,\"name\":\"align_items\"},{\"default\":\"row\",\"kind\":null,\"name\":\"flex_direction\"},{\"default\":\"wrap\",\"kind\":null,\"name\":\"flex_wrap\"},{\"default\":\"flex-start\",\"kind\":null,\"name\":\"justify_content\"}]},{\"extends\":null,\"module\":null,\"name\":\"TemplateActions1\",\"overrides\":[],\"properties\":[{\"default\":0,\"kind\":null,\"name\":\"open_modal\"},{\"default\":0,\"kind\":null,\"name\":\"close_modal\"}]},{\"extends\":null,\"module\":null,\"name\":\"MaterialTemplateActions1\",\"overrides\":[],\"properties\":[{\"default\":0,\"kind\":null,\"name\":\"open_modal\"},{\"default\":0,\"kind\":null,\"name\":\"close_modal\"}]}],\"roots\":{\"references\":[{\"attributes\":{\"fill_alpha\":{\"value\":0.1},\"fill_color\":{\"value\":\"cyan\"},\"line_alpha\":{\"value\":0.1},\"top\":{\"field\":\"beta\"},\"width\":{\"value\":0.8},\"x\":{\"field\":\"index\"}},\"id\":\"3088\",\"type\":\"VBar\"},{\"attributes\":{},\"id\":\"3062\",\"type\":\"LinearScale\"},{\"attributes\":{\"axis\":{\"id\":\"3067\"},\"dimension\":1,\"grid_line_color\":null,\"ticker\":null},\"id\":\"3070\",\"type\":\"Grid\"},{\"attributes\":{\"callback\":null,\"renderers\":[{\"id\":\"3091\"}],\"tags\":[\"hv_created\"],\"tooltips\":[[\"index\",\"@{index}\"],[\"beta\",\"@{beta}\"]]},\"id\":\"3054\",\"type\":\"HoverTool\"},{\"attributes\":{},\"id\":\"3085\",\"type\":\"Selection\"},{\"attributes\":{\"margin\":[5,5,5,5],\"name\":\"HSpacer04168\",\"sizing_mode\":\"stretch_width\"},\"id\":\"3051\",\"type\":\"Spacer\"},{\"attributes\":{},\"id\":\"3068\",\"type\":\"BasicTicker\"},{\"attributes\":{\"axis_label\":\"Beta Value\",\"formatter\":{\"id\":\"3099\"},\"major_label_policy\":{\"id\":\"3097\"},\"ticker\":{\"id\":\"3068\"}},\"id\":\"3067\",\"type\":\"LinearAxis\"},{\"attributes\":{\"end\":5.858784794606295,\"reset_end\":5.858784794606295,\"reset_start\":0.0,\"tags\":[[[\"beta\",\"beta\",null]]]},\"id\":\"3053\",\"type\":\"Range1d\"},{\"attributes\":{\"fill_alpha\":{\"value\":0.2},\"fill_color\":{\"value\":\"cyan\"},\"line_alpha\":{\"value\":0.2},\"top\":{\"field\":\"beta\"},\"width\":{\"value\":0.8},\"x\":{\"field\":\"index\"}},\"id\":\"3090\",\"type\":\"VBar\"},{\"attributes\":{\"fill_color\":{\"value\":\"black\"},\"top\":{\"field\":\"beta\"},\"width\":{\"value\":0.8},\"x\":{\"field\":\"index\"}},\"id\":\"3089\",\"type\":\"VBar\"},{\"attributes\":{\"bottom_units\":\"screen\",\"fill_alpha\":0.5,\"fill_color\":\"lightgrey\",\"left_units\":\"screen\",\"level\":\"overlay\",\"line_alpha\":1.0,\"line_color\":\"black\",\"line_dash\":[4,4],\"line_width\":2,\"right_units\":\"screen\",\"syncable\":false,\"top_units\":\"screen\"},\"id\":\"3076\",\"type\":\"BoxAnnotation\"},{\"attributes\":{\"data_source\":{\"id\":\"3084\"},\"glyph\":{\"id\":\"3087\"},\"hover_glyph\":{\"id\":\"3089\"},\"muted_glyph\":{\"id\":\"3090\"},\"nonselection_glyph\":{\"id\":\"3088\"},\"selection_glyph\":{\"id\":\"3093\"},\"view\":{\"id\":\"3092\"}},\"id\":\"3091\",\"type\":\"GlyphRenderer\"},{\"attributes\":{\"active_multi\":null,\"tools\":[{\"id\":\"3054\"},{\"id\":\"3071\"},{\"id\":\"3072\"},{\"id\":\"3073\"},{\"id\":\"3074\"},{\"id\":\"3075\"}]},\"id\":\"3077\",\"type\":\"Toolbar\"},{\"attributes\":{\"bottom\":{\"value\":0},\"fill_alpha\":{\"value\":1.0},\"fill_color\":{\"value\":\"cyan\"},\"hatch_alpha\":{\"value\":1.0},\"hatch_color\":{\"value\":\"black\"},\"hatch_scale\":{\"value\":12.0},\"hatch_weight\":{\"value\":1.0},\"line_alpha\":{\"value\":1.0},\"line_cap\":{\"value\":\"butt\"},\"line_color\":{\"value\":\"black\"},\"line_dash\":{\"value\":[]},\"line_dash_offset\":{\"value\":0},\"line_join\":{\"value\":\"bevel\"},\"line_width\":{\"value\":1},\"top\":{\"field\":\"beta\"},\"width\":{\"value\":0.8},\"x\":{\"field\":\"index\"}},\"id\":\"3093\",\"type\":\"VBar\"},{\"attributes\":{},\"id\":\"3071\",\"type\":\"SaveTool\"},{\"attributes\":{\"below\":[{\"id\":\"3064\"}],\"center\":[{\"id\":\"3066\"},{\"id\":\"3070\"}],\"height\":300,\"left\":[{\"id\":\"3067\"}],\"margin\":[5,5,5,5],\"min_border_bottom\":10,\"min_border_left\":10,\"min_border_right\":10,\"min_border_top\":10,\"renderers\":[{\"id\":\"3091\"}],\"sizing_mode\":\"fixed\",\"title\":{\"id\":\"3056\"},\"toolbar\":{\"id\":\"3077\"},\"width\":700,\"x_range\":{\"id\":\"3052\"},\"x_scale\":{\"id\":\"3060\"},\"y_range\":{\"id\":\"3053\"},\"y_scale\":{\"id\":\"3062\"}},\"id\":\"3055\",\"subtype\":\"Figure\",\"type\":\"Plot\"},{\"attributes\":{},\"id\":\"3072\",\"type\":\"PanTool\"},{\"attributes\":{},\"id\":\"3096\",\"type\":\"CategoricalTickFormatter\"},{\"attributes\":{},\"id\":\"3073\",\"type\":\"WheelZoomTool\"},{\"attributes\":{\"fill_color\":{\"value\":\"cyan\"},\"top\":{\"field\":\"beta\"},\"width\":{\"value\":0.8},\"x\":{\"field\":\"index\"}},\"id\":\"3087\",\"type\":\"VBar\"},{\"attributes\":{\"overlay\":{\"id\":\"3076\"}},\"id\":\"3074\",\"type\":\"BoxZoomTool\"},{\"attributes\":{\"data\":{\"beta\":{\"__ndarray__\":\"MUnc/DOgiD8nzT8QR6boP4O/6/uk3+0/BWqKBqs68T+lz8sHLobyP0Czf2fEtfQ/8gOwAAT29D//n5+JHU8VQA==\",\"dtype\":\"float64\",\"order\":\"little\",\"shape\":[8]},\"index\":[\"DASH\",\"USDT\",\"LTC\",\"XRP\",\"ADA\",\"ZEC\",\"ETH\",\"XLM\"]},\"selected\":{\"id\":\"3085\"},\"selection_policy\":{\"id\":\"3109\"}},\"id\":\"3084\",\"type\":\"ColumnDataSource\"},{\"attributes\":{},\"id\":\"3060\",\"type\":\"CategoricalScale\"},{\"attributes\":{\"source\":{\"id\":\"3084\"}},\"id\":\"3092\",\"type\":\"CDSView\"},{\"attributes\":{},\"id\":\"3094\",\"type\":\"AllLabels\"},{\"attributes\":{},\"id\":\"3109\",\"type\":\"UnionRenderers\"},{\"attributes\":{\"margin\":[5,5,5,5],\"name\":\"HSpacer04169\",\"sizing_mode\":\"stretch_width\"},\"id\":\"3120\",\"type\":\"Spacer\"},{\"attributes\":{\"factors\":[\"DASH\",\"USDT\",\"LTC\",\"XRP\",\"ADA\",\"ZEC\",\"ETH\",\"XLM\"],\"tags\":[[[\"index\",\"index\",null]]]},\"id\":\"3052\",\"type\":\"FactorRange\"},{\"attributes\":{\"text\":\"2018 Bar: Beta relative to Bitcoin\",\"text_color\":\"black\",\"text_font_size\":\"12pt\"},\"id\":\"3056\",\"type\":\"Title\"},{\"attributes\":{},\"id\":\"3075\",\"type\":\"ResetTool\"},{\"attributes\":{},\"id\":\"3065\",\"type\":\"CategoricalTicker\"},{\"attributes\":{},\"id\":\"3099\",\"type\":\"BasicTickFormatter\"},{\"attributes\":{\"axis\":{\"id\":\"3064\"},\"grid_line_color\":null,\"ticker\":null},\"id\":\"3066\",\"type\":\"Grid\"},{\"attributes\":{},\"id\":\"3097\",\"type\":\"AllLabels\"},{\"attributes\":{\"axis_label\":\"Cryptocurrency\",\"formatter\":{\"id\":\"3096\"},\"major_label_policy\":{\"id\":\"3094\"},\"ticker\":{\"id\":\"3065\"}},\"id\":\"3064\",\"type\":\"CategoricalAxis\"},{\"attributes\":{\"children\":[{\"id\":\"3051\"},{\"id\":\"3055\"},{\"id\":\"3120\"}],\"margin\":[0,0,0,0],\"name\":\"Row04164\",\"tags\":[\"embedded\"]},\"id\":\"3050\",\"type\":\"Row\"}],\"root_ids\":[\"3050\"]},\"title\":\"Bokeh Application\",\"version\":\"2.3.2\"}};\n",
       "    var render_items = [{\"docid\":\"5f5b9481-827d-4401-87af-1745b07a80f5\",\"root_ids\":[\"3050\"],\"roots\":{\"3050\":\"842b0086-5675-4624-b047-2e7bd6fc77d9\"}}];\n",
       "    root.Bokeh.embed.embed_items_notebook(docs_json, render_items);\n",
       "  }\n",
       "  if (root.Bokeh !== undefined && root.Bokeh.Panel !== undefined) {\n",
       "    embed_document(root);\n",
       "  } else {\n",
       "    var attempts = 0;\n",
       "    var timer = setInterval(function(root) {\n",
       "      if (root.Bokeh !== undefined && root.Bokeh.Panel !== undefined) {\n",
       "        clearInterval(timer);\n",
       "        embed_document(root);\n",
       "      } else if (document.readyState == \"complete\") {\n",
       "        attempts++;\n",
       "        if (attempts > 200) {\n",
       "          clearInterval(timer);\n",
       "          console.log(\"Bokeh: ERROR: Unable to run BokehJS code because BokehJS library is missing\");\n",
       "        }\n",
       "      }\n",
       "    }, 25, root)\n",
       "  }\n",
       "})(window);</script>"
      ],
      "text/plain": [
       ":Bars   [index]   (beta)"
      ]
     },
     "execution_count": 143,
     "metadata": {
      "application/vnd.holoviews_exec.v0+json": {
       "id": "3050"
      }
     },
     "output_type": "execute_result"
    }
   ],
   "source": [
    "# making a beta series without btc so it doesn;t mess up the plots\n",
    "beta_exc_btc = summary_data.iloc[8, 1:].sort_values()\n",
    "type(beta_exc_btc)\n",
    "\n",
    "beta_exc_btc.hvplot.bar(\n",
    "    title = '2018 Bar: Beta relative to Bitcoin', \n",
    "    fill_color = 'cyan', hover_color = 'black',\n",
    "    xlabel = 'Cryptocurrency',\n",
    "    ylabel = 'Beta Value'\n",
    ")"
   ]
  },
  {
   "cell_type": "code",
   "execution_count": 144,
   "id": "09f55e86",
   "metadata": {},
   "outputs": [
    {
     "data": {},
     "metadata": {},
     "output_type": "display_data"
    },
    {
     "data": {
      "application/vnd.holoviews_exec.v0+json": "",
      "text/html": [
       "<div id='3172'>\n",
       "\n",
       "\n",
       "\n",
       "\n",
       "\n",
       "  <div class=\"bk-root\" id=\"7018adf4-8a64-4663-be22-779397510a8b\" data-root-id=\"3172\"></div>\n",
       "</div>\n",
       "<script type=\"application/javascript\">(function(root) {\n",
       "  function embed_document(root) {\n",
       "    var docs_json = {\"ac085cd7-f7a4-4691-bad8-cc42b7fd8172\":{\"defs\":[{\"extends\":null,\"module\":null,\"name\":\"ReactiveHTML1\",\"overrides\":[],\"properties\":[]},{\"extends\":null,\"module\":null,\"name\":\"FlexBox1\",\"overrides\":[],\"properties\":[{\"default\":\"flex-start\",\"kind\":null,\"name\":\"align_content\"},{\"default\":\"flex-start\",\"kind\":null,\"name\":\"align_items\"},{\"default\":\"row\",\"kind\":null,\"name\":\"flex_direction\"},{\"default\":\"wrap\",\"kind\":null,\"name\":\"flex_wrap\"},{\"default\":\"flex-start\",\"kind\":null,\"name\":\"justify_content\"}]},{\"extends\":null,\"module\":null,\"name\":\"TemplateActions1\",\"overrides\":[],\"properties\":[{\"default\":0,\"kind\":null,\"name\":\"open_modal\"},{\"default\":0,\"kind\":null,\"name\":\"close_modal\"}]},{\"extends\":null,\"module\":null,\"name\":\"MaterialTemplateActions1\",\"overrides\":[],\"properties\":[{\"default\":0,\"kind\":null,\"name\":\"open_modal\"},{\"default\":0,\"kind\":null,\"name\":\"close_modal\"}]}],\"roots\":{\"references\":[{\"attributes\":{},\"id\":\"3217\",\"type\":\"AllLabels\"},{\"attributes\":{\"active_multi\":null,\"tools\":[{\"id\":\"3176\"},{\"id\":\"3192\"},{\"id\":\"3193\"},{\"id\":\"3194\"},{\"id\":\"3195\"},{\"id\":\"3196\"}]},\"id\":\"3198\",\"type\":\"Toolbar\"},{\"attributes\":{\"high\":5.327261114471184,\"low\":0.012024313120069326,\"nan_color\":\"white\",\"palette\":[\"#b3fef5\",\"#b0fef5\",\"#adfdf5\",\"#a9fcf5\",\"#a6fbf6\",\"#a3faf6\",\"#a0faf6\",\"#9df9f6\",\"#9af8f6\",\"#97f7f6\",\"#93f7f6\",\"#90f6f6\",\"#8df5f6\",\"#8af4f7\",\"#87f3f7\",\"#83f2f7\",\"#80f2f7\",\"#7df1f7\",\"#79f0f7\",\"#76eff7\",\"#73eef7\",\"#6fedf8\",\"#6cecf8\",\"#68ecf8\",\"#65ebf8\",\"#61eaf8\",\"#5ee9f8\",\"#5ae8f8\",\"#57e7f8\",\"#53e6f8\",\"#50e5f9\",\"#4ce4f9\",\"#49e3f9\",\"#45e2f9\",\"#42e1f9\",\"#3ee0f9\",\"#3bdff9\",\"#38def9\",\"#35ddf9\",\"#32dcf9\",\"#30dbfa\",\"#2ed9fa\",\"#2dd8fa\",\"#2cd7fa\",\"#2bd6fa\",\"#2bd5fa\",\"#2ad3fa\",\"#2ad2fa\",\"#29d1fa\",\"#29d0fb\",\"#29cffb\",\"#28cdfb\",\"#28ccfb\",\"#28cbfb\",\"#28cafb\",\"#28c8fb\",\"#28c7fb\",\"#29c6fb\",\"#29c5fb\",\"#29c4fb\",\"#29c2fb\",\"#2ac1fb\",\"#2ac0fb\",\"#2bbffb\",\"#2bbdfc\",\"#2cbcfc\",\"#2dbbfc\",\"#2db9fc\",\"#2eb8fc\",\"#2fb7fc\",\"#2fb6fc\",\"#30b4fc\",\"#31b3fc\",\"#32b2fc\",\"#32b0fc\",\"#33affc\",\"#33aefc\",\"#34adfc\",\"#34abfc\",\"#34aafc\",\"#35a9fc\",\"#35a8fc\",\"#35a6fc\",\"#35a5fc\",\"#35a4fc\",\"#35a3fc\",\"#35a1fc\",\"#35a0fc\",\"#359ffc\",\"#359dfc\",\"#359cfc\",\"#359bfc\",\"#349afd\",\"#3498fd\",\"#3497fd\",\"#3396fd\",\"#3395fd\",\"#3293fd\",\"#3292fd\",\"#3191fd\",\"#3090fd\",\"#308ffd\",\"#2f8dfd\",\"#2f8cfd\",\"#2e8bfd\",\"#2e8afd\",\"#2d88fd\",\"#2d87fd\",\"#2c86fd\",\"#2c84fd\",\"#2c83fd\",\"#2c82fd\",\"#2b81fd\",\"#2b7ffd\",\"#2b7efd\",\"#2b7dfd\",\"#2b7bfd\",\"#2b7afd\",\"#2b79fd\",\"#2b77fd\",\"#2b76fd\",\"#2b75fd\",\"#2b73fd\",\"#2c72fd\",\"#2c71fd\",\"#2c6ffd\",\"#2c6efd\",\"#2d6cfd\",\"#2d6bfd\",\"#2d6afc\",\"#2e68fc\",\"#2e67fc\",\"#2e65fc\",\"#2e64fc\",\"#2f62fc\",\"#2f61fc\",\"#2f5ffc\",\"#2f5efc\",\"#2f5dfc\",\"#2f5bfc\",\"#2f5afc\",\"#2f58fb\",\"#2f57fb\",\"#2f55fb\",\"#2f53fb\",\"#2f52fb\",\"#2f50fb\",\"#2f4ffb\",\"#2f4dfb\",\"#2e4cfb\",\"#2e4afb\",\"#2e48fb\",\"#2e47fa\",\"#2d45fa\",\"#2d43fa\",\"#2d42fa\",\"#2d40fa\",\"#2c3efa\",\"#2c3dfa\",\"#2b3bf9\",\"#2b39f9\",\"#2a37f9\",\"#2a36f8\",\"#2934f8\",\"#2832f7\",\"#2831f7\",\"#272ff6\",\"#262ef5\",\"#252cf5\",\"#252af4\",\"#2429f3\",\"#2327f2\",\"#2226f1\",\"#2124f0\",\"#2023ef\",\"#1f22ee\",\"#1e20ed\",\"#1d1feb\",\"#1c1eea\",\"#1b1ce9\",\"#1a1be7\",\"#181ae6\",\"#1719e5\",\"#1618e3\",\"#1417e1\",\"#1316e0\",\"#1215de\",\"#1014dc\",\"#0f13db\",\"#0e12d9\",\"#0d11d7\",\"#0c10d5\",\"#0b0fd3\",\"#0a0ed1\",\"#090dd0\",\"#080dce\",\"#080ccc\",\"#070bca\",\"#070ac8\",\"#0709c6\",\"#0708c4\",\"#0707c2\",\"#0707bf\",\"#0806bd\",\"#0806bb\",\"#0905b9\",\"#0904b7\",\"#0a04b5\",\"#0a04b2\",\"#0b03b0\",\"#0c03ae\",\"#0d02ab\",\"#0e02a9\",\"#0e02a7\",\"#0f02a4\",\"#0f01a2\",\"#1001a0\",\"#10019d\",\"#10019b\",\"#100199\",\"#100197\",\"#100194\",\"#0f0192\",\"#0f0190\",\"#0f018e\",\"#0e018b\",\"#0e0189\",\"#0d0187\",\"#0d0185\",\"#0c0183\",\"#0b0181\",\"#0b017e\",\"#0a017c\",\"#09017a\",\"#090178\",\"#080276\",\"#070274\",\"#060272\",\"#060270\",\"#05026e\",\"#04026c\",\"#030269\",\"#030267\",\"#020265\",\"#010263\",\"#010261\",\"#00025f\",\"#00025d\",\"#00025b\",\"#000259\",\"#000257\",\"#000255\",\"#000154\",\"#000152\",\"#000150\",\"#00004e\"]},\"id\":\"3205\",\"type\":\"LinearColorMapper\"},{\"attributes\":{},\"id\":\"3192\",\"type\":\"SaveTool\"},{\"attributes\":{},\"id\":\"3193\",\"type\":\"PanTool\"},{\"attributes\":{\"data_source\":{\"id\":\"3206\"},\"glyph\":{\"id\":\"3209\"},\"hover_glyph\":{\"id\":\"3212\"},\"muted_glyph\":null,\"nonselection_glyph\":{\"id\":\"3210\"},\"selection_glyph\":{\"id\":\"3211\"},\"view\":{\"id\":\"3214\"}},\"id\":\"3213\",\"type\":\"GlyphRenderer\"},{\"attributes\":{},\"id\":\"3194\",\"type\":\"WheelZoomTool\"},{\"attributes\":{},\"id\":\"3224\",\"type\":\"NoOverlap\"},{\"attributes\":{\"margin\":[5,5,5,5],\"name\":\"HSpacer04299\",\"sizing_mode\":\"stretch_width\"},\"id\":\"3173\",\"type\":\"Spacer\"},{\"attributes\":{\"below\":[{\"id\":\"3186\"}],\"center\":[{\"id\":\"3188\"},{\"id\":\"3191\"}],\"height\":300,\"left\":[{\"id\":\"3189\"}],\"margin\":[5,5,5,5],\"min_border_bottom\":10,\"min_border_left\":10,\"min_border_right\":10,\"min_border_top\":10,\"renderers\":[{\"id\":\"3213\"}],\"right\":[{\"id\":\"3216\"}],\"sizing_mode\":\"fixed\",\"title\":{\"id\":\"3178\"},\"toolbar\":{\"id\":\"3198\"},\"width\":700,\"x_range\":{\"id\":\"3174\"},\"x_scale\":{\"id\":\"3182\"},\"y_range\":{\"id\":\"3175\"},\"y_scale\":{\"id\":\"3184\"}},\"id\":\"3177\",\"subtype\":\"Figure\",\"type\":\"Plot\"},{\"attributes\":{},\"id\":\"3220\",\"type\":\"AllLabels\"},{\"attributes\":{\"overlay\":{\"id\":\"3197\"}},\"id\":\"3195\",\"type\":\"BoxZoomTool\"},{\"attributes\":{},\"id\":\"3182\",\"type\":\"CategoricalScale\"},{\"attributes\":{\"bottom_units\":\"screen\",\"fill_alpha\":0.5,\"fill_color\":\"lightgrey\",\"left_units\":\"screen\",\"level\":\"overlay\",\"line_alpha\":1.0,\"line_color\":\"black\",\"line_dash\":[4,4],\"line_width\":2,\"right_units\":\"screen\",\"syncable\":false,\"top_units\":\"screen\"},\"id\":\"3197\",\"type\":\"BoxAnnotation\"},{\"attributes\":{\"axis_label\":\"\",\"formatter\":{\"id\":\"3219\"},\"major_label_policy\":{\"id\":\"3217\"},\"ticker\":{\"id\":\"3187\"}},\"id\":\"3186\",\"type\":\"CategoricalAxis\"},{\"attributes\":{},\"id\":\"3196\",\"type\":\"ResetTool\"},{\"attributes\":{},\"id\":\"3233\",\"type\":\"UnionRenderers\"},{\"attributes\":{\"margin\":[5,5,5,5],\"name\":\"HSpacer04300\",\"sizing_mode\":\"stretch_width\"},\"id\":\"3245\",\"type\":\"Spacer\"},{\"attributes\":{\"text\":\"2020 Heatmap: Beta relative to Bitcoin\",\"text_color\":\"black\",\"text_font_size\":\"12pt\"},\"id\":\"3178\",\"type\":\"Title\"},{\"attributes\":{\"callback\":null,\"renderers\":[{\"id\":\"3213\"}],\"tags\":[\"hv_created\"],\"tooltips\":[[\"columns\",\"@{columns}\"],[\"index\",\"@{index}\"],[\"value\",\"@{value}\"]]},\"id\":\"3176\",\"type\":\"HoverTool\"},{\"attributes\":{},\"id\":\"3187\",\"type\":\"CategoricalTicker\"},{\"attributes\":{\"axis\":{\"id\":\"3189\"},\"dimension\":1,\"grid_line_color\":null,\"ticker\":null},\"id\":\"3191\",\"type\":\"Grid\"},{\"attributes\":{},\"id\":\"3184\",\"type\":\"CategoricalScale\"},{\"attributes\":{},\"id\":\"3207\",\"type\":\"Selection\"},{\"attributes\":{\"data\":{\"columns\":[\"beta\",\"beta\",\"beta\",\"beta\",\"beta\",\"beta\",\"beta\",\"beta\"],\"index\":[\"DASH\",\"USDT\",\"LTC\",\"XRP\",\"ADA\",\"ZEC\",\"ETH\",\"XLM\"],\"value\":[\"0.012024\",\"0.7703\",\"0.93355\",\"1.0768\",\"1.1578\",\"1.2944\",\"1.3101\",\"5.3273\"],\"zvalues\":{\"__ndarray__\":\"MUnc/DOgiD8nzT8QR6boP4O/6/uk3+0/BWqKBqs68T+lz8sHLobyP0Czf2fEtfQ/8gOwAAT29D//n5+JHU8VQA==\",\"dtype\":\"float64\",\"order\":\"little\",\"shape\":[8]}},\"selected\":{\"id\":\"3207\"},\"selection_policy\":{\"id\":\"3233\"}},\"id\":\"3206\",\"type\":\"ColumnDataSource\"},{\"attributes\":{\"fill_color\":{\"field\":\"zvalues\",\"transform\":{\"id\":\"3205\"}},\"height\":{\"value\":1},\"line_alpha\":{\"value\":0},\"line_color\":{\"value\":\"#1f77b4\"},\"width\":{\"value\":1},\"x\":{\"field\":\"columns\"},\"y\":{\"field\":\"index\"}},\"id\":\"3209\",\"type\":\"Rect\"},{\"attributes\":{\"factors\":[\"beta\"],\"tags\":[[[\"columns\",\"columns\",null]]]},\"id\":\"3174\",\"type\":\"FactorRange\"},{\"attributes\":{\"axis\":{\"id\":\"3186\"},\"grid_line_color\":null,\"ticker\":null},\"id\":\"3188\",\"type\":\"Grid\"},{\"attributes\":{},\"id\":\"3222\",\"type\":\"CategoricalTickFormatter\"},{\"attributes\":{\"fill_alpha\":{\"value\":0.1},\"fill_color\":{\"field\":\"zvalues\",\"transform\":{\"id\":\"3205\"}},\"height\":{\"value\":1},\"line_alpha\":{\"value\":0},\"line_color\":{\"value\":\"#1f77b4\"},\"width\":{\"value\":1},\"x\":{\"field\":\"columns\"},\"y\":{\"field\":\"index\"}},\"id\":\"3210\",\"type\":\"Rect\"},{\"attributes\":{\"factors\":[\"DASH\",\"USDT\",\"LTC\",\"XRP\",\"ADA\",\"ZEC\",\"ETH\",\"XLM\"],\"tags\":[[[\"index\",\"index\",null]]]},\"id\":\"3175\",\"type\":\"FactorRange\"},{\"attributes\":{},\"id\":\"3190\",\"type\":\"CategoricalTicker\"},{\"attributes\":{\"axis_label\":\"Cryptocurrency\",\"formatter\":{\"id\":\"3222\"},\"major_label_policy\":{\"id\":\"3220\"},\"ticker\":{\"id\":\"3190\"}},\"id\":\"3189\",\"type\":\"CategoricalAxis\"},{\"attributes\":{\"fill_color\":{\"field\":\"zvalues\",\"transform\":{\"id\":\"3205\"}},\"height\":{\"value\":1},\"line_alpha\":{\"value\":0},\"line_color\":{\"value\":\"#1f77b4\"},\"width\":{\"value\":1},\"x\":{\"field\":\"columns\"},\"y\":{\"field\":\"index\"}},\"id\":\"3211\",\"type\":\"Rect\"},{\"attributes\":{\"source\":{\"id\":\"3206\"}},\"id\":\"3214\",\"type\":\"CDSView\"},{\"attributes\":{},\"id\":\"3215\",\"type\":\"BasicTicker\"},{\"attributes\":{},\"id\":\"3219\",\"type\":\"CategoricalTickFormatter\"},{\"attributes\":{\"bar_line_color\":\"black\",\"color_mapper\":{\"id\":\"3205\"},\"label_standoff\":8,\"location\":[0,0],\"major_label_policy\":{\"id\":\"3224\"},\"major_tick_line_color\":\"black\",\"ticker\":{\"id\":\"3215\"}},\"id\":\"3216\",\"type\":\"ColorBar\"},{\"attributes\":{\"fill_color\":{\"value\":\"orange\"},\"height\":{\"value\":1},\"line_alpha\":{\"value\":0},\"line_color\":{\"value\":\"orange\"},\"width\":{\"value\":1},\"x\":{\"field\":\"columns\"},\"y\":{\"field\":\"index\"}},\"id\":\"3212\",\"type\":\"Rect\"},{\"attributes\":{\"children\":[{\"id\":\"3173\"},{\"id\":\"3177\"},{\"id\":\"3245\"}],\"margin\":[0,0,0,0],\"name\":\"Row04295\",\"tags\":[\"embedded\"]},\"id\":\"3172\",\"type\":\"Row\"}],\"root_ids\":[\"3172\"]},\"title\":\"Bokeh Application\",\"version\":\"2.3.2\"}};\n",
       "    var render_items = [{\"docid\":\"ac085cd7-f7a4-4691-bad8-cc42b7fd8172\",\"root_ids\":[\"3172\"],\"roots\":{\"3172\":\"7018adf4-8a64-4663-be22-779397510a8b\"}}];\n",
       "    root.Bokeh.embed.embed_items_notebook(docs_json, render_items);\n",
       "  }\n",
       "  if (root.Bokeh !== undefined && root.Bokeh.Panel !== undefined) {\n",
       "    embed_document(root);\n",
       "  } else {\n",
       "    var attempts = 0;\n",
       "    var timer = setInterval(function(root) {\n",
       "      if (root.Bokeh !== undefined && root.Bokeh.Panel !== undefined) {\n",
       "        clearInterval(timer);\n",
       "        embed_document(root);\n",
       "      } else if (document.readyState == \"complete\") {\n",
       "        attempts++;\n",
       "        if (attempts > 200) {\n",
       "          clearInterval(timer);\n",
       "          console.log(\"Bokeh: ERROR: Unable to run BokehJS code because BokehJS library is missing\");\n",
       "        }\n",
       "      }\n",
       "    }, 25, root)\n",
       "  }\n",
       "})(window);</script>"
      ],
      "text/plain": [
       ":HeatMap   [columns,index]   (value)"
      ]
     },
     "execution_count": 144,
     "metadata": {
      "application/vnd.holoviews_exec.v0+json": {
       "id": "3172"
      }
     },
     "output_type": "execute_result"
    }
   ],
   "source": [
    "# making a beta series without btc so it doesn;t mess up the plots\n",
    "beta_exc_btc = summary_data.iloc[8, 1:].sort_values()\n",
    "type(beta_exc_btc)\n",
    "\n",
    "beta_exc_btc.hvplot.heatmap(\n",
    "    title = \"2020 Heatmap: Beta relative to Bitcoin\", \n",
    "    fill_color = 'cyan', hover_color = 'orange', \n",
    "    ylabel = 'Cryptocurrency'\n",
    ")"
   ]
  },
  {
   "cell_type": "code",
   "execution_count": 145,
   "id": "e9710d92",
   "metadata": {},
   "outputs": [
    {
     "data": {
      "text/html": [
       "<div>\n",
       "<style scoped>\n",
       "    .dataframe tbody tr th:only-of-type {\n",
       "        vertical-align: middle;\n",
       "    }\n",
       "\n",
       "    .dataframe tbody tr th {\n",
       "        vertical-align: top;\n",
       "    }\n",
       "\n",
       "    .dataframe thead th {\n",
       "        text-align: right;\n",
       "    }\n",
       "</style>\n",
       "<table border=\"1\" class=\"dataframe\">\n",
       "  <thead>\n",
       "    <tr style=\"text-align: right;\">\n",
       "      <th></th>\n",
       "      <th>Date</th>\n",
       "      <th>Close_Monthly</th>\n",
       "    </tr>\n",
       "  </thead>\n",
       "  <tbody>\n",
       "    <tr>\n",
       "      <th>0</th>\n",
       "      <td>January</td>\n",
       "      <td>2789.80</td>\n",
       "    </tr>\n",
       "    <tr>\n",
       "      <th>1</th>\n",
       "      <td>February</td>\n",
       "      <td>2705.16</td>\n",
       "    </tr>\n",
       "    <tr>\n",
       "      <th>2</th>\n",
       "      <td>March</td>\n",
       "      <td>2702.77</td>\n",
       "    </tr>\n",
       "    <tr>\n",
       "      <th>3</th>\n",
       "      <td>April</td>\n",
       "      <td>2653.63</td>\n",
       "    </tr>\n",
       "    <tr>\n",
       "      <th>4</th>\n",
       "      <td>May</td>\n",
       "      <td>2701.49</td>\n",
       "    </tr>\n",
       "    <tr>\n",
       "      <th>5</th>\n",
       "      <td>June</td>\n",
       "      <td>2754.35</td>\n",
       "    </tr>\n",
       "    <tr>\n",
       "      <th>6</th>\n",
       "      <td>July</td>\n",
       "      <td>2793.64</td>\n",
       "    </tr>\n",
       "    <tr>\n",
       "      <th>7</th>\n",
       "      <td>August</td>\n",
       "      <td>2857.82</td>\n",
       "    </tr>\n",
       "    <tr>\n",
       "      <th>8</th>\n",
       "      <td>September</td>\n",
       "      <td>2901.50</td>\n",
       "    </tr>\n",
       "    <tr>\n",
       "      <th>9</th>\n",
       "      <td>October</td>\n",
       "      <td>2785.46</td>\n",
       "    </tr>\n",
       "    <tr>\n",
       "      <th>10</th>\n",
       "      <td>November</td>\n",
       "      <td>2723.23</td>\n",
       "    </tr>\n",
       "    <tr>\n",
       "      <th>11</th>\n",
       "      <td>December</td>\n",
       "      <td>2567.31</td>\n",
       "    </tr>\n",
       "  </tbody>\n",
       "</table>\n",
       "</div>"
      ],
      "text/plain": [
       "         Date  Close_Monthly\n",
       "0     January        2789.80\n",
       "1    February        2705.16\n",
       "2       March        2702.77\n",
       "3       April        2653.63\n",
       "4         May        2701.49\n",
       "5        June        2754.35\n",
       "6        July        2793.64\n",
       "7      August        2857.82\n",
       "8   September        2901.50\n",
       "9     October        2785.46\n",
       "10   November        2723.23\n",
       "11   December        2567.31"
      ]
     },
     "execution_count": 145,
     "metadata": {},
     "output_type": "execute_result"
    }
   ],
   "source": [
    "# reading in s&p data\n",
    "#reading in csv data\n",
    "market_2018 = pd.read_csv(\n",
    "    Path('S&P_2018_Closing_Monthly.csv'),\n",
    ")\n",
    "\n",
    "# display dataframe\n",
    "market_2018"
   ]
  },
  {
   "cell_type": "code",
   "execution_count": 157,
   "id": "5fd994c0",
   "metadata": {},
   "outputs": [
    {
     "data": {
      "text/plain": [
       "1    -0.030339\n",
       "2    -0.000883\n",
       "3    -0.018181\n",
       "4     0.018036\n",
       "5     0.019567\n",
       "6     0.014265\n",
       "7     0.022974\n",
       "8     0.015284\n",
       "9    -0.039993\n",
       "10   -0.022341\n",
       "11   -0.057256\n",
       "Name: Close_Monthly, dtype: float64"
      ]
     },
     "execution_count": 157,
     "metadata": {},
     "output_type": "execute_result"
    }
   ],
   "source": [
    "# calculate market monthly returns for 2020\n",
    "# sp_market_returns\n",
    "sp_returns = market_2018['Close_Monthly'].pct_change().dropna()\n",
    "sp_returns"
   ]
  },
  {
   "cell_type": "code",
   "execution_count": 161,
   "id": "60489869",
   "metadata": {},
   "outputs": [],
   "source": [
    "janky_monthly_returns = monthly_returns_2018[1:]\n",
    "janky_monthly_returns.reset_index(inplace= True)\n"
   ]
  },
  {
   "cell_type": "code",
   "execution_count": 199,
   "id": "0ee068c1",
   "metadata": {},
   "outputs": [
    {
     "data": {
      "text/html": [
       "<div>\n",
       "<style scoped>\n",
       "    .dataframe tbody tr th:only-of-type {\n",
       "        vertical-align: middle;\n",
       "    }\n",
       "\n",
       "    .dataframe tbody tr th {\n",
       "        vertical-align: top;\n",
       "    }\n",
       "\n",
       "    .dataframe thead th {\n",
       "        text-align: right;\n",
       "    }\n",
       "</style>\n",
       "<table border=\"1\" class=\"dataframe\">\n",
       "  <thead>\n",
       "    <tr style=\"text-align: right;\">\n",
       "      <th></th>\n",
       "      <th>Month</th>\n",
       "      <th>BTC</th>\n",
       "      <th>ETH</th>\n",
       "      <th>LTC</th>\n",
       "      <th>USDT</th>\n",
       "      <th>XLM</th>\n",
       "      <th>XRP</th>\n",
       "      <th>ZEC</th>\n",
       "      <th>DASH</th>\n",
       "      <th>ADA</th>\n",
       "    </tr>\n",
       "  </thead>\n",
       "  <tbody>\n",
       "    <tr>\n",
       "      <th>0</th>\n",
       "      <td>February</td>\n",
       "      <td>0.020630</td>\n",
       "      <td>-0.230888</td>\n",
       "      <td>0.243623</td>\n",
       "      <td>0.015127</td>\n",
       "      <td>18.343552</td>\n",
       "      <td>-0.208204</td>\n",
       "      <td>-0.034600</td>\n",
       "      <td>-0.155376</td>\n",
       "      <td>NaN</td>\n",
       "    </tr>\n",
       "    <tr>\n",
       "      <th>1</th>\n",
       "      <td>March</td>\n",
       "      <td>-0.329670</td>\n",
       "      <td>-0.538407</td>\n",
       "      <td>-0.426080</td>\n",
       "      <td>-0.002700</td>\n",
       "      <td>-0.381932</td>\n",
       "      <td>-0.438076</td>\n",
       "      <td>-0.515830</td>\n",
       "      <td>-0.478476</td>\n",
       "      <td>NaN</td>\n",
       "    </tr>\n",
       "    <tr>\n",
       "      <th>2</th>\n",
       "      <td>April</td>\n",
       "      <td>0.337443</td>\n",
       "      <td>0.706346</td>\n",
       "      <td>0.280905</td>\n",
       "      <td>0.003008</td>\n",
       "      <td>1.078808</td>\n",
       "      <td>0.667322</td>\n",
       "      <td>0.544615</td>\n",
       "      <td>0.558925</td>\n",
       "      <td>NaN</td>\n",
       "    </tr>\n",
       "    <tr>\n",
       "      <th>3</th>\n",
       "      <td>May</td>\n",
       "      <td>-0.190151</td>\n",
       "      <td>-0.137446</td>\n",
       "      <td>-0.203531</td>\n",
       "      <td>-0.001500</td>\n",
       "      <td>-0.300387</td>\n",
       "      <td>-0.264654</td>\n",
       "      <td>-0.158152</td>\n",
       "      <td>-0.357106</td>\n",
       "      <td>NaN</td>\n",
       "    </tr>\n",
       "    <tr>\n",
       "      <th>4</th>\n",
       "      <td>June</td>\n",
       "      <td>-0.146642</td>\n",
       "      <td>-0.215552</td>\n",
       "      <td>-0.314097</td>\n",
       "      <td>0.000000</td>\n",
       "      <td>-0.352685</td>\n",
       "      <td>-0.232981</td>\n",
       "      <td>-0.287182</td>\n",
       "      <td>-0.214755</td>\n",
       "      <td>NaN</td>\n",
       "    </tr>\n",
       "    <tr>\n",
       "      <th>5</th>\n",
       "      <td>July</td>\n",
       "      <td>0.209474</td>\n",
       "      <td>-0.047191</td>\n",
       "      <td>-0.028497</td>\n",
       "      <td>-0.000701</td>\n",
       "      <td>0.432930</td>\n",
       "      <td>-0.072902</td>\n",
       "      <td>0.225933</td>\n",
       "      <td>-0.089732</td>\n",
       "      <td>NaN</td>\n",
       "    </tr>\n",
       "    <tr>\n",
       "      <th>6</th>\n",
       "      <td>August</td>\n",
       "      <td>-0.091923</td>\n",
       "      <td>-0.347650</td>\n",
       "      <td>-0.210667</td>\n",
       "      <td>0.001804</td>\n",
       "      <td>-0.188038</td>\n",
       "      <td>-0.229070</td>\n",
       "      <td>-0.283038</td>\n",
       "      <td>-0.103302</td>\n",
       "      <td>NaN</td>\n",
       "    </tr>\n",
       "    <tr>\n",
       "      <th>7</th>\n",
       "      <td>September</td>\n",
       "      <td>-0.058682</td>\n",
       "      <td>-0.176278</td>\n",
       "      <td>-0.019305</td>\n",
       "      <td>-0.003401</td>\n",
       "      <td>0.162308</td>\n",
       "      <td>0.728955</td>\n",
       "      <td>-0.134258</td>\n",
       "      <td>-0.045054</td>\n",
       "      <td>0.000000</td>\n",
       "    </tr>\n",
       "    <tr>\n",
       "      <th>8</th>\n",
       "      <td>October</td>\n",
       "      <td>-0.044911</td>\n",
       "      <td>-0.151233</td>\n",
       "      <td>-0.189304</td>\n",
       "      <td>-0.004516</td>\n",
       "      <td>-0.133947</td>\n",
       "      <td>-0.223066</td>\n",
       "      <td>-0.113267</td>\n",
       "      <td>-0.183087</td>\n",
       "      <td>-0.184547</td>\n",
       "    </tr>\n",
       "    <tr>\n",
       "      <th>9</th>\n",
       "      <td>November</td>\n",
       "      <td>-0.370686</td>\n",
       "      <td>-0.432954</td>\n",
       "      <td>-0.359571</td>\n",
       "      <td>-0.007561</td>\n",
       "      <td>-0.303066</td>\n",
       "      <td>-0.202911</td>\n",
       "      <td>-0.310177</td>\n",
       "      <td>-0.402105</td>\n",
       "      <td>-0.446444</td>\n",
       "    </tr>\n",
       "    <tr>\n",
       "      <th>10</th>\n",
       "      <td>December</td>\n",
       "      <td>-0.069910</td>\n",
       "      <td>0.172161</td>\n",
       "      <td>-0.059400</td>\n",
       "      <td>0.014933</td>\n",
       "      <td>-0.302504</td>\n",
       "      <td>-0.030221</td>\n",
       "      <td>-0.307402</td>\n",
       "      <td>-0.153035</td>\n",
       "      <td>0.054404</td>\n",
       "    </tr>\n",
       "  </tbody>\n",
       "</table>\n",
       "</div>"
      ],
      "text/plain": [
       "        Month       BTC       ETH       LTC      USDT        XLM       XRP  \\\n",
       "0    February  0.020630 -0.230888  0.243623  0.015127  18.343552 -0.208204   \n",
       "1       March -0.329670 -0.538407 -0.426080 -0.002700  -0.381932 -0.438076   \n",
       "2       April  0.337443  0.706346  0.280905  0.003008   1.078808  0.667322   \n",
       "3         May -0.190151 -0.137446 -0.203531 -0.001500  -0.300387 -0.264654   \n",
       "4        June -0.146642 -0.215552 -0.314097  0.000000  -0.352685 -0.232981   \n",
       "5        July  0.209474 -0.047191 -0.028497 -0.000701   0.432930 -0.072902   \n",
       "6      August -0.091923 -0.347650 -0.210667  0.001804  -0.188038 -0.229070   \n",
       "7   September -0.058682 -0.176278 -0.019305 -0.003401   0.162308  0.728955   \n",
       "8     October -0.044911 -0.151233 -0.189304 -0.004516  -0.133947 -0.223066   \n",
       "9    November -0.370686 -0.432954 -0.359571 -0.007561  -0.303066 -0.202911   \n",
       "10   December -0.069910  0.172161 -0.059400  0.014933  -0.302504 -0.030221   \n",
       "\n",
       "         ZEC      DASH       ADA  \n",
       "0  -0.034600 -0.155376       NaN  \n",
       "1  -0.515830 -0.478476       NaN  \n",
       "2   0.544615  0.558925       NaN  \n",
       "3  -0.158152 -0.357106       NaN  \n",
       "4  -0.287182 -0.214755       NaN  \n",
       "5   0.225933 -0.089732       NaN  \n",
       "6  -0.283038 -0.103302       NaN  \n",
       "7  -0.134258 -0.045054  0.000000  \n",
       "8  -0.113267 -0.183087 -0.184547  \n",
       "9  -0.310177 -0.402105 -0.446444  \n",
       "10 -0.307402 -0.153035  0.054404  "
      ]
     },
     "execution_count": 199,
     "metadata": {},
     "output_type": "execute_result"
    }
   ],
   "source": [
    "janky_monthly_returns"
   ]
  },
  {
   "cell_type": "code",
   "execution_count": 200,
   "id": "25fa5abf",
   "metadata": {},
   "outputs": [],
   "source": [
    "# EXTRA: Calculate S&P 500 market variance based on 12 month return data (need to find that still)\n",
    "\n",
    "\"\"\"\n",
    "sp_market_var = apply after pct_change applied for sp closing price monthly data\n",
    "\"\"\"\n",
    "sp_market_var = sp_returns.var()\n",
    "\n",
    "# EXTRA: Calculate S&P 500 market covariance based on 12 month return data (need to find that still)\n",
    "\n",
    "btc_sp_cov = janky_monthly_returns['BTC'].cov(sp_returns)\n",
    "# # btc_sp_cov = monthly_returns_2018['BTC'].cov(sp_returns)\n",
    "eth_sp_cov = janky_monthly_returns['ETH'].cov(sp_returns)\n",
    "ltc_sp_cov = janky_monthly_returns['LTC'].cov(sp_returns)\n",
    "ada_sp_cov = janky_monthly_returns['ADA'].cov(sp_returns)\n",
    "xlm_sp_cov = janky_monthly_returns['XLM'].cov(sp_returns)\n",
    "xrp_sp_cov = janky_monthly_returns['XRP'].cov(sp_returns)\n",
    "zec_sp_cov = janky_monthly_returns['ZEC'].cov(sp_returns)\n",
    "usdt_sp_cov = janky_monthly_returns['USDT'].cov(sp_returns)\n",
    "dash_sp_cov = janky_monthly_returns['DASH'].cov(sp_returns)\n",
    "\n",
    "\n",
    "# EXTRA: CALCULATE BETA OF EACH CURRENCY Relative to S&P 500\n",
    "\"\"\"\n",
    "beta = covariance of asset to market / variance of market\n",
    "\n",
    "use previous calculations for market variance and covariance of assets\n",
    "\"\"\"\n",
    "\n",
    "\n",
    "btc_sp_beta = btc_sp_cov / sp_market_var\n",
    "eth_sp_beta = eth_sp_cov / sp_market_var\n",
    "ltc_sp_beta = ltc_sp_cov / sp_market_var\n",
    "ada_sp_beta = ada_sp_cov / sp_market_var\n",
    "xlm_sp_beta = xlm_sp_cov / sp_market_var\n",
    "xrp_sp_beta = xrp_sp_cov / sp_market_var\n",
    "zec_sp_beta = zec_sp_cov / sp_market_var\n",
    "usdt_sp_beta = usdt_sp_cov / sp_market_var\n",
    "dash_sp_beta = dash_sp_cov / sp_market_var\n",
    "\n",
    "# # making list of betas \n",
    "SP_Beta_list = [btc_sp_beta, eth_sp_beta, ltc_sp_beta, ada_sp_beta, xlm_sp_beta, xrp_sp_beta, zec_sp_beta, usdt_sp_beta, dash_sp_beta]"
   ]
  },
  {
   "cell_type": "code",
   "execution_count": 201,
   "id": "a8776de8",
   "metadata": {},
   "outputs": [
    {
     "data": {
      "text/plain": [
       "0.0014469363487987874"
      ]
     },
     "execution_count": 201,
     "metadata": {},
     "output_type": "execute_result"
    }
   ],
   "source": [
    "new_eth_sp_cov\n"
   ]
  },
  {
   "cell_type": "code",
   "execution_count": 202,
   "id": "98dfcad2",
   "metadata": {},
   "outputs": [
    {
     "data": {
      "text/plain": [
       "0.001801806378221541"
      ]
     },
     "execution_count": 202,
     "metadata": {},
     "output_type": "execute_result"
    }
   ],
   "source": [
    "ltc_sp_cov"
   ]
  },
  {
   "cell_type": "code",
   "execution_count": 203,
   "id": "c210f5cb",
   "metadata": {},
   "outputs": [
    {
     "data": {
      "text/plain": [
       "0.0034493533198241004"
      ]
     },
     "execution_count": 203,
     "metadata": {},
     "output_type": "execute_result"
    }
   ],
   "source": [
    "ada_sp_cov"
   ]
  },
  {
   "cell_type": "code",
   "execution_count": 204,
   "id": "d6db54af",
   "metadata": {},
   "outputs": [
    {
     "data": {
      "text/plain": [
       "0.0039400523855246"
      ]
     },
     "execution_count": 204,
     "metadata": {},
     "output_type": "execute_result"
    }
   ],
   "source": [
    "xlm_sp_cov"
   ]
  },
  {
   "cell_type": "code",
   "execution_count": 205,
   "id": "f2b132bf",
   "metadata": {},
   "outputs": [
    {
     "data": {
      "text/plain": [
       "0.003344584999703002"
      ]
     },
     "execution_count": 205,
     "metadata": {},
     "output_type": "execute_result"
    }
   ],
   "source": [
    "xrp_sp_cov"
   ]
  },
  {
   "cell_type": "code",
   "execution_count": 206,
   "id": "a2a756c5",
   "metadata": {},
   "outputs": [
    {
     "data": {
      "text/plain": [
       "0.002756833870309538"
      ]
     },
     "execution_count": 206,
     "metadata": {},
     "output_type": "execute_result"
    }
   ],
   "source": [
    "zec_sp_cov"
   ]
  },
  {
   "cell_type": "code",
   "execution_count": 207,
   "id": "60356a05",
   "metadata": {},
   "outputs": [
    {
     "data": {
      "text/plain": [
       "-6.799837787433854e-06"
      ]
     },
     "execution_count": 207,
     "metadata": {},
     "output_type": "execute_result"
    }
   ],
   "source": [
    "usdt_sp_cov"
   ]
  },
  {
   "cell_type": "code",
   "execution_count": 208,
   "id": "035793ba",
   "metadata": {},
   "outputs": [
    {
     "data": {
      "text/plain": [
       "0.002878622805703227"
      ]
     },
     "execution_count": 208,
     "metadata": {},
     "output_type": "execute_result"
    }
   ],
   "source": [
    "dash_sp_cov"
   ]
  },
  {
   "cell_type": "code",
   "execution_count": 209,
   "id": "7a80b2dd",
   "metadata": {},
   "outputs": [
    {
     "data": {
      "text/html": [
       "<div>\n",
       "<style scoped>\n",
       "    .dataframe tbody tr th:only-of-type {\n",
       "        vertical-align: middle;\n",
       "    }\n",
       "\n",
       "    .dataframe tbody tr th {\n",
       "        vertical-align: top;\n",
       "    }\n",
       "\n",
       "    .dataframe thead th {\n",
       "        text-align: right;\n",
       "    }\n",
       "</style>\n",
       "<table border=\"1\" class=\"dataframe\">\n",
       "  <thead>\n",
       "    <tr style=\"text-align: right;\">\n",
       "      <th></th>\n",
       "      <th>BTC</th>\n",
       "      <th>ETH</th>\n",
       "      <th>LTC</th>\n",
       "      <th>USDT</th>\n",
       "      <th>XLM</th>\n",
       "      <th>XRP</th>\n",
       "      <th>ZEC</th>\n",
       "      <th>DASH</th>\n",
       "      <th>ADA</th>\n",
       "    </tr>\n",
       "  </thead>\n",
       "  <tbody>\n",
       "    <tr>\n",
       "      <th>count</th>\n",
       "      <td>12.000000</td>\n",
       "      <td>12.000000</td>\n",
       "      <td>12.000000</td>\n",
       "      <td>12.000000</td>\n",
       "      <td>12.000000</td>\n",
       "      <td>12.000000</td>\n",
       "      <td>12.000000</td>\n",
       "      <td>12.000000</td>\n",
       "      <td>4.000000</td>\n",
       "    </tr>\n",
       "    <tr>\n",
       "      <th>mean</th>\n",
       "      <td>-0.061252</td>\n",
       "      <td>-0.116591</td>\n",
       "      <td>-0.107160</td>\n",
       "      <td>0.001208</td>\n",
       "      <td>1.504587</td>\n",
       "      <td>-0.042151</td>\n",
       "      <td>-0.114446</td>\n",
       "      <td>-0.135259</td>\n",
       "      <td>-0.144147</td>\n",
       "    </tr>\n",
       "    <tr>\n",
       "      <th>std</th>\n",
       "      <td>0.199020</td>\n",
       "      <td>0.321710</td>\n",
       "      <td>0.220806</td>\n",
       "      <td>0.007044</td>\n",
       "      <td>5.319734</td>\n",
       "      <td>0.364890</td>\n",
       "      <td>0.280731</td>\n",
       "      <td>0.262673</td>\n",
       "      <td>0.225992</td>\n",
       "    </tr>\n",
       "    <tr>\n",
       "      <th>min</th>\n",
       "      <td>-0.370686</td>\n",
       "      <td>-0.538407</td>\n",
       "      <td>-0.426080</td>\n",
       "      <td>-0.007561</td>\n",
       "      <td>-0.381932</td>\n",
       "      <td>-0.438076</td>\n",
       "      <td>-0.515830</td>\n",
       "      <td>-0.478476</td>\n",
       "      <td>-0.446444</td>\n",
       "    </tr>\n",
       "    <tr>\n",
       "      <th>25%</th>\n",
       "      <td>-0.157519</td>\n",
       "      <td>-0.260078</td>\n",
       "      <td>-0.236524</td>\n",
       "      <td>-0.002875</td>\n",
       "      <td>-0.302644</td>\n",
       "      <td>-0.230048</td>\n",
       "      <td>-0.292237</td>\n",
       "      <td>-0.250343</td>\n",
       "      <td>-0.250021</td>\n",
       "    </tr>\n",
       "    <tr>\n",
       "      <th>50%</th>\n",
       "      <td>-0.064296</td>\n",
       "      <td>-0.163756</td>\n",
       "      <td>-0.124352</td>\n",
       "      <td>-0.000350</td>\n",
       "      <td>-0.160992</td>\n",
       "      <td>-0.205558</td>\n",
       "      <td>-0.146205</td>\n",
       "      <td>-0.154206</td>\n",
       "      <td>-0.092274</td>\n",
       "    </tr>\n",
       "    <tr>\n",
       "      <th>75%</th>\n",
       "      <td>0.005158</td>\n",
       "      <td>-0.035393</td>\n",
       "      <td>-0.014479</td>\n",
       "      <td>0.002105</td>\n",
       "      <td>0.229963</td>\n",
       "      <td>-0.022666</td>\n",
       "      <td>-0.025950</td>\n",
       "      <td>-0.078562</td>\n",
       "      <td>0.013601</td>\n",
       "    </tr>\n",
       "    <tr>\n",
       "      <th>max</th>\n",
       "      <td>0.337443</td>\n",
       "      <td>0.706346</td>\n",
       "      <td>0.280905</td>\n",
       "      <td>0.015127</td>\n",
       "      <td>18.343552</td>\n",
       "      <td>0.728955</td>\n",
       "      <td>0.544615</td>\n",
       "      <td>0.558925</td>\n",
       "      <td>0.054404</td>\n",
       "    </tr>\n",
       "    <tr>\n",
       "      <th>beta</th>\n",
       "      <td>1.000000</td>\n",
       "      <td>1.310062</td>\n",
       "      <td>0.933550</td>\n",
       "      <td>0.770298</td>\n",
       "      <td>5.327261</td>\n",
       "      <td>1.076823</td>\n",
       "      <td>1.294377</td>\n",
       "      <td>0.012024</td>\n",
       "      <td>1.157759</td>\n",
       "    </tr>\n",
       "    <tr>\n",
       "      <th>sp_beta</th>\n",
       "      <td>3.737538</td>\n",
       "      <td>1.870362</td>\n",
       "      <td>2.329080</td>\n",
       "      <td>4.458759</td>\n",
       "      <td>5.093054</td>\n",
       "      <td>4.323331</td>\n",
       "      <td>3.563583</td>\n",
       "      <td>-0.008790</td>\n",
       "      <td>3.721012</td>\n",
       "    </tr>\n",
       "  </tbody>\n",
       "</table>\n",
       "</div>"
      ],
      "text/plain": [
       "               BTC        ETH        LTC       USDT        XLM        XRP  \\\n",
       "count    12.000000  12.000000  12.000000  12.000000  12.000000  12.000000   \n",
       "mean     -0.061252  -0.116591  -0.107160   0.001208   1.504587  -0.042151   \n",
       "std       0.199020   0.321710   0.220806   0.007044   5.319734   0.364890   \n",
       "min      -0.370686  -0.538407  -0.426080  -0.007561  -0.381932  -0.438076   \n",
       "25%      -0.157519  -0.260078  -0.236524  -0.002875  -0.302644  -0.230048   \n",
       "50%      -0.064296  -0.163756  -0.124352  -0.000350  -0.160992  -0.205558   \n",
       "75%       0.005158  -0.035393  -0.014479   0.002105   0.229963  -0.022666   \n",
       "max       0.337443   0.706346   0.280905   0.015127  18.343552   0.728955   \n",
       "beta      1.000000   1.310062   0.933550   0.770298   5.327261   1.076823   \n",
       "sp_beta   3.737538   1.870362   2.329080   4.458759   5.093054   4.323331   \n",
       "\n",
       "               ZEC       DASH       ADA  \n",
       "count    12.000000  12.000000  4.000000  \n",
       "mean     -0.114446  -0.135259 -0.144147  \n",
       "std       0.280731   0.262673  0.225992  \n",
       "min      -0.515830  -0.478476 -0.446444  \n",
       "25%      -0.292237  -0.250343 -0.250021  \n",
       "50%      -0.146205  -0.154206 -0.092274  \n",
       "75%      -0.025950  -0.078562  0.013601  \n",
       "max       0.544615   0.558925  0.054404  \n",
       "beta      1.294377   0.012024  1.157759  \n",
       "sp_beta   3.563583  -0.008790  3.721012  "
      ]
     },
     "execution_count": 209,
     "metadata": {},
     "output_type": "execute_result"
    }
   ],
   "source": [
    "# adding to main dataframe:\n",
    "summary_data2 = pd.DataFrame()\n",
    "summary_data2 = summary_data.T\n",
    "summary_data2['sp_beta'] = SP_Beta_list\n",
    "final_summary_data = summary_data2.T\n",
    "final_summary_data"
   ]
  },
  {
   "cell_type": "code",
   "execution_count": 210,
   "id": "fada6cff",
   "metadata": {},
   "outputs": [
    {
     "data": {
      "text/plain": [
       "DASH   -0.008790\n",
       "ETH     1.870362\n",
       "LTC     2.329080\n",
       "ZEC     3.563583\n",
       "ADA     3.721012\n",
       "BTC     3.737538\n",
       "XRP     4.323331\n",
       "USDT    4.458759\n",
       "XLM     5.093054\n",
       "Name: sp_beta, dtype: float64"
      ]
     },
     "execution_count": 210,
     "metadata": {},
     "output_type": "execute_result"
    }
   ],
   "source": [
    "sp_beta_with_btc = final_summary_data.iloc[9, 0:].sort_values()\n",
    "sp_beta_with_btc"
   ]
  },
  {
   "cell_type": "code",
   "execution_count": 211,
   "id": "eb686b84",
   "metadata": {},
   "outputs": [
    {
     "data": {},
     "metadata": {},
     "output_type": "display_data"
    },
    {
     "data": {
      "application/vnd.holoviews_exec.v0+json": "",
      "text/html": [
       "<div id='3554'>\n",
       "\n",
       "\n",
       "\n",
       "\n",
       "\n",
       "  <div class=\"bk-root\" id=\"d835668f-f1fe-4993-82ca-b401baeaf38c\" data-root-id=\"3554\"></div>\n",
       "</div>\n",
       "<script type=\"application/javascript\">(function(root) {\n",
       "  function embed_document(root) {\n",
       "    var docs_json = {\"5947b818-54f5-4bb4-9e12-5fa4262d40e4\":{\"defs\":[{\"extends\":null,\"module\":null,\"name\":\"ReactiveHTML1\",\"overrides\":[],\"properties\":[]},{\"extends\":null,\"module\":null,\"name\":\"FlexBox1\",\"overrides\":[],\"properties\":[{\"default\":\"flex-start\",\"kind\":null,\"name\":\"align_content\"},{\"default\":\"flex-start\",\"kind\":null,\"name\":\"align_items\"},{\"default\":\"row\",\"kind\":null,\"name\":\"flex_direction\"},{\"default\":\"wrap\",\"kind\":null,\"name\":\"flex_wrap\"},{\"default\":\"flex-start\",\"kind\":null,\"name\":\"justify_content\"}]},{\"extends\":null,\"module\":null,\"name\":\"TemplateActions1\",\"overrides\":[],\"properties\":[{\"default\":0,\"kind\":null,\"name\":\"open_modal\"},{\"default\":0,\"kind\":null,\"name\":\"close_modal\"}]},{\"extends\":null,\"module\":null,\"name\":\"MaterialTemplateActions1\",\"overrides\":[],\"properties\":[{\"default\":0,\"kind\":null,\"name\":\"open_modal\"},{\"default\":0,\"kind\":null,\"name\":\"close_modal\"}]}],\"roots\":{\"references\":[{\"attributes\":{\"fill_color\":{\"value\":\"cyan\"},\"top\":{\"field\":\"sp_beta\"},\"width\":{\"value\":0.8},\"x\":{\"field\":\"index\"}},\"id\":\"3591\",\"type\":\"VBar\"},{\"attributes\":{},\"id\":\"3613\",\"type\":\"UnionRenderers\"},{\"attributes\":{\"bottom\":{\"value\":0},\"fill_alpha\":{\"value\":1.0},\"fill_color\":{\"value\":\"cyan\"},\"hatch_alpha\":{\"value\":1.0},\"hatch_color\":{\"value\":\"black\"},\"hatch_scale\":{\"value\":12.0},\"hatch_weight\":{\"value\":1.0},\"line_alpha\":{\"value\":1.0},\"line_cap\":{\"value\":\"butt\"},\"line_color\":{\"value\":\"black\"},\"line_dash\":{\"value\":[]},\"line_dash_offset\":{\"value\":0},\"line_join\":{\"value\":\"bevel\"},\"line_width\":{\"value\":1},\"top\":{\"field\":\"sp_beta\"},\"width\":{\"value\":0.8},\"x\":{\"field\":\"index\"}},\"id\":\"3597\",\"type\":\"VBar\"},{\"attributes\":{\"margin\":[5,5,5,5],\"name\":\"HSpacer04784\",\"sizing_mode\":\"stretch_width\"},\"id\":\"3555\",\"type\":\"Spacer\"},{\"attributes\":{},\"id\":\"3579\",\"type\":\"ResetTool\"},{\"attributes\":{\"margin\":[5,5,5,5],\"name\":\"HSpacer04785\",\"sizing_mode\":\"stretch_width\"},\"id\":\"3624\",\"type\":\"Spacer\"},{\"attributes\":{},\"id\":\"3564\",\"type\":\"CategoricalScale\"},{\"attributes\":{\"factors\":[\"DASH\",\"ETH\",\"LTC\",\"ZEC\",\"ADA\",\"BTC\",\"XRP\",\"USDT\",\"XLM\"],\"tags\":[[[\"index\",\"index\",null]]]},\"id\":\"3556\",\"type\":\"FactorRange\"},{\"attributes\":{\"overlay\":{\"id\":\"3580\"}},\"id\":\"3578\",\"type\":\"BoxZoomTool\"},{\"attributes\":{\"axis_label\":\"Cryptocurrency\",\"formatter\":{\"id\":\"3600\"},\"major_label_orientation\":1.2217304763960306,\"major_label_policy\":{\"id\":\"3598\"},\"ticker\":{\"id\":\"3569\"}},\"id\":\"3568\",\"type\":\"CategoricalAxis\"},{\"attributes\":{\"data\":{\"index\":[\"DASH\",\"ETH\",\"LTC\",\"ZEC\",\"ADA\",\"BTC\",\"XRP\",\"USDT\",\"XLM\"],\"sp_beta\":{\"__ndarray__\":\"965tulcAgr8fkr3xAO39P/VYiLn0oQJAst9M3TeCDEDbMYXiocQNQDgoPzl65g1A98y/ZxdLEUCxNDPdxNURQG9SmJVJXxRA\",\"dtype\":\"float64\",\"order\":\"little\",\"shape\":[9]}},\"selected\":{\"id\":\"3589\"},\"selection_policy\":{\"id\":\"3613\"}},\"id\":\"3588\",\"type\":\"ColumnDataSource\"},{\"attributes\":{\"fill_color\":{\"value\":\"black\"},\"top\":{\"field\":\"sp_beta\"},\"width\":{\"value\":0.8},\"x\":{\"field\":\"index\"}},\"id\":\"3593\",\"type\":\"VBar\"},{\"attributes\":{},\"id\":\"3589\",\"type\":\"Selection\"},{\"attributes\":{\"axis\":{\"id\":\"3568\"},\"grid_line_color\":null,\"ticker\":null},\"id\":\"3570\",\"type\":\"Grid\"},{\"attributes\":{},\"id\":\"3572\",\"type\":\"BasicTicker\"},{\"attributes\":{},\"id\":\"3575\",\"type\":\"SaveTool\"},{\"attributes\":{\"end\":5.603238525106317,\"reset_end\":5.603238525106317,\"reset_start\":-0.5189741016928949,\"start\":-0.5189741016928949,\"tags\":[[[\"sp_beta\",\"sp_beta\",null]]]},\"id\":\"3557\",\"type\":\"Range1d\"},{\"attributes\":{\"fill_alpha\":{\"value\":0.2},\"fill_color\":{\"value\":\"cyan\"},\"line_alpha\":{\"value\":0.2},\"top\":{\"field\":\"sp_beta\"},\"width\":{\"value\":0.8},\"x\":{\"field\":\"index\"}},\"id\":\"3594\",\"type\":\"VBar\"},{\"attributes\":{\"bottom_units\":\"screen\",\"fill_alpha\":0.5,\"fill_color\":\"lightgrey\",\"left_units\":\"screen\",\"level\":\"overlay\",\"line_alpha\":1.0,\"line_color\":\"black\",\"line_dash\":[4,4],\"line_width\":2,\"right_units\":\"screen\",\"syncable\":false,\"top_units\":\"screen\"},\"id\":\"3580\",\"type\":\"BoxAnnotation\"},{\"attributes\":{\"active_multi\":null,\"tools\":[{\"id\":\"3558\"},{\"id\":\"3575\"},{\"id\":\"3576\"},{\"id\":\"3577\"},{\"id\":\"3578\"},{\"id\":\"3579\"}]},\"id\":\"3581\",\"type\":\"Toolbar\"},{\"attributes\":{},\"id\":\"3600\",\"type\":\"CategoricalTickFormatter\"},{\"attributes\":{\"source\":{\"id\":\"3588\"}},\"id\":\"3596\",\"type\":\"CDSView\"},{\"attributes\":{\"children\":[{\"id\":\"3555\"},{\"id\":\"3559\"},{\"id\":\"3624\"}],\"margin\":[0,0,0,0],\"name\":\"Row04780\",\"tags\":[\"embedded\"]},\"id\":\"3554\",\"type\":\"Row\"},{\"attributes\":{\"axis\":{\"id\":\"3571\"},\"dimension\":1,\"grid_line_color\":null,\"ticker\":null},\"id\":\"3574\",\"type\":\"Grid\"},{\"attributes\":{\"text\":\"2018 Bar: Beta relative to S&P 500\",\"text_color\":\"black\",\"text_font_size\":\"12pt\"},\"id\":\"3560\",\"type\":\"Title\"},{\"attributes\":{},\"id\":\"3603\",\"type\":\"BasicTickFormatter\"},{\"attributes\":{},\"id\":\"3577\",\"type\":\"WheelZoomTool\"},{\"attributes\":{},\"id\":\"3598\",\"type\":\"AllLabels\"},{\"attributes\":{},\"id\":\"3576\",\"type\":\"PanTool\"},{\"attributes\":{\"fill_alpha\":{\"value\":0.1},\"fill_color\":{\"value\":\"cyan\"},\"line_alpha\":{\"value\":0.1},\"top\":{\"field\":\"sp_beta\"},\"width\":{\"value\":0.8},\"x\":{\"field\":\"index\"}},\"id\":\"3592\",\"type\":\"VBar\"},{\"attributes\":{},\"id\":\"3569\",\"type\":\"CategoricalTicker\"},{\"attributes\":{\"callback\":null,\"renderers\":[{\"id\":\"3595\"}],\"tags\":[\"hv_created\"],\"tooltips\":[[\"index\",\"@{index}\"],[\"sp_beta\",\"@{sp_beta}\"]]},\"id\":\"3558\",\"type\":\"HoverTool\"},{\"attributes\":{},\"id\":\"3601\",\"type\":\"AllLabels\"},{\"attributes\":{\"data_source\":{\"id\":\"3588\"},\"glyph\":{\"id\":\"3591\"},\"hover_glyph\":{\"id\":\"3593\"},\"muted_glyph\":{\"id\":\"3594\"},\"nonselection_glyph\":{\"id\":\"3592\"},\"selection_glyph\":{\"id\":\"3597\"},\"view\":{\"id\":\"3596\"}},\"id\":\"3595\",\"type\":\"GlyphRenderer\"},{\"attributes\":{\"below\":[{\"id\":\"3568\"}],\"center\":[{\"id\":\"3570\"},{\"id\":\"3574\"}],\"height\":300,\"left\":[{\"id\":\"3571\"}],\"margin\":[5,5,5,5],\"min_border_bottom\":10,\"min_border_left\":10,\"min_border_right\":10,\"min_border_top\":10,\"renderers\":[{\"id\":\"3595\"}],\"sizing_mode\":\"fixed\",\"title\":{\"id\":\"3560\"},\"toolbar\":{\"id\":\"3581\"},\"width\":700,\"x_range\":{\"id\":\"3556\"},\"x_scale\":{\"id\":\"3564\"},\"y_range\":{\"id\":\"3557\"},\"y_scale\":{\"id\":\"3566\"}},\"id\":\"3559\",\"subtype\":\"Figure\",\"type\":\"Plot\"},{\"attributes\":{\"axis_label\":\"Beta Value\",\"formatter\":{\"id\":\"3603\"},\"major_label_policy\":{\"id\":\"3601\"},\"ticker\":{\"id\":\"3572\"}},\"id\":\"3571\",\"type\":\"LinearAxis\"},{\"attributes\":{},\"id\":\"3566\",\"type\":\"LinearScale\"}],\"root_ids\":[\"3554\"]},\"title\":\"Bokeh Application\",\"version\":\"2.3.2\"}};\n",
       "    var render_items = [{\"docid\":\"5947b818-54f5-4bb4-9e12-5fa4262d40e4\",\"root_ids\":[\"3554\"],\"roots\":{\"3554\":\"d835668f-f1fe-4993-82ca-b401baeaf38c\"}}];\n",
       "    root.Bokeh.embed.embed_items_notebook(docs_json, render_items);\n",
       "  }\n",
       "  if (root.Bokeh !== undefined && root.Bokeh.Panel !== undefined) {\n",
       "    embed_document(root);\n",
       "  } else {\n",
       "    var attempts = 0;\n",
       "    var timer = setInterval(function(root) {\n",
       "      if (root.Bokeh !== undefined && root.Bokeh.Panel !== undefined) {\n",
       "        clearInterval(timer);\n",
       "        embed_document(root);\n",
       "      } else if (document.readyState == \"complete\") {\n",
       "        attempts++;\n",
       "        if (attempts > 200) {\n",
       "          clearInterval(timer);\n",
       "          console.log(\"Bokeh: ERROR: Unable to run BokehJS code because BokehJS library is missing\");\n",
       "        }\n",
       "      }\n",
       "    }, 25, root)\n",
       "  }\n",
       "})(window);</script>"
      ],
      "text/plain": [
       ":Bars   [index]   (sp_beta)"
      ]
     },
     "execution_count": 211,
     "metadata": {
      "application/vnd.holoviews_exec.v0+json": {
       "id": "3554"
      }
     },
     "output_type": "execute_result"
    }
   ],
   "source": [
    "sp_beta_with_btc.hvplot.bar(\n",
    "    rot = 70,\n",
    "    title = '2018 Bar: Beta relative to S&P 500',\n",
    "    fill_color = 'cyan', \n",
    "    hover_color = 'black',\n",
    "    xlabel = 'Cryptocurrency',\n",
    "    ylabel = 'Beta Value'\n",
    "\n",
    ")"
   ]
  },
  {
   "cell_type": "code",
   "execution_count": 212,
   "id": "b34049c1",
   "metadata": {},
   "outputs": [
    {
     "data": {},
     "metadata": {},
     "output_type": "display_data"
    },
    {
     "data": {
      "application/vnd.holoviews_exec.v0+json": "",
      "text/html": [
       "<div id='3676'>\n",
       "\n",
       "\n",
       "\n",
       "\n",
       "\n",
       "  <div class=\"bk-root\" id=\"2393d0ff-3086-4668-aa08-955624d9ddde\" data-root-id=\"3676\"></div>\n",
       "</div>\n",
       "<script type=\"application/javascript\">(function(root) {\n",
       "  function embed_document(root) {\n",
       "    var docs_json = {\"7741ae60-fe04-4598-83f6-bef3157909a6\":{\"defs\":[{\"extends\":null,\"module\":null,\"name\":\"ReactiveHTML1\",\"overrides\":[],\"properties\":[]},{\"extends\":null,\"module\":null,\"name\":\"FlexBox1\",\"overrides\":[],\"properties\":[{\"default\":\"flex-start\",\"kind\":null,\"name\":\"align_content\"},{\"default\":\"flex-start\",\"kind\":null,\"name\":\"align_items\"},{\"default\":\"row\",\"kind\":null,\"name\":\"flex_direction\"},{\"default\":\"wrap\",\"kind\":null,\"name\":\"flex_wrap\"},{\"default\":\"flex-start\",\"kind\":null,\"name\":\"justify_content\"}]},{\"extends\":null,\"module\":null,\"name\":\"TemplateActions1\",\"overrides\":[],\"properties\":[{\"default\":0,\"kind\":null,\"name\":\"open_modal\"},{\"default\":0,\"kind\":null,\"name\":\"close_modal\"}]},{\"extends\":null,\"module\":null,\"name\":\"MaterialTemplateActions1\",\"overrides\":[],\"properties\":[{\"default\":0,\"kind\":null,\"name\":\"open_modal\"},{\"default\":0,\"kind\":null,\"name\":\"close_modal\"}]}],\"roots\":{\"references\":[{\"attributes\":{\"bar_line_color\":\"black\",\"color_mapper\":{\"id\":\"3709\"},\"label_standoff\":8,\"location\":[0,0],\"major_label_policy\":{\"id\":\"3728\"},\"major_tick_line_color\":\"black\",\"ticker\":{\"id\":\"3719\"}},\"id\":\"3720\",\"type\":\"ColorBar\"},{\"attributes\":{},\"id\":\"3737\",\"type\":\"UnionRenderers\"},{\"attributes\":{\"active_multi\":null,\"tools\":[{\"id\":\"3680\"},{\"id\":\"3696\"},{\"id\":\"3697\"},{\"id\":\"3698\"},{\"id\":\"3699\"},{\"id\":\"3700\"}]},\"id\":\"3702\",\"type\":\"Toolbar\"},{\"attributes\":{},\"id\":\"3719\",\"type\":\"BasicTicker\"},{\"attributes\":{\"fill_color\":{\"field\":\"zvalues\",\"transform\":{\"id\":\"3709\"}},\"height\":{\"value\":1},\"line_alpha\":{\"value\":0},\"line_color\":{\"value\":\"#1f77b4\"},\"width\":{\"value\":1},\"x\":{\"field\":\"columns\"},\"y\":{\"field\":\"index\"}},\"id\":\"3715\",\"type\":\"Rect\"},{\"attributes\":{\"data_source\":{\"id\":\"3710\"},\"glyph\":{\"id\":\"3713\"},\"hover_glyph\":{\"id\":\"3716\"},\"muted_glyph\":null,\"nonselection_glyph\":{\"id\":\"3714\"},\"selection_glyph\":{\"id\":\"3715\"},\"view\":{\"id\":\"3718\"}},\"id\":\"3717\",\"type\":\"GlyphRenderer\"},{\"attributes\":{},\"id\":\"3696\",\"type\":\"SaveTool\"},{\"attributes\":{},\"id\":\"3697\",\"type\":\"PanTool\"},{\"attributes\":{},\"id\":\"3721\",\"type\":\"AllLabels\"},{\"attributes\":{\"children\":[{\"id\":\"3677\"},{\"id\":\"3681\"},{\"id\":\"3749\"}],\"margin\":[0,0,0,0],\"name\":\"Row04911\",\"tags\":[\"embedded\"]},\"id\":\"3676\",\"type\":\"Row\"},{\"attributes\":{\"factors\":[\"DASH\",\"ETH\",\"LTC\",\"ZEC\",\"ADA\",\"BTC\",\"XRP\",\"USDT\",\"XLM\"],\"tags\":[[[\"index\",\"index\",null]]]},\"id\":\"3679\",\"type\":\"FactorRange\"},{\"attributes\":{},\"id\":\"3698\",\"type\":\"WheelZoomTool\"},{\"attributes\":{\"axis\":{\"id\":\"3693\"},\"dimension\":1,\"grid_line_color\":null,\"ticker\":null},\"id\":\"3695\",\"type\":\"Grid\"},{\"attributes\":{},\"id\":\"3723\",\"type\":\"CategoricalTickFormatter\"},{\"attributes\":{},\"id\":\"3686\",\"type\":\"CategoricalScale\"},{\"attributes\":{\"overlay\":{\"id\":\"3701\"}},\"id\":\"3699\",\"type\":\"BoxZoomTool\"},{\"attributes\":{},\"id\":\"3724\",\"type\":\"AllLabels\"},{\"attributes\":{\"callback\":null,\"renderers\":[{\"id\":\"3717\"}],\"tags\":[\"hv_created\"],\"tooltips\":[[\"columns\",\"@{columns}\"],[\"index\",\"@{index}\"],[\"value\",\"@{value}\"]]},\"id\":\"3680\",\"type\":\"HoverTool\"},{\"attributes\":{},\"id\":\"3688\",\"type\":\"CategoricalScale\"},{\"attributes\":{\"axis_label\":\"\",\"formatter\":{\"id\":\"3723\"},\"major_label_policy\":{\"id\":\"3721\"},\"ticker\":{\"id\":\"3691\"}},\"id\":\"3690\",\"type\":\"CategoricalAxis\"},{\"attributes\":{},\"id\":\"3711\",\"type\":\"Selection\"},{\"attributes\":{\"factors\":[\"sp_beta\"],\"tags\":[[[\"columns\",\"columns\",null]]]},\"id\":\"3678\",\"type\":\"FactorRange\"},{\"attributes\":{},\"id\":\"3726\",\"type\":\"CategoricalTickFormatter\"},{\"attributes\":{},\"id\":\"3700\",\"type\":\"ResetTool\"},{\"attributes\":{\"bottom_units\":\"screen\",\"fill_alpha\":0.5,\"fill_color\":\"lightgrey\",\"left_units\":\"screen\",\"level\":\"overlay\",\"line_alpha\":1.0,\"line_color\":\"black\",\"line_dash\":[4,4],\"line_width\":2,\"right_units\":\"screen\",\"syncable\":false,\"top_units\":\"screen\"},\"id\":\"3701\",\"type\":\"BoxAnnotation\"},{\"attributes\":{\"data\":{\"columns\":[\"sp_beta\",\"sp_beta\",\"sp_beta\",\"sp_beta\",\"sp_beta\",\"sp_beta\",\"sp_beta\",\"sp_beta\",\"sp_beta\"],\"index\":[\"DASH\",\"ETH\",\"LTC\",\"ZEC\",\"ADA\",\"BTC\",\"XRP\",\"USDT\",\"XLM\"],\"value\":[\"-0.0087897\",\"1.8704\",\"2.3291\",\"3.5636\",\"3.721\",\"3.7375\",\"4.3233\",\"4.4588\",\"5.0931\"],\"zvalues\":{\"__ndarray__\":\"965tulcAgr8fkr3xAO39P/VYiLn0oQJAst9M3TeCDEDbMYXiocQNQDgoPzl65g1A98y/ZxdLEUCxNDPdxNURQG9SmJVJXxRA\",\"dtype\":\"float64\",\"order\":\"little\",\"shape\":[9]}},\"selected\":{\"id\":\"3711\"},\"selection_policy\":{\"id\":\"3737\"}},\"id\":\"3710\",\"type\":\"ColumnDataSource\"},{\"attributes\":{\"fill_color\":{\"field\":\"zvalues\",\"transform\":{\"id\":\"3709\"}},\"height\":{\"value\":1},\"line_alpha\":{\"value\":0},\"line_color\":{\"value\":\"#1f77b4\"},\"width\":{\"value\":1},\"x\":{\"field\":\"columns\"},\"y\":{\"field\":\"index\"}},\"id\":\"3713\",\"type\":\"Rect\"},{\"attributes\":{\"high\":5.093054139539716,\"low\":-0.008789716126293963,\"nan_color\":\"white\",\"palette\":[\"#b3fef5\",\"#b0fef5\",\"#adfdf5\",\"#a9fcf5\",\"#a6fbf6\",\"#a3faf6\",\"#a0faf6\",\"#9df9f6\",\"#9af8f6\",\"#97f7f6\",\"#93f7f6\",\"#90f6f6\",\"#8df5f6\",\"#8af4f7\",\"#87f3f7\",\"#83f2f7\",\"#80f2f7\",\"#7df1f7\",\"#79f0f7\",\"#76eff7\",\"#73eef7\",\"#6fedf8\",\"#6cecf8\",\"#68ecf8\",\"#65ebf8\",\"#61eaf8\",\"#5ee9f8\",\"#5ae8f8\",\"#57e7f8\",\"#53e6f8\",\"#50e5f9\",\"#4ce4f9\",\"#49e3f9\",\"#45e2f9\",\"#42e1f9\",\"#3ee0f9\",\"#3bdff9\",\"#38def9\",\"#35ddf9\",\"#32dcf9\",\"#30dbfa\",\"#2ed9fa\",\"#2dd8fa\",\"#2cd7fa\",\"#2bd6fa\",\"#2bd5fa\",\"#2ad3fa\",\"#2ad2fa\",\"#29d1fa\",\"#29d0fb\",\"#29cffb\",\"#28cdfb\",\"#28ccfb\",\"#28cbfb\",\"#28cafb\",\"#28c8fb\",\"#28c7fb\",\"#29c6fb\",\"#29c5fb\",\"#29c4fb\",\"#29c2fb\",\"#2ac1fb\",\"#2ac0fb\",\"#2bbffb\",\"#2bbdfc\",\"#2cbcfc\",\"#2dbbfc\",\"#2db9fc\",\"#2eb8fc\",\"#2fb7fc\",\"#2fb6fc\",\"#30b4fc\",\"#31b3fc\",\"#32b2fc\",\"#32b0fc\",\"#33affc\",\"#33aefc\",\"#34adfc\",\"#34abfc\",\"#34aafc\",\"#35a9fc\",\"#35a8fc\",\"#35a6fc\",\"#35a5fc\",\"#35a4fc\",\"#35a3fc\",\"#35a1fc\",\"#35a0fc\",\"#359ffc\",\"#359dfc\",\"#359cfc\",\"#359bfc\",\"#349afd\",\"#3498fd\",\"#3497fd\",\"#3396fd\",\"#3395fd\",\"#3293fd\",\"#3292fd\",\"#3191fd\",\"#3090fd\",\"#308ffd\",\"#2f8dfd\",\"#2f8cfd\",\"#2e8bfd\",\"#2e8afd\",\"#2d88fd\",\"#2d87fd\",\"#2c86fd\",\"#2c84fd\",\"#2c83fd\",\"#2c82fd\",\"#2b81fd\",\"#2b7ffd\",\"#2b7efd\",\"#2b7dfd\",\"#2b7bfd\",\"#2b7afd\",\"#2b79fd\",\"#2b77fd\",\"#2b76fd\",\"#2b75fd\",\"#2b73fd\",\"#2c72fd\",\"#2c71fd\",\"#2c6ffd\",\"#2c6efd\",\"#2d6cfd\",\"#2d6bfd\",\"#2d6afc\",\"#2e68fc\",\"#2e67fc\",\"#2e65fc\",\"#2e64fc\",\"#2f62fc\",\"#2f61fc\",\"#2f5ffc\",\"#2f5efc\",\"#2f5dfc\",\"#2f5bfc\",\"#2f5afc\",\"#2f58fb\",\"#2f57fb\",\"#2f55fb\",\"#2f53fb\",\"#2f52fb\",\"#2f50fb\",\"#2f4ffb\",\"#2f4dfb\",\"#2e4cfb\",\"#2e4afb\",\"#2e48fb\",\"#2e47fa\",\"#2d45fa\",\"#2d43fa\",\"#2d42fa\",\"#2d40fa\",\"#2c3efa\",\"#2c3dfa\",\"#2b3bf9\",\"#2b39f9\",\"#2a37f9\",\"#2a36f8\",\"#2934f8\",\"#2832f7\",\"#2831f7\",\"#272ff6\",\"#262ef5\",\"#252cf5\",\"#252af4\",\"#2429f3\",\"#2327f2\",\"#2226f1\",\"#2124f0\",\"#2023ef\",\"#1f22ee\",\"#1e20ed\",\"#1d1feb\",\"#1c1eea\",\"#1b1ce9\",\"#1a1be7\",\"#181ae6\",\"#1719e5\",\"#1618e3\",\"#1417e1\",\"#1316e0\",\"#1215de\",\"#1014dc\",\"#0f13db\",\"#0e12d9\",\"#0d11d7\",\"#0c10d5\",\"#0b0fd3\",\"#0a0ed1\",\"#090dd0\",\"#080dce\",\"#080ccc\",\"#070bca\",\"#070ac8\",\"#0709c6\",\"#0708c4\",\"#0707c2\",\"#0707bf\",\"#0806bd\",\"#0806bb\",\"#0905b9\",\"#0904b7\",\"#0a04b5\",\"#0a04b2\",\"#0b03b0\",\"#0c03ae\",\"#0d02ab\",\"#0e02a9\",\"#0e02a7\",\"#0f02a4\",\"#0f01a2\",\"#1001a0\",\"#10019d\",\"#10019b\",\"#100199\",\"#100197\",\"#100194\",\"#0f0192\",\"#0f0190\",\"#0f018e\",\"#0e018b\",\"#0e0189\",\"#0d0187\",\"#0d0185\",\"#0c0183\",\"#0b0181\",\"#0b017e\",\"#0a017c\",\"#09017a\",\"#090178\",\"#080276\",\"#070274\",\"#060272\",\"#060270\",\"#05026e\",\"#04026c\",\"#030269\",\"#030267\",\"#020265\",\"#010263\",\"#010261\",\"#00025f\",\"#00025d\",\"#00025b\",\"#000259\",\"#000257\",\"#000255\",\"#000154\",\"#000152\",\"#000150\",\"#00004e\"]},\"id\":\"3709\",\"type\":\"LinearColorMapper\"},{\"attributes\":{},\"id\":\"3691\",\"type\":\"CategoricalTicker\"},{\"attributes\":{},\"id\":\"3728\",\"type\":\"NoOverlap\"},{\"attributes\":{\"text\":\"2018 Heatmap: Beta relative to S&P 500\",\"text_color\":\"black\",\"text_font_size\":\"12pt\"},\"id\":\"3682\",\"type\":\"Title\"},{\"attributes\":{\"margin\":[5,5,5,5],\"name\":\"HSpacer04915\",\"sizing_mode\":\"stretch_width\"},\"id\":\"3677\",\"type\":\"Spacer\"},{\"attributes\":{\"margin\":[5,5,5,5],\"name\":\"HSpacer04916\",\"sizing_mode\":\"stretch_width\"},\"id\":\"3749\",\"type\":\"Spacer\"},{\"attributes\":{\"axis\":{\"id\":\"3690\"},\"grid_line_color\":null,\"ticker\":null},\"id\":\"3692\",\"type\":\"Grid\"},{\"attributes\":{\"fill_color\":{\"value\":\"orange\"},\"height\":{\"value\":1},\"line_alpha\":{\"value\":0},\"line_color\":{\"value\":\"orange\"},\"width\":{\"value\":1},\"x\":{\"field\":\"columns\"},\"y\":{\"field\":\"index\"}},\"id\":\"3716\",\"type\":\"Rect\"},{\"attributes\":{\"source\":{\"id\":\"3710\"}},\"id\":\"3718\",\"type\":\"CDSView\"},{\"attributes\":{},\"id\":\"3694\",\"type\":\"CategoricalTicker\"},{\"attributes\":{\"fill_alpha\":{\"value\":0.1},\"fill_color\":{\"field\":\"zvalues\",\"transform\":{\"id\":\"3709\"}},\"height\":{\"value\":1},\"line_alpha\":{\"value\":0},\"line_color\":{\"value\":\"#1f77b4\"},\"width\":{\"value\":1},\"x\":{\"field\":\"columns\"},\"y\":{\"field\":\"index\"}},\"id\":\"3714\",\"type\":\"Rect\"},{\"attributes\":{\"axis_label\":\"Cryptocurrency\",\"formatter\":{\"id\":\"3726\"},\"major_label_policy\":{\"id\":\"3724\"},\"ticker\":{\"id\":\"3694\"}},\"id\":\"3693\",\"type\":\"CategoricalAxis\"},{\"attributes\":{\"below\":[{\"id\":\"3690\"}],\"center\":[{\"id\":\"3692\"},{\"id\":\"3695\"}],\"height\":300,\"left\":[{\"id\":\"3693\"}],\"margin\":[5,5,5,5],\"min_border_bottom\":10,\"min_border_left\":10,\"min_border_right\":10,\"min_border_top\":10,\"renderers\":[{\"id\":\"3717\"}],\"right\":[{\"id\":\"3720\"}],\"sizing_mode\":\"fixed\",\"title\":{\"id\":\"3682\"},\"toolbar\":{\"id\":\"3702\"},\"width\":700,\"x_range\":{\"id\":\"3678\"},\"x_scale\":{\"id\":\"3686\"},\"y_range\":{\"id\":\"3679\"},\"y_scale\":{\"id\":\"3688\"}},\"id\":\"3681\",\"subtype\":\"Figure\",\"type\":\"Plot\"}],\"root_ids\":[\"3676\"]},\"title\":\"Bokeh Application\",\"version\":\"2.3.2\"}};\n",
       "    var render_items = [{\"docid\":\"7741ae60-fe04-4598-83f6-bef3157909a6\",\"root_ids\":[\"3676\"],\"roots\":{\"3676\":\"2393d0ff-3086-4668-aa08-955624d9ddde\"}}];\n",
       "    root.Bokeh.embed.embed_items_notebook(docs_json, render_items);\n",
       "  }\n",
       "  if (root.Bokeh !== undefined && root.Bokeh.Panel !== undefined) {\n",
       "    embed_document(root);\n",
       "  } else {\n",
       "    var attempts = 0;\n",
       "    var timer = setInterval(function(root) {\n",
       "      if (root.Bokeh !== undefined && root.Bokeh.Panel !== undefined) {\n",
       "        clearInterval(timer);\n",
       "        embed_document(root);\n",
       "      } else if (document.readyState == \"complete\") {\n",
       "        attempts++;\n",
       "        if (attempts > 200) {\n",
       "          clearInterval(timer);\n",
       "          console.log(\"Bokeh: ERROR: Unable to run BokehJS code because BokehJS library is missing\");\n",
       "        }\n",
       "      }\n",
       "    }, 25, root)\n",
       "  }\n",
       "})(window);</script>"
      ],
      "text/plain": [
       ":HeatMap   [columns,index]   (value)"
      ]
     },
     "execution_count": 212,
     "metadata": {
      "application/vnd.holoviews_exec.v0+json": {
       "id": "3676"
      }
     },
     "output_type": "execute_result"
    }
   ],
   "source": [
    "# making heatmap for s&p beta\n",
    "sp_beta_with_btc.hvplot.heatmap(\n",
    "    title = \"2018 Heatmap: Beta relative to S&P 500\",\n",
    "    fill_color = 'cyan', \n",
    "    hover_color = 'orange', \n",
    "    ylabel = 'Cryptocurrency'\n",
    "\n",
    ")"
   ]
  },
  {
   "cell_type": "code",
   "execution_count": null,
   "id": "338f2eaf",
   "metadata": {},
   "outputs": [],
   "source": []
  },
  {
   "cell_type": "code",
   "execution_count": null,
   "id": "afae3aef",
   "metadata": {},
   "outputs": [],
   "source": []
  },
  {
   "cell_type": "code",
   "execution_count": null,
   "id": "ca645d8a",
   "metadata": {},
   "outputs": [],
   "source": []
  },
  {
   "cell_type": "code",
   "execution_count": null,
   "id": "c3461086",
   "metadata": {},
   "outputs": [],
   "source": []
  },
  {
   "cell_type": "code",
   "execution_count": null,
   "id": "178a9dfa",
   "metadata": {},
   "outputs": [],
   "source": []
  },
  {
   "cell_type": "code",
   "execution_count": null,
   "id": "cb55f785",
   "metadata": {},
   "outputs": [],
   "source": []
  },
  {
   "cell_type": "code",
   "execution_count": null,
   "id": "c462907a",
   "metadata": {},
   "outputs": [],
   "source": []
  },
  {
   "cell_type": "code",
   "execution_count": null,
   "id": "c93cc8d1",
   "metadata": {},
   "outputs": [],
   "source": []
  },
  {
   "cell_type": "code",
   "execution_count": null,
   "id": "8824b548",
   "metadata": {},
   "outputs": [],
   "source": []
  },
  {
   "cell_type": "code",
   "execution_count": null,
   "id": "ebf40f32",
   "metadata": {},
   "outputs": [],
   "source": []
  },
  {
   "cell_type": "code",
   "execution_count": null,
   "id": "cc41a3cb",
   "metadata": {},
   "outputs": [],
   "source": []
  },
  {
   "cell_type": "code",
   "execution_count": null,
   "id": "b2ef5095",
   "metadata": {},
   "outputs": [],
   "source": []
  },
  {
   "cell_type": "code",
   "execution_count": null,
   "id": "826cf882",
   "metadata": {},
   "outputs": [],
   "source": []
  },
  {
   "cell_type": "code",
   "execution_count": null,
   "id": "1aa9a4bd",
   "metadata": {},
   "outputs": [],
   "source": []
  },
  {
   "cell_type": "code",
   "execution_count": null,
   "id": "4a97ca58",
   "metadata": {},
   "outputs": [],
   "source": []
  },
  {
   "cell_type": "code",
   "execution_count": null,
   "id": "46f64747",
   "metadata": {},
   "outputs": [],
   "source": []
  },
  {
   "cell_type": "code",
   "execution_count": null,
   "id": "3b0df8ec",
   "metadata": {},
   "outputs": [],
   "source": []
  },
  {
   "cell_type": "code",
   "execution_count": null,
   "id": "3e60b494",
   "metadata": {},
   "outputs": [],
   "source": []
  },
  {
   "cell_type": "code",
   "execution_count": null,
   "id": "ca5ae2ee",
   "metadata": {},
   "outputs": [],
   "source": []
  },
  {
   "cell_type": "code",
   "execution_count": null,
   "id": "6a539f4e",
   "metadata": {},
   "outputs": [],
   "source": []
  },
  {
   "cell_type": "code",
   "execution_count": null,
   "id": "62ceb12a",
   "metadata": {},
   "outputs": [],
   "source": []
  },
  {
   "cell_type": "code",
   "execution_count": null,
   "id": "d66e0a3d",
   "metadata": {},
   "outputs": [],
   "source": []
  },
  {
   "cell_type": "code",
   "execution_count": null,
   "id": "cbf448c9",
   "metadata": {},
   "outputs": [],
   "source": []
  },
  {
   "cell_type": "code",
   "execution_count": null,
   "id": "1d6b5dbc",
   "metadata": {},
   "outputs": [],
   "source": []
  },
  {
   "cell_type": "code",
   "execution_count": null,
   "id": "84c2e2cd",
   "metadata": {},
   "outputs": [],
   "source": []
  },
  {
   "cell_type": "code",
   "execution_count": null,
   "id": "8660345b",
   "metadata": {},
   "outputs": [],
   "source": []
  },
  {
   "cell_type": "code",
   "execution_count": null,
   "id": "cc7b198c",
   "metadata": {},
   "outputs": [],
   "source": []
  },
  {
   "cell_type": "code",
   "execution_count": null,
   "id": "d056f061",
   "metadata": {},
   "outputs": [],
   "source": []
  },
  {
   "cell_type": "code",
   "execution_count": null,
   "id": "4454f122",
   "metadata": {},
   "outputs": [],
   "source": []
  },
  {
   "cell_type": "code",
   "execution_count": null,
   "id": "7b4b8f5a",
   "metadata": {},
   "outputs": [],
   "source": []
  },
  {
   "cell_type": "code",
   "execution_count": null,
   "id": "1dafd165",
   "metadata": {},
   "outputs": [],
   "source": []
  },
  {
   "cell_type": "code",
   "execution_count": null,
   "id": "200d1779",
   "metadata": {},
   "outputs": [],
   "source": []
  },
  {
   "cell_type": "code",
   "execution_count": null,
   "id": "1c3bcd63",
   "metadata": {},
   "outputs": [],
   "source": []
  }
 ],
 "metadata": {
  "kernelspec": {
   "display_name": "Python (dev)",
   "language": "python",
   "name": "dev"
  },
  "language_info": {
   "codemirror_mode": {
    "name": "ipython",
    "version": 3
   },
   "file_extension": ".py",
   "mimetype": "text/x-python",
   "name": "python",
   "nbconvert_exporter": "python",
   "pygments_lexer": "ipython3",
   "version": "3.7.10"
  }
 },
 "nbformat": 4,
 "nbformat_minor": 5
}
