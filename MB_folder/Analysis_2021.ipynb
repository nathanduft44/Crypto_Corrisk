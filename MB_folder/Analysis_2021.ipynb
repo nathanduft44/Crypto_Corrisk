{
 "cells": [
  {
   "cell_type": "code",
   "execution_count": 1,
   "id": "5f659733",
   "metadata": {},
   "outputs": [
    {
     "data": {
      "text/plain": [
       "'\\nFor now, we keep it simple. If we need to expand, we can. \\nWe are taking what we need to in order to understand how each basket of currencies \\nis correlated to the market proxy (bitcoin)\\n'"
      ]
     },
     "execution_count": 1,
     "metadata": {},
     "output_type": "execute_result"
    }
   ],
   "source": [
    "# GOAL: HAVE EACH ANALYSIS SECTION COMPUTE A STANDARD SET OF CALCULATIONS FOR RISK METRICS AND CORRELATION\n",
    "\n",
    "\"\"\"\n",
    "For now, we keep it simple. If we need to expand, we can. \n",
    "We are taking what we need to in order to understand how each basket of currencies \n",
    "is correlated to the market proxy (bitcoin)\n",
    "\"\"\""
   ]
  },
  {
   "cell_type": "code",
   "execution_count": 2,
   "id": "a6807ecc",
   "metadata": {},
   "outputs": [
    {
     "ename": "ModuleNotFoundError",
     "evalue": "No module named 'MCForecastTools'",
     "output_type": "error",
     "traceback": [
      "\u001b[1;31m---------------------------------------------------------------------------\u001b[0m",
      "\u001b[1;31mModuleNotFoundError\u001b[0m                       Traceback (most recent call last)",
      "\u001b[1;32m<ipython-input-2-328d3b092607>\u001b[0m in \u001b[0;36m<module>\u001b[1;34m\u001b[0m\n\u001b[0;32m      5\u001b[0m \u001b[1;32mimport\u001b[0m \u001b[0mcsv\u001b[0m\u001b[1;33m\u001b[0m\u001b[1;33m\u001b[0m\u001b[0m\n\u001b[0;32m      6\u001b[0m \u001b[1;32mfrom\u001b[0m \u001b[0mpathlib\u001b[0m \u001b[1;32mimport\u001b[0m \u001b[0mPath\u001b[0m\u001b[1;33m\u001b[0m\u001b[1;33m\u001b[0m\u001b[0m\n\u001b[1;32m----> 7\u001b[1;33m \u001b[1;32mfrom\u001b[0m \u001b[0mMCForecastTools\u001b[0m \u001b[1;32mimport\u001b[0m \u001b[0mMCSimulation\u001b[0m\u001b[1;33m\u001b[0m\u001b[1;33m\u001b[0m\u001b[0m\n\u001b[0m\u001b[0;32m      8\u001b[0m \u001b[1;33m\u001b[0m\u001b[0m\n\u001b[0;32m      9\u001b[0m \u001b[1;33m\u001b[0m\u001b[0m\n",
      "\u001b[1;31mModuleNotFoundError\u001b[0m: No module named 'MCForecastTools'"
     ]
    }
   ],
   "source": [
    "# STEP 1: IMPORT DEPENDENCIES\n",
    "#For basic calculations:\n",
    "import pandas as pd\n",
    "import numpy as np\n",
    "import csv\n",
    "from pathlib import Path\n",
    "# from MCForecastTools import MCSimulation\n",
    "\n",
    "\n",
    "#For Heatmap:\n",
    "import seaborn as sns\n",
    "%matplotlib inline"
   ]
  },
  {
   "cell_type": "code",
   "execution_count": null,
   "id": "4abacb2b",
   "metadata": {},
   "outputs": [],
   "source": [
    "# STEP 2: IMPORT DATA AS DATAFRAME\n",
    "\"\"\"\n",
    "Determnine if we are reading csv data, running individual api calls, or querying an in-house database\n",
    "\"\"\"\n",
    "#reading in csv data\n",
    "df_2021 = pd.read_csv(\n",
    "    Path('2021_data.csv')\n",
    ").set_index('Month')"
   ]
  },
  {
   "cell_type": "code",
   "execution_count": null,
   "id": "cec37369",
   "metadata": {},
   "outputs": [],
   "source": [
    "# View the dataframe\n",
    "df_2021.describe()"
   ]
  },
  {
   "cell_type": "code",
   "execution_count": null,
   "id": "1934efd8",
   "metadata": {},
   "outputs": [],
   "source": [
    "# Clean the dataframe to only include the closing price\n",
    "final_2021_df = pd.DataFrame()\n",
    "final_2021_df['BTC_Monthly_Close'] = df_2021['price_close']\n",
    "final_2021_df['ETH_Monthly_Close'] = df_2021['price_close.1']\n",
    "final_2021_df['LTC_Monthly_Close'] = df_2021['price_close.2']\n",
    "final_2021_df['ADA_Monthly_Close'] = df_2021['price_close.3']\n",
    "final_2021_df['XLM_Monthly_Close'] = df_2021['price_close.4']\n",
    "final_2021_df['XRP_Monthly_Close'] = df_2021['price_close.5']\n",
    "final_2021_df['LISK_Monthly_Close'] = df_2021['price_close.6']\n",
    "final_2021_df['WAVES_Monthly_Close'] = df_2021['price_close.7']\n",
    "final_2021_df['ZEC_Monthly_Close'] = df_2021['price_close.8']\n",
    "final_2021_df['SC_Monthly_Close'] = df_2021['price_close.9']\n",
    "final_2021_df['USDT_Monthly_Close'] = df_2021['price_close.10']\n",
    "final_2021_df['DASH_Monthly_Close'] = df_2021['price_close.11']\n",
    "final_2021_df['DOGE_Monthly_Close'] = df_2021['price_close.12']\n",
    "\n",
    "final_2021_df"
   ]
  },
  {
   "cell_type": "code",
   "execution_count": null,
   "id": "245d583d",
   "metadata": {},
   "outputs": [],
   "source": [
    "# STEP 3: CALCULATE Monthly RETURNS FOR EACH CURRENCY IN Designated Time range from  DATAFRAME, DROP NULL VALUES\n",
    "\"\"\"\n",
    "\n",
    "Will need: .pct_change().dropna(inplace = True)\n",
    "\n",
    "\"\"\"\n",
    "btc_2021_df = final_2021_df['BTC_Monthly_Close'].drop(\n",
    "    labels=['September', 'October', 'November', 'December']).pct_change().fillna(0)\n",
    "btc_2021_df"
   ]
  },
  {
   "cell_type": "code",
   "execution_count": null,
   "id": "9eccf253",
   "metadata": {},
   "outputs": [],
   "source": [
    "eth_2021_df = final_2021_df['ETH_Monthly_Close'].drop(\n",
    "    labels=['September', 'October', 'November', 'December']).pct_change().fillna(0)\n",
    "eth_2021_df"
   ]
  },
  {
   "cell_type": "code",
   "execution_count": null,
   "id": "670457f3",
   "metadata": {},
   "outputs": [],
   "source": [
    "ltc_2021_df = final_2021_df['LTC_Monthly_Close'].drop(\n",
    "    labels=['September', 'October', 'November', 'December']).pct_change().fillna(0)\n",
    "ltc_2021_df"
   ]
  },
  {
   "cell_type": "code",
   "execution_count": null,
   "id": "a5ff4006",
   "metadata": {},
   "outputs": [],
   "source": [
    "ada_2021_df = final_2021_df['ADA_Monthly_Close'].drop(\n",
    "    labels=['September', 'October', 'November', 'December']).pct_change().fillna(0)\n",
    "ada_2021_df"
   ]
  },
  {
   "cell_type": "code",
   "execution_count": null,
   "id": "fa27d412",
   "metadata": {},
   "outputs": [],
   "source": [
    "xlm_2021_df = final_2021_df['XLM_Monthly_Close'].drop(\n",
    "    labels=['September', 'October', 'November', 'December']).pct_change().fillna(0)\n",
    "xlm_2021_df"
   ]
  },
  {
   "cell_type": "code",
   "execution_count": null,
   "id": "f233aee1",
   "metadata": {},
   "outputs": [],
   "source": [
    "xrp_2021_df = final_2021_df['XRP_Monthly_Close'].drop(\n",
    "    labels=['September', 'October', 'November', 'December']).pct_change().fillna(0)\n",
    "xrp_2021_df"
   ]
  },
  {
   "cell_type": "code",
   "execution_count": null,
   "id": "08df7720",
   "metadata": {},
   "outputs": [],
   "source": [
    "lisk_2021_df = final_2021_df['LISK_Monthly_Close'].drop(\n",
    "    labels=['September', 'October', 'November', 'December']).pct_change().fillna(0)\n",
    "lisk_2021_df"
   ]
  },
  {
   "cell_type": "code",
   "execution_count": null,
   "id": "7778ad90",
   "metadata": {},
   "outputs": [],
   "source": [
    "waves_2021_df = final_2021_df['WAVES_Monthly_Close'].drop(\n",
    "    labels=['September', 'October', 'November', 'December']).pct_change().fillna(0)\n",
    "waves_2021_df"
   ]
  },
  {
   "cell_type": "code",
   "execution_count": null,
   "id": "c798fa4f",
   "metadata": {},
   "outputs": [],
   "source": [
    "zec_2021_df = final_2021_df['ZEC_Monthly_Close'].drop(\n",
    "    labels=['September', 'October', 'November', 'December']).pct_change().fillna(0)\n",
    "zec_2021_df"
   ]
  },
  {
   "cell_type": "code",
   "execution_count": null,
   "id": "4419a392",
   "metadata": {},
   "outputs": [],
   "source": [
    "sc_2021_df = final_2021_df['SC_Monthly_Close'].drop(\n",
    "    labels=['September', 'October', 'November', 'December']).pct_change().fillna(0)\n",
    "sc_2021_df"
   ]
  },
  {
   "cell_type": "code",
   "execution_count": null,
   "id": "7b1ce496",
   "metadata": {},
   "outputs": [],
   "source": [
    "usdt_2021_df = final_2021_df['USDT_Monthly_Close'].drop(\n",
    "    labels=['September', 'October', 'November', 'December']).pct_change().fillna(0)\n",
    "usdt_2021_df"
   ]
  },
  {
   "cell_type": "code",
   "execution_count": null,
   "id": "75cdcdf8",
   "metadata": {},
   "outputs": [],
   "source": [
    "dash_2021_df = final_2021_df['DASH_Monthly_Close'].drop(\n",
    "    labels=['September', 'October', 'November', 'December']).pct_change().fillna(0)\n",
    "dash_2021_df"
   ]
  },
  {
   "cell_type": "code",
   "execution_count": null,
   "id": "f42c36bd",
   "metadata": {},
   "outputs": [],
   "source": [
    "doge_2021_df = final_2021_df['BTC_Monthly_Close'].drop(\n",
    "    labels=['September', 'October', 'November', 'December']).pct_change().fillna(0)\n",
    "doge_2021_df"
   ]
  },
  {
   "cell_type": "code",
   "execution_count": null,
   "id": "c2bfbf34",
   "metadata": {},
   "outputs": [],
   "source": [
    "# Step 4: Calculate the variance of bitcoin, in this case being used as a proxy for the market.\n",
    "# assign to market variance value\n",
    "market_var = btc_2021_df.var()\n",
    "market_var"
   ]
  },
  {
   "cell_type": "code",
   "execution_count": null,
   "id": "40cbfa30",
   "metadata": {},
   "outputs": [],
   "source": [
    "btc_var = btc_2021_df.var()\n",
    "btc_var"
   ]
  },
  {
   "cell_type": "code",
   "execution_count": null,
   "id": "86a7d3a2",
   "metadata": {},
   "outputs": [],
   "source": [
    "eth_var = eth_2021_df.var()\n",
    "eth_var"
   ]
  },
  {
   "cell_type": "code",
   "execution_count": null,
   "id": "7c48ba63",
   "metadata": {},
   "outputs": [],
   "source": [
    "ltc_var = ltc_2021_df.var()\n",
    "ltc_var"
   ]
  },
  {
   "cell_type": "code",
   "execution_count": null,
   "id": "121b9e85",
   "metadata": {},
   "outputs": [],
   "source": [
    "ada_var = ada_2021_df.var()\n",
    "ada_var"
   ]
  },
  {
   "cell_type": "code",
   "execution_count": null,
   "id": "29a08f9f",
   "metadata": {},
   "outputs": [],
   "source": [
    "xlm_var = xlm_2021_df.var()\n",
    "xlm_var"
   ]
  },
  {
   "cell_type": "code",
   "execution_count": null,
   "id": "9a1d57f5",
   "metadata": {},
   "outputs": [],
   "source": [
    "xrp_var = xrp_2021_df.var()\n",
    "xrp_var"
   ]
  },
  {
   "cell_type": "code",
   "execution_count": null,
   "id": "756f46b6",
   "metadata": {},
   "outputs": [],
   "source": [
    "lisk_var = lisk_2021_df.var()\n",
    "lisk_var"
   ]
  },
  {
   "cell_type": "code",
   "execution_count": null,
   "id": "0a94d85a",
   "metadata": {},
   "outputs": [],
   "source": [
    "waves_var = waves_2021_df.var()\n",
    "waves_var"
   ]
  },
  {
   "cell_type": "code",
   "execution_count": null,
   "id": "0cf585d2",
   "metadata": {},
   "outputs": [],
   "source": [
    "zec_var = zec_2021_df.var()\n",
    "zec_var"
   ]
  },
  {
   "cell_type": "code",
   "execution_count": null,
   "id": "7995aec8",
   "metadata": {},
   "outputs": [],
   "source": [
    "sc_var = sc_2021_df.var()\n",
    "sc_var"
   ]
  },
  {
   "cell_type": "code",
   "execution_count": null,
   "id": "622371d0",
   "metadata": {},
   "outputs": [],
   "source": [
    "usdt_var = usdt_2021_df.var()\n",
    "usdt_var"
   ]
  },
  {
   "cell_type": "code",
   "execution_count": null,
   "id": "7b3906d9",
   "metadata": {},
   "outputs": [],
   "source": [
    "dash_var = dash_2021_df.var()\n",
    "dash_var"
   ]
  },
  {
   "cell_type": "code",
   "execution_count": null,
   "id": "a663f898",
   "metadata": {},
   "outputs": [],
   "source": [
    "doge_var = doge_2021_df.var()\n",
    "doge_var"
   ]
  },
  {
   "cell_type": "code",
   "execution_count": null,
   "id": "062c897c",
   "metadata": {},
   "outputs": [],
   "source": [
    "# STEP 5B: CALCULATE COVARIANCE OF EACH CURRENCY RELATIVE TO BITCOIN\n",
    "\"\"\"\n",
    "Use monthly returns of currency and monthly returns of bitcoin as market proxy\n",
    "\n",
    "\"\"\"\n",
    "\n",
    "mkt_2021_cov = btc_2021_df.cov(btc_2021_df)\n",
    "mkt_2021_cov"
   ]
  },
  {
   "cell_type": "code",
   "execution_count": null,
   "id": "9a89ebbc",
   "metadata": {},
   "outputs": [],
   "source": [
    "eth_2021_cov = eth_2021_df.cov(btc_2021_df)\n",
    "eth_2021_cov"
   ]
  },
  {
   "cell_type": "code",
   "execution_count": null,
   "id": "df65cb71",
   "metadata": {},
   "outputs": [],
   "source": [
    "ltc_2021_cov = ltc_2021_df.cov(btc_2021_df)\n",
    "ltc_2021_cov"
   ]
  },
  {
   "cell_type": "code",
   "execution_count": null,
   "id": "12469af8",
   "metadata": {},
   "outputs": [],
   "source": [
    "ada_2021_cov = ada_2021_df.cov(btc_2021_df)\n",
    "ada_2021_cov"
   ]
  },
  {
   "cell_type": "code",
   "execution_count": null,
   "id": "028c2b96",
   "metadata": {},
   "outputs": [],
   "source": [
    "xlm_2021_cov = xlm_2021_df.cov(btc_2021_df)\n",
    "xlm_2021_cov"
   ]
  },
  {
   "cell_type": "code",
   "execution_count": null,
   "id": "211df739",
   "metadata": {},
   "outputs": [],
   "source": [
    "xrp_2021_cov = xrp_2021_df.cov(btc_2021_df)\n",
    "xrp_2021_cov"
   ]
  },
  {
   "cell_type": "code",
   "execution_count": null,
   "id": "9dfca8d7",
   "metadata": {},
   "outputs": [],
   "source": [
    "lisk_2021_cov = lisk_2021_df.cov(btc_2021_df)\n",
    "lisk_2021_cov"
   ]
  },
  {
   "cell_type": "code",
   "execution_count": null,
   "id": "b4cc3c74",
   "metadata": {},
   "outputs": [],
   "source": [
    "waves_2021_cov = waves_2021_df.cov(btc_2021_df)\n",
    "waves_2021_cov"
   ]
  },
  {
   "cell_type": "code",
   "execution_count": null,
   "id": "a8765cdd",
   "metadata": {},
   "outputs": [],
   "source": [
    "zec_2021_cov = zec_2021_df.cov(btc_2021_df)\n",
    "zec_2021_cov"
   ]
  },
  {
   "cell_type": "code",
   "execution_count": null,
   "id": "5916ad9d",
   "metadata": {},
   "outputs": [],
   "source": [
    "sc_2021_cov = sc_2021_df.cov(btc_2021_df)\n",
    "sc_2021_cov"
   ]
  },
  {
   "cell_type": "code",
   "execution_count": null,
   "id": "760b6473",
   "metadata": {},
   "outputs": [],
   "source": [
    "usdt_2021_cov = usdt_2021_df.cov(btc_2021_df)\n",
    "usdt_2021_cov"
   ]
  },
  {
   "cell_type": "code",
   "execution_count": null,
   "id": "68d2d441",
   "metadata": {},
   "outputs": [],
   "source": [
    "dash_2021_cov = dash_2021_df.cov(btc_2021_df)\n",
    "dash_2021_cov"
   ]
  },
  {
   "cell_type": "code",
   "execution_count": null,
   "id": "e2e896ec",
   "metadata": {},
   "outputs": [],
   "source": [
    "doge_2021_cov = doge_2021_df.cov(btc_2021_df)\n",
    "doge_2021_cov"
   ]
  },
  {
   "cell_type": "code",
   "execution_count": null,
   "id": "f167e943",
   "metadata": {},
   "outputs": [],
   "source": [
    "# STEP 6: CALCULATE BETA OF EACH CURRENCY\n",
    "\n",
    "\"\"\"\n",
    "beta = covariance of asset to market / variance of market\n",
    "\n",
    "use previous calculations for market variance and covariance of assets\n",
    "\"\"\"\n",
    "btc_beta_2021 = mkt_2021_cov / market_var\n",
    "btc_beta_2021"
   ]
  },
  {
   "cell_type": "code",
   "execution_count": null,
   "id": "01014e5f",
   "metadata": {},
   "outputs": [],
   "source": [
    "eth_beta_2021 = eth_2021_cov / market_var\n",
    "eth_beta_2021"
   ]
  },
  {
   "cell_type": "code",
   "execution_count": null,
   "id": "1b09ba59",
   "metadata": {},
   "outputs": [],
   "source": [
    "ltc_beta_2021 = ltc_2021_cov / market_var\n",
    "ltc_beta_2021"
   ]
  },
  {
   "cell_type": "code",
   "execution_count": null,
   "id": "37ec75d3",
   "metadata": {},
   "outputs": [],
   "source": [
    "ada_beta_2021 = ada_2021_cov / market_var\n",
    "ada_beta_2021"
   ]
  },
  {
   "cell_type": "code",
   "execution_count": null,
   "id": "1745c8c3",
   "metadata": {},
   "outputs": [],
   "source": [
    "xlm_beta_2021 = xlm_2021_cov / market_var\n",
    "xlm_beta_2021"
   ]
  },
  {
   "cell_type": "code",
   "execution_count": null,
   "id": "25e5d29d",
   "metadata": {},
   "outputs": [],
   "source": [
    "xrp_beta_2021 = xrp_2021_cov / market_var\n",
    "xrp_beta_2021"
   ]
  },
  {
   "cell_type": "code",
   "execution_count": null,
   "id": "803729ad",
   "metadata": {},
   "outputs": [],
   "source": [
    "lisk_beta_2021 = lisk_2021_cov / market_var\n",
    "lisk_beta_2021"
   ]
  },
  {
   "cell_type": "code",
   "execution_count": null,
   "id": "871fefa0",
   "metadata": {},
   "outputs": [],
   "source": [
    "waves_beta_2021 = waves_2021_cov / market_var\n",
    "waves_beta_2021"
   ]
  },
  {
   "cell_type": "code",
   "execution_count": null,
   "id": "9c75a7b4",
   "metadata": {},
   "outputs": [],
   "source": [
    "zec_beta_2021 = zec_2021_cov / market_var\n",
    "zec_beta_2021"
   ]
  },
  {
   "cell_type": "code",
   "execution_count": null,
   "id": "ec24f4f8",
   "metadata": {},
   "outputs": [],
   "source": [
    "sc_beta_2021 = sc_2021_cov / market_var\n",
    "sc_beta_2021"
   ]
  },
  {
   "cell_type": "code",
   "execution_count": null,
   "id": "91f0a93d",
   "metadata": {},
   "outputs": [],
   "source": [
    "usdt_beta_2021 = usdt_2021_cov / market_var\n",
    "usdt_beta_2021"
   ]
  },
  {
   "cell_type": "code",
   "execution_count": null,
   "id": "31a21dac",
   "metadata": {},
   "outputs": [],
   "source": [
    "dash_beta_2021 = dash_2021_cov / market_var\n",
    "dash_beta_2021"
   ]
  },
  {
   "cell_type": "code",
   "execution_count": null,
   "id": "f7b82b67",
   "metadata": {},
   "outputs": [],
   "source": [
    "doge_beta_2021 = doge_2021_cov / market_var\n",
    "doge_beta_2021"
   ]
  },
  {
   "cell_type": "code",
   "execution_count": null,
   "id": "162ec0e8",
   "metadata": {},
   "outputs": [],
   "source": [
    "# Display Correlation Heatmap With Seaborn\n",
    "\n",
    "\"\"\"\n",
    "NEW CELL to check monthly returns are displayed with pct_change already applied\n",
    "- Take dataframe of daily returns from step 3 (pct_change drop na already applied)\n",
    "\n",
    "NEW CELL to check correlation dataframe\n",
    "- correlation = monthly_returns_dataframe.corr()\n",
    "\n",
    "NEW CELL to display heatmap\n",
    "- sns.heatmap(correlation)\n",
    "\n",
    "\n",
    "\"\"\"\n",
    "correlation = final_2021_df.corr()\n",
    "sns.heatmap(correlation)"
   ]
  },
  {
   "cell_type": "code",
   "execution_count": null,
   "id": "8cd4972e",
   "metadata": {},
   "outputs": [],
   "source": [
    "# # Monte Carlo Simulation for remaining 4 months.\n",
    "\n",
    "# four_month_sim = MCSimulation(\n",
    "#     portfolio_data=final_2021_df,\n",
    "#     weights=[0.25, 0.25, 0.5],\n",
    "#     num_simulation=500,\n",
    "#     num_trading_days= 21 * 4,\n",
    "# )"
   ]
  }
 ],
 "metadata": {
  "kernelspec": {
   "display_name": "Python (dev)",
   "language": "python",
   "name": "dev"
  },
  "language_info": {
   "codemirror_mode": {
    "name": "ipython",
    "version": 3
   },
   "file_extension": ".py",
   "mimetype": "text/x-python",
   "name": "python",
   "nbconvert_exporter": "python",
   "pygments_lexer": "ipython3",
   "version": "3.7.10"
  }
 },
 "nbformat": 4,
 "nbformat_minor": 5
}
