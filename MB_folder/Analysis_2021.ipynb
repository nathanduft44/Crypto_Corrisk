{
 "cells": [
  {
   "cell_type": "code",
   "execution_count": 1,
   "id": "5f659733",
   "metadata": {},
   "outputs": [
    {
     "data": {
      "text/plain": [
       "'\\nFor now, we keep it simple. If we need to expand, we can. \\nWe are taking what we need to in order to understand how each basket of currencies \\nis correlated to the market proxy (bitcoin)\\n'"
      ]
     },
     "execution_count": 1,
     "metadata": {},
     "output_type": "execute_result"
    }
   ],
   "source": [
    "# GOAL: HAVE EACH ANALYSIS SECTION COMPUTE A STANDARD SET OF CALCULATIONS FOR RISK METRICS AND CORRELATION\n",
    "\n",
    "\"\"\"\n",
    "For now, we keep it simple. If we need to expand, we can. \n",
    "We are taking what we need to in order to understand how each basket of currencies \n",
    "is correlated to the market proxy (bitcoin)\n",
    "\"\"\""
   ]
  },
  {
   "cell_type": "code",
   "execution_count": 2,
   "id": "a6807ecc",
   "metadata": {},
   "outputs": [],
   "source": [
    "# STEP 1: IMPORT DEPENDENCIES\n",
    "#For basic calculations:\n",
    "import pandas as pd\n",
    "import numpy as np\n",
    "import csv\n",
    "from pathlib import Path\n",
    "from MCForecastTools import MCSimulation\n",
    "\n",
    "\n",
    "#For Heatmap:\n",
    "import seaborn as sns\n",
    "%matplotlib inline"
   ]
  },
  {
   "cell_type": "code",
   "execution_count": 3,
   "id": "4abacb2b",
   "metadata": {},
   "outputs": [],
   "source": [
    "# STEP 2: IMPORT DATA AS DATAFRAME\n",
    "\"\"\"\n",
    "Determnine if we are reading csv data, running individual api calls, or querying an in-house database\n",
    "\"\"\"\n",
    "#reading in csv data\n",
    "df_2021 = pd.read_csv(\n",
    "    Path('2021_data.csv')\n",
    ").set_index('Month')"
   ]
  },
  {
   "cell_type": "code",
   "execution_count": 4,
   "id": "cec37369",
   "metadata": {},
   "outputs": [
    {
     "data": {
      "text/html": [
       "<div>\n",
       "<style scoped>\n",
       "    .dataframe tbody tr th:only-of-type {\n",
       "        vertical-align: middle;\n",
       "    }\n",
       "\n",
       "    .dataframe tbody tr th {\n",
       "        vertical-align: top;\n",
       "    }\n",
       "\n",
       "    .dataframe thead th {\n",
       "        text-align: right;\n",
       "    }\n",
       "</style>\n",
       "<table border=\"1\" class=\"dataframe\">\n",
       "  <thead>\n",
       "    <tr style=\"text-align: right;\">\n",
       "      <th></th>\n",
       "      <th>price_open</th>\n",
       "      <th>price_close</th>\n",
       "      <th>volume_traded</th>\n",
       "      <th>price_open.1</th>\n",
       "      <th>price_close.1</th>\n",
       "      <th>volume_traded.1</th>\n",
       "      <th>price_open.2</th>\n",
       "      <th>price_close.2</th>\n",
       "      <th>volume_traded.2</th>\n",
       "      <th>price_open.3</th>\n",
       "      <th>...</th>\n",
       "      <th>volume_traded.9</th>\n",
       "      <th>price_open.10</th>\n",
       "      <th>price_close.10</th>\n",
       "      <th>volume_traded.10</th>\n",
       "      <th>price_open.11</th>\n",
       "      <th>price_close.11</th>\n",
       "      <th>volume_traded.11</th>\n",
       "      <th>price_open.12</th>\n",
       "      <th>price_close.12</th>\n",
       "      <th>volume_traded.12</th>\n",
       "    </tr>\n",
       "  </thead>\n",
       "  <tbody>\n",
       "    <tr>\n",
       "      <th>count</th>\n",
       "      <td>12.000000</td>\n",
       "      <td>12.000000</td>\n",
       "      <td>12.000000</td>\n",
       "      <td>12.000000</td>\n",
       "      <td>12.000000</td>\n",
       "      <td>1.200000e+01</td>\n",
       "      <td>12.000000</td>\n",
       "      <td>12.000000</td>\n",
       "      <td>1.200000e+01</td>\n",
       "      <td>12.000000</td>\n",
       "      <td>...</td>\n",
       "      <td>12.000000</td>\n",
       "      <td>12.000000</td>\n",
       "      <td>12.000000</td>\n",
       "      <td>1.200000e+01</td>\n",
       "      <td>12.000000</td>\n",
       "      <td>12.000000</td>\n",
       "      <td>1.200000e+01</td>\n",
       "      <td>12.000000</td>\n",
       "      <td>12.000000</td>\n",
       "      <td>12.000000</td>\n",
       "    </tr>\n",
       "    <tr>\n",
       "      <th>mean</th>\n",
       "      <td>28143.358333</td>\n",
       "      <td>29573.258333</td>\n",
       "      <td>122952.069532</td>\n",
       "      <td>1306.971667</td>\n",
       "      <td>1513.715833</td>\n",
       "      <td>1.975279e+06</td>\n",
       "      <td>113.718333</td>\n",
       "      <td>118.095833</td>\n",
       "      <td>1.680011e+06</td>\n",
       "      <td>0.736251</td>\n",
       "      <td>...</td>\n",
       "      <td>248328.969200</td>\n",
       "      <td>0.011080</td>\n",
       "      <td>0.012388</td>\n",
       "      <td>4.522579e+09</td>\n",
       "      <td>0.667183</td>\n",
       "      <td>0.667125</td>\n",
       "      <td>2.295761e+09</td>\n",
       "      <td>120.730333</td>\n",
       "      <td>128.193000</td>\n",
       "      <td>221831.200443</td>\n",
       "    </tr>\n",
       "    <tr>\n",
       "      <th>std</th>\n",
       "      <td>22588.165003</td>\n",
       "      <td>23180.297716</td>\n",
       "      <td>118445.180264</td>\n",
       "      <td>1132.317010</td>\n",
       "      <td>1240.248479</td>\n",
       "      <td>2.013149e+06</td>\n",
       "      <td>92.443205</td>\n",
       "      <td>94.217980</td>\n",
       "      <td>1.689729e+06</td>\n",
       "      <td>0.695731</td>\n",
       "      <td>...</td>\n",
       "      <td>233779.224627</td>\n",
       "      <td>0.012556</td>\n",
       "      <td>0.012476</td>\n",
       "      <td>4.469727e+09</td>\n",
       "      <td>0.492748</td>\n",
       "      <td>0.492705</td>\n",
       "      <td>2.071428e+09</td>\n",
       "      <td>105.876402</td>\n",
       "      <td>107.481511</td>\n",
       "      <td>236244.455188</td>\n",
       "    </tr>\n",
       "    <tr>\n",
       "      <th>min</th>\n",
       "      <td>0.000000</td>\n",
       "      <td>0.000000</td>\n",
       "      <td>0.000000</td>\n",
       "      <td>0.000000</td>\n",
       "      <td>0.000000</td>\n",
       "      <td>0.000000e+00</td>\n",
       "      <td>0.000000</td>\n",
       "      <td>0.000000</td>\n",
       "      <td>0.000000e+00</td>\n",
       "      <td>0.000000</td>\n",
       "      <td>...</td>\n",
       "      <td>0.000000</td>\n",
       "      <td>0.000000</td>\n",
       "      <td>0.000000</td>\n",
       "      <td>0.000000e+00</td>\n",
       "      <td>0.000000</td>\n",
       "      <td>0.000000</td>\n",
       "      <td>0.000000e+00</td>\n",
       "      <td>0.000000</td>\n",
       "      <td>0.000000</td>\n",
       "      <td>0.000000</td>\n",
       "    </tr>\n",
       "    <tr>\n",
       "      <th>25%</th>\n",
       "      <td>0.000000</td>\n",
       "      <td>0.000000</td>\n",
       "      <td>0.000000</td>\n",
       "      <td>0.000000</td>\n",
       "      <td>0.000000</td>\n",
       "      <td>0.000000e+00</td>\n",
       "      <td>0.000000</td>\n",
       "      <td>0.000000</td>\n",
       "      <td>0.000000e+00</td>\n",
       "      <td>0.000000</td>\n",
       "      <td>...</td>\n",
       "      <td>0.000000</td>\n",
       "      <td>0.000000</td>\n",
       "      <td>0.000000</td>\n",
       "      <td>0.000000e+00</td>\n",
       "      <td>0.000000</td>\n",
       "      <td>0.000000</td>\n",
       "      <td>0.000000e+00</td>\n",
       "      <td>0.000000</td>\n",
       "      <td>0.000000</td>\n",
       "      <td>0.000000</td>\n",
       "    </tr>\n",
       "    <tr>\n",
       "      <th>50%</th>\n",
       "      <td>34096.100000</td>\n",
       "      <td>36175.000000</td>\n",
       "      <td>123646.115750</td>\n",
       "      <td>1367.745000</td>\n",
       "      <td>1670.795000</td>\n",
       "      <td>1.766083e+06</td>\n",
       "      <td>136.845000</td>\n",
       "      <td>144.300000</td>\n",
       "      <td>1.334144e+06</td>\n",
       "      <td>0.768830</td>\n",
       "      <td>...</td>\n",
       "      <td>240541.734400</td>\n",
       "      <td>0.008545</td>\n",
       "      <td>0.011470</td>\n",
       "      <td>4.366915e+09</td>\n",
       "      <td>1.000300</td>\n",
       "      <td>1.000350</td>\n",
       "      <td>2.359378e+09</td>\n",
       "      <td>123.899000</td>\n",
       "      <td>154.570000</td>\n",
       "      <td>176929.537250</td>\n",
       "    </tr>\n",
       "    <tr>\n",
       "      <th>75%</th>\n",
       "      <td>42433.825000</td>\n",
       "      <td>45460.800000</td>\n",
       "      <td>197260.234225</td>\n",
       "      <td>2340.850000</td>\n",
       "      <td>2574.320000</td>\n",
       "      <td>2.856258e+06</td>\n",
       "      <td>171.125000</td>\n",
       "      <td>179.795000</td>\n",
       "      <td>3.181442e+06</td>\n",
       "      <td>1.328704</td>\n",
       "      <td>...</td>\n",
       "      <td>433347.464875</td>\n",
       "      <td>0.015705</td>\n",
       "      <td>0.018100</td>\n",
       "      <td>6.658610e+09</td>\n",
       "      <td>1.000875</td>\n",
       "      <td>1.000725</td>\n",
       "      <td>3.452073e+09</td>\n",
       "      <td>197.295250</td>\n",
       "      <td>197.283000</td>\n",
       "      <td>378695.617000</td>\n",
       "    </tr>\n",
       "    <tr>\n",
       "      <th>max</th>\n",
       "      <td>58780.400000</td>\n",
       "      <td>58786.200000</td>\n",
       "      <td>359063.137600</td>\n",
       "      <td>2776.470000</td>\n",
       "      <td>3219.950000</td>\n",
       "      <td>5.912135e+06</td>\n",
       "      <td>271.520000</td>\n",
       "      <td>271.550000</td>\n",
       "      <td>4.147055e+06</td>\n",
       "      <td>1.740000</td>\n",
       "      <td>...</td>\n",
       "      <td>641654.605300</td>\n",
       "      <td>0.040750</td>\n",
       "      <td>0.040770</td>\n",
       "      <td>1.242713e+10</td>\n",
       "      <td>1.001600</td>\n",
       "      <td>1.001600</td>\n",
       "      <td>6.342791e+09</td>\n",
       "      <td>319.804000</td>\n",
       "      <td>320.197000</td>\n",
       "      <td>619023.179100</td>\n",
       "    </tr>\n",
       "  </tbody>\n",
       "</table>\n",
       "<p>8 rows × 39 columns</p>\n",
       "</div>"
      ],
      "text/plain": [
       "         price_open   price_close  volume_traded  price_open.1  price_close.1  \\\n",
       "count     12.000000     12.000000      12.000000     12.000000      12.000000   \n",
       "mean   28143.358333  29573.258333  122952.069532   1306.971667    1513.715833   \n",
       "std    22588.165003  23180.297716  118445.180264   1132.317010    1240.248479   \n",
       "min        0.000000      0.000000       0.000000      0.000000       0.000000   \n",
       "25%        0.000000      0.000000       0.000000      0.000000       0.000000   \n",
       "50%    34096.100000  36175.000000  123646.115750   1367.745000    1670.795000   \n",
       "75%    42433.825000  45460.800000  197260.234225   2340.850000    2574.320000   \n",
       "max    58780.400000  58786.200000  359063.137600   2776.470000    3219.950000   \n",
       "\n",
       "       volume_traded.1  price_open.2  price_close.2  volume_traded.2  \\\n",
       "count     1.200000e+01     12.000000      12.000000     1.200000e+01   \n",
       "mean      1.975279e+06    113.718333     118.095833     1.680011e+06   \n",
       "std       2.013149e+06     92.443205      94.217980     1.689729e+06   \n",
       "min       0.000000e+00      0.000000       0.000000     0.000000e+00   \n",
       "25%       0.000000e+00      0.000000       0.000000     0.000000e+00   \n",
       "50%       1.766083e+06    136.845000     144.300000     1.334144e+06   \n",
       "75%       2.856258e+06    171.125000     179.795000     3.181442e+06   \n",
       "max       5.912135e+06    271.520000     271.550000     4.147055e+06   \n",
       "\n",
       "       price_open.3  ...  volume_traded.9  price_open.10  price_close.10  \\\n",
       "count     12.000000  ...        12.000000      12.000000       12.000000   \n",
       "mean       0.736251  ...    248328.969200       0.011080        0.012388   \n",
       "std        0.695731  ...    233779.224627       0.012556        0.012476   \n",
       "min        0.000000  ...         0.000000       0.000000        0.000000   \n",
       "25%        0.000000  ...         0.000000       0.000000        0.000000   \n",
       "50%        0.768830  ...    240541.734400       0.008545        0.011470   \n",
       "75%        1.328704  ...    433347.464875       0.015705        0.018100   \n",
       "max        1.740000  ...    641654.605300       0.040750        0.040770   \n",
       "\n",
       "       volume_traded.10  price_open.11  price_close.11  volume_traded.11  \\\n",
       "count      1.200000e+01      12.000000       12.000000      1.200000e+01   \n",
       "mean       4.522579e+09       0.667183        0.667125      2.295761e+09   \n",
       "std        4.469727e+09       0.492748        0.492705      2.071428e+09   \n",
       "min        0.000000e+00       0.000000        0.000000      0.000000e+00   \n",
       "25%        0.000000e+00       0.000000        0.000000      0.000000e+00   \n",
       "50%        4.366915e+09       1.000300        1.000350      2.359378e+09   \n",
       "75%        6.658610e+09       1.000875        1.000725      3.452073e+09   \n",
       "max        1.242713e+10       1.001600        1.001600      6.342791e+09   \n",
       "\n",
       "       price_open.12  price_close.12  volume_traded.12  \n",
       "count      12.000000       12.000000         12.000000  \n",
       "mean      120.730333      128.193000     221831.200443  \n",
       "std       105.876402      107.481511     236244.455188  \n",
       "min         0.000000        0.000000          0.000000  \n",
       "25%         0.000000        0.000000          0.000000  \n",
       "50%       123.899000      154.570000     176929.537250  \n",
       "75%       197.295250      197.283000     378695.617000  \n",
       "max       319.804000      320.197000     619023.179100  \n",
       "\n",
       "[8 rows x 39 columns]"
      ]
     },
     "execution_count": 4,
     "metadata": {},
     "output_type": "execute_result"
    }
   ],
   "source": [
    "# View the dataframe\n",
    "df_2021.describe()"
   ]
  },
  {
   "cell_type": "code",
   "execution_count": 5,
   "id": "1934efd8",
   "metadata": {},
   "outputs": [
    {
     "data": {
      "text/html": [
       "<div>\n",
       "<style scoped>\n",
       "    .dataframe tbody tr th:only-of-type {\n",
       "        vertical-align: middle;\n",
       "    }\n",
       "\n",
       "    .dataframe tbody tr th {\n",
       "        vertical-align: top;\n",
       "    }\n",
       "\n",
       "    .dataframe thead th {\n",
       "        text-align: right;\n",
       "    }\n",
       "</style>\n",
       "<table border=\"1\" class=\"dataframe\">\n",
       "  <thead>\n",
       "    <tr style=\"text-align: right;\">\n",
       "      <th></th>\n",
       "      <th>BTC_Monthly_Close</th>\n",
       "      <th>ETH_Monthly_Close</th>\n",
       "      <th>LTC_Monthly_Close</th>\n",
       "      <th>ADA_Monthly_Close</th>\n",
       "      <th>XLM_Monthly_Close</th>\n",
       "      <th>XRP_Monthly_Close</th>\n",
       "      <th>LISK_Monthly_Close</th>\n",
       "      <th>WAVES_Monthly_Close</th>\n",
       "      <th>ZEC_Monthly_Close</th>\n",
       "      <th>SC_Monthly_Close</th>\n",
       "      <th>USDT_Monthly_Close</th>\n",
       "      <th>DASH_Monthly_Close</th>\n",
       "      <th>DOGE_Monthly_Close</th>\n",
       "    </tr>\n",
       "    <tr>\n",
       "      <th>Month</th>\n",
       "      <th></th>\n",
       "      <th></th>\n",
       "      <th></th>\n",
       "      <th></th>\n",
       "      <th></th>\n",
       "      <th></th>\n",
       "      <th></th>\n",
       "      <th></th>\n",
       "      <th></th>\n",
       "      <th></th>\n",
       "      <th></th>\n",
       "      <th></th>\n",
       "      <th></th>\n",
       "    </tr>\n",
       "  </thead>\n",
       "  <tbody>\n",
       "    <tr>\n",
       "      <th>January</th>\n",
       "      <td>33122.0</td>\n",
       "      <td>1313.70</td>\n",
       "      <td>129.68</td>\n",
       "      <td>0.345201</td>\n",
       "      <td>0.037000</td>\n",
       "      <td>0.307000</td>\n",
       "      <td>0.49561</td>\n",
       "      <td>1.322039</td>\n",
       "      <td>6.5927</td>\n",
       "      <td>85.61</td>\n",
       "      <td>0.00740</td>\n",
       "      <td>1.0008</td>\n",
       "      <td>102.245</td>\n",
       "    </tr>\n",
       "    <tr>\n",
       "      <th>February</th>\n",
       "      <td>45245.4</td>\n",
       "      <td>1422.70</td>\n",
       "      <td>165.39</td>\n",
       "      <td>1.315604</td>\n",
       "      <td>0.048255</td>\n",
       "      <td>0.406000</td>\n",
       "      <td>0.41661</td>\n",
       "      <td>2.912001</td>\n",
       "      <td>8.8705</td>\n",
       "      <td>111.34</td>\n",
       "      <td>0.00964</td>\n",
       "      <td>1.0016</td>\n",
       "      <td>197.113</td>\n",
       "    </tr>\n",
       "    <tr>\n",
       "      <th>March</th>\n",
       "      <td>58786.2</td>\n",
       "      <td>1918.89</td>\n",
       "      <td>196.81</td>\n",
       "      <td>1.192370</td>\n",
       "      <td>0.053829</td>\n",
       "      <td>0.405683</td>\n",
       "      <td>0.56954</td>\n",
       "      <td>6.240000</td>\n",
       "      <td>11.9979</td>\n",
       "      <td>158.36</td>\n",
       "      <td>0.02585</td>\n",
       "      <td>1.0004</td>\n",
       "      <td>222.759</td>\n",
       "    </tr>\n",
       "    <tr>\n",
       "      <th>April</th>\n",
       "      <td>57780.0</td>\n",
       "      <td>2776.47</td>\n",
       "      <td>271.55</td>\n",
       "      <td>1.354226</td>\n",
       "      <td>0.338456</td>\n",
       "      <td>0.529969</td>\n",
       "      <td>1.60042</td>\n",
       "      <td>5.449347</td>\n",
       "      <td>23.3121</td>\n",
       "      <td>245.63</td>\n",
       "      <td>0.04077</td>\n",
       "      <td>1.0011</td>\n",
       "      <td>320.197</td>\n",
       "    </tr>\n",
       "    <tr>\n",
       "      <th>May</th>\n",
       "      <td>37303.8</td>\n",
       "      <td>2705.69</td>\n",
       "      <td>188.09</td>\n",
       "      <td>1.740000</td>\n",
       "      <td>0.325874</td>\n",
       "      <td>0.402200</td>\n",
       "      <td>1.04118</td>\n",
       "      <td>3.555353</td>\n",
       "      <td>13.8872</td>\n",
       "      <td>162.41</td>\n",
       "      <td>0.01785</td>\n",
       "      <td>1.0003</td>\n",
       "      <td>197.793</td>\n",
       "    </tr>\n",
       "    <tr>\n",
       "      <th>June</th>\n",
       "      <td>35046.2</td>\n",
       "      <td>2276.66</td>\n",
       "      <td>144.17</td>\n",
       "      <td>1.384683</td>\n",
       "      <td>0.254286</td>\n",
       "      <td>0.284498</td>\n",
       "      <td>0.70304</td>\n",
       "      <td>2.671989</td>\n",
       "      <td>16.2969</td>\n",
       "      <td>131.01</td>\n",
       "      <td>0.01330</td>\n",
       "      <td>1.0002</td>\n",
       "      <td>145.400</td>\n",
       "    </tr>\n",
       "    <tr>\n",
       "      <th>July</th>\n",
       "      <td>41488.5</td>\n",
       "      <td>2530.53</td>\n",
       "      <td>144.43</td>\n",
       "      <td>1.318233</td>\n",
       "      <td>0.207632</td>\n",
       "      <td>0.284442</td>\n",
       "      <td>0.74644</td>\n",
       "      <td>3.222598</td>\n",
       "      <td>16.5839</td>\n",
       "      <td>111.18</td>\n",
       "      <td>0.01500</td>\n",
       "      <td>1.0007</td>\n",
       "      <td>163.740</td>\n",
       "    </tr>\n",
       "    <tr>\n",
       "      <th>August</th>\n",
       "      <td>46107.0</td>\n",
       "      <td>3219.95</td>\n",
       "      <td>177.03</td>\n",
       "      <td>1.845190</td>\n",
       "      <td>0.287418</td>\n",
       "      <td>0.346739</td>\n",
       "      <td>1.03152</td>\n",
       "      <td>4.161496</td>\n",
       "      <td>19.4199</td>\n",
       "      <td>141.23</td>\n",
       "      <td>0.01885</td>\n",
       "      <td>1.0004</td>\n",
       "      <td>189.069</td>\n",
       "    </tr>\n",
       "    <tr>\n",
       "      <th>September</th>\n",
       "      <td>0.0</td>\n",
       "      <td>0.00</td>\n",
       "      <td>0.00</td>\n",
       "      <td>0.000000</td>\n",
       "      <td>0.000000</td>\n",
       "      <td>0.000000</td>\n",
       "      <td>0.00000</td>\n",
       "      <td>0.000000</td>\n",
       "      <td>0.0000</td>\n",
       "      <td>0.00</td>\n",
       "      <td>0.00000</td>\n",
       "      <td>0.0000</td>\n",
       "      <td>0.000</td>\n",
       "    </tr>\n",
       "    <tr>\n",
       "      <th>October</th>\n",
       "      <td>0.0</td>\n",
       "      <td>0.00</td>\n",
       "      <td>0.00</td>\n",
       "      <td>0.000000</td>\n",
       "      <td>0.000000</td>\n",
       "      <td>0.000000</td>\n",
       "      <td>0.00000</td>\n",
       "      <td>0.000000</td>\n",
       "      <td>0.0000</td>\n",
       "      <td>0.00</td>\n",
       "      <td>0.00000</td>\n",
       "      <td>0.0000</td>\n",
       "      <td>0.000</td>\n",
       "    </tr>\n",
       "    <tr>\n",
       "      <th>November</th>\n",
       "      <td>0.0</td>\n",
       "      <td>0.00</td>\n",
       "      <td>0.00</td>\n",
       "      <td>0.000000</td>\n",
       "      <td>0.000000</td>\n",
       "      <td>0.000000</td>\n",
       "      <td>0.00000</td>\n",
       "      <td>0.000000</td>\n",
       "      <td>0.0000</td>\n",
       "      <td>0.00</td>\n",
       "      <td>0.00000</td>\n",
       "      <td>0.0000</td>\n",
       "      <td>0.000</td>\n",
       "    </tr>\n",
       "    <tr>\n",
       "      <th>December</th>\n",
       "      <td>0.0</td>\n",
       "      <td>0.00</td>\n",
       "      <td>0.00</td>\n",
       "      <td>0.000000</td>\n",
       "      <td>0.000000</td>\n",
       "      <td>0.000000</td>\n",
       "      <td>0.00000</td>\n",
       "      <td>0.000000</td>\n",
       "      <td>0.0000</td>\n",
       "      <td>0.00</td>\n",
       "      <td>0.00000</td>\n",
       "      <td>0.0000</td>\n",
       "      <td>0.000</td>\n",
       "    </tr>\n",
       "  </tbody>\n",
       "</table>\n",
       "</div>"
      ],
      "text/plain": [
       "           BTC_Monthly_Close  ETH_Monthly_Close  LTC_Monthly_Close  \\\n",
       "Month                                                                \n",
       "January              33122.0            1313.70             129.68   \n",
       "February             45245.4            1422.70             165.39   \n",
       "March                58786.2            1918.89             196.81   \n",
       "April                57780.0            2776.47             271.55   \n",
       "May                  37303.8            2705.69             188.09   \n",
       "June                 35046.2            2276.66             144.17   \n",
       "July                 41488.5            2530.53             144.43   \n",
       "August               46107.0            3219.95             177.03   \n",
       "September                0.0               0.00               0.00   \n",
       "October                  0.0               0.00               0.00   \n",
       "November                 0.0               0.00               0.00   \n",
       "December                 0.0               0.00               0.00   \n",
       "\n",
       "           ADA_Monthly_Close  XLM_Monthly_Close  XRP_Monthly_Close  \\\n",
       "Month                                                                \n",
       "January             0.345201           0.037000           0.307000   \n",
       "February            1.315604           0.048255           0.406000   \n",
       "March               1.192370           0.053829           0.405683   \n",
       "April               1.354226           0.338456           0.529969   \n",
       "May                 1.740000           0.325874           0.402200   \n",
       "June                1.384683           0.254286           0.284498   \n",
       "July                1.318233           0.207632           0.284442   \n",
       "August              1.845190           0.287418           0.346739   \n",
       "September           0.000000           0.000000           0.000000   \n",
       "October             0.000000           0.000000           0.000000   \n",
       "November            0.000000           0.000000           0.000000   \n",
       "December            0.000000           0.000000           0.000000   \n",
       "\n",
       "           LISK_Monthly_Close  WAVES_Monthly_Close  ZEC_Monthly_Close  \\\n",
       "Month                                                                   \n",
       "January               0.49561             1.322039             6.5927   \n",
       "February              0.41661             2.912001             8.8705   \n",
       "March                 0.56954             6.240000            11.9979   \n",
       "April                 1.60042             5.449347            23.3121   \n",
       "May                   1.04118             3.555353            13.8872   \n",
       "June                  0.70304             2.671989            16.2969   \n",
       "July                  0.74644             3.222598            16.5839   \n",
       "August                1.03152             4.161496            19.4199   \n",
       "September             0.00000             0.000000             0.0000   \n",
       "October               0.00000             0.000000             0.0000   \n",
       "November              0.00000             0.000000             0.0000   \n",
       "December              0.00000             0.000000             0.0000   \n",
       "\n",
       "           SC_Monthly_Close  USDT_Monthly_Close  DASH_Monthly_Close  \\\n",
       "Month                                                                 \n",
       "January               85.61             0.00740              1.0008   \n",
       "February             111.34             0.00964              1.0016   \n",
       "March                158.36             0.02585              1.0004   \n",
       "April                245.63             0.04077              1.0011   \n",
       "May                  162.41             0.01785              1.0003   \n",
       "June                 131.01             0.01330              1.0002   \n",
       "July                 111.18             0.01500              1.0007   \n",
       "August               141.23             0.01885              1.0004   \n",
       "September              0.00             0.00000              0.0000   \n",
       "October                0.00             0.00000              0.0000   \n",
       "November               0.00             0.00000              0.0000   \n",
       "December               0.00             0.00000              0.0000   \n",
       "\n",
       "           DOGE_Monthly_Close  \n",
       "Month                          \n",
       "January               102.245  \n",
       "February              197.113  \n",
       "March                 222.759  \n",
       "April                 320.197  \n",
       "May                   197.793  \n",
       "June                  145.400  \n",
       "July                  163.740  \n",
       "August                189.069  \n",
       "September               0.000  \n",
       "October                 0.000  \n",
       "November                0.000  \n",
       "December                0.000  "
      ]
     },
     "execution_count": 5,
     "metadata": {},
     "output_type": "execute_result"
    }
   ],
   "source": [
    "# Clean the dataframe to only include the closing price\n",
    "final_2021_df = pd.DataFrame()\n",
    "final_2021_df['BTC_Monthly_Close'] = df_2021['price_close']\n",
    "final_2021_df['ETH_Monthly_Close'] = df_2021['price_close.1']\n",
    "final_2021_df['LTC_Monthly_Close'] = df_2021['price_close.2']\n",
    "final_2021_df['ADA_Monthly_Close'] = df_2021['price_close.3']\n",
    "final_2021_df['XLM_Monthly_Close'] = df_2021['price_close.4']\n",
    "final_2021_df['XRP_Monthly_Close'] = df_2021['price_close.5']\n",
    "final_2021_df['LISK_Monthly_Close'] = df_2021['price_close.6']\n",
    "final_2021_df['WAVES_Monthly_Close'] = df_2021['price_close.7']\n",
    "final_2021_df['ZEC_Monthly_Close'] = df_2021['price_close.8']\n",
    "final_2021_df['SC_Monthly_Close'] = df_2021['price_close.9']\n",
    "final_2021_df['USDT_Monthly_Close'] = df_2021['price_close.10']\n",
    "final_2021_df['DASH_Monthly_Close'] = df_2021['price_close.11']\n",
    "final_2021_df['DOGE_Monthly_Close'] = df_2021['price_close.12']\n",
    "\n",
    "final_2021_df"
   ]
  },
  {
   "cell_type": "code",
   "execution_count": 6,
   "id": "245d583d",
   "metadata": {},
   "outputs": [
    {
     "data": {
      "text/plain": [
       "Month\n",
       "January     0.000000\n",
       "February    0.366023\n",
       "March       0.299275\n",
       "April      -0.017116\n",
       "May        -0.354382\n",
       "June       -0.060519\n",
       "July        0.183823\n",
       "August      0.111320\n",
       "Name: BTC_Monthly_Close, dtype: float64"
      ]
     },
     "execution_count": 6,
     "metadata": {},
     "output_type": "execute_result"
    }
   ],
   "source": [
    "# STEP 3: CALCULATE Monthly RETURNS FOR EACH CURRENCY IN Designated Time range from  DATAFRAME, DROP NULL VALUES\n",
    "\"\"\"\n",
    "\n",
    "Will need: .pct_change().dropna(inplace = True)\n",
    "\n",
    "\"\"\"\n",
    "btc_2021_df = final_2021_df['BTC_Monthly_Close'].drop(\n",
    "    labels=['September', 'October', 'November', 'December']).pct_change().fillna(0)\n",
    "btc_2021_df"
   ]
  },
  {
   "cell_type": "code",
   "execution_count": 7,
   "id": "9eccf253",
   "metadata": {},
   "outputs": [
    {
     "data": {
      "text/plain": [
       "Month\n",
       "January     0.000000\n",
       "February    0.082972\n",
       "March       0.348766\n",
       "April       0.446915\n",
       "May        -0.025493\n",
       "June       -0.158566\n",
       "July        0.111510\n",
       "August      0.272441\n",
       "Name: ETH_Monthly_Close, dtype: float64"
      ]
     },
     "execution_count": 7,
     "metadata": {},
     "output_type": "execute_result"
    }
   ],
   "source": [
    "eth_2021_df = final_2021_df['ETH_Monthly_Close'].drop(\n",
    "    labels=['September', 'October', 'November', 'December']).pct_change().fillna(0)\n",
    "eth_2021_df"
   ]
  },
  {
   "cell_type": "code",
   "execution_count": 8,
   "id": "670457f3",
   "metadata": {},
   "outputs": [
    {
     "data": {
      "text/plain": [
       "Month\n",
       "January     0.000000\n",
       "February    0.275370\n",
       "March       0.189975\n",
       "April       0.379757\n",
       "May        -0.307347\n",
       "June       -0.233505\n",
       "July        0.001803\n",
       "August      0.225715\n",
       "Name: LTC_Monthly_Close, dtype: float64"
      ]
     },
     "execution_count": 8,
     "metadata": {},
     "output_type": "execute_result"
    }
   ],
   "source": [
    "ltc_2021_df = final_2021_df['LTC_Monthly_Close'].drop(\n",
    "    labels=['September', 'October', 'November', 'December']).pct_change().fillna(0)\n",
    "ltc_2021_df"
   ]
  },
  {
   "cell_type": "code",
   "execution_count": 9,
   "id": "a5ff4006",
   "metadata": {},
   "outputs": [
    {
     "data": {
      "text/plain": [
       "Month\n",
       "January     0.000000\n",
       "February    2.811125\n",
       "March      -0.093671\n",
       "April       0.135743\n",
       "May         0.284867\n",
       "June       -0.204205\n",
       "July       -0.047989\n",
       "August      0.399745\n",
       "Name: ADA_Monthly_Close, dtype: float64"
      ]
     },
     "execution_count": 9,
     "metadata": {},
     "output_type": "execute_result"
    }
   ],
   "source": [
    "ada_2021_df = final_2021_df['ADA_Monthly_Close'].drop(\n",
    "    labels=['September', 'October', 'November', 'December']).pct_change().fillna(0)\n",
    "ada_2021_df"
   ]
  },
  {
   "cell_type": "code",
   "execution_count": 10,
   "id": "fa27d412",
   "metadata": {},
   "outputs": [
    {
     "data": {
      "text/plain": [
       "Month\n",
       "January     0.000000\n",
       "February    0.304186\n",
       "March       0.115518\n",
       "April       5.287595\n",
       "May        -0.037174\n",
       "June       -0.219682\n",
       "July       -0.183470\n",
       "August      0.384267\n",
       "Name: XLM_Monthly_Close, dtype: float64"
      ]
     },
     "execution_count": 10,
     "metadata": {},
     "output_type": "execute_result"
    }
   ],
   "source": [
    "xlm_2021_df = final_2021_df['XLM_Monthly_Close'].drop(\n",
    "    labels=['September', 'October', 'November', 'December']).pct_change().fillna(0)\n",
    "xlm_2021_df"
   ]
  },
  {
   "cell_type": "code",
   "execution_count": 11,
   "id": "f233aee1",
   "metadata": {},
   "outputs": [
    {
     "data": {
      "text/plain": [
       "Month\n",
       "January     0.000000\n",
       "February    0.322476\n",
       "March      -0.000781\n",
       "April       0.306362\n",
       "May        -0.241088\n",
       "June       -0.292645\n",
       "July       -0.000197\n",
       "August      0.219015\n",
       "Name: XRP_Monthly_Close, dtype: float64"
      ]
     },
     "execution_count": 11,
     "metadata": {},
     "output_type": "execute_result"
    }
   ],
   "source": [
    "xrp_2021_df = final_2021_df['XRP_Monthly_Close'].drop(\n",
    "    labels=['September', 'October', 'November', 'December']).pct_change().fillna(0)\n",
    "xrp_2021_df"
   ]
  },
  {
   "cell_type": "code",
   "execution_count": 12,
   "id": "08df7720",
   "metadata": {},
   "outputs": [
    {
     "data": {
      "text/plain": [
       "Month\n",
       "January     0.000000\n",
       "February   -0.159400\n",
       "March       0.367082\n",
       "April       1.810022\n",
       "May        -0.349433\n",
       "June       -0.324766\n",
       "July        0.061732\n",
       "August      0.381920\n",
       "Name: LISK_Monthly_Close, dtype: float64"
      ]
     },
     "execution_count": 12,
     "metadata": {},
     "output_type": "execute_result"
    }
   ],
   "source": [
    "lisk_2021_df = final_2021_df['LISK_Monthly_Close'].drop(\n",
    "    labels=['September', 'October', 'November', 'December']).pct_change().fillna(0)\n",
    "lisk_2021_df"
   ]
  },
  {
   "cell_type": "code",
   "execution_count": 13,
   "id": "7778ad90",
   "metadata": {},
   "outputs": [
    {
     "data": {
      "text/plain": [
       "Month\n",
       "January     0.000000\n",
       "February    1.202659\n",
       "March       1.142856\n",
       "April      -0.126707\n",
       "May        -0.347563\n",
       "June       -0.248460\n",
       "July        0.206067\n",
       "August      0.291348\n",
       "Name: WAVES_Monthly_Close, dtype: float64"
      ]
     },
     "execution_count": 13,
     "metadata": {},
     "output_type": "execute_result"
    }
   ],
   "source": [
    "waves_2021_df = final_2021_df['WAVES_Monthly_Close'].drop(\n",
    "    labels=['September', 'October', 'November', 'December']).pct_change().fillna(0)\n",
    "waves_2021_df"
   ]
  },
  {
   "cell_type": "code",
   "execution_count": 14,
   "id": "c798fa4f",
   "metadata": {},
   "outputs": [
    {
     "data": {
      "text/plain": [
       "Month\n",
       "January     0.000000\n",
       "February    0.345503\n",
       "March       0.352562\n",
       "April       0.943015\n",
       "May        -0.404292\n",
       "June        0.173519\n",
       "July        0.017611\n",
       "August      0.171009\n",
       "Name: ZEC_Monthly_Close, dtype: float64"
      ]
     },
     "execution_count": 14,
     "metadata": {},
     "output_type": "execute_result"
    }
   ],
   "source": [
    "zec_2021_df = final_2021_df['ZEC_Monthly_Close'].drop(\n",
    "    labels=['September', 'October', 'November', 'December']).pct_change().fillna(0)\n",
    "zec_2021_df"
   ]
  },
  {
   "cell_type": "code",
   "execution_count": 15,
   "id": "4419a392",
   "metadata": {},
   "outputs": [
    {
     "data": {
      "text/plain": [
       "Month\n",
       "January     0.000000\n",
       "February    0.300549\n",
       "March       0.422310\n",
       "April       0.551086\n",
       "May        -0.338802\n",
       "June       -0.193338\n",
       "July       -0.151362\n",
       "August      0.270282\n",
       "Name: SC_Monthly_Close, dtype: float64"
      ]
     },
     "execution_count": 15,
     "metadata": {},
     "output_type": "execute_result"
    }
   ],
   "source": [
    "sc_2021_df = final_2021_df['SC_Monthly_Close'].drop(\n",
    "    labels=['September', 'October', 'November', 'December']).pct_change().fillna(0)\n",
    "sc_2021_df"
   ]
  },
  {
   "cell_type": "code",
   "execution_count": 16,
   "id": "7b1ce496",
   "metadata": {},
   "outputs": [
    {
     "data": {
      "text/plain": [
       "Month\n",
       "January     0.000000\n",
       "February    0.302703\n",
       "March       1.681535\n",
       "April       0.577176\n",
       "May        -0.562178\n",
       "June       -0.254902\n",
       "July        0.127820\n",
       "August      0.256667\n",
       "Name: USDT_Monthly_Close, dtype: float64"
      ]
     },
     "execution_count": 16,
     "metadata": {},
     "output_type": "execute_result"
    }
   ],
   "source": [
    "usdt_2021_df = final_2021_df['USDT_Monthly_Close'].drop(\n",
    "    labels=['September', 'October', 'November', 'December']).pct_change().fillna(0)\n",
    "usdt_2021_df"
   ]
  },
  {
   "cell_type": "code",
   "execution_count": 17,
   "id": "75cdcdf8",
   "metadata": {},
   "outputs": [
    {
     "data": {
      "text/plain": [
       "Month\n",
       "January     0.000000\n",
       "February    0.000799\n",
       "March      -0.001198\n",
       "April       0.000700\n",
       "May        -0.000799\n",
       "June       -0.000100\n",
       "July        0.000500\n",
       "August     -0.000300\n",
       "Name: DASH_Monthly_Close, dtype: float64"
      ]
     },
     "execution_count": 17,
     "metadata": {},
     "output_type": "execute_result"
    }
   ],
   "source": [
    "dash_2021_df = final_2021_df['DASH_Monthly_Close'].drop(\n",
    "    labels=['September', 'October', 'November', 'December']).pct_change().fillna(0)\n",
    "dash_2021_df"
   ]
  },
  {
   "cell_type": "code",
   "execution_count": 18,
   "id": "f42c36bd",
   "metadata": {},
   "outputs": [
    {
     "data": {
      "text/plain": [
       "Month\n",
       "January     0.000000\n",
       "February    0.366023\n",
       "March       0.299275\n",
       "April      -0.017116\n",
       "May        -0.354382\n",
       "June       -0.060519\n",
       "July        0.183823\n",
       "August      0.111320\n",
       "Name: BTC_Monthly_Close, dtype: float64"
      ]
     },
     "execution_count": 18,
     "metadata": {},
     "output_type": "execute_result"
    }
   ],
   "source": [
    "doge_2021_df = final_2021_df['BTC_Monthly_Close'].drop(\n",
    "    labels=['September', 'October', 'November', 'December']).pct_change().fillna(0)\n",
    "doge_2021_df"
   ]
  },
  {
   "cell_type": "code",
   "execution_count": 19,
   "id": "c2bfbf34",
   "metadata": {},
   "outputs": [
    {
     "data": {
      "text/plain": [
       "0.05205133511077541"
      ]
     },
     "execution_count": 19,
     "metadata": {},
     "output_type": "execute_result"
    }
   ],
   "source": [
    "# Step 4: Calculate the variance of bitcoin, in this case being used as a proxy for the market.\n",
    "# assign to market variance value\n",
    "market_var = btc_2021_df.var()\n",
    "market_var"
   ]
  },
  {
   "cell_type": "code",
   "execution_count": 20,
   "id": "40cbfa30",
   "metadata": {},
   "outputs": [
    {
     "data": {
      "text/plain": [
       "0.05205133511077541"
      ]
     },
     "execution_count": 20,
     "metadata": {},
     "output_type": "execute_result"
    }
   ],
   "source": [
    "btc_var = btc_2021_df.var()\n",
    "btc_var"
   ]
  },
  {
   "cell_type": "code",
   "execution_count": 21,
   "id": "86a7d3a2",
   "metadata": {},
   "outputs": [
    {
     "data": {
      "text/plain": [
       "0.04218559061535752"
      ]
     },
     "execution_count": 21,
     "metadata": {},
     "output_type": "execute_result"
    }
   ],
   "source": [
    "eth_var = eth_2021_df.var()\n",
    "eth_var"
   ]
  },
  {
   "cell_type": "code",
   "execution_count": 22,
   "id": "7c48ba63",
   "metadata": {},
   "outputs": [
    {
     "data": {
      "text/plain": [
       "0.06010352366627702"
      ]
     },
     "execution_count": 22,
     "metadata": {},
     "output_type": "execute_result"
    }
   ],
   "source": [
    "ltc_var = ltc_2021_df.var()\n",
    "ltc_var"
   ]
  },
  {
   "cell_type": "code",
   "execution_count": 23,
   "id": "121b9e85",
   "metadata": {},
   "outputs": [
    {
     "data": {
      "text/plain": [
       "0.9807374507117916"
      ]
     },
     "execution_count": 23,
     "metadata": {},
     "output_type": "execute_result"
    }
   ],
   "source": [
    "ada_var = ada_2021_df.var()\n",
    "ada_var"
   ]
  },
  {
   "cell_type": "code",
   "execution_count": 24,
   "id": "29a08f9f",
   "metadata": {},
   "outputs": [
    {
     "data": {
      "text/plain": [
       "3.471918903247612"
      ]
     },
     "execution_count": 24,
     "metadata": {},
     "output_type": "execute_result"
    }
   ],
   "source": [
    "xlm_var = xlm_2021_df.var()\n",
    "xlm_var"
   ]
  },
  {
   "cell_type": "code",
   "execution_count": 25,
   "id": "9a1d57f5",
   "metadata": {},
   "outputs": [
    {
     "data": {
      "text/plain": [
       "0.053903414827781944"
      ]
     },
     "execution_count": 25,
     "metadata": {},
     "output_type": "execute_result"
    }
   ],
   "source": [
    "xrp_var = xrp_2021_df.var()\n",
    "xrp_var"
   ]
  },
  {
   "cell_type": "code",
   "execution_count": 26,
   "id": "756f46b6",
   "metadata": {},
   "outputs": [
    {
     "data": {
      "text/plain": [
       "0.487763767002015"
      ]
     },
     "execution_count": 26,
     "metadata": {},
     "output_type": "execute_result"
    }
   ],
   "source": [
    "lisk_var = lisk_2021_df.var()\n",
    "lisk_var"
   ]
  },
  {
   "cell_type": "code",
   "execution_count": 27,
   "id": "0a94d85a",
   "metadata": {},
   "outputs": [
    {
     "data": {
      "text/plain": [
       "0.35950549275561716"
      ]
     },
     "execution_count": 27,
     "metadata": {},
     "output_type": "execute_result"
    }
   ],
   "source": [
    "waves_var = waves_2021_df.var()\n",
    "waves_var"
   ]
  },
  {
   "cell_type": "code",
   "execution_count": 28,
   "id": "0cf585d2",
   "metadata": {},
   "outputs": [
    {
     "data": {
      "text/plain": [
       "0.14807058915237215"
      ]
     },
     "execution_count": 28,
     "metadata": {},
     "output_type": "execute_result"
    }
   ],
   "source": [
    "zec_var = zec_2021_df.var()\n",
    "zec_var"
   ]
  },
  {
   "cell_type": "code",
   "execution_count": 29,
   "id": "7995aec8",
   "metadata": {},
   "outputs": [
    {
     "data": {
      "text/plain": [
       "0.10398502136265218"
      ]
     },
     "execution_count": 29,
     "metadata": {},
     "output_type": "execute_result"
    }
   ],
   "source": [
    "sc_var = sc_2021_df.var()\n",
    "sc_var"
   ]
  },
  {
   "cell_type": "code",
   "execution_count": 30,
   "id": "622371d0",
   "metadata": {},
   "outputs": [
    {
     "data": {
      "text/plain": [
       "0.4498674766799193"
      ]
     },
     "execution_count": 30,
     "metadata": {},
     "output_type": "execute_result"
    }
   ],
   "source": [
    "usdt_var = usdt_2021_df.var()\n",
    "usdt_var"
   ]
  },
  {
   "cell_type": "code",
   "execution_count": 31,
   "id": "7b3906d9",
   "metadata": {},
   "outputs": [
    {
     "data": {
      "text/plain": [
       "5.04650302855165e-07"
      ]
     },
     "execution_count": 31,
     "metadata": {},
     "output_type": "execute_result"
    }
   ],
   "source": [
    "dash_var = dash_2021_df.var()\n",
    "dash_var"
   ]
  },
  {
   "cell_type": "code",
   "execution_count": 32,
   "id": "a663f898",
   "metadata": {},
   "outputs": [
    {
     "data": {
      "text/plain": [
       "0.05205133511077541"
      ]
     },
     "execution_count": 32,
     "metadata": {},
     "output_type": "execute_result"
    }
   ],
   "source": [
    "doge_var = doge_2021_df.var()\n",
    "doge_var"
   ]
  },
  {
   "cell_type": "code",
   "execution_count": 33,
   "id": "062c897c",
   "metadata": {},
   "outputs": [
    {
     "data": {
      "text/plain": [
       "0.05205133511077539"
      ]
     },
     "execution_count": 33,
     "metadata": {},
     "output_type": "execute_result"
    }
   ],
   "source": [
    "# STEP 5B: CALCULATE COVARIANCE OF EACH CURRENCY RELATIVE TO BITCOIN\n",
    "\"\"\"\n",
    "Use monthly returns of currency and monthly returns of bitcoin as market proxy\n",
    "\n",
    "\"\"\"\n",
    "\n",
    "mkt_2021_cov = btc_2021_df.cov(btc_2021_df)\n",
    "mkt_2021_cov"
   ]
  },
  {
   "cell_type": "code",
   "execution_count": 34,
   "id": "9a89ebbc",
   "metadata": {},
   "outputs": [
    {
     "data": {
      "text/plain": [
       "0.01790181861620817"
      ]
     },
     "execution_count": 34,
     "metadata": {},
     "output_type": "execute_result"
    }
   ],
   "source": [
    "eth_2021_cov = eth_2021_df.cov(btc_2021_df)\n",
    "eth_2021_cov"
   ]
  },
  {
   "cell_type": "code",
   "execution_count": 35,
   "id": "df65cb71",
   "metadata": {},
   "outputs": [
    {
     "data": {
      "text/plain": [
       "0.03778992119180765"
      ]
     },
     "execution_count": 35,
     "metadata": {},
     "output_type": "execute_result"
    }
   ],
   "source": [
    "ltc_2021_cov = ltc_2021_df.cov(btc_2021_df)\n",
    "ltc_2021_cov"
   ]
  },
  {
   "cell_type": "code",
   "execution_count": 36,
   "id": "12469af8",
   "metadata": {},
   "outputs": [
    {
     "data": {
      "text/plain": [
       "0.10409127717173057"
      ]
     },
     "execution_count": 36,
     "metadata": {},
     "output_type": "execute_result"
    }
   ],
   "source": [
    "ada_2021_cov = ada_2021_df.cov(btc_2021_df)\n",
    "ada_2021_cov"
   ]
  },
  {
   "cell_type": "code",
   "execution_count": 37,
   "id": "028c2b96",
   "metadata": {},
   "outputs": [
    {
     "data": {
      "text/plain": [
       "-0.040336285837148836"
      ]
     },
     "execution_count": 37,
     "metadata": {},
     "output_type": "execute_result"
    }
   ],
   "source": [
    "xlm_2021_cov = xlm_2021_df.cov(btc_2021_df)\n",
    "xlm_2021_cov"
   ]
  },
  {
   "cell_type": "code",
   "execution_count": 38,
   "id": "211df739",
   "metadata": {},
   "outputs": [
    {
     "data": {
      "text/plain": [
       "0.03133777073208078"
      ]
     },
     "execution_count": 38,
     "metadata": {},
     "output_type": "execute_result"
    }
   ],
   "source": [
    "xrp_2021_cov = xrp_2021_df.cov(btc_2021_df)\n",
    "xrp_2021_cov"
   ]
  },
  {
   "cell_type": "code",
   "execution_count": 39,
   "id": "9dfca8d7",
   "metadata": {},
   "outputs": [
    {
     "data": {
      "text/plain": [
       "0.014262499121266764"
      ]
     },
     "execution_count": 39,
     "metadata": {},
     "output_type": "execute_result"
    }
   ],
   "source": [
    "lisk_2021_cov = lisk_2021_df.cov(btc_2021_df)\n",
    "lisk_2021_cov"
   ]
  },
  {
   "cell_type": "code",
   "execution_count": 40,
   "id": "b4cc3c74",
   "metadata": {},
   "outputs": [
    {
     "data": {
      "text/plain": [
       "0.12183878970412707"
      ]
     },
     "execution_count": 40,
     "metadata": {},
     "output_type": "execute_result"
    }
   ],
   "source": [
    "waves_2021_cov = waves_2021_df.cov(btc_2021_df)\n",
    "waves_2021_cov"
   ]
  },
  {
   "cell_type": "code",
   "execution_count": 41,
   "id": "a8765cdd",
   "metadata": {},
   "outputs": [
    {
     "data": {
      "text/plain": [
       "0.037895277282204286"
      ]
     },
     "execution_count": 41,
     "metadata": {},
     "output_type": "execute_result"
    }
   ],
   "source": [
    "zec_2021_cov = zec_2021_df.cov(btc_2021_df)\n",
    "zec_2021_cov"
   ]
  },
  {
   "cell_type": "code",
   "execution_count": 42,
   "id": "5916ad9d",
   "metadata": {},
   "outputs": [
    {
     "data": {
      "text/plain": [
       "0.04344837382035444"
      ]
     },
     "execution_count": 42,
     "metadata": {},
     "output_type": "execute_result"
    }
   ],
   "source": [
    "sc_2021_cov = sc_2021_df.cov(btc_2021_df)\n",
    "sc_2021_cov"
   ]
  },
  {
   "cell_type": "code",
   "execution_count": 43,
   "id": "760b6473",
   "metadata": {},
   "outputs": [
    {
     "data": {
      "text/plain": [
       "0.10432340802630805"
      ]
     },
     "execution_count": 43,
     "metadata": {},
     "output_type": "execute_result"
    }
   ],
   "source": [
    "usdt_2021_cov = usdt_2021_df.cov(btc_2021_df)\n",
    "usdt_2021_cov"
   ]
  },
  {
   "cell_type": "code",
   "execution_count": 44,
   "id": "68d2d441",
   "metadata": {},
   "outputs": [
    {
     "data": {
      "text/plain": [
       "4.230061616540932e-05"
      ]
     },
     "execution_count": 44,
     "metadata": {},
     "output_type": "execute_result"
    }
   ],
   "source": [
    "dash_2021_cov = dash_2021_df.cov(btc_2021_df)\n",
    "dash_2021_cov"
   ]
  },
  {
   "cell_type": "code",
   "execution_count": 45,
   "id": "e2e896ec",
   "metadata": {},
   "outputs": [
    {
     "data": {
      "text/plain": [
       "0.05205133511077539"
      ]
     },
     "execution_count": 45,
     "metadata": {},
     "output_type": "execute_result"
    }
   ],
   "source": [
    "doge_2021_cov = doge_2021_df.cov(btc_2021_df)\n",
    "doge_2021_cov"
   ]
  },
  {
   "cell_type": "code",
   "execution_count": 46,
   "id": "f167e943",
   "metadata": {},
   "outputs": [
    {
     "data": {
      "text/plain": [
       "0.9999999999999998"
      ]
     },
     "execution_count": 46,
     "metadata": {},
     "output_type": "execute_result"
    }
   ],
   "source": [
    "# STEP 6: CALCULATE BETA OF EACH CURRENCY\n",
    "\n",
    "\"\"\"\n",
    "beta = covariance of asset to market / variance of market\n",
    "\n",
    "use previous calculations for market variance and covariance of assets\n",
    "\"\"\"\n",
    "btc_beta_2021 = mkt_2021_cov / market_var\n",
    "btc_beta_2021"
   ]
  },
  {
   "cell_type": "code",
   "execution_count": 47,
   "id": "01014e5f",
   "metadata": {},
   "outputs": [
    {
     "data": {
      "text/plain": [
       "0.34392621395992257"
      ]
     },
     "execution_count": 47,
     "metadata": {},
     "output_type": "execute_result"
    }
   ],
   "source": [
    "eth_beta_2021 = eth_2021_cov / market_var\n",
    "eth_beta_2021"
   ]
  },
  {
   "cell_type": "code",
   "execution_count": 48,
   "id": "1b09ba59",
   "metadata": {},
   "outputs": [
    {
     "data": {
      "text/plain": [
       "0.726012524201028"
      ]
     },
     "execution_count": 48,
     "metadata": {},
     "output_type": "execute_result"
    }
   ],
   "source": [
    "ltc_beta_2021 = ltc_2021_cov / market_var\n",
    "ltc_beta_2021"
   ]
  },
  {
   "cell_type": "code",
   "execution_count": 49,
   "id": "37ec75d3",
   "metadata": {},
   "outputs": [
    {
     "data": {
      "text/plain": [
       "1.9997811189704164"
      ]
     },
     "execution_count": 49,
     "metadata": {},
     "output_type": "execute_result"
    }
   ],
   "source": [
    "ada_beta_2021 = ada_2021_cov / market_var\n",
    "ada_beta_2021"
   ]
  },
  {
   "cell_type": "code",
   "execution_count": 50,
   "id": "1745c8c3",
   "metadata": {},
   "outputs": [
    {
     "data": {
      "text/plain": [
       "-0.7749327803274467"
      ]
     },
     "execution_count": 50,
     "metadata": {},
     "output_type": "execute_result"
    }
   ],
   "source": [
    "xlm_beta_2021 = xlm_2021_cov / market_var\n",
    "xlm_beta_2021"
   ]
  },
  {
   "cell_type": "code",
   "execution_count": 51,
   "id": "25e5d29d",
   "metadata": {},
   "outputs": [
    {
     "data": {
      "text/plain": [
       "0.6020550801509295"
      ]
     },
     "execution_count": 51,
     "metadata": {},
     "output_type": "execute_result"
    }
   ],
   "source": [
    "xrp_beta_2021 = xrp_2021_cov / market_var\n",
    "xrp_beta_2021"
   ]
  },
  {
   "cell_type": "code",
   "execution_count": 52,
   "id": "803729ad",
   "metadata": {},
   "outputs": [
    {
     "data": {
      "text/plain": [
       "0.2740083244918383"
      ]
     },
     "execution_count": 52,
     "metadata": {},
     "output_type": "execute_result"
    }
   ],
   "source": [
    "lisk_beta_2021 = lisk_2021_cov / market_var\n",
    "lisk_beta_2021"
   ]
  },
  {
   "cell_type": "code",
   "execution_count": 53,
   "id": "871fefa0",
   "metadata": {},
   "outputs": [
    {
     "data": {
      "text/plain": [
       "2.340742834834694"
      ]
     },
     "execution_count": 53,
     "metadata": {},
     "output_type": "execute_result"
    }
   ],
   "source": [
    "waves_beta_2021 = waves_2021_cov / market_var\n",
    "waves_beta_2021"
   ]
  },
  {
   "cell_type": "code",
   "execution_count": 54,
   "id": "9c75a7b4",
   "metadata": {},
   "outputs": [
    {
     "data": {
      "text/plain": [
       "0.7280366046626034"
      ]
     },
     "execution_count": 54,
     "metadata": {},
     "output_type": "execute_result"
    }
   ],
   "source": [
    "zec_beta_2021 = zec_2021_cov / market_var\n",
    "zec_beta_2021"
   ]
  },
  {
   "cell_type": "code",
   "execution_count": 55,
   "id": "ec24f4f8",
   "metadata": {},
   "outputs": [
    {
     "data": {
      "text/plain": [
       "0.8347216018165109"
      ]
     },
     "execution_count": 55,
     "metadata": {},
     "output_type": "execute_result"
    }
   ],
   "source": [
    "sc_beta_2021 = sc_2021_cov / market_var\n",
    "sc_beta_2021"
   ]
  },
  {
   "cell_type": "code",
   "execution_count": 56,
   "id": "91f0a93d",
   "metadata": {},
   "outputs": [
    {
     "data": {
      "text/plain": [
       "2.004240771236462"
      ]
     },
     "execution_count": 56,
     "metadata": {},
     "output_type": "execute_result"
    }
   ],
   "source": [
    "usdt_beta_2021 = usdt_2021_cov / market_var\n",
    "usdt_beta_2021"
   ]
  },
  {
   "cell_type": "code",
   "execution_count": 57,
   "id": "31a21dac",
   "metadata": {},
   "outputs": [
    {
     "data": {
      "text/plain": [
       "0.0008126711077705374"
      ]
     },
     "execution_count": 57,
     "metadata": {},
     "output_type": "execute_result"
    }
   ],
   "source": [
    "dash_beta_2021 = dash_2021_cov / market_var\n",
    "dash_beta_2021"
   ]
  },
  {
   "cell_type": "code",
   "execution_count": 58,
   "id": "f7b82b67",
   "metadata": {},
   "outputs": [
    {
     "data": {
      "text/plain": [
       "0.9999999999999998"
      ]
     },
     "execution_count": 58,
     "metadata": {},
     "output_type": "execute_result"
    }
   ],
   "source": [
    "doge_beta_2021 = doge_2021_cov / market_var\n",
    "doge_beta_2021"
   ]
  },
  {
   "cell_type": "code",
   "execution_count": 59,
   "id": "162ec0e8",
   "metadata": {},
   "outputs": [
    {
     "data": {
      "text/plain": [
       "<AxesSubplot:>"
      ]
     },
     "execution_count": 59,
     "metadata": {},
     "output_type": "execute_result"
    },
    {
     "data": {
      "image/png": "[encoded data removed]",
      "text/plain": [
       "<Figure size 432x288 with 2 Axes>"
      ]
     },
     "metadata": {
      "needs_background": "light"
     },
     "output_type": "display_data"
    }
   ],
   "source": [
    "# Display Correlation Heatmap With Seaborn\n",
    "\n",
    "\"\"\"\n",
    "NEW CELL to check monthly returns are displayed with pct_change already applied\n",
    "- Take dataframe of daily returns from step 3 (pct_change drop na already applied)\n",
    "\n",
    "NEW CELL to check correlation dataframe\n",
    "- correlation = monthly_returns_dataframe.corr()\n",
    "\n",
    "NEW CELL to display heatmap\n",
    "- sns.heatmap(correlation)\n",
    "\n",
    "\n",
    "\"\"\"\n",
    "correlation = final_2021_df.corr()\n",
    "sns.heatmap(correlation)"
   ]
  },
  {
   "cell_type": "code",
   "execution_count": 70,
   "id": "e2cd4a5c",
   "metadata": {},
   "outputs": [],
   "source": [
    "trading_days = 122"
   ]
  },
  {
   "cell_type": "code",
   "execution_count": 73,
   "id": "8cd4972e",
   "metadata": {},
   "outputs": [
    {
     "ename": "IndexError",
     "evalue": "Too many levels: Index has only 1 level, not 2",
     "output_type": "error",
     "traceback": [
      "\u001b[1;31m---------------------------------------------------------------------------\u001b[0m",
      "\u001b[1;31mIndexError\u001b[0m                                Traceback (most recent call last)",
      "\u001b[1;32m<ipython-input-73-7f838385111a>\u001b[0m in \u001b[0;36m<module>\u001b[1;34m\u001b[0m\n\u001b[0;32m      4\u001b[0m     \u001b[0mweights\u001b[0m\u001b[1;33m=\u001b[0m\u001b[1;33m[\u001b[0m\u001b[1;36m0.25\u001b[0m\u001b[1;33m,\u001b[0m \u001b[1;36m0.25\u001b[0m\u001b[1;33m,\u001b[0m \u001b[1;36m0.5\u001b[0m\u001b[1;33m]\u001b[0m\u001b[1;33m,\u001b[0m\u001b[1;33m\u001b[0m\u001b[1;33m\u001b[0m\u001b[0m\n\u001b[0;32m      5\u001b[0m     \u001b[0mnum_simulation\u001b[0m\u001b[1;33m=\u001b[0m\u001b[1;36m500\u001b[0m\u001b[1;33m,\u001b[0m\u001b[1;33m\u001b[0m\u001b[1;33m\u001b[0m\u001b[0m\n\u001b[1;32m----> 6\u001b[1;33m     \u001b[0mnum_trading_days\u001b[0m \u001b[1;33m=\u001b[0m \u001b[1;34m'trading_days'\u001b[0m\u001b[1;33m,\u001b[0m\u001b[1;33m\u001b[0m\u001b[1;33m\u001b[0m\u001b[0m\n\u001b[0m\u001b[0;32m      7\u001b[0m )\n\u001b[0;32m      8\u001b[0m \u001b[1;33m\u001b[0m\u001b[0m\n",
      "\u001b[1;32m~\\FinTech\\Project_1\\Crypto_Corrisk\\MB_folder\\MCForecastTools.py\u001b[0m in \u001b[0;36m__init__\u001b[1;34m(self, portfolio_data, weights, num_simulation, num_trading_days)\u001b[0m\n\u001b[0;32m     59\u001b[0m \u001b[1;33m\u001b[0m\u001b[0m\n\u001b[0;32m     60\u001b[0m         \u001b[1;31m# Calculate daily return if not within dataframe\u001b[0m\u001b[1;33m\u001b[0m\u001b[1;33m\u001b[0m\u001b[1;33m\u001b[0m\u001b[0m\n\u001b[1;32m---> 61\u001b[1;33m         \u001b[1;32mif\u001b[0m \u001b[1;32mnot\u001b[0m \u001b[1;34m\"daily_return\"\u001b[0m \u001b[1;32min\u001b[0m \u001b[0mportfolio_data\u001b[0m\u001b[1;33m.\u001b[0m\u001b[0mcolumns\u001b[0m\u001b[1;33m.\u001b[0m\u001b[0mget_level_values\u001b[0m\u001b[1;33m(\u001b[0m\u001b[1;36m1\u001b[0m\u001b[1;33m)\u001b[0m\u001b[1;33m.\u001b[0m\u001b[0munique\u001b[0m\u001b[1;33m(\u001b[0m\u001b[1;33m)\u001b[0m\u001b[1;33m:\u001b[0m\u001b[1;33m\u001b[0m\u001b[1;33m\u001b[0m\u001b[0m\n\u001b[0m\u001b[0;32m     62\u001b[0m             \u001b[0mclose_df\u001b[0m \u001b[1;33m=\u001b[0m \u001b[0mportfolio_data\u001b[0m\u001b[1;33m.\u001b[0m\u001b[0mxs\u001b[0m\u001b[1;33m(\u001b[0m\u001b[1;34m'close'\u001b[0m\u001b[1;33m,\u001b[0m\u001b[0mlevel\u001b[0m\u001b[1;33m=\u001b[0m\u001b[1;36m1\u001b[0m\u001b[1;33m,\u001b[0m\u001b[0maxis\u001b[0m\u001b[1;33m=\u001b[0m\u001b[1;36m1\u001b[0m\u001b[1;33m)\u001b[0m\u001b[1;33m.\u001b[0m\u001b[0mpct_change\u001b[0m\u001b[1;33m(\u001b[0m\u001b[1;33m)\u001b[0m\u001b[1;33m\u001b[0m\u001b[1;33m\u001b[0m\u001b[0m\n\u001b[0;32m     63\u001b[0m             \u001b[0mtickers\u001b[0m \u001b[1;33m=\u001b[0m \u001b[0mportfolio_data\u001b[0m\u001b[1;33m.\u001b[0m\u001b[0mcolumns\u001b[0m\u001b[1;33m.\u001b[0m\u001b[0mget_level_values\u001b[0m\u001b[1;33m(\u001b[0m\u001b[1;36m0\u001b[0m\u001b[1;33m)\u001b[0m\u001b[1;33m.\u001b[0m\u001b[0munique\u001b[0m\u001b[1;33m(\u001b[0m\u001b[1;33m)\u001b[0m\u001b[1;33m\u001b[0m\u001b[1;33m\u001b[0m\u001b[0m\n",
      "\u001b[1;32m~\\anaconda3\\envs\\dev\\lib\\site-packages\\pandas\\core\\indexes\\base.py\u001b[0m in \u001b[0;36m_get_level_values\u001b[1;34m(self, level)\u001b[0m\n\u001b[0;32m   1554\u001b[0m         \u001b[0mIndex\u001b[0m\u001b[1;33m(\u001b[0m\u001b[1;33m[\u001b[0m\u001b[1;34m'a'\u001b[0m\u001b[1;33m,\u001b[0m \u001b[1;34m'b'\u001b[0m\u001b[1;33m,\u001b[0m \u001b[1;34m'c'\u001b[0m\u001b[1;33m]\u001b[0m\u001b[1;33m,\u001b[0m \u001b[0mdtype\u001b[0m\u001b[1;33m=\u001b[0m\u001b[1;34m'object'\u001b[0m\u001b[1;33m)\u001b[0m\u001b[1;33m\u001b[0m\u001b[1;33m\u001b[0m\u001b[0m\n\u001b[0;32m   1555\u001b[0m         \"\"\"\n\u001b[1;32m-> 1556\u001b[1;33m         \u001b[0mself\u001b[0m\u001b[1;33m.\u001b[0m\u001b[0m_validate_index_level\u001b[0m\u001b[1;33m(\u001b[0m\u001b[0mlevel\u001b[0m\u001b[1;33m)\u001b[0m\u001b[1;33m\u001b[0m\u001b[1;33m\u001b[0m\u001b[0m\n\u001b[0m\u001b[0;32m   1557\u001b[0m         \u001b[1;32mreturn\u001b[0m \u001b[0mself\u001b[0m\u001b[1;33m\u001b[0m\u001b[1;33m\u001b[0m\u001b[0m\n\u001b[0;32m   1558\u001b[0m \u001b[1;33m\u001b[0m\u001b[0m\n",
      "\u001b[1;32m~\\anaconda3\\envs\\dev\\lib\\site-packages\\pandas\\core\\indexes\\base.py\u001b[0m in \u001b[0;36m_validate_index_level\u001b[1;34m(self, level)\u001b[0m\n\u001b[0;32m   1474\u001b[0m             \u001b[1;32melif\u001b[0m \u001b[0mlevel\u001b[0m \u001b[1;33m>\u001b[0m \u001b[1;36m0\u001b[0m\u001b[1;33m:\u001b[0m\u001b[1;33m\u001b[0m\u001b[1;33m\u001b[0m\u001b[0m\n\u001b[0;32m   1475\u001b[0m                 raise IndexError(\n\u001b[1;32m-> 1476\u001b[1;33m                     \u001b[1;34mf\"Too many levels: Index has only 1 level, not {level + 1}\"\u001b[0m\u001b[1;33m\u001b[0m\u001b[1;33m\u001b[0m\u001b[0m\n\u001b[0m\u001b[0;32m   1477\u001b[0m                 )\n\u001b[0;32m   1478\u001b[0m         \u001b[1;32melif\u001b[0m \u001b[0mlevel\u001b[0m \u001b[1;33m!=\u001b[0m \u001b[0mself\u001b[0m\u001b[1;33m.\u001b[0m\u001b[0mname\u001b[0m\u001b[1;33m:\u001b[0m\u001b[1;33m\u001b[0m\u001b[1;33m\u001b[0m\u001b[0m\n",
      "\u001b[1;31mIndexError\u001b[0m: Too many levels: Index has only 1 level, not 2"
     ]
    }
   ],
   "source": [
    "# # Monte Carlo Simulation for remaining 4 months.\n",
    "four_month_sim = MCSimulation(\n",
    "    portfolio_data=final_2021_df,\n",
    "    weights=[0.25, 0.25, 0.5],\n",
    "    num_simulation=500,\n",
    "    num_trading_days = 'trading_days',\n",
    ")\n",
    "\n"
   ]
  },
  {
   "cell_type": "code",
   "execution_count": null,
   "id": "10d7b38a",
   "metadata": {},
   "outputs": [],
   "source": []
  }
 ],
 "metadata": {
  "kernelspec": {
   "display_name": "Python (dev)",
   "language": "python",
   "name": "dev"
  },
  "language_info": {
   "codemirror_mode": {
    "name": "ipython",
    "version": 3
   },
   "file_extension": ".py",
   "mimetype": "text/x-python",
   "name": "python",
   "nbconvert_exporter": "python",
   "pygments_lexer": "ipython3",
   "version": "3.7.10"
  }
 },
 "nbformat": 4,
 "nbformat_minor": 5
}
