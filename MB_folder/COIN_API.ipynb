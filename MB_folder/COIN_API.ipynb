{
 "cells": [
  {
   "cell_type": "code",
   "execution_count": 2,
   "id": "39b9da90",
   "metadata": {},
   "outputs": [],
   "source": [
    "import os\n",
    "import requests\n",
    "import json\n",
    "import numpy as np\n",
    "from dotenv import load_dotenv\n",
    "import pandas as pd\n",
    "\n",
    "from coinapi_rest_v1.restapi import CoinAPIv1\n",
    "import datetime, sys"
   ]
  },
  {
   "cell_type": "code",
   "execution_count": 3,
   "id": "854cda60",
   "metadata": {},
   "outputs": [
    {
     "data": {
      "text/plain": [
       "True"
      ]
     },
     "execution_count": 3,
     "metadata": {},
     "output_type": "execute_result"
    }
   ],
   "source": [
    "load_dotenv()"
   ]
  },
  {
   "cell_type": "code",
   "execution_count": 4,
   "id": "5f73c121",
   "metadata": {},
   "outputs": [],
   "source": [
    "coin_api_key = os.getenv(\"COIN_API_KEY\")"
   ]
  },
  {
   "cell_type": "code",
   "execution_count": 5,
   "id": "1c6cf085",
   "metadata": {},
   "outputs": [
    {
     "data": {
      "text/plain": [
       "NoneType"
      ]
     },
     "execution_count": 5,
     "metadata": {},
     "output_type": "execute_result"
    }
   ],
   "source": [
    "type(coin_api_key)"
   ]
  },
  {
   "cell_type": "code",
   "execution_count": 6,
   "id": "81587b97",
   "metadata": {},
   "outputs": [],
   "source": [
    "api = CoinAPIv1(coin_api_key)"
   ]
  },
  {
   "cell_type": "code",
   "execution_count": 7,
   "id": "5231e5cb",
   "metadata": {},
   "outputs": [
    {
     "ename": "TypeError",
     "evalue": "expected string or bytes-like object",
     "output_type": "error",
     "traceback": [
      "\u001b[0;31m---------------------------------------------------------------------------\u001b[0m",
      "\u001b[0;31mTypeError\u001b[0m                                 Traceback (most recent call last)",
      "\u001b[0;32m<ipython-input-7-8d2950cd3c6f>\u001b[0m in \u001b[0;36m<module>\u001b[0;34m\u001b[0m\n\u001b[0;32m----> 1\u001b[0;31m \u001b[0mexchanges\u001b[0m \u001b[0;34m=\u001b[0m \u001b[0mapi\u001b[0m\u001b[0;34m.\u001b[0m\u001b[0mmetadata_list_exchanges\u001b[0m\u001b[0;34m(\u001b[0m\u001b[0;34m)\u001b[0m\u001b[0;34m\u001b[0m\u001b[0;34m\u001b[0m\u001b[0m\n\u001b[0m\u001b[1;32m      2\u001b[0m \u001b[0mprint\u001b[0m\u001b[0;34m(\u001b[0m\u001b[0;34m'Exchanges'\u001b[0m\u001b[0;34m)\u001b[0m\u001b[0;34m\u001b[0m\u001b[0;34m\u001b[0m\u001b[0m\n\u001b[1;32m      3\u001b[0m \u001b[0;32mfor\u001b[0m \u001b[0mexchange\u001b[0m \u001b[0;32min\u001b[0m \u001b[0mexchanges\u001b[0m\u001b[0;34m:\u001b[0m\u001b[0;34m\u001b[0m\u001b[0;34m\u001b[0m\u001b[0m\n\u001b[1;32m      4\u001b[0m      \u001b[0mprint\u001b[0m\u001b[0;34m(\u001b[0m\u001b[0;34m'Exchange ID: %s'\u001b[0m \u001b[0;34m%\u001b[0m \u001b[0mexchange\u001b[0m\u001b[0;34m[\u001b[0m\u001b[0;34m'exchange_id'\u001b[0m\u001b[0;34m]\u001b[0m\u001b[0;34m)\u001b[0m\u001b[0;34m\u001b[0m\u001b[0;34m\u001b[0m\u001b[0m\n",
      "\u001b[0;32m~/opt/anaconda3/envs/dev/lib/python3.7/site-packages/coinapi_rest_v1/restapi.py\u001b[0m in \u001b[0;36mmetadata_list_exchanges\u001b[0;34m(self)\u001b[0m\n\u001b[1;32m    198\u001b[0m         \u001b[0mrequest\u001b[0m \u001b[0;34m=\u001b[0m \u001b[0mMetadataListExchangesRequest\u001b[0m\u001b[0;34m(\u001b[0m\u001b[0;34m)\u001b[0m\u001b[0;34m\u001b[0m\u001b[0;34m\u001b[0m\u001b[0m\n\u001b[1;32m    199\u001b[0m         \u001b[0mclient\u001b[0m \u001b[0;34m=\u001b[0m \u001b[0mself\u001b[0m\u001b[0;34m.\u001b[0m\u001b[0mclient_class\u001b[0m\u001b[0;34m(\u001b[0m\u001b[0mrequest\u001b[0m\u001b[0;34m.\u001b[0m\u001b[0mendpoint\u001b[0m\u001b[0;34m(\u001b[0m\u001b[0;34m)\u001b[0m\u001b[0;34m,\u001b[0m \u001b[0mself\u001b[0m\u001b[0;34m.\u001b[0m\u001b[0mheaders\u001b[0m\u001b[0;34m)\u001b[0m\u001b[0;34m\u001b[0m\u001b[0;34m\u001b[0m\u001b[0m\n\u001b[0;32m--> 200\u001b[0;31m         \u001b[0;32mreturn\u001b[0m \u001b[0mclient\u001b[0m\u001b[0;34m.\u001b[0m\u001b[0mperform\u001b[0m\u001b[0;34m(\u001b[0m\u001b[0;34m)\u001b[0m\u001b[0;34m\u001b[0m\u001b[0;34m\u001b[0m\u001b[0m\n\u001b[0m\u001b[1;32m    201\u001b[0m \u001b[0;34m\u001b[0m\u001b[0m\n\u001b[1;32m    202\u001b[0m     \u001b[0;32mdef\u001b[0m \u001b[0mmetadata_list_assets\u001b[0m\u001b[0;34m(\u001b[0m\u001b[0mself\u001b[0m\u001b[0;34m)\u001b[0m\u001b[0;34m:\u001b[0m\u001b[0;34m\u001b[0m\u001b[0;34m\u001b[0m\u001b[0m\n",
      "\u001b[0;32m~/opt/anaconda3/envs/dev/lib/python3.7/site-packages/coinapi_rest_v1/restapi.py\u001b[0m in \u001b[0;36mperform\u001b[0;34m(self)\u001b[0m\n\u001b[1;32m     20\u001b[0m \u001b[0;34m\u001b[0m\u001b[0m\n\u001b[1;32m     21\u001b[0m         \u001b[0mrequest\u001b[0m \u001b[0;34m=\u001b[0m \u001b[0murllib\u001b[0m\u001b[0;34m.\u001b[0m\u001b[0mrequest\u001b[0m\u001b[0;34m.\u001b[0m\u001b[0mRequest\u001b[0m\u001b[0;34m(\u001b[0m\u001b[0mresource\u001b[0m\u001b[0;34m,\u001b[0m \u001b[0mheaders\u001b[0m\u001b[0;34m=\u001b[0m\u001b[0mself\u001b[0m\u001b[0;34m.\u001b[0m\u001b[0mheaders\u001b[0m\u001b[0;34m)\u001b[0m\u001b[0;34m\u001b[0m\u001b[0;34m\u001b[0m\u001b[0m\n\u001b[0;32m---> 22\u001b[0;31m         \u001b[0mhandler\u001b[0m \u001b[0;34m=\u001b[0m \u001b[0murllib\u001b[0m\u001b[0;34m.\u001b[0m\u001b[0mrequest\u001b[0m\u001b[0;34m.\u001b[0m\u001b[0murlopen\u001b[0m\u001b[0;34m(\u001b[0m\u001b[0mrequest\u001b[0m\u001b[0;34m)\u001b[0m\u001b[0;34m\u001b[0m\u001b[0;34m\u001b[0m\u001b[0m\n\u001b[0m\u001b[1;32m     23\u001b[0m         \u001b[0mraw_response\u001b[0m \u001b[0;34m=\u001b[0m \u001b[0mhandler\u001b[0m\u001b[0;34m.\u001b[0m\u001b[0mread\u001b[0m\u001b[0;34m(\u001b[0m\u001b[0;34m)\u001b[0m\u001b[0;34m\u001b[0m\u001b[0;34m\u001b[0m\u001b[0m\n\u001b[1;32m     24\u001b[0m \u001b[0;34m\u001b[0m\u001b[0m\n",
      "\u001b[0;32m~/opt/anaconda3/envs/dev/lib/python3.7/urllib/request.py\u001b[0m in \u001b[0;36murlopen\u001b[0;34m(url, data, timeout, cafile, capath, cadefault, context)\u001b[0m\n\u001b[1;32m    220\u001b[0m     \u001b[0;32melse\u001b[0m\u001b[0;34m:\u001b[0m\u001b[0;34m\u001b[0m\u001b[0;34m\u001b[0m\u001b[0m\n\u001b[1;32m    221\u001b[0m         \u001b[0mopener\u001b[0m \u001b[0;34m=\u001b[0m \u001b[0m_opener\u001b[0m\u001b[0;34m\u001b[0m\u001b[0;34m\u001b[0m\u001b[0m\n\u001b[0;32m--> 222\u001b[0;31m     \u001b[0;32mreturn\u001b[0m \u001b[0mopener\u001b[0m\u001b[0;34m.\u001b[0m\u001b[0mopen\u001b[0m\u001b[0;34m(\u001b[0m\u001b[0murl\u001b[0m\u001b[0;34m,\u001b[0m \u001b[0mdata\u001b[0m\u001b[0;34m,\u001b[0m \u001b[0mtimeout\u001b[0m\u001b[0;34m)\u001b[0m\u001b[0;34m\u001b[0m\u001b[0;34m\u001b[0m\u001b[0m\n\u001b[0m\u001b[1;32m    223\u001b[0m \u001b[0;34m\u001b[0m\u001b[0m\n\u001b[1;32m    224\u001b[0m \u001b[0;32mdef\u001b[0m \u001b[0minstall_opener\u001b[0m\u001b[0;34m(\u001b[0m\u001b[0mopener\u001b[0m\u001b[0;34m)\u001b[0m\u001b[0;34m:\u001b[0m\u001b[0;34m\u001b[0m\u001b[0;34m\u001b[0m\u001b[0m\n",
      "\u001b[0;32m~/opt/anaconda3/envs/dev/lib/python3.7/urllib/request.py\u001b[0m in \u001b[0;36mopen\u001b[0;34m(self, fullurl, data, timeout)\u001b[0m\n\u001b[1;32m    523\u001b[0m             \u001b[0mreq\u001b[0m \u001b[0;34m=\u001b[0m \u001b[0mmeth\u001b[0m\u001b[0;34m(\u001b[0m\u001b[0mreq\u001b[0m\u001b[0;34m)\u001b[0m\u001b[0;34m\u001b[0m\u001b[0;34m\u001b[0m\u001b[0m\n\u001b[1;32m    524\u001b[0m \u001b[0;34m\u001b[0m\u001b[0m\n\u001b[0;32m--> 525\u001b[0;31m         \u001b[0mresponse\u001b[0m \u001b[0;34m=\u001b[0m \u001b[0mself\u001b[0m\u001b[0;34m.\u001b[0m\u001b[0m_open\u001b[0m\u001b[0;34m(\u001b[0m\u001b[0mreq\u001b[0m\u001b[0;34m,\u001b[0m \u001b[0mdata\u001b[0m\u001b[0;34m)\u001b[0m\u001b[0;34m\u001b[0m\u001b[0;34m\u001b[0m\u001b[0m\n\u001b[0m\u001b[1;32m    526\u001b[0m \u001b[0;34m\u001b[0m\u001b[0m\n\u001b[1;32m    527\u001b[0m         \u001b[0;31m# post-process response\u001b[0m\u001b[0;34m\u001b[0m\u001b[0;34m\u001b[0m\u001b[0;34m\u001b[0m\u001b[0m\n",
      "\u001b[0;32m~/opt/anaconda3/envs/dev/lib/python3.7/urllib/request.py\u001b[0m in \u001b[0;36m_open\u001b[0;34m(self, req, data)\u001b[0m\n\u001b[1;32m    541\u001b[0m         \u001b[0mprotocol\u001b[0m \u001b[0;34m=\u001b[0m \u001b[0mreq\u001b[0m\u001b[0;34m.\u001b[0m\u001b[0mtype\u001b[0m\u001b[0;34m\u001b[0m\u001b[0;34m\u001b[0m\u001b[0m\n\u001b[1;32m    542\u001b[0m         result = self._call_chain(self.handle_open, protocol, protocol +\n\u001b[0;32m--> 543\u001b[0;31m                                   '_open', req)\n\u001b[0m\u001b[1;32m    544\u001b[0m         \u001b[0;32mif\u001b[0m \u001b[0mresult\u001b[0m\u001b[0;34m:\u001b[0m\u001b[0;34m\u001b[0m\u001b[0;34m\u001b[0m\u001b[0m\n\u001b[1;32m    545\u001b[0m             \u001b[0;32mreturn\u001b[0m \u001b[0mresult\u001b[0m\u001b[0;34m\u001b[0m\u001b[0;34m\u001b[0m\u001b[0m\n",
      "\u001b[0;32m~/opt/anaconda3/envs/dev/lib/python3.7/urllib/request.py\u001b[0m in \u001b[0;36m_call_chain\u001b[0;34m(self, chain, kind, meth_name, *args)\u001b[0m\n\u001b[1;32m    501\u001b[0m         \u001b[0;32mfor\u001b[0m \u001b[0mhandler\u001b[0m \u001b[0;32min\u001b[0m \u001b[0mhandlers\u001b[0m\u001b[0;34m:\u001b[0m\u001b[0;34m\u001b[0m\u001b[0;34m\u001b[0m\u001b[0m\n\u001b[1;32m    502\u001b[0m             \u001b[0mfunc\u001b[0m \u001b[0;34m=\u001b[0m \u001b[0mgetattr\u001b[0m\u001b[0;34m(\u001b[0m\u001b[0mhandler\u001b[0m\u001b[0;34m,\u001b[0m \u001b[0mmeth_name\u001b[0m\u001b[0;34m)\u001b[0m\u001b[0;34m\u001b[0m\u001b[0;34m\u001b[0m\u001b[0m\n\u001b[0;32m--> 503\u001b[0;31m             \u001b[0mresult\u001b[0m \u001b[0;34m=\u001b[0m \u001b[0mfunc\u001b[0m\u001b[0;34m(\u001b[0m\u001b[0;34m*\u001b[0m\u001b[0margs\u001b[0m\u001b[0;34m)\u001b[0m\u001b[0;34m\u001b[0m\u001b[0;34m\u001b[0m\u001b[0m\n\u001b[0m\u001b[1;32m    504\u001b[0m             \u001b[0;32mif\u001b[0m \u001b[0mresult\u001b[0m \u001b[0;32mis\u001b[0m \u001b[0;32mnot\u001b[0m \u001b[0;32mNone\u001b[0m\u001b[0;34m:\u001b[0m\u001b[0;34m\u001b[0m\u001b[0;34m\u001b[0m\u001b[0m\n\u001b[1;32m    505\u001b[0m                 \u001b[0;32mreturn\u001b[0m \u001b[0mresult\u001b[0m\u001b[0;34m\u001b[0m\u001b[0;34m\u001b[0m\u001b[0m\n",
      "\u001b[0;32m~/opt/anaconda3/envs/dev/lib/python3.7/urllib/request.py\u001b[0m in \u001b[0;36mhttps_open\u001b[0;34m(self, req)\u001b[0m\n\u001b[1;32m   1391\u001b[0m         \u001b[0;32mdef\u001b[0m \u001b[0mhttps_open\u001b[0m\u001b[0;34m(\u001b[0m\u001b[0mself\u001b[0m\u001b[0;34m,\u001b[0m \u001b[0mreq\u001b[0m\u001b[0;34m)\u001b[0m\u001b[0;34m:\u001b[0m\u001b[0;34m\u001b[0m\u001b[0;34m\u001b[0m\u001b[0m\n\u001b[1;32m   1392\u001b[0m             return self.do_open(http.client.HTTPSConnection, req,\n\u001b[0;32m-> 1393\u001b[0;31m                 context=self._context, check_hostname=self._check_hostname)\n\u001b[0m\u001b[1;32m   1394\u001b[0m \u001b[0;34m\u001b[0m\u001b[0m\n\u001b[1;32m   1395\u001b[0m         \u001b[0mhttps_request\u001b[0m \u001b[0;34m=\u001b[0m \u001b[0mAbstractHTTPHandler\u001b[0m\u001b[0;34m.\u001b[0m\u001b[0mdo_request_\u001b[0m\u001b[0;34m\u001b[0m\u001b[0;34m\u001b[0m\u001b[0m\n",
      "\u001b[0;32m~/opt/anaconda3/envs/dev/lib/python3.7/urllib/request.py\u001b[0m in \u001b[0;36mdo_open\u001b[0;34m(self, http_class, req, **http_conn_args)\u001b[0m\n\u001b[1;32m   1348\u001b[0m             \u001b[0;32mtry\u001b[0m\u001b[0;34m:\u001b[0m\u001b[0;34m\u001b[0m\u001b[0;34m\u001b[0m\u001b[0m\n\u001b[1;32m   1349\u001b[0m                 h.request(req.get_method(), req.selector, req.data, headers,\n\u001b[0;32m-> 1350\u001b[0;31m                           encode_chunked=req.has_header('Transfer-encoding'))\n\u001b[0m\u001b[1;32m   1351\u001b[0m             \u001b[0;32mexcept\u001b[0m \u001b[0mOSError\u001b[0m \u001b[0;32mas\u001b[0m \u001b[0merr\u001b[0m\u001b[0;34m:\u001b[0m \u001b[0;31m# timeout error\u001b[0m\u001b[0;34m\u001b[0m\u001b[0;34m\u001b[0m\u001b[0m\n\u001b[1;32m   1352\u001b[0m                 \u001b[0;32mraise\u001b[0m \u001b[0mURLError\u001b[0m\u001b[0;34m(\u001b[0m\u001b[0merr\u001b[0m\u001b[0;34m)\u001b[0m\u001b[0;34m\u001b[0m\u001b[0;34m\u001b[0m\u001b[0m\n",
      "\u001b[0;32m~/opt/anaconda3/envs/dev/lib/python3.7/http/client.py\u001b[0m in \u001b[0;36mrequest\u001b[0;34m(self, method, url, body, headers, encode_chunked)\u001b[0m\n\u001b[1;32m   1275\u001b[0m                 encode_chunked=False):\n\u001b[1;32m   1276\u001b[0m         \u001b[0;34m\"\"\"Send a complete request to the server.\"\"\"\u001b[0m\u001b[0;34m\u001b[0m\u001b[0;34m\u001b[0m\u001b[0m\n\u001b[0;32m-> 1277\u001b[0;31m         \u001b[0mself\u001b[0m\u001b[0;34m.\u001b[0m\u001b[0m_send_request\u001b[0m\u001b[0;34m(\u001b[0m\u001b[0mmethod\u001b[0m\u001b[0;34m,\u001b[0m \u001b[0murl\u001b[0m\u001b[0;34m,\u001b[0m \u001b[0mbody\u001b[0m\u001b[0;34m,\u001b[0m \u001b[0mheaders\u001b[0m\u001b[0;34m,\u001b[0m \u001b[0mencode_chunked\u001b[0m\u001b[0;34m)\u001b[0m\u001b[0;34m\u001b[0m\u001b[0;34m\u001b[0m\u001b[0m\n\u001b[0m\u001b[1;32m   1278\u001b[0m \u001b[0;34m\u001b[0m\u001b[0m\n\u001b[1;32m   1279\u001b[0m     \u001b[0;32mdef\u001b[0m \u001b[0m_send_request\u001b[0m\u001b[0;34m(\u001b[0m\u001b[0mself\u001b[0m\u001b[0;34m,\u001b[0m \u001b[0mmethod\u001b[0m\u001b[0;34m,\u001b[0m \u001b[0murl\u001b[0m\u001b[0;34m,\u001b[0m \u001b[0mbody\u001b[0m\u001b[0;34m,\u001b[0m \u001b[0mheaders\u001b[0m\u001b[0;34m,\u001b[0m \u001b[0mencode_chunked\u001b[0m\u001b[0;34m)\u001b[0m\u001b[0;34m:\u001b[0m\u001b[0;34m\u001b[0m\u001b[0;34m\u001b[0m\u001b[0m\n",
      "\u001b[0;32m~/opt/anaconda3/envs/dev/lib/python3.7/http/client.py\u001b[0m in \u001b[0;36m_send_request\u001b[0;34m(self, method, url, body, headers, encode_chunked)\u001b[0m\n\u001b[1;32m   1316\u001b[0m \u001b[0;34m\u001b[0m\u001b[0m\n\u001b[1;32m   1317\u001b[0m         \u001b[0;32mfor\u001b[0m \u001b[0mhdr\u001b[0m\u001b[0;34m,\u001b[0m \u001b[0mvalue\u001b[0m \u001b[0;32min\u001b[0m \u001b[0mheaders\u001b[0m\u001b[0;34m.\u001b[0m\u001b[0mitems\u001b[0m\u001b[0;34m(\u001b[0m\u001b[0;34m)\u001b[0m\u001b[0;34m:\u001b[0m\u001b[0;34m\u001b[0m\u001b[0;34m\u001b[0m\u001b[0m\n\u001b[0;32m-> 1318\u001b[0;31m             \u001b[0mself\u001b[0m\u001b[0;34m.\u001b[0m\u001b[0mputheader\u001b[0m\u001b[0;34m(\u001b[0m\u001b[0mhdr\u001b[0m\u001b[0;34m,\u001b[0m \u001b[0mvalue\u001b[0m\u001b[0;34m)\u001b[0m\u001b[0;34m\u001b[0m\u001b[0;34m\u001b[0m\u001b[0m\n\u001b[0m\u001b[1;32m   1319\u001b[0m         \u001b[0;32mif\u001b[0m \u001b[0misinstance\u001b[0m\u001b[0;34m(\u001b[0m\u001b[0mbody\u001b[0m\u001b[0;34m,\u001b[0m \u001b[0mstr\u001b[0m\u001b[0;34m)\u001b[0m\u001b[0;34m:\u001b[0m\u001b[0;34m\u001b[0m\u001b[0;34m\u001b[0m\u001b[0m\n\u001b[1;32m   1320\u001b[0m             \u001b[0;31m# RFC 2616 Section 3.7.1 says that text default has a\u001b[0m\u001b[0;34m\u001b[0m\u001b[0;34m\u001b[0m\u001b[0;34m\u001b[0m\u001b[0m\n",
      "\u001b[0;32m~/opt/anaconda3/envs/dev/lib/python3.7/http/client.py\u001b[0m in \u001b[0;36mputheader\u001b[0;34m(self, header, *values)\u001b[0m\n\u001b[1;32m   1252\u001b[0m                 \u001b[0mvalues\u001b[0m\u001b[0;34m[\u001b[0m\u001b[0mi\u001b[0m\u001b[0;34m]\u001b[0m \u001b[0;34m=\u001b[0m \u001b[0mstr\u001b[0m\u001b[0;34m(\u001b[0m\u001b[0mone_value\u001b[0m\u001b[0;34m)\u001b[0m\u001b[0;34m.\u001b[0m\u001b[0mencode\u001b[0m\u001b[0;34m(\u001b[0m\u001b[0;34m'ascii'\u001b[0m\u001b[0;34m)\u001b[0m\u001b[0;34m\u001b[0m\u001b[0;34m\u001b[0m\u001b[0m\n\u001b[1;32m   1253\u001b[0m \u001b[0;34m\u001b[0m\u001b[0m\n\u001b[0;32m-> 1254\u001b[0;31m             \u001b[0;32mif\u001b[0m \u001b[0m_is_illegal_header_value\u001b[0m\u001b[0;34m(\u001b[0m\u001b[0mvalues\u001b[0m\u001b[0;34m[\u001b[0m\u001b[0mi\u001b[0m\u001b[0;34m]\u001b[0m\u001b[0;34m)\u001b[0m\u001b[0;34m:\u001b[0m\u001b[0;34m\u001b[0m\u001b[0;34m\u001b[0m\u001b[0m\n\u001b[0m\u001b[1;32m   1255\u001b[0m                 \u001b[0;32mraise\u001b[0m \u001b[0mValueError\u001b[0m\u001b[0;34m(\u001b[0m\u001b[0;34m'Invalid header value %r'\u001b[0m \u001b[0;34m%\u001b[0m \u001b[0;34m(\u001b[0m\u001b[0mvalues\u001b[0m\u001b[0;34m[\u001b[0m\u001b[0mi\u001b[0m\u001b[0;34m]\u001b[0m\u001b[0;34m,\u001b[0m\u001b[0;34m)\u001b[0m\u001b[0;34m)\u001b[0m\u001b[0;34m\u001b[0m\u001b[0;34m\u001b[0m\u001b[0m\n\u001b[1;32m   1256\u001b[0m \u001b[0;34m\u001b[0m\u001b[0m\n",
      "\u001b[0;31mTypeError\u001b[0m: expected string or bytes-like object"
     ]
    }
   ],
   "source": [
    "exchanges = api.metadata_list_exchanges()\n",
    "print('Exchanges')\n",
    "for exchange in exchanges:\n",
    "     print('Exchange ID: %s' % exchange['exchange_id'])"
   ]
  },
  {
   "cell_type": "code",
   "execution_count": null,
   "id": "a7316b5c",
   "metadata": {},
   "outputs": [],
   "source": [
    "start_of_2016 = datetime.date(2016, 1, 12).isoformat()\n",
    "ohlcv_historical = api.ohlcv_historical_data('BITSTAMP_SPOT_BTC_USD', {'period_id': '1MIN', 'time_start': start_of_2016})\n",
    "\n",
    "for period in ohlcv_historical:\n",
    "    print('Period start: %s' % period['time_period_start'])\n",
    "    print('Period end: %s' % period['time_period_end'])\n",
    "    print('Time open: %s' % period['time_open'])\n",
    "    print('Time close: %s' % period['time_close'])\n",
    "    print('Price open: %s' % period['price_open'])\n",
    "    print('Price close: %s' % period['price_close'])\n",
    "    print('Price low: %s' % period['price_low'])\n",
    "    print('Price high: %s' % period['price_high'])\n",
    "    print('Volume traded: %s' % period['volume_traded'])\n",
    "    print('Trades count: %s' % period['trades_count'])"
   ]
  },
  {
   "cell_type": "code",
   "execution_count": null,
   "id": "111adf3b",
   "metadata": {},
   "outputs": [],
   "source": [
    "# Bitcoin 2020 Pricing from Kraken\n",
    "start_of_2020 = datetime.date(2020, 1, 1).isoformat()\n",
    "end_of_2020 = datetime.date(2020, 12, 31).isoformat()\n",
    "ohlcv_historical_2020 = api.ohlcv_historical_data('KRAKEN_SPOT_BTC_USD', {'period_id': '1DAY', 'time_start': start_of_2020, 'time_end': end_of_2020})\n",
    "\n",
    "for period in ohlcv_historical_2020:\n",
    "    print('Period start: %s' % period['time_period_start'])\n",
    "    print('Period end: %s' % period['time_period_end'])\n",
    "    print('Time open: %s' % period['time_open'])\n",
    "    print('Time close: %s' % period['time_close'])\n",
    "    print('Price open: %s' % period['price_open'])\n",
    "    print('Price close: %s' % period['price_close'])\n",
    "    print('Price low: %s' % period['price_low'])\n",
    "    print('Price high: %s' % period['price_high'])\n",
    "    print('Volume traded: %s' % period['volume_traded'])\n",
    "    print('Trades count: %s' % period['trades_count'])"
   ]
  },
  {
   "cell_type": "code",
   "execution_count": null,
   "id": "8820b634",
   "metadata": {},
   "outputs": [],
   "source": [
    "#Bitcoin 2017 pricing from Kraken\n",
    "start_of_2017 = datetime.date(2017, 1, 1).isoformat()\n",
    "end_of_2017 = datetime.date(2017, 4, 10).isoformat()\n",
    "ohlcv_historical_2017 = api.ohlcv_historical_data('KRAKEN_SPOT_BTC_USD', {'period_id': '1DAY', 'time_start': start_of_2017, 'time_end': end_of_2017})\n",
    "\n",
    "for period in ohlcv_historical_2017:\n",
    "    print('Period start: %s' % period['time_period_start'])\n",
    "    print('Period end: %s' % period['time_period_end'])\n",
    "    print('Time open: %s' % period['time_open'])\n",
    "    print('Time close: %s' % period['time_close'])\n",
    "    print('Price open: %s' % period['price_open'])\n",
    "    print('Price close: %s' % period['price_close'])\n",
    "    print('Price low: %s' % period['price_low'])\n",
    "    print('Price high: %s' % period['price_high'])\n",
    "    print('Volume traded: %s' % period['volume_traded'])\n",
    "    print('Trades count: %s' % period['trades_count'])"
   ]
  },
  {
   "cell_type": "code",
   "execution_count": null,
   "id": "56f5ad3d",
   "metadata": {},
   "outputs": [],
   "source": [
    "#Bitcoin 2017 pricing from Kraken\n",
    "midapril_of_2017 = datetime.date(2017, 4, 11).isoformat()\n",
    "midjuly_of_2017 = datetime.date(2017, 7, 19).isoformat()\n",
    "ohlcv_historical_2017_2 = api.ohlcv_historical_data('KRAKEN_SPOT_BTC_USD', {'period_id': '1DAY', 'time_start': midapril_of_2017, 'time_end': midjuly_of_2017})\n",
    "\n",
    "for period in ohlcv_historical_2017_2:\n",
    "    print('Period start: %s' % period['time_period_start'])\n",
    "    print('Period end: %s' % period['time_period_end'])\n",
    "    print('Time open: %s' % period['time_open'])\n",
    "    print('Time close: %s' % period['time_close'])\n",
    "    print('Price open: %s' % period['price_open'])\n",
    "    print('Price close: %s' % period['price_close'])\n",
    "    print('Price low: %s' % period['price_low'])\n",
    "    print('Price high: %s' % period['price_high'])\n",
    "    print('Volume traded: %s' % period['volume_traded'])\n",
    "    print('Trades count: %s' % period['trades_count'])"
   ]
  },
  {
   "cell_type": "code",
   "execution_count": null,
   "id": "a4a3a372",
   "metadata": {},
   "outputs": [],
   "source": [
    "#Bitcoin 2017 pricing from Kraken\n",
    "latejuly_of_2017 = datetime.date(2017, 7, 20).isoformat()\n",
    "earlynov_of_2017 = datetime.date(2017, 11, 6).isoformat()\n",
    "ohlcv_historical_2017_3 = api.ohlcv_historical_data('KRAKEN_SPOT_BTC_USD', {'period_id': '1DAY', 'time_start': latejuly_of_2017, 'time_end': earlynov_of_2017})\n",
    "\n",
    "for period in ohlcv_historical_2017_3:\n",
    "    print('Period start: %s' % period['time_period_start'])\n",
    "    print('Period end: %s' % period['time_period_end'])\n",
    "    print('Time open: %s' % period['time_open'])\n",
    "    print('Time close: %s' % period['time_close'])\n",
    "    print('Price open: %s' % period['price_open'])\n",
    "    print('Price close: %s' % period['price_close'])\n",
    "    print('Price low: %s' % period['price_low'])\n",
    "    print('Price high: %s' % period['price_high'])\n",
    "    print('Volume traded: %s' % period['volume_traded'])\n",
    "    print('Trades count: %s' % period['trades_count'])"
   ]
  },
  {
   "cell_type": "code",
   "execution_count": null,
   "id": "e38f46ca",
   "metadata": {},
   "outputs": [],
   "source": [
    "#Bitcoin 2017 pricing from Kraken\n",
    "nov_of_2017 = datetime.date(2017, 11, 7).isoformat()\n",
    "end_of_2017 = datetime.date(2017, 12, 31).isoformat()\n",
    "ohlcv_historical_2017_4 = api.ohlcv_historical_data('KRAKEN_SPOT_BTC_USD', {'period_id': '1DAY', 'time_start': nov_of_2017, 'time_end': end_of_2017})\n",
    "\n",
    "for period in ohlcv_historical_2017_4:\n",
    "    print('Period start: %s' % period['time_period_start'])\n",
    "    print('Period end: %s' % period['time_period_end'])\n",
    "    print('Time open: %s' % period['time_open'])\n",
    "    print('Time close: %s' % period['time_close'])\n",
    "    print('Price open: %s' % period['price_open'])\n",
    "    print('Price close: %s' % period['price_close'])\n",
    "    print('Price low: %s' % period['price_low'])\n",
    "    print('Price high: %s' % period['price_high'])\n",
    "    print('Volume traded: %s' % period['volume_traded'])\n",
    "    print('Trades count: %s' % period['trades_count'])"
   ]
  },
  {
   "cell_type": "code",
   "execution_count": null,
   "id": "82b2373d",
   "metadata": {},
   "outputs": [],
   "source": [
    "# Monthly Data for various currencies from Kraken."
   ]
  },
  {
   "cell_type": "code",
   "execution_count": null,
   "id": "426d1a6b",
   "metadata": {},
   "outputs": [],
   "source": [
    "#Bitcoin 2016-Current monthly pricing from Kraken\n",
    "beg_of_2016 = datetime.date(2016, 1, 1).isoformat()\n",
    "current_2021 = datetime.date(2021, 12, 31).isoformat()\n",
    "bitcoin_ohlcv_5yr = api.ohlcv_historical_data('KRAKEN_SPOT_BTC_USD', {'period_id': '1MTH', 'time_start': beg_of_2016, 'time_end': current_2021})\n",
    "\n",
    "for period in bitcoin_ohlcv_5yr:\n",
    "    print('Period start: %s' % period['time_period_start'])\n",
    "    print('Period end: %s' % period['time_period_end'])\n",
    "    print('Time open: %s' % period['time_open'])\n",
    "    print('Time close: %s' % period['time_close'])\n",
    "    print('Price open: %s' % period['price_open'])\n",
    "    print('Price close: %s' % period['price_close'])\n",
    "    print('Price low: %s' % period['price_low'])\n",
    "    print('Price high: %s' % period['price_high'])\n",
    "    print('Volume traded: %s' % period['volume_traded'])\n",
    "    print('Trades count: %s' % period['trades_count'])"
   ]
  },
  {
   "cell_type": "code",
   "execution_count": null,
   "id": "ba8c133a",
   "metadata": {},
   "outputs": [],
   "source": [
    "bitcoin_pricing_df = pd.DataFrame(\n",
    "    bitcoin_ohlcv_5yr).drop(\n",
    "    columns=['time_open', 'time_close', 'time_period_end']).rename(\n",
    "    {'time_period_start': 'start_date'}, axis='columns')\n",
    "bitcoin_pricing_df"
   ]
  },
  {
   "cell_type": "code",
   "execution_count": null,
   "id": "7180a5e1",
   "metadata": {},
   "outputs": [],
   "source": [
    "# Ethereum 2016=Current2021 monthly pricing from Kraken\n",
    "beg_2016 = datetime.date(2016, 1, 1).isoformat()\n",
    "current_2021 = datetime.date(2021, 12, 31).isoformat()\n",
    "eth_ohlcv_5yr = api.ohlcv_historical_data('KRAKEN_SPOT_ETH_USD', {'period_id': '1MTH', 'time_start': beg_2016, 'time_end': current_2021})\n",
    "\n",
    "for period in eth_ohlcv_5yr:\n",
    "    print('Period start: %s' % period['time_period_start'])\n",
    "    print('Period end: %s' % period['time_period_end'])\n",
    "    print('Time open: %s' % period['time_open'])\n",
    "    print('Time close: %s' % period['time_close'])\n",
    "    print('Price open: %s' % period['price_open'])\n",
    "    print('Price close: %s' % period['price_close'])\n",
    "    print('Price low: %s' % period['price_low'])\n",
    "    print('Price high: %s' % period['price_high'])\n",
    "    print('Volume traded: %s' % period['volume_traded'])\n",
    "    print('Trades count: %s' % period['trades_count'])"
   ]
  },
  {
   "cell_type": "code",
   "execution_count": null,
   "id": "b2c321fc",
   "metadata": {},
   "outputs": [],
   "source": [
    "ethereum_pricing_df = pd.DataFrame(\n",
    "    eth_ohlcv_5yr).drop(\n",
    "    columns=['time_open', 'time_close', 'time_period_end']).rename(\n",
    "    {'time_period_start': 'start_date'}, axis='columns')\n",
    "ethereum_pricing_df"
   ]
  },
  {
   "cell_type": "code",
   "execution_count": null,
   "id": "ad4451bd",
   "metadata": {},
   "outputs": [],
   "source": [
    "# Cardano 2016-Current2021 monthly pricing from Kraken\n",
    "beg_2016 = datetime.date(2016, 1, 1).isoformat()\n",
    "current_2021 = datetime.date(2021, 12, 31).isoformat()\n",
    "ada_ohlcv_5yr = api.ohlcv_historical_data('KRAKEN_SPOT_ADA_USD', {'period_id': '1MTH', 'time_start': beg_2016, 'time_end': current_2021})\n",
    "\n",
    "for period in ada_ohlcv_5yr:\n",
    "    print('Period start: %s' % period['time_period_start'])\n",
    "    print('Period end: %s' % period['time_period_end'])\n",
    "    print('Time open: %s' % period['time_open'])\n",
    "    print('Time close: %s' % period['time_close'])\n",
    "    print('Price open: %s' % period['price_open'])\n",
    "    print('Price close: %s' % period['price_close'])\n",
    "    print('Price low: %s' % period['price_low'])\n",
    "    print('Price high: %s' % period['price_high'])\n",
    "    print('Volume traded: %s' % period['volume_traded'])\n",
    "    print('Trades count: %s' % period['trades_count'])"
   ]
  },
  {
   "cell_type": "code",
   "execution_count": null,
   "id": "e8fa4ca8",
   "metadata": {},
   "outputs": [],
   "source": [
    "cardano_pricing_df = pd.DataFrame(\n",
    "    ada_ohlcv_5yr).drop(\n",
    "    columns=['time_open', 'time_close', 'time_period_end']).rename(\n",
    "    {'time_period_start': 'start_date'}, axis='columns')\n",
    "cardano_pricing_df"
   ]
  },
  {
   "cell_type": "code",
   "execution_count": null,
   "id": "40ada23b",
   "metadata": {},
   "outputs": [],
   "source": [
    "# Litecoin 2016-Current2021 monthly pricing from Kraken\n",
    "beg_2016 = datetime.date(2016, 1, 1).isoformat()\n",
    "current_2021 = datetime.date(2021, 12, 31).isoformat()\n",
    "ltc_ohlcv_5yr = api.ohlcv_historical_data('KRAKEN_SPOT_LTC_USD', {'period_id': '1MTH', 'time_start': beg_2016, 'time_end': current_2021})\n",
    "\n",
    "for period in ltc_ohlcv_5yr:\n",
    "    print('Period start: %s' % period['time_period_start'])\n",
    "    print('Period end: %s' % period['time_period_end'])\n",
    "    print('Time open: %s' % period['time_open'])\n",
    "    print('Time close: %s' % period['time_close'])\n",
    "    print('Price open: %s' % period['price_open'])\n",
    "    print('Price close: %s' % period['price_close'])\n",
    "    print('Price low: %s' % period['price_low'])\n",
    "    print('Price high: %s' % period['price_high'])\n",
    "    print('Volume traded: %s' % period['volume_traded'])\n",
    "    print('Trades count: %s' % period['trades_count'])"
   ]
  },
  {
   "cell_type": "code",
   "execution_count": null,
   "id": "822144a1",
   "metadata": {},
   "outputs": [],
   "source": [
    "litecoin_pricing_df = pd.DataFrame(\n",
    "    ltc_ohlcv_5yr).drop(\n",
    "    columns=['time_open', 'time_close', 'time_period_end']).rename(\n",
    "    {'time_period_start': 'start_date'}, axis='columns')\n",
    "litecoin_pricing_df"
   ]
  },
  {
   "cell_type": "code",
   "execution_count": null,
   "id": "8be8fd5d",
   "metadata": {},
   "outputs": [],
   "source": [
    "# Tether 2016-Current2021 monthly pricing from kraken.\n",
    "beg_2016 = datetime.date(2016, 1, 1).isoformat()\n",
    "current_2021 = datetime.date(2021, 12, 31).isoformat()\n",
    "usdt_ohlcv_5yr = api.ohlcv_historical_data('KRAKEN_SPOT_USDT_USD', {'period_id': '1MTH', 'time_start': beg_2016, 'time_end': current_2021})\n",
    "\n",
    "for period in usdt_ohlcv_5yr:\n",
    "    print('Period start: %s' % period['time_period_start'])\n",
    "    print('Period end: %s' % period['time_period_end'])\n",
    "    print('Time open: %s' % period['time_open'])\n",
    "    print('Time close: %s' % period['time_close'])\n",
    "    print('Price open: %s' % period['price_open'])\n",
    "    print('Price close: %s' % period['price_close'])\n",
    "    print('Price low: %s' % period['price_low'])\n",
    "    print('Price high: %s' % period['price_high'])\n",
    "    print('Volume traded: %s' % period['volume_traded'])\n",
    "    print('Trades count: %s' % period['trades_count'])"
   ]
  },
  {
   "cell_type": "code",
   "execution_count": null,
   "id": "9ea93b10",
   "metadata": {},
   "outputs": [],
   "source": [
    "tether_pricing_df = pd.DataFrame(\n",
    "    usdt_ohlcv_5yr).drop(\n",
    "    columns=['time_open', 'time_close', 'time_period_end']).rename(\n",
    "    {'time_period_start': 'start_date'}, axis='columns')\n",
    "tether_pricing_df"
   ]
  },
  {
   "cell_type": "code",
   "execution_count": null,
   "id": "eda233c2",
   "metadata": {},
   "outputs": [],
   "source": [
    "# DogeCoin 2016-July2021 monthly pricing from Kraken\n",
    "beg_2016 = datetime.date(2016, 1, 1).isoformat()\n",
    "current_2021 = datetime.date(2021, 12, 31).isoformat()\n",
    "doge_ohlcv_5yr = api.ohlcv_historical_data('KRAKEN_SPOT_DOGE_USD', {'period_id': '1MTH', 'time_start': beg_2016, 'time_end': current_2021})\n",
    "\n",
    "for period in doge_ohlcv_5yr:\n",
    "    print('Period start: %s' % period['time_period_start'])\n",
    "    print('Period end: %s' % period['time_period_end'])\n",
    "    print('Time open: %s' % period['time_open'])\n",
    "    print('Time close: %s' % period['time_close'])\n",
    "    print('Price open: %s' % period['price_open'])\n",
    "    print('Price close: %s' % period['price_close'])\n",
    "    print('Price low: %s' % period['price_low'])\n",
    "    print('Price high: %s' % period['price_high'])\n",
    "    print('Volume traded: %s' % period['volume_traded'])\n",
    "    print('Trades count: %s' % period['trades_count'])"
   ]
  },
  {
   "cell_type": "code",
   "execution_count": null,
   "id": "9b4b7b25",
   "metadata": {},
   "outputs": [],
   "source": [
    "dogecoin_pricing_df = pd.DataFrame(\n",
    "    doge_ohlcv_5yr).drop(\n",
    "    columns=['time_open', 'time_close', 'time_period_end']).rename(\n",
    "    {'time_period_start': 'start_date'}, axis='columns')\n",
    "dogecoin_pricing_df"
   ]
  },
  {
   "cell_type": "code",
   "execution_count": null,
   "id": "c5aa277e",
   "metadata": {},
   "outputs": [],
   "source": [
    "# Ripple 2016-Current2021 monthly pricing from Kraken\n",
    "beg_2016 = datetime.date(2016, 1, 1).isoformat()\n",
    "current_2021 = datetime.date(2021, 12, 31).isoformat()\n",
    "xrp_ohlcv_5yr = api.ohlcv_historical_data('KRAKEN_SPOT_XRP_USD', {'period_id': '1MTH', 'time_start': beg_2016, 'time_end': current_2021})\n",
    "\n",
    "for period in xrp_ohlcv_5yr:\n",
    "    print('Period start: %s' % period['time_period_start'])\n",
    "    print('Period end: %s' % period['time_period_end'])\n",
    "    print('Time open: %s' % period['time_open'])\n",
    "    print('Time close: %s' % period['time_close'])\n",
    "    print('Price open: %s' % period['price_open'])\n",
    "    print('Price close: %s' % period['price_close'])\n",
    "    print('Price low: %s' % period['price_low'])\n",
    "    print('Price high: %s' % period['price_high'])\n",
    "    print('Volume traded: %s' % period['volume_traded'])\n",
    "    print('Trades count: %s' % period['trades_count'])"
   ]
  },
  {
   "cell_type": "code",
   "execution_count": null,
   "id": "e5d8edbd",
   "metadata": {},
   "outputs": [],
   "source": [
    "ripple_pricing_df = pd.DataFrame(\n",
    "    xrp_ohlcv_5yr).drop(\n",
    "    columns=['time_open', 'time_close', 'time_period_end']).rename(\n",
    "    {'time_period_start': 'start_date'}, axis='columns')\n",
    "ripple_pricing_df"
   ]
  },
  {
   "cell_type": "code",
   "execution_count": null,
   "id": "efd9af70",
   "metadata": {},
   "outputs": [],
   "source": [
    "# Stellar 2016-Current2021 monthly pricing from Kraken\n",
    "beg_2016 = datetime.date(2016, 1, 1).isoformat()\n",
    "current_2021 = datetime.date(2021, 12, 31).isoformat()\n",
    "xlm_ohlcv_5yr = api.ohlcv_historical_data('KRAKEN_SPOT_XLM_USD', {'period_id': '1MTH', 'time_start': beg_2016, 'time_end': current_2021})\n",
    "\n",
    "for period in xlm_ohlcv_5yr:\n",
    "    print('Period start: %s' % period['time_period_start'])\n",
    "    print('Period end: %s' % period['time_period_end'])\n",
    "    print('Time open: %s' % period['time_open'])\n",
    "    print('Time close: %s' % period['time_close'])\n",
    "    print('Price open: %s' % period['price_open'])\n",
    "    print('Price close: %s' % period['price_close'])\n",
    "    print('Price low: %s' % period['price_low'])\n",
    "    print('Price high: %s' % period['price_high'])\n",
    "    print('Volume traded: %s' % period['volume_traded'])\n",
    "    print('Trades count: %s' % period['trades_count'])"
   ]
  },
  {
   "cell_type": "code",
   "execution_count": null,
   "id": "ab27d893",
   "metadata": {},
   "outputs": [],
   "source": [
    "stellar_pricing_df = pd.DataFrame(\n",
    "    xlm_ohlcv_5yr).drop(\n",
    "    columns=['time_open', 'time_close', 'time_period_end']).rename(\n",
    "    {'time_period_start': 'start_date'}, axis='columns')\n",
    "stellar_pricing_df"
   ]
  },
  {
   "cell_type": "code",
   "execution_count": null,
   "id": "6a24dcc5",
   "metadata": {},
   "outputs": [],
   "source": [
    "# ZCash 2016-Current2021 monthly pricing from Kraken\n",
    "beg_2016 = datetime.date(2016, 1, 1).isoformat()\n",
    "current_2021 = datetime.date(2021, 12, 31).isoformat()\n",
    "zec_ohlcv_5yr = api.ohlcv_historical_data('KRAKEN_SPOT_ZEC_USD', {'period_id': '1MTH', 'time_start': beg_2016, 'time_end': current_2021})\n",
    "\n",
    "for period in zec_ohlcv_5yr:\n",
    "    print('Period start: %s' % period['time_period_start'])\n",
    "    print('Period end: %s' % period['time_period_end'])\n",
    "    print('Time open: %s' % period['time_open'])\n",
    "    print('Time close: %s' % period['time_close'])\n",
    "    print('Price open: %s' % period['price_open'])\n",
    "    print('Price close: %s' % period['price_close'])\n",
    "    print('Price low: %s' % period['price_low'])\n",
    "    print('Price high: %s' % period['price_high'])\n",
    "    print('Volume traded: %s' % period['volume_traded'])\n",
    "    print('Trades count: %s' % period['trades_count'])"
   ]
  },
  {
   "cell_type": "code",
   "execution_count": null,
   "id": "425ca477",
   "metadata": {},
   "outputs": [],
   "source": [
    "zcash_pricing_df = pd.DataFrame(\n",
    "    zec_ohlcv_5yr).drop(\n",
    "    columns=['time_open', 'time_close', 'time_period_end']).rename(\n",
    "    {'time_period_start': 'start_date'}, axis='columns')\n",
    "zcash_pricing_df"
   ]
  },
  {
   "cell_type": "code",
   "execution_count": null,
   "id": "290a7f71",
   "metadata": {},
   "outputs": [],
   "source": [
    "# Dash 2016-Current2021 monthly pricing from Kraken\n",
    "beg_2016 = datetime.date(2016, 1, 1).isoformat()\n",
    "current_2021 = datetime.date(2021, 12, 31).isoformat()\n",
    "dash_ohlcv_5yr = api.ohlcv_historical_data('KRAKEN_SPOT_DASH_USD', {'period_id': '1MTH', 'time_start': beg_2016, 'time_end': current_2021})\n",
    "\n",
    "for period in dash_ohlcv_5yr:\n",
    "    print('Period start: %s' % period['time_period_start'])\n",
    "    print('Period end: %s' % period['time_period_end'])\n",
    "    print('Time open: %s' % period['time_open'])\n",
    "    print('Time close: %s' % period['time_close'])\n",
    "    print('Price open: %s' % period['price_open'])\n",
    "    print('Price close: %s' % period['price_close'])\n",
    "    print('Price low: %s' % period['price_low'])\n",
    "    print('Price high: %s' % period['price_high'])\n",
    "    print('Volume traded: %s' % period['volume_traded'])\n",
    "    print('Trades count: %s' % period['trades_count'])"
   ]
  },
  {
   "cell_type": "code",
   "execution_count": null,
   "id": "1aa50376",
   "metadata": {},
   "outputs": [],
   "source": [
    "dash_pricing_df = pd.DataFrame(\n",
    "    dash_ohlcv_5yr).drop(\n",
    "    columns=['time_open', 'time_close', 'time_period_end']).rename(\n",
    "    {'time_period_start': 'start_date'}, axis='columns')\n",
    "dash_pricing_df"
   ]
  },
  {
   "cell_type": "code",
   "execution_count": null,
   "id": "0ac62409",
   "metadata": {},
   "outputs": [],
   "source": [
    "# Waves 2016-Current2021 monthly pricing from Kraken\n",
    "beg_2016 = datetime.date(2016, 1, 1).isoformat()\n",
    "current_2021 = datetime.date(2021, 12, 31).isoformat()\n",
    "waves_ohlcv_5yr = api.ohlcv_historical_data('KRAKEN_SPOT_WAVES_USD', {'period_id': '1MTH', 'time_start': beg_2016, 'time_end': current_2021})\n",
    "\n",
    "for period in waves_ohlcv_5yr:\n",
    "    print('Period start: %s' % period['time_period_start'])\n",
    "    print('Period end: %s' % period['time_period_end'])\n",
    "    print('Time open: %s' % period['time_open'])\n",
    "    print('Time close: %s' % period['time_close'])\n",
    "    print('Price open: %s' % period['price_open'])\n",
    "    print('Price close: %s' % period['price_close'])\n",
    "    print('Price low: %s' % period['price_low'])\n",
    "    print('Price high: %s' % period['price_high'])\n",
    "    print('Volume traded: %s' % period['volume_traded'])\n",
    "    print('Trades count: %s' % period['trades_count'])"
   ]
  },
  {
   "cell_type": "code",
   "execution_count": null,
   "id": "5ec16ef6",
   "metadata": {},
   "outputs": [],
   "source": [
    "waves_pricing_df = pd.DataFrame(\n",
    "    waves_ohlcv_5yr).drop(\n",
    "    columns=['time_open', 'time_close', 'time_period_end']).rename(\n",
    "    {'time_period_start': 'start_date'}, axis='columns')\n",
    "waves_pricing_df"
   ]
  },
  {
   "cell_type": "code",
   "execution_count": null,
   "id": "f7135e3f",
   "metadata": {},
   "outputs": [],
   "source": [
    "# Lisk 2016-Current2021 monthly pricing from Kraken\n",
    "beg_2016 = datetime.date(2016, 1, 1).isoformat()\n",
    "current_2021 = datetime.date(2021, 12, 31).isoformat()\n",
    "lisk_ohlcv_5yr = api.ohlcv_historical_data('KRAKEN_SPOT_LSK_USD', {'period_id': '1MTH', 'time_start': beg_2016, 'time_end': current_2021})\n",
    "\n",
    "for period in lisk_ohlcv_5yr:\n",
    "    print('Period start: %s' % period['time_period_start'])\n",
    "    print('Period end: %s' % period['time_period_end'])\n",
    "    print('Time open: %s' % period['time_open'])\n",
    "    print('Time close: %s' % period['time_close'])\n",
    "    print('Price open: %s' % period['price_open'])\n",
    "    print('Price close: %s' % period['price_close'])\n",
    "    print('Price low: %s' % period['price_low'])\n",
    "    print('Price high: %s' % period['price_high'])\n",
    "    print('Volume traded: %s' % period['volume_traded'])\n",
    "    print('Trades count: %s' % period['trades_count'])"
   ]
  },
  {
   "cell_type": "code",
   "execution_count": null,
   "id": "eaa68c0b",
   "metadata": {},
   "outputs": [],
   "source": [
    "lisk_pricing_df = pd.DataFrame(\n",
    "    usdt_ohlcv_5yr).drop(\n",
    "    columns=['time_open', 'time_close', 'time_period_end']).rename(\n",
    "    {'time_period_start': 'start_date'}, axis='columns')\n",
    "lisk_pricing_df"
   ]
  },
  {
   "cell_type": "code",
   "execution_count": null,
   "id": "e7d76db2",
   "metadata": {},
   "outputs": [],
   "source": [
    "# Siacoin 2016-Current2021 monthly pricing from Kraken\n",
    "beg_2016 = datetime.date(2016, 1, 1).isoformat()\n",
    "current_2021 = datetime.date(2021, 12, 31).isoformat()\n",
    "siacoin_ohlcv_5yr = api.ohlcv_historical_data('KRAKEN_SPOT_SC_USD', {'period_id': '1MTH', 'time_start': beg_2016, 'time_end': current_2021})\n",
    "\n",
    "for period in siacoin_ohlcv_5yr:\n",
    "    print('Period start: %s' % period['time_period_start'])\n",
    "    print('Period end: %s' % period['time_period_end'])\n",
    "    print('Time open: %s' % period['time_open'])\n",
    "    print('Time close: %s' % period['time_close'])\n",
    "    print('Price open: %s' % period['price_open'])\n",
    "    print('Price close: %s' % period['price_close'])\n",
    "    print('Price low: %s' % period['price_low'])\n",
    "    print('Price high: %s' % period['price_high'])\n",
    "    print('Volume traded: %s' % period['volume_traded'])\n",
    "    print('Trades count: %s' % period['trades_count'])"
   ]
  },
  {
   "cell_type": "code",
   "execution_count": null,
   "id": "c1537c33",
   "metadata": {},
   "outputs": [],
   "source": [
    "siacoin_pricing_df = pd.DataFrame(\n",
    "    usdt_ohlcv_5yr).drop(\n",
    "    columns=['time_open', 'time_close', 'time_period_end']).rename(\n",
    "    {'time_period_start': 'start_date'}, axis='columns')\n",
    "siacoin_pricing_df"
   ]
  },
  {
   "cell_type": "code",
   "execution_count": null,
   "id": "489b38ef",
   "metadata": {},
   "outputs": [],
   "source": [
    "bitcoin_pricing_df"
   ]
  },
  {
   "cell_type": "code",
   "execution_count": null,
   "id": "df2c46ac-b8b5-4931-9878-f86d0bba39fe",
   "metadata": {},
   "outputs": [],
   "source": []
  }
 ],
 "metadata": {
  "kernelspec": {
   "display_name": "dev",
   "language": "python",
   "name": "dev"
  },
  "language_info": {
   "codemirror_mode": {
    "name": "ipython",
    "version": 3
   },
   "file_extension": ".py",
   "mimetype": "text/x-python",
   "name": "python",
   "nbconvert_exporter": "python",
   "pygments_lexer": "ipython3",
   "version": "3.7.10"
  }
 },
 "nbformat": 4,
 "nbformat_minor": 5
}
