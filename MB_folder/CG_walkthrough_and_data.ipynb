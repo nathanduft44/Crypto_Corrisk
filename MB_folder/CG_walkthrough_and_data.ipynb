{
 "cells": [
  {
   "cell_type": "code",
   "execution_count": 1,
   "id": "2a183303",
   "metadata": {},
   "outputs": [],
   "source": [
    "# First import the coingecko library and other needed libraries/dependencies\n",
    "from pycoingecko import CoinGeckoAPI\n",
    "cg = CoinGeckoAPI()"
   ]
  },
  {
   "cell_type": "code",
   "execution_count": 2,
   "id": "78095f74",
   "metadata": {},
   "outputs": [
    {
     "data": {
      "text/plain": [
       "{'bitcoin': {'usd': 45158}}"
      ]
     },
     "execution_count": 2,
     "metadata": {},
     "output_type": "execute_result"
    }
   ],
   "source": [
    "# Simple API call for Bitcoin displayed in USD\n",
    "cg.get_price(ids='bitcoin', vs_currencies='usd')"
   ]
  },
  {
   "cell_type": "code",
   "execution_count": 3,
   "id": "d21aa2de",
   "metadata": {},
   "outputs": [
    {
     "data": {
      "text/plain": [
       "{'ethereum': {'usd': 3120.66},\n",
       " 'bitcoin': {'usd': 45178},\n",
       " 'litecoin': {'usd': 162.72}}"
      ]
     },
     "execution_count": 3,
     "metadata": {},
     "output_type": "execute_result"
    }
   ],
   "source": [
    "# Getting Data on Multiple Crytocurrencies in USD\n",
    "cg.get_price(ids=['bitcoin', 'ethereum','litecoin'], vs_currencies='usd')"
   ]
  },
  {
   "cell_type": "code",
   "execution_count": 4,
   "id": "ce2f498f",
   "metadata": {},
   "outputs": [
    {
     "data": {
      "text/plain": [
       "{'ethereum': {'usd': 3120.52},\n",
       " 'bitcoin': {'usd': 45181},\n",
       " 'litecoin': {'usd': 162.72}}"
      ]
     },
     "execution_count": 4,
     "metadata": {},
     "output_type": "execute_result"
    }
   ],
   "source": [
    "# Alternate method for multiple cryptocurrencies\n",
    "cg.get_price(ids='bitcoin,litecoin,ethereum', vs_currencies='usd')"
   ]
  },
  {
   "cell_type": "code",
   "execution_count": 6,
   "id": "f0a38209",
   "metadata": {},
   "outputs": [
    {
     "data": {
      "text/plain": [
       "{'bitcoin': {'usd': 45173,\n",
       "  'usd_market_cap': 848174674454.7343,\n",
       "  'usd_24h_vol': 38252889676.450455,\n",
       "  'usd_24h_change': -1.447511288439353,\n",
       "  'last_updated_at': 1628612096}}"
      ]
     },
     "execution_count": 6,
     "metadata": {},
     "output_type": "execute_result"
    }
   ],
   "source": [
    "# Can fetch additional data such as: 24hr change, volume, and market cap\n",
    "cg.get_price(\n",
    "        ids='bitcoin', \n",
    "        vs_currencies='usd', \n",
    "        include_market_cap='true', \n",
    "        include_24hr_vol='true', \n",
    "        include_24hr_change='true', \n",
    "        include_last_updated_at='true'\n",
    ")"
   ]
  },
  {
   "cell_type": "code",
   "execution_count": 8,
   "id": "b6e743ff",
   "metadata": {},
   "outputs": [
    {
     "data": {
      "text/plain": [
       "{'id': 'bitcoin',\n",
       " 'symbol': 'btc',\n",
       " 'name': 'Bitcoin',\n",
       " 'image': {'thumb': 'https://assets.coingecko.com/coins/images/1/thumb/bitcoin.png?1547033579',\n",
       "  'small': 'https://assets.coingecko.com/coins/images/1/small/bitcoin.png?1547033579'},\n",
       " 'market_data': {'current_price': {'aed': 56326.52786980459,\n",
       "   'ars': 1215617.24070744,\n",
       "   'aud': 21082.415040368352,\n",
       "   'bch': 58.03006574753659,\n",
       "   'bdt': 1301263.6700267561,\n",
       "   'bhd': 5783.172237724017,\n",
       "   'bmd': 15335.342198178862,\n",
       "   'bnb': 548.489735186886,\n",
       "   'brl': 82599.20481248871,\n",
       "   'btc': 1.0,\n",
       "   'cad': 19947.369687570146,\n",
       "   'chf': 13994.941278004791,\n",
       "   'clp': 11618071.458796967,\n",
       "   'cny': 101667.18463704686,\n",
       "   'czk': 343849.04276756675,\n",
       "   'dkk': 96585.05223257001,\n",
       "   'dot': 3530.9500103196324,\n",
       "   'eos': 6136.865733687228,\n",
       "   'eth': 34.44319624770999,\n",
       "   'eur': 12970.985144090215,\n",
       "   'gbp': 11647.729136493797,\n",
       "   'hkd': 118887.24039138111,\n",
       "   'huf': 4657417.832667269,\n",
       "   'idr': 218928088.9852976,\n",
       "   'ils': 51595.14541208477,\n",
       "   'inr': 1134162.0370875916,\n",
       "   'jpy': 1612209.6370241605,\n",
       "   'krw': 17170829.781274468,\n",
       "   'kwd': 4683.38283663943,\n",
       "   'lkr': 2831336.1357028554,\n",
       "   'ltc': 258.8060744084482,\n",
       "   'mmk': 19765626.652002573,\n",
       "   'mxn': 311877.92135280336,\n",
       "   'myr': 62999.11928433854,\n",
       "   'ngn': 5871717.3380903015,\n",
       "   'nok': 138488.39939348536,\n",
       "   'nzd': 22479.250019831645,\n",
       "   'php': 740617.5757641097,\n",
       "   'pkr': 2439015.894747048,\n",
       "   'pln': 58087.76125058096,\n",
       "   'rub': 1169868.8478618292,\n",
       "   'sar': 57513.391343890435,\n",
       "   'sek': 132177.69138414445,\n",
       "   'sgd': 20664.373612046023,\n",
       "   'thb': 468954.7644203092,\n",
       "   'try': 124294.78875730299,\n",
       "   'twd': 439265.5419246347,\n",
       "   'uah': 431086.5291752898,\n",
       "   'usd': 15335.342198178862,\n",
       "   'vef': 3810643025.7843738,\n",
       "   'vnd': 357418047.8297312,\n",
       "   'xag': 632.0976554477277,\n",
       "   'xau': 8.200114180210191,\n",
       "   'xdr': 10769.259394013277,\n",
       "   'xlm': 192403.97515238347,\n",
       "   'xrp': 61162.052643197574,\n",
       "   'yfi': 1.021790626535115,\n",
       "   'zar': 236109.06262004064,\n",
       "   'bits': 1000000.0,\n",
       "   'link': 1223.3665779769478,\n",
       "   'sats': 100000000.0},\n",
       "  'market_cap': {'aed': 1044201901812.6936,\n",
       "   'ars': 22535559755379.1,\n",
       "   'aud': 390833568347.0833,\n",
       "   'bch': 1075782713.8920283,\n",
       "   'bdt': 24123304779986.574,\n",
       "   'bhd': 107210575150.31131,\n",
       "   'bmd': 284292217075.7686,\n",
       "   'bnb': 10168104555.11704,\n",
       "   'brl': 1531254455321.2866,\n",
       "   'btc': 18538368.0,\n",
       "   'cad': 369791679900.22046,\n",
       "   'chf': 259443371550.0431,\n",
       "   'clp': 215380084153475.06,\n",
       "   'cny': 1884743682325.522,\n",
       "   'czk': 6374400091272.89,\n",
       "   'dkk': 1790529241586.6045,\n",
       "   'dot': 65458050680.909134,\n",
       "   'eos': 113767475337.68382,\n",
       "   'eth': 638520647.136267,\n",
       "   'eur': 240460895923.67734,\n",
       "   'gbp': 215929889096.6443,\n",
       "   'hkd': 2203975412879.8867,\n",
       "   'huf': 86340925711748.25,\n",
       "   'idr': 4058569479146193.5,\n",
       "   'ils': 956489792662.7391,\n",
       "   'inr': 21025513215159.43,\n",
       "   'jpy': 29887735544300.305,\n",
       "   'krw': 318319161350625.6,\n",
       "   'kwd': 86822274510.50563,\n",
       "   'lkr': 52488351215357.46,\n",
       "   'ltc': 4797842248.019195,\n",
       "   'mmk': 366422460625431.56,\n",
       "   'mxn': 5781707677113.327,\n",
       "   'myr': 1167900856968.9646,\n",
       "   'ngn': 108852056805498.42,\n",
       "   'nok': 2567348911687.409,\n",
       "   'nzd': 416728609231.64624,\n",
       "   'php': 13729841166782.947,\n",
       "   'pkr': 45215374214670.04,\n",
       "   'pln': 1076852294359.41,\n",
       "   'rub': 21687459213398.598,\n",
       "   'sar': 1066204413661.0553,\n",
       "   'sek': 2450358684269.698,\n",
       "   'sgd': 383083762509.5983,\n",
       "   'thb': 8693655998176.999,\n",
       "   'try': 2304222534465.1455,\n",
       "   'twd': 8143266265918.307,\n",
       "   'uah': 7991640717694.259,\n",
       "   'usd': 284292217075.7686,\n",
       "   'vef': 70643102728624216,\n",
       "   'vnd': 6625947300509158,\n",
       "   'xag': 11718058948.62718,\n",
       "   'xau': 152016734.31475484,\n",
       "   'xdr': 199644493733.67517,\n",
       "   'xlm': 3566855696037.741,\n",
       "   'xrp': 1133844639534.9692,\n",
       "   'yfi': 18942330.653658528,\n",
       "   'zar': 4377076690985.357,\n",
       "   'bits': 18538368000000.0,\n",
       "   'link': 22679219821.43736,\n",
       "   'sats': 1853836800000000},\n",
       "  'total_volume': {'aed': 108359588578.09189,\n",
       "   'ars': 2338574541217.3315,\n",
       "   'aud': 40557831387.85573,\n",
       "   'bch': 111636812.83705766,\n",
       "   'bdt': 2503339034879.6304,\n",
       "   'bhd': 11125524474.089893,\n",
       "   'bmd': 29501754042.78257,\n",
       "   'bnb': 1055171058.6801296,\n",
       "   'brl': 158902318123.4813,\n",
       "   'btc': 1924639.305469634,\n",
       "   'cad': 38374259062.37918,\n",
       "   'chf': 26923123728.919025,\n",
       "   'clp': 22350560046166.02,\n",
       "   'cny': 195584828602.03186,\n",
       "   'czk': 661488329147.2714,\n",
       "   'dkk': 185807947312.25302,\n",
       "   'dot': 6792754761.88467,\n",
       "   'eos': 11805951320.103003,\n",
       "   'eth': 66260973.57435572,\n",
       "   'eur': 24953262109.728436,\n",
       "   'gbp': 22407614756.88489,\n",
       "   'hkd': 228712348216.6709,\n",
       "   'huf': 8959825845303.688,\n",
       "   'idr': 421168471549834.2,\n",
       "   'ils': 99257471406.7801,\n",
       "   'inr': 2181873024443.6846,\n",
       "   'jpy': 3101529236337.4106,\n",
       "   'krw': 33032819898717.54,\n",
       "   'kwd': 9009776681.157717,\n",
       "   'lkr': 5446854801705.539,\n",
       "   'ltc': 497884758.8339333,\n",
       "   'mmk': 38024626281772.57,\n",
       "   'mxn': 599983072318.8782,\n",
       "   'myr': 121196155783.15501,\n",
       "   'ngn': 11295865359799.629,\n",
       "   'nok': 266420575679.78058,\n",
       "   'nzd': 43245028156.59657,\n",
       "   'php': 1424781871678.7017,\n",
       "   'pkr': 4692118773965.779,\n",
       "   'pln': 111747806026.39725,\n",
       "   'rub': 2250564908556.8955,\n",
       "   'sar': 110642847330.47899,\n",
       "   'sek': 254280190866.61987,\n",
       "   'sgd': 39753613572.649536,\n",
       "   'thb': 902163638628.2904,\n",
       "   'try': 239115256727.237,\n",
       "   'twd': 845048242801.4629,\n",
       "   'uah': 829313659293.2701,\n",
       "   'usd': 29501754042.78257,\n",
       "   'vef': 7330821304064920,\n",
       "   'vnd': 687592047262983.6,\n",
       "   'xag': 1216013918.7668674,\n",
       "   'xau': 15775177.92175668,\n",
       "   'xdr': 20717636278.298054,\n",
       "   'xlm': 370142033900.83765,\n",
       "   'xrp': 117662052174.20015,\n",
       "   'yfi': 1965695.6693695087,\n",
       "   'zar': 454220805944.2968,\n",
       "   'bits': 1924639305469.634,\n",
       "   'link': 2353482525.608233,\n",
       "   'sats': 192463930546963.4}},\n",
       " 'community_data': {'facebook_likes': None,\n",
       "  'twitter_followers': 72617,\n",
       "  'reddit_average_posts_48h': 6.727,\n",
       "  'reddit_average_comments_48h': 366.273,\n",
       "  'reddit_subscribers': 1747658,\n",
       "  'reddit_accounts_active_48h': '4851.91666666667'},\n",
       " 'developer_data': {'forks': 26617,\n",
       "  'stars': 45862,\n",
       "  'subscribers': 3589,\n",
       "  'total_issues': 5789,\n",
       "  'closed_issues': 5211,\n",
       "  'pull_requests_merged': 8022,\n",
       "  'pull_request_contributors': 696,\n",
       "  'code_additions_deletions_4_weeks': {'additions': 10865, 'deletions': -7137},\n",
       "  'commit_count_4_weeks': 280},\n",
       " 'public_interest_stats': {'alexa_rank': 9292, 'bing_matches': None}}"
      ]
     },
     "metadata": {},
     "output_type": "display_data"
    }
   ],
   "source": [
    "# Historical Data with Coingecko for specific cryptocurrency and date\n",
    "data = cg.get_coin_history_by_id(id='bitcoin',date='10-11-2020', localization='false')\n",
    "display(data)"
   ]
  },
  {
   "cell_type": "code",
   "execution_count": null,
   "id": "627ddfe6",
   "metadata": {},
   "outputs": [],
   "source": []
  }
 ],
 "metadata": {
  "kernelspec": {
   "display_name": "Python (dev)",
   "language": "python",
   "name": "dev"
  },
  "language_info": {
   "codemirror_mode": {
    "name": "ipython",
    "version": 3
   },
   "file_extension": ".py",
   "mimetype": "text/x-python",
   "name": "python",
   "nbconvert_exporter": "python",
   "pygments_lexer": "ipython3",
   "version": "3.7.10"
  }
 },
 "nbformat": 4,
 "nbformat_minor": 5
}
