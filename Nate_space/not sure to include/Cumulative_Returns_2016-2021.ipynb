{
 "cells": [
  {
   "cell_type": "code",
   "execution_count": 1,
   "id": "4cc7a7d5-6abd-4b0c-809e-c41773bc175b",
   "metadata": {},
   "outputs": [
    {
     "data": {
      "text/plain": [
       "'\\nSecond Round of Analysis of the crypto market cumulative returns from 2017 to 2021\\n\\n'"
      ]
     },
     "execution_count": 1,
     "metadata": {},
     "output_type": "execute_result"
    }
   ],
   "source": [
    "\"\"\"\n",
    "Second Round of Analysis of the crypto market cumulative returns from 2017 to 2021\n",
    "\n",
    "\"\"\"\n"
   ]
  },
  {
   "cell_type": "code",
   "execution_count": 43,
   "id": "dcab8b9d-aafc-4d23-a538-afe48fdb9640",
   "metadata": {},
   "outputs": [],
   "source": [
    "import os\n",
    "import pandas as pd\n",
    "import plotly.express as px\n",
    "import hvplot.pandas\n",
    "from pathlib import Path\n",
    "from dotenv import load_dotenv\n",
    "%matplotlib inline\n",
    "import numpy as np"
   ]
  },
  {
   "cell_type": "code",
   "execution_count": 45,
   "id": "1f454380-192b-4b49-90ec-93a60c9fd0b2",
   "metadata": {},
   "outputs": [],
   "source": [
    "# Timeperiod: 2017-2021   DIGITAL ASSETS: BTC, ETH, LTC, XLM, XRP, ZEC, \n",
    "crypto_portfolio_cls_price = pd.read_csv(\n",
    "    Path('./data/crypto_data_2017_to_2021.csv'),\n",
    "    parse_dates=True,\n",
    "    infer_datetime_format=True)\n",
    "    \n"
   ]
  },
  {
   "cell_type": "code",
   "execution_count": 46,
   "id": "b4d02e06-c16d-4522-b7db-503c74ded559",
   "metadata": {},
   "outputs": [
    {
     "data": {
      "text/html": [
       "<div>\n",
       "<style scoped>\n",
       "    .dataframe tbody tr th:only-of-type {\n",
       "        vertical-align: middle;\n",
       "    }\n",
       "\n",
       "    .dataframe tbody tr th {\n",
       "        vertical-align: top;\n",
       "    }\n",
       "\n",
       "    .dataframe thead th {\n",
       "        text-align: right;\n",
       "    }\n",
       "</style>\n",
       "<table border=\"1\" class=\"dataframe\">\n",
       "  <thead>\n",
       "    <tr style=\"text-align: right;\">\n",
       "      <th></th>\n",
       "      <th>btc_price_close_btc</th>\n",
       "      <th>eth_price_close</th>\n",
       "      <th>ltc_price_close</th>\n",
       "      <th>xlm_price_close</th>\n",
       "      <th>xrp_price_close</th>\n",
       "      <th>zec_price_close</th>\n",
       "    </tr>\n",
       "    <tr>\n",
       "      <th>time</th>\n",
       "      <th></th>\n",
       "      <th></th>\n",
       "      <th></th>\n",
       "      <th></th>\n",
       "      <th></th>\n",
       "      <th></th>\n",
       "    </tr>\n",
       "  </thead>\n",
       "  <tbody>\n",
       "    <tr>\n",
       "      <th>2017-01-01T00:00:00.0000000Z</th>\n",
       "      <td>969.739</td>\n",
       "      <td>10.66911</td>\n",
       "      <td>4.12475</td>\n",
       "      <td>0.002149</td>\n",
       "      <td>0.006386</td>\n",
       "      <td>39.72103</td>\n",
       "    </tr>\n",
       "    <tr>\n",
       "      <th>2017-02-01T00:00:00.0000000Z</th>\n",
       "      <td>1180.000</td>\n",
       "      <td>15.63000</td>\n",
       "      <td>3.77000</td>\n",
       "      <td>0.001920</td>\n",
       "      <td>0.006540</td>\n",
       "      <td>36.87479</td>\n",
       "    </tr>\n",
       "    <tr>\n",
       "      <th>2017-03-01T00:00:00.0000000Z</th>\n",
       "      <td>1079.780</td>\n",
       "      <td>49.69750</td>\n",
       "      <td>7.07063</td>\n",
       "      <td>0.002282</td>\n",
       "      <td>0.005408</td>\n",
       "      <td>62.22333</td>\n",
       "    </tr>\n",
       "    <tr>\n",
       "      <th>2017-04-01T00:00:00.0000000Z</th>\n",
       "      <td>1350.717</td>\n",
       "      <td>78.36700</td>\n",
       "      <td>15.65775</td>\n",
       "      <td>0.004805</td>\n",
       "      <td>0.021890</td>\n",
       "      <td>92.72201</td>\n",
       "    </tr>\n",
       "    <tr>\n",
       "      <th>2017-05-01T00:00:00.0000000Z</th>\n",
       "      <td>2291.301</td>\n",
       "      <td>228.50000</td>\n",
       "      <td>25.78000</td>\n",
       "      <td>0.034000</td>\n",
       "      <td>0.249367</td>\n",
       "      <td>231.36099</td>\n",
       "    </tr>\n",
       "  </tbody>\n",
       "</table>\n",
       "</div>"
      ],
      "text/plain": [
       "                              btc_price_close_btc  eth_price_close  \\\n",
       "time                                                                 \n",
       "2017-01-01T00:00:00.0000000Z              969.739         10.66911   \n",
       "2017-02-01T00:00:00.0000000Z             1180.000         15.63000   \n",
       "2017-03-01T00:00:00.0000000Z             1079.780         49.69750   \n",
       "2017-04-01T00:00:00.0000000Z             1350.717         78.36700   \n",
       "2017-05-01T00:00:00.0000000Z             2291.301        228.50000   \n",
       "\n",
       "                              ltc_price_close  xlm_price_close  \\\n",
       "time                                                             \n",
       "2017-01-01T00:00:00.0000000Z          4.12475         0.002149   \n",
       "2017-02-01T00:00:00.0000000Z          3.77000         0.001920   \n",
       "2017-03-01T00:00:00.0000000Z          7.07063         0.002282   \n",
       "2017-04-01T00:00:00.0000000Z         15.65775         0.004805   \n",
       "2017-05-01T00:00:00.0000000Z         25.78000         0.034000   \n",
       "\n",
       "                              xrp_price_close  zec_price_close  \n",
       "time                                                            \n",
       "2017-01-01T00:00:00.0000000Z         0.006386         39.72103  \n",
       "2017-02-01T00:00:00.0000000Z         0.006540         36.87479  \n",
       "2017-03-01T00:00:00.0000000Z         0.005408         62.22333  \n",
       "2017-04-01T00:00:00.0000000Z         0.021890         92.72201  \n",
       "2017-05-01T00:00:00.0000000Z         0.249367        231.36099  "
      ]
     },
     "execution_count": 46,
     "metadata": {},
     "output_type": "execute_result"
    }
   ],
   "source": [
    "crypto_portfolio_cls_price.set_index('time').head()\n"
   ]
  },
  {
   "cell_type": "code",
   "execution_count": 47,
   "id": "d83d7223-c609-40dd-bfa0-9eb272c4111f",
   "metadata": {},
   "outputs": [
    {
     "data": {
      "text/plain": [
       "Index(['time', 'btc_price_close_btc', 'eth_price_close', 'ltc_price_close',\n",
       "       'xlm_price_close', 'xrp_price_close', 'zec_price_close'],\n",
       "      dtype='object')"
      ]
     },
     "execution_count": 47,
     "metadata": {},
     "output_type": "execute_result"
    }
   ],
   "source": [
    "crypto_portfolio_cls_price.columns"
   ]
  },
  {
   "cell_type": "code",
   "execution_count": 7,
   "id": "f0a09644-c900-495f-b451-bc2d082ec5e0",
   "metadata": {},
   "outputs": [],
   "source": [
    "# Monthly Returns\n",
    "\n",
    "btc_monthly_returns = crypto_portfolio_cls_price['btc_price_close_btc'].pct_change().dropna()\n",
    "eth_monthly_returns = crypto_portfolio_cls_price['eth_price_close'].pct_change().dropna()\n",
    "ltc_monthly_returns = crypto_portfolio_cls_price['ltc_price_close'].pct_change().dropna()\n",
    "xlm_monthly_returns = crypto_portfolio_cls_price['xlm_price_close'].pct_change().dropna()\n",
    "xrp_monthly_returns = crypto_portfolio_cls_price['xrp_price_close'].pct_change().dropna()\n",
    "zec_monthly_returns = crypto_portfolio_cls_price['zec_price_close'].pct_change().dropna()"
   ]
  },
  {
   "cell_type": "code",
   "execution_count": 8,
   "id": "96922c1d-e1c1-410e-961f-4ddfc4980440",
   "metadata": {},
   "outputs": [],
   "source": [
    "# Concatenated monthly returns into monthly_returns_crypto DataFrame\n",
    "monthly_returns_crypto = pd.concat([btc_monthly_returns,eth_monthly_returns,ltc_monthly_returns,xlm_monthly_returns,xrp_monthly_returns,zec_monthly_returns], axis = 1)\n",
    "# Renamed Columns to monthly returns\n",
    "monthly_returns = monthly_returns_crypto.rename(columns = {'btc_price_close_btc':'btc_monthly_returns','eth_price_close': 'eth_monthly_returns','ltc_price_close':'ltc_monthly_returns','xlm_price_close':'xlm_monthly_returns','xrp_price_close':'xrp_monthly_returns','zec_price_close':'zec_monthly_returns'})"
   ]
  },
  {
   "cell_type": "code",
   "execution_count": 41,
   "id": "bedd4cda-1eff-4971-86c2-29f4eac4978f",
   "metadata": {},
   "outputs": [
    {
     "data": {
      "text/html": [
       "<div>\n",
       "<style scoped>\n",
       "    .dataframe tbody tr th:only-of-type {\n",
       "        vertical-align: middle;\n",
       "    }\n",
       "\n",
       "    .dataframe tbody tr th {\n",
       "        vertical-align: top;\n",
       "    }\n",
       "\n",
       "    .dataframe thead th {\n",
       "        text-align: right;\n",
       "    }\n",
       "</style>\n",
       "<table border=\"1\" class=\"dataframe\">\n",
       "  <thead>\n",
       "    <tr style=\"text-align: right;\">\n",
       "      <th></th>\n",
       "      <th>btc_monthly_returns</th>\n",
       "      <th>eth_monthly_returns</th>\n",
       "      <th>ltc_monthly_returns</th>\n",
       "      <th>xlm_monthly_returns</th>\n",
       "      <th>xrp_monthly_returns</th>\n",
       "      <th>zec_monthly_returns</th>\n",
       "    </tr>\n",
       "    <tr>\n",
       "      <th>time</th>\n",
       "      <th></th>\n",
       "      <th></th>\n",
       "      <th></th>\n",
       "      <th></th>\n",
       "      <th></th>\n",
       "      <th></th>\n",
       "    </tr>\n",
       "  </thead>\n",
       "  <tbody>\n",
       "    <tr>\n",
       "      <th>2017-02-01T00:00:00.0000000Z</th>\n",
       "      <td>0.216822</td>\n",
       "      <td>0.464977</td>\n",
       "      <td>-0.086005</td>\n",
       "      <td>-0.106561</td>\n",
       "      <td>0.024115</td>\n",
       "      <td>-0.071656</td>\n",
       "    </tr>\n",
       "    <tr>\n",
       "      <th>2017-03-01T00:00:00.0000000Z</th>\n",
       "      <td>-0.084932</td>\n",
       "      <td>2.179623</td>\n",
       "      <td>0.875499</td>\n",
       "      <td>0.188542</td>\n",
       "      <td>-0.173089</td>\n",
       "      <td>0.687422</td>\n",
       "    </tr>\n",
       "    <tr>\n",
       "      <th>2017-04-01T00:00:00.0000000Z</th>\n",
       "      <td>0.250919</td>\n",
       "      <td>0.576880</td>\n",
       "      <td>1.214477</td>\n",
       "      <td>1.105609</td>\n",
       "      <td>3.047707</td>\n",
       "      <td>0.490149</td>\n",
       "    </tr>\n",
       "    <tr>\n",
       "      <th>2017-05-01T00:00:00.0000000Z</th>\n",
       "      <td>0.696359</td>\n",
       "      <td>1.915768</td>\n",
       "      <td>0.646469</td>\n",
       "      <td>6.075963</td>\n",
       "      <td>10.391823</td>\n",
       "      <td>1.495211</td>\n",
       "    </tr>\n",
       "    <tr>\n",
       "      <th>2017-06-01T00:00:00.0000000Z</th>\n",
       "      <td>0.067079</td>\n",
       "      <td>0.225383</td>\n",
       "      <td>0.514656</td>\n",
       "      <td>-0.214882</td>\n",
       "      <td>-0.021382</td>\n",
       "      <td>0.274182</td>\n",
       "    </tr>\n",
       "  </tbody>\n",
       "</table>\n",
       "</div>"
      ],
      "text/plain": [
       "                              btc_monthly_returns  eth_monthly_returns  \\\n",
       "time                                                                     \n",
       "2017-02-01T00:00:00.0000000Z             0.216822             0.464977   \n",
       "2017-03-01T00:00:00.0000000Z            -0.084932             2.179623   \n",
       "2017-04-01T00:00:00.0000000Z             0.250919             0.576880   \n",
       "2017-05-01T00:00:00.0000000Z             0.696359             1.915768   \n",
       "2017-06-01T00:00:00.0000000Z             0.067079             0.225383   \n",
       "\n",
       "                              ltc_monthly_returns  xlm_monthly_returns  \\\n",
       "time                                                                     \n",
       "2017-02-01T00:00:00.0000000Z            -0.086005            -0.106561   \n",
       "2017-03-01T00:00:00.0000000Z             0.875499             0.188542   \n",
       "2017-04-01T00:00:00.0000000Z             1.214477             1.105609   \n",
       "2017-05-01T00:00:00.0000000Z             0.646469             6.075963   \n",
       "2017-06-01T00:00:00.0000000Z             0.514656            -0.214882   \n",
       "\n",
       "                              xrp_monthly_returns  zec_monthly_returns  \n",
       "time                                                                    \n",
       "2017-02-01T00:00:00.0000000Z             0.024115            -0.071656  \n",
       "2017-03-01T00:00:00.0000000Z            -0.173089             0.687422  \n",
       "2017-04-01T00:00:00.0000000Z             3.047707             0.490149  \n",
       "2017-05-01T00:00:00.0000000Z            10.391823             1.495211  \n",
       "2017-06-01T00:00:00.0000000Z            -0.021382             0.274182  "
      ]
     },
     "execution_count": 41,
     "metadata": {},
     "output_type": "execute_result"
    }
   ],
   "source": [
    "monthly_returns_crypto.index = crypto_portfolio_cls_price.iloc[1:,0]\n",
    "monthly_returns = monthly_returns_crypto.rename(columns = {'btc_price_close_btc':'btc_monthly_returns','eth_price_close': 'eth_monthly_returns','ltc_price_close':'ltc_monthly_returns','xlm_price_close':'xlm_monthly_returns','xrp_price_close':'xrp_monthly_returns','zec_price_close':'zec_monthly_returns'})\n",
    "monthly_returns.head()"
   ]
  },
  {
   "cell_type": "code",
   "execution_count": 12,
   "id": "f713c609-7c6a-4eb1-8ffc-fe4c1cfb186f",
   "metadata": {},
   "outputs": [
    {
     "data": {
      "text/html": [
       "<div>\n",
       "<style scoped>\n",
       "    .dataframe tbody tr th:only-of-type {\n",
       "        vertical-align: middle;\n",
       "    }\n",
       "\n",
       "    .dataframe tbody tr th {\n",
       "        vertical-align: top;\n",
       "    }\n",
       "\n",
       "    .dataframe thead th {\n",
       "        text-align: right;\n",
       "    }\n",
       "</style>\n",
       "<table border=\"1\" class=\"dataframe\">\n",
       "  <thead>\n",
       "    <tr style=\"text-align: right;\">\n",
       "      <th></th>\n",
       "      <th>btc_monthly_returns</th>\n",
       "      <th>eth_monthly_returns</th>\n",
       "      <th>ltc_monthly_returns</th>\n",
       "      <th>xlm_monthly_returns</th>\n",
       "      <th>xrp_monthly_returns</th>\n",
       "      <th>zec_monthly_returns</th>\n",
       "    </tr>\n",
       "    <tr>\n",
       "      <th>time</th>\n",
       "      <th></th>\n",
       "      <th></th>\n",
       "      <th></th>\n",
       "      <th></th>\n",
       "      <th></th>\n",
       "      <th></th>\n",
       "    </tr>\n",
       "  </thead>\n",
       "  <tbody>\n",
       "    <tr>\n",
       "      <th>2021-04-01T00:00:00.0000000Z</th>\n",
       "      <td>59.583042</td>\n",
       "      <td>260.234453</td>\n",
       "      <td>65.834293</td>\n",
       "      <td>246.611913</td>\n",
       "      <td>250.613843</td>\n",
       "      <td>6.183878</td>\n",
       "    </tr>\n",
       "    <tr>\n",
       "      <th>2021-05-01T00:00:00.0000000Z</th>\n",
       "      <td>38.467876</td>\n",
       "      <td>253.600347</td>\n",
       "      <td>45.600339</td>\n",
       "      <td>187.156817</td>\n",
       "      <td>163.041027</td>\n",
       "      <td>4.088766</td>\n",
       "    </tr>\n",
       "    <tr>\n",
       "      <th>2021-06-01T00:00:00.0000000Z</th>\n",
       "      <td>36.139827</td>\n",
       "      <td>213.387996</td>\n",
       "      <td>34.952421</td>\n",
       "      <td>132.386226</td>\n",
       "      <td>110.090824</td>\n",
       "      <td>3.298253</td>\n",
       "    </tr>\n",
       "    <tr>\n",
       "      <th>2021-07-01T00:00:00.0000000Z</th>\n",
       "      <td>42.783161</td>\n",
       "      <td>237.182858</td>\n",
       "      <td>35.015455</td>\n",
       "      <td>132.360168</td>\n",
       "      <td>116.886940</td>\n",
       "      <td>2.799021</td>\n",
       "    </tr>\n",
       "    <tr>\n",
       "      <th>2021-08-01T00:00:00.0000000Z</th>\n",
       "      <td>47.545783</td>\n",
       "      <td>301.801181</td>\n",
       "      <td>42.918965</td>\n",
       "      <td>161.349000</td>\n",
       "      <td>161.528343</td>\n",
       "      <td>3.555547</td>\n",
       "    </tr>\n",
       "  </tbody>\n",
       "</table>\n",
       "</div>"
      ],
      "text/plain": [
       "                              btc_monthly_returns  eth_monthly_returns  \\\n",
       "time                                                                     \n",
       "2021-04-01T00:00:00.0000000Z            59.583042           260.234453   \n",
       "2021-05-01T00:00:00.0000000Z            38.467876           253.600347   \n",
       "2021-06-01T00:00:00.0000000Z            36.139827           213.387996   \n",
       "2021-07-01T00:00:00.0000000Z            42.783161           237.182858   \n",
       "2021-08-01T00:00:00.0000000Z            47.545783           301.801181   \n",
       "\n",
       "                              ltc_monthly_returns  xlm_monthly_returns  \\\n",
       "time                                                                     \n",
       "2021-04-01T00:00:00.0000000Z            65.834293           246.611913   \n",
       "2021-05-01T00:00:00.0000000Z            45.600339           187.156817   \n",
       "2021-06-01T00:00:00.0000000Z            34.952421           132.386226   \n",
       "2021-07-01T00:00:00.0000000Z            35.015455           132.360168   \n",
       "2021-08-01T00:00:00.0000000Z            42.918965           161.349000   \n",
       "\n",
       "                              xrp_monthly_returns  zec_monthly_returns  \n",
       "time                                                                    \n",
       "2021-04-01T00:00:00.0000000Z           250.613843             6.183878  \n",
       "2021-05-01T00:00:00.0000000Z           163.041027             4.088766  \n",
       "2021-06-01T00:00:00.0000000Z           110.090824             3.298253  \n",
       "2021-07-01T00:00:00.0000000Z           116.886940             2.799021  \n",
       "2021-08-01T00:00:00.0000000Z           161.528343             3.555547  "
      ]
     },
     "execution_count": 12,
     "metadata": {},
     "output_type": "execute_result"
    }
   ],
   "source": [
    "# Total Return of the cryptos\n",
    "cumulative_returns = (1 + monthly_returns).cumprod().dropna()\n",
    "cumulative_returns.tail()"
   ]
  },
  {
   "cell_type": "code",
   "execution_count": 36,
   "id": "f2037278-8769-4194-8012-e7f492bfd1f7",
   "metadata": {},
   "outputs": [
    {
     "data": {},
     "metadata": {},
     "output_type": "display_data"
    },
    {
     "data": {
      "application/vnd.holoviews_exec.v0+json": "",
      "text/html": [
       "<div id='8415'>\n",
       "\n",
       "\n",
       "\n",
       "\n",
       "\n",
       "  <div class=\"bk-root\" id=\"6cb444e8-6efd-4a8f-89eb-9a0bf290655f\" data-root-id=\"8415\"></div>\n",
       "</div>\n",
       "<script type=\"application/javascript\">(function(root) {\n",
       "  function embed_document(root) {\n",
       "    var docs_json = {\"b3fdf6be-b9f1-4104-bfc6-96693d73a0d4\":{\"defs\":[{\"extends\":null,\"module\":null,\"name\":\"ReactiveHTML1\",\"overrides\":[],\"properties\":[]},{\"extends\":null,\"module\":null,\"name\":\"FlexBox1\",\"overrides\":[],\"properties\":[{\"default\":\"flex-start\",\"kind\":null,\"name\":\"align_content\"},{\"default\":\"flex-start\",\"kind\":null,\"name\":\"align_items\"},{\"default\":\"row\",\"kind\":null,\"name\":\"flex_direction\"},{\"default\":\"wrap\",\"kind\":null,\"name\":\"flex_wrap\"},{\"default\":\"flex-start\",\"kind\":null,\"name\":\"justify_content\"}]},{\"extends\":null,\"module\":null,\"name\":\"TemplateActions1\",\"overrides\":[],\"properties\":[{\"default\":0,\"kind\":null,\"name\":\"open_modal\"},{\"default\":0,\"kind\":null,\"name\":\"close_modal\"}]},{\"extends\":null,\"module\":null,\"name\":\"MaterialTemplateActions1\",\"overrides\":[],\"properties\":[{\"default\":0,\"kind\":null,\"name\":\"open_modal\"},{\"default\":0,\"kind\":null,\"name\":\"close_modal\"}]}],\"roots\":{\"references\":[{\"attributes\":{},\"id\":\"8435\",\"type\":\"CategoricalTicker\"},{\"attributes\":{\"line_color\":\"#6d904f\",\"line_width\":2,\"x\":{\"field\":\"time\"},\"y\":{\"field\":\"value\"}},\"id\":\"8552\",\"type\":\"Line\"},{\"attributes\":{\"axis_label\":\"Time\",\"axis_label_text_font_size\":\"13pt\",\"formatter\":{\"id\":\"8455\"},\"major_label_orientation\":0.7853981633974483,\"major_label_policy\":{\"id\":\"8454\"},\"ticker\":{\"id\":\"8435\"}},\"id\":\"8434\",\"type\":\"CategoricalAxis\"},{\"attributes\":{\"data\":{\"Variable\":[\"zec_monthly_returns\",\"zec_monthly_returns\",\"zec_monthly_returns\",\"zec_monthly_returns\",\"zec_monthly_returns\",\"zec_monthly_returns\",\"zec_monthly_returns\",\"zec_monthly_returns\",\"zec_monthly_returns\",\"zec_monthly_returns\",\"zec_monthly_returns\",\"zec_monthly_returns\",\"zec_monthly_returns\",\"zec_monthly_returns\",\"zec_monthly_returns\",\"zec_monthly_returns\",\"zec_monthly_returns\",\"zec_monthly_returns\",\"zec_monthly_returns\",\"zec_monthly_returns\",\"zec_monthly_returns\",\"zec_monthly_returns\",\"zec_monthly_returns\",\"zec_monthly_returns\",\"zec_monthly_returns\",\"zec_monthly_returns\",\"zec_monthly_returns\",\"zec_monthly_returns\",\"zec_monthly_returns\",\"zec_monthly_returns\",\"zec_monthly_returns\",\"zec_monthly_returns\",\"zec_monthly_returns\",\"zec_monthly_returns\",\"zec_monthly_returns\",\"zec_monthly_returns\",\"zec_monthly_returns\",\"zec_monthly_returns\",\"zec_monthly_returns\",\"zec_monthly_returns\",\"zec_monthly_returns\",\"zec_monthly_returns\",\"zec_monthly_returns\",\"zec_monthly_returns\",\"zec_monthly_returns\",\"zec_monthly_returns\",\"zec_monthly_returns\",\"zec_monthly_returns\",\"zec_monthly_returns\",\"zec_monthly_returns\",\"zec_monthly_returns\",\"zec_monthly_returns\",\"zec_monthly_returns\",\"zec_monthly_returns\",\"zec_monthly_returns\"],\"time\":[\"2017-02-01T00:00:00.0000000Z\",\"2017-03-01T00:00:00.0000000Z\",\"2017-04-01T00:00:00.0000000Z\",\"2017-05-01T00:00:00.0000000Z\",\"2017-06-01T00:00:00.0000000Z\",\"2017-07-01T00:00:00.0000000Z\",\"2017-08-01T00:00:00.0000000Z\",\"2017-09-01T00:00:00.0000000Z\",\"2017-10-01T00:00:00.0000000Z\",\"2017-11-01T00:00:00.0000000Z\",\"2017-12-01T00:00:00.0000000Z\",\"2018-01-01T00:00:00.0000000Z\",\"2018-02-01T00:00:00.0000000Z\",\"2018-03-01T00:00:00.0000000Z\",\"2018-04-01T00:00:00.0000000Z\",\"2018-05-01T00:00:00.0000000Z\",\"2018-06-01T00:00:00.0000000Z\",\"2018-07-01T00:00:00.0000000Z\",\"2018-08-01T00:00:00.0000000Z\",\"2018-09-01T00:00:00.0000000Z\",\"2018-10-01T00:00:00.0000000Z\",\"2018-11-01T00:00:00.0000000Z\",\"2018-12-01T00:00:00.0000000Z\",\"2019-01-01T00:00:00.0000000Z\",\"2019-02-01T00:00:00.0000000Z\",\"2019-03-01T00:00:00.0000000Z\",\"2019-04-01T00:00:00.0000000Z\",\"2019-05-01T00:00:00.0000000Z\",\"2019-06-01T00:00:00.0000000Z\",\"2019-07-01T00:00:00.0000000Z\",\"2019-08-01T00:00:00.0000000Z\",\"2019-09-01T00:00:00.0000000Z\",\"2019-10-01T00:00:00.0000000Z\",\"2019-11-01T00:00:00.0000000Z\",\"2019-12-01T00:00:00.0000000Z\",\"2020-01-01T00:00:00.0000000Z\",\"2020-02-01T00:00:00.0000000Z\",\"2020-03-01T00:00:00.0000000Z\",\"2020-04-01T00:00:00.0000000Z\",\"2020-05-01T00:00:00.0000000Z\",\"2020-06-01T00:00:00.0000000Z\",\"2020-07-01T00:00:00.0000000Z\",\"2020-08-01T00:00:00.0000000Z\",\"2020-09-01T00:00:00.0000000Z\",\"2020-10-01T00:00:00.0000000Z\",\"2020-11-01T00:00:00.0000000Z\",\"2020-12-01T00:00:00.0000000Z\",\"2021-01-01T00:00:00.0000000Z\",\"2021-02-01T00:00:00.0000000Z\",\"2021-03-01T00:00:00.0000000Z\",\"2021-04-01T00:00:00.0000000Z\",\"2021-05-01T00:00:00.0000000Z\",\"2021-06-01T00:00:00.0000000Z\",\"2021-07-01T00:00:00.0000000Z\",\"2021-08-01T00:00:00.0000000Z\"],\"value\":{\"__ndarray__\":\"Y+7JAv+07T9BV+4vaxD5P1O89XG1rAJAADZDV3BMF0C8MpUryK8dQJ8DNi2vhRFAtLAE9iM0HUCE39vNAOUbQG213tJ4kBdAWBoNsZNbHkCV9w7WARooQGUm/J631SNAWZHyKAcmI0AEzhZn1YoSQMJWJgsIpBxA9YL/zHQcGEAdCc1q1i8RQIc6Pg3oERVAjypjOnQ2DkCgU/w7CygKQL8X1zGaMQdAt1t7nsn//z/R/HMCnin2PwMp6XjPmvM/841DOZx79D8PUvJMeW/3P4bwMIs+Lvg/Wuwohjw9AkCb/Q7rv5AEQHmDY++KUfs/CQ2SIvUS8j80Oec9TErvP1NHVXlwJe4/leZagglh5z+1PsBO/hTmP27MZll9qvo/fO8E+9a88z/GyBDR8+roP038wYUl+PE/oCtL2nra9D/jGns9q7/0P0WycjDx8/0/InwnsYq1/z+mTpG3cMH5P2z/1WNJafc/qMaYVUrO/z8gX6TKSLz5P8+bWDYEPgFApiZ8CqVsBkD6SqsB+uQPQEKEsH1KvBhA5JeTfuVaEECdZIli0mIKQM8NASllZAZAXzcgxcJxDEA=\",\"dtype\":\"float64\",\"order\":\"little\",\"shape\":[55]}},\"selected\":{\"id\":\"8582\"},\"selection_policy\":{\"id\":\"8608\"}},\"id\":\"8581\",\"type\":\"ColumnDataSource\"},{\"attributes\":{\"axis\":{\"id\":\"8437\"},\"dimension\":1,\"grid_line_color\":null,\"ticker\":null},\"id\":\"8440\",\"type\":\"Grid\"},{\"attributes\":{},\"id\":\"8550\",\"type\":\"UnionRenderers\"},{\"attributes\":{},\"id\":\"8455\",\"type\":\"CategoricalTickFormatter\"},{\"attributes\":{\"axis\":{\"id\":\"8434\"},\"grid_line_color\":null,\"ticker\":null},\"id\":\"8436\",\"type\":\"Grid\"},{\"attributes\":{},\"id\":\"8438\",\"type\":\"BasicTicker\"},{\"attributes\":{\"label\":{\"value\":\"xlm_monthly_returns\"},\"renderers\":[{\"id\":\"8533\"}]},\"id\":\"8551\",\"type\":\"LegendItem\"},{\"attributes\":{\"axis_label\":\"Cumulative Returns\",\"axis_label_text_font_size\":\"13pt\",\"formatter\":{\"id\":\"8459\"},\"major_label_policy\":{\"id\":\"8458\"},\"ticker\":{\"id\":\"8438\"}},\"id\":\"8437\",\"type\":\"LinearAxis\"},{\"attributes\":{\"margin\":[5,5,5,5],\"name\":\"HSpacer18776\",\"sizing_mode\":\"stretch_width\"},\"id\":\"8791\",\"type\":\"Spacer\"},{\"attributes\":{\"line_alpha\":0.1,\"line_color\":\"#6d904f\",\"line_width\":2,\"x\":{\"field\":\"time\"},\"y\":{\"field\":\"value\"}},\"id\":\"8531\",\"type\":\"Line\"},{\"attributes\":{},\"id\":\"8477\",\"type\":\"UnionRenderers\"},{\"attributes\":{\"click_policy\":\"mute\",\"items\":[{\"id\":\"8479\"},{\"id\":\"8501\"},{\"id\":\"8525\"},{\"id\":\"8551\"},{\"id\":\"8579\"},{\"id\":\"8609\"}],\"location\":[0,0],\"title\":\"Variable\"},\"id\":\"8478\",\"type\":\"Legend\"},{\"attributes\":{},\"id\":\"8528\",\"type\":\"Selection\"},{\"attributes\":{\"line_alpha\":0.2,\"line_color\":\"#30a2da\",\"line_width\":2,\"x\":{\"field\":\"time\"},\"y\":{\"field\":\"value\"}},\"id\":\"8465\",\"type\":\"Line\"},{\"attributes\":{\"label\":{\"value\":\"btc_monthly_returns\"},\"renderers\":[{\"id\":\"8466\"}]},\"id\":\"8479\",\"type\":\"LegendItem\"},{\"attributes\":{\"line_alpha\":0.1,\"line_color\":\"#30a2da\",\"line_width\":2,\"x\":{\"field\":\"time\"},\"y\":{\"field\":\"value\"}},\"id\":\"8464\",\"type\":\"Line\"},{\"attributes\":{\"line_color\":\"#6d904f\",\"line_width\":2,\"x\":{\"field\":\"time\"},\"y\":{\"field\":\"value\"}},\"id\":\"8530\",\"type\":\"Line\"},{\"attributes\":{\"active_multi\":null,\"tools\":[{\"id\":\"8419\"},{\"id\":\"8441\"},{\"id\":\"8442\"},{\"id\":\"8443\"},{\"id\":\"8444\"},{\"id\":\"8445\"}]},\"id\":\"8447\",\"type\":\"Toolbar\"},{\"attributes\":{\"line_alpha\":0.2,\"line_color\":\"#8b8b8b\",\"line_width\":2,\"x\":{\"field\":\"time\"},\"y\":{\"field\":\"value\"}},\"id\":\"8558\",\"type\":\"Line\"},{\"attributes\":{},\"id\":\"8578\",\"type\":\"UnionRenderers\"},{\"attributes\":{\"data\":{\"Variable\":[\"eth_monthly_returns\",\"eth_monthly_returns\",\"eth_monthly_returns\",\"eth_monthly_returns\",\"eth_monthly_returns\",\"eth_monthly_returns\",\"eth_monthly_returns\",\"eth_monthly_returns\",\"eth_monthly_returns\",\"eth_monthly_returns\",\"eth_monthly_returns\",\"eth_monthly_returns\",\"eth_monthly_returns\",\"eth_monthly_returns\",\"eth_monthly_returns\",\"eth_monthly_returns\",\"eth_monthly_returns\",\"eth_monthly_returns\",\"eth_monthly_returns\",\"eth_monthly_returns\",\"eth_monthly_returns\",\"eth_monthly_returns\",\"eth_monthly_returns\",\"eth_monthly_returns\",\"eth_monthly_returns\",\"eth_monthly_returns\",\"eth_monthly_returns\",\"eth_monthly_returns\",\"eth_monthly_returns\",\"eth_monthly_returns\",\"eth_monthly_returns\",\"eth_monthly_returns\",\"eth_monthly_returns\",\"eth_monthly_returns\",\"eth_monthly_returns\",\"eth_monthly_returns\",\"eth_monthly_returns\",\"eth_monthly_returns\",\"eth_monthly_returns\",\"eth_monthly_returns\",\"eth_monthly_returns\",\"eth_monthly_returns\",\"eth_monthly_returns\",\"eth_monthly_returns\",\"eth_monthly_returns\",\"eth_monthly_returns\",\"eth_monthly_returns\",\"eth_monthly_returns\",\"eth_monthly_returns\",\"eth_monthly_returns\",\"eth_monthly_returns\",\"eth_monthly_returns\",\"eth_monthly_returns\",\"eth_monthly_returns\",\"eth_monthly_returns\"],\"time\":[\"2017-02-01T00:00:00.0000000Z\",\"2017-03-01T00:00:00.0000000Z\",\"2017-04-01T00:00:00.0000000Z\",\"2017-05-01T00:00:00.0000000Z\",\"2017-06-01T00:00:00.0000000Z\",\"2017-07-01T00:00:00.0000000Z\",\"2017-08-01T00:00:00.0000000Z\",\"2017-09-01T00:00:00.0000000Z\",\"2017-10-01T00:00:00.0000000Z\",\"2017-11-01T00:00:00.0000000Z\",\"2017-12-01T00:00:00.0000000Z\",\"2018-01-01T00:00:00.0000000Z\",\"2018-02-01T00:00:00.0000000Z\",\"2018-03-01T00:00:00.0000000Z\",\"2018-04-01T00:00:00.0000000Z\",\"2018-05-01T00:00:00.0000000Z\",\"2018-06-01T00:00:00.0000000Z\",\"2018-07-01T00:00:00.0000000Z\",\"2018-08-01T00:00:00.0000000Z\",\"2018-09-01T00:00:00.0000000Z\",\"2018-10-01T00:00:00.0000000Z\",\"2018-11-01T00:00:00.0000000Z\",\"2018-12-01T00:00:00.0000000Z\",\"2019-01-01T00:00:00.0000000Z\",\"2019-02-01T00:00:00.0000000Z\",\"2019-03-01T00:00:00.0000000Z\",\"2019-04-01T00:00:00.0000000Z\",\"2019-05-01T00:00:00.0000000Z\",\"2019-06-01T00:00:00.0000000Z\",\"2019-07-01T00:00:00.0000000Z\",\"2019-08-01T00:00:00.0000000Z\",\"2019-09-01T00:00:00.0000000Z\",\"2019-10-01T00:00:00.0000000Z\",\"2019-11-01T00:00:00.0000000Z\",\"2019-12-01T00:00:00.0000000Z\",\"2020-01-01T00:00:00.0000000Z\",\"2020-02-01T00:00:00.0000000Z\",\"2020-03-01T00:00:00.0000000Z\",\"2020-04-01T00:00:00.0000000Z\",\"2020-05-01T00:00:00.0000000Z\",\"2020-06-01T00:00:00.0000000Z\",\"2020-07-01T00:00:00.0000000Z\",\"2020-08-01T00:00:00.0000000Z\",\"2020-09-01T00:00:00.0000000Z\",\"2020-10-01T00:00:00.0000000Z\",\"2020-11-01T00:00:00.0000000Z\",\"2020-12-01T00:00:00.0000000Z\",\"2021-01-01T00:00:00.0000000Z\",\"2021-02-01T00:00:00.0000000Z\",\"2021-03-01T00:00:00.0000000Z\",\"2021-04-01T00:00:00.0000000Z\",\"2021-05-01T00:00:00.0000000Z\",\"2021-06-01T00:00:00.0000000Z\",\"2021-07-01T00:00:00.0000000Z\",\"2021-08-01T00:00:00.0000000Z\"],\"value\":{\"__ndarray__\":\"PRvkpYtw9z9h4BIO3qESQA8oqVSCYR1AfTTsfb5qNUBZookHdj46QEwMrEeO6TJA4KWiP/guQkDRaNyXI1M8QLJfJ181gTxAV1u2+sqVREB+f9/f2npRQNAlFABI5llAbHq+kW7rU0Bbazy9uGNCQJdSIfz/YE9A/GHZkeQQS0CKwuveWjtFQAYMUY3aOkRAE3CdLdpkOkBfoRDdw701QMqi0bMJdDJAS2UYKH7tJEDnkxpu14coQDIb5Uz1zyNAHGHoNXs3KUAUXlbrXXwqQB7WNGqEDy5A0EJJLPgTOUDaN5+paCI7QNV1nzoefzRAcBkDlSIdMEAXpYPmuAMxQGI7AhbMGTFAZg25HNpxLEAn/NsO6BooQDi/fBpV1zBAG1I05YVpNEDw0x4/VvMoQCcxOKuqUzNApydOWPe4NUDjGTZhFCc1QJh0A+ELQ0BAiCQ0P5FWREBvMJ2hSttAQPqfHjGoIEJAXjig+RrmTEBM54XLr0dRQNQA+RdlyF5AUCQ9YB+rYEBRoLMGWntmQOAEUFHAQ3BAJe5ECzazb0CRjTF2aqxqQOS6mvjZpW1AyeJXo9HcckA=\",\"dtype\":\"float64\",\"order\":\"little\",\"shape\":[55]}},\"selected\":{\"id\":\"8482\"},\"selection_policy\":{\"id\":\"8500\"}},\"id\":\"8481\",\"type\":\"ColumnDataSource\"},{\"attributes\":{},\"id\":\"8441\",\"type\":\"SaveTool\"},{\"attributes\":{\"source\":{\"id\":\"8527\"}},\"id\":\"8534\",\"type\":\"CDSView\"},{\"attributes\":{\"callback\":null,\"renderers\":[{\"id\":\"8466\"},{\"id\":\"8487\"},{\"id\":\"8509\"},{\"id\":\"8533\"},{\"id\":\"8559\"},{\"id\":\"8587\"}],\"tags\":[\"hv_created\"],\"tooltips\":[[\"Variable\",\"@{Variable}\"],[\"time\",\"@{time}\"],[\"value\",\"@{value}\"]]},\"id\":\"8419\",\"type\":\"HoverTool\"},{\"attributes\":{},\"id\":\"8442\",\"type\":\"PanTool\"},{\"attributes\":{},\"id\":\"8443\",\"type\":\"WheelZoomTool\"},{\"attributes\":{\"line_color\":\"#17becf\",\"line_width\":2,\"x\":{\"field\":\"time\"},\"y\":{\"field\":\"value\"}},\"id\":\"8610\",\"type\":\"Line\"},{\"attributes\":{\"line_alpha\":0.2,\"line_color\":\"#6d904f\",\"line_width\":2,\"x\":{\"field\":\"time\"},\"y\":{\"field\":\"value\"}},\"id\":\"8532\",\"type\":\"Line\"},{\"attributes\":{\"overlay\":{\"id\":\"8446\"}},\"id\":\"8444\",\"type\":\"BoxZoomTool\"},{\"attributes\":{},\"id\":\"8554\",\"type\":\"Selection\"},{\"attributes\":{\"data\":{\"Variable\":[\"xrp_monthly_returns\",\"xrp_monthly_returns\",\"xrp_monthly_returns\",\"xrp_monthly_returns\",\"xrp_monthly_returns\",\"xrp_monthly_returns\",\"xrp_monthly_returns\",\"xrp_monthly_returns\",\"xrp_monthly_returns\",\"xrp_monthly_returns\",\"xrp_monthly_returns\",\"xrp_monthly_returns\",\"xrp_monthly_returns\",\"xrp_monthly_returns\",\"xrp_monthly_returns\",\"xrp_monthly_returns\",\"xrp_monthly_returns\",\"xrp_monthly_returns\",\"xrp_monthly_returns\",\"xrp_monthly_returns\",\"xrp_monthly_returns\",\"xrp_monthly_returns\",\"xrp_monthly_returns\",\"xrp_monthly_returns\",\"xrp_monthly_returns\",\"xrp_monthly_returns\",\"xrp_monthly_returns\",\"xrp_monthly_returns\",\"xrp_monthly_returns\",\"xrp_monthly_returns\",\"xrp_monthly_returns\",\"xrp_monthly_returns\",\"xrp_monthly_returns\",\"xrp_monthly_returns\",\"xrp_monthly_returns\",\"xrp_monthly_returns\",\"xrp_monthly_returns\",\"xrp_monthly_returns\",\"xrp_monthly_returns\",\"xrp_monthly_returns\",\"xrp_monthly_returns\",\"xrp_monthly_returns\",\"xrp_monthly_returns\",\"xrp_monthly_returns\",\"xrp_monthly_returns\",\"xrp_monthly_returns\",\"xrp_monthly_returns\",\"xrp_monthly_returns\",\"xrp_monthly_returns\",\"xrp_monthly_returns\",\"xrp_monthly_returns\",\"xrp_monthly_returns\",\"xrp_monthly_returns\",\"xrp_monthly_returns\",\"xrp_monthly_returns\"],\"time\":[\"2017-02-01T00:00:00.0000000Z\",\"2017-03-01T00:00:00.0000000Z\",\"2017-04-01T00:00:00.0000000Z\",\"2017-05-01T00:00:00.0000000Z\",\"2017-06-01T00:00:00.0000000Z\",\"2017-07-01T00:00:00.0000000Z\",\"2017-08-01T00:00:00.0000000Z\",\"2017-09-01T00:00:00.0000000Z\",\"2017-10-01T00:00:00.0000000Z\",\"2017-11-01T00:00:00.0000000Z\",\"2017-12-01T00:00:00.0000000Z\",\"2018-01-01T00:00:00.0000000Z\",\"2018-02-01T00:00:00.0000000Z\",\"2018-03-01T00:00:00.0000000Z\",\"2018-04-01T00:00:00.0000000Z\",\"2018-05-01T00:00:00.0000000Z\",\"2018-06-01T00:00:00.0000000Z\",\"2018-07-01T00:00:00.0000000Z\",\"2018-08-01T00:00:00.0000000Z\",\"2018-09-01T00:00:00.0000000Z\",\"2018-10-01T00:00:00.0000000Z\",\"2018-11-01T00:00:00.0000000Z\",\"2018-12-01T00:00:00.0000000Z\",\"2019-01-01T00:00:00.0000000Z\",\"2019-02-01T00:00:00.0000000Z\",\"2019-03-01T00:00:00.0000000Z\",\"2019-04-01T00:00:00.0000000Z\",\"2019-05-01T00:00:00.0000000Z\",\"2019-06-01T00:00:00.0000000Z\",\"2019-07-01T00:00:00.0000000Z\",\"2019-08-01T00:00:00.0000000Z\",\"2019-09-01T00:00:00.0000000Z\",\"2019-10-01T00:00:00.0000000Z\",\"2019-11-01T00:00:00.0000000Z\",\"2019-12-01T00:00:00.0000000Z\",\"2020-01-01T00:00:00.0000000Z\",\"2020-02-01T00:00:00.0000000Z\",\"2020-03-01T00:00:00.0000000Z\",\"2020-04-01T00:00:00.0000000Z\",\"2020-05-01T00:00:00.0000000Z\",\"2020-06-01T00:00:00.0000000Z\",\"2020-07-01T00:00:00.0000000Z\",\"2020-08-01T00:00:00.0000000Z\",\"2020-09-01T00:00:00.0000000Z\",\"2020-10-01T00:00:00.0000000Z\",\"2020-11-01T00:00:00.0000000Z\",\"2020-12-01T00:00:00.0000000Z\",\"2021-01-01T00:00:00.0000000Z\",\"2021-02-01T00:00:00.0000000Z\",\"2021-03-01T00:00:00.0000000Z\",\"2021-04-01T00:00:00.0000000Z\",\"2021-05-01T00:00:00.0000000Z\",\"2021-06-01T00:00:00.0000000Z\",\"2021-07-01T00:00:00.0000000Z\",\"2021-08-01T00:00:00.0000000Z\"],\"value\":{\"__ndarray__\":\"eaGyrMZi8D/tOIpkahnrP7X4chYobAtAgtPCEkaGQ0B2hktiZhtDQBaj/lh62jlAdoZLYmZbRECPC/A+pyo/QHv8ix7bKz9AHnyU5IXKQkANOozDAXpzQOgur29H7WVAXJGDj5JcYUAAyZ3QBoNTQIr2pbooRGBAEdaiWTLsV0CPW1ohYFlSQJYfpijtAlFAPe25ObA6SkAfJXmhsqxWQFs0S4bdnVFAmFhn74YVTEBxpgR2QDxLQBSScgM9/0dAkIEw+xt7SEAb++SYtR9IQMHsb+yT40dAtzXyCwMqUUANK18FZbROQAOtouttDUlAZX9jnxwzREDADoiXDhpEQLPn5sDqEEdAi50r4LSwQUCD/7Wy4yg+QMjlvot5tEJA3RxYHaLqQUAQrm3o1TQ7QMSCabzilEBAX3MpE1mxP0Bpyw9TlHY7QCG7cnEBXkRAMkVpF7wGRkA2A5hYZ+9CQEwppZRSykJADszHZA8AWkC4RB/Kny9BQAt+vBn3ZlNAapYMuztPUECB4u/Q4ktWQHy0nZmkU29AsJFfGFBhZEDTYRwO0IVbQMNrwKDDOF1AX/AaMOgwZEA=\",\"dtype\":\"float64\",\"order\":\"little\",\"shape\":[55]}},\"selected\":{\"id\":\"8554\"},\"selection_policy\":{\"id\":\"8578\"}},\"id\":\"8553\",\"type\":\"ColumnDataSource\"},{\"attributes\":{},\"id\":\"8504\",\"type\":\"Selection\"},{\"attributes\":{},\"id\":\"8608\",\"type\":\"UnionRenderers\"},{\"attributes\":{\"line_alpha\":0.1,\"line_color\":\"#17becf\",\"line_width\":2,\"x\":{\"field\":\"time\"},\"y\":{\"field\":\"value\"}},\"id\":\"8585\",\"type\":\"Line\"},{\"attributes\":{\"line_color\":\"#e5ae38\",\"line_width\":2,\"x\":{\"field\":\"time\"},\"y\":{\"field\":\"value\"}},\"id\":\"8526\",\"type\":\"Line\"},{\"attributes\":{\"line_color\":\"#30a2da\",\"line_width\":2,\"x\":{\"field\":\"time\"},\"y\":{\"field\":\"value\"}},\"id\":\"8463\",\"type\":\"Line\"},{\"attributes\":{\"data_source\":{\"id\":\"8527\"},\"glyph\":{\"id\":\"8530\"},\"hover_glyph\":null,\"muted_glyph\":{\"id\":\"8532\"},\"nonselection_glyph\":{\"id\":\"8531\"},\"selection_glyph\":{\"id\":\"8552\"},\"view\":{\"id\":\"8534\"}},\"id\":\"8533\",\"type\":\"GlyphRenderer\"},{\"attributes\":{},\"id\":\"8445\",\"type\":\"ResetTool\"},{\"attributes\":{},\"id\":\"8582\",\"type\":\"Selection\"},{\"attributes\":{},\"id\":\"8524\",\"type\":\"UnionRenderers\"},{\"attributes\":{\"label\":{\"value\":\"eth_monthly_returns\"},\"renderers\":[{\"id\":\"8487\"}]},\"id\":\"8501\",\"type\":\"LegendItem\"},{\"attributes\":{\"line_color\":\"#e5ae38\",\"line_width\":2,\"x\":{\"field\":\"time\"},\"y\":{\"field\":\"value\"}},\"id\":\"8506\",\"type\":\"Line\"},{\"attributes\":{\"line_color\":\"#17becf\",\"line_width\":2,\"x\":{\"field\":\"time\"},\"y\":{\"field\":\"value\"}},\"id\":\"8584\",\"type\":\"Line\"},{\"attributes\":{\"label\":{\"value\":\"ltc_monthly_returns\"},\"renderers\":[{\"id\":\"8509\"}]},\"id\":\"8525\",\"type\":\"LegendItem\"},{\"attributes\":{\"data_source\":{\"id\":\"8481\"},\"glyph\":{\"id\":\"8484\"},\"hover_glyph\":null,\"muted_glyph\":{\"id\":\"8486\"},\"nonselection_glyph\":{\"id\":\"8485\"},\"selection_glyph\":{\"id\":\"8502\"},\"view\":{\"id\":\"8488\"}},\"id\":\"8487\",\"type\":\"GlyphRenderer\"},{\"attributes\":{\"source\":{\"id\":\"8581\"}},\"id\":\"8588\",\"type\":\"CDSView\"},{\"attributes\":{},\"id\":\"8461\",\"type\":\"Selection\"},{\"attributes\":{\"data\":{\"Variable\":[\"ltc_monthly_returns\",\"ltc_monthly_returns\",\"ltc_monthly_returns\",\"ltc_monthly_returns\",\"ltc_monthly_returns\",\"ltc_monthly_returns\",\"ltc_monthly_returns\",\"ltc_monthly_returns\",\"ltc_monthly_returns\",\"ltc_monthly_returns\",\"ltc_monthly_returns\",\"ltc_monthly_returns\",\"ltc_monthly_returns\",\"ltc_monthly_returns\",\"ltc_monthly_returns\",\"ltc_monthly_returns\",\"ltc_monthly_returns\",\"ltc_monthly_returns\",\"ltc_monthly_returns\",\"ltc_monthly_returns\",\"ltc_monthly_returns\",\"ltc_monthly_returns\",\"ltc_monthly_returns\",\"ltc_monthly_returns\",\"ltc_monthly_returns\",\"ltc_monthly_returns\",\"ltc_monthly_returns\",\"ltc_monthly_returns\",\"ltc_monthly_returns\",\"ltc_monthly_returns\",\"ltc_monthly_returns\",\"ltc_monthly_returns\",\"ltc_monthly_returns\",\"ltc_monthly_returns\",\"ltc_monthly_returns\",\"ltc_monthly_returns\",\"ltc_monthly_returns\",\"ltc_monthly_returns\",\"ltc_monthly_returns\",\"ltc_monthly_returns\",\"ltc_monthly_returns\",\"ltc_monthly_returns\",\"ltc_monthly_returns\",\"ltc_monthly_returns\",\"ltc_monthly_returns\",\"ltc_monthly_returns\",\"ltc_monthly_returns\",\"ltc_monthly_returns\",\"ltc_monthly_returns\",\"ltc_monthly_returns\",\"ltc_monthly_returns\",\"ltc_monthly_returns\",\"ltc_monthly_returns\",\"ltc_monthly_returns\",\"ltc_monthly_returns\"],\"time\":[\"2017-02-01T00:00:00.0000000Z\",\"2017-03-01T00:00:00.0000000Z\",\"2017-04-01T00:00:00.0000000Z\",\"2017-05-01T00:00:00.0000000Z\",\"2017-06-01T00:00:00.0000000Z\",\"2017-07-01T00:00:00.0000000Z\",\"2017-08-01T00:00:00.0000000Z\",\"2017-09-01T00:00:00.0000000Z\",\"2017-10-01T00:00:00.0000000Z\",\"2017-11-01T00:00:00.0000000Z\",\"2017-12-01T00:00:00.0000000Z\",\"2018-01-01T00:00:00.0000000Z\",\"2018-02-01T00:00:00.0000000Z\",\"2018-03-01T00:00:00.0000000Z\",\"2018-04-01T00:00:00.0000000Z\",\"2018-05-01T00:00:00.0000000Z\",\"2018-06-01T00:00:00.0000000Z\",\"2018-07-01T00:00:00.0000000Z\",\"2018-08-01T00:00:00.0000000Z\",\"2018-09-01T00:00:00.0000000Z\",\"2018-10-01T00:00:00.0000000Z\",\"2018-11-01T00:00:00.0000000Z\",\"2018-12-01T00:00:00.0000000Z\",\"2019-01-01T00:00:00.0000000Z\",\"2019-02-01T00:00:00.0000000Z\",\"2019-03-01T00:00:00.0000000Z\",\"2019-04-01T00:00:00.0000000Z\",\"2019-05-01T00:00:00.0000000Z\",\"2019-06-01T00:00:00.0000000Z\",\"2019-07-01T00:00:00.0000000Z\",\"2019-08-01T00:00:00.0000000Z\",\"2019-09-01T00:00:00.0000000Z\",\"2019-10-01T00:00:00.0000000Z\",\"2019-11-01T00:00:00.0000000Z\",\"2019-12-01T00:00:00.0000000Z\",\"2020-01-01T00:00:00.0000000Z\",\"2020-02-01T00:00:00.0000000Z\",\"2020-03-01T00:00:00.0000000Z\",\"2020-04-01T00:00:00.0000000Z\",\"2020-05-01T00:00:00.0000000Z\",\"2020-06-01T00:00:00.0000000Z\",\"2020-07-01T00:00:00.0000000Z\",\"2020-08-01T00:00:00.0000000Z\",\"2020-09-01T00:00:00.0000000Z\",\"2020-10-01T00:00:00.0000000Z\",\"2020-11-01T00:00:00.0000000Z\",\"2020-12-01T00:00:00.0000000Z\",\"2021-01-01T00:00:00.0000000Z\",\"2021-02-01T00:00:00.0000000Z\",\"2021-03-01T00:00:00.0000000Z\",\"2021-04-01T00:00:00.0000000Z\",\"2021-05-01T00:00:00.0000000Z\",\"2021-06-01T00:00:00.0000000Z\",\"2021-07-01T00:00:00.0000000Z\",\"2021-08-01T00:00:00.0000000Z\"],\"value\":{\"__ndarray__\":\"bIEp/3E/7T8/TB/MWG37P0B43opOXg5AByBQ3BMAGUDZaiWA9e4iQKkjvW+BiCRAAJ8kWbbJMUAHxYKcw/sqQMS9XsJr5SpAx+a9yzc8NUCwEoRAtupLQOBkOf+FrENAp/NzNYl3SECbIElNiRU8QHvYgDCO/EFAzU8zV8SmPEAOY7AI8KYzQHY0SaaRFzNApsuZmNcjLkA9m6k/444tQLHJoyxx9idAovl9U1mxHkDzYY34n94cQLfTwfyqPB5AgSV19jz9JUA2gCOwuDstQMTKPAZa0jFAZQjRIA/LO0DanLFT2pM9QOTJJA8Q9zdAkyFEgzwsL0D61+DHGjYrQFw0qwJcUixAVnHto5nmJkAPfCy/5fMjQMdWfUZ7bTBAEClzdpovLEBpL7CHDQgjQKVOQXXZeyZALy+lbgcbJkAZgEBxTwAkQIYvk8Z2QyxAo5urBCGQLUBoSSd0tmsmQOHLpLHdECtAYujF3y5BNUBJ0DDyHTI+QMM3staBcD9ACAQUsmkMREDsQLivcdtHQFsZag5ldVBA+egD7NfMRkAFLm7x6HlBQKUw+3H6gUFAbnlao6B1RUA=\",\"dtype\":\"float64\",\"order\":\"little\",\"shape\":[55]}},\"selected\":{\"id\":\"8504\"},\"selection_policy\":{\"id\":\"8524\"}},\"id\":\"8503\",\"type\":\"ColumnDataSource\"},{\"attributes\":{\"line_alpha\":0.2,\"line_color\":\"#17becf\",\"line_width\":2,\"x\":{\"field\":\"time\"},\"y\":{\"field\":\"value\"}},\"id\":\"8586\",\"type\":\"Line\"},{\"attributes\":{\"end\":342.71896742549495,\"reset_end\":342.71896742549495,\"reset_start\":-30.403474126419614,\"start\":-30.403474126419614,\"tags\":[[[\"value\",\"value\",null]]]},\"id\":\"8418\",\"type\":\"Range1d\"},{\"attributes\":{\"line_color\":\"#fc4f30\",\"line_width\":2,\"x\":{\"field\":\"time\"},\"y\":{\"field\":\"value\"}},\"id\":\"8502\",\"type\":\"Line\"},{\"attributes\":{\"line_alpha\":0.1,\"line_color\":\"#fc4f30\",\"line_width\":2,\"x\":{\"field\":\"time\"},\"y\":{\"field\":\"value\"}},\"id\":\"8485\",\"type\":\"Line\"},{\"attributes\":{\"label\":{\"value\":\"zec_monthly_returns\"},\"renderers\":[{\"id\":\"8587\"}]},\"id\":\"8609\",\"type\":\"LegendItem\"},{\"attributes\":{},\"id\":\"8454\",\"type\":\"AllLabels\"},{\"attributes\":{\"data_source\":{\"id\":\"8503\"},\"glyph\":{\"id\":\"8506\"},\"hover_glyph\":null,\"muted_glyph\":{\"id\":\"8508\"},\"nonselection_glyph\":{\"id\":\"8507\"},\"selection_glyph\":{\"id\":\"8526\"},\"view\":{\"id\":\"8510\"}},\"id\":\"8509\",\"type\":\"GlyphRenderer\"},{\"attributes\":{\"data_source\":{\"id\":\"8581\"},\"glyph\":{\"id\":\"8584\"},\"hover_glyph\":null,\"muted_glyph\":{\"id\":\"8586\"},\"nonselection_glyph\":{\"id\":\"8585\"},\"selection_glyph\":{\"id\":\"8610\"},\"view\":{\"id\":\"8588\"}},\"id\":\"8587\",\"type\":\"GlyphRenderer\"},{\"attributes\":{\"source\":{\"id\":\"8481\"}},\"id\":\"8488\",\"type\":\"CDSView\"},{\"attributes\":{},\"id\":\"8482\",\"type\":\"Selection\"},{\"attributes\":{},\"id\":\"8500\",\"type\":\"UnionRenderers\"},{\"attributes\":{\"line_alpha\":0.1,\"line_color\":\"#e5ae38\",\"line_width\":2,\"x\":{\"field\":\"time\"},\"y\":{\"field\":\"value\"}},\"id\":\"8507\",\"type\":\"Line\"},{\"attributes\":{\"bottom_units\":\"screen\",\"fill_alpha\":0.5,\"fill_color\":\"lightgrey\",\"left_units\":\"screen\",\"level\":\"overlay\",\"line_alpha\":1.0,\"line_color\":\"black\",\"line_dash\":[4,4],\"line_width\":2,\"right_units\":\"screen\",\"syncable\":false,\"top_units\":\"screen\"},\"id\":\"8446\",\"type\":\"BoxAnnotation\"},{\"attributes\":{\"line_color\":\"#fc4f30\",\"line_width\":2,\"x\":{\"field\":\"time\"},\"y\":{\"field\":\"value\"}},\"id\":\"8484\",\"type\":\"Line\"},{\"attributes\":{\"data\":{\"Variable\":[\"xlm_monthly_returns\",\"xlm_monthly_returns\",\"xlm_monthly_returns\",\"xlm_monthly_returns\",\"xlm_monthly_returns\",\"xlm_monthly_returns\",\"xlm_monthly_returns\",\"xlm_monthly_returns\",\"xlm_monthly_returns\",\"xlm_monthly_returns\",\"xlm_monthly_returns\",\"xlm_monthly_returns\",\"xlm_monthly_returns\",\"xlm_monthly_returns\",\"xlm_monthly_returns\",\"xlm_monthly_returns\",\"xlm_monthly_returns\",\"xlm_monthly_returns\",\"xlm_monthly_returns\",\"xlm_monthly_returns\",\"xlm_monthly_returns\",\"xlm_monthly_returns\",\"xlm_monthly_returns\",\"xlm_monthly_returns\",\"xlm_monthly_returns\",\"xlm_monthly_returns\",\"xlm_monthly_returns\",\"xlm_monthly_returns\",\"xlm_monthly_returns\",\"xlm_monthly_returns\",\"xlm_monthly_returns\",\"xlm_monthly_returns\",\"xlm_monthly_returns\",\"xlm_monthly_returns\",\"xlm_monthly_returns\",\"xlm_monthly_returns\",\"xlm_monthly_returns\",\"xlm_monthly_returns\",\"xlm_monthly_returns\",\"xlm_monthly_returns\",\"xlm_monthly_returns\",\"xlm_monthly_returns\",\"xlm_monthly_returns\",\"xlm_monthly_returns\",\"xlm_monthly_returns\",\"xlm_monthly_returns\",\"xlm_monthly_returns\",\"xlm_monthly_returns\",\"xlm_monthly_returns\",\"xlm_monthly_returns\",\"xlm_monthly_returns\",\"xlm_monthly_returns\",\"xlm_monthly_returns\",\"xlm_monthly_returns\",\"xlm_monthly_returns\"],\"time\":[\"2017-02-01T00:00:00.0000000Z\",\"2017-03-01T00:00:00.0000000Z\",\"2017-04-01T00:00:00.0000000Z\",\"2017-05-01T00:00:00.0000000Z\",\"2017-06-01T00:00:00.0000000Z\",\"2017-07-01T00:00:00.0000000Z\",\"2017-08-01T00:00:00.0000000Z\",\"2017-09-01T00:00:00.0000000Z\",\"2017-10-01T00:00:00.0000000Z\",\"2017-11-01T00:00:00.0000000Z\",\"2017-12-01T00:00:00.0000000Z\",\"2018-01-01T00:00:00.0000000Z\",\"2018-02-01T00:00:00.0000000Z\",\"2018-03-01T00:00:00.0000000Z\",\"2018-04-01T00:00:00.0000000Z\",\"2018-05-01T00:00:00.0000000Z\",\"2018-06-01T00:00:00.0000000Z\",\"2018-07-01T00:00:00.0000000Z\",\"2018-08-01T00:00:00.0000000Z\",\"2018-09-01T00:00:00.0000000Z\",\"2018-10-01T00:00:00.0000000Z\",\"2018-11-01T00:00:00.0000000Z\",\"2018-12-01T00:00:00.0000000Z\",\"2019-01-01T00:00:00.0000000Z\",\"2019-02-01T00:00:00.0000000Z\",\"2019-03-01T00:00:00.0000000Z\",\"2019-04-01T00:00:00.0000000Z\",\"2019-05-01T00:00:00.0000000Z\",\"2019-06-01T00:00:00.0000000Z\",\"2019-07-01T00:00:00.0000000Z\",\"2019-08-01T00:00:00.0000000Z\",\"2019-09-01T00:00:00.0000000Z\",\"2019-10-01T00:00:00.0000000Z\",\"2019-11-01T00:00:00.0000000Z\",\"2019-12-01T00:00:00.0000000Z\",\"2020-01-01T00:00:00.0000000Z\",\"2020-02-01T00:00:00.0000000Z\",\"2020-03-01T00:00:00.0000000Z\",\"2020-04-01T00:00:00.0000000Z\",\"2020-05-01T00:00:00.0000000Z\",\"2020-06-01T00:00:00.0000000Z\",\"2020-07-01T00:00:00.0000000Z\",\"2020-08-01T00:00:00.0000000Z\",\"2020-09-01T00:00:00.0000000Z\",\"2020-10-01T00:00:00.0000000Z\",\"2020-11-01T00:00:00.0000000Z\",\"2020-12-01T00:00:00.0000000Z\",\"2021-01-01T00:00:00.0000000Z\",\"2021-02-01T00:00:00.0000000Z\",\"2021-03-01T00:00:00.0000000Z\",\"2021-04-01T00:00:00.0000000Z\",\"2021-05-01T00:00:00.0000000Z\",\"2021-06-01T00:00:00.0000000Z\",\"2021-07-01T00:00:00.0000000Z\",\"2021-08-01T00:00:00.0000000Z\"],\"value\":{\"__ndarray__\":\"a6ER/AyX7D9Di0OVf/3wPyhdCvUr4wFA/C2mCYOkL0CD6zvV2tcoQLffYpowSB5ANe8IER0cLED61w9fOl4tQJpRV+ciPy5AhpJKdjMQOkDtjE3R525FQJ4/ohYawR9AU++bp+0xY0DgYpowSLpXQBLgG16iqWhAnD+iFhpBYUCtGqDAg1ZWQK7YgeYdAWBAy/QFtmj9WUCIq+D6TjVeQCizoJ90KVpA/5e0hK47UkBXr0DNYW9JQOFVAxR40EJAFLJ1VB+FQ0C7EY+jZxJJQMYnynMkNkdANtC8I0T0TkA1mzVmrihIQHMu8mPFe0NASAnK4I3lPEC7mukLbNE8QMVI2WDXMD5AKqHrzmurOkCt02My5cw0QN5nuOSATjxAylxRMbqBOkCHoaSS3QwzQEOfu2ViTj9AjhDRwUF4QEDZbzFNGCQ/QLmGcTuJgEZAaOMv1nKMRkBpCV13XltBQK8aoMCDFkJAdOKXIe6dV0Chjb9Yy7FNQLVt27Zt22FAyLpgRJqdZ0C8LYDc4ZhnQLpOj8mU025AjYJYpQRlZ0DyTPL2W4xgQLPQCH6Gi2BA4XYSASsrZEA=\",\"dtype\":\"float64\",\"order\":\"little\",\"shape\":[55]}},\"selected\":{\"id\":\"8528\"},\"selection_policy\":{\"id\":\"8550\"}},\"id\":\"8527\",\"type\":\"ColumnDataSource\"},{\"attributes\":{\"line_color\":\"#8b8b8b\",\"line_width\":2,\"x\":{\"field\":\"time\"},\"y\":{\"field\":\"value\"}},\"id\":\"8556\",\"type\":\"Line\"},{\"attributes\":{\"factors\":[\"2017-02-01T00:00:00.0000000Z\",\"2017-03-01T00:00:00.0000000Z\",\"2017-04-01T00:00:00.0000000Z\",\"2017-05-01T00:00:00.0000000Z\",\"2017-06-01T00:00:00.0000000Z\",\"2017-07-01T00:00:00.0000000Z\",\"2017-08-01T00:00:00.0000000Z\",\"2017-09-01T00:00:00.0000000Z\",\"2017-10-01T00:00:00.0000000Z\",\"2017-11-01T00:00:00.0000000Z\",\"2017-12-01T00:00:00.0000000Z\",\"2018-01-01T00:00:00.0000000Z\",\"2018-02-01T00:00:00.0000000Z\",\"2018-03-01T00:00:00.0000000Z\",\"2018-04-01T00:00:00.0000000Z\",\"2018-05-01T00:00:00.0000000Z\",\"2018-06-01T00:00:00.0000000Z\",\"2018-07-01T00:00:00.0000000Z\",\"2018-08-01T00:00:00.0000000Z\",\"2018-09-01T00:00:00.0000000Z\",\"2018-10-01T00:00:00.0000000Z\",\"2018-11-01T00:00:00.0000000Z\",\"2018-12-01T00:00:00.0000000Z\",\"2019-01-01T00:00:00.0000000Z\",\"2019-02-01T00:00:00.0000000Z\",\"2019-03-01T00:00:00.0000000Z\",\"2019-04-01T00:00:00.0000000Z\",\"2019-05-01T00:00:00.0000000Z\",\"2019-06-01T00:00:00.0000000Z\",\"2019-07-01T00:00:00.0000000Z\",\"2019-08-01T00:00:00.0000000Z\",\"2019-09-01T00:00:00.0000000Z\",\"2019-10-01T00:00:00.0000000Z\",\"2019-11-01T00:00:00.0000000Z\",\"2019-12-01T00:00:00.0000000Z\",\"2020-01-01T00:00:00.0000000Z\",\"2020-02-01T00:00:00.0000000Z\",\"2020-03-01T00:00:00.0000000Z\",\"2020-04-01T00:00:00.0000000Z\",\"2020-05-01T00:00:00.0000000Z\",\"2020-06-01T00:00:00.0000000Z\",\"2020-07-01T00:00:00.0000000Z\",\"2020-08-01T00:00:00.0000000Z\",\"2020-09-01T00:00:00.0000000Z\",\"2020-10-01T00:00:00.0000000Z\",\"2020-11-01T00:00:00.0000000Z\",\"2020-12-01T00:00:00.0000000Z\",\"2021-01-01T00:00:00.0000000Z\",\"2021-02-01T00:00:00.0000000Z\",\"2021-03-01T00:00:00.0000000Z\",\"2021-04-01T00:00:00.0000000Z\",\"2021-05-01T00:00:00.0000000Z\",\"2021-06-01T00:00:00.0000000Z\",\"2021-07-01T00:00:00.0000000Z\",\"2021-08-01T00:00:00.0000000Z\"],\"tags\":[[[\"time\",\"time\",null]]]},\"id\":\"8417\",\"type\":\"FactorRange\"},{\"attributes\":{\"line_alpha\":0.2,\"line_color\":\"#fc4f30\",\"line_width\":2,\"x\":{\"field\":\"time\"},\"y\":{\"field\":\"value\"}},\"id\":\"8486\",\"type\":\"Line\"},{\"attributes\":{\"source\":{\"id\":\"8460\"}},\"id\":\"8467\",\"type\":\"CDSView\"},{\"attributes\":{\"data_source\":{\"id\":\"8553\"},\"glyph\":{\"id\":\"8556\"},\"hover_glyph\":null,\"muted_glyph\":{\"id\":\"8558\"},\"nonselection_glyph\":{\"id\":\"8557\"},\"selection_glyph\":{\"id\":\"8580\"},\"view\":{\"id\":\"8560\"}},\"id\":\"8559\",\"type\":\"GlyphRenderer\"},{\"attributes\":{\"margin\":[5,5,5,5],\"name\":\"HSpacer18775\",\"sizing_mode\":\"stretch_width\"},\"id\":\"8416\",\"type\":\"Spacer\"},{\"attributes\":{\"source\":{\"id\":\"8503\"}},\"id\":\"8510\",\"type\":\"CDSView\"},{\"attributes\":{\"line_color\":\"#8b8b8b\",\"line_width\":2,\"x\":{\"field\":\"time\"},\"y\":{\"field\":\"value\"}},\"id\":\"8580\",\"type\":\"Line\"},{\"attributes\":{\"label\":{\"value\":\"xrp_monthly_returns\"},\"renderers\":[{\"id\":\"8559\"}]},\"id\":\"8579\",\"type\":\"LegendItem\"},{\"attributes\":{\"data_source\":{\"id\":\"8460\"},\"glyph\":{\"id\":\"8463\"},\"hover_glyph\":null,\"muted_glyph\":{\"id\":\"8465\"},\"nonselection_glyph\":{\"id\":\"8464\"},\"selection_glyph\":{\"id\":\"8480\"},\"view\":{\"id\":\"8467\"}},\"id\":\"8466\",\"type\":\"GlyphRenderer\"},{\"attributes\":{\"line_alpha\":0.2,\"line_color\":\"#e5ae38\",\"line_width\":2,\"x\":{\"field\":\"time\"},\"y\":{\"field\":\"value\"}},\"id\":\"8508\",\"type\":\"Line\"},{\"attributes\":{\"line_color\":\"#30a2da\",\"line_width\":2,\"x\":{\"field\":\"time\"},\"y\":{\"field\":\"value\"}},\"id\":\"8480\",\"type\":\"Line\"},{\"attributes\":{},\"id\":\"8458\",\"type\":\"AllLabels\"},{\"attributes\":{},\"id\":\"8430\",\"type\":\"CategoricalScale\"},{\"attributes\":{\"source\":{\"id\":\"8553\"}},\"id\":\"8560\",\"type\":\"CDSView\"},{\"attributes\":{},\"id\":\"8459\",\"type\":\"BasicTickFormatter\"},{\"attributes\":{\"line_alpha\":0.1,\"line_color\":\"#8b8b8b\",\"line_width\":2,\"x\":{\"field\":\"time\"},\"y\":{\"field\":\"value\"}},\"id\":\"8557\",\"type\":\"Line\"},{\"attributes\":{\"data\":{\"Variable\":[\"btc_monthly_returns\",\"btc_monthly_returns\",\"btc_monthly_returns\",\"btc_monthly_returns\",\"btc_monthly_returns\",\"btc_monthly_returns\",\"btc_monthly_returns\",\"btc_monthly_returns\",\"btc_monthly_returns\",\"btc_monthly_returns\",\"btc_monthly_returns\",\"btc_monthly_returns\",\"btc_monthly_returns\",\"btc_monthly_returns\",\"btc_monthly_returns\",\"btc_monthly_returns\",\"btc_monthly_returns\",\"btc_monthly_returns\",\"btc_monthly_returns\",\"btc_monthly_returns\",\"btc_monthly_returns\",\"btc_monthly_returns\",\"btc_monthly_returns\",\"btc_monthly_returns\",\"btc_monthly_returns\",\"btc_monthly_returns\",\"btc_monthly_returns\",\"btc_monthly_returns\",\"btc_monthly_returns\",\"btc_monthly_returns\",\"btc_monthly_returns\",\"btc_monthly_returns\",\"btc_monthly_returns\",\"btc_monthly_returns\",\"btc_monthly_returns\",\"btc_monthly_returns\",\"btc_monthly_returns\",\"btc_monthly_returns\",\"btc_monthly_returns\",\"btc_monthly_returns\",\"btc_monthly_returns\",\"btc_monthly_returns\",\"btc_monthly_returns\",\"btc_monthly_returns\",\"btc_monthly_returns\",\"btc_monthly_returns\",\"btc_monthly_returns\",\"btc_monthly_returns\",\"btc_monthly_returns\",\"btc_monthly_returns\",\"btc_monthly_returns\",\"btc_monthly_returns\",\"btc_monthly_returns\",\"btc_monthly_returns\",\"btc_monthly_returns\"],\"time\":[\"2017-02-01T00:00:00.0000000Z\",\"2017-03-01T00:00:00.0000000Z\",\"2017-04-01T00:00:00.0000000Z\",\"2017-05-01T00:00:00.0000000Z\",\"2017-06-01T00:00:00.0000000Z\",\"2017-07-01T00:00:00.0000000Z\",\"2017-08-01T00:00:00.0000000Z\",\"2017-09-01T00:00:00.0000000Z\",\"2017-10-01T00:00:00.0000000Z\",\"2017-11-01T00:00:00.0000000Z\",\"2017-12-01T00:00:00.0000000Z\",\"2018-01-01T00:00:00.0000000Z\",\"2018-02-01T00:00:00.0000000Z\",\"2018-03-01T00:00:00.0000000Z\",\"2018-04-01T00:00:00.0000000Z\",\"2018-05-01T00:00:00.0000000Z\",\"2018-06-01T00:00:00.0000000Z\",\"2018-07-01T00:00:00.0000000Z\",\"2018-08-01T00:00:00.0000000Z\",\"2018-09-01T00:00:00.0000000Z\",\"2018-10-01T00:00:00.0000000Z\",\"2018-11-01T00:00:00.0000000Z\",\"2018-12-01T00:00:00.0000000Z\",\"2019-01-01T00:00:00.0000000Z\",\"2019-02-01T00:00:00.0000000Z\",\"2019-03-01T00:00:00.0000000Z\",\"2019-04-01T00:00:00.0000000Z\",\"2019-05-01T00:00:00.0000000Z\",\"2019-06-01T00:00:00.0000000Z\",\"2019-07-01T00:00:00.0000000Z\",\"2019-08-01T00:00:00.0000000Z\",\"2019-09-01T00:00:00.0000000Z\",\"2019-10-01T00:00:00.0000000Z\",\"2019-11-01T00:00:00.0000000Z\",\"2019-12-01T00:00:00.0000000Z\",\"2020-01-01T00:00:00.0000000Z\",\"2020-02-01T00:00:00.0000000Z\",\"2020-03-01T00:00:00.0000000Z\",\"2020-04-01T00:00:00.0000000Z\",\"2020-05-01T00:00:00.0000000Z\",\"2020-06-01T00:00:00.0000000Z\",\"2020-07-01T00:00:00.0000000Z\",\"2020-08-01T00:00:00.0000000Z\",\"2020-09-01T00:00:00.0000000Z\",\"2020-10-01T00:00:00.0000000Z\",\"2020-11-01T00:00:00.0000000Z\",\"2020-12-01T00:00:00.0000000Z\",\"2021-01-01T00:00:00.0000000Z\",\"2021-02-01T00:00:00.0000000Z\",\"2021-03-01T00:00:00.0000000Z\",\"2021-04-01T00:00:00.0000000Z\",\"2021-05-01T00:00:00.0000000Z\",\"2021-06-01T00:00:00.0000000Z\",\"2021-07-01T00:00:00.0000000Z\",\"2021-08-01T00:00:00.0000000Z\"],\"value\":{\"__ndarray__\":\"wjvLnRp48z/j8osEy9DxP8izQGsuSfY/9z28mQTnAkD2hJi+nSsEQAExzi4hugdAFXbjHVeKE0AExJivEOsRQFllfE1QhhpA1FnjQ3/OJEAINUpcZtosQDNjpeNp1SRAP6T2rXFDJUBlATUnzoEcQPjZ+LQyECNAkAItdHPgHkA42vt8VFkaQGaJVmlN3h9Ag14IG13wHEDgqyWZoD0bQBprdWpuBBpArWefNYFfEEASFRlx9HQOQJAM/lnDIAxADfBAd/JLD0C5mBgBWOQQQDi/fq8zvxVAmVnVR7yjIUA78g7l9ywmQFkgTYZXzyRAIw2ZwdnOI0D/T3tlfSMhQNJEbY8/3SJA1q9IOdotH0Ah0QuPZZEdQH796cnvQiNAo/DvayuXIUDnwCWUcX0aQBb2gzc7zCFA6HH00AJ8I0CrEB98fdYiQJuS4k/QaydAsb9pkZMKKEBPBiWP5jgmQAf4cofjeixApvBHgLZSNEC6f7m+5dw9QM8T/RzqE0FA4Y09SiJUR0Cc/e8rcU9OQMMaiiKhyk1AG23HX+M7Q0CqIYfc5RFCQFq0qaA+ZEVAcJMdN9zFR0A=\",\"dtype\":\"float64\",\"order\":\"little\",\"shape\":[55]}},\"selected\":{\"id\":\"8461\"},\"selection_policy\":{\"id\":\"8477\"}},\"id\":\"8460\",\"type\":\"ColumnDataSource\"},{\"attributes\":{\"children\":[{\"id\":\"8416\"},{\"id\":\"8425\"},{\"id\":\"8791\"}],\"margin\":[0,0,0,0],\"name\":\"Row18771\",\"tags\":[\"embedded\"]},\"id\":\"8415\",\"type\":\"Row\"},{\"attributes\":{},\"id\":\"8432\",\"type\":\"LinearScale\"},{\"attributes\":{\"below\":[{\"id\":\"8434\"}],\"center\":[{\"id\":\"8436\"},{\"id\":\"8440\"}],\"left\":[{\"id\":\"8437\"}],\"margin\":[5,5,5,5],\"min_border_bottom\":10,\"min_border_left\":10,\"min_border_right\":10,\"min_border_top\":10,\"renderers\":[{\"id\":\"8466\"},{\"id\":\"8487\"},{\"id\":\"8509\"},{\"id\":\"8533\"},{\"id\":\"8559\"},{\"id\":\"8587\"}],\"right\":[{\"id\":\"8478\"}],\"sizing_mode\":\"fixed\",\"title\":{\"id\":\"8426\"},\"toolbar\":{\"id\":\"8447\"},\"width\":1200,\"x_range\":{\"id\":\"8417\"},\"x_scale\":{\"id\":\"8430\"},\"y_range\":{\"id\":\"8418\"},\"y_scale\":{\"id\":\"8432\"}},\"id\":\"8425\",\"subtype\":\"Figure\",\"type\":\"Plot\"},{\"attributes\":{\"text\":\"Cumulative Returns 2017 - 2021\",\"text_color\":\"black\",\"text_font_size\":\"20pt\"},\"id\":\"8426\",\"type\":\"Title\"}],\"root_ids\":[\"8415\"]},\"title\":\"Bokeh Application\",\"version\":\"2.3.2\"}};\n",
       "    var render_items = [{\"docid\":\"b3fdf6be-b9f1-4104-bfc6-96693d73a0d4\",\"root_ids\":[\"8415\"],\"roots\":{\"8415\":\"6cb444e8-6efd-4a8f-89eb-9a0bf290655f\"}}];\n",
       "    root.Bokeh.embed.embed_items_notebook(docs_json, render_items);\n",
       "  }\n",
       "  if (root.Bokeh !== undefined && root.Bokeh.Panel !== undefined) {\n",
       "    embed_document(root);\n",
       "  } else {\n",
       "    var attempts = 0;\n",
       "    var timer = setInterval(function(root) {\n",
       "      if (root.Bokeh !== undefined && root.Bokeh.Panel !== undefined) {\n",
       "        clearInterval(timer);\n",
       "        embed_document(root);\n",
       "      } else if (document.readyState == \"complete\") {\n",
       "        attempts++;\n",
       "        if (attempts > 200) {\n",
       "          clearInterval(timer);\n",
       "          console.log(\"Bokeh: ERROR: Unable to run BokehJS code because BokehJS library is missing\");\n",
       "        }\n",
       "      }\n",
       "    }, 25, root)\n",
       "  }\n",
       "})(window);</script>"
      ],
      "text/plain": [
       ":NdOverlay   [Variable]\n",
       "   :Curve   [time]   (value)"
      ]
     },
     "execution_count": 36,
     "metadata": {
      "application/vnd.holoviews_exec.v0+json": {
       "id": "8415"
      }
     },
     "output_type": "execute_result"
    }
   ],
   "source": [
    "cumulative_returns.hvplot.line(height=600,width=1200, title=\"Cumulative Returns 2017 - 2021\",ylabel=\"Cumulative Returns\" ,xlabel='Time',rot=45).opts(fontsize={'title':20,'ylabel':13,'xlabel':13})"
   ]
  },
  {
   "cell_type": "code",
   "execution_count": 14,
   "id": "f9b91461-0904-4f59-9564-ff31e233f6cf",
   "metadata": {},
   "outputs": [],
   "source": [
    "standard_deviation = monthly_returns.std().sort_values()"
   ]
  },
  {
   "cell_type": "code",
   "execution_count": 15,
   "id": "73b38bc0-e5d3-4809-805a-0ba94ce21ffb",
   "metadata": {},
   "outputs": [],
   "source": [
    "annualized_standard_deviation = standard_deviation * np.sqrt(365)"
   ]
  },
  {
   "cell_type": "code",
   "execution_count": 39,
   "id": "84997bd6-f33e-4d93-96ea-4a6a9a9d0951",
   "metadata": {},
   "outputs": [
    {
     "data": {},
     "metadata": {},
     "output_type": "display_data"
    },
    {
     "data": {
      "application/vnd.holoviews_exec.v0+json": "",
      "text/html": [
       "<div id='9133'>\n",
       "\n",
       "\n",
       "\n",
       "\n",
       "\n",
       "  <div class=\"bk-root\" id=\"dfc3c24f-b778-471a-88a3-4edc7f05fbf0\" data-root-id=\"9133\"></div>\n",
       "</div>\n",
       "<script type=\"application/javascript\">(function(root) {\n",
       "  function embed_document(root) {\n",
       "    var docs_json = {\"31429bb4-c435-46a5-ae7c-1904a855e749\":{\"defs\":[{\"extends\":null,\"module\":null,\"name\":\"ReactiveHTML1\",\"overrides\":[],\"properties\":[]},{\"extends\":null,\"module\":null,\"name\":\"FlexBox1\",\"overrides\":[],\"properties\":[{\"default\":\"flex-start\",\"kind\":null,\"name\":\"align_content\"},{\"default\":\"flex-start\",\"kind\":null,\"name\":\"align_items\"},{\"default\":\"row\",\"kind\":null,\"name\":\"flex_direction\"},{\"default\":\"wrap\",\"kind\":null,\"name\":\"flex_wrap\"},{\"default\":\"flex-start\",\"kind\":null,\"name\":\"justify_content\"}]},{\"extends\":null,\"module\":null,\"name\":\"TemplateActions1\",\"overrides\":[],\"properties\":[{\"default\":0,\"kind\":null,\"name\":\"open_modal\"},{\"default\":0,\"kind\":null,\"name\":\"close_modal\"}]},{\"extends\":null,\"module\":null,\"name\":\"MaterialTemplateActions1\",\"overrides\":[],\"properties\":[{\"default\":0,\"kind\":null,\"name\":\"open_modal\"},{\"default\":0,\"kind\":null,\"name\":\"close_modal\"}]}],\"roots\":{\"references\":[{\"attributes\":{\"factors\":[\"btc_monthly_returns\",\"ltc_monthly_returns\",\"zec_monthly_returns\",\"eth_monthly_returns\",\"xrp_monthly_returns\",\"xlm_monthly_returns\"],\"tags\":[[[\"index\",\"index\",null]]]},\"id\":\"9135\",\"type\":\"FactorRange\"},{\"attributes\":{\"axis\":{\"id\":\"9150\"},\"dimension\":1,\"grid_line_color\":null,\"ticker\":null},\"id\":\"9153\",\"type\":\"Grid\"},{\"attributes\":{\"fill_color\":{\"value\":\"#30a2da\"},\"top\":{\"field\":\"A_0\"},\"width\":{\"value\":0.8},\"x\":{\"field\":\"index\"}},\"id\":\"9170\",\"type\":\"VBar\"},{\"attributes\":{},\"id\":\"9151\",\"type\":\"BasicTicker\"},{\"attributes\":{\"bottom_units\":\"screen\",\"fill_alpha\":0.5,\"fill_color\":\"lightgrey\",\"left_units\":\"screen\",\"level\":\"overlay\",\"line_alpha\":1.0,\"line_color\":\"black\",\"line_dash\":[4,4],\"line_width\":2,\"right_units\":\"screen\",\"syncable\":false,\"top_units\":\"screen\"},\"id\":\"9159\",\"type\":\"BoxAnnotation\"},{\"attributes\":{},\"id\":\"9191\",\"type\":\"UnionRenderers\"},{\"attributes\":{\"data\":{\"A_0\":{\"__ndarray__\":\"0LKFS7PQE0BYYgEnjUQfQIY6zpugYh9AhdDrUBkSI0DOsqRJsAxBQHOofO9fAElA\",\"dtype\":\"float64\",\"order\":\"little\",\"shape\":[6]},\"index\":[\"btc_monthly_returns\",\"ltc_monthly_returns\",\"zec_monthly_returns\",\"eth_monthly_returns\",\"xrp_monthly_returns\",\"xlm_monthly_returns\"]},\"selected\":{\"id\":\"9168\"},\"selection_policy\":{\"id\":\"9191\"}},\"id\":\"9167\",\"type\":\"ColumnDataSource\"},{\"attributes\":{\"fill_alpha\":{\"value\":0.1},\"fill_color\":{\"value\":\"#30a2da\"},\"line_alpha\":{\"value\":0.1},\"top\":{\"field\":\"A_0\"},\"width\":{\"value\":0.8},\"x\":{\"field\":\"index\"}},\"id\":\"9171\",\"type\":\"VBar\"},{\"attributes\":{\"source\":{\"id\":\"9167\"}},\"id\":\"9174\",\"type\":\"CDSView\"},{\"attributes\":{},\"id\":\"9145\",\"type\":\"LinearScale\"},{\"attributes\":{},\"id\":\"9168\",\"type\":\"Selection\"},{\"attributes\":{\"active_multi\":null,\"tools\":[{\"id\":\"9137\"},{\"id\":\"9154\"},{\"id\":\"9155\"},{\"id\":\"9156\"},{\"id\":\"9157\"},{\"id\":\"9158\"}]},\"id\":\"9160\",\"type\":\"Toolbar\"},{\"attributes\":{\"callback\":null,\"renderers\":[{\"id\":\"9173\"}],\"tags\":[\"hv_created\"],\"tooltips\":[[\"index\",\"@{index}\"],[\"0\",\"@{A_0}\"]]},\"id\":\"9137\",\"type\":\"HoverTool\"},{\"attributes\":{\"data_source\":{\"id\":\"9167\"},\"glyph\":{\"id\":\"9170\"},\"hover_glyph\":null,\"muted_glyph\":{\"id\":\"9172\"},\"nonselection_glyph\":{\"id\":\"9171\"},\"selection_glyph\":{\"id\":\"9175\"},\"view\":{\"id\":\"9174\"}},\"id\":\"9173\",\"type\":\"GlyphRenderer\"},{\"attributes\":{\"margin\":[5,5,5,5],\"name\":\"HSpacer20119\",\"sizing_mode\":\"stretch_width\"},\"id\":\"9134\",\"type\":\"Spacer\"},{\"attributes\":{\"end\":54.50783959527154,\"reset_end\":54.50783959527154,\"reset_start\":0.0,\"tags\":[[[\"0\",\"0\",null]]]},\"id\":\"9136\",\"type\":\"Range1d\"},{\"attributes\":{},\"id\":\"9154\",\"type\":\"SaveTool\"},{\"attributes\":{\"bottom\":{\"value\":0},\"fill_alpha\":{\"value\":1.0},\"fill_color\":{\"value\":\"#30a2da\"},\"hatch_alpha\":{\"value\":1.0},\"hatch_color\":{\"value\":\"black\"},\"hatch_scale\":{\"value\":12.0},\"hatch_weight\":{\"value\":1.0},\"line_alpha\":{\"value\":1.0},\"line_cap\":{\"value\":\"butt\"},\"line_color\":{\"value\":\"black\"},\"line_dash\":{\"value\":[]},\"line_dash_offset\":{\"value\":0},\"line_join\":{\"value\":\"bevel\"},\"line_width\":{\"value\":1},\"top\":{\"field\":\"A_0\"},\"width\":{\"value\":0.8},\"x\":{\"field\":\"index\"}},\"id\":\"9175\",\"type\":\"VBar\"},{\"attributes\":{},\"id\":\"9155\",\"type\":\"PanTool\"},{\"attributes\":{},\"id\":\"9177\",\"type\":\"CategoricalTickFormatter\"},{\"attributes\":{},\"id\":\"9156\",\"type\":\"WheelZoomTool\"},{\"attributes\":{\"axis_label\":\"Time\",\"axis_label_text_font_size\":\"13pt\",\"formatter\":{\"id\":\"9177\"},\"major_label_orientation\":0.7853981633974483,\"major_label_policy\":{\"id\":\"9176\"},\"ticker\":{\"id\":\"9148\"}},\"id\":\"9147\",\"type\":\"CategoricalAxis\"},{\"attributes\":{},\"id\":\"9180\",\"type\":\"AllLabels\"},{\"attributes\":{\"below\":[{\"id\":\"9147\"}],\"center\":[{\"id\":\"9149\"},{\"id\":\"9153\"}],\"left\":[{\"id\":\"9150\"}],\"margin\":[5,5,5,5],\"min_border_bottom\":10,\"min_border_left\":10,\"min_border_right\":10,\"min_border_top\":10,\"renderers\":[{\"id\":\"9173\"}],\"sizing_mode\":\"fixed\",\"title\":{\"id\":\"9139\"},\"toolbar\":{\"id\":\"9160\"},\"width\":1200,\"x_range\":{\"id\":\"9135\"},\"x_scale\":{\"id\":\"9143\"},\"y_range\":{\"id\":\"9136\"},\"y_scale\":{\"id\":\"9145\"}},\"id\":\"9138\",\"subtype\":\"Figure\",\"type\":\"Plot\"},{\"attributes\":{\"overlay\":{\"id\":\"9159\"}},\"id\":\"9157\",\"type\":\"BoxZoomTool\"},{\"attributes\":{},\"id\":\"9176\",\"type\":\"AllLabels\"},{\"attributes\":{},\"id\":\"9143\",\"type\":\"CategoricalScale\"},{\"attributes\":{\"fill_alpha\":{\"value\":0.2},\"fill_color\":{\"value\":\"#30a2da\"},\"line_alpha\":{\"value\":0.2},\"top\":{\"field\":\"A_0\"},\"width\":{\"value\":0.8},\"x\":{\"field\":\"index\"}},\"id\":\"9172\",\"type\":\"VBar\"},{\"attributes\":{},\"id\":\"9181\",\"type\":\"BasicTickFormatter\"},{\"attributes\":{\"children\":[{\"id\":\"9134\"},{\"id\":\"9138\"},{\"id\":\"9202\"}],\"margin\":[0,0,0,0],\"name\":\"Row20115\",\"tags\":[\"embedded\"]},\"id\":\"9133\",\"type\":\"Row\"},{\"attributes\":{},\"id\":\"9158\",\"type\":\"ResetTool\"},{\"attributes\":{\"text\":\"Volatility 2017 - 2021\",\"text_color\":\"black\",\"text_font_size\":\"20pt\"},\"id\":\"9139\",\"type\":\"Title\"},{\"attributes\":{\"margin\":[5,5,5,5],\"name\":\"HSpacer20120\",\"sizing_mode\":\"stretch_width\"},\"id\":\"9202\",\"type\":\"Spacer\"},{\"attributes\":{},\"id\":\"9148\",\"type\":\"CategoricalTicker\"},{\"attributes\":{\"axis_label\":\"Monthly Returns\",\"axis_label_text_font_size\":\"13pt\",\"formatter\":{\"id\":\"9181\"},\"major_label_policy\":{\"id\":\"9180\"},\"ticker\":{\"id\":\"9151\"}},\"id\":\"9150\",\"type\":\"LinearAxis\"},{\"attributes\":{\"axis\":{\"id\":\"9147\"},\"grid_line_color\":null,\"ticker\":null},\"id\":\"9149\",\"type\":\"Grid\"}],\"root_ids\":[\"9133\"]},\"title\":\"Bokeh Application\",\"version\":\"2.3.2\"}};\n",
       "    var render_items = [{\"docid\":\"31429bb4-c435-46a5-ae7c-1904a855e749\",\"root_ids\":[\"9133\"],\"roots\":{\"9133\":\"dfc3c24f-b778-471a-88a3-4edc7f05fbf0\"}}];\n",
       "    root.Bokeh.embed.embed_items_notebook(docs_json, render_items);\n",
       "  }\n",
       "  if (root.Bokeh !== undefined && root.Bokeh.Panel !== undefined) {\n",
       "    embed_document(root);\n",
       "  } else {\n",
       "    var attempts = 0;\n",
       "    var timer = setInterval(function(root) {\n",
       "      if (root.Bokeh !== undefined && root.Bokeh.Panel !== undefined) {\n",
       "        clearInterval(timer);\n",
       "        embed_document(root);\n",
       "      } else if (document.readyState == \"complete\") {\n",
       "        attempts++;\n",
       "        if (attempts > 200) {\n",
       "          clearInterval(timer);\n",
       "          console.log(\"Bokeh: ERROR: Unable to run BokehJS code because BokehJS library is missing\");\n",
       "        }\n",
       "      }\n",
       "    }, 25, root)\n",
       "  }\n",
       "})(window);</script>"
      ],
      "text/plain": [
       ":Bars   [index]   (0)"
      ]
     },
     "execution_count": 39,
     "metadata": {
      "application/vnd.holoviews_exec.v0+json": {
       "id": "9133"
      }
     },
     "output_type": "execute_result"
    }
   ],
   "source": [
    "annualized_standard_deviation.hvplot.bar(height=600,width=1200, title=\"Volatility 2017 - 2021\",ylabel=\"Monthly Returns\" ,xlabel='Time',rot=45).opts(fontsize={'title':20,'ylabel':13,'xlabel':13})"
   ]
  }
 ],
 "metadata": {
  "kernelspec": {
   "display_name": "dev",
   "language": "python",
   "name": "dev"
  },
  "language_info": {
   "codemirror_mode": {
    "name": "ipython",
    "version": 3
   },
   "file_extension": ".py",
   "mimetype": "text/x-python",
   "name": "python",
   "nbconvert_exporter": "python",
   "pygments_lexer": "ipython3",
   "version": "3.7.10"
  }
 },
 "nbformat": 4,
 "nbformat_minor": 5
}
